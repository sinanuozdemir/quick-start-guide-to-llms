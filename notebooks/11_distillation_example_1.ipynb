{
 "cells": [
  {
   "cell_type": "markdown",
   "id": "1c2cca7e",
   "metadata": {},
   "source": [
    "# Distilling BERT models"
   ]
  },
  {
   "cell_type": "code",
   "execution_count": 1,
   "id": "5e067f76",
   "metadata": {},
   "outputs": [
    {
     "name": "stdout",
     "output_type": "stream",
     "text": [
      "(16206, 19)\n"
     ]
    },
    {
     "data": {
      "text/html": [
       "<div>\n",
       "<style scoped>\n",
       "    .dataframe tbody tr th:only-of-type {\n",
       "        vertical-align: middle;\n",
       "    }\n",
       "\n",
       "    .dataframe tbody tr th {\n",
       "        vertical-align: top;\n",
       "    }\n",
       "\n",
       "    .dataframe thead th {\n",
       "        text-align: right;\n",
       "    }\n",
       "</style>\n",
       "<table border=\"1\" class=\"dataframe\">\n",
       "  <thead>\n",
       "    <tr style=\"text-align: right;\">\n",
       "      <th></th>\n",
       "      <th>MAL_ID</th>\n",
       "      <th>Name</th>\n",
       "      <th>Score</th>\n",
       "      <th>Genres</th>\n",
       "      <th>English name</th>\n",
       "      <th>Type</th>\n",
       "      <th>Episodes</th>\n",
       "      <th>Premiered</th>\n",
       "      <th>Producers</th>\n",
       "      <th>Studios</th>\n",
       "      <th>Source</th>\n",
       "      <th>Duration</th>\n",
       "      <th>Rating</th>\n",
       "      <th>Ranked</th>\n",
       "      <th>Members</th>\n",
       "      <th>Favorites</th>\n",
       "      <th>Completed</th>\n",
       "      <th>On-Hold</th>\n",
       "      <th>synopsis</th>\n",
       "    </tr>\n",
       "  </thead>\n",
       "  <tbody>\n",
       "    <tr>\n",
       "      <th>0</th>\n",
       "      <td>1</td>\n",
       "      <td>Cowboy Bebop</td>\n",
       "      <td>8.78</td>\n",
       "      <td>Action, Adventure, Comedy, Drama, Sci-Fi, Space</td>\n",
       "      <td>Cowboy Bebop</td>\n",
       "      <td>TV</td>\n",
       "      <td>26</td>\n",
       "      <td>Spring 1998</td>\n",
       "      <td>Bandai Visual</td>\n",
       "      <td>Sunrise</td>\n",
       "      <td>Original</td>\n",
       "      <td>24 min. per ep.</td>\n",
       "      <td>R - 17+ (violence &amp; profanity)</td>\n",
       "      <td>28.0</td>\n",
       "      <td>1251960</td>\n",
       "      <td>61971</td>\n",
       "      <td>718161</td>\n",
       "      <td>71513</td>\n",
       "      <td>In the year 2071, humanity has colonized sever...</td>\n",
       "    </tr>\n",
       "    <tr>\n",
       "      <th>1</th>\n",
       "      <td>5</td>\n",
       "      <td>Cowboy Bebop: Tengoku no Tobira</td>\n",
       "      <td>8.39</td>\n",
       "      <td>Action, Drama, Mystery, Sci-Fi, Space</td>\n",
       "      <td>Cowboy Bebop:The Movie</td>\n",
       "      <td>Movie</td>\n",
       "      <td>1</td>\n",
       "      <td>Unknown</td>\n",
       "      <td>Sunrise, Bandai Visual</td>\n",
       "      <td>Bones</td>\n",
       "      <td>Original</td>\n",
       "      <td>1 hr. 55 min.</td>\n",
       "      <td>R - 17+ (violence &amp; profanity)</td>\n",
       "      <td>159.0</td>\n",
       "      <td>273145</td>\n",
       "      <td>1174</td>\n",
       "      <td>208333</td>\n",
       "      <td>1935</td>\n",
       "      <td>other day, another bounty—such is the life of ...</td>\n",
       "    </tr>\n",
       "  </tbody>\n",
       "</table>\n",
       "</div>"
      ],
      "text/plain": [
       "   MAL_ID                             Name Score  \\\n",
       "0       1                     Cowboy Bebop  8.78   \n",
       "1       5  Cowboy Bebop: Tengoku no Tobira  8.39   \n",
       "\n",
       "                                            Genres            English name  \\\n",
       "0  Action, Adventure, Comedy, Drama, Sci-Fi, Space            Cowboy Bebop   \n",
       "1            Action, Drama, Mystery, Sci-Fi, Space  Cowboy Bebop:The Movie   \n",
       "\n",
       "    Type Episodes    Premiered               Producers  Studios    Source  \\\n",
       "0     TV       26  Spring 1998           Bandai Visual  Sunrise  Original   \n",
       "1  Movie        1      Unknown  Sunrise, Bandai Visual    Bones  Original   \n",
       "\n",
       "          Duration                          Rating Ranked  Members  Favorites  \\\n",
       "0  24 min. per ep.  R - 17+ (violence & profanity)   28.0  1251960      61971   \n",
       "1    1 hr. 55 min.  R - 17+ (violence & profanity)  159.0   273145       1174   \n",
       "\n",
       "   Completed  On-Hold                                           synopsis  \n",
       "0     718161    71513  In the year 2071, humanity has colonized sever...  \n",
       "1     208333     1935  other day, another bounty—such is the life of ...  "
      ]
     },
     "execution_count": 1,
     "metadata": {},
     "output_type": "execute_result"
    }
   ],
   "source": [
    "import pandas as pd\n",
    "from transformers import AutoModelForSequenceClassification, AutoTokenizer\n",
    "\n",
    "pre_merged_anime = pd.read_csv('../data/pre_merged_anime.csv')\n",
    "print(pre_merged_anime.shape)\n",
    "pre_merged_anime.head(2)"
   ]
  },
  {
   "cell_type": "code",
   "execution_count": null,
   "id": "86f7a7a5",
   "metadata": {},
   "outputs": [],
   "source": []
  },
  {
   "cell_type": "code",
   "execution_count": 2,
   "id": "fa6ef8ce",
   "metadata": {},
   "outputs": [],
   "source": [
    "import re\n",
    "import string\n",
    "\n",
    "def clean_text(text):\n",
    "    # Remove non-printable characters\n",
    "    text = ''.join(filter(lambda x: x in string.printable, text))\n",
    "    # Replace multiple whitespace characters with a single space\n",
    "    text = re.sub(r'\\s{2,}', ' ', text).strip()\n",
    "    return text.strip()\n",
    "\n",
    "# WITH NO GENRES\n",
    "def get_anime_description(anime_row):\n",
    "    \"\"\"\n",
    "    Generates a custom description for an anime title based on various features from the input data.\n",
    "\n",
    "    :param anime_row: A row from the MyAnimeList dataset containing relevant anime information.\n",
    "    :return: A formatted string containing a custom description of the anime.\n",
    "    \"\"\"\n",
    "\n",
    "    # Determine the type of anime (TV show or other)\n",
    "    anime_type = \"TV Show\" if anime_row[\"Type\"] == \"TV\" else anime_row[\"Type\"]\n",
    "\n",
    "    # Create a formatted description using the relevant features from the input data\n",
    "    description = (\n",
    "        f\"{anime_row['Name']} is a {anime_type}.\\n\"\n",
    "        f\"Synopsis: {anime_row['synopsis']}\\n\"\n",
    "        f\"It was produced by {anime_row['Producers']} and it is from {anime_row['Studios']} Studio.\\n\"\n",
    "        f\"Its source is {anime_row['Source']}.\\n\"\n",
    "        f\"It premiered in {anime_row['Premiered']}.\"\n",
    "    )\n",
    "\n",
    "    return clean_text(description)\n"
   ]
  },
  {
   "cell_type": "code",
   "execution_count": 3,
   "id": "bfbd1501",
   "metadata": {},
   "outputs": [
    {
     "name": "stdout",
     "output_type": "stream",
     "text": [
      "Cowboy Bebop is a TV Show.\n",
      "Synopsis: In the year 2071, humanity has colonized several of the planets and moons of the solar system leaving the now uninhabitable surface of planet Earth behind. The Inter Solar System Police attempts to keep peace in the galaxy, aided in part by outlaw bounty hunters, referred to as \"Cowboys.\" The ragtag team aboard the spaceship Bebop are two such individuals. Mellow and carefree Spike Spiegel is balanced by his boisterous, pragmatic partner Jet Black as the pair makes a living chasing bounties and collecting rewards. Thrown off course by the addition of new members that they meet in their travelsEin, a genetically engineered, highly intelligent Welsh Corgi; femme fatale Faye Valentine, an enigmatic trickster with memory loss; and the strange computer whiz kid Edward Wongthe crew embarks on thrilling adventures that unravel each member's dark and mysterious past little by little. Well-balanced with high density action and light-hearted comedy, Cowboy Bebop is a space Western classic and an homage to the smooth and improvised music it is named after.\n",
      "It was produced by Bandai Visual and it is from Sunrise Studio.\n",
      "Its source is Original.\n",
      "It premiered in Spring 1998.\n"
     ]
    }
   ],
   "source": [
    "print(clean_text(get_anime_description(pre_merged_anime.iloc[0])))"
   ]
  },
  {
   "cell_type": "code",
   "execution_count": 4,
   "id": "376e7066",
   "metadata": {},
   "outputs": [],
   "source": [
    "# Create a new column in our merged anime dataframe for our new descriptions\n",
    "pre_merged_anime['generated_description'] = pre_merged_anime.apply(get_anime_description, axis=1)\n"
   ]
  },
  {
   "cell_type": "code",
   "execution_count": null,
   "id": "9fe3309f",
   "metadata": {},
   "outputs": [],
   "source": []
  },
  {
   "cell_type": "code",
   "execution_count": 5,
   "id": "d8c26e4b",
   "metadata": {},
   "outputs": [
    {
     "data": {
      "text/plain": [
       "['Action', 'Adventure', 'Comedy']"
      ]
     },
     "execution_count": 5,
     "metadata": {},
     "output_type": "execute_result"
    }
   ],
   "source": [
    "from functools import reduce\n",
    "\n",
    "all_genres = list(reduce(lambda y, z: y + z, pre_merged_anime['Genres'].map(lambda x: x.split(', '))))\n",
    "all_genres[:3]"
   ]
  },
  {
   "cell_type": "code",
   "execution_count": 6,
   "id": "94e41b0c",
   "metadata": {},
   "outputs": [
    {
     "data": {
      "image/png": "[encoded data removed]",
      "text/plain": [
       "<Figure size 1600x600 with 1 Axes>"
      ]
     },
     "metadata": {},
     "output_type": "display_data"
    }
   ],
   "source": [
    "import matplotlib.pyplot as plt\n",
    "import seaborn as sns\n",
    "\n",
    "# Set style and context\n",
    "sns.set_style('whitegrid')\n",
    "sns.set_context('notebook')\n",
    "\n",
    "# Prepare the data\n",
    "genre_counts = pd.Series(all_genres).value_counts()\n",
    "\n",
    "# Create the plot\n",
    "plt.figure(figsize=(16, 6))\n",
    "\n",
    "colors = sns.color_palette('pastel')[0:len(genre_counts)]\n",
    "sns.barplot(x=genre_counts.index, y=genre_counts.values, palette=colors)\n",
    "\n",
    "plt.title('Distribution of Genres', fontsize=20)\n",
    "plt.xlabel('Genre', fontsize=14)\n",
    "plt.ylabel('Count', fontsize=14)\n",
    "plt.xticks(rotation=90)\n",
    "\n",
    "# Show and save the plot\n",
    "plt.show()"
   ]
  },
  {
   "cell_type": "code",
   "execution_count": 7,
   "id": "9d231d56",
   "metadata": {},
   "outputs": [
    {
     "name": "stdout",
     "output_type": "stream",
     "text": [
      "42 ['Action', 'Adventure', 'Cars', 'Comedy', 'Dementia', 'Demons', 'Drama', 'Ecchi', 'Fantasy', 'Game', 'Harem', 'Historical', 'Horror', 'Josei', 'Kids', 'Magic', 'Martial Arts', 'Mecha', 'Military', 'Music', 'Mystery', 'Parody', 'Police', 'Psychological', 'Romance', 'Samurai', 'School', 'Sci-Fi', 'Seinen', 'Shoujo', 'Shoujo Ai', 'Shounen', 'Shounen Ai', 'Slice of Life', 'Space', 'Sports', 'Super Power', 'Supernatural', 'Thriller', 'Unknown', 'Vampire', 'Yaoi']\n"
     ]
    }
   ],
   "source": [
    "unique_labels = sorted(list(set(reduce(lambda y, z: y + z, pre_merged_anime['Genres'].map(lambda x: x.split(', '))))))\n",
    "\n",
    "print(len(unique_labels), unique_labels)"
   ]
  },
  {
   "cell_type": "code",
   "execution_count": 8,
   "id": "fa97c096",
   "metadata": {},
   "outputs": [],
   "source": [
    "id2label = {idx:label for idx, label in enumerate(unique_labels)}\n",
    "label2id = {label:idx for idx, label in enumerate(unique_labels)}\n",
    "     "
   ]
  },
  {
   "cell_type": "code",
   "execution_count": 9,
   "id": "0ca911f9",
   "metadata": {},
   "outputs": [],
   "source": [
    "import numpy as np\n",
    "import torch\n",
    "TEACHER_MODEL = 'bert-large-uncased'\n",
    "\n",
    "tokenizer = AutoTokenizer.from_pretrained(TEACHER_MODEL)\n",
    "\n",
    "def preprocess_data(examples, text_col):\n",
    "    one_hot_encoded_matrix = []\n",
    "    text = examples[text_col]\n",
    "    genres = examples[\"Genres\"]\n",
    "    for genre in genres:\n",
    "        g = genre.split(', ')\n",
    "        one_hot_encoded_row = [1 if label in g else 0 for label in unique_labels]\n",
    "        one_hot_encoded_matrix.append(one_hot_encoded_row)\n",
    "\n",
    "    # Convert the one_hot_encoded_matrix to a LongTensor\n",
    "    one_hot_encoded_matrix = [torch.tensor(o, dtype=torch.float32) for o in one_hot_encoded_matrix]\n",
    "\n",
    "    # Encode the text\n",
    "    encoding = tokenizer(text, truncation=True, max_length=256)\n",
    "    \n",
    "    # Add labels\n",
    "    encoding[\"labels\"] = one_hot_encoded_matrix\n",
    "\n",
    "    return encoding\n"
   ]
  },
  {
   "cell_type": "code",
   "execution_count": null,
   "id": "90ef5196",
   "metadata": {},
   "outputs": [],
   "source": []
  },
  {
   "cell_type": "code",
   "execution_count": 10,
   "id": "8c00dd63",
   "metadata": {},
   "outputs": [],
   "source": [
    "from datasets import Dataset\n",
    "anime_with_synopsis_dataset = Dataset.from_pandas(pre_merged_anime[['synopsis', 'Genres', 'generated_description']])\n",
    "\n",
    "anime_with_synopsis_dataset = anime_with_synopsis_dataset.train_test_split(test_size=.2, seed=42)"
   ]
  },
  {
   "cell_type": "code",
   "execution_count": 11,
   "id": "b3d750f3",
   "metadata": {},
   "outputs": [
    {
     "data": {
      "application/vnd.jupyter.widget-view+json": {
       "model_id": "",
       "version_major": 2,
       "version_minor": 0
      },
      "text/plain": [
       "Map:   0%|          | 0/12964 [00:00<?, ? examples/s]"
      ]
     },
     "metadata": {},
     "output_type": "display_data"
    },
    {
     "data": {
      "application/vnd.jupyter.widget-view+json": {
       "model_id": "",
       "version_major": 2,
       "version_minor": 0
      },
      "text/plain": [
       "Map:   0%|          | 0/3242 [00:00<?, ? examples/s]"
      ]
     },
     "metadata": {},
     "output_type": "display_data"
    },
    {
     "data": {
      "text/plain": [
       "DatasetDict({\n",
       "    train: Dataset({\n",
       "        features: ['input_ids', 'token_type_ids', 'attention_mask', 'labels'],\n",
       "        num_rows: 12964\n",
       "    })\n",
       "    test: Dataset({\n",
       "        features: ['input_ids', 'token_type_ids', 'attention_mask', 'labels'],\n",
       "        num_rows: 3242\n",
       "    })\n",
       "})"
      ]
     },
     "execution_count": 11,
     "metadata": {},
     "output_type": "execute_result"
    }
   ],
   "source": [
    "description_encoded_dataset = anime_with_synopsis_dataset.map(\n",
    "    lambda x: preprocess_data(x, 'generated_description'),\n",
    "    batched=True, batch_size=128, remove_columns=['synopsis', 'Genres', 'generated_description']\n",
    ")\n",
    "\n",
    "description_encoded_dataset\n"
   ]
  },
  {
   "cell_type": "code",
   "execution_count": 12,
   "id": "2716947f",
   "metadata": {},
   "outputs": [
    {
     "data": {
      "text/plain": [
       "{'input_ids': [101,\n",
       "  14100,\n",
       "  6172,\n",
       "  23289,\n",
       "  2003,\n",
       "  1037,\n",
       "  2694,\n",
       "  2265,\n",
       "  1012,\n",
       "  19962,\n",
       "  22599,\n",
       "  1024,\n",
       "  5595,\n",
       "  2086,\n",
       "  3283,\n",
       "  1010,\n",
       "  3287,\n",
       "  6767,\n",
       "  16136,\n",
       "  6386,\n",
       "  2124,\n",
       "  2004,\n",
       "  2601,\n",
       "  7545,\n",
       "  2716,\n",
       "  2055,\n",
       "  1996,\n",
       "  1000,\n",
       "  2058,\n",
       "  23663,\n",
       "  1010,\n",
       "  1000,\n",
       "  1037,\n",
       "  10250,\n",
       "  10631,\n",
       "  24826,\n",
       "  2015,\n",
       "  2724,\n",
       "  2008,\n",
       "  3908,\n",
       "  2028,\n",
       "  1011,\n",
       "  7891,\n",
       "  1997,\n",
       "  1996,\n",
       "  2088,\n",
       "  1012,\n",
       "  1999,\n",
       "  1996,\n",
       "  2556,\n",
       "  2154,\n",
       "  1010,\n",
       "  1996,\n",
       "  11265,\n",
       "  14971,\n",
       "  6313,\n",
       "  3029,\n",
       "  5698,\n",
       "  4003,\n",
       "  11014,\n",
       "  1996,\n",
       "  2601,\n",
       "  7545,\n",
       "  1005,\n",
       "  2373,\n",
       "  2005,\n",
       "  2037,\n",
       "  2035,\n",
       "  2021,\n",
       "  7036,\n",
       "  11174,\n",
       "  1012,\n",
       "  5292,\n",
       "  6820,\n",
       "  8294,\n",
       "  1010,\n",
       "  1037,\n",
       "  4690,\n",
       "  1011,\n",
       "  26974,\n",
       "  3165,\n",
       "  1011,\n",
       "  10681,\n",
       "  10563,\n",
       "  1010,\n",
       "  22490,\n",
       "  2015,\n",
       "  1996,\n",
       "  2516,\n",
       "  1997,\n",
       "  23289,\n",
       "  3040,\n",
       "  1024,\n",
       "  1996,\n",
       "  2711,\n",
       "  2040,\n",
       "  15536,\n",
       "  14273,\n",
       "  2015,\n",
       "  1996,\n",
       "  2373,\n",
       "  1997,\n",
       "  1996,\n",
       "  8987,\n",
       "  23289,\n",
       "  6386,\n",
       "  1010,\n",
       "  10471,\n",
       "  5214,\n",
       "  1997,\n",
       "  9846,\n",
       "  1996,\n",
       "  2601,\n",
       "  7545,\n",
       "  1012,\n",
       "  2174,\n",
       "  1010,\n",
       "  1996,\n",
       "  2116,\n",
       "  23289,\n",
       "  6386,\n",
       "  2020,\n",
       "  7932,\n",
       "  2408,\n",
       "  1996,\n",
       "  7595,\n",
       "  2004,\n",
       "  1037,\n",
       "  2765,\n",
       "  1997,\n",
       "  1996,\n",
       "  2058,\n",
       "  23663,\n",
       "  1010,\n",
       "  4352,\n",
       "  5698,\n",
       "  4003,\n",
       "  2000,\n",
       "  3613,\n",
       "  2037,\n",
       "  15451,\n",
       "  18098,\n",
       "  28804,\n",
       "  2229,\n",
       "  1012,\n",
       "  14100,\n",
       "  6172,\n",
       "  23289,\n",
       "  4076,\n",
       "  5292,\n",
       "  6820,\n",
       "  1010,\n",
       "  2010,\n",
       "  4326,\n",
       "  3899,\n",
       "  20228,\n",
       "  5657,\n",
       "  1010,\n",
       "  1996,\n",
       "  15443,\n",
       "  9081,\n",
       "  10707,\n",
       "  1010,\n",
       "  1998,\n",
       "  1996,\n",
       "  14429,\n",
       "  12383,\n",
       "  21137,\n",
       "  1010,\n",
       "  2004,\n",
       "  2027,\n",
       "  28866,\n",
       "  2006,\n",
       "  1037,\n",
       "  2307,\n",
       "  4990,\n",
       "  2008,\n",
       "  2097,\n",
       "  2202,\n",
       "  2068,\n",
       "  2105,\n",
       "  1996,\n",
       "  6565,\n",
       "  2088,\n",
       "  1010,\n",
       "  6575,\n",
       "  2005,\n",
       "  1996,\n",
       "  23289,\n",
       "  6386,\n",
       "  2008,\n",
       "  2097,\n",
       "  2633,\n",
       "  2203,\n",
       "  5698,\n",
       "  4003,\n",
       "  1005,\n",
       "  1055,\n",
       "  21321,\n",
       "  1012,\n",
       "  2009,\n",
       "  2001,\n",
       "  2550,\n",
       "  2011,\n",
       "  29584,\n",
       "  1010,\n",
       "  12849,\n",
       "  7847,\n",
       "  7377,\n",
       "  1998,\n",
       "  2009,\n",
       "  2003,\n",
       "  2013,\n",
       "  2996,\n",
       "  9266,\n",
       "  2078,\n",
       "  2996,\n",
       "  1012,\n",
       "  2049,\n",
       "  3120,\n",
       "  2003,\n",
       "  8952,\n",
       "  1012,\n",
       "  2009,\n",
       "  5885,\n",
       "  1999,\n",
       "  2991,\n",
       "  2541,\n",
       "  1012,\n",
       "  102],\n",
       " 'token_type_ids': [0,\n",
       "  0,\n",
       "  0,\n",
       "  0,\n",
       "  0,\n",
       "  0,\n",
       "  0,\n",
       "  0,\n",
       "  0,\n",
       "  0,\n",
       "  0,\n",
       "  0,\n",
       "  0,\n",
       "  0,\n",
       "  0,\n",
       "  0,\n",
       "  0,\n",
       "  0,\n",
       "  0,\n",
       "  0,\n",
       "  0,\n",
       "  0,\n",
       "  0,\n",
       "  0,\n",
       "  0,\n",
       "  0,\n",
       "  0,\n",
       "  0,\n",
       "  0,\n",
       "  0,\n",
       "  0,\n",
       "  0,\n",
       "  0,\n",
       "  0,\n",
       "  0,\n",
       "  0,\n",
       "  0,\n",
       "  0,\n",
       "  0,\n",
       "  0,\n",
       "  0,\n",
       "  0,\n",
       "  0,\n",
       "  0,\n",
       "  0,\n",
       "  0,\n",
       "  0,\n",
       "  0,\n",
       "  0,\n",
       "  0,\n",
       "  0,\n",
       "  0,\n",
       "  0,\n",
       "  0,\n",
       "  0,\n",
       "  0,\n",
       "  0,\n",
       "  0,\n",
       "  0,\n",
       "  0,\n",
       "  0,\n",
       "  0,\n",
       "  0,\n",
       "  0,\n",
       "  0,\n",
       "  0,\n",
       "  0,\n",
       "  0,\n",
       "  0,\n",
       "  0,\n",
       "  0,\n",
       "  0,\n",
       "  0,\n",
       "  0,\n",
       "  0,\n",
       "  0,\n",
       "  0,\n",
       "  0,\n",
       "  0,\n",
       "  0,\n",
       "  0,\n",
       "  0,\n",
       "  0,\n",
       "  0,\n",
       "  0,\n",
       "  0,\n",
       "  0,\n",
       "  0,\n",
       "  0,\n",
       "  0,\n",
       "  0,\n",
       "  0,\n",
       "  0,\n",
       "  0,\n",
       "  0,\n",
       "  0,\n",
       "  0,\n",
       "  0,\n",
       "  0,\n",
       "  0,\n",
       "  0,\n",
       "  0,\n",
       "  0,\n",
       "  0,\n",
       "  0,\n",
       "  0,\n",
       "  0,\n",
       "  0,\n",
       "  0,\n",
       "  0,\n",
       "  0,\n",
       "  0,\n",
       "  0,\n",
       "  0,\n",
       "  0,\n",
       "  0,\n",
       "  0,\n",
       "  0,\n",
       "  0,\n",
       "  0,\n",
       "  0,\n",
       "  0,\n",
       "  0,\n",
       "  0,\n",
       "  0,\n",
       "  0,\n",
       "  0,\n",
       "  0,\n",
       "  0,\n",
       "  0,\n",
       "  0,\n",
       "  0,\n",
       "  0,\n",
       "  0,\n",
       "  0,\n",
       "  0,\n",
       "  0,\n",
       "  0,\n",
       "  0,\n",
       "  0,\n",
       "  0,\n",
       "  0,\n",
       "  0,\n",
       "  0,\n",
       "  0,\n",
       "  0,\n",
       "  0,\n",
       "  0,\n",
       "  0,\n",
       "  0,\n",
       "  0,\n",
       "  0,\n",
       "  0,\n",
       "  0,\n",
       "  0,\n",
       "  0,\n",
       "  0,\n",
       "  0,\n",
       "  0,\n",
       "  0,\n",
       "  0,\n",
       "  0,\n",
       "  0,\n",
       "  0,\n",
       "  0,\n",
       "  0,\n",
       "  0,\n",
       "  0,\n",
       "  0,\n",
       "  0,\n",
       "  0,\n",
       "  0,\n",
       "  0,\n",
       "  0,\n",
       "  0,\n",
       "  0,\n",
       "  0,\n",
       "  0,\n",
       "  0,\n",
       "  0,\n",
       "  0,\n",
       "  0,\n",
       "  0,\n",
       "  0,\n",
       "  0,\n",
       "  0,\n",
       "  0,\n",
       "  0,\n",
       "  0,\n",
       "  0,\n",
       "  0,\n",
       "  0,\n",
       "  0,\n",
       "  0,\n",
       "  0,\n",
       "  0,\n",
       "  0,\n",
       "  0,\n",
       "  0,\n",
       "  0,\n",
       "  0,\n",
       "  0,\n",
       "  0,\n",
       "  0,\n",
       "  0,\n",
       "  0,\n",
       "  0,\n",
       "  0,\n",
       "  0,\n",
       "  0,\n",
       "  0,\n",
       "  0,\n",
       "  0,\n",
       "  0,\n",
       "  0,\n",
       "  0,\n",
       "  0,\n",
       "  0,\n",
       "  0,\n",
       "  0,\n",
       "  0,\n",
       "  0,\n",
       "  0,\n",
       "  0,\n",
       "  0,\n",
       "  0,\n",
       "  0,\n",
       "  0,\n",
       "  0,\n",
       "  0],\n",
       " 'attention_mask': [1,\n",
       "  1,\n",
       "  1,\n",
       "  1,\n",
       "  1,\n",
       "  1,\n",
       "  1,\n",
       "  1,\n",
       "  1,\n",
       "  1,\n",
       "  1,\n",
       "  1,\n",
       "  1,\n",
       "  1,\n",
       "  1,\n",
       "  1,\n",
       "  1,\n",
       "  1,\n",
       "  1,\n",
       "  1,\n",
       "  1,\n",
       "  1,\n",
       "  1,\n",
       "  1,\n",
       "  1,\n",
       "  1,\n",
       "  1,\n",
       "  1,\n",
       "  1,\n",
       "  1,\n",
       "  1,\n",
       "  1,\n",
       "  1,\n",
       "  1,\n",
       "  1,\n",
       "  1,\n",
       "  1,\n",
       "  1,\n",
       "  1,\n",
       "  1,\n",
       "  1,\n",
       "  1,\n",
       "  1,\n",
       "  1,\n",
       "  1,\n",
       "  1,\n",
       "  1,\n",
       "  1,\n",
       "  1,\n",
       "  1,\n",
       "  1,\n",
       "  1,\n",
       "  1,\n",
       "  1,\n",
       "  1,\n",
       "  1,\n",
       "  1,\n",
       "  1,\n",
       "  1,\n",
       "  1,\n",
       "  1,\n",
       "  1,\n",
       "  1,\n",
       "  1,\n",
       "  1,\n",
       "  1,\n",
       "  1,\n",
       "  1,\n",
       "  1,\n",
       "  1,\n",
       "  1,\n",
       "  1,\n",
       "  1,\n",
       "  1,\n",
       "  1,\n",
       "  1,\n",
       "  1,\n",
       "  1,\n",
       "  1,\n",
       "  1,\n",
       "  1,\n",
       "  1,\n",
       "  1,\n",
       "  1,\n",
       "  1,\n",
       "  1,\n",
       "  1,\n",
       "  1,\n",
       "  1,\n",
       "  1,\n",
       "  1,\n",
       "  1,\n",
       "  1,\n",
       "  1,\n",
       "  1,\n",
       "  1,\n",
       "  1,\n",
       "  1,\n",
       "  1,\n",
       "  1,\n",
       "  1,\n",
       "  1,\n",
       "  1,\n",
       "  1,\n",
       "  1,\n",
       "  1,\n",
       "  1,\n",
       "  1,\n",
       "  1,\n",
       "  1,\n",
       "  1,\n",
       "  1,\n",
       "  1,\n",
       "  1,\n",
       "  1,\n",
       "  1,\n",
       "  1,\n",
       "  1,\n",
       "  1,\n",
       "  1,\n",
       "  1,\n",
       "  1,\n",
       "  1,\n",
       "  1,\n",
       "  1,\n",
       "  1,\n",
       "  1,\n",
       "  1,\n",
       "  1,\n",
       "  1,\n",
       "  1,\n",
       "  1,\n",
       "  1,\n",
       "  1,\n",
       "  1,\n",
       "  1,\n",
       "  1,\n",
       "  1,\n",
       "  1,\n",
       "  1,\n",
       "  1,\n",
       "  1,\n",
       "  1,\n",
       "  1,\n",
       "  1,\n",
       "  1,\n",
       "  1,\n",
       "  1,\n",
       "  1,\n",
       "  1,\n",
       "  1,\n",
       "  1,\n",
       "  1,\n",
       "  1,\n",
       "  1,\n",
       "  1,\n",
       "  1,\n",
       "  1,\n",
       "  1,\n",
       "  1,\n",
       "  1,\n",
       "  1,\n",
       "  1,\n",
       "  1,\n",
       "  1,\n",
       "  1,\n",
       "  1,\n",
       "  1,\n",
       "  1,\n",
       "  1,\n",
       "  1,\n",
       "  1,\n",
       "  1,\n",
       "  1,\n",
       "  1,\n",
       "  1,\n",
       "  1,\n",
       "  1,\n",
       "  1,\n",
       "  1,\n",
       "  1,\n",
       "  1,\n",
       "  1,\n",
       "  1,\n",
       "  1,\n",
       "  1,\n",
       "  1,\n",
       "  1,\n",
       "  1,\n",
       "  1,\n",
       "  1,\n",
       "  1,\n",
       "  1,\n",
       "  1,\n",
       "  1,\n",
       "  1,\n",
       "  1,\n",
       "  1,\n",
       "  1,\n",
       "  1,\n",
       "  1,\n",
       "  1,\n",
       "  1,\n",
       "  1,\n",
       "  1,\n",
       "  1,\n",
       "  1,\n",
       "  1,\n",
       "  1,\n",
       "  1,\n",
       "  1,\n",
       "  1,\n",
       "  1,\n",
       "  1,\n",
       "  1,\n",
       "  1,\n",
       "  1,\n",
       "  1,\n",
       "  1,\n",
       "  1,\n",
       "  1,\n",
       "  1,\n",
       "  1,\n",
       "  1,\n",
       "  1,\n",
       "  1,\n",
       "  1,\n",
       "  1,\n",
       "  1,\n",
       "  1],\n",
       " 'labels': [0.0,\n",
       "  1.0,\n",
       "  0.0,\n",
       "  1.0,\n",
       "  0.0,\n",
       "  0.0,\n",
       "  0.0,\n",
       "  0.0,\n",
       "  1.0,\n",
       "  0.0,\n",
       "  0.0,\n",
       "  0.0,\n",
       "  0.0,\n",
       "  0.0,\n",
       "  0.0,\n",
       "  0.0,\n",
       "  0.0,\n",
       "  0.0,\n",
       "  0.0,\n",
       "  0.0,\n",
       "  0.0,\n",
       "  0.0,\n",
       "  0.0,\n",
       "  0.0,\n",
       "  1.0,\n",
       "  0.0,\n",
       "  0.0,\n",
       "  0.0,\n",
       "  0.0,\n",
       "  0.0,\n",
       "  0.0,\n",
       "  1.0,\n",
       "  0.0,\n",
       "  0.0,\n",
       "  0.0,\n",
       "  0.0,\n",
       "  0.0,\n",
       "  0.0,\n",
       "  0.0,\n",
       "  0.0,\n",
       "  0.0,\n",
       "  0.0]}"
      ]
     },
     "execution_count": 12,
     "metadata": {},
     "output_type": "execute_result"
    }
   ],
   "source": [
    "description_encoded_dataset['train'][0]"
   ]
  },
  {
   "cell_type": "code",
   "execution_count": 13,
   "id": "9beb057f",
   "metadata": {},
   "outputs": [],
   "source": [
    "# Import the necessary libraries\n",
    "from sklearn.metrics import f1_score, roc_auc_score, accuracy_score\n",
    "from transformers import EvalPrediction\n",
    "import torch\n",
    "import numpy as np\n",
    "from sklearn.metrics import f1_score, roc_auc_score, accuracy_score, jaccard_score\n",
    "\n",
    "# Define a function to compute several multi-label metrics\n",
    "def multi_label_metrics(predictions, labels, threshold=0.5):\n",
    "    # Initialize the sigmoid function which we'll use to transform our raw prediction values\n",
    "    sigmoid = torch.nn.Sigmoid()\n",
    "    \n",
    "    # Apply sigmoid function to our predictions\n",
    "    probs = sigmoid(torch.Tensor(predictions))\n",
    "    \n",
    "    # Create a binary prediction array based on our threshold\n",
    "    y_pred = np.zeros(probs.shape)\n",
    "    y_pred[np.where(probs >= threshold)] = 1\n",
    "    \n",
    "    # Use actual labels as y_true\n",
    "    y_true = labels\n",
    "    \n",
    "    # Compute F1 score, ROC AUC score, Accuracy, and Jaccard score\n",
    "    f1_micro_average = f1_score(y_true=y_true, y_pred=y_pred, average='micro')\n",
    "    roc_auc = roc_auc_score(y_true, y_pred, average='micro')\n",
    "    accuracy = accuracy_score(y_true, y_pred)\n",
    "    jaccard = jaccard_score(y_true, y_pred, average='micro')\n",
    "    \n",
    "    # Package the scores into a dictionary and return it\n",
    "    metrics = {'f1': f1_micro_average,\n",
    "               'roc_auc': roc_auc,\n",
    "               'accuracy': accuracy,\n",
    "               'jaccard': jaccard}\n",
    "    return metrics\n",
    "\n",
    "# Define a function to compute metrics for predictions\n",
    "def compute_metrics(p: EvalPrediction):\n",
    "    # Extract the prediction values from the EvalPrediction object\n",
    "    preds = p.predictions[0] if isinstance(p.predictions, tuple) else p.predictions\n",
    "    \n",
    "    # Compute the multi-label metrics for the predictions and actual labels\n",
    "    result = multi_label_metrics(predictions=preds, labels=p.label_ids)\n",
    "    \n",
    "    # Return the results\n",
    "    return result\n"
   ]
  },
  {
   "cell_type": "code",
   "execution_count": 14,
   "id": "082ebc33",
   "metadata": {},
   "outputs": [
    {
     "name": "stdout",
     "output_type": "stream",
     "text": [
      "huggingface/tokenizers: The current process just got forked, after parallelism has already been used. Disabling parallelism to avoid deadlocks...\n",
      "To disable this warning, you can either:\n",
      "\t- Avoid using `tokenizers` before the fork if possible\n",
      "\t- Explicitly set the environment variable TOKENIZERS_PARALLELISM=(true | false)\n",
      "huggingface/tokenizers: The current process just got forked, after parallelism has already been used. Disabling parallelism to avoid deadlocks...\n",
      "To disable this warning, you can either:\n",
      "\t- Avoid using `tokenizers` before the fork if possible\n",
      "\t- Explicitly set the environment variable TOKENIZERS_PARALLELISM=(true | false)\n"
     ]
    }
   ],
   "source": [
    "from transformers import Trainer, TrainingArguments, DataCollatorWithPadding\n",
    "\n",
    "data_collator = DataCollatorWithPadding(tokenizer=tokenizer)"
   ]
  },
  {
   "cell_type": "markdown",
   "id": "249f8159",
   "metadata": {},
   "source": [
    "# Train with normal BERT"
   ]
  },
  {
   "cell_type": "code",
   "execution_count": 12,
   "id": "6dd021da",
   "metadata": {},
   "outputs": [
    {
     "data": {
      "application/vnd.jupyter.widget-view+json": {
       "model_id": "386f8ec2418142dab19e054ad3680f0b",
       "version_major": 2,
       "version_minor": 0
      },
      "text/plain": [
       "Downloading model.safetensors:   0%|          | 0.00/1.34G [00:00<?, ?B/s]"
      ]
     },
     "metadata": {},
     "output_type": "display_data"
    },
    {
     "name": "stderr",
     "output_type": "stream",
     "text": [
      "Some weights of the model checkpoint at bert-large-uncased were not used when initializing BertForSequenceClassification: ['cls.predictions.bias', 'cls.predictions.transform.LayerNorm.weight', 'cls.seq_relationship.weight', 'cls.predictions.transform.dense.weight', 'cls.predictions.transform.LayerNorm.bias', 'cls.predictions.transform.dense.bias', 'cls.seq_relationship.bias']\n",
      "- This IS expected if you are initializing BertForSequenceClassification from the checkpoint of a model trained on another task or with another architecture (e.g. initializing a BertForSequenceClassification model from a BertForPreTraining model).\n",
      "- This IS NOT expected if you are initializing BertForSequenceClassification from the checkpoint of a model that you expect to be exactly identical (initializing a BertForSequenceClassification model from a BertForSequenceClassification model).\n",
      "Some weights of BertForSequenceClassification were not initialized from the model checkpoint at bert-large-uncased and are newly initialized: ['classifier.bias', 'classifier.weight']\n",
      "You should probably TRAIN this model on a down-stream task to be able to use it for predictions and inference.\n"
     ]
    }
   ],
   "source": [
    "model = AutoModelForSequenceClassification.from_pretrained(\n",
    "    TEACHER_MODEL,\n",
    "    problem_type=\"multi_label_classification\", \n",
    "    num_labels=len(unique_labels),\n",
    "    id2label=id2label,\n",
    "    label2id=label2id\n",
    ")"
   ]
  },
  {
   "cell_type": "code",
   "execution_count": 20,
   "id": "41d21774",
   "metadata": {},
   "outputs": [
    {
     "name": "stderr",
     "output_type": "stream",
     "text": [
      "You're using a BertTokenizerFast tokenizer. Please note that with a fast tokenizer, using the `__call__` method is faster than using a method to encode the text followed by a call to the `pad` method to get a padded encoding.\n",
      "C:\\Users\\sinan\\anaconda3\\envs\\DL\\lib\\site-packages\\torch\\nn\\parallel\\_functions.py:68: UserWarning: Was asked to gather along dimension 0, but all input tensors were scalars; will instead unsqueeze and return a vector.\n",
      "  warnings.warn('Was asked to gather along dimension 0, but all '\n"
     ]
    },
    {
     "data": {
      "text/html": [
       "\n",
       "    <div>\n",
       "      \n",
       "      <progress value='52' max='26' style='width:300px; height:20px; vertical-align: middle;'></progress>\n",
       "      [26/26 32:18]\n",
       "    </div>\n",
       "    "
      ],
      "text/plain": [
       "<IPython.core.display.HTML object>"
      ]
     },
     "metadata": {},
     "output_type": "display_data"
    },
    {
     "name": "stderr",
     "output_type": "stream",
     "text": [
      "\u001b[34m\u001b[1mwandb\u001b[0m: Currently logged in as: \u001b[33mprofoz\u001b[0m. Use \u001b[1m`wandb login --relogin`\u001b[0m to force relogin\n"
     ]
    },
    {
     "data": {
      "text/html": [
       "wandb version 0.15.3 is available!  To upgrade, please run:\n",
       " $ pip install wandb --upgrade"
      ],
      "text/plain": [
       "<IPython.core.display.HTML object>"
      ]
     },
     "metadata": {},
     "output_type": "display_data"
    },
    {
     "data": {
      "text/html": [
       "Tracking run with wandb version 0.15.0"
      ],
      "text/plain": [
       "<IPython.core.display.HTML object>"
      ]
     },
     "metadata": {},
     "output_type": "display_data"
    },
    {
     "data": {
      "text/html": [
       "Run data is saved locally in <code>C:\\Users\\sinan\\Downloads\\wandb\\run-20230523_181413-eqq5vhoa</code>"
      ],
      "text/plain": [
       "<IPython.core.display.HTML object>"
      ]
     },
     "metadata": {},
     "output_type": "display_data"
    },
    {
     "data": {
      "text/html": [
       "Syncing run <strong><a href='https://wandb.ai/profoz/huggingface/runs/eqq5vhoa' target=\"_blank\">scarlet-cosmos-148</a></strong> to <a href='https://wandb.ai/profoz/huggingface' target=\"_blank\">Weights & Biases</a> (<a href='https://wandb.me/run' target=\"_blank\">docs</a>)<br/>"
      ],
      "text/plain": [
       "<IPython.core.display.HTML object>"
      ]
     },
     "metadata": {},
     "output_type": "display_data"
    },
    {
     "data": {
      "text/html": [
       " View project at <a href='https://wandb.ai/profoz/huggingface' target=\"_blank\">https://wandb.ai/profoz/huggingface</a>"
      ],
      "text/plain": [
       "<IPython.core.display.HTML object>"
      ]
     },
     "metadata": {},
     "output_type": "display_data"
    },
    {
     "data": {
      "text/html": [
       " View run at <a href='https://wandb.ai/profoz/huggingface/runs/eqq5vhoa' target=\"_blank\">https://wandb.ai/profoz/huggingface/runs/eqq5vhoa</a>"
      ],
      "text/plain": [
       "<IPython.core.display.HTML object>"
      ]
     },
     "metadata": {},
     "output_type": "display_data"
    },
    {
     "data": {
      "text/plain": [
       "{'eval_loss': 0.7340084314346313,\n",
       " 'eval_f1': 0.10238879736408567,\n",
       " 'eval_roc_auc': 0.45753649576323013,\n",
       " 'eval_accuracy': 0.0,\n",
       " 'eval_jaccard': 0.05395667838694274,\n",
       " 'eval_runtime': 86.0092,\n",
       " 'eval_samples_per_second': 37.694,\n",
       " 'eval_steps_per_second': 0.302}"
      ]
     },
     "execution_count": 20,
     "metadata": {},
     "output_type": "execute_result"
    }
   ],
   "source": [
    "from transformers import TrainingArguments, Trainer\n",
    "\n",
    "args = TrainingArguments(\n",
    "    f\"genre-prediction-bert\",\n",
    "    evaluation_strategy = \"epoch\",\n",
    "    save_strategy = \"epoch\",\n",
    "    per_device_train_batch_size=4,\n",
    "    gradient_accumulation_steps=16,\n",
    "    per_device_eval_batch_size=64,\n",
    "    num_train_epochs=10,\n",
    "    logging_steps=50,\n",
    "    load_best_model_at_end=True,\n",
    "    fp16=True\n",
    ")\n",
    "\n",
    "trainer = Trainer(\n",
    "    model,\n",
    "    args,\n",
    "    train_dataset=description_encoded_dataset[\"train\"],\n",
    "    eval_dataset=description_encoded_dataset[\"test\"],\n",
    "    tokenizer=tokenizer,\n",
    "    data_collator=data_collator,\n",
    "    compute_metrics=compute_metrics\n",
    ")\n",
    "\n",
    "trainer.evaluate()"
   ]
  },
  {
   "cell_type": "code",
   "execution_count": 21,
   "id": "0757706c",
   "metadata": {},
   "outputs": [
    {
     "name": "stderr",
     "output_type": "stream",
     "text": [
      "C:\\Users\\sinan\\anaconda3\\envs\\DL\\lib\\site-packages\\transformers\\optimization.py:391: FutureWarning: This implementation of AdamW is deprecated and will be removed in a future version. Use the PyTorch implementation torch.optim.AdamW instead, or set `no_deprecation_warning=True` to disable this warning\n",
      "  warnings.warn(\n",
      "C:\\Users\\sinan\\anaconda3\\envs\\DL\\lib\\site-packages\\torch\\nn\\parallel\\_functions.py:68: UserWarning: Was asked to gather along dimension 0, but all input tensors were scalars; will instead unsqueeze and return a vector.\n",
      "  warnings.warn('Was asked to gather along dimension 0, but all '\n",
      "C:\\Users\\sinan\\anaconda3\\envs\\DL\\lib\\site-packages\\torch\\cuda\\nccl.py:15: UserWarning: PyTorch is not compiled with NCCL support\n",
      "  warnings.warn('PyTorch is not compiled with NCCL support')\n"
     ]
    },
    {
     "data": {
      "text/html": [
       "\n",
       "    <div>\n",
       "      \n",
       "      <progress value='1000' max='1000' style='width:300px; height:20px; vertical-align: middle;'></progress>\n",
       "      [1000/1000 5:08:01, Epoch 9/10]\n",
       "    </div>\n",
       "    <table border=\"1\" class=\"dataframe\">\n",
       "  <thead>\n",
       " <tr style=\"text-align: left;\">\n",
       "      <th>Epoch</th>\n",
       "      <th>Training Loss</th>\n",
       "      <th>Validation Loss</th>\n",
       "      <th>F1</th>\n",
       "      <th>Roc Auc</th>\n",
       "      <th>Accuracy</th>\n",
       "      <th>Jaccard</th>\n",
       "    </tr>\n",
       "  </thead>\n",
       "  <tbody>\n",
       "    <tr>\n",
       "      <td>0</td>\n",
       "      <td>0.210000</td>\n",
       "      <td>0.196911</td>\n",
       "      <td>0.261087</td>\n",
       "      <td>0.577813</td>\n",
       "      <td>0.056755</td>\n",
       "      <td>0.150144</td>\n",
       "    </tr>\n",
       "    <tr>\n",
       "      <td>1</td>\n",
       "      <td>0.172100</td>\n",
       "      <td>0.165546</td>\n",
       "      <td>0.454545</td>\n",
       "      <td>0.661204</td>\n",
       "      <td>0.121838</td>\n",
       "      <td>0.294118</td>\n",
       "    </tr>\n",
       "    <tr>\n",
       "      <td>2</td>\n",
       "      <td>0.147500</td>\n",
       "      <td>0.150766</td>\n",
       "      <td>0.539274</td>\n",
       "      <td>0.709597</td>\n",
       "      <td>0.144355</td>\n",
       "      <td>0.369182</td>\n",
       "    </tr>\n",
       "    <tr>\n",
       "      <td>3</td>\n",
       "      <td>0.130600</td>\n",
       "      <td>0.142275</td>\n",
       "      <td>0.551376</td>\n",
       "      <td>0.711728</td>\n",
       "      <td>0.156385</td>\n",
       "      <td>0.380621</td>\n",
       "    </tr>\n",
       "    <tr>\n",
       "      <td>4</td>\n",
       "      <td>0.116900</td>\n",
       "      <td>0.137746</td>\n",
       "      <td>0.579970</td>\n",
       "      <td>0.733529</td>\n",
       "      <td>0.166564</td>\n",
       "      <td>0.408421</td>\n",
       "    </tr>\n",
       "    <tr>\n",
       "      <td>5</td>\n",
       "      <td>0.103400</td>\n",
       "      <td>0.134732</td>\n",
       "      <td>0.605386</td>\n",
       "      <td>0.749923</td>\n",
       "      <td>0.184454</td>\n",
       "      <td>0.434089</td>\n",
       "    </tr>\n",
       "    <tr>\n",
       "      <td>6</td>\n",
       "      <td>0.093700</td>\n",
       "      <td>0.133428</td>\n",
       "      <td>0.614290</td>\n",
       "      <td>0.757610</td>\n",
       "      <td>0.190315</td>\n",
       "      <td>0.443303</td>\n",
       "    </tr>\n",
       "    <tr>\n",
       "      <td>8</td>\n",
       "      <td>0.086700</td>\n",
       "      <td>0.133145</td>\n",
       "      <td>0.620375</td>\n",
       "      <td>0.762284</td>\n",
       "      <td>0.192474</td>\n",
       "      <td>0.449669</td>\n",
       "    </tr>\n",
       "    <tr>\n",
       "      <td>8</td>\n",
       "      <td>0.080600</td>\n",
       "      <td>0.132554</td>\n",
       "      <td>0.622715</td>\n",
       "      <td>0.762406</td>\n",
       "      <td>0.201419</td>\n",
       "      <td>0.452132</td>\n",
       "    </tr>\n",
       "    <tr>\n",
       "      <td>9</td>\n",
       "      <td>0.077300</td>\n",
       "      <td>0.132676</td>\n",
       "      <td>0.626066</td>\n",
       "      <td>0.765166</td>\n",
       "      <td>0.200802</td>\n",
       "      <td>0.455674</td>\n",
       "    </tr>\n",
       "  </tbody>\n",
       "</table><p>"
      ],
      "text/plain": [
       "<IPython.core.display.HTML object>"
      ]
     },
     "metadata": {},
     "output_type": "display_data"
    },
    {
     "name": "stderr",
     "output_type": "stream",
     "text": [
      "C:\\Users\\sinan\\anaconda3\\envs\\DL\\lib\\site-packages\\torch\\nn\\parallel\\_functions.py:68: UserWarning: Was asked to gather along dimension 0, but all input tensors were scalars; will instead unsqueeze and return a vector.\n",
      "  warnings.warn('Was asked to gather along dimension 0, but all '\n",
      "C:\\Users\\sinan\\anaconda3\\envs\\DL\\lib\\site-packages\\torch\\cuda\\nccl.py:15: UserWarning: PyTorch is not compiled with NCCL support\n",
      "  warnings.warn('PyTorch is not compiled with NCCL support')\n",
      "C:\\Users\\sinan\\anaconda3\\envs\\DL\\lib\\site-packages\\torch\\nn\\parallel\\_functions.py:68: UserWarning: Was asked to gather along dimension 0, but all input tensors were scalars; will instead unsqueeze and return a vector.\n",
      "  warnings.warn('Was asked to gather along dimension 0, but all '\n",
      "C:\\Users\\sinan\\anaconda3\\envs\\DL\\lib\\site-packages\\torch\\cuda\\nccl.py:15: UserWarning: PyTorch is not compiled with NCCL support\n",
      "  warnings.warn('PyTorch is not compiled with NCCL support')\n",
      "C:\\Users\\sinan\\anaconda3\\envs\\DL\\lib\\site-packages\\torch\\nn\\parallel\\_functions.py:68: UserWarning: Was asked to gather along dimension 0, but all input tensors were scalars; will instead unsqueeze and return a vector.\n",
      "  warnings.warn('Was asked to gather along dimension 0, but all '\n",
      "C:\\Users\\sinan\\anaconda3\\envs\\DL\\lib\\site-packages\\torch\\cuda\\nccl.py:15: UserWarning: PyTorch is not compiled with NCCL support\n",
      "  warnings.warn('PyTorch is not compiled with NCCL support')\n",
      "C:\\Users\\sinan\\anaconda3\\envs\\DL\\lib\\site-packages\\torch\\nn\\parallel\\_functions.py:68: UserWarning: Was asked to gather along dimension 0, but all input tensors were scalars; will instead unsqueeze and return a vector.\n",
      "  warnings.warn('Was asked to gather along dimension 0, but all '\n",
      "C:\\Users\\sinan\\anaconda3\\envs\\DL\\lib\\site-packages\\torch\\cuda\\nccl.py:15: UserWarning: PyTorch is not compiled with NCCL support\n",
      "  warnings.warn('PyTorch is not compiled with NCCL support')\n",
      "C:\\Users\\sinan\\anaconda3\\envs\\DL\\lib\\site-packages\\torch\\nn\\parallel\\_functions.py:68: UserWarning: Was asked to gather along dimension 0, but all input tensors were scalars; will instead unsqueeze and return a vector.\n",
      "  warnings.warn('Was asked to gather along dimension 0, but all '\n",
      "C:\\Users\\sinan\\anaconda3\\envs\\DL\\lib\\site-packages\\torch\\cuda\\nccl.py:15: UserWarning: PyTorch is not compiled with NCCL support\n",
      "  warnings.warn('PyTorch is not compiled with NCCL support')\n",
      "C:\\Users\\sinan\\anaconda3\\envs\\DL\\lib\\site-packages\\torch\\nn\\parallel\\_functions.py:68: UserWarning: Was asked to gather along dimension 0, but all input tensors were scalars; will instead unsqueeze and return a vector.\n",
      "  warnings.warn('Was asked to gather along dimension 0, but all '\n",
      "C:\\Users\\sinan\\anaconda3\\envs\\DL\\lib\\site-packages\\torch\\cuda\\nccl.py:15: UserWarning: PyTorch is not compiled with NCCL support\n",
      "  warnings.warn('PyTorch is not compiled with NCCL support')\n",
      "C:\\Users\\sinan\\anaconda3\\envs\\DL\\lib\\site-packages\\torch\\nn\\parallel\\_functions.py:68: UserWarning: Was asked to gather along dimension 0, but all input tensors were scalars; will instead unsqueeze and return a vector.\n",
      "  warnings.warn('Was asked to gather along dimension 0, but all '\n",
      "C:\\Users\\sinan\\anaconda3\\envs\\DL\\lib\\site-packages\\torch\\cuda\\nccl.py:15: UserWarning: PyTorch is not compiled with NCCL support\n",
      "  warnings.warn('PyTorch is not compiled with NCCL support')\n",
      "C:\\Users\\sinan\\anaconda3\\envs\\DL\\lib\\site-packages\\torch\\nn\\parallel\\_functions.py:68: UserWarning: Was asked to gather along dimension 0, but all input tensors were scalars; will instead unsqueeze and return a vector.\n",
      "  warnings.warn('Was asked to gather along dimension 0, but all '\n",
      "C:\\Users\\sinan\\anaconda3\\envs\\DL\\lib\\site-packages\\torch\\cuda\\nccl.py:15: UserWarning: PyTorch is not compiled with NCCL support\n",
      "  warnings.warn('PyTorch is not compiled with NCCL support')\n",
      "C:\\Users\\sinan\\anaconda3\\envs\\DL\\lib\\site-packages\\torch\\nn\\parallel\\_functions.py:68: UserWarning: Was asked to gather along dimension 0, but all input tensors were scalars; will instead unsqueeze and return a vector.\n",
      "  warnings.warn('Was asked to gather along dimension 0, but all '\n",
      "C:\\Users\\sinan\\anaconda3\\envs\\DL\\lib\\site-packages\\torch\\cuda\\nccl.py:15: UserWarning: PyTorch is not compiled with NCCL support\n",
      "  warnings.warn('PyTorch is not compiled with NCCL support')\n"
     ]
    },
    {
     "data": {
      "text/plain": [
       "TrainOutput(global_step=1000, training_loss=0.1294983742237091, metrics={'train_runtime': 18498.7014, 'train_samples_per_second': 6.943, 'train_steps_per_second': 0.054, 'total_flos': 5.44381673587915e+16, 'train_loss': 0.1294983742237091, 'epoch': 9.96})"
      ]
     },
     "execution_count": 21,
     "metadata": {},
     "output_type": "execute_result"
    }
   ],
   "source": [
    "trainer.train()"
   ]
  },
  {
   "cell_type": "code",
   "execution_count": 22,
   "id": "a0b28568",
   "metadata": {},
   "outputs": [],
   "source": [
    "trainer.save_model()"
   ]
  },
  {
   "cell_type": "markdown",
   "id": "ef16181a",
   "metadata": {},
   "source": [
    "# Train with Distil BERT (Task-Agnostic Distilation)"
   ]
  },
  {
   "cell_type": "code",
   "execution_count": 23,
   "id": "a78bf3e8",
   "metadata": {},
   "outputs": [
    {
     "name": "stderr",
     "output_type": "stream",
     "text": [
      "Some weights of the model checkpoint at distilbert-base-uncased were not used when initializing DistilBertForSequenceClassification: ['vocab_layer_norm.weight', 'vocab_transform.weight', 'vocab_projector.bias', 'vocab_transform.bias', 'vocab_projector.weight', 'vocab_layer_norm.bias']\n",
      "- This IS expected if you are initializing DistilBertForSequenceClassification from the checkpoint of a model trained on another task or with another architecture (e.g. initializing a BertForSequenceClassification model from a BertForPreTraining model).\n",
      "- This IS NOT expected if you are initializing DistilBertForSequenceClassification from the checkpoint of a model that you expect to be exactly identical (initializing a BertForSequenceClassification model from a BertForSequenceClassification model).\n",
      "Some weights of DistilBertForSequenceClassification were not initialized from the model checkpoint at distilbert-base-uncased and are newly initialized: ['classifier.weight', 'classifier.bias', 'pre_classifier.bias', 'pre_classifier.weight']\n",
      "You should probably TRAIN this model on a down-stream task to be able to use it for predictions and inference.\n"
     ]
    }
   ],
   "source": [
    "\n",
    "distil_model = AutoModelForSequenceClassification.from_pretrained(\n",
    "    'distilbert-base-uncased',\n",
    "    problem_type=\"multi_label_classification\", \n",
    "    num_labels=len(unique_labels),\n",
    "    id2label=id2label,\n",
    "    label2id=label2id\n",
    ")"
   ]
  },
  {
   "cell_type": "code",
   "execution_count": 24,
   "id": "f2d76792",
   "metadata": {},
   "outputs": [
    {
     "name": "stderr",
     "output_type": "stream",
     "text": [
      "C:\\Users\\sinan\\anaconda3\\envs\\DL\\lib\\site-packages\\torch\\nn\\parallel\\_functions.py:68: UserWarning: Was asked to gather along dimension 0, but all input tensors were scalars; will instead unsqueeze and return a vector.\n",
      "  warnings.warn('Was asked to gather along dimension 0, but all '\n"
     ]
    },
    {
     "data": {
      "text/html": [
       "\n",
       "    <div>\n",
       "      \n",
       "      <progress value='52' max='26' style='width:300px; height:20px; vertical-align: middle;'></progress>\n",
       "      [26/26 03:34]\n",
       "    </div>\n",
       "    "
      ],
      "text/plain": [
       "<IPython.core.display.HTML object>"
      ]
     },
     "metadata": {},
     "output_type": "display_data"
    },
    {
     "data": {
      "text/plain": [
       "{'eval_loss': 0.6807233095169067,\n",
       " 'eval_f1': 0.14024870679318968,\n",
       " 'eval_roc_auc': 0.5349742837728174,\n",
       " 'eval_accuracy': 0.0,\n",
       " 'eval_jaccard': 0.07541261420571765,\n",
       " 'eval_runtime': 13.3709,\n",
       " 'eval_samples_per_second': 242.467,\n",
       " 'eval_steps_per_second': 1.945}"
      ]
     },
     "execution_count": 24,
     "metadata": {},
     "output_type": "execute_result"
    }
   ],
   "source": [
    "from transformers import TrainingArguments, Trainer\n",
    "\n",
    "args = TrainingArguments(\n",
    "    f\"genre-prediction-distilbert\",\n",
    "    evaluation_strategy = \"epoch\",\n",
    "    save_strategy = \"epoch\",\n",
    "    per_device_train_batch_size=16,\n",
    "    gradient_accumulation_steps=4,\n",
    "    per_device_eval_batch_size=64,\n",
    "    num_train_epochs=10,\n",
    "    logging_steps=50,\n",
    "    load_best_model_at_end=True,\n",
    "    fp16=True\n",
    ")\n",
    "\n",
    "trainer = Trainer(\n",
    "    distil_model,\n",
    "    args,\n",
    "    train_dataset=description_encoded_dataset[\"train\"],\n",
    "    eval_dataset=description_encoded_dataset[\"test\"],\n",
    "    tokenizer=tokenizer,\n",
    "    data_collator=data_collator,\n",
    "    compute_metrics=compute_metrics\n",
    ")\n",
    "\n",
    "trainer.evaluate()"
   ]
  },
  {
   "cell_type": "code",
   "execution_count": 25,
   "id": "379a486f",
   "metadata": {},
   "outputs": [
    {
     "name": "stderr",
     "output_type": "stream",
     "text": [
      "C:\\Users\\sinan\\anaconda3\\envs\\DL\\lib\\site-packages\\transformers\\optimization.py:391: FutureWarning: This implementation of AdamW is deprecated and will be removed in a future version. Use the PyTorch implementation torch.optim.AdamW instead, or set `no_deprecation_warning=True` to disable this warning\n",
      "  warnings.warn(\n",
      "C:\\Users\\sinan\\anaconda3\\envs\\DL\\lib\\site-packages\\torch\\nn\\parallel\\_functions.py:68: UserWarning: Was asked to gather along dimension 0, but all input tensors were scalars; will instead unsqueeze and return a vector.\n",
      "  warnings.warn('Was asked to gather along dimension 0, but all '\n",
      "C:\\Users\\sinan\\anaconda3\\envs\\DL\\lib\\site-packages\\torch\\cuda\\nccl.py:15: UserWarning: PyTorch is not compiled with NCCL support\n",
      "  warnings.warn('PyTorch is not compiled with NCCL support')\n"
     ]
    },
    {
     "data": {
      "text/html": [
       "\n",
       "    <div>\n",
       "      \n",
       "      <progress value='1000' max='1000' style='width:300px; height:20px; vertical-align: middle;'></progress>\n",
       "      [1000/1000 33:34, Epoch 9/10]\n",
       "    </div>\n",
       "    <table border=\"1\" class=\"dataframe\">\n",
       "  <thead>\n",
       " <tr style=\"text-align: left;\">\n",
       "      <th>Epoch</th>\n",
       "      <th>Training Loss</th>\n",
       "      <th>Validation Loss</th>\n",
       "      <th>F1</th>\n",
       "      <th>Roc Auc</th>\n",
       "      <th>Accuracy</th>\n",
       "      <th>Jaccard</th>\n",
       "    </tr>\n",
       "  </thead>\n",
       "  <tbody>\n",
       "    <tr>\n",
       "      <td>0</td>\n",
       "      <td>0.225500</td>\n",
       "      <td>0.214580</td>\n",
       "      <td>0.000000</td>\n",
       "      <td>0.500000</td>\n",
       "      <td>0.000000</td>\n",
       "      <td>0.000000</td>\n",
       "    </tr>\n",
       "    <tr>\n",
       "      <td>2</td>\n",
       "      <td>0.191100</td>\n",
       "      <td>0.181517</td>\n",
       "      <td>0.265005</td>\n",
       "      <td>0.578795</td>\n",
       "      <td>0.065083</td>\n",
       "      <td>0.152741</td>\n",
       "    </tr>\n",
       "    <tr>\n",
       "      <td>2</td>\n",
       "      <td>0.165800</td>\n",
       "      <td>0.163645</td>\n",
       "      <td>0.447409</td>\n",
       "      <td>0.659666</td>\n",
       "      <td>0.119988</td>\n",
       "      <td>0.288169</td>\n",
       "    </tr>\n",
       "    <tr>\n",
       "      <td>4</td>\n",
       "      <td>0.148400</td>\n",
       "      <td>0.152460</td>\n",
       "      <td>0.469803</td>\n",
       "      <td>0.667865</td>\n",
       "      <td>0.125540</td>\n",
       "      <td>0.307022</td>\n",
       "    </tr>\n",
       "    <tr>\n",
       "      <td>4</td>\n",
       "      <td>0.135700</td>\n",
       "      <td>0.146029</td>\n",
       "      <td>0.506707</td>\n",
       "      <td>0.686230</td>\n",
       "      <td>0.138186</td>\n",
       "      <td>0.339322</td>\n",
       "    </tr>\n",
       "    <tr>\n",
       "      <td>6</td>\n",
       "      <td>0.123200</td>\n",
       "      <td>0.142748</td>\n",
       "      <td>0.546603</td>\n",
       "      <td>0.714366</td>\n",
       "      <td>0.153917</td>\n",
       "      <td>0.376086</td>\n",
       "    </tr>\n",
       "    <tr>\n",
       "      <td>6</td>\n",
       "      <td>0.115200</td>\n",
       "      <td>0.140644</td>\n",
       "      <td>0.557181</td>\n",
       "      <td>0.719514</td>\n",
       "      <td>0.157927</td>\n",
       "      <td>0.386175</td>\n",
       "    </tr>\n",
       "    <tr>\n",
       "      <td>8</td>\n",
       "      <td>0.109000</td>\n",
       "      <td>0.140550</td>\n",
       "      <td>0.564871</td>\n",
       "      <td>0.725514</td>\n",
       "      <td>0.162246</td>\n",
       "      <td>0.393603</td>\n",
       "    </tr>\n",
       "    <tr>\n",
       "      <td>8</td>\n",
       "      <td>0.103400</td>\n",
       "      <td>0.139919</td>\n",
       "      <td>0.564481</td>\n",
       "      <td>0.724473</td>\n",
       "      <td>0.162554</td>\n",
       "      <td>0.393224</td>\n",
       "    </tr>\n",
       "    <tr>\n",
       "      <td>9</td>\n",
       "      <td>0.101100</td>\n",
       "      <td>0.139990</td>\n",
       "      <td>0.565733</td>\n",
       "      <td>0.724779</td>\n",
       "      <td>0.167181</td>\n",
       "      <td>0.394441</td>\n",
       "    </tr>\n",
       "  </tbody>\n",
       "</table><p>"
      ],
      "text/plain": [
       "<IPython.core.display.HTML object>"
      ]
     },
     "metadata": {},
     "output_type": "display_data"
    },
    {
     "name": "stderr",
     "output_type": "stream",
     "text": [
      "C:\\Users\\sinan\\anaconda3\\envs\\DL\\lib\\site-packages\\torch\\nn\\parallel\\_functions.py:68: UserWarning: Was asked to gather along dimension 0, but all input tensors were scalars; will instead unsqueeze and return a vector.\n",
      "  warnings.warn('Was asked to gather along dimension 0, but all '\n",
      "C:\\Users\\sinan\\anaconda3\\envs\\DL\\lib\\site-packages\\torch\\cuda\\nccl.py:15: UserWarning: PyTorch is not compiled with NCCL support\n",
      "  warnings.warn('PyTorch is not compiled with NCCL support')\n",
      "C:\\Users\\sinan\\anaconda3\\envs\\DL\\lib\\site-packages\\torch\\nn\\parallel\\_functions.py:68: UserWarning: Was asked to gather along dimension 0, but all input tensors were scalars; will instead unsqueeze and return a vector.\n",
      "  warnings.warn('Was asked to gather along dimension 0, but all '\n",
      "C:\\Users\\sinan\\anaconda3\\envs\\DL\\lib\\site-packages\\torch\\cuda\\nccl.py:15: UserWarning: PyTorch is not compiled with NCCL support\n",
      "  warnings.warn('PyTorch is not compiled with NCCL support')\n",
      "C:\\Users\\sinan\\anaconda3\\envs\\DL\\lib\\site-packages\\torch\\nn\\parallel\\_functions.py:68: UserWarning: Was asked to gather along dimension 0, but all input tensors were scalars; will instead unsqueeze and return a vector.\n",
      "  warnings.warn('Was asked to gather along dimension 0, but all '\n",
      "C:\\Users\\sinan\\anaconda3\\envs\\DL\\lib\\site-packages\\torch\\cuda\\nccl.py:15: UserWarning: PyTorch is not compiled with NCCL support\n",
      "  warnings.warn('PyTorch is not compiled with NCCL support')\n",
      "C:\\Users\\sinan\\anaconda3\\envs\\DL\\lib\\site-packages\\torch\\nn\\parallel\\_functions.py:68: UserWarning: Was asked to gather along dimension 0, but all input tensors were scalars; will instead unsqueeze and return a vector.\n",
      "  warnings.warn('Was asked to gather along dimension 0, but all '\n",
      "C:\\Users\\sinan\\anaconda3\\envs\\DL\\lib\\site-packages\\torch\\cuda\\nccl.py:15: UserWarning: PyTorch is not compiled with NCCL support\n",
      "  warnings.warn('PyTorch is not compiled with NCCL support')\n",
      "C:\\Users\\sinan\\anaconda3\\envs\\DL\\lib\\site-packages\\torch\\nn\\parallel\\_functions.py:68: UserWarning: Was asked to gather along dimension 0, but all input tensors were scalars; will instead unsqueeze and return a vector.\n",
      "  warnings.warn('Was asked to gather along dimension 0, but all '\n",
      "C:\\Users\\sinan\\anaconda3\\envs\\DL\\lib\\site-packages\\torch\\cuda\\nccl.py:15: UserWarning: PyTorch is not compiled with NCCL support\n",
      "  warnings.warn('PyTorch is not compiled with NCCL support')\n",
      "C:\\Users\\sinan\\anaconda3\\envs\\DL\\lib\\site-packages\\torch\\nn\\parallel\\_functions.py:68: UserWarning: Was asked to gather along dimension 0, but all input tensors were scalars; will instead unsqueeze and return a vector.\n",
      "  warnings.warn('Was asked to gather along dimension 0, but all '\n",
      "C:\\Users\\sinan\\anaconda3\\envs\\DL\\lib\\site-packages\\torch\\cuda\\nccl.py:15: UserWarning: PyTorch is not compiled with NCCL support\n",
      "  warnings.warn('PyTorch is not compiled with NCCL support')\n",
      "C:\\Users\\sinan\\anaconda3\\envs\\DL\\lib\\site-packages\\torch\\nn\\parallel\\_functions.py:68: UserWarning: Was asked to gather along dimension 0, but all input tensors were scalars; will instead unsqueeze and return a vector.\n",
      "  warnings.warn('Was asked to gather along dimension 0, but all '\n",
      "C:\\Users\\sinan\\anaconda3\\envs\\DL\\lib\\site-packages\\torch\\cuda\\nccl.py:15: UserWarning: PyTorch is not compiled with NCCL support\n",
      "  warnings.warn('PyTorch is not compiled with NCCL support')\n",
      "C:\\Users\\sinan\\anaconda3\\envs\\DL\\lib\\site-packages\\torch\\nn\\parallel\\_functions.py:68: UserWarning: Was asked to gather along dimension 0, but all input tensors were scalars; will instead unsqueeze and return a vector.\n",
      "  warnings.warn('Was asked to gather along dimension 0, but all '\n",
      "C:\\Users\\sinan\\anaconda3\\envs\\DL\\lib\\site-packages\\torch\\cuda\\nccl.py:15: UserWarning: PyTorch is not compiled with NCCL support\n",
      "  warnings.warn('PyTorch is not compiled with NCCL support')\n",
      "C:\\Users\\sinan\\anaconda3\\envs\\DL\\lib\\site-packages\\torch\\nn\\parallel\\_functions.py:68: UserWarning: Was asked to gather along dimension 0, but all input tensors were scalars; will instead unsqueeze and return a vector.\n",
      "  warnings.warn('Was asked to gather along dimension 0, but all '\n",
      "C:\\Users\\sinan\\anaconda3\\envs\\DL\\lib\\site-packages\\torch\\cuda\\nccl.py:15: UserWarning: PyTorch is not compiled with NCCL support\n",
      "  warnings.warn('PyTorch is not compiled with NCCL support')\n"
     ]
    },
    {
     "data": {
      "text/plain": [
       "TrainOutput(global_step=1000, training_loss=0.15187877035140993, metrics={'train_runtime': 2016.1971, 'train_samples_per_second': 63.699, 'train_steps_per_second': 0.496, 'total_flos': 8453222092487700.0, 'train_loss': 0.15187877035140993, 'epoch': 9.95})"
      ]
     },
     "execution_count": 25,
     "metadata": {},
     "output_type": "execute_result"
    }
   ],
   "source": [
    "trainer.train()"
   ]
  },
  {
   "cell_type": "code",
   "execution_count": null,
   "id": "348f1b00",
   "metadata": {},
   "outputs": [],
   "source": []
  },
  {
   "cell_type": "code",
   "execution_count": null,
   "id": "a3b21172",
   "metadata": {},
   "outputs": [],
   "source": []
  },
  {
   "cell_type": "code",
   "execution_count": null,
   "id": "5302ebf0",
   "metadata": {},
   "outputs": [],
   "source": []
  },
  {
   "cell_type": "code",
   "execution_count": null,
   "id": "ff565044",
   "metadata": {},
   "outputs": [],
   "source": []
  },
  {
   "cell_type": "markdown",
   "id": "c38b4619",
   "metadata": {},
   "source": [
    "# (Task-Specific Distilation)"
   ]
  },
  {
   "cell_type": "code",
   "execution_count": 15,
   "id": "2eea2100",
   "metadata": {},
   "outputs": [],
   "source": [
    "from transformers import TrainingArguments, Trainer\n",
    "import torch\n",
    "import torch.nn as nn\n",
    "import torch.nn.functional as F\n",
    "\n",
    "# Custom TrainingArguments class to add distillation specific parameters\n",
    "class DistillationTrainingArguments(TrainingArguments):\n",
    "    def __init__(self, *args, alpha=0.5, temperature=2.0, **kwargs):\n",
    "        super().__init__(*args, **kwargs)\n",
    "\n",
    "        # Alpha is the weight for the original student loss\n",
    "        # A higher value means more focus on the student's original task\n",
    "        self.alpha = alpha\n",
    "\n",
    "        # Temperature parameter to soften probability distributions before calculating distillation loss\n",
    "        # Higher value makes the distribution more uniform, carrying more information about the teacher model's outputs\n",
    "        self.temperature = temperature\n",
    "\n",
    "# Custom Trainer class to implement knowledge distillation\n",
    "class DistillationTrainer(Trainer):\n",
    "    def __init__(self, *args, teacher_model=None, **kwargs):\n",
    "        super().__init__(*args, **kwargs)\n",
    "        \n",
    "        # The teacher model, a pre-trained model that the student model will learn from\n",
    "        self.teacher = teacher_model\n",
    "\n",
    "        # Move the teacher model to the same device as the student model\n",
    "        # This is necessary for the computations in the forward pass\n",
    "        self._move_model_to_device(self.teacher, self.model.device)\n",
    "\n",
    "        # Set teacher model to eval mode because we only want to use it for inference, not for training\n",
    "        self.teacher.eval()\n",
    "\n",
    "    def compute_loss(self, model, inputs, return_outputs=False):\n",
    "        # Compute the output of the student model on the inputs\n",
    "        outputs_student = model(**inputs)\n",
    "        # Original loss of the student model (e.g., cross entropy for classification)\n",
    "        student_loss = outputs_student.loss\n",
    "\n",
    "        # Compute the output of the teacher model on the inputs\n",
    "        # We don't need gradients for the teacher model, so we use torch.no_grad to avoid unnecessary computation\n",
    "        with torch.no_grad():\n",
    "            outputs_teacher = self.teacher(**inputs)\n",
    "\n",
    "        # Check that the sizes of the student and teacher outputs match\n",
    "        assert outputs_student.logits.size() == outputs_teacher.logits.size()\n",
    "\n",
    "        # Kullback-Leibler divergence loss function, comparing the softened output distributions of the student and teacher models\n",
    "        loss_function = nn.KLDivLoss(reduction=\"batchmean\")\n",
    "\n",
    "        # Calculate the distillation loss between the student and teacher outputs\n",
    "        # We apply log_softmax to the student's outputs and softmax to the teacher's outputs before calculating the loss\n",
    "        # This is due to the expectation of log probabilities for the input and probabilities for the target in nn.KLDivLoss\n",
    "        \n",
    "        # Note multiplying by temperature^2 is not to punish the loss like we did during reward modeling for SAWYER..\n",
    "        # It is done because we divided both student and teacher logits by temperature so this operation puts the loss\n",
    "        # back on the same scale as student_loss, which we are about to combine using a weighted mean\n",
    "        loss_logits = (loss_function(\n",
    "            F.log_softmax(outputs_student.logits / self.args.temperature, dim=-1),\n",
    "            F.softmax(outputs_teacher.logits / self.args.temperature, dim=-1)) * (self.args.temperature ** 2))\n",
    "\n",
    "        # The total loss is a weighted combination of the student's original loss and the distillation loss\n",
    "        loss = self.args.alpha * student_loss + (1. - self.args.alpha) * loss_logits\n",
    "\n",
    "        # Depending on the return_outputs parameter, return either the loss alone or the loss and the student's outputs\n",
    "        return (loss, outputs_student) if return_outputs else loss\n"
   ]
  },
  {
   "cell_type": "code",
   "execution_count": 16,
   "id": "0e7a7950",
   "metadata": {},
   "outputs": [],
   "source": [
    "tokenizer = AutoTokenizer.from_pretrained(TEACHER_MODEL)\n",
    "\n",
    "trained_model = AutoModelForSequenceClassification.from_pretrained(\n",
    "    f\"genre-prediction-bert\", problem_type=\"multi_label_classification\",\n",
    ")\n"
   ]
  },
  {
   "cell_type": "code",
   "execution_count": 17,
   "id": "31536062",
   "metadata": {},
   "outputs": [
    {
     "name": "stderr",
     "output_type": "stream",
     "text": [
      "Some weights of the model checkpoint at distilbert-base-uncased were not used when initializing DistilBertForSequenceClassification: ['vocab_layer_norm.bias', 'vocab_transform.weight', 'vocab_transform.bias', 'vocab_layer_norm.weight', 'vocab_projector.bias']\n",
      "- This IS expected if you are initializing DistilBertForSequenceClassification from the checkpoint of a model trained on another task or with another architecture (e.g. initializing a BertForSequenceClassification model from a BertForPreTraining model).\n",
      "- This IS NOT expected if you are initializing DistilBertForSequenceClassification from the checkpoint of a model that you expect to be exactly identical (initializing a BertForSequenceClassification model from a BertForSequenceClassification model).\n",
      "Some weights of DistilBertForSequenceClassification were not initialized from the model checkpoint at distilbert-base-uncased and are newly initialized: ['classifier.weight', 'pre_classifier.weight', 'pre_classifier.bias', 'classifier.bias']\n",
      "You should probably TRAIN this model on a down-stream task to be able to use it for predictions and inference.\n"
     ]
    }
   ],
   "source": [
    "# define student model\n",
    "student_model = AutoModelForSequenceClassification.from_pretrained(\n",
    "    'distilbert-base-uncased',\n",
    "    num_labels=len(unique_labels),\n",
    "    id2label=id2label,\n",
    "    label2id=label2id,\n",
    ")"
   ]
  },
  {
   "cell_type": "code",
   "execution_count": 24,
   "id": "8a5f0d0e",
   "metadata": {},
   "outputs": [],
   "source": [
    "# define training args\n",
    "training_args = DistillationTrainingArguments(\n",
    "    output_dir='distilled-genre-prediction',\n",
    "    evaluation_strategy = \"epoch\",\n",
    "    save_strategy = \"epoch\",\n",
    "    num_train_epochs=10,\n",
    "    logging_steps=50,\n",
    "    per_device_train_batch_size=16,\n",
    "    gradient_accumulation_steps=4,\n",
    "    per_device_eval_batch_size=64,\n",
    "    load_best_model_at_end=True,\n",
    "    alpha=0.2,\n",
    "    temperature=8.0,\n",
    "    use_mps_device=True\n",
    "#     fp16=True\n",
    "    )\n"
   ]
  },
  {
   "cell_type": "code",
   "execution_count": 25,
   "id": "4fb3606a",
   "metadata": {},
   "outputs": [],
   "source": [
    "distil_trainer = DistillationTrainer(\n",
    "    student_model,\n",
    "    training_args,\n",
    "    teacher_model=trained_model,\n",
    "    train_dataset=description_encoded_dataset[\"train\"],\n",
    "    eval_dataset=description_encoded_dataset[\"test\"],\n",
    "    data_collator=data_collator,\n",
    "    tokenizer=tokenizer,\n",
    "    compute_metrics=compute_metrics,\n",
    ")\n"
   ]
  },
  {
   "cell_type": "code",
   "execution_count": 26,
   "id": "9f398e8a",
   "metadata": {},
   "outputs": [
    {
     "data": {
      "text/html": [
       "\n",
       "    <div>\n",
       "      \n",
       "      <progress value='51' max='51' style='width:300px; height:20px; vertical-align: middle;'></progress>\n",
       "      [51/51 01:50]\n",
       "    </div>\n",
       "    "
      ],
      "text/plain": [
       "<IPython.core.display.HTML object>"
      ]
     },
     "metadata": {},
     "output_type": "display_data"
    },
    {
     "name": "stdout",
     "output_type": "stream",
     "text": [
      "huggingface/tokenizers: The current process just got forked, after parallelism has already been used. Disabling parallelism to avoid deadlocks...\n",
      "To disable this warning, you can either:\n",
      "\t- Avoid using `tokenizers` before the fork if possible\n",
      "\t- Explicitly set the environment variable TOKENIZERS_PARALLELISM=(true | false)\n",
      "huggingface/tokenizers: The current process just got forked, after parallelism has already been used. Disabling parallelism to avoid deadlocks...\n",
      "To disable this warning, you can either:\n",
      "\t- Avoid using `tokenizers` before the fork if possible\n",
      "\t- Explicitly set the environment variable TOKENIZERS_PARALLELISM=(true | false)\n"
     ]
    },
    {
     "name": "stderr",
     "output_type": "stream",
     "text": [
      "\u001b[34m\u001b[1mwandb\u001b[0m: Currently logged in as: \u001b[33mprofoz\u001b[0m. Use \u001b[1m`wandb login --relogin`\u001b[0m to force relogin\n"
     ]
    },
    {
     "name": "stdout",
     "output_type": "stream",
     "text": [
      "huggingface/tokenizers: The current process just got forked, after parallelism has already been used. Disabling parallelism to avoid deadlocks...\n",
      "To disable this warning, you can either:\n",
      "\t- Avoid using `tokenizers` before the fork if possible\n",
      "\t- Explicitly set the environment variable TOKENIZERS_PARALLELISM=(true | false)\n",
      "huggingface/tokenizers: The current process just got forked, after parallelism has already been used. Disabling parallelism to avoid deadlocks...\n",
      "To disable this warning, you can either:\n",
      "\t- Avoid using `tokenizers` before the fork if possible\n",
      "\t- Explicitly set the environment variable TOKENIZERS_PARALLELISM=(true | false)\n"
     ]
    },
    {
     "data": {
      "application/vnd.jupyter.widget-view+json": {
       "model_id": "7e15ce33bc044baf987d4a15785faa81",
       "version_major": 2,
       "version_minor": 0
      },
      "text/plain": [
       "VBox(children=(Label(value='Waiting for wandb.init()...\\r'), FloatProgress(value=0.01675316458567977, max=1.0)…"
      ]
     },
     "metadata": {},
     "output_type": "display_data"
    },
    {
     "data": {
      "text/html": [
       "wandb version 0.15.9 is available!  To upgrade, please run:\n",
       " $ pip install wandb --upgrade"
      ],
      "text/plain": [
       "<IPython.core.display.HTML object>"
      ]
     },
     "metadata": {},
     "output_type": "display_data"
    },
    {
     "data": {
      "text/html": [
       "Tracking run with wandb version 0.14.0"
      ],
      "text/plain": [
       "<IPython.core.display.HTML object>"
      ]
     },
     "metadata": {},
     "output_type": "display_data"
    },
    {
     "data": {
      "text/html": [
       "Run data is saved locally in <code>/Users/sinanozdemir/Teaching/Pearson/quick-start-llms/notebooks/wandb/run-20230830_082540-vi5kojep</code>"
      ],
      "text/plain": [
       "<IPython.core.display.HTML object>"
      ]
     },
     "metadata": {},
     "output_type": "display_data"
    },
    {
     "data": {
      "text/html": [
       "Syncing run <strong><a href='https://wandb.ai/profoz/huggingface/runs/vi5kojep' target=\"_blank\">woven-salad-179</a></strong> to <a href='https://wandb.ai/profoz/huggingface' target=\"_blank\">Weights & Biases</a> (<a href='https://wandb.me/run' target=\"_blank\">docs</a>)<br/>"
      ],
      "text/plain": [
       "<IPython.core.display.HTML object>"
      ]
     },
     "metadata": {},
     "output_type": "display_data"
    },
    {
     "data": {
      "text/html": [
       " View project at <a href='https://wandb.ai/profoz/huggingface' target=\"_blank\">https://wandb.ai/profoz/huggingface</a>"
      ],
      "text/plain": [
       "<IPython.core.display.HTML object>"
      ]
     },
     "metadata": {},
     "output_type": "display_data"
    },
    {
     "data": {
      "text/html": [
       " View run at <a href='https://wandb.ai/profoz/huggingface/runs/vi5kojep' target=\"_blank\">https://wandb.ai/profoz/huggingface/runs/vi5kojep</a>"
      ],
      "text/plain": [
       "<IPython.core.display.HTML object>"
      ]
     },
     "metadata": {},
     "output_type": "display_data"
    },
    {
     "data": {
      "text/plain": [
       "{'eval_loss': 0.19041641056537628,\n",
       " 'eval_f1': 0.12052846007112074,\n",
       " 'eval_roc_auc': 0.4869344628339549,\n",
       " 'eval_accuracy': 0.0,\n",
       " 'eval_jaccard': 0.06412890938251804,\n",
       " 'eval_runtime': 113.5274,\n",
       " 'eval_samples_per_second': 28.557,\n",
       " 'eval_steps_per_second': 0.449}"
      ]
     },
     "execution_count": 26,
     "metadata": {},
     "output_type": "execute_result"
    }
   ],
   "source": [
    "distil_trainer.evaluate()\n"
   ]
  },
  {
   "cell_type": "code",
   "execution_count": null,
   "id": "39d08276",
   "metadata": {},
   "outputs": [
    {
     "name": "stderr",
     "output_type": "stream",
     "text": [
      "/opt/homebrew/lib/python3.10/site-packages/transformers/optimization.py:411: FutureWarning: This implementation of AdamW is deprecated and will be removed in a future version. Use the PyTorch implementation torch.optim.AdamW instead, or set `no_deprecation_warning=True` to disable this warning\n",
      "  warnings.warn(\n"
     ]
    },
    {
     "data": {
      "text/html": [
       "\n",
       "    <div>\n",
       "      \n",
       "      <progress value='15' max='2020' style='width:300px; height:20px; vertical-align: middle;'></progress>\n",
       "      [  15/2020 00:52 < 2:16:13, 0.25 it/s, Epoch 0.07/10]\n",
       "    </div>\n",
       "    <table border=\"1\" class=\"dataframe\">\n",
       "  <thead>\n",
       " <tr style=\"text-align: left;\">\n",
       "      <th>Epoch</th>\n",
       "      <th>Training Loss</th>\n",
       "      <th>Validation Loss</th>\n",
       "    </tr>\n",
       "  </thead>\n",
       "  <tbody>\n",
       "  </tbody>\n",
       "</table><p>"
      ],
      "text/plain": [
       "<IPython.core.display.HTML object>"
      ]
     },
     "metadata": {},
     "output_type": "display_data"
    }
   ],
   "source": [
    "distil_trainer.train()"
   ]
  },
  {
   "cell_type": "code",
   "execution_count": 38,
   "id": "2f17b844",
   "metadata": {},
   "outputs": [
    {
     "name": "stderr",
     "output_type": "stream",
     "text": [
      "C:\\Users\\sinan\\anaconda3\\envs\\DL\\lib\\site-packages\\transformers\\optimization.py:391: FutureWarning: This implementation of AdamW is deprecated and will be removed in a future version. Use the PyTorch implementation torch.optim.AdamW instead, or set `no_deprecation_warning=True` to disable this warning\n",
      "  warnings.warn(\n",
      "C:\\Users\\sinan\\anaconda3\\envs\\DL\\lib\\site-packages\\torch\\nn\\parallel\\_functions.py:68: UserWarning: Was asked to gather along dimension 0, but all input tensors were scalars; will instead unsqueeze and return a vector.\n",
      "  warnings.warn('Was asked to gather along dimension 0, but all '\n",
      "C:\\Users\\sinan\\anaconda3\\envs\\DL\\lib\\site-packages\\torch\\cuda\\nccl.py:15: UserWarning: PyTorch is not compiled with NCCL support\n",
      "  warnings.warn('PyTorch is not compiled with NCCL support')\n"
     ]
    },
    {
     "data": {
      "text/html": [
       "\n",
       "    <div>\n",
       "      \n",
       "      <progress value='1000' max='1000' style='width:300px; height:20px; vertical-align: middle;'></progress>\n",
       "      [1000/1000 3:34:20, Epoch 9/10]\n",
       "    </div>\n",
       "    <table border=\"1\" class=\"dataframe\">\n",
       "  <thead>\n",
       " <tr style=\"text-align: left;\">\n",
       "      <th>Epoch</th>\n",
       "      <th>Training Loss</th>\n",
       "      <th>Validation Loss</th>\n",
       "      <th>F1</th>\n",
       "      <th>Roc Auc</th>\n",
       "      <th>Accuracy</th>\n",
       "      <th>Jaccard</th>\n",
       "    </tr>\n",
       "  </thead>\n",
       "  <tbody>\n",
       "    <tr>\n",
       "      <td>0</td>\n",
       "      <td>0.886300</td>\n",
       "      <td>0.630698</td>\n",
       "      <td>0.460421</td>\n",
       "      <td>0.730562</td>\n",
       "      <td>0.041024</td>\n",
       "      <td>0.299056</td>\n",
       "    </tr>\n",
       "    <tr>\n",
       "      <td>2</td>\n",
       "      <td>0.584000</td>\n",
       "      <td>0.415083</td>\n",
       "      <td>0.518557</td>\n",
       "      <td>0.721375</td>\n",
       "      <td>0.123072</td>\n",
       "      <td>0.350035</td>\n",
       "    </tr>\n",
       "    <tr>\n",
       "      <td>2</td>\n",
       "      <td>0.451300</td>\n",
       "      <td>0.333049</td>\n",
       "      <td>0.540035</td>\n",
       "      <td>0.722533</td>\n",
       "      <td>0.149599</td>\n",
       "      <td>0.369896</td>\n",
       "    </tr>\n",
       "    <tr>\n",
       "      <td>4</td>\n",
       "      <td>0.365900</td>\n",
       "      <td>0.294507</td>\n",
       "      <td>0.552130</td>\n",
       "      <td>0.725916</td>\n",
       "      <td>0.150524</td>\n",
       "      <td>0.381340</td>\n",
       "    </tr>\n",
       "    <tr>\n",
       "      <td>4</td>\n",
       "      <td>0.306600</td>\n",
       "      <td>0.284926</td>\n",
       "      <td>0.555126</td>\n",
       "      <td>0.725027</td>\n",
       "      <td>0.151450</td>\n",
       "      <td>0.384203</td>\n",
       "    </tr>\n",
       "    <tr>\n",
       "      <td>6</td>\n",
       "      <td>0.261700</td>\n",
       "      <td>0.270110</td>\n",
       "      <td>0.568314</td>\n",
       "      <td>0.733727</td>\n",
       "      <td>0.157310</td>\n",
       "      <td>0.396954</td>\n",
       "    </tr>\n",
       "    <tr>\n",
       "      <td>6</td>\n",
       "      <td>0.233000</td>\n",
       "      <td>0.272241</td>\n",
       "      <td>0.567286</td>\n",
       "      <td>0.732110</td>\n",
       "      <td>0.160703</td>\n",
       "      <td>0.395952</td>\n",
       "    </tr>\n",
       "    <tr>\n",
       "      <td>8</td>\n",
       "      <td>0.212700</td>\n",
       "      <td>0.266215</td>\n",
       "      <td>0.570596</td>\n",
       "      <td>0.734322</td>\n",
       "      <td>0.159161</td>\n",
       "      <td>0.399185</td>\n",
       "    </tr>\n",
       "    <tr>\n",
       "      <td>8</td>\n",
       "      <td>0.199100</td>\n",
       "      <td>0.265983</td>\n",
       "      <td>0.570329</td>\n",
       "      <td>0.732915</td>\n",
       "      <td>0.162554</td>\n",
       "      <td>0.398923</td>\n",
       "    </tr>\n",
       "    <tr>\n",
       "      <td>9</td>\n",
       "      <td>0.190700</td>\n",
       "      <td>0.262912</td>\n",
       "      <td>0.573898</td>\n",
       "      <td>0.735281</td>\n",
       "      <td>0.163479</td>\n",
       "      <td>0.402424</td>\n",
       "    </tr>\n",
       "  </tbody>\n",
       "</table><p>"
      ],
      "text/plain": [
       "<IPython.core.display.HTML object>"
      ]
     },
     "metadata": {},
     "output_type": "display_data"
    },
    {
     "name": "stderr",
     "output_type": "stream",
     "text": [
      "C:\\Users\\sinan\\anaconda3\\envs\\DL\\lib\\site-packages\\torch\\nn\\parallel\\_functions.py:68: UserWarning: Was asked to gather along dimension 0, but all input tensors were scalars; will instead unsqueeze and return a vector.\n",
      "  warnings.warn('Was asked to gather along dimension 0, but all '\n",
      "C:\\Users\\sinan\\anaconda3\\envs\\DL\\lib\\site-packages\\torch\\cuda\\nccl.py:15: UserWarning: PyTorch is not compiled with NCCL support\n",
      "  warnings.warn('PyTorch is not compiled with NCCL support')\n",
      "C:\\Users\\sinan\\anaconda3\\envs\\DL\\lib\\site-packages\\torch\\nn\\parallel\\_functions.py:68: UserWarning: Was asked to gather along dimension 0, but all input tensors were scalars; will instead unsqueeze and return a vector.\n",
      "  warnings.warn('Was asked to gather along dimension 0, but all '\n",
      "C:\\Users\\sinan\\anaconda3\\envs\\DL\\lib\\site-packages\\torch\\cuda\\nccl.py:15: UserWarning: PyTorch is not compiled with NCCL support\n",
      "  warnings.warn('PyTorch is not compiled with NCCL support')\n",
      "C:\\Users\\sinan\\anaconda3\\envs\\DL\\lib\\site-packages\\torch\\nn\\parallel\\_functions.py:68: UserWarning: Was asked to gather along dimension 0, but all input tensors were scalars; will instead unsqueeze and return a vector.\n",
      "  warnings.warn('Was asked to gather along dimension 0, but all '\n",
      "C:\\Users\\sinan\\anaconda3\\envs\\DL\\lib\\site-packages\\torch\\cuda\\nccl.py:15: UserWarning: PyTorch is not compiled with NCCL support\n",
      "  warnings.warn('PyTorch is not compiled with NCCL support')\n",
      "C:\\Users\\sinan\\anaconda3\\envs\\DL\\lib\\site-packages\\torch\\nn\\parallel\\_functions.py:68: UserWarning: Was asked to gather along dimension 0, but all input tensors were scalars; will instead unsqueeze and return a vector.\n",
      "  warnings.warn('Was asked to gather along dimension 0, but all '\n",
      "C:\\Users\\sinan\\anaconda3\\envs\\DL\\lib\\site-packages\\torch\\cuda\\nccl.py:15: UserWarning: PyTorch is not compiled with NCCL support\n",
      "  warnings.warn('PyTorch is not compiled with NCCL support')\n",
      "C:\\Users\\sinan\\anaconda3\\envs\\DL\\lib\\site-packages\\torch\\nn\\parallel\\_functions.py:68: UserWarning: Was asked to gather along dimension 0, but all input tensors were scalars; will instead unsqueeze and return a vector.\n",
      "  warnings.warn('Was asked to gather along dimension 0, but all '\n",
      "C:\\Users\\sinan\\anaconda3\\envs\\DL\\lib\\site-packages\\torch\\cuda\\nccl.py:15: UserWarning: PyTorch is not compiled with NCCL support\n",
      "  warnings.warn('PyTorch is not compiled with NCCL support')\n",
      "C:\\Users\\sinan\\anaconda3\\envs\\DL\\lib\\site-packages\\torch\\nn\\parallel\\_functions.py:68: UserWarning: Was asked to gather along dimension 0, but all input tensors were scalars; will instead unsqueeze and return a vector.\n",
      "  warnings.warn('Was asked to gather along dimension 0, but all '\n",
      "C:\\Users\\sinan\\anaconda3\\envs\\DL\\lib\\site-packages\\torch\\cuda\\nccl.py:15: UserWarning: PyTorch is not compiled with NCCL support\n",
      "  warnings.warn('PyTorch is not compiled with NCCL support')\n",
      "C:\\Users\\sinan\\anaconda3\\envs\\DL\\lib\\site-packages\\torch\\nn\\parallel\\_functions.py:68: UserWarning: Was asked to gather along dimension 0, but all input tensors were scalars; will instead unsqueeze and return a vector.\n",
      "  warnings.warn('Was asked to gather along dimension 0, but all '\n",
      "C:\\Users\\sinan\\anaconda3\\envs\\DL\\lib\\site-packages\\torch\\cuda\\nccl.py:15: UserWarning: PyTorch is not compiled with NCCL support\n",
      "  warnings.warn('PyTorch is not compiled with NCCL support')\n",
      "C:\\Users\\sinan\\anaconda3\\envs\\DL\\lib\\site-packages\\torch\\nn\\parallel\\_functions.py:68: UserWarning: Was asked to gather along dimension 0, but all input tensors were scalars; will instead unsqueeze and return a vector.\n",
      "  warnings.warn('Was asked to gather along dimension 0, but all '\n",
      "C:\\Users\\sinan\\anaconda3\\envs\\DL\\lib\\site-packages\\torch\\cuda\\nccl.py:15: UserWarning: PyTorch is not compiled with NCCL support\n",
      "  warnings.warn('PyTorch is not compiled with NCCL support')\n",
      "C:\\Users\\sinan\\anaconda3\\envs\\DL\\lib\\site-packages\\torch\\nn\\parallel\\_functions.py:68: UserWarning: Was asked to gather along dimension 0, but all input tensors were scalars; will instead unsqueeze and return a vector.\n",
      "  warnings.warn('Was asked to gather along dimension 0, but all '\n",
      "C:\\Users\\sinan\\anaconda3\\envs\\DL\\lib\\site-packages\\torch\\cuda\\nccl.py:15: UserWarning: PyTorch is not compiled with NCCL support\n",
      "  warnings.warn('PyTorch is not compiled with NCCL support')\n"
     ]
    },
    {
     "data": {
      "text/plain": [
       "TrainOutput(global_step=1000, training_loss=0.3958173961639404, metrics={'train_runtime': 12865.4267, 'train_samples_per_second': 9.983, 'train_steps_per_second': 0.078, 'total_flos': 8453222092487700.0, 'train_loss': 0.3958173961639404, 'epoch': 9.95})"
      ]
     },
     "execution_count": 38,
     "metadata": {},
     "output_type": "execute_result"
    }
   ],
   "source": [
    "distil_trainer.train()"
   ]
  },
  {
   "cell_type": "code",
   "execution_count": 52,
   "id": "64f21496",
   "metadata": {},
   "outputs": [],
   "source": [
    "distil_trainer.save_model()"
   ]
  },
  {
   "cell_type": "code",
   "execution_count": 13,
   "id": "1b15cceb",
   "metadata": {},
   "outputs": [
    {
     "data": {
      "image/png": "[encoded data removed]",
      "text/plain": [
       "<Figure size 800x400 with 1 Axes>"
      ]
     },
     "metadata": {},
     "output_type": "display_data"
    }
   ],
   "source": [
    "import matplotlib.pyplot as plt\n",
    "\n",
    "# Assuming that your epochs start from 0 and increase by 2\n",
    "epochs = range(1,11)\n",
    "\n",
    "# Jaccard scores for each model (replace with your values)\n",
    "bert_jaccard = [0.150144, 0.294118, 0.369182, 0.380621, 0.408421, 0.434089, 0.443303, 0.449669, 0.452132, 0.455674]\n",
    "agnostic_distilbert_jaccard = [0.000000, 0.152741, 0.288169, 0.307022, 0.339322, 0.376086, 0.386175, 0.393603, 0.393224, 0.394441]\n",
    "specific_distilbert_jaccard = [0.299056, 0.350035, 0.369896, 0.381340, 0.384203, 0.396954, 0.395952, 0.399185, 0.398923, 0.402424]\n",
    "\n",
    "# F1 scores for BERT Large Uncased\n",
    "bert_f1 = [0.261087, 0.454545, 0.539274, 0.551376, 0.579970, 0.605386, 0.614290, 0.620375, 0.622715, 0.626066]\n",
    "# F1 scores for Task Agnostic DistilBERT\n",
    "agnostic_distilbert_f1 = [0.000000, 0.265005, 0.447409, 0.469803, 0.506707, 0.546603, 0.557181, 0.564871, 0.564481, 0.565733]\n",
    "# F1 scores for Task Specific DistilBERT\n",
    "specific_distilbert_f1 = [0.460421, 0.518557, 0.540035, 0.552130, 0.555126, 0.568314, 0.567286, 0.570596, 0.570329, 0.573898]\n",
    "\n",
    "\n",
    "plt.figure(figsize=(8, 4))\n",
    "plt.plot(epochs, bert_jaccard, marker='o', markersize=4, linestyle='-', label='BERT Large Uncased')\n",
    "plt.plot(epochs, agnostic_distilbert_jaccard, marker='s', markersize=4, linestyle='--', label='Task Agnostic DistilBERT')\n",
    "plt.plot(epochs, specific_distilbert_jaccard, marker='^', markersize=4, linestyle='-.', label='Task Specific DistilBERT')\n",
    "\n",
    "plt.xlabel('Epoch')\n",
    "plt.ylabel('Jaccard Score')\n",
    "plt.title('Jaccard Score over Epochs for Different Models')\n",
    "plt.legend()\n",
    "plt.grid(True)\n",
    "plt.show()\n"
   ]
  },
  {
   "cell_type": "code",
   "execution_count": null,
   "id": "028bc464",
   "metadata": {},
   "outputs": [],
   "source": []
  },
  {
   "cell_type": "markdown",
   "id": "9a48ff20",
   "metadata": {},
   "source": [
    "# Using our models"
   ]
  },
  {
   "cell_type": "code",
   "execution_count": 54,
   "id": "849d1ccd",
   "metadata": {},
   "outputs": [],
   "source": [
    "# Our base model\n",
    "trained_model = AutoModelForSequenceClassification.from_pretrained(\n",
    "    f\"genre-prediction-bert\", problem_type=\"multi_label_classification\",\n",
    ")\n",
    "\n",
    "# Our task specific model\n",
    "task_specific_model = AutoModelForSequenceClassification.from_pretrained(\n",
    "    'distilled-genre-prediction',problem_type=\"multi_label_classification\", \n",
    ")"
   ]
  },
  {
   "cell_type": "code",
   "execution_count": 80,
   "id": "51ba896d",
   "metadata": {},
   "outputs": [],
   "source": [
    "batch = data_collator(list(description_encoded_dataset['test'])[:16])"
   ]
  },
  {
   "cell_type": "code",
   "execution_count": 81,
   "id": "68746d8b",
   "metadata": {},
   "outputs": [
    {
     "name": "stdout",
     "output_type": "stream",
     "text": [
      "8.65 s ± 121 ms per loop (mean ± std. dev. of 7 runs, 1 loop each)\n"
     ]
    }
   ],
   "source": [
    "%timeit trained_model(**batch)"
   ]
  },
  {
   "cell_type": "code",
   "execution_count": 85,
   "id": "2e7469b3",
   "metadata": {},
   "outputs": [],
   "source": [
    "distil_batch = {k: v for k, v in batch.items() if k != 'token_type_ids'}"
   ]
  },
  {
   "cell_type": "code",
   "execution_count": 86,
   "id": "4830534f",
   "metadata": {},
   "outputs": [
    {
     "name": "stdout",
     "output_type": "stream",
     "text": [
      "1.35 s ± 17 ms per loop (mean ± std. dev. of 7 runs, 1 loop each)\n"
     ]
    }
   ],
   "source": [
    "%timeit task_specific_model(**distil_batch)"
   ]
  },
  {
   "cell_type": "code",
   "execution_count": null,
   "id": "eb64cedd",
   "metadata": {},
   "outputs": [],
   "source": [
    "# ^^ shows how our distilled model is over 6x faster"
   ]
  },
  {
   "cell_type": "code",
   "execution_count": 91,
   "id": "0bd06113",
   "metadata": {},
   "outputs": [
    {
     "name": "stdout",
     "output_type": "stream",
     "text": [
      "Trained Model has 335184938 parameters.\n",
      "Data type of the parameter in trained_model: torch.float32\n",
      "Task Specific Model has 66985770 parameters.\n",
      "Data type of the parameter in task_specific_model: torch.float32\n",
      "Estimated memory for trained_model: 1278.6290664672852 MB\n",
      "Estimated memory for task_specific_model: 255.53043365478516 MB\n"
     ]
    }
   ],
   "source": [
    "# Count the number of parameters in the trained_model\n",
    "num_params_trained = sum(p.numel() for p in trained_model.parameters())\n",
    "print(f'Trained Model has {num_params_trained} parameters.')\n",
    "\n",
    "# Print the data types of the parameters in the trained_model\n",
    "for p in trained_model.parameters():\n",
    "    print(f'Data type of the parameter in trained_model: {p.dtype}')\n",
    "    break  # We break after printing the first one assuming all parameters have the same dtype\n",
    "\n",
    "# Count the number of parameters in the task_specific_model\n",
    "num_params_task_specific = sum(p.numel() for p in task_specific_model.parameters())\n",
    "print(f'Task Specific Model has {num_params_task_specific} parameters.')\n",
    "\n",
    "# Print the data types of the parameters in the task_specific_model\n",
    "for p in task_specific_model.parameters():\n",
    "    print(f'Data type of the parameter in task_specific_model: {p.dtype}')\n",
    "    break  # We break after printing the first one assuming all parameters have the same dtype\n",
    "\n",
    "# Estimate the memory usage (in MB assuming parameters are stored as 32-bit floats)\n",
    "memory_usage_trained = num_params_trained * 4 / (1024 ** 2)\n",
    "memory_usage_task_specific = num_params_task_specific * 4 / (1024 ** 2)\n",
    "\n",
    "print(f'Estimated memory for trained_model: {memory_usage_trained} MB')\n",
    "print(f'Estimated memory for task_specific_model: {memory_usage_task_specific} MB')\n"
   ]
  },
  {
   "cell_type": "code",
   "execution_count": null,
   "id": "e3e3de3e",
   "metadata": {},
   "outputs": [],
   "source": []
  },
  {
   "cell_type": "code",
   "execution_count": 101,
   "id": "b641a5ff",
   "metadata": {},
   "outputs": [
    {
     "data": {
      "image/png": "[encoded data removed]",
      "text/plain": [
       "<Figure size 640x480 with 1 Axes>"
      ]
     },
     "metadata": {},
     "output_type": "display_data"
    }
   ],
   "source": [
    "import matplotlib.pyplot as plt\n",
    "\n",
    "# Model names\n",
    "models = ['BERT-Large', 'Task-specific DistilBert']\n",
    "\n",
    "# Estimated memory usage (in MB)\n",
    "memory_usage = [.455674, 0.402424]\n",
    "\n",
    "# Create a figure and a set of subplots\n",
    "fig, ax = plt.subplots()\n",
    "\n",
    "# Generate a bar plot with patterns\n",
    "bars = ax.bar(models, memory_usage, align='center', alpha=0.5, color=['#1f77b4', '#ff7f0e'])\n",
    "\n",
    "# Add labels and title\n",
    "ax.set_ylabel('Jaccard Score')\n",
    "ax.set_title('Best Jaccard Score of Models')\n",
    "\n",
    "# Display the plot\n",
    "plt.show()\n"
   ]
  },
  {
   "cell_type": "code",
   "execution_count": null,
   "id": "aa7eb287",
   "metadata": {},
   "outputs": [],
   "source": []
  },
  {
   "cell_type": "code",
   "execution_count": 103,
   "id": "21e6d6b6",
   "metadata": {},
   "outputs": [
    {
     "data": {
      "image/png": "[encoded data removed]",
      "text/plain": [
       "<Figure size 640x480 with 1 Axes>"
      ]
     },
     "metadata": {},
     "output_type": "display_data"
    }
   ],
   "source": [
    "import matplotlib.pyplot as plt\n",
    "\n",
    "# Model names\n",
    "models = ['BERT-Large', 'Task-specific DistilBert']\n",
    "\n",
    "# Estimated memory usage (in MB)\n",
    "memory_usage = [1278.63, 255.53]\n",
    "\n",
    "# Create a figure and a set of subplots\n",
    "fig, ax = plt.subplots()\n",
    "\n",
    "# Generate a bar plot with patterns\n",
    "bars = ax.bar(models, memory_usage, align='center', alpha=0.5, color=['#1f77b4', '#ff7f0e'])\n",
    "\n",
    "# Add labels and title\n",
    "ax.set_ylabel('Memory Usage (MB)')\n",
    "ax.set_title('Memory Usage of Models')\n",
    "\n",
    "# Display the plot\n",
    "plt.show()\n"
   ]
  },
  {
   "cell_type": "code",
   "execution_count": 102,
   "id": "53b9c230",
   "metadata": {},
   "outputs": [
    {
     "data": {
      "image/png": "[encoded data removed]",
      "text/plain": [
       "<Figure size 640x480 with 1 Axes>"
      ]
     },
     "metadata": {},
     "output_type": "display_data"
    }
   ],
   "source": [
    "import matplotlib.pyplot as plt\n",
    "\n",
    "# Model names\n",
    "models = ['BERT-Large', 'Task-specific DistilBert']\n",
    "\n",
    "# Times taken to run a batch of 16 items (in seconds)\n",
    "times = [8.65, 1.35]\n",
    "\n",
    "# Standard deviations\n",
    "std_devs = [0.121, 0.017]\n",
    "\n",
    "# Create a figure and a set of subplots\n",
    "fig, ax = plt.subplots()\n",
    "\n",
    "# Generate a bar plot\n",
    "ax.bar(models, times, yerr=std_devs, align='center', alpha=0.5, ecolor='black', capsize=10,  color=['#1f77b4', '#ff7f0e'])\n",
    "\n",
    "# Add labels and title\n",
    "ax.set_ylabel('Time (seconds)')\n",
    "ax.set_title('Time to run a batch of 16 items')\n",
    "\n",
    "# Display the plot\n",
    "plt.show()\n"
   ]
  },
  {
   "cell_type": "code",
   "execution_count": null,
   "id": "6c24e62f",
   "metadata": {},
   "outputs": [],
   "source": []
  },
  {
   "cell_type": "code",
   "execution_count": null,
   "id": "bb41d334",
   "metadata": {},
   "outputs": [],
   "source": []
  }
 ],
 "metadata": {
  "language_info": {
   "name": "python"
  }
 },
 "nbformat": 4,
 "nbformat_minor": 5
}
