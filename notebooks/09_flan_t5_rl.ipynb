{
 "cells": [
  {
   "cell_type": "markdown",
   "metadata": {
    "id": "uFd1P-2jOTme"
   },
   "source": [
    "# Keys"
   ]
  },
  {
   "cell_type": "code",
   "execution_count": null,
   "metadata": {},
   "outputs": [],
   "source": [
    "import os\n",
    "os.environ[\"WANDB_API_KEY\"] = \"YOUR_KEY\""
   ]
  },
  {
   "cell_type": "markdown",
   "metadata": {
    "id": "0rYXLkwpLcOB"
   },
   "source": [
    "# Our First Reinforcement Learning from Feedback Loop"
   ]
  },
  {
   "cell_type": "code",
   "execution_count": null,
   "metadata": {},
   "outputs": [],
   "source": [
    "!pip install wandb datasets transformers tqdm trl"
   ]
  },
  {
   "cell_type": "markdown",
   "metadata": {
    "id": "s7Woq9XmLcOC"
   },
   "source": [
    "### Import dependencies"
   ]
  },
  {
   "cell_type": "code",
   "execution_count": null,
   "metadata": {},
   "outputs": [],
   "source": [
    "import random\n",
    "import wandb\n",
    "import time\n",
    "from tqdm import tqdm\n",
    "import numpy as np\n",
    "import pandas as pd\n",
    "from random import choices\n",
    "import matplotlib.pyplot as plt\n",
    "\n",
    "tqdm.pandas()\n",
    "\n",
    "from datasets import load_dataset\n",
    "\n",
    "from transformers import AutoTokenizer, pipeline\n",
    "\n",
    "from trl import PPOTrainer, PPOConfig, create_reference_model, AutoModelForSeq2SeqLMWithValueHead\n",
    "import os\n",
    "import torch\n",
    "\n",
    "import os\n",
    "\n",
    "\n",
    "wandb.login(key=os.environ['WANDB_API_KEY'])\n",
    "\n",
    "device = \"cuda\" if torch.cuda.is_available() else \"cpu\"\n",
    "\n",
    "device"
   ]
  },
  {
   "cell_type": "markdown",
   "metadata": {
    "id": "hTTC06W6LcOD"
   },
   "source": [
    "# The Reward Pipeline"
   ]
  },
  {
   "cell_type": "code",
   "execution_count": null,
   "metadata": {},
   "outputs": [
    {
     "data": {
      "application/vnd.jupyter.widget-view+json": {
       "model_id": "dabc1f0015944338826f2a2813d55b76",
       "version_major": 2,
       "version_minor": 0
      },
      "text/plain": [
       "config.json:   0%|          | 0.00/747 [00:00<?, ?B/s]"
      ]
     },
     "metadata": {},
     "output_type": "display_data"
    },
    {
     "data": {
      "application/vnd.jupyter.widget-view+json": {
       "model_id": "1bb2b686d1644352a339a8a3e2a6c704",
       "version_major": 2,
       "version_minor": 0
      },
      "text/plain": [
       "pytorch_model.bin:   0%|          | 0.00/499M [00:00<?, ?B/s]"
      ]
     },
     "metadata": {},
     "output_type": "display_data"
    },
    {
     "data": {
      "application/vnd.jupyter.widget-view+json": {
       "model_id": "dcf1f13b889049968b7a326f3e00ba16",
       "version_major": 2,
       "version_minor": 0
      },
      "text/plain": [
       "vocab.json:   0%|          | 0.00/899k [00:00<?, ?B/s]"
      ]
     },
     "metadata": {},
     "output_type": "display_data"
    },
    {
     "data": {
      "application/vnd.jupyter.widget-view+json": {
       "model_id": "819f622f3d6747b6b516a77acbfbfed2",
       "version_major": 2,
       "version_minor": 0
      },
      "text/plain": [
       "merges.txt:   0%|          | 0.00/456k [00:00<?, ?B/s]"
      ]
     },
     "metadata": {},
     "output_type": "display_data"
    },
    {
     "data": {
      "application/vnd.jupyter.widget-view+json": {
       "model_id": "a2815b7823b1483fab79ceb2f861c4f4",
       "version_major": 2,
       "version_minor": 0
      },
      "text/plain": [
       "special_tokens_map.json:   0%|          | 0.00/150 [00:00<?, ?B/s]"
      ]
     },
     "metadata": {},
     "output_type": "display_data"
    },
    {
     "data": {
      "text/plain": [
       "[0.851918637752533, -0.7468027472496033, -0.5696872472763062]"
      ]
     },
     "execution_count": 3,
     "metadata": {},
     "output_type": "execute_result"
    }
   ],
   "source": [
    "sentiment_pipeline = pipeline('text-classification', 'cardiffnlp/twitter-roberta-base-sentiment')\n",
    "\n",
    "def get_neutral_scores(texts):\n",
    "    scores = []\n",
    "    # function_to_apply='none' returns logits which can be negative which is great for RL rewards\n",
    "    results = sentiment_pipeline(texts, function_to_apply='none', top_k=None)\n",
    "    for result in results:\n",
    "        for label in result:\n",
    "            if label['label'] == 'LABEL_1':  # logit for neutral class\n",
    "                scores.append(label['score'])\n",
    "    return scores\n",
    "\n",
    "get_neutral_scores(['hello', 'I love you!', 'I hate you'])"
   ]
  },
  {
   "cell_type": "code",
   "execution_count": null,
   "metadata": {},
   "outputs": [],
   "source": []
  },
  {
   "cell_type": "code",
   "execution_count": null,
   "metadata": {},
   "outputs": [
    {
     "data": {
      "application/vnd.jupyter.widget-view+json": {
       "model_id": "1232d03bb456464babfa23396fe9e995",
       "version_major": 2,
       "version_minor": 0
      },
      "text/plain": [
       "tokenizer_config.json:   0%|          | 0.00/25.0 [00:00<?, ?B/s]"
      ]
     },
     "metadata": {},
     "output_type": "display_data"
    },
    {
     "data": {
      "application/vnd.jupyter.widget-view+json": {
       "model_id": "96e98de73ea84d61b9a2f92b6e3e183f",
       "version_major": 2,
       "version_minor": 0
      },
      "text/plain": [
       "config.json:   0%|          | 0.00/564 [00:00<?, ?B/s]"
      ]
     },
     "metadata": {},
     "output_type": "display_data"
    },
    {
     "data": {
      "application/vnd.jupyter.widget-view+json": {
       "model_id": "5865f6c2231e4e7f9ec80cf20ea79e6a",
       "version_major": 2,
       "version_minor": 0
      },
      "text/plain": [
       "vocab.json:   0%|          | 0.00/798k [00:00<?, ?B/s]"
      ]
     },
     "metadata": {},
     "output_type": "display_data"
    },
    {
     "data": {
      "application/vnd.jupyter.widget-view+json": {
       "model_id": "54683c3ba2ce4eb48c9f24bcc267f99c",
       "version_major": 2,
       "version_minor": 0
      },
      "text/plain": [
       "merges.txt:   0%|          | 0.00/456k [00:00<?, ?B/s]"
      ]
     },
     "metadata": {},
     "output_type": "display_data"
    },
    {
     "data": {
      "application/vnd.jupyter.widget-view+json": {
       "model_id": "3abfd9d0919a4319b3bb68a8284151a1",
       "version_major": 2,
       "version_minor": 0
      },
      "text/plain": [
       "special_tokens_map.json:   0%|          | 0.00/239 [00:00<?, ?B/s]"
      ]
     },
     "metadata": {},
     "output_type": "display_data"
    },
    {
     "data": {
      "application/vnd.jupyter.widget-view+json": {
       "model_id": "5d6f5a9413554b89a3579b285b0f82f5",
       "version_major": 2,
       "version_minor": 0
      },
      "text/plain": [
       "pytorch_model.bin:   0%|          | 0.00/501M [00:00<?, ?B/s]"
      ]
     },
     "metadata": {},
     "output_type": "display_data"
    },
    {
     "name": "stderr",
     "output_type": "stream",
     "text": [
      "Some weights of the model checkpoint at textattack/roberta-base-CoLA were not used when initializing RobertaForSequenceClassification: ['roberta.pooler.dense.bias', 'roberta.pooler.dense.weight']\n",
      "- This IS expected if you are initializing RobertaForSequenceClassification from the checkpoint of a model trained on another task or with another architecture (e.g. initializing a BertForSequenceClassification model from a BertForPreTraining model).\n",
      "- This IS NOT expected if you are initializing RobertaForSequenceClassification from the checkpoint of a model that you expect to be exactly identical (initializing a BertForSequenceClassification model from a BertForSequenceClassification model).\n"
     ]
    }
   ],
   "source": [
    "from transformers import AutoTokenizer, AutoModelForSequenceClassification\n",
    "\n",
    "tokenizer = AutoTokenizer.from_pretrained(\"textattack/roberta-base-CoLA\")\n",
    "model = AutoModelForSequenceClassification.from_pretrained(\"textattack/roberta-base-CoLA\")\n",
    "\n",
    "cola_pipeline = pipeline('text-classification', model=model, tokenizer=tokenizer)\n",
    "\n",
    "def get_cola_scores(texts):\n",
    "    scores = []\n",
    "    # note function_to_apply='none' gives me logits which can be negative (what we want)\n",
    "    results = cola_pipeline(texts, function_to_apply='none', top_k=None)\n",
    "    for result in results:\n",
    "        for label in result:\n",
    "            if label['label'] == 'LABEL_1':  # good grammar:\n",
    "                scores.append(label['score'])\n",
    "    return scores\n"
   ]
  },
  {
   "cell_type": "code",
   "execution_count": null,
   "metadata": {},
   "outputs": [
    {
     "name": "stdout",
     "output_type": "stream",
     "text": [
      "[-0.38008707761764526]\n",
      "[0.3111610412597656]\n"
     ]
    }
   ],
   "source": [
    "test = \"\"\"German police arrest 29-year-old man suspected of plotting truck attack on ice rink in Berlin,\n",
    "killing 12 people, Reuters-German police say: 'It's a shame to have been arrested,'\n",
    "a German police spokesman said in a statement.\"\"\"\n",
    "\n",
    "print(get_cola_scores([test]))\n",
    "print(get_neutral_scores([test]))"
   ]
  },
  {
   "cell_type": "code",
   "execution_count": null,
   "metadata": {},
   "outputs": [],
   "source": [
    "MODEL_NAME = \"google/flan-t5-small\""
   ]
  },
  {
   "cell_type": "markdown",
   "metadata": {
    "id": "njmhdWttLcOE"
   },
   "source": [
    "# RL Configuration"
   ]
  },
  {
   "cell_type": "code",
   "execution_count": null,
   "metadata": {},
   "outputs": [],
   "source": [
    "config = PPOConfig(\n",
    "    model_name=MODEL_NAME,\n",
    "    batch_size=8,\n",
    "    learning_rate=2e-5,\n",
    "    remove_unused_columns=False,\n",
    "    log_with=\"wandb\",\n",
    "    gradient_accumulation_steps=4,\n",
    ")\n",
    "\n",
    "np.random.seed(42)"
   ]
  },
  {
   "cell_type": "code",
   "execution_count": null,
   "metadata": {},
   "outputs": [],
   "source": []
  },
  {
   "cell_type": "code",
   "execution_count": null,
   "metadata": {},
   "outputs": [
    {
     "data": {
      "application/vnd.jupyter.widget-view+json": {
       "model_id": "f30f850a9d8841a1842f492615d95347",
       "version_major": 2,
       "version_minor": 0
      },
      "text/plain": [
       "config.json:   0%|          | 0.00/1.40k [00:00<?, ?B/s]"
      ]
     },
     "metadata": {},
     "output_type": "display_data"
    },
    {
     "data": {
      "application/vnd.jupyter.widget-view+json": {
       "model_id": "71d84ef4c6ca41a6b57138565ac0f8a4",
       "version_major": 2,
       "version_minor": 0
      },
      "text/plain": [
       "model.safetensors:   0%|          | 0.00/308M [00:00<?, ?B/s]"
      ]
     },
     "metadata": {},
     "output_type": "display_data"
    },
    {
     "data": {
      "application/vnd.jupyter.widget-view+json": {
       "model_id": "f0c25e3303a6409b91fd63b3bcfc7cd9",
       "version_major": 2,
       "version_minor": 0
      },
      "text/plain": [
       "generation_config.json:   0%|          | 0.00/147 [00:00<?, ?B/s]"
      ]
     },
     "metadata": {},
     "output_type": "display_data"
    },
    {
     "data": {
      "application/vnd.jupyter.widget-view+json": {
       "model_id": "600a2d1c3c4b4eb0b69ad1ec36d77538",
       "version_major": 2,
       "version_minor": 0
      },
      "text/plain": [
       "pytorch_model.bin:   0%|          | 0.00/308M [00:00<?, ?B/s]"
      ]
     },
     "metadata": {},
     "output_type": "display_data"
    },
    {
     "data": {
      "application/vnd.jupyter.widget-view+json": {
       "model_id": "252ce7553417424cb4958de1c0e5223f",
       "version_major": 2,
       "version_minor": 0
      },
      "text/plain": [
       "tokenizer_config.json:   0%|          | 0.00/2.54k [00:00<?, ?B/s]"
      ]
     },
     "metadata": {},
     "output_type": "display_data"
    },
    {
     "data": {
      "application/vnd.jupyter.widget-view+json": {
       "model_id": "d68127774cdb4db993025ae82290db42",
       "version_major": 2,
       "version_minor": 0
      },
      "text/plain": [
       "spiece.model:   0%|          | 0.00/792k [00:00<?, ?B/s]"
      ]
     },
     "metadata": {},
     "output_type": "display_data"
    },
    {
     "data": {
      "application/vnd.jupyter.widget-view+json": {
       "model_id": "2e5d2248c7004ea386923525dad645c7",
       "version_major": 2,
       "version_minor": 0
      },
      "text/plain": [
       "tokenizer.json:   0%|          | 0.00/2.42M [00:00<?, ?B/s]"
      ]
     },
     "metadata": {},
     "output_type": "display_data"
    },
    {
     "data": {
      "application/vnd.jupyter.widget-view+json": {
       "model_id": "f68725ec162346cf8de68a4dda75434d",
       "version_major": 2,
       "version_minor": 0
      },
      "text/plain": [
       "special_tokens_map.json:   0%|          | 0.00/2.20k [00:00<?, ?B/s]"
      ]
     },
     "metadata": {},
     "output_type": "display_data"
    }
   ],
   "source": [
    "flan_t5_model = AutoModelForSeq2SeqLMWithValueHead.from_pretrained(\n",
    "    config.model_name\n",
    ")  # going to be updated\n",
    "\n",
    "flan_t5_model_ref = create_reference_model(flan_t5_model)  # is never updated\n",
    "flan_t5_tokenizer = AutoTokenizer.from_pretrained(config.model_name)\n"
   ]
  },
  {
   "cell_type": "code",
   "execution_count": null,
   "metadata": {},
   "outputs": [
    {
     "data": {
      "application/vnd.jupyter.widget-view+json": {
       "model_id": "253afbae8b4245a3845a3c666ac0f783",
       "version_major": 2,
       "version_minor": 0
      },
      "text/plain": [
       "Downloading readme:   0%|          | 0.00/2.02k [00:00<?, ?B/s]"
      ]
     },
     "metadata": {},
     "output_type": "display_data"
    },
    {
     "data": {
      "application/vnd.jupyter.widget-view+json": {
       "model_id": "7d4d4a9b3f494094bb4303756c4026b7",
       "version_major": 2,
       "version_minor": 0
      },
      "text/plain": [
       "Downloading data:   0%|          | 0.00/1.54M [00:00<?, ?B/s]"
      ]
     },
     "metadata": {},
     "output_type": "display_data"
    },
    {
     "data": {
      "application/vnd.jupyter.widget-view+json": {
       "model_id": "0eac95f7d61d454b9d3e3ac194099cd1",
       "version_major": 2,
       "version_minor": 0
      },
      "text/plain": [
       "Downloading data:   0%|          | 0.00/31.7M [00:00<?, ?B/s]"
      ]
     },
     "metadata": {},
     "output_type": "display_data"
    },
    {
     "data": {
      "application/vnd.jupyter.widget-view+json": {
       "model_id": "b3b8fac678974b05925e3e86521b956f",
       "version_major": 2,
       "version_minor": 0
      },
      "text/plain": [
       "Generating train split:   0%|          | 0/1000 [00:00<?, ? examples/s]"
      ]
     },
     "metadata": {},
     "output_type": "display_data"
    },
    {
     "data": {
      "application/vnd.jupyter.widget-view+json": {
       "model_id": "3a39dc0ccb224c5faa3debca5cbd53f8",
       "version_major": 2,
       "version_minor": 0
      },
      "text/plain": [
       "Generating test split:   0%|          | 0/20417 [00:00<?, ? examples/s]"
      ]
     },
     "metadata": {},
     "output_type": "display_data"
    }
   ],
   "source": [
    "from datasets import load_dataset\n",
    "\n",
    "dataset = load_dataset(\"argilla/news-summary\")"
   ]
  },
  {
   "cell_type": "code",
   "execution_count": null,
   "metadata": {},
   "outputs": [
    {
     "data": {
      "text/plain": [
       "DatasetDict({\n",
       "    train: Dataset({\n",
       "        features: ['text', 'prediction', 'prediction_agent', 'annotation', 'annotation_agent', 'id', 'metadata', 'status', 'event_timestamp', 'metrics'],\n",
       "        num_rows: 1000\n",
       "    })\n",
       "    test: Dataset({\n",
       "        features: ['text', 'prediction', 'prediction_agent', 'annotation', 'annotation_agent', 'id', 'metadata', 'status', 'event_timestamp', 'metrics'],\n",
       "        num_rows: 20417\n",
       "    })\n",
       "})"
      ]
     },
     "execution_count": 13,
     "metadata": {},
     "output_type": "execute_result"
    }
   ],
   "source": [
    "dataset"
   ]
  },
  {
   "cell_type": "code",
   "execution_count": null,
   "metadata": {},
   "outputs": [
    {
     "data": {
      "text/plain": [
       "{'text': 'PHNOM PENH (Reuters) - Sweden said on Tuesday it was stopping new aid for Cambodia, except in education and research, and would no longer support a reform programme after the main opposition party was outlawed by the Supreme Court at the government s request. The announcement marked the first concrete action by a European Union country in protest at a political crackdown in which veteran Prime Minister Hun Sen s main rival has also been arrested and civil rights groups and independent media attacked. The United States cut election funding and said it would take more punitive steps after last week s ban on the Cambodia National Rescue Party (CNRP). The European Union has also threatened action. Sweden s embassy in Phnom Penh said the country was reviewing its engagement with Cambodia.   We will not initiate any new government-to-government development cooperation agreements, except in the areas of education and research,  it said in a statement. As a consequence, it would be unable to support decentralisation reform in its current form. That reform aims to strengthen lower levels of government, such as local communes. The CNRP won control of more than 40 percent of the communes in elections in June, but has now had to give them up to the ruling Cambodian People s Party (CPP). The CNRP was banned after its leader, Kem Sokha, was arrested for alleged treason. The government says he sought to take power with American help. He rejects that allegation as politically motivated, to allow Hun Sen to extend his more than three decades in power in next year s general election. Responding to the Swedish statement, a senior official said Cambodia welcomed friendship with Sweden or other countries, but said they must understand the CNRP had been banned because the courts found it had committed treason.      People should respect the Cambodian people s decision in accordance with the principle of democracy and the rule of law,  said Huy Vannak, undersecretary of state at the Interior Ministry. Sweden, which has given Cambodia an estimated $100 million in aid over five years, ranked third among individual EU member states in Cambodia s database of donors last year, after France and Germany. Swedish fashion group H&M is also a key buyer from Cambodia s garment factories - the country s main export earner. But Western donors have less sway than they once did since China has emerged as Cambodia s biggest aid donor and investor. Meeting on Monday on the sidelines of a meeting of Asia-Europe foreign ministers in Myanmar, Chinese Foreign Minister Wang Yi told his Cambodian counterpart Prak Sokhon that China supported the government s actions. China has repeatedly expressed its support for Cambodia, making no criticism of the government led by Hun Sen, a former Khmer Rouge commander, who is one of Beijing s most important allies in Southeast Asia.    (The story adds dropped word  after  in paragraph 1) ',\n",
       " 'prediction': [{'score': 1.0,\n",
       "   'text': 'Sweden stops some new aid for Cambodia in protest over crackdown'}],\n",
       " 'prediction_agent': 'Argilla',\n",
       " 'annotation': None,\n",
       " 'annotation_agent': None,\n",
       " 'id': '04830409-7789-4d9d-ae71-cbde4a5c7bde',\n",
       " 'metadata': None,\n",
       " 'status': 'Default',\n",
       " 'event_timestamp': datetime.datetime(2017, 11, 21, 0, 0),\n",
       " 'metrics': {'text_length': 2933}}"
      ]
     },
     "execution_count": 14,
     "metadata": {},
     "output_type": "execute_result"
    }
   ],
   "source": [
    "dataset['train'][0]"
   ]
  },
  {
   "cell_type": "code",
   "execution_count": null,
   "metadata": {},
   "outputs": [
    {
     "data": {
      "application/vnd.jupyter.widget-view+json": {
       "model_id": "1e5ac52ca1734393b7dabb51438cd64a",
       "version_major": 2,
       "version_minor": 0
      },
      "text/plain": [
       "Map:   0%|          | 0/1000 [00:00<?, ? examples/s]"
      ]
     },
     "metadata": {},
     "output_type": "display_data"
    }
   ],
   "source": [
    "\n",
    "# Preprocessing function\n",
    "def preprocess(batch):\n",
    "    # 'texts' should be a list of text entries within each batch\n",
    "    texts = batch['text']  # assuming the key for your texts in your dataset is 'text'\n",
    "\n",
    "    # Tokenize the texts (appending 'summarize: ' before each)\n",
    "    tokenized_inputs = flan_t5_tokenizer(\n",
    "        ['summarize: ' + t for t in texts],\n",
    "        truncation=True,\n",
    "        padding=True,\n",
    "        return_tensors=\"pt\"\n",
    "    )\n",
    "\n",
    "      # Remove padding\n",
    "    input_ids_list = []\n",
    "    attention_mask_list = []\n",
    "\n",
    "    for idx, input_ids in enumerate(tokenized_inputs['input_ids']):\n",
    "        actual_length = tokenized_inputs['attention_mask'][idx].sum()  # Count number of non-padding tokens\n",
    "        input_ids_list.append(input_ids[:actual_length])\n",
    "        attention_mask_list.append(tokenized_inputs['attention_mask'][idx, :actual_length])\n",
    "\n",
    "    batch['input_ids'] = input_ids_list\n",
    "    batch['attention_mask'] = attention_mask_list\n",
    "\n",
    "    return batch\n",
    "\n",
    "dataset['train'] = dataset['train'].map(\n",
    "    preprocess,\n",
    "    batched=True,\n",
    "    batch_size=256,\n",
    "    remove_columns=set(dataset['train'].column_names) - {'text',}\n",
    ")"
   ]
  },
  {
   "cell_type": "code",
   "execution_count": null,
   "metadata": {},
   "outputs": [
    {
     "data": {
      "text/plain": [
       "DatasetDict({\n",
       "    train: Dataset({\n",
       "        features: ['text', 'input_ids', 'attention_mask'],\n",
       "        num_rows: 1000\n",
       "    })\n",
       "    test: Dataset({\n",
       "        features: ['text', 'prediction', 'prediction_agent', 'annotation', 'annotation_agent', 'id', 'metadata', 'status', 'event_timestamp', 'metrics'],\n",
       "        num_rows: 20417\n",
       "    })\n",
       "})"
      ]
     },
     "execution_count": 16,
     "metadata": {},
     "output_type": "execute_result"
    }
   ],
   "source": [
    "dataset.set_format(\"pytorch\")\n",
    "\n",
    "dataset"
   ]
  },
  {
   "cell_type": "code",
   "execution_count": null,
   "metadata": {},
   "outputs": [],
   "source": [
    "def collator(data):\n",
    "    return dict((key, [d[key] for d in data]) for key in data[0])"
   ]
  },
  {
   "cell_type": "markdown",
   "metadata": {
    "id": "OtY3wdz_LcOF"
   },
   "source": [
    "# Load our reference FLAN-T5 Model"
   ]
  },
  {
   "cell_type": "code",
   "execution_count": null,
   "metadata": {},
   "outputs": [],
   "source": [
    "generation_kwargs = {\n",
    "    \"min_length\": 64,  # forcing some behavior I want\n",
    "    \"num_beams\": 5,  # lookahead parameter\n",
    "    \"no_repeat_ngram_size\": 3,  # cannot say the same three n-grams in a row twice\n",
    "    \"do_sample\": True,  # giving the LLM freedom to experiment\n",
    "    \"pad_token_id\": flan_t5_tokenizer.pad_token_id,  # technically not needed in this example, but is if doing PPO in larger batches\n",
    "    \"max_length\": 256,\n",
    "    \"eos_token_id\": flan_t5_tokenizer.eos_token_id,\n",
    "}\n"
   ]
  },
  {
   "cell_type": "code",
   "execution_count": null,
   "metadata": {},
   "outputs": [
    {
     "name": "stderr",
     "output_type": "stream",
     "text": [
      "\u001b[34m\u001b[1mwandb\u001b[0m: Tracking run with wandb version 0.15.10\n",
      "\u001b[34m\u001b[1mwandb\u001b[0m: Run data is saved locally in \u001b[35m\u001b[1m/content/wandb/run-20230921_160015-l40j1gia\u001b[0m\n",
      "\u001b[34m\u001b[1mwandb\u001b[0m: Run \u001b[1m`wandb offline`\u001b[0m to turn off syncing.\n",
      "\u001b[34m\u001b[1mwandb\u001b[0m: Syncing run \u001b[33mefficient-elevator-206\u001b[0m\n",
      "\u001b[34m\u001b[1mwandb\u001b[0m: ⭐️ View project at \u001b[34m\u001b[4mhttps://wandb.ai/profoz/trl\u001b[0m\n",
      "\u001b[34m\u001b[1mwandb\u001b[0m: 🚀 View run at \u001b[34m\u001b[4mhttps://wandb.ai/profoz/trl/runs/l40j1gia\u001b[0m\n"
     ]
    }
   ],
   "source": [
    "ppo_trainer = PPOTrainer(\n",
    "    config, flan_t5_model,\n",
    "    flan_t5_model_ref, flan_t5_tokenizer, dataset['train'],\n",
    "    data_collator=collator\n",
    ")"
   ]
  },
  {
   "cell_type": "markdown",
   "metadata": {
    "id": "E84V17LkLcOF"
   },
   "source": [
    "### Our RLF Loop\n"
   ]
  },
  {
   "cell_type": "code",
   "execution_count": null,
   "metadata": {},
   "outputs": [
    {
     "data": {
      "application/vnd.jupyter.widget-view+json": {
       "model_id": "1e0ba639d01d4d8295a1886fa4248196",
       "version_major": 2,
       "version_minor": 0
      },
      "text/plain": [
       "  0%|          | 0/2 [00:00<?, ?it/s]"
      ]
     },
     "metadata": {},
     "output_type": "display_data"
    },
    {
     "data": {
      "application/vnd.jupyter.widget-view+json": {
       "model_id": "1bafaa46422b4942b237c6680f19c8a5",
       "version_major": 2,
       "version_minor": 0
      },
      "text/plain": [
       "  0%|          | 0/125 [00:00<?, ?it/s]"
      ]
     },
     "metadata": {},
     "output_type": "display_data"
    },
    {
     "metadata": {
      "tags": null
     },
     "name": "stderr",
     "output_type": "stream",
     "text": [
      "You're using a T5TokenizerFast tokenizer. Please note that with a fast tokenizer, using the `__call__` method is faster than using a method to encode the text followed by a call to the `pad` method to get a padded encoding.\n"
     ]
    },
    {
     "data": {
      "application/vnd.jupyter.widget-view+json": {
       "model_id": "50aec8f6ae584d09b58a5ea3c5e0aeaa",
       "version_major": 2,
       "version_minor": 0
      },
      "text/plain": [
       "  0%|          | 0/125 [00:00<?, ?it/s]"
      ]
     },
     "metadata": {},
     "output_type": "display_data"
    }
   ],
   "source": [
    "from tqdm.auto import tqdm\n",
    "\n",
    "for epoch in tqdm(range(2)):\n",
    "    for batch in tqdm(ppo_trainer.dataloader):\n",
    "        game_data = dict()\n",
    "        #### prepend the summarize token\n",
    "        game_data[\"query\"] = ['summarize: ' + b for b in batch[\"text\"]]\n",
    "\n",
    "        #### get response from flan-t5\n",
    "        input_tensors = [_.squeeze() for _ in batch[\"input_ids\"]]\n",
    "        response_tensors = []\n",
    "        for query in input_tensors:\n",
    "            response = ppo_trainer.generate(query.squeeze(), **generation_kwargs)\n",
    "            response_tensors.append(response.squeeze())\n",
    "\n",
    "        game_data[\"response\"] = [flan_t5_tokenizer.decode(r.squeeze(), skip_special_tokens=False) for r in response_tensors]\n",
    "\n",
    "        #### reward system\n",
    "        game_data[\"clean_response\"] = [flan_t5_tokenizer.decode(r.squeeze(), skip_special_tokens=True) for r in response_tensors]\n",
    "        game_data['cola_scores'] = get_cola_scores(game_data[\"clean_response\"])\n",
    "        game_data['neutral_scores'] = get_neutral_scores(game_data[\"clean_response\"])\n",
    "        # rewards = game_data['neutral_scores']\n",
    "        transposed_lists = zip(game_data['cola_scores'], game_data['neutral_scores'])\n",
    "        # Calculate the averages for each index\n",
    "        rewards = [1 * values[0] +  0.5 * values[1] for values in transposed_lists]\n",
    "        rewards = [torch.tensor([_]) for _ in rewards]\n",
    "        # print(rewards)  # just to inspect :)\n",
    "\n",
    "        #### Run PPO training\n",
    "        stats = ppo_trainer.step(input_tensors, response_tensors, rewards)\n",
    "\n",
    "        stats['env/reward'] = np.mean([r.cpu().numpy() for r in rewards])\n",
    "        ppo_trainer.log_stats(stats, game_data, rewards)"
   ]
  },
  {
   "cell_type": "code",
   "execution_count": null,
   "metadata": {},
   "outputs": [
    {
     "data": {
      "text/plain": [
       "('t5-align/tokenizer_config.json',\n",
       " 't5-align/special_tokens_map.json',\n",
       " 't5-align/tokenizer.json')"
      ]
     },
     "execution_count": 23,
     "metadata": {},
     "output_type": "execute_result"
    }
   ],
   "source": [
    "# save locally\n",
    "flan_t5_model.save_pretrained(\"t5-align\")\n",
    "flan_t5_tokenizer.save_pretrained(\"t5-align\")"
   ]
  },
  {
   "cell_type": "code",
   "execution_count": null,
   "metadata": {},
   "outputs": [
    {
     "name": "stderr",
     "output_type": "stream",
     "text": [
      "Some weights of the model checkpoint at t5-align were not used when initializing T5ForConditionalGeneration: ['v_head.summary.bias', 'v_head.summary.weight']\n",
      "- This IS expected if you are initializing T5ForConditionalGeneration from the checkpoint of a model trained on another task or with another architecture (e.g. initializing a BertForSequenceClassification model from a BertForPreTraining model).\n",
      "- This IS NOT expected if you are initializing T5ForConditionalGeneration from the checkpoint of a model that you expect to be exactly identical (initializing a BertForSequenceClassification model from a BertForSequenceClassification model).\n"
     ]
    },
    {
     "data": {
      "application/vnd.jupyter.widget-view+json": {
       "model_id": "680d1348126f454f9a165fd23adc9598",
       "version_major": 2,
       "version_minor": 0
      },
      "text/plain": [
       "pytorch_model.bin:   0%|          | 0.00/308M [00:00<?, ?B/s]"
      ]
     },
     "metadata": {},
     "output_type": "display_data"
    },
    {
     "data": {
      "text/plain": [
       "CommitInfo(commit_url='https://huggingface.co/profoz/t5-aligned-summaries/commit/87f8a5d71333a65af0e21e59d4076a684cc243ee', commit_message='Upload tokenizer', commit_description='', oid='87f8a5d71333a65af0e21e59d4076a684cc243ee', pr_url=None, pr_revision=None, pr_num=None)"
      ]
     },
     "execution_count": 28,
     "metadata": {},
     "output_type": "execute_result"
    }
   ],
   "source": [
    "username, repo_name = 'profoz', 't5-aligned-summaries'\n",
    "\n",
    "# Push model and tokenizer to Hugging Face Hub\n",
    "flan_t5_model.push_to_hub(f\"{username}/{repo_name}\")\n",
    "flan_t5_tokenizer.push_to_hub(f\"{username}/{repo_name}\")"
   ]
  },
  {
   "cell_type": "code",
   "execution_count": null,
   "metadata": {},
   "outputs": [],
   "source": [
    "old_summarizer = pipeline(\"text2text-generation\", MODEL_NAME, device=0)\n",
    "new_summarizer = pipeline(\"text2text-generation\", 'profoz/t5-aligned-summaries', device=0)"
   ]
  },
  {
   "cell_type": "code",
   "execution_count": null,
   "metadata": {},
   "outputs": [],
   "source": [
    "import random\n",
    "\n",
    "# Assuming load_dataset function loads the dataset\n",
    "dataset = load_dataset(\"argilla/news-summary\")['test']['text']\n",
    "\n",
    "# Filter dataset for entries with less than 400 characters\n",
    "filtered_dataset = [text for text in dataset if len(text) < 450 and len(text) > 200]\n",
    "\n",
    "filtered_dataset = random.sample(filtered_dataset, len(filtered_dataset))"
   ]
  },
  {
   "cell_type": "code",
   "execution_count": null,
   "metadata": {},
   "outputs": [],
   "source": [
    "import matplotlib.pyplot as plt\n",
    "\n",
    "old_summaries, new_summaries = [], []\n",
    "# Lists to store scores\n",
    "summary_list, sentiment_scores_old, sentiment_scores_new, cola_scores_old, cola_scores_new = [], [], [], [], []\n",
    "\n",
    "for i, article in enumerate(tqdm(filtered_dataset)):\n",
    "    # Old model\n",
    "    results_old = old_summarizer(f\"summarize: {article}\", **generation_kwargs)\n",
    "    summary_text_old = results_old[0]['generated_text']\n",
    "    old_summaries.append(summary_text_old)\n",
    "\n",
    "    # New model\n",
    "    results_new = new_summarizer(f\"summarize: {article}\", **generation_kwargs)\n",
    "    summary_text_new = results_new[0]['generated_text']\n",
    "    new_summaries.append(summary_text_new)\n",
    "\n",
    "    # if summary_text_new.endswith('.') and '...' not in summary_text_new:\n",
    "    # print(f\"Generated Summary {i+1} [NEW]: {summary_text_new}\")\n",
    "\n",
    "    # Old scores\n",
    "    sentiment_score_old = get_neutral_scores([summary_text_old])\n",
    "    sentiment_scores_old.extend(sentiment_score_old)\n",
    "    cola_score_old = get_cola_scores([summary_text_old])\n",
    "    cola_scores_old.extend(cola_score_old)\n",
    "\n",
    "    # New scores\n",
    "    sentiment_score_new = get_neutral_scores([summary_text_new])\n",
    "    sentiment_scores_new.extend(sentiment_score_new)\n",
    "    # print(f\"Neutral Rewards for Summary {i+1} [NEW]: {sentiment_score_new}\")\n",
    "\n",
    "    cola_score_new = get_cola_scores([summary_text_new])\n",
    "    cola_scores_new.extend(cola_score_new)\n",
    "    # print(f\"Cola Rewards for Summary {i+1} [NEW]: {cola_score_new}\")"
   ]
  },
  {
   "cell_type": "code",
   "execution_count": null,
   "metadata": {},
   "outputs": [
    {
     "name": "stdout",
     "output_type": "stream",
     "text": [
      "Average Neutral Reward [OLD]: 1.3064811193536916\n",
      "Average Cola Reward [OLD]: 0.6901628242448794\n",
      "Average Neutral Reward [NEW]: 1.3233293617095314\n",
      "Average Cola Reward [NEW]: 0.7584201722146664\n"
     ]
    },
    {
     "data": {
      "image/png": "[encoded data removed]",
      "text/plain": [
       "<Figure size 1000x500 with 2 Axes>"
      ]
     },
     "metadata": {},
     "output_type": "display_data"
    }
   ],
   "source": [
    "\n",
    "# Calculate averages\n",
    "average_sentiment_score_old = sum(sentiment_scores_old) / len(sentiment_scores_old)\n",
    "average_cola_score_old = sum(cola_scores_old) / len(cola_scores_old)\n",
    "average_sentiment_score_new = sum(sentiment_scores_new) / len(sentiment_scores_new)\n",
    "average_cola_score_new = sum(cola_scores_new) / len(cola_scores_new)\n",
    "\n",
    "median_sentiment_score_old = np.median(sentiment_scores_old)\n",
    "median_cola_score_old = np.median(cola_scores_old)\n",
    "median_sentiment_score_new = np.median(sentiment_scores_new)\n",
    "median_cola_score_new = np.median(cola_scores_new)\n",
    "\n",
    "std_sentiment_score_old = np.std(sentiment_scores_old)\n",
    "std_cola_score_old = np.std(cola_scores_old)\n",
    "std_sentiment_score_new = np.std(sentiment_scores_new)\n",
    "std_cola_score_new = np.std(cola_scores_new)\n",
    "\n",
    "print(f'Average Neutral Reward [OLD]: {average_sentiment_score_old}')\n",
    "print(f'Average Cola Reward [OLD]: {average_cola_score_old}')\n",
    "print(f'Average Neutral Reward [NEW]: {average_sentiment_score_new}')\n",
    "print(f'Average Cola Reward [NEW]: {average_cola_score_new}')\n",
    "# print('---------------------------')\n",
    "\n",
    "# Graph the differences\n",
    "plt.figure(figsize=(10, 5))\n",
    "\n",
    "# Sentiment scores\n",
    "plt.subplot(1, 2, 1)\n",
    "plt.bar([\"Old Mean\", \"New Mean\", \"Old Median\", \"New Median\"],\n",
    "        [average_sentiment_score_old, average_sentiment_score_new, median_sentiment_score_old, median_sentiment_score_new],\n",
    "        color=['red', 'blue', 'orange', 'green'])\n",
    "plt.title(\"Average Neutral Rewards vs. Medians\")\n",
    "plt.ylabel(\"Score\")\n",
    "plt.ylim(min(average_sentiment_score_old, average_sentiment_score_new, median_sentiment_score_old, median_sentiment_score_new) - 0.1,\n",
    "         max(average_sentiment_score_old, average_sentiment_score_new, median_sentiment_score_old, median_sentiment_score_new) + 0.1)\n",
    "\n",
    "# Cola scores\n",
    "plt.subplot(1, 2, 2)\n",
    "plt.bar([\"Old Mean\", \"New Mean\", \"Old Median\", \"New Median\"],\n",
    "        [average_cola_score_old, average_cola_score_new, median_cola_score_old, median_cola_score_new],\n",
    "        color=['red', 'blue', 'orange', 'green'])\n",
    "plt.title(\"Average Cola Rewards vs. Medians\")\n",
    "plt.ylabel(\"Score\")\n",
    "plt.ylim(min(average_cola_score_old, average_cola_score_new, median_cola_score_old, median_cola_score_new) - 0.1,\n",
    "         max(average_cola_score_old, average_cola_score_new, median_cola_score_old, median_cola_score_new) + 0.1)\n",
    "\n",
    "plt.tight_layout()\n",
    "plt.show()"
   ]
  },
  {
   "cell_type": "code",
   "execution_count": null,
   "metadata": {},
   "outputs": [],
   "source": []
  }
 ],
 "metadata": {
  "language_info": {
   "name": "python"
  }
 },
 "nbformat": 4,
 "nbformat_minor": 0
}
