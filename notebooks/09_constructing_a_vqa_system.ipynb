{
 "cells": [
  {
   "cell_type": "markdown",
   "id": "c95ac107",
   "metadata": {
    "id": "c95ac107"
   },
   "source": [
    "# Building a VQA system from scratch"
   ]
  },
  {
   "cell_type": "code",
   "execution_count": null,
   "id": "9xHn43zhb-AM",
   "metadata": {},
   "outputs": [
    {
     "name": "stdout",
     "output_type": "stream",
     "text": [
      "Requirement already satisfied: datasets in /usr/local/lib/python3.10/dist-packages (2.20.0)\n",
      "Requirement already satisfied: transformers[torch] in /usr/local/lib/python3.10/dist-packages (4.41.2)\n",
      "Requirement already satisfied: wandb in /usr/local/lib/python3.10/dist-packages (0.17.2)\n",
      "Requirement already satisfied: torchvision in /usr/local/lib/python3.10/dist-packages (0.18.0+cu121)\n",
      "Requirement already satisfied: filelock in /usr/local/lib/python3.10/dist-packages (from datasets) (3.15.1)\n",
      "Requirement already satisfied: numpy>=1.17 in /usr/local/lib/python3.10/dist-packages (from datasets) (1.25.2)\n",
      "Requirement already satisfied: pyarrow>=15.0.0 in /usr/local/lib/python3.10/dist-packages (from datasets) (16.1.0)\n",
      "Requirement already satisfied: pyarrow-hotfix in /usr/local/lib/python3.10/dist-packages (from datasets) (0.6)\n",
      "Requirement already satisfied: dill<0.3.9,>=0.3.0 in /usr/local/lib/python3.10/dist-packages (from datasets) (0.3.8)\n",
      "Requirement already satisfied: pandas in /usr/local/lib/python3.10/dist-packages (from datasets) (2.0.3)\n",
      "Requirement already satisfied: requests>=2.32.2 in /usr/local/lib/python3.10/dist-packages (from datasets) (2.32.3)\n",
      "Requirement already satisfied: tqdm>=4.66.3 in /usr/local/lib/python3.10/dist-packages (from datasets) (4.66.4)\n",
      "Requirement already satisfied: xxhash in /usr/local/lib/python3.10/dist-packages (from datasets) (3.4.1)\n",
      "Requirement already satisfied: multiprocess in /usr/local/lib/python3.10/dist-packages (from datasets) (0.70.16)\n",
      "Requirement already satisfied: fsspec[http]<=2024.5.0,>=2023.1.0 in /usr/local/lib/python3.10/dist-packages (from datasets) (2023.6.0)\n",
      "Requirement already satisfied: aiohttp in /usr/local/lib/python3.10/dist-packages (from datasets) (3.9.5)\n",
      "Requirement already satisfied: huggingface-hub>=0.21.2 in /usr/local/lib/python3.10/dist-packages (from datasets) (0.23.4)\n",
      "Requirement already satisfied: packaging in /usr/local/lib/python3.10/dist-packages (from datasets) (24.1)\n",
      "Requirement already satisfied: pyyaml>=5.1 in /usr/local/lib/python3.10/dist-packages (from datasets) (6.0.1)\n",
      "Requirement already satisfied: regex!=2019.12.17 in /usr/local/lib/python3.10/dist-packages (from transformers[torch]) (2024.5.15)\n",
      "Requirement already satisfied: tokenizers<0.20,>=0.19 in /usr/local/lib/python3.10/dist-packages (from transformers[torch]) (0.19.1)\n",
      "Requirement already satisfied: safetensors>=0.4.1 in /usr/local/lib/python3.10/dist-packages (from transformers[torch]) (0.4.3)\n",
      "Requirement already satisfied: torch in /usr/local/lib/python3.10/dist-packages (from transformers[torch]) (2.3.0+cu121)\n",
      "Requirement already satisfied: accelerate>=0.21.0 in /usr/local/lib/python3.10/dist-packages (from transformers[torch]) (0.31.0)\n",
      "Requirement already satisfied: click!=8.0.0,>=7.1 in /usr/local/lib/python3.10/dist-packages (from wandb) (8.1.7)\n",
      "Requirement already satisfied: docker-pycreds>=0.4.0 in /usr/local/lib/python3.10/dist-packages (from wandb) (0.4.0)\n",
      "Requirement already satisfied: gitpython!=3.1.29,>=1.0.0 in /usr/local/lib/python3.10/dist-packages (from wandb) (3.1.43)\n",
      "Requirement already satisfied: platformdirs in /usr/local/lib/python3.10/dist-packages (from wandb) (4.2.2)\n",
      "Requirement already satisfied: protobuf!=4.21.0,<6,>=3.19.0 in /usr/local/lib/python3.10/dist-packages (from wandb) (3.20.3)\n",
      "Requirement already satisfied: psutil>=5.0.0 in /usr/local/lib/python3.10/dist-packages (from wandb) (5.9.5)\n",
      "Requirement already satisfied: sentry-sdk>=1.0.0 in /usr/local/lib/python3.10/dist-packages (from wandb) (2.6.0)\n",
      "Requirement already satisfied: setproctitle in /usr/local/lib/python3.10/dist-packages (from wandb) (1.3.3)\n",
      "Requirement already satisfied: setuptools in /usr/local/lib/python3.10/dist-packages (from wandb) (67.7.2)\n",
      "Requirement already satisfied: pillow!=8.3.*,>=5.3.0 in /usr/local/lib/python3.10/dist-packages (from torchvision) (9.4.0)\n",
      "Requirement already satisfied: typing-extensions>=4.8.0 in /usr/local/lib/python3.10/dist-packages (from torch->transformers[torch]) (4.12.2)\n",
      "Requirement already satisfied: sympy in /usr/local/lib/python3.10/dist-packages (from torch->transformers[torch]) (1.12.1)\n",
      "Requirement already satisfied: networkx in /usr/local/lib/python3.10/dist-packages (from torch->transformers[torch]) (3.3)\n",
      "Requirement already satisfied: jinja2 in /usr/local/lib/python3.10/dist-packages (from torch->transformers[torch]) (3.1.4)\n",
      "Requirement already satisfied: nvidia-cuda-nvrtc-cu12==12.1.105 in /usr/local/lib/python3.10/dist-packages (from torch->transformers[torch]) (12.1.105)\n",
      "Requirement already satisfied: nvidia-cuda-runtime-cu12==12.1.105 in /usr/local/lib/python3.10/dist-packages (from torch->transformers[torch]) (12.1.105)\n",
      "Requirement already satisfied: nvidia-cuda-cupti-cu12==12.1.105 in /usr/local/lib/python3.10/dist-packages (from torch->transformers[torch]) (12.1.105)\n",
      "Requirement already satisfied: nvidia-cudnn-cu12==8.9.2.26 in /usr/local/lib/python3.10/dist-packages (from torch->transformers[torch]) (8.9.2.26)\n",
      "Requirement already satisfied: nvidia-cublas-cu12==12.1.3.1 in /usr/local/lib/python3.10/dist-packages (from torch->transformers[torch]) (12.1.3.1)\n",
      "Requirement already satisfied: nvidia-cufft-cu12==11.0.2.54 in /usr/local/lib/python3.10/dist-packages (from torch->transformers[torch]) (11.0.2.54)\n",
      "Requirement already satisfied: nvidia-curand-cu12==10.3.2.106 in /usr/local/lib/python3.10/dist-packages (from torch->transformers[torch]) (10.3.2.106)\n",
      "Requirement already satisfied: nvidia-cusolver-cu12==11.4.5.107 in /usr/local/lib/python3.10/dist-packages (from torch->transformers[torch]) (11.4.5.107)\n",
      "Requirement already satisfied: nvidia-cusparse-cu12==12.1.0.106 in /usr/local/lib/python3.10/dist-packages (from torch->transformers[torch]) (12.1.0.106)\n",
      "Requirement already satisfied: nvidia-nccl-cu12==2.20.5 in /usr/local/lib/python3.10/dist-packages (from torch->transformers[torch]) (2.20.5)\n",
      "Requirement already satisfied: nvidia-nvtx-cu12==12.1.105 in /usr/local/lib/python3.10/dist-packages (from torch->transformers[torch]) (12.1.105)\n",
      "Requirement already satisfied: triton==2.3.0 in /usr/local/lib/python3.10/dist-packages (from torch->transformers[torch]) (2.3.0)\n",
      "Requirement already satisfied: nvidia-nvjitlink-cu12 in /usr/local/lib/python3.10/dist-packages (from nvidia-cusolver-cu12==11.4.5.107->torch->transformers[torch]) (12.5.40)\n",
      "Requirement already satisfied: six>=1.4.0 in /usr/local/lib/python3.10/dist-packages (from docker-pycreds>=0.4.0->wandb) (1.16.0)\n",
      "Requirement already satisfied: aiosignal>=1.1.2 in /usr/local/lib/python3.10/dist-packages (from aiohttp->datasets) (1.3.1)\n",
      "Requirement already satisfied: attrs>=17.3.0 in /usr/local/lib/python3.10/dist-packages (from aiohttp->datasets) (23.2.0)\n",
      "Requirement already satisfied: frozenlist>=1.1.1 in /usr/local/lib/python3.10/dist-packages (from aiohttp->datasets) (1.4.1)\n",
      "Requirement already satisfied: multidict<7.0,>=4.5 in /usr/local/lib/python3.10/dist-packages (from aiohttp->datasets) (6.0.5)\n",
      "Requirement already satisfied: yarl<2.0,>=1.0 in /usr/local/lib/python3.10/dist-packages (from aiohttp->datasets) (1.9.4)\n",
      "Requirement already satisfied: async-timeout<5.0,>=4.0 in /usr/local/lib/python3.10/dist-packages (from aiohttp->datasets) (4.0.3)\n",
      "Requirement already satisfied: gitdb<5,>=4.0.1 in /usr/local/lib/python3.10/dist-packages (from gitpython!=3.1.29,>=1.0.0->wandb) (4.0.11)\n",
      "Requirement already satisfied: charset-normalizer<4,>=2 in /usr/local/lib/python3.10/dist-packages (from requests>=2.32.2->datasets) (3.3.2)\n",
      "Requirement already satisfied: idna<4,>=2.5 in /usr/local/lib/python3.10/dist-packages (from requests>=2.32.2->datasets) (3.7)\n",
      "Requirement already satisfied: urllib3<3,>=1.21.1 in /usr/local/lib/python3.10/dist-packages (from requests>=2.32.2->datasets) (2.0.7)\n",
      "Requirement already satisfied: certifi>=2017.4.17 in /usr/local/lib/python3.10/dist-packages (from requests>=2.32.2->datasets) (2024.6.2)\n",
      "Requirement already satisfied: python-dateutil>=2.8.2 in /usr/local/lib/python3.10/dist-packages (from pandas->datasets) (2.8.2)\n",
      "Requirement already satisfied: pytz>=2020.1 in /usr/local/lib/python3.10/dist-packages (from pandas->datasets) (2023.4)\n",
      "Requirement already satisfied: tzdata>=2022.1 in /usr/local/lib/python3.10/dist-packages (from pandas->datasets) (2024.1)\n",
      "Requirement already satisfied: smmap<6,>=3.0.1 in /usr/local/lib/python3.10/dist-packages (from gitdb<5,>=4.0.1->gitpython!=3.1.29,>=1.0.0->wandb) (5.0.1)\n",
      "Requirement already satisfied: MarkupSafe>=2.0 in /usr/local/lib/python3.10/dist-packages (from jinja2->torch->transformers[torch]) (2.1.5)\n",
      "Requirement already satisfied: mpmath<1.4.0,>=1.1.0 in /usr/local/lib/python3.10/dist-packages (from sympy->torch->transformers[torch]) (1.3.0)\n"
     ]
    }
   ],
   "source": [
    "!pip install datasets transformers[torch] wandb torchvision"
   ]
  },
  {
   "cell_type": "code",
   "execution_count": null,
   "id": "39e3682d",
   "metadata": {},
   "outputs": [],
   "source": [
    "import numpy as np\n",
    "import matplotlib.pyplot as plt\n",
    "import torch\n",
    "from datasets import Dataset\n",
    "from torch.utils.data import DataLoader\n",
    "from torch.optim import AdamW\n",
    "\n",
    "from transformers import AutoModel, ViTModel, AutoModelForCausalLM, Trainer, TrainingArguments, ViTModel, ViTFeatureExtractor, AutoTokenizer\n",
    "import torch.nn as nn\n",
    "\n",
    "import os\n",
    "\n",
    "device = \"cuda\" if torch.cuda.is_available() else \"cpu\""
   ]
  },
  {
   "cell_type": "code",
   "execution_count": null,
   "id": "e02a6d01",
   "metadata": {},
   "outputs": [],
   "source": []
  },
  {
   "cell_type": "code",
   "execution_count": null,
   "id": "af159176",
   "metadata": {},
   "outputs": [],
   "source": [
    "DECODER_MODEL = 'gpt2'\n",
    "TEXT_ENCODER_MODEL = 'distilbert-base-uncased'\n",
    "IMAGE_ENCODER_MODEL = \"facebook/dino-vitb16\""
   ]
  },
  {
   "cell_type": "code",
   "execution_count": null,
   "id": "37aafafc",
   "metadata": {},
   "outputs": [],
   "source": [
    "decoder_tokenizer = AutoTokenizer.from_pretrained(DECODER_MODEL)\n",
    "decoder_tokenizer.pad_token = decoder_tokenizer.eos_token\n",
    "decoder_tokenizer.padding_side = \"left\""
   ]
  },
  {
   "cell_type": "code",
   "execution_count": null,
   "id": "435e175b",
   "metadata": {},
   "outputs": [],
   "source": [
    "import torch.nn.functional as F\n",
    "\n",
    "class MultiModalModel(nn.Module):\n",
    "    \"\"\"\n",
    "    A MultiModalModel class used to perform visual question answering (VQA).\n",
    "    It consists of encoders for text and image and a decoder for generating the answer.\n",
    "\n",
    "    Attributes:\n",
    "        text_encoder: A model to encode text input.\n",
    "        image_encoder: A model to encode image input.\n",
    "        decoder: A model to decode and generate answers.\n",
    "        text_projection: A linear layer to project text encoding to a specific size.\n",
    "        image_projection: A linear layer to project image encoding to a specific size.\n",
    "    \"\"\"\n",
    "\n",
    "    def __init__(self, text_encoder_model, image_encoder_model, decoder_model, freeze=None, load_from=None):\n",
    "        \"\"\"\n",
    "        Initialize the MultiModalModel.\n",
    "\n",
    "        Parameters:\n",
    "            text_encoder_model (str): Pre-trained text encoder model name.\n",
    "            image_encoder_model (str): Pre-trained image encoder model name.\n",
    "            decoder_model (str): Pre-trained decoder model name.\n",
    "            freeze (str, optional): Which parts of the model to freeze. Can be 'encoders', 'decoder', 'all' or specific encoder.\n",
    "            load_from (str, optional): Path to a checkpoint file to load the model.\n",
    "        \"\"\"\n",
    "        super(MultiModalModel, self).__init__()\n",
    "\n",
    "        # Initialize text and image encoders\n",
    "        self.text_encoder = AutoModel.from_pretrained(text_encoder_model).to(device)\n",
    "        self.image_encoder = ViTModel.from_pretrained(image_encoder_model).to(device)\n",
    "\n",
    "        # Initialize the GPT-2 decoder\n",
    "        self.decoder = AutoModelForCausalLM.from_pretrained(\n",
    "            decoder_model,\n",
    "            add_cross_attention=True,\n",
    "            tie_word_embeddings=True\n",
    "        ).to(device)\n",
    "\n",
    "        # Initialize linear layers for projecting encoded features\n",
    "        self.text_projection = nn.Linear(self.text_encoder.config.hidden_size, self.decoder.config.hidden_size).to(device)\n",
    "        self.image_projection = nn.Linear(self.image_encoder.config.hidden_size, self.decoder.config.hidden_size).to(device)\n",
    "\n",
    "        # Freeze specified encoders if required or load from a checkpoint\n",
    "        if load_from:\n",
    "            self.load_model_checkpoint(load_from)\n",
    "        else:\n",
    "            self.freeze(freeze)\n",
    "\n",
    "    def freeze(self, freeze):\n",
    "        \"\"\"\n",
    "        Freeze specific parts of the model to prevent them from being updated during training.\n",
    "\n",
    "        Parameters:\n",
    "            freeze (str): Which parts to freeze. Can be 'encoders', 'decoder', 'all', or specific encoder.\n",
    "        \"\"\"\n",
    "        if not freeze or freeze == 'nothing':\n",
    "            return\n",
    "\n",
    "        print('Freezing...')\n",
    "        if freeze in ('encoders', 'all') or 'text_encoder' in freeze:\n",
    "            print('Freezing text encoder')\n",
    "            for param in self.text_encoder.parameters():\n",
    "                param.requires_grad = False\n",
    "\n",
    "        if freeze in ('encoders', 'all') or 'image_encoder' in freeze:\n",
    "            print('Freezing image encoder')\n",
    "            for param in self.image_encoder.parameters():\n",
    "                param.requires_grad = False\n",
    "\n",
    "        if freeze in ('decoder', 'all'):\n",
    "            print('Freezing decoder (except for cross attention)')\n",
    "            for name, param in self.decoder.named_parameters():\n",
    "                if \"crossattention\" not in name:\n",
    "                    param.requires_grad = False\n",
    "\n",
    "    def load_model_checkpoint(self, path):\n",
    "        \"\"\"\n",
    "        Load the model from a saved checkpoint.\n",
    "\n",
    "        Parameters:\n",
    "            path (str): Path to the saved checkpoint.\n",
    "        \"\"\"\n",
    "        checkpoint = torch.load(path)\n",
    "        checkpoint = {k.replace(\"module.\", \"\"): v for k, v in checkpoint.items()}\n",
    "        self.load_state_dict(checkpoint)\n",
    "\n",
    "    def check_input(self, tensor, tensor_name):\n",
    "        \"\"\"\n",
    "        Check if there are any NaN or infinite values in the input tensor.\n",
    "\n",
    "        Parameters:\n",
    "            tensor (torch.Tensor): Input tensor.\n",
    "            tensor_name (str): Name of the tensor for error logging.\n",
    "        \"\"\"\n",
    "        if torch.isnan(tensor).any() or torch.isinf(tensor).any():\n",
    "            print(f\"NaN or infinite values found in {tensor_name}\")\n",
    "\n",
    "    def encode_text(self, input_text, attention_mask):\n",
    "        \"\"\"\n",
    "        Encode text using the text encoder and project it to a specific size.\n",
    "\n",
    "        Parameters:\n",
    "            input_text (torch.Tensor): Input text tensor.\n",
    "            attention_mask (torch.Tensor): Attention mask for the input text.\n",
    "\n",
    "        Returns:\n",
    "            torch.Tensor: Projected text encoding.\n",
    "        \"\"\"\n",
    "        self.check_input(input_text, \"input_text\")\n",
    "        text_encoded = self.text_encoder(input_text, attention_mask=attention_mask).last_hidden_state.mean(dim=1)\n",
    "        return self.text_projection(text_encoded)\n",
    "\n",
    "    def encode_image(self, input_image):\n",
    "        \"\"\"\n",
    "        Encode image using the image encoder and project it to a specific size.\n",
    "\n",
    "        Parameters:\n",
    "            input_image (torch.Tensor): Input image tensor.\n",
    "\n",
    "        Returns:\n",
    "            torch.Tensor: Projected image encoding.\n",
    "        \"\"\"\n",
    "        self.check_input(input_image, \"input_image\")\n",
    "        image_encoded = self.image_encoder(input_image).last_hidden_state.mean(dim=1)\n",
    "        return self.image_projection(image_encoded)\n",
    "\n",
    "    def forward(self, input_text, input_image, decoder_input_ids, attention_mask, labels=None):\n",
    "        \"\"\"\n",
    "        Forward pass through the model.\n",
    "\n",
    "        Parameters:\n",
    "            input_text (torch.Tensor): Input text tensor.\n",
    "            input_image (torch.Tensor): Input image tensor.\n",
    "            decoder_input_ids (torch.Tensor): Decoder input IDs tensor.\n",
    "            attention_mask (torch.Tensor): Attention mask for the input text.\n",
    "            labels (torch.Tensor, optional): Ground truth labels for the target.\n",
    "\n",
    "        Returns:\n",
    "            torch.Tensor: Decoder output.\n",
    "        \"\"\"\n",
    "        self.check_input(decoder_input_ids, \"decoder_input_ids\")\n",
    "\n",
    "        # Encode text and image\n",
    "        text_projected = self.encode_text(input_text, attention_mask)\n",
    "        image_projected = self.encode_image(input_image)\n",
    "\n",
    "        # Combine encoded features\n",
    "        combined_features = (text_projected + image_projected) / 2\n",
    "\n",
    "        # Decode with GPT-2\n",
    "        decoder_outputs = self.decoder(\n",
    "            input_ids=decoder_input_ids,\n",
    "            labels=labels,\n",
    "            encoder_hidden_states=combined_features.unsqueeze(1)\n",
    "        )\n",
    "        return decoder_outputs\n",
    "\n",
    "    def generate(self, image, questions, max_text_length=5, verbose=True):\n",
    "        \"\"\"\n",
    "        Generate answers for the given image and list of questions.\n",
    "\n",
    "        Parameters:\n",
    "            image (Image): Input image.\n",
    "            questions (list): List of questions related to the image.\n",
    "            max_text_length (int, optional): Maximum text length for generated answers.\n",
    "\n",
    "        Returns:\n",
    "            Image: Input image.\n",
    "        \"\"\"\n",
    "        # Encode text and image\n",
    "        image = retrieve_image(image)\n",
    "        image_input = image_feature_extractor(images=[preprocess_image(image)], return_tensors=\"pt\")\n",
    "        input_image = image_input[\"pixel_values\"].to(device)\n",
    "        image_projected = self.encode_image(input_image).to(device)\n",
    "\n",
    "        for question in questions:\n",
    "            i = text_tokenizer(question, return_tensors='pt')\n",
    "            text_projected = self.encode_text(i['input_ids'].to(device), i['attention_mask'].to(device)).to(device)\n",
    "\n",
    "            # Combine encoded features\n",
    "            combined_features = (text_projected + image_projected) / 2\n",
    "\n",
    "            generated_so_far = torch.LongTensor([[decoder_tokenizer.bos_token_id]]).to(device)\n",
    "            with torch.no_grad():\n",
    "                for _ in tqdm(range(max_text_length)) if verbose else range(max_text_length):\n",
    "\n",
    "                    decoder_outputs = self.decoder(\n",
    "                        input_ids=generated_so_far,\n",
    "                        encoder_hidden_states=combined_features.unsqueeze(1)\n",
    "                    )\n",
    "\n",
    "                    next_token_logits = decoder_outputs.logits[:, -1, :]\n",
    "                    next_token_probs = F.softmax(next_token_logits, dim=-1)\n",
    "\n",
    "                    next_token = next_token_logits.argmax(-1)\n",
    "                    confidence = next_token_probs[0, next_token].item()\n",
    "                    if verbose:\n",
    "                        print(\"Next token:\", decoder_tokenizer.decode(next_token), \"Confidence:\", confidence)\n",
    "                    if next_token == decoder_tokenizer.eos_token_id:\n",
    "                        break\n",
    "                    generated_so_far = torch.cat((generated_so_far, next_token.unsqueeze(0)), dim=1)\n",
    "            if verbose:\n",
    "                print(question, decoder_tokenizer.decode(generated_so_far[0]))\n",
    "\n",
    "        return image, decoder_tokenizer.decode(generated_so_far[0], skip_special_tokens=True).strip()\n"
   ]
  },
  {
   "cell_type": "code",
   "execution_count": null,
   "id": "r5cy6-aHgtR2",
   "metadata": {},
   "outputs": [
    {
     "name": "stderr",
     "output_type": "stream",
     "text": [
      "/usr/local/lib/python3.10/dist-packages/transformers/models/vit/feature_extraction_vit.py:28: FutureWarning: The class ViTFeatureExtractor is deprecated and will be removed in version 5 of Transformers. Please use ViTImageProcessor instead.\n",
      "  warnings.warn(\n"
     ]
    }
   ],
   "source": [
    "text_tokenizer = AutoTokenizer.from_pretrained(TEXT_ENCODER_MODEL)\n",
    "image_feature_extractor = ViTFeatureExtractor.from_pretrained(IMAGE_ENCODER_MODEL)"
   ]
  },
  {
   "cell_type": "code",
   "execution_count": null,
   "id": "a880e69b",
   "metadata": {},
   "outputs": [],
   "source": [
    "from PIL import Image\n",
    "import torchvision.transforms as T\n",
    "from transformers import DataCollatorWithPadding\n",
    "import numpy as np\n",
    "from torchvision import transforms\n",
    "\n",
    "# Create a transform pipeline\n",
    "augment_pipeline = transforms.Compose([\n",
    "    transforms.RandomHorizontalFlip(),  # Random horizontal flip\n",
    "    transforms.RandomAffine(degrees=5, shear=5),  # Random affine transformation\n",
    "    # Add any other transforms you need here\n",
    "])\n",
    "\n",
    "def preprocess_image(image, augment_image=True):\n",
    "    # Open the image if the input is a file path\n",
    "    if type(image) == str:\n",
    "        img = Image.open(image)\n",
    "    else:\n",
    "        img = image\n",
    "\n",
    "    # Check the number of channels in the image and convert to RGB if necessary\n",
    "    if img.mode == 'L':  # 'L' stands for grayscale mode\n",
    "        img_rgb = img.convert('RGB')\n",
    "    else:\n",
    "        img_rgb = img\n",
    "\n",
    "    if augment_image:\n",
    "        img_rgb = augment_pipeline(img_rgb)\n",
    "\n",
    "    return img_rgb"
   ]
  },
  {
   "cell_type": "code",
   "execution_count": null,
   "id": "3c37356d",
   "metadata": {},
   "outputs": [],
   "source": [
    "from PIL import Image\n",
    "import os\n",
    "import json\n",
    "from collections import defaultdict\n",
    "import numpy as np\n",
    "from tqdm.auto import tqdm\n",
    "\n",
    "def retrieve_image(image_file):\n",
    "    try:\n",
    "        image = Image.open(image_file)\n",
    "        return image\n",
    "    except:\n",
    "        return None\n",
    "\n",
    "def load_vqa_data(\n",
    "    annotations_file, questions_file, images_folder, load_images=False,\n",
    "    start_at=None, end_at=None, max_images=None, max_questions=None,\n",
    "    consensus_threshold=0.9\n",
    "):\n",
    "    with open(annotations_file, \"r\") as f:\n",
    "        annotations_data = json.load(f)\n",
    "\n",
    "    with open(questions_file, \"r\") as f:\n",
    "        questions_data = json.load(f)\n",
    "\n",
    "    data = []\n",
    "    images_used = defaultdict(int)\n",
    "    # Create a dictionary to map question_id to the annotation data\n",
    "    annotations_dict = {annotation[\"question_id\"]: annotation for annotation in annotations_data[\"annotations\"]}\n",
    "    print(len(annotations_dict))\n",
    "    for question in tqdm(questions_data[\"questions\"][start_at:end_at]):\n",
    "        question_id = question[\"question_id\"]\n",
    "        annotation = annotations_dict[question_id]\n",
    "\n",
    "        image_id = question[\"image_id\"]\n",
    "        image_file = f\"{images_folder}/COCO_{images_folder}_{str(image_id).zfill(12)}.jpg\"\n",
    "        if max_questions and images_used[image_file] >= max_questions:\n",
    "            continue\n",
    "        all_answers = [ans[\"answer\"] for ans in annotation[\"answers\"]]\n",
    "        if (all_answers.count(annotation['multiple_choice_answer']) / len(all_answers)) < consensus_threshold:\n",
    "            continue\n",
    "\n",
    "        if load_images:\n",
    "            # Load the image and convert it to a numpy array\n",
    "            image = retrieve_image(image_file)\n",
    "            if not image:\n",
    "                continue\n",
    "            image.close()  # Close the image object\n",
    "\n",
    "        else:\n",
    "            if not os.path.exists(image_file):\n",
    "                continue\n",
    "            # Store the image file path\n",
    "            image = image_file\n",
    "\n",
    "        # Add the data as a dictionary\n",
    "        data.append(\n",
    "            {\n",
    "                \"image_id\": image_id,\n",
    "                \"question_id\": question_id,\n",
    "                \"question\": question[\"question\"],\n",
    "                \"answer\": decoder_tokenizer.bos_token + annotation[\"multiple_choice_answer\"] + decoder_tokenizer.eos_token,\n",
    "                \"all_answers\": all_answers,\n",
    "                \"image\": image,\n",
    "            }\n",
    "        )\n",
    "        images_used[image_file] += 1\n",
    "\n",
    "        if max_images and len(images_used) >= max_images:\n",
    "            break\n",
    "\n",
    "    return data\n"
   ]
  },
  {
   "cell_type": "code",
   "execution_count": null,
   "id": "Qm_DC4u-XlTl",
   "metadata": {},
   "outputs": [],
   "source": []
  },
  {
   "cell_type": "code",
   "execution_count": null,
   "id": "l7wrqcz1J3Vl",
   "metadata": {},
   "outputs": [
    {
     "name": "stdout",
     "output_type": "stream",
     "text": [
      "v2_OpenEnded_mscoco_train2014_questions.json already downloaded\n",
      "v2_mscoco_train2014_annotations.json already downloaded\n",
      "train2014.zip already downloaded\n"
     ]
    }
   ],
   "source": [
    "import requests\n",
    "import os\n",
    "import zipfile\n",
    "from contextlib import closing\n",
    "import requests\n",
    "from tqdm import tqdm\n",
    "\n",
    "FILES = {\n",
    "    'v2_OpenEnded_mscoco_train2014_questions.json': 'https://www.dropbox.com/scl/fi/4nxioopcj62uwvtxvvruc/v2_OpenEnded_mscoco_train2014_questions.json?rlkey=fbycbpxmixscqb8mr8ouh62bl&dl=1',\n",
    "    'v2_mscoco_train2014_annotations.json': 'https://www.dropbox.com/scl/fi/h4eb6ikhlul99hynxbtu8/v2_mscoco_train2014_annotations.json?rlkey=lhunsc6nji7gllsly86xtt4la&dl=1',\n",
    "    'train2014.zip': 'https://www.dropbox.com/scl/fi/gprccokuke8nq46qgzuxy/train2014.zip?rlkey=h6bndf7m7pr6i10eocg997jlb&dl=1'\n",
    "}\n",
    "\n",
    "\n",
    "def download_file_with_progress(url, filename):\n",
    "    response = requests.get(url, stream=True)\n",
    "    total_size_in_bytes = int(response.headers.get('content-length', 0))\n",
    "    block_size = 1024  # 1 Kibibyte\n",
    "\n",
    "    progress_bar = tqdm(total=total_size_in_bytes, unit='iB', unit_scale=True)\n",
    "\n",
    "    with open(filename, 'wb') as file:\n",
    "        for data in response.iter_content(block_size):\n",
    "            progress_bar.update(len(data))\n",
    "            file.write(data)\n",
    "    progress_bar.close()\n",
    "\n",
    "    if total_size_in_bytes != 0 and progress_bar.n != total_size_in_bytes:\n",
    "        print(\"ERROR, something went wrong\")\n",
    "\n",
    "\n",
    "def extract_zip(file_name, target_dir=\".\"):\n",
    "    try:\n",
    "        with zipfile.ZipFile(file_name, 'r') as zip_ref:\n",
    "            # Optional: List files in zip or extract specific files\n",
    "            # file_list = zip_ref.namelist()\n",
    "            # zip_ref.extractall(target_dir, members=file_list)\n",
    "            zip_ref.extractall(target_dir)\n",
    "    except zipfile.BadZipFile:\n",
    "        print(f\"Error: Corrupted ZIP file - {file_name}\")\n",
    "\n",
    "for name, url in FILES.items():\n",
    "    if os.path.exists(name):\n",
    "        print(f'{name} already downloaded')\n",
    "    else:\n",
    "        print(f\"Downloading {name}...\")\n",
    "        try:\n",
    "            download_file_with_progress(url, name)\n",
    "            print(f\"Downloaded {name}!\")\n",
    "        except Exception as e:\n",
    "            print(f\"Error downloading {name}: {e}\")\n",
    "            continue\n",
    "\n",
    "        if 'zip' in name:\n",
    "            print(f\"Extracting {name}...\")\n",
    "            extract_zip(name)\n",
    "            print(f\"Extracted {name}!\")\n"
   ]
  },
  {
   "cell_type": "code",
   "execution_count": null,
   "id": "nYmO7wmeMELi",
   "metadata": {},
   "outputs": [
    {
     "name": "stdout",
     "output_type": "stream",
     "text": [
      "443757\n"
     ]
    },
    {
     "name": "stderr",
     "output_type": "stream",
     "text": [
      "100%|██████████| 443757/443757 [00:03<00:00, 118346.63it/s]\n"
     ]
    }
   ],
   "source": [
    "vqa_data = load_vqa_data(\n",
    "    \"v2_mscoco_train2014_annotations.json\",\n",
    "    \"v2_OpenEnded_mscoco_train2014_questions.json\",\n",
    "    \"train2014\",\n",
    ")"
   ]
  },
  {
   "cell_type": "code",
   "execution_count": null,
   "id": "40c0e673",
   "metadata": {},
   "outputs": [
    {
     "data": {
      "text/plain": [
       "{'image_id': 458752,\n",
       " 'question_id': 458752001,\n",
       " 'question': 'What position is this man playing?',\n",
       " 'answer': '<|endoftext|>pitcher<|endoftext|>',\n",
       " 'all_answers': ['pitcher',\n",
       "  'catcher',\n",
       "  'pitcher',\n",
       "  'pitcher',\n",
       "  'pitcher',\n",
       "  'pitcher',\n",
       "  'pitcher',\n",
       "  'pitcher',\n",
       "  'pitcher',\n",
       "  'pitcher'],\n",
       " 'image': 'train2014/COCO_train2014_000000458752.jpg'}"
      ]
     },
     "execution_count": 11,
     "metadata": {},
     "output_type": "execute_result"
    }
   ],
   "source": [
    "vqa_data[0]"
   ]
  },
  {
   "cell_type": "code",
   "execution_count": null,
   "id": "5dfc64a2",
   "metadata": {},
   "outputs": [
    {
     "data": {
      "text/plain": [
       "212737"
      ]
     },
     "execution_count": 12,
     "metadata": {},
     "output_type": "execute_result"
    }
   ],
   "source": [
    "len(vqa_data)"
   ]
  },
  {
   "cell_type": "code",
   "execution_count": null,
   "id": "e48ba837",
   "metadata": {},
   "outputs": [],
   "source": [
    "import random\n",
    "\n",
    "random.seed(42)\n",
    "random.shuffle(vqa_data)"
   ]
  },
  {
   "cell_type": "code",
   "execution_count": null,
   "id": "585b2cf5",
   "metadata": {},
   "outputs": [],
   "source": [
    "# split into train, test val\n",
    "\n",
    "train_data, val_data = vqa_data[:int(len(vqa_data) * 0.9)], vqa_data[int(len(vqa_data) * 0.9):]\n",
    "train_data, test_data = train_data[:int(len(train_data) * (8/9) )], train_data[int(len(train_data) * (8/9)):]"
   ]
  },
  {
   "cell_type": "code",
   "execution_count": null,
   "id": "c3bee23c",
   "metadata": {},
   "outputs": [
    {
     "data": {
      "text/plain": [
       "(170189, 21274, 21274)"
      ]
     },
     "execution_count": 15,
     "metadata": {},
     "output_type": "execute_result"
    }
   ],
   "source": [
    "len(train_data), len(val_data), len(test_data)"
   ]
  },
  {
   "cell_type": "code",
   "execution_count": null,
   "id": "3WvI5a33sMdy",
   "metadata": {},
   "outputs": [
    {
     "data": {
      "text/plain": [
       "<Axes: >"
      ]
     },
     "execution_count": 16,
     "metadata": {},
     "output_type": "execute_result"
    },
    {
     "data": {
      "image/png": "[encoded data removed]",
      "text/plain": [
       "<Figure size 640x480 with 1 Axes>"
      ]
     },
     "metadata": {},
     "output_type": "display_data"
    }
   ],
   "source": [
    "import pandas as pd\n",
    "pd.Series([t['answer'] for t in train_data]).value_counts().head(10).plot.bar()"
   ]
  },
  {
   "cell_type": "code",
   "execution_count": null,
   "id": "63935b9b",
   "metadata": {},
   "outputs": [],
   "source": [
    "train_dataset = Dataset.from_dict({key: [item[key] for item in train_data] for key in train_data[0].keys()})\n",
    "val_dataset = Dataset.from_dict({key: [item[key] for item in val_data] for key in val_data[0].keys()})\n",
    "test_dataset = Dataset.from_dict({key: [item[key] for item in test_data] for key in test_data[0].keys()})\n",
    "\n",
    "# Save datasets to disk (optional)\n",
    "# train_dataset.save_to_disk(\"vqa_train_dataset\")\n",
    "# val_dataset.save_to_disk(\"vqa_val_dataset\")"
   ]
  },
  {
   "cell_type": "code",
   "execution_count": null,
   "id": "4MAPLv0rimdb",
   "metadata": {},
   "outputs": [],
   "source": [
    "image_feature_extractor.do_normalize = False  # controverisal pre-processing alteration"
   ]
  },
  {
   "cell_type": "code",
   "execution_count": null,
   "id": "e9P23SKWlsFI",
   "metadata": {},
   "outputs": [],
   "source": []
  },
  {
   "cell_type": "code",
   "execution_count": null,
   "id": "Dzdd6-F8d3Oo",
   "metadata": {},
   "outputs": [
    {
     "name": "stdout",
     "output_type": "stream",
     "text": [
      "['<|endoftext|>yes<|endoftext|>', '<|endoftext|>de anza college<|endoftext|>']\n",
      "tensor([[50256, 50256, 50256, 50256,  8505, 50256],\n",
      "        [50256,  2934,   281,  4496,  4152, 50256]], device='cuda:0')\n",
      "tensor([[ -100,  -100,  -100,  -100,  8505, 50256],\n",
      "        [ -100,  2934,   281,  4496,  4152, 50256]], device='cuda:0')\n"
     ]
    }
   ],
   "source": [
    "def data_collator(batch, augment_image=True):\n",
    "    # Preprocess and tokenize text\n",
    "    text_inputs = [sample['question'] for sample in batch]\n",
    "    text_tensors = text_tokenizer(text_inputs, padding=True, return_tensors=\"pt\")\n",
    "\n",
    "    # Augment + featurize image\n",
    "    image_inputs = image_feature_extractor([preprocess_image(sample[\"image\"], augment_image=augment_image) for sample in batch])\n",
    "    image_tensors = torch.from_numpy(np.stack(image_inputs['pixel_values']))\n",
    "\n",
    "    # Prepare decoder inputs (targets)\n",
    "    target_inputs = [sample[\"answer\"] for sample in batch]\n",
    "    target_tensors = decoder_tokenizer(target_inputs, padding=True, return_tensors=\"pt\")\n",
    "\n",
    "    # Return input tensors\n",
    "    labels = target_tensors[\"input_ids\"].clone()\n",
    "    # mask the loss on the pad tokens to not confuse the model into thinking it needs to generate pad tokens\n",
    "    labels = torch.where((labels == decoder_tokenizer.pad_token_id), -100, labels)\n",
    "    labels[:, -1] = decoder_tokenizer.eos_token_id\n",
    "\n",
    "    return {\n",
    "        \"input_text\": text_tensors[\"input_ids\"].to(device),\n",
    "        \"attention_mask\": text_tensors[\"attention_mask\"].to(device),\n",
    "        \"input_image\": image_tensors.to(device),\n",
    "        \"decoder_input_ids\": target_tensors[\"input_ids\"].to(device),\n",
    "        \"labels\": labels.to(device)\n",
    "    }\n",
    "\n",
    "for i, d in enumerate(train_data):\n",
    "    if len(d['answer']) > (len(train_data[0]['answer']) + 10):\n",
    "        print([train_data[0]['answer'], train_data[i]['answer']])\n",
    "\n",
    "        batch = data_collator([train_data[0], train_data[i]])\n",
    "        print(batch['decoder_input_ids'])\n",
    "\n",
    "        print(batch['labels'])\n",
    "        break"
   ]
  },
  {
   "cell_type": "code",
   "execution_count": null,
   "id": "3d8d8190",
   "metadata": {},
   "outputs": [
    {
     "name": "stderr",
     "output_type": "stream",
     "text": [
      "/usr/local/lib/python3.10/dist-packages/transformers/training_args.py:1474: FutureWarning: `evaluation_strategy` is deprecated and will be removed in version 4.46 of 🤗 Transformers. Use `eval_strategy` instead\n",
      "  warnings.warn(\n"
     ]
    }
   ],
   "source": [
    "training_args = TrainingArguments(\n",
    "    output_dir=\"./vqa_custom\",\n",
    "    num_train_epochs=3,\n",
    "    per_device_train_batch_size=32,\n",
    "    per_device_eval_batch_size=128,\n",
    "    gradient_accumulation_steps=2,\n",
    "    evaluation_strategy=\"epoch\",\n",
    "    logging_steps=10,\n",
    "    fp16=True,  # only possible if using a GPU\n",
    "    save_strategy='epoch',\n",
    "    report_to='wandb',\n",
    "    warmup_ratio=0.1,\n",
    "    learning_rate=2e-5,\n",
    "    lr_scheduler_type='cosine',\n",
    "    save_total_limit=1,\n",
    "    save_safetensors=False,\n",
    "    load_best_model_at_end=True,\n",
    "    metric_for_best_model='eval_loss',\n",
    ")\n",
    "\n",
    "class CustomTrainer(Trainer):\n",
    "    def __init__(self, *args, train_dataloader=None, eval_dataloader=None, test_dataloader=None, **kwargs):\n",
    "        super().__init__(*args, **kwargs)\n",
    "        self._train_dataloader = train_dataloader\n",
    "        self._eval_dataloader = eval_dataloader\n",
    "        self._test_dataloader = test_dataloader\n",
    "\n",
    "    def get_train_dataloader(self):\n",
    "        if self._train_dataloader is not None:\n",
    "            return self._train_dataloader\n",
    "        return super().get_train_dataloader()\n",
    "\n",
    "    def get_eval_dataloader(self, dataset=None):\n",
    "        if self._eval_dataloader is not None:\n",
    "            return self._eval_dataloader\n",
    "        return super().get_eval_dataloader(dataset)\n",
    "\n",
    "    def get_test_dataloader(self, dataset=None):\n",
    "        if self._test_dataloader is not None:\n",
    "            return self._test_dataloader\n",
    "        return super().get_test_dataloader(dataset)\n"
   ]
  },
  {
   "cell_type": "code",
   "execution_count": null,
   "id": "7cf15a48",
   "metadata": {},
   "outputs": [
    {
     "name": "stderr",
     "output_type": "stream",
     "text": [
      "Some weights of ViTModel were not initialized from the model checkpoint at facebook/dino-vitb16 and are newly initialized: ['pooler.dense.bias', 'pooler.dense.weight']\n",
      "You should probably TRAIN this model on a down-stream task to be able to use it for predictions and inference.\n",
      "Some weights of GPT2LMHeadModel were not initialized from the model checkpoint at gpt2 and are newly initialized: ['h.0.crossattention.c_attn.bias', 'h.0.crossattention.c_attn.weight', 'h.0.crossattention.c_proj.bias', 'h.0.crossattention.c_proj.weight', 'h.0.crossattention.q_attn.bias', 'h.0.crossattention.q_attn.weight', 'h.0.ln_cross_attn.bias', 'h.0.ln_cross_attn.weight', 'h.1.crossattention.c_attn.bias', 'h.1.crossattention.c_attn.weight', 'h.1.crossattention.c_proj.bias', 'h.1.crossattention.c_proj.weight', 'h.1.crossattention.q_attn.bias', 'h.1.crossattention.q_attn.weight', 'h.1.ln_cross_attn.bias', 'h.1.ln_cross_attn.weight', 'h.10.crossattention.c_attn.bias', 'h.10.crossattention.c_attn.weight', 'h.10.crossattention.c_proj.bias', 'h.10.crossattention.c_proj.weight', 'h.10.crossattention.q_attn.bias', 'h.10.crossattention.q_attn.weight', 'h.10.ln_cross_attn.bias', 'h.10.ln_cross_attn.weight', 'h.11.crossattention.c_attn.bias', 'h.11.crossattention.c_attn.weight', 'h.11.crossattention.c_proj.bias', 'h.11.crossattention.c_proj.weight', 'h.11.crossattention.q_attn.bias', 'h.11.crossattention.q_attn.weight', 'h.11.ln_cross_attn.bias', 'h.11.ln_cross_attn.weight', 'h.2.crossattention.c_attn.bias', 'h.2.crossattention.c_attn.weight', 'h.2.crossattention.c_proj.bias', 'h.2.crossattention.c_proj.weight', 'h.2.crossattention.q_attn.bias', 'h.2.crossattention.q_attn.weight', 'h.2.ln_cross_attn.bias', 'h.2.ln_cross_attn.weight', 'h.3.crossattention.c_attn.bias', 'h.3.crossattention.c_attn.weight', 'h.3.crossattention.c_proj.bias', 'h.3.crossattention.c_proj.weight', 'h.3.crossattention.q_attn.bias', 'h.3.crossattention.q_attn.weight', 'h.3.ln_cross_attn.bias', 'h.3.ln_cross_attn.weight', 'h.4.crossattention.c_attn.bias', 'h.4.crossattention.c_attn.weight', 'h.4.crossattention.c_proj.bias', 'h.4.crossattention.c_proj.weight', 'h.4.crossattention.q_attn.bias', 'h.4.crossattention.q_attn.weight', 'h.4.ln_cross_attn.bias', 'h.4.ln_cross_attn.weight', 'h.5.crossattention.c_attn.bias', 'h.5.crossattention.c_attn.weight', 'h.5.crossattention.c_proj.bias', 'h.5.crossattention.c_proj.weight', 'h.5.crossattention.q_attn.bias', 'h.5.crossattention.q_attn.weight', 'h.5.ln_cross_attn.bias', 'h.5.ln_cross_attn.weight', 'h.6.crossattention.c_attn.bias', 'h.6.crossattention.c_attn.weight', 'h.6.crossattention.c_proj.bias', 'h.6.crossattention.c_proj.weight', 'h.6.crossattention.q_attn.bias', 'h.6.crossattention.q_attn.weight', 'h.6.ln_cross_attn.bias', 'h.6.ln_cross_attn.weight', 'h.7.crossattention.c_attn.bias', 'h.7.crossattention.c_attn.weight', 'h.7.crossattention.c_proj.bias', 'h.7.crossattention.c_proj.weight', 'h.7.crossattention.q_attn.bias', 'h.7.crossattention.q_attn.weight', 'h.7.ln_cross_attn.bias', 'h.7.ln_cross_attn.weight', 'h.8.crossattention.c_attn.bias', 'h.8.crossattention.c_attn.weight', 'h.8.crossattention.c_proj.bias', 'h.8.crossattention.c_proj.weight', 'h.8.crossattention.q_attn.bias', 'h.8.crossattention.q_attn.weight', 'h.8.ln_cross_attn.bias', 'h.8.ln_cross_attn.weight', 'h.9.crossattention.c_attn.bias', 'h.9.crossattention.c_attn.weight', 'h.9.crossattention.c_proj.bias', 'h.9.crossattention.c_proj.weight', 'h.9.crossattention.q_attn.bias', 'h.9.crossattention.q_attn.weight', 'h.9.ln_cross_attn.bias', 'h.9.ln_cross_attn.weight']\n",
      "You should probably TRAIN this model on a down-stream task to be able to use it for predictions and inference.\n"
     ]
    }
   ],
   "source": [
    "model = MultiModalModel(\n",
    "    image_encoder_model=IMAGE_ENCODER_MODEL, text_encoder_model=TEXT_ENCODER_MODEL,\n",
    "    decoder_model=DECODER_MODEL, freeze='nothing')"
   ]
  },
  {
   "cell_type": "code",
   "execution_count": null,
   "id": "8e7cf31e",
   "metadata": {},
   "outputs": [
    {
     "name": "stdout",
     "output_type": "stream",
     "text": [
      "Number of trainable parameters: 306,739,968\n"
     ]
    }
   ],
   "source": [
    "def count_trainable_parameters(model):\n",
    "    return sum(p.numel() for p in model.parameters() if p.requires_grad)\n",
    "\n",
    "num_trainable_params = count_trainable_parameters(model)\n",
    "print(f\"Number of trainable parameters: {num_trainable_params:,}\")"
   ]
  },
  {
   "cell_type": "code",
   "execution_count": null,
   "id": "d74128e2",
   "metadata": {},
   "outputs": [],
   "source": [
    "from transformers import Trainer, TrainingArguments\n",
    "from torch.utils.data import DataLoader\n",
    "\n",
    "train_dataloader = DataLoader(\n",
    "    train_dataset, batch_size=training_args.per_device_train_batch_size,\n",
    "    collate_fn=data_collator, shuffle=True,\n",
    ")\n",
    "eval_dataloader = DataLoader(\n",
    "    val_dataset, batch_size=training_args.per_device_eval_batch_size,\n",
    "    collate_fn=lambda x: data_collator(x, augment_image=False)\n",
    ")\n",
    "test_dataloader = DataLoader(\n",
    "    test_dataset, batch_size=training_args.per_device_eval_batch_size,\n",
    "    collate_fn=lambda x: data_collator(x, augment_image=False)\n",
    ")\n",
    "\n",
    "# Use the CustomTrainer class\n",
    "trainer = CustomTrainer(\n",
    "    model=model,\n",
    "    args=training_args,\n",
    "    train_dataloader=train_dataloader,\n",
    "    eval_dataloader=eval_dataloader\n",
    ")"
   ]
  },
  {
   "cell_type": "code",
   "execution_count": null,
   "id": "tjxZ7Z_VlAaR",
   "metadata": {},
   "outputs": [],
   "source": [
    "assert model.text_encoder.device == model.image_encoder.device == model.decoder.device"
   ]
  },
  {
   "cell_type": "code",
   "execution_count": null,
   "id": "6be0afbe",
   "metadata": {},
   "outputs": [
    {
     "name": "stdout",
     "output_type": "stream",
     "text": [
      "answer || <|endoftext|>yes<|endoftext|>\n",
      "decoder_input_ids tensor([[50256,  8505, 50256]], device='cuda:0')\n",
      "model ouput ids tensor([[198,  11, 464]], device='cuda:0')\n",
      "tensor(8.7810, device='cuda:0', grad_fn=<NllLossBackward0>)\n"
     ]
    },
    {
     "data": {
      "image/png": "[encoded data removed]",
      "text/plain": [
       "<Figure size 640x480 with 1 Axes>"
      ]
     },
     "metadata": {},
     "output_type": "display_data"
    }
   ],
   "source": [
    "v = test_dataset[1]\n",
    "batch = data_collator([v])\n",
    "print('answer ||', v['answer'])\n",
    "print('decoder_input_ids', batch['decoder_input_ids'])\n",
    "model_output = model(**batch)\n",
    "output_ids = torch.argmax(model_output.logits, dim=-1)\n",
    "print('model ouput ids', output_ids)\n",
    "# Decode the token IDs into text\n",
    "decoded_output = decoder_tokenizer.decode(output_ids[0], skip_special_tokens=True).strip()\n",
    "print(model_output.loss)\n",
    "# show input_image\n",
    "plt.imshow(batch['input_image'][0].cpu().permute(1, 2, 0))\n",
    "plt.title(f'{v[\"question\"]} || {decoded_output}')\n",
    "plt.show()"
   ]
  },
  {
   "cell_type": "code",
   "execution_count": null,
   "id": "0b40149a",
   "metadata": {},
   "outputs": [
    {
     "data": {
      "text/html": [
       "\n",
       "    <div>\n",
       "      \n",
       "      <progress value='167' max='167' style='width:300px; height:20px; vertical-align: middle;'></progress>\n",
       "      [167/167 02:40]\n",
       "    </div>\n",
       "    "
      ],
      "text/plain": [
       "<IPython.core.display.HTML object>"
      ]
     },
     "metadata": {},
     "output_type": "display_data"
    },
    {
     "name": "stderr",
     "output_type": "stream",
     "text": [
      "\u001b[34m\u001b[1mwandb\u001b[0m: \u001b[33mWARNING\u001b[0m The `run_name` is currently set to the same value as `TrainingArguments.output_dir`. If this was not intended, please specify a different run name by setting the `TrainingArguments.run_name` parameter.\n",
      "\u001b[34m\u001b[1mwandb\u001b[0m: Currently logged in as: \u001b[33mprofoz\u001b[0m. Use \u001b[1m`wandb login --relogin`\u001b[0m to force relogin\n"
     ]
    },
    {
     "data": {
      "text/html": [
       "Tracking run with wandb version 0.17.2"
      ],
      "text/plain": [
       "<IPython.core.display.HTML object>"
      ]
     },
     "metadata": {},
     "output_type": "display_data"
    },
    {
     "data": {
      "text/html": [
       "Run data is saved locally in <code>/content/wandb/run-20240624_203944-69n86s8o</code>"
      ],
      "text/plain": [
       "<IPython.core.display.HTML object>"
      ]
     },
     "metadata": {},
     "output_type": "display_data"
    },
    {
     "data": {
      "text/html": [
       "Syncing run <strong><a href='https://wandb.ai/profoz/huggingface/runs/69n86s8o' target=\"_blank\">./vqa_custom</a></strong> to <a href='https://wandb.ai/profoz/huggingface' target=\"_blank\">Weights & Biases</a> (<a href='https://wandb.me/run' target=\"_blank\">docs</a>)<br/>"
      ],
      "text/plain": [
       "<IPython.core.display.HTML object>"
      ]
     },
     "metadata": {},
     "output_type": "display_data"
    },
    {
     "data": {
      "text/html": [
       " View project at <a href='https://wandb.ai/profoz/huggingface' target=\"_blank\">https://wandb.ai/profoz/huggingface</a>"
      ],
      "text/plain": [
       "<IPython.core.display.HTML object>"
      ]
     },
     "metadata": {},
     "output_type": "display_data"
    },
    {
     "data": {
      "text/html": [
       " View run at <a href='https://wandb.ai/profoz/huggingface/runs/69n86s8o' target=\"_blank\">https://wandb.ai/profoz/huggingface/runs/69n86s8o</a>"
      ],
      "text/plain": [
       "<IPython.core.display.HTML object>"
      ]
     },
     "metadata": {},
     "output_type": "display_data"
    },
    {
     "data": {
      "text/plain": [
       "{'eval_loss': 9.358777046203613,\n",
       " 'eval_runtime': 161.2529,\n",
       " 'eval_samples_per_second': 131.929,\n",
       " 'eval_steps_per_second': 1.036}"
      ]
     },
     "execution_count": 26,
     "metadata": {},
     "output_type": "execute_result"
    }
   ],
   "source": [
    "trainer.evaluate()"
   ]
  },
  {
   "cell_type": "code",
   "execution_count": null,
   "id": "CMc5XYa97Q9_",
   "metadata": {},
   "outputs": [],
   "source": [
    "def generate_datapoint(datapoint, model, decoder_tokenizer, verbose=False):\n",
    "\n",
    "    image, generated_answer = model.generate(\n",
    "        datapoint['image'], [datapoint['question']],\n",
    "        max_text_length=5, verbose=verbose\n",
    "        )\n",
    "    decoded_answer = datapoint['answer'].replace(decoder_tokenizer.bos_token, '').replace(decoder_tokenizer.eos_token, '').strip()\n",
    "    return dict(\n",
    "        generated_answer=generated_answer, answer=decoded_answer, correct=generated_answer == decoded_answer\n",
    "        )\n",
    "\n",
    "def test_model(model, decoder_tokenizer, test_dataset, verbose=False):\n",
    "    results = []\n",
    "\n",
    "    for datapoint in tqdm(test_dataset):\n",
    "        results.append(generate_datapoint(datapoint, model, decoder_tokenizer, verbose=verbose))\n",
    "    return results"
   ]
  },
  {
   "cell_type": "code",
   "execution_count": null,
   "id": "0ReEHpH7Jdt1",
   "metadata": {},
   "outputs": [
    {
     "name": "stderr",
     "output_type": "stream",
     "text": [
      "100%|██████████| 100/100 [00:11<00:00,  8.46it/s]\n"
     ]
    },
    {
     "data": {
      "text/plain": [
       "correct\n",
       "False    1.0\n",
       "Name: proportion, dtype: float64"
      ]
     },
     "execution_count": 28,
     "metadata": {},
     "output_type": "execute_result"
    }
   ],
   "source": [
    "results = test_model(model, decoder_tokenizer, test_dataset.select(range(100)), verbose=False)\n",
    "pd.DataFrame(results)['correct'].value_counts(normalize=True)"
   ]
  },
  {
   "cell_type": "code",
   "execution_count": null,
   "id": "587c6c04",
   "metadata": {},
   "outputs": [
    {
     "data": {
      "text/html": [
       "\n",
       "    <div>\n",
       "      \n",
       "      <progress value='7978' max='7977' style='width:300px; height:20px; vertical-align: middle;'></progress>\n",
       "      [7977/7977 1:57:37, Epoch 3.00/3]\n",
       "    </div>\n",
       "    <table border=\"1\" class=\"dataframe\">\n",
       "  <thead>\n",
       " <tr style=\"text-align: left;\">\n",
       "      <th>Epoch</th>\n",
       "      <th>Training Loss</th>\n",
       "      <th>Validation Loss</th>\n",
       "    </tr>\n",
       "  </thead>\n",
       "  <tbody>\n",
       "    <tr>\n",
       "      <td>0</td>\n",
       "      <td>0.751500</td>\n",
       "      <td>0.765506</td>\n",
       "    </tr>\n",
       "    <tr>\n",
       "      <td>2</td>\n",
       "      <td>0.679900</td>\n",
       "      <td>0.667647</td>\n",
       "    </tr>\n",
       "  </tbody>\n",
       "</table><p>\n",
       "    <div>\n",
       "      \n",
       "      <progress value='164' max='167' style='width:300px; height:20px; vertical-align: middle;'></progress>\n",
       "      [164/167 02:37 < 00:02, 1.04 it/s]\n",
       "    </div>\n",
       "    "
      ],
      "text/plain": [
       "<IPython.core.display.HTML object>"
      ]
     },
     "metadata": {},
     "output_type": "display_data"
    },
    {
     "data": {
      "text/html": [
       "\n",
       "    <div>\n",
       "      \n",
       "      <progress value='334' max='167' style='width:300px; height:20px; vertical-align: middle;'></progress>\n",
       "      [167/167 42:55]\n",
       "    </div>\n",
       "    "
      ],
      "text/plain": [
       "<IPython.core.display.HTML object>"
      ]
     },
     "metadata": {},
     "output_type": "display_data"
    },
    {
     "data": {
      "text/html": [
       "\n",
       "    <div>\n",
       "      \n",
       "      <progress value='7978' max='7977' style='width:300px; height:20px; vertical-align: middle;'></progress>\n",
       "      [7977/7977 1:57:37, Epoch 3.00/3]\n",
       "    </div>\n",
       "    <table border=\"1\" class=\"dataframe\">\n",
       "  <thead>\n",
       " <tr style=\"text-align: left;\">\n",
       "      <th>Epoch</th>\n",
       "      <th>Training Loss</th>\n",
       "      <th>Validation Loss</th>\n",
       "    </tr>\n",
       "  </thead>\n",
       "  <tbody>\n",
       "    <tr>\n",
       "      <td>0</td>\n",
       "      <td>0.751500</td>\n",
       "      <td>0.765506</td>\n",
       "    </tr>\n",
       "    <tr>\n",
       "      <td>2</td>\n",
       "      <td>0.679900</td>\n",
       "      <td>0.667647</td>\n",
       "    </tr>\n",
       "  </tbody>\n",
       "</table><p>\n",
       "    <div>\n",
       "      \n",
       "      <progress value='165' max='167' style='width:300px; height:20px; vertical-align: middle;'></progress>\n",
       "      [165/167 02:38 < 00:01, 1.04 it/s]\n",
       "    </div>\n",
       "    "
      ],
      "text/plain": [
       "<IPython.core.display.HTML object>"
      ]
     },
     "metadata": {},
     "output_type": "display_data"
    }
   ],
   "source": [
    "trainer.train()"
   ]
  },
  {
   "cell_type": "code",
   "execution_count": null,
   "id": "09t0MQznkaZc",
   "metadata": {},
   "outputs": [],
   "source": [
    "test_dataset"
   ]
  },
  {
   "cell_type": "code",
   "execution_count": null,
   "id": "-pTXmLqSY4Zb",
   "metadata": {},
   "outputs": [
    {
     "name": "stderr",
     "output_type": "stream",
     "text": [
      " 77%|███████▋  | 16418/21274 [19:33<05:35, 14.48it/s]"
     ]
    }
   ],
   "source": [
    "results = test_model(model, decoder_tokenizer, test_dataset, verbose=False)\n",
    "pd.DataFrame(results)['correct'].value_counts(normalize=True)"
   ]
  },
  {
   "cell_type": "code",
   "execution_count": 39,
   "id": "V-NW9GwE70dm",
   "metadata": {},
   "outputs": [
    {
     "data": {
      "text/plain": [
       "correct\n",
       "False    0.530648\n",
       "True     0.469352\n",
       "Name: proportion, dtype: float64"
      ]
     },
     "execution_count": 39,
     "metadata": {},
     "output_type": "execute_result"
    }
   ],
   "source": [
    "pd.DataFrame(results)['correct'].value_counts(normalize=True)"
   ]
  },
  {
   "cell_type": "code",
   "execution_count": 40,
   "id": "utBRVE2BjvMU",
   "metadata": {},
   "outputs": [
    {
     "data": {
      "application/vnd.google.colaboratory.intrinsic+json": {
       "summary": "{\n  \"name\": \"pd\",\n  \"rows\": 21274,\n  \"fields\": [\n    {\n      \"column\": \"generated_answer\",\n      \"properties\": {\n        \"dtype\": \"category\",\n        \"num_unique_values\": 252,\n        \"samples\": [\n          \"cooking\",\n          \"red\",\n          \"dude\"\n        ],\n        \"semantic_type\": \"\",\n        \"description\": \"\"\n      }\n    },\n    {\n      \"column\": \"answer\",\n      \"properties\": {\n        \"dtype\": \"category\",\n        \"num_unique_values\": 1283,\n        \"samples\": [\n          \"2470\",\n          \"chairs\",\n          \"airport\"\n        ],\n        \"semantic_type\": \"\",\n        \"description\": \"\"\n      }\n    },\n    {\n      \"column\": \"correct\",\n      \"properties\": {\n        \"dtype\": \"boolean\",\n        \"num_unique_values\": 2,\n        \"samples\": [\n          false,\n          true\n        ],\n        \"semantic_type\": \"\",\n        \"description\": \"\"\n      }\n    }\n  ]\n}",
       "type": "dataframe"
      },
      "text/html": [
       "\n",
       "  <div id=\"df-22871629-7f4f-43c6-9455-dd60ec380ecf\" class=\"colab-df-container\">\n",
       "    <div>\n",
       "<style scoped>\n",
       "    .dataframe tbody tr th:only-of-type {\n",
       "        vertical-align: middle;\n",
       "    }\n",
       "\n",
       "    .dataframe tbody tr th {\n",
       "        vertical-align: top;\n",
       "    }\n",
       "\n",
       "    .dataframe thead th {\n",
       "        text-align: right;\n",
       "    }\n",
       "</style>\n",
       "<table border=\"1\" class=\"dataframe\">\n",
       "  <thead>\n",
       "    <tr style=\"text-align: right;\">\n",
       "      <th></th>\n",
       "      <th>generated_answer</th>\n",
       "      <th>answer</th>\n",
       "      <th>correct</th>\n",
       "    </tr>\n",
       "  </thead>\n",
       "  <tbody>\n",
       "    <tr>\n",
       "      <th>0</th>\n",
       "      <td>no</td>\n",
       "      <td>no</td>\n",
       "      <td>True</td>\n",
       "    </tr>\n",
       "    <tr>\n",
       "      <th>1</th>\n",
       "      <td>no</td>\n",
       "      <td>yes</td>\n",
       "      <td>False</td>\n",
       "    </tr>\n",
       "    <tr>\n",
       "      <th>2</th>\n",
       "      <td>no</td>\n",
       "      <td>yes</td>\n",
       "      <td>False</td>\n",
       "    </tr>\n",
       "    <tr>\n",
       "      <th>3</th>\n",
       "      <td>1</td>\n",
       "      <td>3</td>\n",
       "      <td>False</td>\n",
       "    </tr>\n",
       "    <tr>\n",
       "      <th>4</th>\n",
       "      <td>no</td>\n",
       "      <td>yes</td>\n",
       "      <td>False</td>\n",
       "    </tr>\n",
       "    <tr>\n",
       "      <th>...</th>\n",
       "      <td>...</td>\n",
       "      <td>...</td>\n",
       "      <td>...</td>\n",
       "    </tr>\n",
       "    <tr>\n",
       "      <th>21269</th>\n",
       "      <td>yes</td>\n",
       "      <td>yes</td>\n",
       "      <td>True</td>\n",
       "    </tr>\n",
       "    <tr>\n",
       "      <th>21270</th>\n",
       "      <td>2:10</td>\n",
       "      <td>98</td>\n",
       "      <td>False</td>\n",
       "    </tr>\n",
       "    <tr>\n",
       "      <th>21271</th>\n",
       "      <td>kite</td>\n",
       "      <td>bananas</td>\n",
       "      <td>False</td>\n",
       "    </tr>\n",
       "    <tr>\n",
       "      <th>21272</th>\n",
       "      <td>black and white</td>\n",
       "      <td>gray</td>\n",
       "      <td>False</td>\n",
       "    </tr>\n",
       "    <tr>\n",
       "      <th>21273</th>\n",
       "      <td>no</td>\n",
       "      <td>no</td>\n",
       "      <td>True</td>\n",
       "    </tr>\n",
       "  </tbody>\n",
       "</table>\n",
       "<p>21274 rows × 3 columns</p>\n",
       "</div>\n",
       "    <div class=\"colab-df-buttons\">\n",
       "\n",
       "  <div class=\"colab-df-container\">\n",
       "    <button class=\"colab-df-convert\" onclick=\"convertToInteractive('df-22871629-7f4f-43c6-9455-dd60ec380ecf')\"\n",
       "            title=\"Convert this dataframe to an interactive table.\"\n",
       "            style=\"display:none;\">\n",
       "\n",
       "  <svg xmlns=\"http://www.w3.org/2000/svg\" height=\"24px\" viewBox=\"0 -960 960 960\">\n",
       "    <path d=\"M120-120v-720h720v720H120Zm60-500h600v-160H180v160Zm220 220h160v-160H400v160Zm0 220h160v-160H400v160ZM180-400h160v-160H180v160Zm440 0h160v-160H620v160ZM180-180h160v-160H180v160Zm440 0h160v-160H620v160Z\"/>\n",
       "  </svg>\n",
       "    </button>\n",
       "\n",
       "  <style>\n",
       "    .colab-df-container {\n",
       "      display:flex;\n",
       "      gap: 12px;\n",
       "    }\n",
       "\n",
       "    .colab-df-convert {\n",
       "      background-color: #E8F0FE;\n",
       "      border: none;\n",
       "      border-radius: 50%;\n",
       "      cursor: pointer;\n",
       "      display: none;\n",
       "      fill: #1967D2;\n",
       "      height: 32px;\n",
       "      padding: 0 0 0 0;\n",
       "      width: 32px;\n",
       "    }\n",
       "\n",
       "    .colab-df-convert:hover {\n",
       "      background-color: #E2EBFA;\n",
       "      box-shadow: 0px 1px 2px rgba(60, 64, 67, 0.3), 0px 1px 3px 1px rgba(60, 64, 67, 0.15);\n",
       "      fill: #174EA6;\n",
       "    }\n",
       "\n",
       "    .colab-df-buttons div {\n",
       "      margin-bottom: 4px;\n",
       "    }\n",
       "\n",
       "    [theme=dark] .colab-df-convert {\n",
       "      background-color: #3B4455;\n",
       "      fill: #D2E3FC;\n",
       "    }\n",
       "\n",
       "    [theme=dark] .colab-df-convert:hover {\n",
       "      background-color: #434B5C;\n",
       "      box-shadow: 0px 1px 3px 1px rgba(0, 0, 0, 0.15);\n",
       "      filter: drop-shadow(0px 1px 2px rgba(0, 0, 0, 0.3));\n",
       "      fill: #FFFFFF;\n",
       "    }\n",
       "  </style>\n",
       "\n",
       "    <script>\n",
       "      const buttonEl =\n",
       "        document.querySelector('#df-22871629-7f4f-43c6-9455-dd60ec380ecf button.colab-df-convert');\n",
       "      buttonEl.style.display =\n",
       "        google.colab.kernel.accessAllowed ? 'block' : 'none';\n",
       "\n",
       "      async function convertToInteractive(key) {\n",
       "        const element = document.querySelector('#df-22871629-7f4f-43c6-9455-dd60ec380ecf');\n",
       "        const dataTable =\n",
       "          await google.colab.kernel.invokeFunction('convertToInteractive',\n",
       "                                                    [key], {});\n",
       "        if (!dataTable) return;\n",
       "\n",
       "        const docLinkHtml = 'Like what you see? Visit the ' +\n",
       "          '<a target=\"_blank\" href=https://colab.research.google.com/notebooks/data_table.ipynb>data table notebook</a>'\n",
       "          + ' to learn more about interactive tables.';\n",
       "        element.innerHTML = '';\n",
       "        dataTable['output_type'] = 'display_data';\n",
       "        await google.colab.output.renderOutput(dataTable, element);\n",
       "        const docLink = document.createElement('div');\n",
       "        docLink.innerHTML = docLinkHtml;\n",
       "        element.appendChild(docLink);\n",
       "      }\n",
       "    </script>\n",
       "  </div>\n",
       "\n",
       "\n",
       "<div id=\"df-d245d8e1-95ef-4ffd-a168-720fe16f1505\">\n",
       "  <button class=\"colab-df-quickchart\" onclick=\"quickchart('df-d245d8e1-95ef-4ffd-a168-720fe16f1505')\"\n",
       "            title=\"Suggest charts\"\n",
       "            style=\"display:none;\">\n",
       "\n",
       "<svg xmlns=\"http://www.w3.org/2000/svg\" height=\"24px\"viewBox=\"0 0 24 24\"\n",
       "     width=\"24px\">\n",
       "    <g>\n",
       "        <path d=\"M19 3H5c-1.1 0-2 .9-2 2v14c0 1.1.9 2 2 2h14c1.1 0 2-.9 2-2V5c0-1.1-.9-2-2-2zM9 17H7v-7h2v7zm4 0h-2V7h2v10zm4 0h-2v-4h2v4z\"/>\n",
       "    </g>\n",
       "</svg>\n",
       "  </button>\n",
       "\n",
       "<style>\n",
       "  .colab-df-quickchart {\n",
       "      --bg-color: #E8F0FE;\n",
       "      --fill-color: #1967D2;\n",
       "      --hover-bg-color: #E2EBFA;\n",
       "      --hover-fill-color: #174EA6;\n",
       "      --disabled-fill-color: #AAA;\n",
       "      --disabled-bg-color: #DDD;\n",
       "  }\n",
       "\n",
       "  [theme=dark] .colab-df-quickchart {\n",
       "      --bg-color: #3B4455;\n",
       "      --fill-color: #D2E3FC;\n",
       "      --hover-bg-color: #434B5C;\n",
       "      --hover-fill-color: #FFFFFF;\n",
       "      --disabled-bg-color: #3B4455;\n",
       "      --disabled-fill-color: #666;\n",
       "  }\n",
       "\n",
       "  .colab-df-quickchart {\n",
       "    background-color: var(--bg-color);\n",
       "    border: none;\n",
       "    border-radius: 50%;\n",
       "    cursor: pointer;\n",
       "    display: none;\n",
       "    fill: var(--fill-color);\n",
       "    height: 32px;\n",
       "    padding: 0;\n",
       "    width: 32px;\n",
       "  }\n",
       "\n",
       "  .colab-df-quickchart:hover {\n",
       "    background-color: var(--hover-bg-color);\n",
       "    box-shadow: 0 1px 2px rgba(60, 64, 67, 0.3), 0 1px 3px 1px rgba(60, 64, 67, 0.15);\n",
       "    fill: var(--button-hover-fill-color);\n",
       "  }\n",
       "\n",
       "  .colab-df-quickchart-complete:disabled,\n",
       "  .colab-df-quickchart-complete:disabled:hover {\n",
       "    background-color: var(--disabled-bg-color);\n",
       "    fill: var(--disabled-fill-color);\n",
       "    box-shadow: none;\n",
       "  }\n",
       "\n",
       "  .colab-df-spinner {\n",
       "    border: 2px solid var(--fill-color);\n",
       "    border-color: transparent;\n",
       "    border-bottom-color: var(--fill-color);\n",
       "    animation:\n",
       "      spin 1s steps(1) infinite;\n",
       "  }\n",
       "\n",
       "  @keyframes spin {\n",
       "    0% {\n",
       "      border-color: transparent;\n",
       "      border-bottom-color: var(--fill-color);\n",
       "      border-left-color: var(--fill-color);\n",
       "    }\n",
       "    20% {\n",
       "      border-color: transparent;\n",
       "      border-left-color: var(--fill-color);\n",
       "      border-top-color: var(--fill-color);\n",
       "    }\n",
       "    30% {\n",
       "      border-color: transparent;\n",
       "      border-left-color: var(--fill-color);\n",
       "      border-top-color: var(--fill-color);\n",
       "      border-right-color: var(--fill-color);\n",
       "    }\n",
       "    40% {\n",
       "      border-color: transparent;\n",
       "      border-right-color: var(--fill-color);\n",
       "      border-top-color: var(--fill-color);\n",
       "    }\n",
       "    60% {\n",
       "      border-color: transparent;\n",
       "      border-right-color: var(--fill-color);\n",
       "    }\n",
       "    80% {\n",
       "      border-color: transparent;\n",
       "      border-right-color: var(--fill-color);\n",
       "      border-bottom-color: var(--fill-color);\n",
       "    }\n",
       "    90% {\n",
       "      border-color: transparent;\n",
       "      border-bottom-color: var(--fill-color);\n",
       "    }\n",
       "  }\n",
       "</style>\n",
       "\n",
       "  <script>\n",
       "    async function quickchart(key) {\n",
       "      const quickchartButtonEl =\n",
       "        document.querySelector('#' + key + ' button');\n",
       "      quickchartButtonEl.disabled = true;  // To prevent multiple clicks.\n",
       "      quickchartButtonEl.classList.add('colab-df-spinner');\n",
       "      try {\n",
       "        const charts = await google.colab.kernel.invokeFunction(\n",
       "            'suggestCharts', [key], {});\n",
       "      } catch (error) {\n",
       "        console.error('Error during call to suggestCharts:', error);\n",
       "      }\n",
       "      quickchartButtonEl.classList.remove('colab-df-spinner');\n",
       "      quickchartButtonEl.classList.add('colab-df-quickchart-complete');\n",
       "    }\n",
       "    (() => {\n",
       "      let quickchartButtonEl =\n",
       "        document.querySelector('#df-d245d8e1-95ef-4ffd-a168-720fe16f1505 button');\n",
       "      quickchartButtonEl.style.display =\n",
       "        google.colab.kernel.accessAllowed ? 'block' : 'none';\n",
       "    })();\n",
       "  </script>\n",
       "</div>\n",
       "\n",
       "    </div>\n",
       "  </div>\n"
      ],
      "text/plain": [
       "      generated_answer   answer  correct\n",
       "0                   no       no     True\n",
       "1                   no      yes    False\n",
       "2                   no      yes    False\n",
       "3                    1        3    False\n",
       "4                   no      yes    False\n",
       "...                ...      ...      ...\n",
       "21269              yes      yes     True\n",
       "21270             2:10       98    False\n",
       "21271             kite  bananas    False\n",
       "21272  black and white     gray    False\n",
       "21273               no       no     True\n",
       "\n",
       "[21274 rows x 3 columns]"
      ]
     },
     "execution_count": 40,
     "metadata": {},
     "output_type": "execute_result"
    }
   ],
   "source": [
    "pd.DataFrame(results)"
   ]
  },
  {
   "cell_type": "code",
   "execution_count": null,
   "id": "wfq_jY49b5jf",
   "metadata": {},
   "outputs": [],
   "source": [
    "trainer.save_model()"
   ]
  },
  {
   "cell_type": "code",
   "execution_count": null,
   "id": "i8u1Z-RfpSFu",
   "metadata": {},
   "outputs": [],
   "source": [
    "from huggingface_hub import HfFolder, notebook_login\n",
    "notebook_login()"
   ]
  },
  {
   "cell_type": "code",
   "execution_count": null,
   "id": "wFPBsI16wwCO",
   "metadata": {},
   "outputs": [],
   "source": [
    "import locale\n",
    "locale.getpreferredencoding = lambda: \"UTF-8\""
   ]
  },
  {
   "cell_type": "code",
   "execution_count": null,
   "id": "zIPLLkcwb6n0",
   "metadata": {},
   "outputs": [],
   "source": [
    "!git lfs install\n",
    "\n",
    "!GIT_LFS_SKIP_SMUDGE=1\n",
    "\n",
    "!git clone https://huggingface.co/profoz/quick-start-llm-vqa\n",
    "\n",
    "!cp /content/vqa_custom/pytorch_model.bin /content/quick-start-llm-vqa/\n",
    "!cp /content/vqa_custom/training_args.bin /content/quick-start-llm-vqa/\n"
   ]
  },
  {
   "cell_type": "code",
   "execution_count": null,
   "id": "4yvW7YpWgDzT",
   "metadata": {},
   "outputs": [],
   "source": [
    "%cd /content/quick-start-llm-vqa/\n",
    "!git config --global user.email \"sinan.u.ozdemir@gmail.com\"\n",
    "!git config --global user.name \"Sinan Ozdemir\"\n",
    "!git add .\n",
    "!git commit -m \"New VQA custom model\"\n",
    "!git push\n"
   ]
  },
  {
   "cell_type": "code",
   "execution_count": null,
   "id": "wWD-Bvtd2ApI",
   "metadata": {},
   "outputs": [],
   "source": []
  }
 ],
 "metadata": {
  "language_info": {
   "name": "python"
  }
 },
 "nbformat": 4,
 "nbformat_minor": 5
}
