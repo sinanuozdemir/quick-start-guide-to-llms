{
 "cells": [
  {
   "cell_type": "markdown",
   "id": "a6e161cd",
   "metadata": {
    "id": "a6e161cd"
   },
   "source": [
    "# Step 3: Use Reinforcement Learning to align SAWYER to preferred responses"
   ]
  },
  {
   "cell_type": "code",
   "execution_count": null,
   "id": "YmpAXJoV3n4u",
   "metadata": {},
   "outputs": [
    {
     "name": "stdout",
     "output_type": "stream",
     "text": [
      "Successfully installed GitPython-3.1.43 accelerate-0.29.3 bitsandbytes-0.43.1 datasets-2.19.0 dill-0.3.8 docker-pycreds-0.4.0 gitdb-4.0.11 huggingface-hub-0.22.2 multiprocess-0.70.16 nvidia-cublas-cu12-12.1.3.1 nvidia-cuda-cupti-cu12-12.1.105 nvidia-cuda-nvrtc-cu12-12.1.105 nvidia-cuda-runtime-cu12-12.1.105 nvidia-cudnn-cu12-8.9.2.26 nvidia-cufft-cu12-11.0.2.54 nvidia-curand-cu12-10.3.2.106 nvidia-cusolver-cu12-11.4.5.107 nvidia-cusparse-cu12-12.1.0.106 nvidia-nccl-cu12-2.19.3 nvidia-nvjitlink-cu12-12.4.127 nvidia-nvtx-cu12-12.1.105 peft-0.10.0 sentence-transformers-2.7.0 sentry-sdk-1.45.0 setproctitle-1.3.3 shtab-1.7.1 smmap-5.0.1 trl-0.8.5 tyro-0.8.3 wandb-0.16.6 xxhash-3.4.1\n"
     ]
    }
   ],
   "source": [
    "!pip install transformers[torch] datasets trl[peft] wandb peft bitsandbytes sentence-transformers"
   ]
  },
  {
   "cell_type": "code",
   "execution_count": null,
   "id": "2b791f9e",
   "metadata": {},
   "outputs": [],
   "source": [
    "import os\n",
    "import pandas as pd\n",
    "import torch\n",
    "from datasets import load_dataset, Dataset\n",
    "from transformers import AutoTokenizer, pipeline, AutoModelForSequenceClassification, AutoModelForCausalLM, BitsAndBytesConfig\n",
    "import time\n",
    "import numpy as np\n",
    "from scipy import stats\n",
    "\n",
    "from tqdm.auto import tqdm\n",
    "from trl import AutoModelForCausalLMWithValueHead, PPOConfig, PPOTrainer, set_seed, create_reference_model\n",
    "tqdm.pandas()"
   ]
  },
  {
   "cell_type": "code",
   "execution_count": null,
   "id": "0fce2770",
   "metadata": {},
   "outputs": [
    {
     "data": {
      "text/plain": [
       "device(type='cuda')"
      ]
     },
     "execution_count": 3,
     "metadata": {},
     "output_type": "execute_result"
    }
   ],
   "source": [
    "device = torch.device(\"cuda\") if torch.cuda.is_available() else torch.device(\"cpu\")\n",
    "device"
   ]
  },
  {
   "cell_type": "code",
   "execution_count": null,
   "id": "9a928d4d",
   "metadata": {},
   "outputs": [],
   "source": []
  },
  {
   "cell_type": "code",
   "execution_count": null,
   "id": "3ebb479e",
   "metadata": {},
   "outputs": [
    {
     "data": {
      "application/vnd.jupyter.widget-view+json": {
       "model_id": "12dbcd4f12df4b59936e01e8e8f6fbce",
       "version_major": 2,
       "version_minor": 0
      },
      "text/plain": [
       "Downloading readme:   0%|          | 0.00/8.20k [00:00<?, ?B/s]"
      ]
     },
     "metadata": {},
     "output_type": "display_data"
    },
    {
     "data": {
      "application/vnd.jupyter.widget-view+json": {
       "model_id": "d00ff79b82ad4d8d8955559f0dddf740",
       "version_major": 2,
       "version_minor": 0
      },
      "text/plain": [
       "Downloading data:   0%|          | 0.00/13.1M [00:00<?, ?B/s]"
      ]
     },
     "metadata": {},
     "output_type": "display_data"
    },
    {
     "data": {
      "application/vnd.jupyter.widget-view+json": {
       "model_id": "8cd0e82fb94b4951b76b777869e1b558",
       "version_major": 2,
       "version_minor": 0
      },
      "text/plain": [
       "Generating train split:   0%|          | 0/15011 [00:00<?, ? examples/s]"
      ]
     },
     "metadata": {},
     "output_type": "display_data"
    },
    {
     "data": {
      "text/plain": [
       "DatasetDict({\n",
       "    train: Dataset({\n",
       "        features: ['instruction', 'context', 'response', 'category'],\n",
       "        num_rows: 15011\n",
       "    })\n",
       "})"
      ]
     },
     "execution_count": 4,
     "metadata": {},
     "output_type": "execute_result"
    }
   ],
   "source": [
    "dolly = load_dataset('databricks/databricks-dolly-15k')\n",
    "dolly"
   ]
  },
  {
   "cell_type": "code",
   "execution_count": null,
   "id": "55e5121b",
   "metadata": {},
   "outputs": [
    {
     "data": {
      "text/plain": [
       "{'instruction': 'When did Virgin Australia start operating?',\n",
       " 'context': \"Virgin Australia, the trading name of Virgin Australia Airlines Pty Ltd, is an Australian-based airline. It is the largest airline by fleet size to use the Virgin brand. It commenced services on 31 August 2000 as Virgin Blue, with two aircraft on a single route. It suddenly found itself as a major airline in Australia's domestic market after the collapse of Ansett Australia in September 2001. The airline has since grown to directly serve 32 cities in Australia, from hubs in Brisbane, Melbourne and Sydney.\",\n",
       " 'response': 'Virgin Australia commenced services on 31 August 2000 as Virgin Blue, with two aircraft on a single route.',\n",
       " 'category': 'closed_qa'}"
      ]
     },
     "execution_count": 5,
     "metadata": {},
     "output_type": "execute_result"
    }
   ],
   "source": [
    "dolly['train'][0]"
   ]
  },
  {
   "cell_type": "code",
   "execution_count": null,
   "id": "GiINusM729IP",
   "metadata": {},
   "outputs": [],
   "source": []
  },
  {
   "cell_type": "code",
   "execution_count": null,
   "id": "DGWLooIh5evB",
   "metadata": {},
   "outputs": [
    {
     "name": "stdout",
     "output_type": "stream",
     "text": [
      "Token has not been saved to git credential helper. Pass `add_to_git_credential=True` if you want to set the git credential as well.\n",
      "Token is valid (permission: write).\n",
      "Your token has been saved to /root/.cache/huggingface/token\n",
      "Login successful\n"
     ]
    }
   ],
   "source": [
    "import huggingface_hub\n",
    "from google.colab import userdata\n",
    "\n",
    "huggingface_hub.login(token=userdata.get('HF_TOKEN').strip())"
   ]
  },
  {
   "cell_type": "code",
   "execution_count": null,
   "id": "b6b0f3c3",
   "metadata": {},
   "outputs": [
    {
     "data": {
      "application/vnd.jupyter.widget-view+json": {
       "model_id": "c4ef1ecdae384a70a85980bdfa83bcf2",
       "version_major": 2,
       "version_minor": 0
      },
      "text/plain": [
       "tokenizer_config.json:   0%|          | 0.00/51.1k [00:00<?, ?B/s]"
      ]
     },
     "metadata": {},
     "output_type": "display_data"
    },
    {
     "data": {
      "application/vnd.jupyter.widget-view+json": {
       "model_id": "0c6ccb0830124f4ea70ee581918e8ad6",
       "version_major": 2,
       "version_minor": 0
      },
      "text/plain": [
       "tokenizer.json:   0%|          | 0.00/9.09M [00:00<?, ?B/s]"
      ]
     },
     "metadata": {},
     "output_type": "display_data"
    },
    {
     "data": {
      "application/vnd.jupyter.widget-view+json": {
       "model_id": "e3842b6fb93b4269be4d092d60440bd2",
       "version_major": 2,
       "version_minor": 0
      },
      "text/plain": [
       "special_tokens_map.json:   0%|          | 0.00/335 [00:00<?, ?B/s]"
      ]
     },
     "metadata": {},
     "output_type": "display_data"
    },
    {
     "name": "stderr",
     "output_type": "stream",
     "text": [
      "Special tokens have been added in the vocabulary, make sure the associated word embeddings are fine-tuned or trained.\n"
     ]
    },
    {
     "data": {
      "text/plain": [
       "('right', '<|end_of_text|>')"
      ]
     },
     "execution_count": 7,
     "metadata": {},
     "output_type": "execute_result"
    }
   ],
   "source": [
    "# load our custom tokenizer\n",
    "\n",
    "username, repo_name = 'profoz', 'sawyer-llama-3'\n",
    "\n",
    "tokenizer = AutoTokenizer.from_pretrained(f\"{username}/{repo_name}\")\n",
    "\n",
    "tokenizer.padding_side, tokenizer.pad_token"
   ]
  },
  {
   "cell_type": "code",
   "execution_count": null,
   "id": "b5299c16",
   "metadata": {},
   "outputs": [
    {
     "data": {
      "application/vnd.jupyter.widget-view+json": {
       "model_id": "b5bfe7b3986b43c9a0f415cae6b264d1",
       "version_major": 2,
       "version_minor": 0
      },
      "text/plain": [
       "config.json:   0%|          | 0.00/654 [00:00<?, ?B/s]"
      ]
     },
     "metadata": {},
     "output_type": "display_data"
    },
    {
     "data": {
      "application/vnd.jupyter.widget-view+json": {
       "model_id": "97813c12faed4eb3af63bf9681335330",
       "version_major": 2,
       "version_minor": 0
      },
      "text/plain": [
       "model.safetensors.index.json:   0%|          | 0.00/23.9k [00:00<?, ?B/s]"
      ]
     },
     "metadata": {},
     "output_type": "display_data"
    },
    {
     "data": {
      "application/vnd.jupyter.widget-view+json": {
       "model_id": "75a6a006f21e4f749034174420d530c5",
       "version_major": 2,
       "version_minor": 0
      },
      "text/plain": [
       "Downloading shards:   0%|          | 0/4 [00:00<?, ?it/s]"
      ]
     },
     "metadata": {},
     "output_type": "display_data"
    },
    {
     "data": {
      "application/vnd.jupyter.widget-view+json": {
       "model_id": "325929eaf6cf474988ca66c89183b7a3",
       "version_major": 2,
       "version_minor": 0
      },
      "text/plain": [
       "model-00001-of-00004.safetensors:   0%|          | 0.00/4.98G [00:00<?, ?B/s]"
      ]
     },
     "metadata": {},
     "output_type": "display_data"
    },
    {
     "data": {
      "application/vnd.jupyter.widget-view+json": {
       "model_id": "0f2a8353a34d4f96ab4f22c8f1b6d5bb",
       "version_major": 2,
       "version_minor": 0
      },
      "text/plain": [
       "model-00002-of-00004.safetensors:   0%|          | 0.00/5.00G [00:00<?, ?B/s]"
      ]
     },
     "metadata": {},
     "output_type": "display_data"
    },
    {
     "data": {
      "application/vnd.jupyter.widget-view+json": {
       "model_id": "78b284ec4f6a473b9a34681306f19ce4",
       "version_major": 2,
       "version_minor": 0
      },
      "text/plain": [
       "model-00003-of-00004.safetensors:   0%|          | 0.00/4.92G [00:00<?, ?B/s]"
      ]
     },
     "metadata": {},
     "output_type": "display_data"
    },
    {
     "data": {
      "application/vnd.jupyter.widget-view+json": {
       "model_id": "ae1ad903a94441728f4a8d7f9d9ed7fc",
       "version_major": 2,
       "version_minor": 0
      },
      "text/plain": [
       "model-00004-of-00004.safetensors:   0%|          | 0.00/1.17G [00:00<?, ?B/s]"
      ]
     },
     "metadata": {},
     "output_type": "display_data"
    },
    {
     "data": {
      "application/vnd.jupyter.widget-view+json": {
       "model_id": "eaf421ef5fa443eaa9187c50c6622e23",
       "version_major": 2,
       "version_minor": 0
      },
      "text/plain": [
       "Loading checkpoint shards:   0%|          | 0/4 [00:00<?, ?it/s]"
      ]
     },
     "metadata": {},
     "output_type": "display_data"
    },
    {
     "data": {
      "application/vnd.jupyter.widget-view+json": {
       "model_id": "1516286a55ce447eb9d1ce56a341acf2",
       "version_major": 2,
       "version_minor": 0
      },
      "text/plain": [
       "generation_config.json:   0%|          | 0.00/126 [00:00<?, ?B/s]"
      ]
     },
     "metadata": {},
     "output_type": "display_data"
    },
    {
     "name": "stdout",
     "output_type": "stream",
     "text": [
      "Replaced token \"###STOP###\" (token id 128256) weight with weight for \"stop talking\"\n",
      "Replaced token \"###HUMAN###\" (token id 128257) weight with weight for \"The human said:\"\n",
      "Replaced token \"###BOT###\" (token id 128258) weight with weight for \"The assistant said:\"\n"
     ]
    }
   ],
   "source": [
    "STOP_TOKEN = '###STOP###'\n",
    "HUMAN_TOKEN = '###HUMAN###'\n",
    "BOT_TOKEN = '###BOT###'\n",
    "\n",
    "EXTRA_TOKENS = {\n",
    "    'stop_token': {\n",
    "        'token': STOP_TOKEN,\n",
    "        'replace_embedding_with': 'stop talking'\n",
    "    },\n",
    "    'human_token': {\n",
    "        'token': HUMAN_TOKEN,\n",
    "        'replace_embedding_with': 'The human said:'\n",
    "    },\n",
    "    'bot_token': {\n",
    "        'token': BOT_TOKEN,\n",
    "        'replace_embedding_with': 'The assistant said:'\n",
    "    }\n",
    "}\n",
    "\n",
    "base_model = 'meta-llama/Meta-Llama-3-8B'\n",
    "\n",
    "quant_config = BitsAndBytesConfig(\n",
    "    load_in_4bit=True,\n",
    "    bnb_4bit_quant_type=\"nf4\",\n",
    "    bnb_4bit_compute_dtype=torch.bfloat16,\n",
    "    bnb_4bit_use_double_quant=False,\n",
    ")\n",
    "\n",
    "model = AutoModelForCausalLM.from_pretrained(\n",
    "    base_model,\n",
    "    torch_dtype=torch.bfloat16,\n",
    "    quantization_config=quant_config,\n",
    "    device_map={\"\": 0}\n",
    ")\n",
    "\n",
    "model.resize_token_embeddings(len(tokenizer))\n",
    "\n",
    "for extra_token, extra_info in EXTRA_TOKENS.items():\n",
    "    token_id = tokenizer(extra_info['token'])['input_ids'][-1]\n",
    "    new_embedding = model.model.embed_tokens.weight.data[tokenizer(extra_info['replace_embedding_with'])['input_ids'][1:]].mean(dim=0, keepdim=True)\n",
    "    EXTRA_TOKENS[extra_token]['new_embedding'] = new_embedding\n",
    "    model.model.embed_tokens.weight.data[token_id] = EXTRA_TOKENS[extra_token]['new_embedding'].clone()\n",
    "    EXTRA_TOKENS[extra_token]['token_id'] = token_id\n",
    "    print(f\"Replaced token \\\"{extra_info['token']}\\\" (token id {token_id}) weight with weight for \\\"{extra_info['replace_embedding_with']}\\\"\")"
   ]
  },
  {
   "cell_type": "code",
   "execution_count": null,
   "id": "vo2H9MuQLTBT",
   "metadata": {},
   "outputs": [
    {
     "data": {
      "text/plain": [
       "tensor([[ 1.3733e-03,  5.0964e-03, -3.0365e-03,  ...,  2.2888e-03,\n",
       "         -1.9531e-03, -1.7166e-05],\n",
       "        [-2.7313e-03,  1.9379e-03, -1.3733e-03,  ..., -5.1498e-05,\n",
       "         -1.3962e-03, -1.9836e-03],\n",
       "        [ 9.5367e-04, -1.3367e-02,  4.1771e-04,  ...,  2.5940e-03,\n",
       "          7.0496e-03,  4.1809e-03],\n",
       "        ...,\n",
       "        [-1.9775e-02, -8.9722e-03,  5.1880e-03,  ...,  2.2461e-02,\n",
       "          1.0803e-02,  8.2397e-03],\n",
       "        [-4.0894e-03, -6.9580e-03, -5.3406e-03,  ...,  4.5166e-03,\n",
       "          3.0670e-03,  3.9062e-03],\n",
       "        [-4.3030e-03, -4.1199e-03, -4.0283e-03,  ..., -2.1057e-03,\n",
       "         -4.9744e-03,  6.8665e-03]], device='cuda:0', dtype=torch.bfloat16)"
      ]
     },
     "execution_count": 9,
     "metadata": {},
     "output_type": "execute_result"
    }
   ],
   "source": [
    "model.model.embed_tokens.weight.data"
   ]
  },
  {
   "cell_type": "code",
   "execution_count": null,
   "id": "Lb9GH4LjkE-c",
   "metadata": {},
   "outputs": [
    {
     "data": {
      "application/vnd.jupyter.widget-view+json": {
       "model_id": "64a7f0f2509348bab1e04211128a96c0",
       "version_major": 2,
       "version_minor": 0
      },
      "text/plain": [
       "adapter_config.json:   0%|          | 0.00/653 [00:00<?, ?B/s]"
      ]
     },
     "metadata": {},
     "output_type": "display_data"
    },
    {
     "data": {
      "application/vnd.jupyter.widget-view+json": {
       "model_id": "e56fb6e0efa1457a967b370f4f0186fa",
       "version_major": 2,
       "version_minor": 0
      },
      "text/plain": [
       "adapter_model.safetensors:   0%|          | 0.00/2.32G [00:00<?, ?B/s]"
      ]
     },
     "metadata": {},
     "output_type": "display_data"
    },
    {
     "name": "stderr",
     "output_type": "stream",
     "text": [
      "WARNING:root:The `device_map` argument is not provided. We will override the device_map argument. to set the entire model on the current device. If you want to set the model on multiple devices, please provide a custom `device_map` argument.\n"
     ]
    }
   ],
   "source": [
    "from peft import PeftModel, PeftConfig\n",
    "from transformers import AutoModelForCausalLM\n",
    "\n",
    "model = PeftModel.from_pretrained(model, 'profoz/sawyer-llama-3')\n",
    "\n",
    "model = AutoModelForCausalLMWithValueHead.from_pretrained(\n",
    "    model,\n",
    "    torch_dtype=torch.bfloat16,\n",
    "    is_trainable=True\n",
    ")"
   ]
  },
  {
   "cell_type": "code",
   "execution_count": null,
   "id": "aTdtcitf4r4q",
   "metadata": {},
   "outputs": [
    {
     "data": {
      "application/vnd.google.colaboratory.intrinsic+json": {
       "type": "string"
      },
      "text/plain": [
       "'###HUMAN### hi ###BOT### sup ###STOP###'"
      ]
     },
     "execution_count": 11,
     "metadata": {},
     "output_type": "execute_result"
    }
   ],
   "source": [
    "def join_convo(conversation):\n",
    "    convo = ''''''\n",
    "    last_speaker = None\n",
    "    for speaker, message in conversation:\n",
    "        last_speaker = speaker\n",
    "        if speaker == 'human':\n",
    "            convo += f\"{EXTRA_TOKENS['human_token']['token']} {message} \"\n",
    "        elif speaker == 'assistant':\n",
    "            convo += f\"{EXTRA_TOKENS['bot_token']['token']} {message} \"\n",
    "    if last_speaker == 'human':\n",
    "        return convo.strip() + f\" {EXTRA_TOKENS['bot_token']['token']}\"\n",
    "    return convo.strip() + f\" {EXTRA_TOKENS['stop_token']['token']}\"\n",
    "\n",
    "join_convo(\n",
    "    [\n",
    "        ('human', 'hi'),\n",
    "        ('assistant', 'sup')\n",
    "    ]\n",
    ")"
   ]
  },
  {
   "cell_type": "code",
   "execution_count": null,
   "id": "miMv4lIk46mM",
   "metadata": {},
   "outputs": [
    {
     "data": {
      "application/vnd.google.colaboratory.intrinsic+json": {
       "type": "string"
      },
      "text/plain": [
       "'###HUMAN### hi ###BOT###'"
      ]
     },
     "execution_count": 12,
     "metadata": {},
     "output_type": "execute_result"
    }
   ],
   "source": [
    "join_convo(\n",
    "    [\n",
    "        ('human', 'hi')\n",
    "    ]\n",
    ")"
   ]
  },
  {
   "cell_type": "code",
   "execution_count": null,
   "id": "uxW7UlUu49uy",
   "metadata": {},
   "outputs": [],
   "source": []
  },
  {
   "cell_type": "code",
   "execution_count": null,
   "id": "94174c8b",
   "metadata": {},
   "outputs": [
    {
     "name": "stderr",
     "output_type": "stream",
     "text": [
      "Parameter 'function'=<function preprocess_function at 0x7e2a2304da20> of the transform datasets.arrow_dataset.Dataset._map_single couldn't be hashed properly, a random hash was used instead. Make sure your transforms and parameters are serializable with pickle or dill for the dataset fingerprinting and caching to work. If you reuse this transform, the caching mechanism will consider it to be different from the previous calls and recompute everything. This warning is only showed once. Subsequent hashing failures won't be showed.\n",
      "WARNING:datasets.fingerprint:Parameter 'function'=<function preprocess_function at 0x7e2a2304da20> of the transform datasets.arrow_dataset.Dataset._map_single couldn't be hashed properly, a random hash was used instead. Make sure your transforms and parameters are serializable with pickle or dill for the dataset fingerprinting and caching to work. If you reuse this transform, the caching mechanism will consider it to be different from the previous calls and recompute everything. This warning is only showed once. Subsequent hashing failures won't be showed.\n"
     ]
    },
    {
     "data": {
      "application/vnd.jupyter.widget-view+json": {
       "model_id": "ec3432902a554099beb90f5bd7e4d587",
       "version_major": 2,
       "version_minor": 0
      },
      "text/plain": [
       "Map:   0%|          | 0/15011 [00:00<?, ? examples/s]"
      ]
     },
     "metadata": {},
     "output_type": "display_data"
    }
   ],
   "source": [
    "# quick cleaning function to clean some text\n",
    "def ascci(text): return ''.join(char if ord(char) < 128 else '?' for char in text)\n",
    "\n",
    "def preprocess_function(examples):\n",
    "    new_examples = {\n",
    "        \"input_ids\": [],\n",
    "        \"attention_mask\": [],\n",
    "        \"input_text\": [],\n",
    "        \"formatted_convo\": []\n",
    "    }\n",
    "    for instruction, context in zip(examples[\"instruction\"], examples['context']):\n",
    "        if context:\n",
    "            instruction = f'{instruction}\\n\\n{context}'\n",
    "\n",
    "        input_text = join_convo([['human', instruction]])\n",
    "\n",
    "        tokenized_question = tokenizer(input_text, return_tensors='pt')\n",
    "        new_examples['input_text'].append(input_text)\n",
    "        new_examples[\"input_ids\"].append(tokenized_question[\"input_ids\"])\n",
    "        new_examples[\"attention_mask\"].append(tokenized_question[\"attention_mask\"])\n",
    "        new_examples['formatted_convo'].append(input_text)\n",
    "    return new_examples\n",
    "\n",
    "dolly = dolly.map(preprocess_function, batched=True, batch_size=64)"
   ]
  },
  {
   "cell_type": "code",
   "execution_count": null,
   "id": "a5ec82a2",
   "metadata": {},
   "outputs": [],
   "source": [
    "dolly.set_format(type=\"torch\")"
   ]
  },
  {
   "cell_type": "code",
   "execution_count": null,
   "id": "wRPTisUUKSdE",
   "metadata": {},
   "outputs": [
    {
     "data": {
      "text/plain": [
       "<Axes: >"
      ]
     },
     "execution_count": 15,
     "metadata": {},
     "output_type": "execute_result"
    },
    {
     "data": {
      "image/png": "[encoded data removed]",
      "text/plain": [
       "<Figure size 640x480 with 1 Axes>"
      ]
     },
     "metadata": {},
     "output_type": "display_data"
    }
   ],
   "source": [
    "pd.Series(dolly['train']['category']).value_counts().plot(kind='bar')"
   ]
  },
  {
   "cell_type": "code",
   "execution_count": null,
   "id": "TLdOttjUmGv0",
   "metadata": {},
   "outputs": [],
   "source": [
    "# dolly = dolly.filter(lambda x: 'qa' in x['category'])"
   ]
  },
  {
   "cell_type": "code",
   "execution_count": null,
   "id": "54fc57e1",
   "metadata": {},
   "outputs": [
    {
     "data": {
      "application/vnd.jupyter.widget-view+json": {
       "model_id": "9318edf1f79b4241b5175bb2450840ab",
       "version_major": 2,
       "version_minor": 0
      },
      "text/plain": [
       "Filter:   0%|          | 0/15011 [00:00<?, ? examples/s]"
      ]
     },
     "metadata": {},
     "output_type": "display_data"
    }
   ],
   "source": [
    "dolly = dolly['train'].filter(\n",
    "    lambda x: x[\"input_ids\"].shape[-1] < 128, batched=False).shuffle(seed=42).select(range(2_000))"
   ]
  },
  {
   "cell_type": "code",
   "execution_count": null,
   "id": "fdh89yC_U61E",
   "metadata": {},
   "outputs": [
    {
     "data": {
      "text/plain": [
       "<Axes: >"
      ]
     },
     "execution_count": 18,
     "metadata": {},
     "output_type": "execute_result"
    },
    {
     "data": {
      "image/png": "[encoded data removed]",
      "text/plain": [
       "<Figure size 640x480 with 1 Axes>"
      ]
     },
     "metadata": {},
     "output_type": "display_data"
    }
   ],
   "source": [
    "pd.Series(dolly['category']).value_counts().plot(kind='bar')"
   ]
  },
  {
   "cell_type": "code",
   "execution_count": null,
   "id": "0ad76873",
   "metadata": {},
   "outputs": [
    {
     "data": {
      "text/plain": [
       "DatasetDict({\n",
       "    train: Dataset({\n",
       "        features: ['instruction', 'context', 'response', 'category', 'input_ids', 'attention_mask', 'input_text', 'formatted_convo'],\n",
       "        num_rows: 1800\n",
       "    })\n",
       "    test: Dataset({\n",
       "        features: ['instruction', 'context', 'response', 'category', 'input_ids', 'attention_mask', 'input_text', 'formatted_convo'],\n",
       "        num_rows: 200\n",
       "    })\n",
       "})"
      ]
     },
     "execution_count": 19,
     "metadata": {},
     "output_type": "execute_result"
    }
   ],
   "source": [
    "dolly = dolly.train_test_split(test_size=0.1, seed=42)\n",
    "\n",
    "dolly"
   ]
  },
  {
   "cell_type": "code",
   "execution_count": null,
   "id": "4d29c751",
   "metadata": {},
   "outputs": [
    {
     "data": {
      "text/plain": [
       "{'instruction': 'Why did the earliest vendors and retailers in the U.S. decide to charge 99 cents rather than a dollar?',\n",
       " 'context': '',\n",
       " 'response': 'Because the cashier would have to make change in the cash register for 99 cents, forcing a record of the sale, whereas if the vendor/retailer charged $1, the cashier could pocket the dollar without a record of the transaction.',\n",
       " 'category': 'open_qa',\n",
       " 'input_ids': tensor([[128257,   8595,   1550,    279,  30758,  29629,    323,  30282,    304,\n",
       "             279,    549,    815,     13,  10491,    311,   6900,    220,   1484,\n",
       "           31291,   4856,   1109,    264,  18160,     30,    220, 128258]]),\n",
       " 'attention_mask': tensor([[1, 1, 1, 1, 1, 1, 1, 1, 1, 1, 1, 1, 1, 1, 1, 1, 1, 1, 1, 1, 1, 1, 1, 1,\n",
       "          1, 1]]),\n",
       " 'input_text': '###HUMAN### Why did the earliest vendors and retailers in the U.S. decide to charge 99 cents rather than a dollar? ###BOT###',\n",
       " 'formatted_convo': '###HUMAN### Why did the earliest vendors and retailers in the U.S. decide to charge 99 cents rather than a dollar? ###BOT###'}"
      ]
     },
     "execution_count": 20,
     "metadata": {},
     "output_type": "execute_result"
    }
   ],
   "source": [
    "dolly['train'][0]"
   ]
  },
  {
   "cell_type": "code",
   "execution_count": null,
   "id": "1kttZQsHworz",
   "metadata": {},
   "outputs": [
    {
     "data": {
      "application/vnd.google.colaboratory.intrinsic+json": {
       "type": "string"
      },
      "text/plain": [
       "'###HUMAN### Why did the earliest vendors and retailers in the U.S. decide to charge 99 cents rather than a dollar? ###BOT### While the exact reasons are unknown, some speculate the $0.99 may have been chosen as a way to set prices lower than competitors to increase sales. Another'"
      ]
     },
     "execution_count": 64,
     "metadata": {},
     "output_type": "execute_result"
    }
   ],
   "source": [
    "generation_kwargs = {\n",
    "    \"do_sample\": True,\n",
    "    \"eos_token_id\": EXTRA_TOKENS['stop_token']['token_id'],\n",
    "    'pad_token_id': EXTRA_TOKENS['stop_token']['token_id']\n",
    "}\n",
    "\n",
    "output = model.generate(\n",
    "    **tokenizer(\n",
    "        dolly['train'][0]['formatted_convo'],\n",
    "        return_tensors='pt', max_length=128, truncation=True\n",
    "        ).to(0),\n",
    "    **generation_kwargs,\n",
    "    max_new_tokens=32\n",
    ")\n",
    "tokenizer.decode(output[0])\n"
   ]
  },
  {
   "cell_type": "code",
   "execution_count": null,
   "id": "YIe5ORBHnd62",
   "metadata": {},
   "outputs": [],
   "source": []
  },
  {
   "cell_type": "code",
   "execution_count": null,
   "id": "1IvI1w6ujXo1",
   "metadata": {},
   "outputs": [
    {
     "data": {
      "text/plain": [
       "Parameter containing:\n",
       "tensor([[ 0.0011, -0.0118, -0.0147,  ...,  0.0131,  0.0011, -0.0015]],\n",
       "       device='cuda:0', requires_grad=True)"
      ]
     },
     "execution_count": 65,
     "metadata": {},
     "output_type": "execute_result"
    }
   ],
   "source": [
    "model.v_head.summary.weight"
   ]
  },
  {
   "cell_type": "code",
   "execution_count": null,
   "id": "oTYMagonVmwh",
   "metadata": {},
   "outputs": [
    {
     "name": "stdout",
     "output_type": "stream",
     "text": [
      "v_head.summary.weight is trainable with 4096 params\n",
      "v_head.summary.bias is trainable with 1 params\n",
      "trainable params: 4097 || all params: 4595154945 || trainable%: 8.915912627620873e-05\n"
     ]
    }
   ],
   "source": [
    "def print_trainable_parameters(model, verbose=False):\n",
    "    \"\"\"\n",
    "    Prints the number of trainable parameters in the model.\n",
    "    \"\"\"\n",
    "    trainable_params = 0\n",
    "    all_param = 0\n",
    "    for _, param in model.named_parameters():\n",
    "        all_param += param.numel()\n",
    "        if param.requires_grad:\n",
    "            if verbose:\n",
    "                print(f'{_} is trainable with {param.numel()} params')\n",
    "            trainable_params += param.numel()\n",
    "    print(\n",
    "        f\"trainable params: {trainable_params} || all params: {all_param} || trainable%: {100 * trainable_params / all_param}\"\n",
    "    )\n",
    "\n",
    "print_trainable_parameters(model, verbose=True)"
   ]
  },
  {
   "cell_type": "code",
   "execution_count": null,
   "id": "djyL6C0dmiBB",
   "metadata": {},
   "outputs": [
    {
     "data": {
      "text/plain": [
       "['_enable_peft_forward_hooks']"
      ]
     },
     "execution_count": 28,
     "metadata": {},
     "output_type": "execute_result"
    }
   ],
   "source": [
    "list(filter(lambda x: 'enable' in x, dir(model.pretrained_model)))"
   ]
  },
  {
   "cell_type": "code",
   "execution_count": null,
   "id": "IMpCis5qKKKC",
   "metadata": {},
   "outputs": [
    {
     "name": "stdout",
     "output_type": "stream",
     "text": [
      "Turning ON: pretrained_model.base_model.model.model.layers.0.self_attn.q_proj.lora_A.default.weight\n",
      "Turning ON: pretrained_model.base_model.model.model.layers.0.self_attn.q_proj.lora_B.default.weight\n",
      "Turning ON: pretrained_model.base_model.model.model.layers.0.self_attn.v_proj.lora_A.default.weight\n",
      "Turning ON: pretrained_model.base_model.model.model.layers.0.self_attn.v_proj.lora_B.default.weight\n",
      "Turning ON: pretrained_model.base_model.model.model.layers.1.self_attn.q_proj.lora_A.default.weight\n",
      "Turning ON: pretrained_model.base_model.model.model.layers.1.self_attn.q_proj.lora_B.default.weight\n",
      "Turning ON: pretrained_model.base_model.model.model.layers.1.self_attn.v_proj.lora_A.default.weight\n",
      "Turning ON: pretrained_model.base_model.model.model.layers.1.self_attn.v_proj.lora_B.default.weight\n",
      "Turning ON: pretrained_model.base_model.model.model.layers.2.self_attn.q_proj.lora_A.default.weight\n",
      "Turning ON: pretrained_model.base_model.model.model.layers.2.self_attn.q_proj.lora_B.default.weight\n",
      "Turning ON: pretrained_model.base_model.model.model.layers.2.self_attn.v_proj.lora_A.default.weight\n",
      "Turning ON: pretrained_model.base_model.model.model.layers.2.self_attn.v_proj.lora_B.default.weight\n",
      "Turning ON: pretrained_model.base_model.model.model.layers.3.self_attn.q_proj.lora_A.default.weight\n",
      "Turning ON: pretrained_model.base_model.model.model.layers.3.self_attn.q_proj.lora_B.default.weight\n",
      "Turning ON: pretrained_model.base_model.model.model.layers.3.self_attn.v_proj.lora_A.default.weight\n",
      "Turning ON: pretrained_model.base_model.model.model.layers.3.self_attn.v_proj.lora_B.default.weight\n",
      "Turning ON: pretrained_model.base_model.model.model.layers.4.self_attn.q_proj.lora_A.default.weight\n",
      "Turning ON: pretrained_model.base_model.model.model.layers.4.self_attn.q_proj.lora_B.default.weight\n",
      "Turning ON: pretrained_model.base_model.model.model.layers.4.self_attn.v_proj.lora_A.default.weight\n",
      "Turning ON: pretrained_model.base_model.model.model.layers.4.self_attn.v_proj.lora_B.default.weight\n",
      "Turning ON: pretrained_model.base_model.model.model.layers.5.self_attn.q_proj.lora_A.default.weight\n",
      "Turning ON: pretrained_model.base_model.model.model.layers.5.self_attn.q_proj.lora_B.default.weight\n",
      "Turning ON: pretrained_model.base_model.model.model.layers.5.self_attn.v_proj.lora_A.default.weight\n",
      "Turning ON: pretrained_model.base_model.model.model.layers.5.self_attn.v_proj.lora_B.default.weight\n",
      "Turning ON: pretrained_model.base_model.model.model.layers.6.self_attn.q_proj.lora_A.default.weight\n",
      "Turning ON: pretrained_model.base_model.model.model.layers.6.self_attn.q_proj.lora_B.default.weight\n",
      "Turning ON: pretrained_model.base_model.model.model.layers.6.self_attn.v_proj.lora_A.default.weight\n",
      "Turning ON: pretrained_model.base_model.model.model.layers.6.self_attn.v_proj.lora_B.default.weight\n",
      "Turning ON: pretrained_model.base_model.model.model.layers.7.self_attn.q_proj.lora_A.default.weight\n",
      "Turning ON: pretrained_model.base_model.model.model.layers.7.self_attn.q_proj.lora_B.default.weight\n",
      "Turning ON: pretrained_model.base_model.model.model.layers.7.self_attn.v_proj.lora_A.default.weight\n",
      "Turning ON: pretrained_model.base_model.model.model.layers.7.self_attn.v_proj.lora_B.default.weight\n",
      "Turning ON: pretrained_model.base_model.model.model.layers.8.self_attn.q_proj.lora_A.default.weight\n",
      "Turning ON: pretrained_model.base_model.model.model.layers.8.self_attn.q_proj.lora_B.default.weight\n",
      "Turning ON: pretrained_model.base_model.model.model.layers.8.self_attn.v_proj.lora_A.default.weight\n",
      "Turning ON: pretrained_model.base_model.model.model.layers.8.self_attn.v_proj.lora_B.default.weight\n",
      "Turning ON: pretrained_model.base_model.model.model.layers.9.self_attn.q_proj.lora_A.default.weight\n",
      "Turning ON: pretrained_model.base_model.model.model.layers.9.self_attn.q_proj.lora_B.default.weight\n",
      "Turning ON: pretrained_model.base_model.model.model.layers.9.self_attn.v_proj.lora_A.default.weight\n",
      "Turning ON: pretrained_model.base_model.model.model.layers.9.self_attn.v_proj.lora_B.default.weight\n",
      "Turning ON: pretrained_model.base_model.model.model.layers.10.self_attn.q_proj.lora_A.default.weight\n",
      "Turning ON: pretrained_model.base_model.model.model.layers.10.self_attn.q_proj.lora_B.default.weight\n",
      "Turning ON: pretrained_model.base_model.model.model.layers.10.self_attn.v_proj.lora_A.default.weight\n",
      "Turning ON: pretrained_model.base_model.model.model.layers.10.self_attn.v_proj.lora_B.default.weight\n",
      "Turning ON: pretrained_model.base_model.model.model.layers.11.self_attn.q_proj.lora_A.default.weight\n",
      "Turning ON: pretrained_model.base_model.model.model.layers.11.self_attn.q_proj.lora_B.default.weight\n",
      "Turning ON: pretrained_model.base_model.model.model.layers.11.self_attn.v_proj.lora_A.default.weight\n",
      "Turning ON: pretrained_model.base_model.model.model.layers.11.self_attn.v_proj.lora_B.default.weight\n",
      "Turning ON: pretrained_model.base_model.model.model.layers.12.self_attn.q_proj.lora_A.default.weight\n",
      "Turning ON: pretrained_model.base_model.model.model.layers.12.self_attn.q_proj.lora_B.default.weight\n",
      "Turning ON: pretrained_model.base_model.model.model.layers.12.self_attn.v_proj.lora_A.default.weight\n",
      "Turning ON: pretrained_model.base_model.model.model.layers.12.self_attn.v_proj.lora_B.default.weight\n",
      "Turning ON: pretrained_model.base_model.model.model.layers.13.self_attn.q_proj.lora_A.default.weight\n",
      "Turning ON: pretrained_model.base_model.model.model.layers.13.self_attn.q_proj.lora_B.default.weight\n",
      "Turning ON: pretrained_model.base_model.model.model.layers.13.self_attn.v_proj.lora_A.default.weight\n",
      "Turning ON: pretrained_model.base_model.model.model.layers.13.self_attn.v_proj.lora_B.default.weight\n",
      "Turning ON: pretrained_model.base_model.model.model.layers.14.self_attn.q_proj.lora_A.default.weight\n",
      "Turning ON: pretrained_model.base_model.model.model.layers.14.self_attn.q_proj.lora_B.default.weight\n",
      "Turning ON: pretrained_model.base_model.model.model.layers.14.self_attn.v_proj.lora_A.default.weight\n",
      "Turning ON: pretrained_model.base_model.model.model.layers.14.self_attn.v_proj.lora_B.default.weight\n",
      "Turning ON: pretrained_model.base_model.model.model.layers.15.self_attn.q_proj.lora_A.default.weight\n",
      "Turning ON: pretrained_model.base_model.model.model.layers.15.self_attn.q_proj.lora_B.default.weight\n",
      "Turning ON: pretrained_model.base_model.model.model.layers.15.self_attn.v_proj.lora_A.default.weight\n",
      "Turning ON: pretrained_model.base_model.model.model.layers.15.self_attn.v_proj.lora_B.default.weight\n",
      "Turning ON: pretrained_model.base_model.model.model.layers.16.self_attn.q_proj.lora_A.default.weight\n",
      "Turning ON: pretrained_model.base_model.model.model.layers.16.self_attn.q_proj.lora_B.default.weight\n",
      "Turning ON: pretrained_model.base_model.model.model.layers.16.self_attn.v_proj.lora_A.default.weight\n",
      "Turning ON: pretrained_model.base_model.model.model.layers.16.self_attn.v_proj.lora_B.default.weight\n",
      "Turning ON: pretrained_model.base_model.model.model.layers.17.self_attn.q_proj.lora_A.default.weight\n",
      "Turning ON: pretrained_model.base_model.model.model.layers.17.self_attn.q_proj.lora_B.default.weight\n",
      "Turning ON: pretrained_model.base_model.model.model.layers.17.self_attn.v_proj.lora_A.default.weight\n",
      "Turning ON: pretrained_model.base_model.model.model.layers.17.self_attn.v_proj.lora_B.default.weight\n",
      "Turning ON: pretrained_model.base_model.model.model.layers.18.self_attn.q_proj.lora_A.default.weight\n",
      "Turning ON: pretrained_model.base_model.model.model.layers.18.self_attn.q_proj.lora_B.default.weight\n",
      "Turning ON: pretrained_model.base_model.model.model.layers.18.self_attn.v_proj.lora_A.default.weight\n",
      "Turning ON: pretrained_model.base_model.model.model.layers.18.self_attn.v_proj.lora_B.default.weight\n",
      "Turning ON: pretrained_model.base_model.model.model.layers.19.self_attn.q_proj.lora_A.default.weight\n",
      "Turning ON: pretrained_model.base_model.model.model.layers.19.self_attn.q_proj.lora_B.default.weight\n",
      "Turning ON: pretrained_model.base_model.model.model.layers.19.self_attn.v_proj.lora_A.default.weight\n",
      "Turning ON: pretrained_model.base_model.model.model.layers.19.self_attn.v_proj.lora_B.default.weight\n",
      "Turning ON: pretrained_model.base_model.model.model.layers.20.self_attn.q_proj.lora_A.default.weight\n",
      "Turning ON: pretrained_model.base_model.model.model.layers.20.self_attn.q_proj.lora_B.default.weight\n",
      "Turning ON: pretrained_model.base_model.model.model.layers.20.self_attn.v_proj.lora_A.default.weight\n",
      "Turning ON: pretrained_model.base_model.model.model.layers.20.self_attn.v_proj.lora_B.default.weight\n",
      "Turning ON: pretrained_model.base_model.model.model.layers.21.self_attn.q_proj.lora_A.default.weight\n",
      "Turning ON: pretrained_model.base_model.model.model.layers.21.self_attn.q_proj.lora_B.default.weight\n",
      "Turning ON: pretrained_model.base_model.model.model.layers.21.self_attn.v_proj.lora_A.default.weight\n",
      "Turning ON: pretrained_model.base_model.model.model.layers.21.self_attn.v_proj.lora_B.default.weight\n",
      "Turning ON: pretrained_model.base_model.model.model.layers.22.self_attn.q_proj.lora_A.default.weight\n",
      "Turning ON: pretrained_model.base_model.model.model.layers.22.self_attn.q_proj.lora_B.default.weight\n",
      "Turning ON: pretrained_model.base_model.model.model.layers.22.self_attn.v_proj.lora_A.default.weight\n",
      "Turning ON: pretrained_model.base_model.model.model.layers.22.self_attn.v_proj.lora_B.default.weight\n",
      "Turning ON: pretrained_model.base_model.model.model.layers.23.self_attn.q_proj.lora_A.default.weight\n",
      "Turning ON: pretrained_model.base_model.model.model.layers.23.self_attn.q_proj.lora_B.default.weight\n",
      "Turning ON: pretrained_model.base_model.model.model.layers.23.self_attn.v_proj.lora_A.default.weight\n",
      "Turning ON: pretrained_model.base_model.model.model.layers.23.self_attn.v_proj.lora_B.default.weight\n",
      "Turning ON: pretrained_model.base_model.model.model.layers.24.self_attn.q_proj.lora_A.default.weight\n",
      "Turning ON: pretrained_model.base_model.model.model.layers.24.self_attn.q_proj.lora_B.default.weight\n",
      "Turning ON: pretrained_model.base_model.model.model.layers.24.self_attn.v_proj.lora_A.default.weight\n",
      "Turning ON: pretrained_model.base_model.model.model.layers.24.self_attn.v_proj.lora_B.default.weight\n",
      "Turning ON: pretrained_model.base_model.model.model.layers.25.self_attn.q_proj.lora_A.default.weight\n",
      "Turning ON: pretrained_model.base_model.model.model.layers.25.self_attn.q_proj.lora_B.default.weight\n",
      "Turning ON: pretrained_model.base_model.model.model.layers.25.self_attn.v_proj.lora_A.default.weight\n",
      "Turning ON: pretrained_model.base_model.model.model.layers.25.self_attn.v_proj.lora_B.default.weight\n",
      "Turning ON: pretrained_model.base_model.model.model.layers.26.self_attn.q_proj.lora_A.default.weight\n",
      "Turning ON: pretrained_model.base_model.model.model.layers.26.self_attn.q_proj.lora_B.default.weight\n",
      "Turning ON: pretrained_model.base_model.model.model.layers.26.self_attn.v_proj.lora_A.default.weight\n",
      "Turning ON: pretrained_model.base_model.model.model.layers.26.self_attn.v_proj.lora_B.default.weight\n",
      "Turning ON: pretrained_model.base_model.model.model.layers.27.self_attn.q_proj.lora_A.default.weight\n",
      "Turning ON: pretrained_model.base_model.model.model.layers.27.self_attn.q_proj.lora_B.default.weight\n",
      "Turning ON: pretrained_model.base_model.model.model.layers.27.self_attn.v_proj.lora_A.default.weight\n",
      "Turning ON: pretrained_model.base_model.model.model.layers.27.self_attn.v_proj.lora_B.default.weight\n",
      "Turning ON: pretrained_model.base_model.model.model.layers.28.self_attn.q_proj.lora_A.default.weight\n",
      "Turning ON: pretrained_model.base_model.model.model.layers.28.self_attn.q_proj.lora_B.default.weight\n",
      "Turning ON: pretrained_model.base_model.model.model.layers.28.self_attn.v_proj.lora_A.default.weight\n",
      "Turning ON: pretrained_model.base_model.model.model.layers.28.self_attn.v_proj.lora_B.default.weight\n",
      "Turning ON: pretrained_model.base_model.model.model.layers.29.self_attn.q_proj.lora_A.default.weight\n",
      "Turning ON: pretrained_model.base_model.model.model.layers.29.self_attn.q_proj.lora_B.default.weight\n",
      "Turning ON: pretrained_model.base_model.model.model.layers.29.self_attn.v_proj.lora_A.default.weight\n",
      "Turning ON: pretrained_model.base_model.model.model.layers.29.self_attn.v_proj.lora_B.default.weight\n",
      "Turning ON: pretrained_model.base_model.model.model.layers.30.self_attn.q_proj.lora_A.default.weight\n",
      "Turning ON: pretrained_model.base_model.model.model.layers.30.self_attn.q_proj.lora_B.default.weight\n",
      "Turning ON: pretrained_model.base_model.model.model.layers.30.self_attn.v_proj.lora_A.default.weight\n",
      "Turning ON: pretrained_model.base_model.model.model.layers.30.self_attn.v_proj.lora_B.default.weight\n",
      "Turning ON: pretrained_model.base_model.model.model.layers.31.self_attn.q_proj.lora_A.default.weight\n",
      "Turning ON: pretrained_model.base_model.model.model.layers.31.self_attn.q_proj.lora_B.default.weight\n",
      "Turning ON: pretrained_model.base_model.model.model.layers.31.self_attn.v_proj.lora_A.default.weight\n",
      "Turning ON: pretrained_model.base_model.model.model.layers.31.self_attn.v_proj.lora_B.default.weight\n"
     ]
    }
   ],
   "source": [
    "for name, param in model.named_parameters():\n",
    "    if 'lora' in name and not param.requires_grad:\n",
    "        print(f'Turning ON: {name}')\n",
    "        param.requires_grad = True\n",
    "    elif 'original_module' in name and param.requires_grad:\n",
    "        print(f'Turning OFF: {name}')\n",
    "        param.requires_grad = False"
   ]
  },
  {
   "cell_type": "code",
   "execution_count": null,
   "id": "ea42b668",
   "metadata": {},
   "outputs": [],
   "source": [
    "import wandb\n",
    "\n",
    "def collator(data):\n",
    "    return dict((key, [d[key] for d in data]) for key in data[0])\n",
    "\n",
    "# Set up Weights and Biases integration\n",
    "# wandb.init(project=\"odsc-sawyer-rlhf\")"
   ]
  },
  {
   "cell_type": "code",
   "execution_count": null,
   "id": "Eq_IvX6Dmp3y",
   "metadata": {},
   "outputs": [],
   "source": []
  },
  {
   "cell_type": "code",
   "execution_count": null,
   "id": "e625c5df",
   "metadata": {},
   "outputs": [
    {
     "data": {
      "text/plain": [
       "(tensor([[128257,   8595,   1550,    279,  30758,  29629,    323,  30282,    304,\n",
       "             279,    549,    815,     13,  10491,    311,   6900,    220,   1484,\n",
       "           31291,   4856,   1109,    264,  18160,     30,    220, 128258]]),\n",
       " ['###HUMAN### Why did the earliest vendors and retailers in the U.S. decide to charge 99 cents rather than a dollar? ###BOT###'])"
      ]
     },
     "execution_count": 31,
     "metadata": {},
     "output_type": "execute_result"
    }
   ],
   "source": [
    "dolly['train'][0]['input_ids'], tokenizer.batch_decode(dolly['train'][0]['input_ids'])"
   ]
  },
  {
   "cell_type": "code",
   "execution_count": null,
   "id": "E3PnpErMjBws",
   "metadata": {},
   "outputs": [
    {
     "name": "stderr",
     "output_type": "stream",
     "text": [
      "/usr/local/lib/python3.10/dist-packages/transformers/generation/configuration_utils.py:427: UserWarning: `do_sample` is set to `False`. However, `top_k` is set to `0.0` -- this flag is only used in sample-based generation modes. You should set `do_sample=True` or unset `top_k`.\n",
      "  warnings.warn(\n",
      "Setting `pad_token_id` to `eos_token_id`:128256 for open-end generation.\n"
     ]
    },
    {
     "data": {
      "text/plain": [
       "['###HUMAN### Why did the earliest vendors and retailers in the U.S. decide to charge 99 cents rather than a dollar? ###BOT### The reason for this is that the price of 99 cents is more appealing to customers than the price of a dollar. It is a psychological trick that makes the product seem cheaper than it actually is. ###STOP###']"
      ]
     },
     "execution_count": 32,
     "metadata": {},
     "output_type": "execute_result"
    }
   ],
   "source": [
    "tokenizer.batch_decode(model.generate(\n",
    "    **tokenizer(\n",
    "        dolly['train'][0]['formatted_convo'],\n",
    "        return_tensors='pt',\n",
    "    ).to(0),\n",
    "    eos_token_id=EXTRA_TOKENS['stop_token']['token_id'],\n",
    "    max_new_tokens=128,\n",
    "    min_new_tokens=2,\n",
    "    top_k=0.0,\n",
    "    top_p=1.0,\n",
    "    ))"
   ]
  },
  {
   "cell_type": "code",
   "execution_count": null,
   "id": "nHj2y84ujCcZ",
   "metadata": {},
   "outputs": [],
   "source": []
  },
  {
   "cell_type": "code",
   "execution_count": null,
   "id": "Ax4S91eRjPRY",
   "metadata": {},
   "outputs": [],
   "source": []
  },
  {
   "cell_type": "code",
   "execution_count": null,
   "id": "ud4oSof06YEr",
   "metadata": {},
   "outputs": [
    {
     "data": {
      "application/vnd.jupyter.widget-view+json": {
       "model_id": "b2bfaf3445dd42c8aa8566cd0bb9d2a8",
       "version_major": 2,
       "version_minor": 0
      },
      "text/plain": [
       "tokenizer_config.json:   0%|          | 0.00/25.0 [00:00<?, ?B/s]"
      ]
     },
     "metadata": {},
     "output_type": "display_data"
    },
    {
     "data": {
      "application/vnd.jupyter.widget-view+json": {
       "model_id": "a17a82da64fb4de6b73e1c371cc09287",
       "version_major": 2,
       "version_minor": 0
      },
      "text/plain": [
       "config.json:   0%|          | 0.00/564 [00:00<?, ?B/s]"
      ]
     },
     "metadata": {},
     "output_type": "display_data"
    },
    {
     "data": {
      "application/vnd.jupyter.widget-view+json": {
       "model_id": "80116f604e97447caf7014c17ba35c61",
       "version_major": 2,
       "version_minor": 0
      },
      "text/plain": [
       "vocab.json:   0%|          | 0.00/798k [00:00<?, ?B/s]"
      ]
     },
     "metadata": {},
     "output_type": "display_data"
    },
    {
     "data": {
      "application/vnd.jupyter.widget-view+json": {
       "model_id": "bb19024cf0bb476f91956cc7f19872e5",
       "version_major": 2,
       "version_minor": 0
      },
      "text/plain": [
       "merges.txt:   0%|          | 0.00/456k [00:00<?, ?B/s]"
      ]
     },
     "metadata": {},
     "output_type": "display_data"
    },
    {
     "data": {
      "application/vnd.jupyter.widget-view+json": {
       "model_id": "c50823a44d0d454baa37850f4267d566",
       "version_major": 2,
       "version_minor": 0
      },
      "text/plain": [
       "special_tokens_map.json:   0%|          | 0.00/239 [00:00<?, ?B/s]"
      ]
     },
     "metadata": {},
     "output_type": "display_data"
    },
    {
     "data": {
      "application/vnd.jupyter.widget-view+json": {
       "model_id": "0ce81024a59046e996b1b2acbea91c2f",
       "version_major": 2,
       "version_minor": 0
      },
      "text/plain": [
       "pytorch_model.bin:   0%|          | 0.00/501M [00:00<?, ?B/s]"
      ]
     },
     "metadata": {},
     "output_type": "display_data"
    },
    {
     "name": "stderr",
     "output_type": "stream",
     "text": [
      "Some weights of the model checkpoint at textattack/roberta-base-CoLA were not used when initializing RobertaForSequenceClassification: ['roberta.pooler.dense.bias', 'roberta.pooler.dense.weight']\n",
      "- This IS expected if you are initializing RobertaForSequenceClassification from the checkpoint of a model trained on another task or with another architecture (e.g. initializing a BertForSequenceClassification model from a BertForPreTraining model).\n",
      "- This IS NOT expected if you are initializing RobertaForSequenceClassification from the checkpoint of a model that you expect to be exactly identical (initializing a BertForSequenceClassification model from a BertForSequenceClassification model).\n"
     ]
    }
   ],
   "source": [
    "from transformers import AutoTokenizer, AutoModelForSequenceClassification\n",
    "\n",
    "roberta_tokenizer = AutoTokenizer.from_pretrained(\"textattack/roberta-base-CoLA\")\n",
    "roberta_model = AutoModelForSequenceClassification.from_pretrained(\"textattack/roberta-base-CoLA\")\n",
    "\n",
    "cola_pipeline = pipeline('text-classification', model=roberta_model, tokenizer=roberta_tokenizer)\n",
    "\n",
    "def get_cola_scores(texts):\n",
    "    scores = []\n",
    "    # note function_to_apply='none' gives me logits which can be negative (what we want)\n",
    "    results = cola_pipeline(texts, function_to_apply='none', top_k=None)\n",
    "    for result in results:\n",
    "        for label in result:\n",
    "            if label['label'] == 'LABEL_1':  # good grammar:\n",
    "                scores.append(label['score'])\n",
    "    return scores\n"
   ]
  },
  {
   "cell_type": "code",
   "execution_count": null,
   "id": "MzVm_Adjd1Wf",
   "metadata": {},
   "outputs": [
    {
     "data": {
      "application/vnd.jupyter.widget-view+json": {
       "model_id": "8c60d18cd10d4c3d9cb8095ce45988e5",
       "version_major": 2,
       "version_minor": 0
      },
      "text/plain": [
       "modules.json:   0%|          | 0.00/229 [00:00<?, ?B/s]"
      ]
     },
     "metadata": {},
     "output_type": "display_data"
    },
    {
     "data": {
      "application/vnd.jupyter.widget-view+json": {
       "model_id": "2d07393c49314b32aefaa2650b1b9c4e",
       "version_major": 2,
       "version_minor": 0
      },
      "text/plain": [
       "config_sentence_transformers.json:   0%|          | 0.00/122 [00:00<?, ?B/s]"
      ]
     },
     "metadata": {},
     "output_type": "display_data"
    },
    {
     "data": {
      "application/vnd.jupyter.widget-view+json": {
       "model_id": "63a8611da7004374b4988abea70d0bc3",
       "version_major": 2,
       "version_minor": 0
      },
      "text/plain": [
       "README.md:   0%|          | 0.00/3.73k [00:00<?, ?B/s]"
      ]
     },
     "metadata": {},
     "output_type": "display_data"
    },
    {
     "data": {
      "application/vnd.jupyter.widget-view+json": {
       "model_id": "8e7b4109b3ab4dd5b11941f4fb5b7224",
       "version_major": 2,
       "version_minor": 0
      },
      "text/plain": [
       "sentence_bert_config.json:   0%|          | 0.00/53.0 [00:00<?, ?B/s]"
      ]
     },
     "metadata": {},
     "output_type": "display_data"
    },
    {
     "data": {
      "application/vnd.jupyter.widget-view+json": {
       "model_id": "99440eacc647482e91813d62c49701de",
       "version_major": 2,
       "version_minor": 0
      },
      "text/plain": [
       "config.json:   0%|          | 0.00/540 [00:00<?, ?B/s]"
      ]
     },
     "metadata": {},
     "output_type": "display_data"
    },
    {
     "data": {
      "application/vnd.jupyter.widget-view+json": {
       "model_id": "98e15a94c9694fc996918bbde136c882",
       "version_major": 2,
       "version_minor": 0
      },
      "text/plain": [
       "model.safetensors:   0%|          | 0.00/265M [00:00<?, ?B/s]"
      ]
     },
     "metadata": {},
     "output_type": "display_data"
    },
    {
     "data": {
      "application/vnd.jupyter.widget-view+json": {
       "model_id": "bbc3b465c482441d80909fdf2ba7ef7e",
       "version_major": 2,
       "version_minor": 0
      },
      "text/plain": [
       "tokenizer_config.json:   0%|          | 0.00/554 [00:00<?, ?B/s]"
      ]
     },
     "metadata": {},
     "output_type": "display_data"
    },
    {
     "data": {
      "application/vnd.jupyter.widget-view+json": {
       "model_id": "761b8f235d544f5b9e6e7a034dd86775",
       "version_major": 2,
       "version_minor": 0
      },
      "text/plain": [
       "vocab.txt:   0%|          | 0.00/232k [00:00<?, ?B/s]"
      ]
     },
     "metadata": {},
     "output_type": "display_data"
    },
    {
     "data": {
      "application/vnd.jupyter.widget-view+json": {
       "model_id": "4c101be9209a4600a435c62d9f85704b",
       "version_major": 2,
       "version_minor": 0
      },
      "text/plain": [
       "tokenizer.json:   0%|          | 0.00/466k [00:00<?, ?B/s]"
      ]
     },
     "metadata": {},
     "output_type": "display_data"
    },
    {
     "data": {
      "application/vnd.jupyter.widget-view+json": {
       "model_id": "aab9b167869541d5894ea5b46be88c95",
       "version_major": 2,
       "version_minor": 0
      },
      "text/plain": [
       "special_tokens_map.json:   0%|          | 0.00/112 [00:00<?, ?B/s]"
      ]
     },
     "metadata": {},
     "output_type": "display_data"
    },
    {
     "data": {
      "application/vnd.jupyter.widget-view+json": {
       "model_id": "46895b524b8a4ce8a2e83616b2708e6b",
       "version_major": 2,
       "version_minor": 0
      },
      "text/plain": [
       "1_Pooling/config.json:   0%|          | 0.00/190 [00:00<?, ?B/s]"
      ]
     },
     "metadata": {},
     "output_type": "display_data"
    },
    {
     "name": "stdout",
     "output_type": "stream",
     "text": [
      "[0.4387131631374359, 0.14182493090629578]\n"
     ]
    }
   ],
   "source": [
    "from sentence_transformers import SentenceTransformer, util\n",
    "\n",
    "sim_model = SentenceTransformer(\"nq-distilbert-base-v1\")\n",
    "\n",
    "def get_similarity_scores(queries, responses):\n",
    "    \"\"\"\n",
    "    Calculate similarity scores for each pair of sentences from queries and responses.\n",
    "\n",
    "    Args:\n",
    "        queries (list): List of query sentences.\n",
    "        responses (list): List of response sentences.\n",
    "\n",
    "    Returns:\n",
    "        list: List containing similarity scores for each pair.\n",
    "    \"\"\"\n",
    "\n",
    "    # Encode the queries and responses\n",
    "    query_embeddings = sim_model.encode(queries)\n",
    "    response_embeddings = sim_model.encode(responses)\n",
    "\n",
    "    # Calculate similarity scores for each pair\n",
    "    scores = []\n",
    "    for q_embed, r_embed in zip(query_embeddings, response_embeddings):\n",
    "        similarity = util.cos_sim(q_embed, r_embed)\n",
    "        scores.append(similarity.item())\n",
    "\n",
    "    return scores\n",
    "\n",
    "print(get_similarity_scores(['how do you greet someone?', 'how do you greet someone?'], ['tell them hello', 'tell them bye']))"
   ]
  },
  {
   "cell_type": "code",
   "execution_count": null,
   "id": "gsiVBMsC6dpP",
   "metadata": {},
   "outputs": [
    {
     "data": {
      "application/vnd.jupyter.widget-view+json": {
       "model_id": "11a8bd7e946042efbf4cf87fe053637b",
       "version_major": 2,
       "version_minor": 0
      },
      "text/plain": [
       "config.json:   0%|          | 0.00/764 [00:00<?, ?B/s]"
      ]
     },
     "metadata": {},
     "output_type": "display_data"
    },
    {
     "data": {
      "application/vnd.jupyter.widget-view+json": {
       "model_id": "422bac71e5c148e19b1f71e95eab4f3e",
       "version_major": 2,
       "version_minor": 0
      },
      "text/plain": [
       "model.safetensors:   0%|          | 0.00/499M [00:00<?, ?B/s]"
      ]
     },
     "metadata": {},
     "output_type": "display_data"
    },
    {
     "data": {
      "application/vnd.jupyter.widget-view+json": {
       "model_id": "bfee521d753548ec974738485c547c22",
       "version_major": 2,
       "version_minor": 0
      },
      "text/plain": [
       "tokenizer_config.json:   0%|          | 0.00/1.22k [00:00<?, ?B/s]"
      ]
     },
     "metadata": {},
     "output_type": "display_data"
    },
    {
     "data": {
      "application/vnd.jupyter.widget-view+json": {
       "model_id": "bda3ea081aa74657934605f846039d84",
       "version_major": 2,
       "version_minor": 0
      },
      "text/plain": [
       "vocab.json:   0%|          | 0.00/798k [00:00<?, ?B/s]"
      ]
     },
     "metadata": {},
     "output_type": "display_data"
    },
    {
     "data": {
      "application/vnd.jupyter.widget-view+json": {
       "model_id": "685b8c6ab8bc4f9792ddfdf8fb0afc07",
       "version_major": 2,
       "version_minor": 0
      },
      "text/plain": [
       "merges.txt:   0%|          | 0.00/456k [00:00<?, ?B/s]"
      ]
     },
     "metadata": {},
     "output_type": "display_data"
    },
    {
     "data": {
      "application/vnd.jupyter.widget-view+json": {
       "model_id": "8ee2baa8eda3477db1d303533679878a",
       "version_major": 2,
       "version_minor": 0
      },
      "text/plain": [
       "tokenizer.json:   0%|          | 0.00/2.11M [00:00<?, ?B/s]"
      ]
     },
     "metadata": {},
     "output_type": "display_data"
    },
    {
     "data": {
      "application/vnd.jupyter.widget-view+json": {
       "model_id": "828012f0401e48f286275691fba1bdb0",
       "version_major": 2,
       "version_minor": 0
      },
      "text/plain": [
       "special_tokens_map.json:   0%|          | 0.00/280 [00:00<?, ?B/s]"
      ]
     },
     "metadata": {},
     "output_type": "display_data"
    }
   ],
   "source": [
    "reward_model_name = 'profoz/sawyer-llama-reward' # From our rewards notebook\n",
    "\n",
    "reward_pipe = pipeline(\"text-classification\", model=reward_model_name)\n",
    "\n",
    "def get_reward_scores(queries, responses):\n",
    "    scores = []\n",
    "    inputs = [{'text': q, 'text_pair': r} for q, r in zip(queries, responses)]\n",
    "    responses = reward_pipe(\n",
    "        inputs,\n",
    "        function_to_apply='none',\n",
    "        truncation=True,\n",
    "        max_length=511\n",
    "    )\n",
    "    return [_['score'] for _ in responses]\n"
   ]
  },
  {
   "cell_type": "code",
   "execution_count": null,
   "id": "SKTz-QNW6oJI",
   "metadata": {},
   "outputs": [
    {
     "name": "stdout",
     "output_type": "stream",
     "text": [
      "[1.4301540851593018, -0.219132661819458]\n",
      "[-6.883139610290527, -6.443085670471191]\n",
      "[1.0, 0.9999998807907104]\n"
     ]
    }
   ],
   "source": [
    "print(get_cola_scores(['test', 'hi']))\n",
    "print(get_reward_scores(['test', 'hi'], ['test', 'hi']))\n",
    "print(get_similarity_scores(['test', 'hi'], ['test', 'hi']))"
   ]
  },
  {
   "cell_type": "code",
   "execution_count": null,
   "id": "lpQiypfkdQLD",
   "metadata": {},
   "outputs": [
    {
     "data": {
      "text/plain": [
       "{'do_sample': True, 'eos_token_id': 128256, 'pad_token_id': 128256}"
      ]
     },
     "execution_count": 66,
     "metadata": {},
     "output_type": "execute_result"
    }
   ],
   "source": [
    "generation_kwargs"
   ]
  },
  {
   "cell_type": "code",
   "execution_count": null,
   "id": "JHDBxz8EnImz",
   "metadata": {},
   "outputs": [
    {
     "name": "stdout",
     "output_type": "stream",
     "text": [
      "[-6.883139610290527, -6.443085670471191]\n"
     ]
    }
   ],
   "source": [
    "print(get_reward_scores(['test', 'hi'], ['test', 'hi']))\n"
   ]
  },
  {
   "cell_type": "code",
   "execution_count": null,
   "id": "nTXHzfDkNk-0",
   "metadata": {},
   "outputs": [],
   "source": []
  },
  {
   "cell_type": "code",
   "execution_count": null,
   "id": "y3tHFF3bfQMu",
   "metadata": {},
   "outputs": [],
   "source": [
    "ref_model = create_reference_model(model)"
   ]
  },
  {
   "cell_type": "code",
   "execution_count": null,
   "id": "cy1y9nScy9D6",
   "metadata": {},
   "outputs": [
    {
     "data": {
      "application/javascript": [
       "\n",
       "        window._wandbApiKey = new Promise((resolve, reject) => {\n",
       "            function loadScript(url) {\n",
       "            return new Promise(function(resolve, reject) {\n",
       "                let newScript = document.createElement(\"script\");\n",
       "                newScript.onerror = reject;\n",
       "                newScript.onload = resolve;\n",
       "                document.body.appendChild(newScript);\n",
       "                newScript.src = url;\n",
       "            });\n",
       "            }\n",
       "            loadScript(\"https://cdn.jsdelivr.net/npm/postmate/build/postmate.min.js\").then(() => {\n",
       "            const iframe = document.createElement('iframe')\n",
       "            iframe.style.cssText = \"width:0;height:0;border:none\"\n",
       "            document.body.appendChild(iframe)\n",
       "            const handshake = new Postmate({\n",
       "                container: iframe,\n",
       "                url: 'https://wandb.ai/authorize'\n",
       "            });\n",
       "            const timeout = setTimeout(() => reject(\"Couldn't auto authenticate\"), 5000)\n",
       "            handshake.then(function(child) {\n",
       "                child.on('authorize', data => {\n",
       "                    clearTimeout(timeout)\n",
       "                    resolve(data)\n",
       "                });\n",
       "            });\n",
       "            })\n",
       "        });\n",
       "    "
      ],
      "text/plain": [
       "<IPython.core.display.Javascript object>"
      ]
     },
     "metadata": {},
     "output_type": "display_data"
    },
    {
     "name": "stderr",
     "output_type": "stream",
     "text": [
      "\u001b[34m\u001b[1mwandb\u001b[0m: Logging into wandb.ai. (Learn how to deploy a W&B server locally: https://wandb.me/wandb-server)\n",
      "\u001b[34m\u001b[1mwandb\u001b[0m: You can find your API key in your browser here: https://wandb.ai/authorize\n",
      "wandb: Paste an API key from your profile and hit enter, or press ctrl+c to quit:"
     ]
    },
    {
     "name": "stdout",
     "output_type": "stream",
     "text": [
      " ··········\n"
     ]
    },
    {
     "name": "stderr",
     "output_type": "stream",
     "text": [
      "\u001b[34m\u001b[1mwandb\u001b[0m: Appending key for api.wandb.ai to your netrc file: /root/.netrc\n"
     ]
    },
    {
     "data": {
      "text/html": [
       "Tracking run with wandb version 0.16.6"
      ],
      "text/plain": [
       "<IPython.core.display.HTML object>"
      ]
     },
     "metadata": {},
     "output_type": "display_data"
    },
    {
     "data": {
      "text/html": [
       "Run data is saved locally in <code>/content/wandb/run-20240419_182250-jcch7fzx</code>"
      ],
      "text/plain": [
       "<IPython.core.display.HTML object>"
      ]
     },
     "metadata": {},
     "output_type": "display_data"
    },
    {
     "data": {
      "text/html": [
       "Syncing run <strong><a href='https://wandb.ai/profoz/trl/runs/jcch7fzx' target=\"_blank\">lucky-universe-373</a></strong> to <a href='https://wandb.ai/profoz/trl' target=\"_blank\">Weights & Biases</a> (<a href='https://wandb.me/run' target=\"_blank\">docs</a>)<br/>"
      ],
      "text/plain": [
       "<IPython.core.display.HTML object>"
      ]
     },
     "metadata": {},
     "output_type": "display_data"
    },
    {
     "data": {
      "text/html": [
       " View project at <a href='https://wandb.ai/profoz/trl' target=\"_blank\">https://wandb.ai/profoz/trl</a>"
      ],
      "text/plain": [
       "<IPython.core.display.HTML object>"
      ]
     },
     "metadata": {},
     "output_type": "display_data"
    },
    {
     "data": {
      "text/html": [
       " View run at <a href='https://wandb.ai/profoz/trl/runs/jcch7fzx' target=\"_blank\">https://wandb.ai/profoz/trl/runs/jcch7fzx</a>"
      ],
      "text/plain": [
       "<IPython.core.display.HTML object>"
      ]
     },
     "metadata": {},
     "output_type": "display_data"
    }
   ],
   "source": [
    "ppo_config = PPOConfig(\n",
    "    model_name='sawyer_rl',\n",
    "    learning_rate=1.41e-5,\n",
    "    batch_size=8,\n",
    "    gradient_accumulation_steps=4,\n",
    "    ppo_epochs=2,\n",
    "    seed=42,\n",
    "    log_with=\"wandb\",\n",
    "    optimize_cuda_cache=True,\n",
    "    early_stopping=True\n",
    ")\n",
    "\n",
    "ppo_trainer = PPOTrainer(\n",
    "    ppo_config,\n",
    "    model,\n",
    "    ref_model=ref_model,\n",
    "    tokenizer=tokenizer,\n",
    "    dataset=dolly['train'],\n",
    "    data_collator=collator,\n",
    ")"
   ]
  },
  {
   "cell_type": "code",
   "execution_count": null,
   "id": "_MuJ3SCVJDaq",
   "metadata": {},
   "outputs": [],
   "source": [
    "def make_test_scores(model):\n",
    "    test_scores = {'reward': [], 'cola': [], 'responses': [], 'queries': [], 'similarity': []}\n",
    "    for input_ids in tqdm(dolly['test']['input_ids']):\n",
    "        response = model.generate(\n",
    "            input_ids=input_ids.to(device), **generation_kwargs,\n",
    "            max_new_tokens=256\n",
    "        )\n",
    "        response = tokenizer.decode(response[0])\n",
    "        try:\n",
    "            cleaned_query = response.split(EXTRA_TOKENS['bot_token']['token'])[0].split(EXTRA_TOKENS['human_token']['token'])[1]\n",
    "            cleaned_response = response.split(EXTRA_TOKENS['bot_token']['token'])[1].split(EXTRA_TOKENS['stop_token']['token'])[0]\n",
    "\n",
    "            r = get_reward_scores(\n",
    "                queries=[cleaned_query],\n",
    "                responses=[cleaned_response]\n",
    "            )\n",
    "            c = get_cola_scores(\n",
    "                [cleaned_response]\n",
    "            )\n",
    "            s = get_similarity_scores(\n",
    "                queries=[cleaned_query],\n",
    "                responses=[cleaned_response]\n",
    "            )\n",
    "\n",
    "            test_scores['reward'] += r\n",
    "            test_scores['cola'] +=  c\n",
    "            test_scores['similarity'] += s\n",
    "\n",
    "            test_scores['responses'].append(cleaned_response)\n",
    "            test_scores['queries'].append(cleaned_query)\n",
    "\n",
    "\n",
    "        except Exception as e:\n",
    "            print(f'response: {response}. Error: {e}')\n",
    "\n",
    "    return test_scores\n"
   ]
  },
  {
   "cell_type": "code",
   "execution_count": null,
   "id": "qdoR4gx3IRsy",
   "metadata": {},
   "outputs": [
    {
     "data": {
      "text/plain": [
       "{'instruction': 'What is the difference between solar power and hydrogen fuel cell?  What are the advantages of hydrogen?',\n",
       " 'context': '',\n",
       " 'response': 'Solar captures the harvesting of the sun while hydrogen is the osmosis process of extracting the hydrogen cells to create energy.  Hydrogen allows for a more consistent energy source while also enabling higher load generation over solar.',\n",
       " 'category': 'general_qa',\n",
       " 'input_ids': tensor([[128257,   3639,    374,    279,   6811,   1990,  13238,   2410,    323,\n",
       "           35784,  10633,   2849,     30,    220,   3639,    527,    279,  22934,\n",
       "             315,  35784,     30,    220, 128258]]),\n",
       " 'attention_mask': tensor([[1, 1, 1, 1, 1, 1, 1, 1, 1, 1, 1, 1, 1, 1, 1, 1, 1, 1, 1, 1, 1, 1, 1]]),\n",
       " 'input_text': '###HUMAN### What is the difference between solar power and hydrogen fuel cell?  What are the advantages of hydrogen? ###BOT###',\n",
       " 'formatted_convo': '###HUMAN### What is the difference between solar power and hydrogen fuel cell?  What are the advantages of hydrogen? ###BOT###'}"
      ]
     },
     "execution_count": 69,
     "metadata": {},
     "output_type": "execute_result"
    }
   ],
   "source": [
    "dolly['test'][4]"
   ]
  },
  {
   "cell_type": "code",
   "execution_count": null,
   "id": "zW2h1m2PK5g5",
   "metadata": {},
   "outputs": [
    {
     "data": {
      "application/vnd.jupyter.widget-view+json": {
       "model_id": "13a2b28e139245e8af82e033ad996d7e",
       "version_major": 2,
       "version_minor": 0
      },
      "text/plain": [
       "  0%|          | 0/200 [00:00<?, ?it/s]"
      ]
     },
     "metadata": {},
     "output_type": "display_data"
    },
    {
     "name": "stdout",
     "output_type": "stream",
     "text": [
      "           reward        cola  similarity\n",
      "count  200.000000  200.000000  200.000000\n",
      "mean     5.702665    1.142447    0.601367\n",
      "std      3.518846    0.485328    0.229995\n",
      "min     -6.876436   -0.726761    0.022396\n",
      "25%      5.586220    0.923370    0.474002\n",
      "50%      7.444443    1.250957    0.656341\n",
      "75%      7.783892    1.481098    0.792025\n",
      "max      7.938239    1.993711    0.961914\n"
     ]
    },
    {
     "data": {
      "application/vnd.google.colaboratory.intrinsic+json": {
       "summary": "{\n  \"name\": \"pd\",\n  \"rows\": 10,\n  \"fields\": [\n    {\n      \"column\": \"reward\",\n      \"properties\": {\n        \"dtype\": \"number\",\n        \"std\": 1.2451244107367254,\n        \"min\": 4.091623306274414,\n        \"max\": 7.921837329864502,\n        \"num_unique_values\": 10,\n        \"samples\": [\n          7.572844982147217,\n          7.837704658508301,\n          7.921837329864502\n        ],\n        \"semantic_type\": \"\",\n        \"description\": \"\"\n      }\n    },\n    {\n      \"column\": \"cola\",\n      \"properties\": {\n        \"dtype\": \"number\",\n        \"std\": 0.4831944271080677,\n        \"min\": -0.112613745033741,\n        \"max\": 1.4252971410751343,\n        \"num_unique_values\": 10,\n        \"samples\": [\n          1.3398768901824951,\n          0.5862835645675659,\n          1.4125480651855469\n        ],\n        \"semantic_type\": \"\",\n        \"description\": \"\"\n      }\n    },\n    {\n      \"column\": \"responses\",\n      \"properties\": {\n        \"dtype\": \"string\",\n        \"num_unique_values\": 10,\n        \"samples\": [\n          \" According to Wikipedia, the Summer Breeze Open Air festival has been held every year since 1997, except in 2009, 2020 and 2021 due to the coronavirus pandemic. The website lists the number of attendees as approximately 40,000.\\n\\nSource: [Wikipedia](https://en.wikipedia.org/wiki/Summer_Breeze_Open_Air) \",\n          \" When doing meal prep efficiently, there are several things you can do to make the process easier. First, plan out your meals ahead of time. This will help you figure out what ingredients you will need, which will make shopping more efficient.\\n\\nSecondly, chop up your ingredients in advance. This will save you time later when you are actually cooking, and will also make it easier to portion out portions.\\n\\nIn addition to these tips, there are some specific cooking techniques that can help you make meal prep easier. One option is to use a slow cooker or Instant Pot when preparing dishes. These devices can automate the cooking process, which is especially helpful if you have a busy schedule.\\n\\nAnother technique is to use a food processor or blender to take care of chopping, mixing, and blending. If you have extra time on the weekend, you can make big batches of cooked grains or veggies and freeze them for later use.\\n\\nUse spices and herbs to add flavor without a lot of time and effort in the kitchen. Spice mixes like curry powder, taco seasoning, and Italian seasoning make it quick and easy to add flavor to a meal.\\n\\nBy following these tips, meal prep can be a breeze, saving you time and energy in the kitchen. The most important thing is to be organized, plan\",\n          \" Southern France and Spain are excellent places for a family vacation in western Europe, offering a variety of sightseeing opportunities, outdoor activities, and cultural experiences. Brittany and Normandy are also popular destinations for families, with their stunning beaches, medieval castles, and charming villages. Other options include the Basque region of Spain, the Italian Riviera, and coastal Portugal. Regardless of the specific destination, it's important to ensure that accommodations and activities are appropriate for the ages and interests of your family members. \"\n        ],\n        \"semantic_type\": \"\",\n        \"description\": \"\"\n      }\n    },\n    {\n      \"column\": \"queries\",\n      \"properties\": {\n        \"dtype\": \"string\",\n        \"num_unique_values\": 10,\n        \"samples\": [\n          \" How many people attended the Summer Breeze Open Air?\\n\\nSummer Breeze Open Air is an annual German heavy metal music festival. It was first held in 1997. The festival had been held in Abtsgm\\u00fcnd until 2006 when it was moved to its new location of Dinkelsb\\u00fchl, Bavaria. The festival draws around 40,000 attendees annually. \",\n          \" How do you do meal prep efficiently and make cooking easy? \",\n          \" What is the best location for a family vacation in western Europe? \"\n        ],\n        \"semantic_type\": \"\",\n        \"description\": \"\"\n      }\n    },\n    {\n      \"column\": \"similarity\",\n      \"properties\": {\n        \"dtype\": \"number\",\n        \"std\": 0.24441215398577046,\n        \"min\": 0.16802628338336945,\n        \"max\": 0.8306224942207336,\n        \"num_unique_values\": 10,\n        \"samples\": [\n          0.5472739338874817,\n          0.8149393796920776,\n          0.7252047061920166\n        ],\n        \"semantic_type\": \"\",\n        \"description\": \"\"\n      }\n    }\n  ]\n}",
       "type": "dataframe"
      },
      "text/html": [
       "\n",
       "  <div id=\"df-11ab615d-94be-4502-8e07-4dbcc84dac88\" class=\"colab-df-container\">\n",
       "    <div>\n",
       "<style scoped>\n",
       "    .dataframe tbody tr th:only-of-type {\n",
       "        vertical-align: middle;\n",
       "    }\n",
       "\n",
       "    .dataframe tbody tr th {\n",
       "        vertical-align: top;\n",
       "    }\n",
       "\n",
       "    .dataframe thead th {\n",
       "        text-align: right;\n",
       "    }\n",
       "</style>\n",
       "<table border=\"1\" class=\"dataframe\">\n",
       "  <thead>\n",
       "    <tr style=\"text-align: right;\">\n",
       "      <th></th>\n",
       "      <th>reward</th>\n",
       "      <th>cola</th>\n",
       "      <th>responses</th>\n",
       "      <th>queries</th>\n",
       "      <th>similarity</th>\n",
       "    </tr>\n",
       "  </thead>\n",
       "  <tbody>\n",
       "    <tr>\n",
       "      <th>0</th>\n",
       "      <td>7.111549</td>\n",
       "      <td>0.909536</td>\n",
       "      <td>VCF (Variant Call Format) is a file format us...</td>\n",
       "      <td>What is VCF?</td>\n",
       "      <td>0.446424</td>\n",
       "    </tr>\n",
       "    <tr>\n",
       "      <th>1</th>\n",
       "      <td>7.837705</td>\n",
       "      <td>0.586284</td>\n",
       "      <td>When doing meal prep efficiently, there are s...</td>\n",
       "      <td>How do you do meal prep efficiently and make ...</td>\n",
       "      <td>0.814939</td>\n",
       "    </tr>\n",
       "    <tr>\n",
       "      <th>2</th>\n",
       "      <td>6.141927</td>\n",
       "      <td>-0.112614</td>\n",
       "      <td>Colorado, Washington.</td>\n",
       "      <td>Tell me which of these States' shapes have ex...</td>\n",
       "      <td>0.208697</td>\n",
       "    </tr>\n",
       "    <tr>\n",
       "      <th>3</th>\n",
       "      <td>7.865098</td>\n",
       "      <td>1.149171</td>\n",
       "      <td>Yes, many RVs have bathrooms and some types o...</td>\n",
       "      <td>Do RVs have bathrooms?</td>\n",
       "      <td>0.830622</td>\n",
       "    </tr>\n",
       "    <tr>\n",
       "      <th>4</th>\n",
       "      <td>7.778332</td>\n",
       "      <td>1.425297</td>\n",
       "      <td>Solar power is a renewable energy that conver...</td>\n",
       "      <td>What is the difference between solar power an...</td>\n",
       "      <td>0.814308</td>\n",
       "    </tr>\n",
       "    <tr>\n",
       "      <th>5</th>\n",
       "      <td>7.921837</td>\n",
       "      <td>1.412548</td>\n",
       "      <td>Southern France and Spain are excellent place...</td>\n",
       "      <td>What is the best location for a family vacati...</td>\n",
       "      <td>0.725205</td>\n",
       "    </tr>\n",
       "    <tr>\n",
       "      <th>6</th>\n",
       "      <td>7.908982</td>\n",
       "      <td>1.335448</td>\n",
       "      <td>Rapid economic growth in Libya prior to 1990 ...</td>\n",
       "      <td>What enabled Libya to obtain rapid economic g...</td>\n",
       "      <td>0.700436</td>\n",
       "    </tr>\n",
       "    <tr>\n",
       "      <th>7</th>\n",
       "      <td>4.091623</td>\n",
       "      <td>0.700383</td>\n",
       "      <td>Sure, I can help you plan a first date in San...</td>\n",
       "      <td>Help plan a first date in San Francisco</td>\n",
       "      <td>0.528415</td>\n",
       "    </tr>\n",
       "    <tr>\n",
       "      <th>8</th>\n",
       "      <td>7.572845</td>\n",
       "      <td>1.339877</td>\n",
       "      <td>According to Wikipedia, the Summer Breeze Ope...</td>\n",
       "      <td>How many people attended the Summer Breeze Op...</td>\n",
       "      <td>0.547274</td>\n",
       "    </tr>\n",
       "    <tr>\n",
       "      <th>9</th>\n",
       "      <td>6.162791</td>\n",
       "      <td>0.980713</td>\n",
       "      <td>Tortola, Virgin Gorda, Anegada, and Jost van ...</td>\n",
       "      <td>What are the four largest British Virgin Isla...</td>\n",
       "      <td>0.168026</td>\n",
       "    </tr>\n",
       "  </tbody>\n",
       "</table>\n",
       "</div>\n",
       "    <div class=\"colab-df-buttons\">\n",
       "\n",
       "  <div class=\"colab-df-container\">\n",
       "    <button class=\"colab-df-convert\" onclick=\"convertToInteractive('df-11ab615d-94be-4502-8e07-4dbcc84dac88')\"\n",
       "            title=\"Convert this dataframe to an interactive table.\"\n",
       "            style=\"display:none;\">\n",
       "\n",
       "  <svg xmlns=\"http://www.w3.org/2000/svg\" height=\"24px\" viewBox=\"0 -960 960 960\">\n",
       "    <path d=\"M120-120v-720h720v720H120Zm60-500h600v-160H180v160Zm220 220h160v-160H400v160Zm0 220h160v-160H400v160ZM180-400h160v-160H180v160Zm440 0h160v-160H620v160ZM180-180h160v-160H180v160Zm440 0h160v-160H620v160Z\"/>\n",
       "  </svg>\n",
       "    </button>\n",
       "\n",
       "  <style>\n",
       "    .colab-df-container {\n",
       "      display:flex;\n",
       "      gap: 12px;\n",
       "    }\n",
       "\n",
       "    .colab-df-convert {\n",
       "      background-color: #E8F0FE;\n",
       "      border: none;\n",
       "      border-radius: 50%;\n",
       "      cursor: pointer;\n",
       "      display: none;\n",
       "      fill: #1967D2;\n",
       "      height: 32px;\n",
       "      padding: 0 0 0 0;\n",
       "      width: 32px;\n",
       "    }\n",
       "\n",
       "    .colab-df-convert:hover {\n",
       "      background-color: #E2EBFA;\n",
       "      box-shadow: 0px 1px 2px rgba(60, 64, 67, 0.3), 0px 1px 3px 1px rgba(60, 64, 67, 0.15);\n",
       "      fill: #174EA6;\n",
       "    }\n",
       "\n",
       "    .colab-df-buttons div {\n",
       "      margin-bottom: 4px;\n",
       "    }\n",
       "\n",
       "    [theme=dark] .colab-df-convert {\n",
       "      background-color: #3B4455;\n",
       "      fill: #D2E3FC;\n",
       "    }\n",
       "\n",
       "    [theme=dark] .colab-df-convert:hover {\n",
       "      background-color: #434B5C;\n",
       "      box-shadow: 0px 1px 3px 1px rgba(0, 0, 0, 0.15);\n",
       "      filter: drop-shadow(0px 1px 2px rgba(0, 0, 0, 0.3));\n",
       "      fill: #FFFFFF;\n",
       "    }\n",
       "  </style>\n",
       "\n",
       "    <script>\n",
       "      const buttonEl =\n",
       "        document.querySelector('#df-11ab615d-94be-4502-8e07-4dbcc84dac88 button.colab-df-convert');\n",
       "      buttonEl.style.display =\n",
       "        google.colab.kernel.accessAllowed ? 'block' : 'none';\n",
       "\n",
       "      async function convertToInteractive(key) {\n",
       "        const element = document.querySelector('#df-11ab615d-94be-4502-8e07-4dbcc84dac88');\n",
       "        const dataTable =\n",
       "          await google.colab.kernel.invokeFunction('convertToInteractive',\n",
       "                                                    [key], {});\n",
       "        if (!dataTable) return;\n",
       "\n",
       "        const docLinkHtml = 'Like what you see? Visit the ' +\n",
       "          '<a target=\"_blank\" href=https://colab.research.google.com/notebooks/data_table.ipynb>data table notebook</a>'\n",
       "          + ' to learn more about interactive tables.';\n",
       "        element.innerHTML = '';\n",
       "        dataTable['output_type'] = 'display_data';\n",
       "        await google.colab.output.renderOutput(dataTable, element);\n",
       "        const docLink = document.createElement('div');\n",
       "        docLink.innerHTML = docLinkHtml;\n",
       "        element.appendChild(docLink);\n",
       "      }\n",
       "    </script>\n",
       "  </div>\n",
       "\n",
       "\n",
       "<div id=\"df-132063bb-399e-4dce-9187-c627535e6bfd\">\n",
       "  <button class=\"colab-df-quickchart\" onclick=\"quickchart('df-132063bb-399e-4dce-9187-c627535e6bfd')\"\n",
       "            title=\"Suggest charts\"\n",
       "            style=\"display:none;\">\n",
       "\n",
       "<svg xmlns=\"http://www.w3.org/2000/svg\" height=\"24px\"viewBox=\"0 0 24 24\"\n",
       "     width=\"24px\">\n",
       "    <g>\n",
       "        <path d=\"M19 3H5c-1.1 0-2 .9-2 2v14c0 1.1.9 2 2 2h14c1.1 0 2-.9 2-2V5c0-1.1-.9-2-2-2zM9 17H7v-7h2v7zm4 0h-2V7h2v10zm4 0h-2v-4h2v4z\"/>\n",
       "    </g>\n",
       "</svg>\n",
       "  </button>\n",
       "\n",
       "<style>\n",
       "  .colab-df-quickchart {\n",
       "      --bg-color: #E8F0FE;\n",
       "      --fill-color: #1967D2;\n",
       "      --hover-bg-color: #E2EBFA;\n",
       "      --hover-fill-color: #174EA6;\n",
       "      --disabled-fill-color: #AAA;\n",
       "      --disabled-bg-color: #DDD;\n",
       "  }\n",
       "\n",
       "  [theme=dark] .colab-df-quickchart {\n",
       "      --bg-color: #3B4455;\n",
       "      --fill-color: #D2E3FC;\n",
       "      --hover-bg-color: #434B5C;\n",
       "      --hover-fill-color: #FFFFFF;\n",
       "      --disabled-bg-color: #3B4455;\n",
       "      --disabled-fill-color: #666;\n",
       "  }\n",
       "\n",
       "  .colab-df-quickchart {\n",
       "    background-color: var(--bg-color);\n",
       "    border: none;\n",
       "    border-radius: 50%;\n",
       "    cursor: pointer;\n",
       "    display: none;\n",
       "    fill: var(--fill-color);\n",
       "    height: 32px;\n",
       "    padding: 0;\n",
       "    width: 32px;\n",
       "  }\n",
       "\n",
       "  .colab-df-quickchart:hover {\n",
       "    background-color: var(--hover-bg-color);\n",
       "    box-shadow: 0 1px 2px rgba(60, 64, 67, 0.3), 0 1px 3px 1px rgba(60, 64, 67, 0.15);\n",
       "    fill: var(--button-hover-fill-color);\n",
       "  }\n",
       "\n",
       "  .colab-df-quickchart-complete:disabled,\n",
       "  .colab-df-quickchart-complete:disabled:hover {\n",
       "    background-color: var(--disabled-bg-color);\n",
       "    fill: var(--disabled-fill-color);\n",
       "    box-shadow: none;\n",
       "  }\n",
       "\n",
       "  .colab-df-spinner {\n",
       "    border: 2px solid var(--fill-color);\n",
       "    border-color: transparent;\n",
       "    border-bottom-color: var(--fill-color);\n",
       "    animation:\n",
       "      spin 1s steps(1) infinite;\n",
       "  }\n",
       "\n",
       "  @keyframes spin {\n",
       "    0% {\n",
       "      border-color: transparent;\n",
       "      border-bottom-color: var(--fill-color);\n",
       "      border-left-color: var(--fill-color);\n",
       "    }\n",
       "    20% {\n",
       "      border-color: transparent;\n",
       "      border-left-color: var(--fill-color);\n",
       "      border-top-color: var(--fill-color);\n",
       "    }\n",
       "    30% {\n",
       "      border-color: transparent;\n",
       "      border-left-color: var(--fill-color);\n",
       "      border-top-color: var(--fill-color);\n",
       "      border-right-color: var(--fill-color);\n",
       "    }\n",
       "    40% {\n",
       "      border-color: transparent;\n",
       "      border-right-color: var(--fill-color);\n",
       "      border-top-color: var(--fill-color);\n",
       "    }\n",
       "    60% {\n",
       "      border-color: transparent;\n",
       "      border-right-color: var(--fill-color);\n",
       "    }\n",
       "    80% {\n",
       "      border-color: transparent;\n",
       "      border-right-color: var(--fill-color);\n",
       "      border-bottom-color: var(--fill-color);\n",
       "    }\n",
       "    90% {\n",
       "      border-color: transparent;\n",
       "      border-bottom-color: var(--fill-color);\n",
       "    }\n",
       "  }\n",
       "</style>\n",
       "\n",
       "  <script>\n",
       "    async function quickchart(key) {\n",
       "      const quickchartButtonEl =\n",
       "        document.querySelector('#' + key + ' button');\n",
       "      quickchartButtonEl.disabled = true;  // To prevent multiple clicks.\n",
       "      quickchartButtonEl.classList.add('colab-df-spinner');\n",
       "      try {\n",
       "        const charts = await google.colab.kernel.invokeFunction(\n",
       "            'suggestCharts', [key], {});\n",
       "      } catch (error) {\n",
       "        console.error('Error during call to suggestCharts:', error);\n",
       "      }\n",
       "      quickchartButtonEl.classList.remove('colab-df-spinner');\n",
       "      quickchartButtonEl.classList.add('colab-df-quickchart-complete');\n",
       "    }\n",
       "    (() => {\n",
       "      let quickchartButtonEl =\n",
       "        document.querySelector('#df-132063bb-399e-4dce-9187-c627535e6bfd button');\n",
       "      quickchartButtonEl.style.display =\n",
       "        google.colab.kernel.accessAllowed ? 'block' : 'none';\n",
       "    })();\n",
       "  </script>\n",
       "</div>\n",
       "\n",
       "    </div>\n",
       "  </div>\n"
      ],
      "text/plain": [
       "     reward      cola                                          responses  \\\n",
       "0  7.111549  0.909536   VCF (Variant Call Format) is a file format us...   \n",
       "1  7.837705  0.586284   When doing meal prep efficiently, there are s...   \n",
       "2  6.141927 -0.112614                             Colorado, Washington.    \n",
       "3  7.865098  1.149171   Yes, many RVs have bathrooms and some types o...   \n",
       "4  7.778332  1.425297   Solar power is a renewable energy that conver...   \n",
       "5  7.921837  1.412548   Southern France and Spain are excellent place...   \n",
       "6  7.908982  1.335448   Rapid economic growth in Libya prior to 1990 ...   \n",
       "7  4.091623  0.700383   Sure, I can help you plan a first date in San...   \n",
       "8  7.572845  1.339877   According to Wikipedia, the Summer Breeze Ope...   \n",
       "9  6.162791  0.980713   Tortola, Virgin Gorda, Anegada, and Jost van ...   \n",
       "\n",
       "                                             queries  similarity  \n",
       "0                                      What is VCF?     0.446424  \n",
       "1   How do you do meal prep efficiently and make ...    0.814939  \n",
       "2   Tell me which of these States' shapes have ex...    0.208697  \n",
       "3                            Do RVs have bathrooms?     0.830622  \n",
       "4   What is the difference between solar power an...    0.814308  \n",
       "5   What is the best location for a family vacati...    0.725205  \n",
       "6   What enabled Libya to obtain rapid economic g...    0.700436  \n",
       "7           Help plan a first date in San Francisco     0.528415  \n",
       "8   How many people attended the Summer Breeze Op...    0.547274  \n",
       "9   What are the four largest British Virgin Isla...    0.168026  "
      ]
     },
     "execution_count": 70,
     "metadata": {},
     "output_type": "execute_result"
    }
   ],
   "source": [
    "old_scores = make_test_scores(model)\n",
    "print(pd.DataFrame(old_scores).describe())\n",
    "\n",
    "pd.DataFrame(old_scores).head(10)"
   ]
  },
  {
   "cell_type": "code",
   "execution_count": null,
   "id": "D2-TDpyggd-L",
   "metadata": {},
   "outputs": [],
   "source": [
    "torch.cuda.empty_cache()"
   ]
  },
  {
   "cell_type": "code",
   "execution_count": null,
   "id": "S4RLkKESRjqJ",
   "metadata": {},
   "outputs": [
    {
     "data": {
      "text/plain": [
       "(227, 4)"
      ]
     },
     "execution_count": 72,
     "metadata": {},
     "output_type": "execute_result"
    }
   ],
   "source": [
    "class LengthSampler:\n",
    "    def __init__(self, min_value, max_value):\n",
    "        self.values = list(range(min_value, max_value))\n",
    "    def __call__(self):\n",
    "        return int(np.random.choice(self.values))\n",
    "\n",
    "max_output_size = LengthSampler(128, 256)\n",
    "min_output_size = LengthSampler(2, 8)\n",
    "\n",
    "max_output_size(), min_output_size()"
   ]
  },
  {
   "cell_type": "code",
   "execution_count": null,
   "id": "ta-Um_etoDms",
   "metadata": {},
   "outputs": [],
   "source": [
    "def combine_reward_and_sim(r, s):\n",
    "    if s < 0 and r < 0:\n",
    "        return -(r * s)\n",
    "    else:\n",
    "        return r * s"
   ]
  },
  {
   "cell_type": "code",
   "execution_count": null,
   "id": "VYlQLxsI9FA9",
   "metadata": {},
   "outputs": [],
   "source": [
    "# Future work: replace with another LLM supervising, maybe even sawyer itself to use as red teaming?"
   ]
  },
  {
   "cell_type": "code",
   "execution_count": null,
   "id": "ePH5OvYPiunD",
   "metadata": {},
   "outputs": [
    {
     "data": {
      "application/vnd.google.colaboratory.intrinsic+json": {
       "type": "string"
      },
      "text/plain": [
       "'###STOP###'"
      ]
     },
     "execution_count": 75,
     "metadata": {},
     "output_type": "execute_result"
    }
   ],
   "source": [
    "EXTRA_TOKENS['stop_token']['token']"
   ]
  },
  {
   "cell_type": "code",
   "execution_count": null,
   "id": "f7546817",
   "metadata": {},
   "outputs": [
    {
     "data": {
      "application/vnd.jupyter.widget-view+json": {
       "model_id": "58e9c4547bbf4e8ca89be4dd0d663c30",
       "version_major": 2,
       "version_minor": 0
      },
      "text/plain": [
       "  0%|          | 0/2 [00:00<?, ?it/s]"
      ]
     },
     "metadata": {},
     "output_type": "display_data"
    },
    {
     "data": {
      "application/vnd.jupyter.widget-view+json": {
       "model_id": "c0eb7ebbe3054d75927f534bd3414b05",
       "version_major": 2,
       "version_minor": 0
      },
      "text/plain": [
       "  0%|          | 0/225 [00:00<?, ?it/s]"
      ]
     },
     "metadata": {},
     "output_type": "display_data"
    },
    {
     "data": {
      "application/vnd.jupyter.widget-view+json": {
       "model_id": "6155dcd75e494beda8d9cf8c2dd35b89",
       "version_major": 2,
       "version_minor": 0
      },
      "text/plain": [
       "  0%|          | 0/225 [00:00<?, ?it/s]"
      ]
     },
     "metadata": {},
     "output_type": "display_data"
    }
   ],
   "source": [
    "steps = 0\n",
    "rlhf_repo_name = 'sawyer-llama-3-rlf'\n",
    "QUERY_KEY = EXTRA_TOKENS['human_token']['token']\n",
    "RESPONSE_KEY = EXTRA_TOKENS['bot_token']['token']\n",
    "\n",
    "for epoch in tqdm(range(ppo_config.ppo_epochs)):\n",
    "    ppo_trainer.dataset = ppo_trainer.dataset.shuffle() # shuffle every epoch!\n",
    "    for batch in tqdm(ppo_trainer.dataloader):\n",
    "        batch['response'] = []\n",
    "        batch['query'] = []\n",
    "        batch['rewards'] = []\n",
    "        response_tensors = []\n",
    "        for input_ids in batch[\"input_ids\"]:\n",
    "            generation_kwargs.update({'max_new_tokens': max_output_size()})\n",
    "            generation_kwargs.update({'min_new_tokens': min_output_size()})\n",
    "            batch['query'].append(\n",
    "                tokenizer.batch_decode(input_ids, skip_special_tokens=False)[0].split(QUERY_KEY)[1].split(RESPONSE_KEY)[0].strip())\n",
    "            response_tensor = ppo_trainer.generate(\n",
    "                input_ids.squeeze(), return_prompt=False, **generation_kwargs,\n",
    "            )\n",
    "            batch['response'].append(tokenizer.batch_decode(response_tensor, skip_special_tokens=True)[0].replace(EXTRA_TOKENS['stop_token']['token'], ''))\n",
    "            response_tensors.append(response_tensor.squeeze())\n",
    "        # Run PPO step\n",
    "        try:\n",
    "            batch['reward_score'] = get_reward_scores(batch['query'], batch['response'])\n",
    "            # ONLY USING our reward mechanism here\n",
    "\n",
    "            # uncomment this and the line below to use all three\n",
    "            # batch['cola_score'] = get_cola_scores(batch['response'])\n",
    "            # batch['similarity_score'] = get_similarity_scores(batch['query'], batch['response'])\n",
    "        except Exception as e:\n",
    "            print('Skipping batch', e)\n",
    "            print(batch)\n",
    "            continue\n",
    "\n",
    "        batch['rewards'] = [torch.tensor(r) for r in batch['reward_score']]\n",
    "        # batch['rewards'] = [torch.tensor(combine_reward_and_sim(r, s) + 0.5 * c) for r, c, s in zip(batch['reward_score'], batch['cola_score'], batch['similarity_score'])]\n",
    "\n",
    "        stats = ppo_trainer.step([_.squeeze() for _ in batch[\"input_ids\"]], response_tensors, batch['rewards'])\n",
    "        ppo_trainer.log_stats(stats, batch, batch['rewards'])\n",
    "\n",
    "        steps += 1"
   ]
  },
  {
   "cell_type": "code",
   "execution_count": null,
   "id": "VXlb4mi2y-io",
   "metadata": {},
   "outputs": [],
   "source": []
  },
  {
   "cell_type": "code",
   "execution_count": null,
   "id": "pDXe9ascr1lF",
   "metadata": {},
   "outputs": [
    {
     "data": {
      "application/vnd.jupyter.widget-view+json": {
       "model_id": "d5ce596de54041728bca2b51c358cf3e",
       "version_major": 2,
       "version_minor": 0
      },
      "text/plain": [
       "  0%|          | 0/200 [00:00<?, ?it/s]"
      ]
     },
     "metadata": {},
     "output_type": "display_data"
    },
    {
     "data": {
      "application/vnd.google.colaboratory.intrinsic+json": {
       "summary": "{\n  \"name\": \"pd\",\n  \"rows\": 8,\n  \"fields\": [\n    {\n      \"column\": \"reward\",\n      \"properties\": {\n        \"dtype\": \"number\",\n        \"std\": 69.12496471241086,\n        \"min\": -4.915857315063477,\n        \"max\": 200.0,\n        \"num_unique_values\": 8,\n        \"samples\": [\n          6.924859007038176,\n          7.597067594528198,\n          200.0\n        ],\n        \"semantic_type\": \"\",\n        \"description\": \"\"\n      }\n    },\n    {\n      \"column\": \"cola\",\n      \"properties\": {\n        \"dtype\": \"number\",\n        \"std\": 70.42816176428319,\n        \"min\": -1.1883686780929565,\n        \"max\": 200.0,\n        \"num_unique_values\": 8,\n        \"samples\": [\n          1.0497603712044656,\n          1.1417970657348633,\n          200.0\n        ],\n        \"semantic_type\": \"\",\n        \"description\": \"\"\n      }\n    },\n    {\n      \"column\": \"similarity\",\n      \"properties\": {\n        \"dtype\": \"number\",\n        \"std\": 70.52807752555096,\n        \"min\": 0.15844853222370148,\n        \"max\": 200.0,\n        \"num_unique_values\": 8,\n        \"samples\": [\n          0.5879347220063209,\n          0.5986984074115753,\n          200.0\n        ],\n        \"semantic_type\": \"\",\n        \"description\": \"\"\n      }\n    }\n  ]\n}",
       "type": "dataframe"
      },
      "text/html": [
       "\n",
       "  <div id=\"df-fb99ada6-a3a3-40b1-84ad-99f4f916cc28\" class=\"colab-df-container\">\n",
       "    <div>\n",
       "<style scoped>\n",
       "    .dataframe tbody tr th:only-of-type {\n",
       "        vertical-align: middle;\n",
       "    }\n",
       "\n",
       "    .dataframe tbody tr th {\n",
       "        vertical-align: top;\n",
       "    }\n",
       "\n",
       "    .dataframe thead th {\n",
       "        text-align: right;\n",
       "    }\n",
       "</style>\n",
       "<table border=\"1\" class=\"dataframe\">\n",
       "  <thead>\n",
       "    <tr style=\"text-align: right;\">\n",
       "      <th></th>\n",
       "      <th>reward</th>\n",
       "      <th>cola</th>\n",
       "      <th>similarity</th>\n",
       "    </tr>\n",
       "  </thead>\n",
       "  <tbody>\n",
       "    <tr>\n",
       "      <th>count</th>\n",
       "      <td>200.000000</td>\n",
       "      <td>200.000000</td>\n",
       "      <td>200.000000</td>\n",
       "    </tr>\n",
       "    <tr>\n",
       "      <th>mean</th>\n",
       "      <td>6.924859</td>\n",
       "      <td>1.049760</td>\n",
       "      <td>0.587935</td>\n",
       "    </tr>\n",
       "    <tr>\n",
       "      <th>std</th>\n",
       "      <td>1.858197</td>\n",
       "      <td>0.556134</td>\n",
       "      <td>0.168621</td>\n",
       "    </tr>\n",
       "    <tr>\n",
       "      <th>min</th>\n",
       "      <td>-4.915857</td>\n",
       "      <td>-1.188369</td>\n",
       "      <td>0.158449</td>\n",
       "    </tr>\n",
       "    <tr>\n",
       "      <th>25%</th>\n",
       "      <td>7.059830</td>\n",
       "      <td>0.771734</td>\n",
       "      <td>0.470924</td>\n",
       "    </tr>\n",
       "    <tr>\n",
       "      <th>50%</th>\n",
       "      <td>7.597068</td>\n",
       "      <td>1.141797</td>\n",
       "      <td>0.598698</td>\n",
       "    </tr>\n",
       "    <tr>\n",
       "      <th>75%</th>\n",
       "      <td>7.799540</td>\n",
       "      <td>1.462207</td>\n",
       "      <td>0.718332</td>\n",
       "    </tr>\n",
       "    <tr>\n",
       "      <th>max</th>\n",
       "      <td>7.922405</td>\n",
       "      <td>1.918363</td>\n",
       "      <td>0.921735</td>\n",
       "    </tr>\n",
       "  </tbody>\n",
       "</table>\n",
       "</div>\n",
       "    <div class=\"colab-df-buttons\">\n",
       "\n",
       "  <div class=\"colab-df-container\">\n",
       "    <button class=\"colab-df-convert\" onclick=\"convertToInteractive('df-fb99ada6-a3a3-40b1-84ad-99f4f916cc28')\"\n",
       "            title=\"Convert this dataframe to an interactive table.\"\n",
       "            style=\"display:none;\">\n",
       "\n",
       "  <svg xmlns=\"http://www.w3.org/2000/svg\" height=\"24px\" viewBox=\"0 -960 960 960\">\n",
       "    <path d=\"M120-120v-720h720v720H120Zm60-500h600v-160H180v160Zm220 220h160v-160H400v160Zm0 220h160v-160H400v160ZM180-400h160v-160H180v160Zm440 0h160v-160H620v160ZM180-180h160v-160H180v160Zm440 0h160v-160H620v160Z\"/>\n",
       "  </svg>\n",
       "    </button>\n",
       "\n",
       "  <style>\n",
       "    .colab-df-container {\n",
       "      display:flex;\n",
       "      gap: 12px;\n",
       "    }\n",
       "\n",
       "    .colab-df-convert {\n",
       "      background-color: #E8F0FE;\n",
       "      border: none;\n",
       "      border-radius: 50%;\n",
       "      cursor: pointer;\n",
       "      display: none;\n",
       "      fill: #1967D2;\n",
       "      height: 32px;\n",
       "      padding: 0 0 0 0;\n",
       "      width: 32px;\n",
       "    }\n",
       "\n",
       "    .colab-df-convert:hover {\n",
       "      background-color: #E2EBFA;\n",
       "      box-shadow: 0px 1px 2px rgba(60, 64, 67, 0.3), 0px 1px 3px 1px rgba(60, 64, 67, 0.15);\n",
       "      fill: #174EA6;\n",
       "    }\n",
       "\n",
       "    .colab-df-buttons div {\n",
       "      margin-bottom: 4px;\n",
       "    }\n",
       "\n",
       "    [theme=dark] .colab-df-convert {\n",
       "      background-color: #3B4455;\n",
       "      fill: #D2E3FC;\n",
       "    }\n",
       "\n",
       "    [theme=dark] .colab-df-convert:hover {\n",
       "      background-color: #434B5C;\n",
       "      box-shadow: 0px 1px 3px 1px rgba(0, 0, 0, 0.15);\n",
       "      filter: drop-shadow(0px 1px 2px rgba(0, 0, 0, 0.3));\n",
       "      fill: #FFFFFF;\n",
       "    }\n",
       "  </style>\n",
       "\n",
       "    <script>\n",
       "      const buttonEl =\n",
       "        document.querySelector('#df-fb99ada6-a3a3-40b1-84ad-99f4f916cc28 button.colab-df-convert');\n",
       "      buttonEl.style.display =\n",
       "        google.colab.kernel.accessAllowed ? 'block' : 'none';\n",
       "\n",
       "      async function convertToInteractive(key) {\n",
       "        const element = document.querySelector('#df-fb99ada6-a3a3-40b1-84ad-99f4f916cc28');\n",
       "        const dataTable =\n",
       "          await google.colab.kernel.invokeFunction('convertToInteractive',\n",
       "                                                    [key], {});\n",
       "        if (!dataTable) return;\n",
       "\n",
       "        const docLinkHtml = 'Like what you see? Visit the ' +\n",
       "          '<a target=\"_blank\" href=https://colab.research.google.com/notebooks/data_table.ipynb>data table notebook</a>'\n",
       "          + ' to learn more about interactive tables.';\n",
       "        element.innerHTML = '';\n",
       "        dataTable['output_type'] = 'display_data';\n",
       "        await google.colab.output.renderOutput(dataTable, element);\n",
       "        const docLink = document.createElement('div');\n",
       "        docLink.innerHTML = docLinkHtml;\n",
       "        element.appendChild(docLink);\n",
       "      }\n",
       "    </script>\n",
       "  </div>\n",
       "\n",
       "\n",
       "<div id=\"df-ed164adf-253d-41b9-b3ec-f667e6779ec5\">\n",
       "  <button class=\"colab-df-quickchart\" onclick=\"quickchart('df-ed164adf-253d-41b9-b3ec-f667e6779ec5')\"\n",
       "            title=\"Suggest charts\"\n",
       "            style=\"display:none;\">\n",
       "\n",
       "<svg xmlns=\"http://www.w3.org/2000/svg\" height=\"24px\"viewBox=\"0 0 24 24\"\n",
       "     width=\"24px\">\n",
       "    <g>\n",
       "        <path d=\"M19 3H5c-1.1 0-2 .9-2 2v14c0 1.1.9 2 2 2h14c1.1 0 2-.9 2-2V5c0-1.1-.9-2-2-2zM9 17H7v-7h2v7zm4 0h-2V7h2v10zm4 0h-2v-4h2v4z\"/>\n",
       "    </g>\n",
       "</svg>\n",
       "  </button>\n",
       "\n",
       "<style>\n",
       "  .colab-df-quickchart {\n",
       "      --bg-color: #E8F0FE;\n",
       "      --fill-color: #1967D2;\n",
       "      --hover-bg-color: #E2EBFA;\n",
       "      --hover-fill-color: #174EA6;\n",
       "      --disabled-fill-color: #AAA;\n",
       "      --disabled-bg-color: #DDD;\n",
       "  }\n",
       "\n",
       "  [theme=dark] .colab-df-quickchart {\n",
       "      --bg-color: #3B4455;\n",
       "      --fill-color: #D2E3FC;\n",
       "      --hover-bg-color: #434B5C;\n",
       "      --hover-fill-color: #FFFFFF;\n",
       "      --disabled-bg-color: #3B4455;\n",
       "      --disabled-fill-color: #666;\n",
       "  }\n",
       "\n",
       "  .colab-df-quickchart {\n",
       "    background-color: var(--bg-color);\n",
       "    border: none;\n",
       "    border-radius: 50%;\n",
       "    cursor: pointer;\n",
       "    display: none;\n",
       "    fill: var(--fill-color);\n",
       "    height: 32px;\n",
       "    padding: 0;\n",
       "    width: 32px;\n",
       "  }\n",
       "\n",
       "  .colab-df-quickchart:hover {\n",
       "    background-color: var(--hover-bg-color);\n",
       "    box-shadow: 0 1px 2px rgba(60, 64, 67, 0.3), 0 1px 3px 1px rgba(60, 64, 67, 0.15);\n",
       "    fill: var(--button-hover-fill-color);\n",
       "  }\n",
       "\n",
       "  .colab-df-quickchart-complete:disabled,\n",
       "  .colab-df-quickchart-complete:disabled:hover {\n",
       "    background-color: var(--disabled-bg-color);\n",
       "    fill: var(--disabled-fill-color);\n",
       "    box-shadow: none;\n",
       "  }\n",
       "\n",
       "  .colab-df-spinner {\n",
       "    border: 2px solid var(--fill-color);\n",
       "    border-color: transparent;\n",
       "    border-bottom-color: var(--fill-color);\n",
       "    animation:\n",
       "      spin 1s steps(1) infinite;\n",
       "  }\n",
       "\n",
       "  @keyframes spin {\n",
       "    0% {\n",
       "      border-color: transparent;\n",
       "      border-bottom-color: var(--fill-color);\n",
       "      border-left-color: var(--fill-color);\n",
       "    }\n",
       "    20% {\n",
       "      border-color: transparent;\n",
       "      border-left-color: var(--fill-color);\n",
       "      border-top-color: var(--fill-color);\n",
       "    }\n",
       "    30% {\n",
       "      border-color: transparent;\n",
       "      border-left-color: var(--fill-color);\n",
       "      border-top-color: var(--fill-color);\n",
       "      border-right-color: var(--fill-color);\n",
       "    }\n",
       "    40% {\n",
       "      border-color: transparent;\n",
       "      border-right-color: var(--fill-color);\n",
       "      border-top-color: var(--fill-color);\n",
       "    }\n",
       "    60% {\n",
       "      border-color: transparent;\n",
       "      border-right-color: var(--fill-color);\n",
       "    }\n",
       "    80% {\n",
       "      border-color: transparent;\n",
       "      border-right-color: var(--fill-color);\n",
       "      border-bottom-color: var(--fill-color);\n",
       "    }\n",
       "    90% {\n",
       "      border-color: transparent;\n",
       "      border-bottom-color: var(--fill-color);\n",
       "    }\n",
       "  }\n",
       "</style>\n",
       "\n",
       "  <script>\n",
       "    async function quickchart(key) {\n",
       "      const quickchartButtonEl =\n",
       "        document.querySelector('#' + key + ' button');\n",
       "      quickchartButtonEl.disabled = true;  // To prevent multiple clicks.\n",
       "      quickchartButtonEl.classList.add('colab-df-spinner');\n",
       "      try {\n",
       "        const charts = await google.colab.kernel.invokeFunction(\n",
       "            'suggestCharts', [key], {});\n",
       "      } catch (error) {\n",
       "        console.error('Error during call to suggestCharts:', error);\n",
       "      }\n",
       "      quickchartButtonEl.classList.remove('colab-df-spinner');\n",
       "      quickchartButtonEl.classList.add('colab-df-quickchart-complete');\n",
       "    }\n",
       "    (() => {\n",
       "      let quickchartButtonEl =\n",
       "        document.querySelector('#df-ed164adf-253d-41b9-b3ec-f667e6779ec5 button');\n",
       "      quickchartButtonEl.style.display =\n",
       "        google.colab.kernel.accessAllowed ? 'block' : 'none';\n",
       "    })();\n",
       "  </script>\n",
       "</div>\n",
       "\n",
       "    </div>\n",
       "  </div>\n"
      ],
      "text/plain": [
       "           reward        cola  similarity\n",
       "count  200.000000  200.000000  200.000000\n",
       "mean     6.924859    1.049760    0.587935\n",
       "std      1.858197    0.556134    0.168621\n",
       "min     -4.915857   -1.188369    0.158449\n",
       "25%      7.059830    0.771734    0.470924\n",
       "50%      7.597068    1.141797    0.598698\n",
       "75%      7.799540    1.462207    0.718332\n",
       "max      7.922405    1.918363    0.921735"
      ]
     },
     "execution_count": 77,
     "metadata": {},
     "output_type": "execute_result"
    }
   ],
   "source": [
    "del generation_kwargs['min_new_tokens']\n",
    "del generation_kwargs['max_new_tokens']\n",
    "new_scores = make_test_scores(model)\n",
    "pd.DataFrame(new_scores).describe()"
   ]
  },
  {
   "cell_type": "code",
   "execution_count": null,
   "id": "FbuUFGTex5dg",
   "metadata": {},
   "outputs": [],
   "source": [
    "pd.DataFrame(old_scores).describe()"
   ]
  },
  {
   "cell_type": "code",
   "execution_count": null,
   "id": "DxsuGOaA1h6R",
   "metadata": {},
   "outputs": [],
   "source": [
    "import pandas as pd\n",
    "import matplotlib.pyplot as plt\n",
    "import numpy as np\n",
    "\n",
    "# Assuming old_scores and new_scores are defined\n",
    "# Convert the score lists to DataFrames\n",
    "old_scores_df = pd.DataFrame(old_scores, columns=['reward'])\n",
    "new_scores_df = pd.DataFrame(new_scores, columns=['reward'])\n",
    "\n",
    "# Get descriptive statistics\n",
    "old_score_desc = old_scores_df.describe()\n",
    "new_score_desc = new_scores_df.describe()\n",
    "\n",
    "# Statistics to plot\n",
    "stats = ['mean', '50%', 'min', 'max', 'std']\n",
    "labels = ['Mean', 'Median', 'Min', 'Max', 'Std']\n",
    "\n",
    "# Plotting\n",
    "fig, axes = plt.subplots(nrows=1, ncols=2, figsize=(14, 6))\n",
    "\n",
    "# Bar plot for statistics comparison\n",
    "indices = np.arange(len(stats))  # the label locations\n",
    "width = 0.35  # the width of the bars\n",
    "\n",
    "old_values = [old_score_desc.loc[stat, 'reward'] for stat in stats]\n",
    "new_values = [new_score_desc.loc[stat, 'reward'] for stat in stats]\n",
    "\n",
    "axes[0].bar(indices - width/2, old_values, width, label='Old')\n",
    "axes[0].bar(indices + width/2, new_values, width, label='New')\n",
    "\n",
    "axes[0].set_title('Statistics Comparison')\n",
    "axes[0].set_xticks(indices)\n",
    "axes[0].set_xticklabels(labels)\n",
    "axes[0].set_ylabel('Scores')\n",
    "axes[0].legend()\n",
    "\n",
    "# Box plot for distribution comparison\n",
    "combined_scores = pd.concat([old_scores_df.assign(Score_Type='Old'), new_scores_df.assign(Score_Type='New')])\n",
    "axes[1].boxplot([combined_scores[combined_scores['Score_Type']=='Old']['reward'], combined_scores[combined_scores['Score_Type']=='New']['reward']], labels=['Old', 'New'])\n",
    "axes[1].set_title('Score Distribution Comparison')\n",
    "\n",
    "plt.tight_layout()\n",
    "plt.show()\n"
   ]
  },
  {
   "cell_type": "code",
   "execution_count": null,
   "id": "V6UbWLQKArmm",
   "metadata": {},
   "outputs": [
    {
     "metadata": {
      "tags": null
     },
     "name": "stdout",
     "output_type": "stream",
     "text": [
      "Shapiro-Wilk test for pre-training predictions: statistic=0.6589620113372803, p-value=7.759584870964471e-20\n",
      "Shapiro-Wilk test for post-training predictions: statistic=0.5343424081802368, p-value=8.553391603370727e-23\n",
      "At least one of the datasets is not normally distributed. Proceeding with a non-parametric test.\n",
      "Mann-Whitney U test: statistic=16898.0, p-value=0.007304649832296909\n",
      "----\n",
      "Wilcoxon signed-rank test: statistic=6572.0, p-value=2.198133736688368e-05\n",
      "----\n",
      "The data is significantly different\n",
      "----\n"
     ]
    },
    {
     "metadata": {
      "tags": null
     },
     "name": "stderr",
     "output_type": "stream",
     "text": [
      "/usr/local/lib/python3.10/dist-packages/peft/utils/save_and_load.py:168: UserWarning: Setting `save_embedding_layers` to `True` as the embedding layer has been resized during finetuning.\n",
      "  warnings.warn(\n"
     ]
    },
    {
     "data": {
      "application/vnd.jupyter.widget-view+json": {
       "model_id": "f765f5846abc4aa1a586e932cb05c987",
       "version_major": 2,
       "version_minor": 0
      },
      "text/plain": [
       "adapter_model.safetensors:   0%|          | 0.00/2.32G [00:00<?, ?B/s]"
      ]
     },
     "metadata": {},
     "output_type": "display_data"
    },
    {
     "data": {
      "application/vnd.jupyter.widget-view+json": {
       "model_id": "b30d9664bb5f4f358f87a70937fdf534",
       "version_major": 2,
       "version_minor": 0
      },
      "text/plain": [
       "README.md:   0%|          | 0.00/5.17k [00:00<?, ?B/s]"
      ]
     },
     "metadata": {},
     "output_type": "display_data"
    },
    {
     "metadata": {
      "tags": null
     },
     "name": "stdout",
     "output_type": "stream",
     "text": [
      "Model and tokenizer pushed to hub\n"
     ]
    }
   ],
   "source": [
    "import numpy as np\n",
    "from scipy import stats\n",
    "\n",
    "# Convert the scores to numpy arrays\n",
    "pre_train_predictions = np.array(old_scores['reward'])\n",
    "post_train_predictions = np.array(new_scores['reward'])\n",
    "\n",
    "# Test for normality\n",
    "shapiro_pre = stats.shapiro(pre_train_predictions)\n",
    "shapiro_post = stats.shapiro(post_train_predictions)\n",
    "\n",
    "print(f\"Shapiro-Wilk test for pre-training predictions: statistic={shapiro_pre[0]}, p-value={shapiro_pre[1]}\")\n",
    "print(f\"Shapiro-Wilk test for post-training predictions: statistic={shapiro_post[0]}, p-value={shapiro_post[1]}\")\n",
    "\n",
    "# If the p-value is less than 0.05, we reject the null hypothesis and conclude that the data is not normally distributed.\n",
    "if shapiro_pre[1] < 0.05 or shapiro_post[1] < 0.05:\n",
    "    print(\"At least one of the datasets is not normally distributed. Proceeding with a non-parametric test.\")\n",
    "\n",
    "    # Run Mann-Whitney U test for unpaired data\n",
    "    mwu_stat, mwu_p = stats.mannwhitneyu(pre_train_predictions, post_train_predictions)\n",
    "    print(f\"Mann-Whitney U test: statistic={mwu_stat}, p-value={mwu_p}\\n----\")\n",
    "\n",
    "    # Run Wilcoxon signed-rank test for paired data (if applicable)\n",
    "    # If the data is paired, replace the above test with the following:\n",
    "    wilcoxon_stat, wilcoxon_p = stats.wilcoxon(pre_train_predictions, post_train_predictions)\n",
    "    print(f\"Wilcoxon signed-rank test: statistic={wilcoxon_stat}, p-value={wilcoxon_p}\\n----\")\n",
    "\n",
    "    # If the p-value is less than 0.05, we reject the null hypothesis and conclude that the data is significantly different.\n",
    "    if mwu_p < 0.05 or wilcoxon_p < 0.05 and (pd.DataFrame(new_scores).describe()['reward']['mean'] > pd.DataFrame(old_scores).describe()['reward']['mean']):\n",
    "        print(\"The data is significantly different\\n----\")\n",
    "        model.push_to_hub(f\"{username}/{rlhf_repo_name}\")\n",
    "        tokenizer.push_to_hub(f\"{username}/{rlhf_repo_name}\")\n",
    "        print(\"Model and tokenizer pushed to hub\")\n",
    "    else:\n",
    "        print(\"The data is not significantly different.\")\n",
    "else:\n",
    "    print(\"Both datasets are normally distributed. You may consider using a parametric test like the independent t-test.\")\n"
   ]
  },
  {
   "cell_type": "code",
   "execution_count": null,
   "id": "Fkaj0IUuZaxE",
   "metadata": {},
   "outputs": [],
   "source": [
    "model.push_to_hub(f\"{username}/{rlhf_repo_name}\")\n",
    "tokenizer.push_to_hub(f\"{username}/{rlhf_repo_name}\")"
   ]
  },
  {
   "cell_type": "code",
   "execution_count": null,
   "id": "TahJGze2FG3x",
   "metadata": {},
   "outputs": [
    {
     "data": {
      "image/png": "[encoded data removed]",
      "text/plain": [
       "<Figure size 1000x600 with 1 Axes>"
      ]
     },
     "metadata": {},
     "output_type": "display_data"
    }
   ],
   "source": [
    "import pandas as pd\n",
    "import seaborn as sns\n",
    "import matplotlib.pyplot as plt\n",
    "\n",
    "# Assuming you have two DataFrames: new_scores_df and old_scores_df\n",
    "# Add a 'Type' column to each DataFrame to label the data\n",
    "new_scores_df['Type'] = 'New'\n",
    "old_scores_df['Type'] = 'Old'\n",
    "\n",
    "# Concatenate the two DataFrames\n",
    "combined_data = pd.concat([old_scores_df[['reward', 'Type']], new_scores_df[['reward', 'Type']], ])\n",
    "\n",
    "# Create the boxplot\n",
    "sns.set(style='whitegrid')  # Set the style\n",
    "plt.figure(figsize=(10, 6))  # Optional: Adjust the figure size\n",
    "sns.boxplot(x='Type', y='reward', data=combined_data)\n",
    "plt.title('Comparison of New and Old Scores')\n",
    "plt.ylabel('Reward Values')\n",
    "plt.xlabel('Score Type')\n",
    "plt.show()\n"
   ]
  },
  {
   "cell_type": "code",
   "execution_count": null,
   "id": "jRNHMH_DIVCS",
   "metadata": {},
   "outputs": [],
   "source": []
  }
 ],
 "metadata": {
  "language_info": {
   "name": "python"
  }
 },
 "nbformat": 4,
 "nbformat_minor": 5
}
