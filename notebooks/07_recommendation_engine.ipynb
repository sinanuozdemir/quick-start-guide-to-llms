{
 "cells": [
  {
   "cell_type": "markdown",
   "id": "3J7oG0skBSNy",
   "metadata": {
    "id": "3J7oG0skBSNy",
    "jp-MarkdownHeadingCollapsed": true
   },
   "source": [
    "# Imports"
   ]
  },
  {
   "cell_type": "code",
   "execution_count": 3,
   "id": "6f2d1c86-e1e4-45e4-a9cd-a227530cc08f",
   "metadata": {},
   "outputs": [],
   "source": [
    "from collections import defaultdict\n",
    "import concurrent.futures\n",
    "from functools import partial, lru_cache\n",
    "import pandas as pd\n",
    "from openai import OpenAI\n",
    "import os\n",
    "import json\n",
    "\n",
    "from transformers import RobertaTokenizer\n",
    "import random\n",
    "from datasets import load_dataset\n",
    "import itertools\n",
    "import numpy as np\n",
    "from torch.utils.data import DataLoader\n",
    "import re\n",
    "import string\n",
    "from tqdm.auto import tqdm\n",
    "from sentence_transformers import SentenceTransformer, evaluation, losses, InputExample\n",
    "\n",
    "import matplotlib.pyplot as plt\n",
    "import seaborn as sns\n",
    "from typing import List, Tuple\n",
    "from sklearn.metrics.pairwise import cosine_similarity\n",
    "from sklearn.model_selection import train_test_split\n",
    "\n",
    "random.seed(42)"
   ]
  },
  {
   "cell_type": "markdown",
   "id": "H92BuMCjBWpk",
   "metadata": {
    "id": "H92BuMCjBWpk"
   },
   "source": [
    "# Grab Data"
   ]
  },
  {
   "cell_type": "code",
   "execution_count": 32,
   "id": "5e067f76",
   "metadata": {},
   "outputs": [
    {
     "name": "stdout",
     "output_type": "stream",
     "text": [
      "(16206, 19)\n"
     ]
    },
    {
     "data": {
      "text/html": [
       "<div>\n",
       "<style scoped>\n",
       "    .dataframe tbody tr th:only-of-type {\n",
       "        vertical-align: middle;\n",
       "    }\n",
       "\n",
       "    .dataframe tbody tr th {\n",
       "        vertical-align: top;\n",
       "    }\n",
       "\n",
       "    .dataframe thead th {\n",
       "        text-align: right;\n",
       "    }\n",
       "</style>\n",
       "<table border=\"1\" class=\"dataframe\">\n",
       "  <thead>\n",
       "    <tr style=\"text-align: right;\">\n",
       "      <th></th>\n",
       "      <th>MAL_ID</th>\n",
       "      <th>Name</th>\n",
       "      <th>Score</th>\n",
       "      <th>Genres</th>\n",
       "      <th>English name</th>\n",
       "      <th>Type</th>\n",
       "      <th>Episodes</th>\n",
       "      <th>Premiered</th>\n",
       "      <th>Producers</th>\n",
       "      <th>Studios</th>\n",
       "      <th>Source</th>\n",
       "      <th>Duration</th>\n",
       "      <th>Rating</th>\n",
       "      <th>Ranked</th>\n",
       "      <th>Members</th>\n",
       "      <th>Favorites</th>\n",
       "      <th>Completed</th>\n",
       "      <th>On-Hold</th>\n",
       "      <th>synopsis</th>\n",
       "    </tr>\n",
       "  </thead>\n",
       "  <tbody>\n",
       "    <tr>\n",
       "      <th>0</th>\n",
       "      <td>1</td>\n",
       "      <td>Cowboy Bebop</td>\n",
       "      <td>8.78</td>\n",
       "      <td>Action, Adventure, Comedy, Drama, Sci-Fi, Space</td>\n",
       "      <td>Cowboy Bebop</td>\n",
       "      <td>TV</td>\n",
       "      <td>26</td>\n",
       "      <td>Spring 1998</td>\n",
       "      <td>Bandai Visual</td>\n",
       "      <td>Sunrise</td>\n",
       "      <td>Original</td>\n",
       "      <td>24 min. per ep.</td>\n",
       "      <td>R - 17+ (violence &amp; profanity)</td>\n",
       "      <td>28.0</td>\n",
       "      <td>1251960</td>\n",
       "      <td>61971</td>\n",
       "      <td>718161</td>\n",
       "      <td>71513</td>\n",
       "      <td>In the year 2071, humanity has colonized sever...</td>\n",
       "    </tr>\n",
       "    <tr>\n",
       "      <th>1</th>\n",
       "      <td>5</td>\n",
       "      <td>Cowboy Bebop: Tengoku no Tobira</td>\n",
       "      <td>8.39</td>\n",
       "      <td>Action, Drama, Mystery, Sci-Fi, Space</td>\n",
       "      <td>Cowboy Bebop:The Movie</td>\n",
       "      <td>Movie</td>\n",
       "      <td>1</td>\n",
       "      <td>Unknown</td>\n",
       "      <td>Sunrise, Bandai Visual</td>\n",
       "      <td>Bones</td>\n",
       "      <td>Original</td>\n",
       "      <td>1 hr. 55 min.</td>\n",
       "      <td>R - 17+ (violence &amp; profanity)</td>\n",
       "      <td>159.0</td>\n",
       "      <td>273145</td>\n",
       "      <td>1174</td>\n",
       "      <td>208333</td>\n",
       "      <td>1935</td>\n",
       "      <td>other day, another bounty—such is the life of ...</td>\n",
       "    </tr>\n",
       "    <tr>\n",
       "      <th>2</th>\n",
       "      <td>6</td>\n",
       "      <td>Trigun</td>\n",
       "      <td>8.24</td>\n",
       "      <td>Action, Sci-Fi, Adventure, Comedy, Drama, Shounen</td>\n",
       "      <td>Trigun</td>\n",
       "      <td>TV</td>\n",
       "      <td>26</td>\n",
       "      <td>Spring 1998</td>\n",
       "      <td>Victor Entertainment</td>\n",
       "      <td>Madhouse</td>\n",
       "      <td>Manga</td>\n",
       "      <td>24 min. per ep.</td>\n",
       "      <td>PG-13 - Teens 13 or older</td>\n",
       "      <td>266.0</td>\n",
       "      <td>558913</td>\n",
       "      <td>12944</td>\n",
       "      <td>343492</td>\n",
       "      <td>25465</td>\n",
       "      <td>Vash the Stampede is the man with a $$60,000,0...</td>\n",
       "    </tr>\n",
       "    <tr>\n",
       "      <th>3</th>\n",
       "      <td>7</td>\n",
       "      <td>Witch Hunter Robin</td>\n",
       "      <td>7.27</td>\n",
       "      <td>Action, Mystery, Police, Supernatural, Drama, ...</td>\n",
       "      <td>Witch Hunter Robin</td>\n",
       "      <td>TV</td>\n",
       "      <td>26</td>\n",
       "      <td>Summer 2002</td>\n",
       "      <td>TV Tokyo, Bandai Visual, Dentsu, Victor Entert...</td>\n",
       "      <td>Sunrise</td>\n",
       "      <td>Original</td>\n",
       "      <td>25 min. per ep.</td>\n",
       "      <td>PG-13 - Teens 13 or older</td>\n",
       "      <td>2481.0</td>\n",
       "      <td>94683</td>\n",
       "      <td>587</td>\n",
       "      <td>46165</td>\n",
       "      <td>5121</td>\n",
       "      <td>ches are individuals with special powers like ...</td>\n",
       "    </tr>\n",
       "    <tr>\n",
       "      <th>4</th>\n",
       "      <td>8</td>\n",
       "      <td>Bouken Ou Beet</td>\n",
       "      <td>6.98</td>\n",
       "      <td>Adventure, Fantasy, Shounen, Supernatural</td>\n",
       "      <td>Beet the Vandel Buster</td>\n",
       "      <td>TV</td>\n",
       "      <td>52</td>\n",
       "      <td>Fall 2004</td>\n",
       "      <td>TV Tokyo, Dentsu</td>\n",
       "      <td>Toei Animation</td>\n",
       "      <td>Manga</td>\n",
       "      <td>23 min. per ep.</td>\n",
       "      <td>PG - Children</td>\n",
       "      <td>3710.0</td>\n",
       "      <td>13224</td>\n",
       "      <td>18</td>\n",
       "      <td>7314</td>\n",
       "      <td>766</td>\n",
       "      <td>It is the dark century and the people are suff...</td>\n",
       "    </tr>\n",
       "  </tbody>\n",
       "</table>\n",
       "</div>"
      ],
      "text/plain": [
       "   MAL_ID                             Name Score  \\\n",
       "0       1                     Cowboy Bebop  8.78   \n",
       "1       5  Cowboy Bebop: Tengoku no Tobira  8.39   \n",
       "2       6                           Trigun  8.24   \n",
       "3       7               Witch Hunter Robin  7.27   \n",
       "4       8                   Bouken Ou Beet  6.98   \n",
       "\n",
       "                                              Genres            English name  \\\n",
       "0    Action, Adventure, Comedy, Drama, Sci-Fi, Space            Cowboy Bebop   \n",
       "1              Action, Drama, Mystery, Sci-Fi, Space  Cowboy Bebop:The Movie   \n",
       "2  Action, Sci-Fi, Adventure, Comedy, Drama, Shounen                  Trigun   \n",
       "3  Action, Mystery, Police, Supernatural, Drama, ...      Witch Hunter Robin   \n",
       "4          Adventure, Fantasy, Shounen, Supernatural  Beet the Vandel Buster   \n",
       "\n",
       "    Type Episodes    Premiered  \\\n",
       "0     TV       26  Spring 1998   \n",
       "1  Movie        1      Unknown   \n",
       "2     TV       26  Spring 1998   \n",
       "3     TV       26  Summer 2002   \n",
       "4     TV       52    Fall 2004   \n",
       "\n",
       "                                           Producers         Studios  \\\n",
       "0                                      Bandai Visual         Sunrise   \n",
       "1                             Sunrise, Bandai Visual           Bones   \n",
       "2                               Victor Entertainment        Madhouse   \n",
       "3  TV Tokyo, Bandai Visual, Dentsu, Victor Entert...         Sunrise   \n",
       "4                                   TV Tokyo, Dentsu  Toei Animation   \n",
       "\n",
       "     Source         Duration                          Rating  Ranked  Members  \\\n",
       "0  Original  24 min. per ep.  R - 17+ (violence & profanity)    28.0  1251960   \n",
       "1  Original    1 hr. 55 min.  R - 17+ (violence & profanity)   159.0   273145   \n",
       "2     Manga  24 min. per ep.       PG-13 - Teens 13 or older   266.0   558913   \n",
       "3  Original  25 min. per ep.       PG-13 - Teens 13 or older  2481.0    94683   \n",
       "4     Manga  23 min. per ep.                   PG - Children  3710.0    13224   \n",
       "\n",
       "   Favorites  Completed  On-Hold  \\\n",
       "0      61971     718161    71513   \n",
       "1       1174     208333     1935   \n",
       "2      12944     343492    25465   \n",
       "3        587      46165     5121   \n",
       "4         18       7314      766   \n",
       "\n",
       "                                            synopsis  \n",
       "0  In the year 2071, humanity has colonized sever...  \n",
       "1  other day, another bounty—such is the life of ...  \n",
       "2  Vash the Stampede is the man with a $$60,000,0...  \n",
       "3  ches are individuals with special powers like ...  \n",
       "4  It is the dark century and the people are suff...  "
      ]
     },
     "execution_count": 32,
     "metadata": {},
     "output_type": "execute_result"
    }
   ],
   "source": [
    "pre_merged_anime = pd.read_csv('../data/pre_merged_anime.csv').dropna()\n",
    "print(pre_merged_anime.shape)\n",
    "pre_merged_anime.head()"
   ]
  },
  {
   "cell_type": "code",
   "execution_count": 6,
   "id": "fa6ef8ce",
   "metadata": {},
   "outputs": [],
   "source": [
    "def clean_text(text):\n",
    "    # Remove non-printable characters\n",
    "    text = ''.join(filter(lambda x: x in string.printable, text))\n",
    "\n",
    "    # Replace multiple whitespace characters with a single space\n",
    "    text = re.sub(r'\\s{2,}', ' ', text).strip()\n",
    "\n",
    "    return text.strip()\n",
    "\n",
    "\n",
    "def get_anime_description(anime_row):\n",
    "    \"\"\"\n",
    "    Generates a custom description for an anime title based on various features from the input data.\n",
    "\n",
    "    :param anime_row: A row from the MyAnimeList dataset containing relevant anime information.\n",
    "    :return: A formatted string containing a custom description of the anime.\n",
    "    \"\"\"\n",
    "\n",
    "    # Determine the type of anime (TV show or other)\n",
    "    anime_type = \"TV Show\" if anime_row[\"Type\"] == \"TV\" else anime_row[\"Type\"]\n",
    "\n",
    "    # Create a formatted description using the relevant features from the input data\n",
    "    description = (\n",
    "        f\"{anime_row['Name']} is a {anime_type}.\\n\"\n",
    "        f\"Synopsis: {anime_row['synopsis']}\\n\"\n",
    "        f\"It was produced by {anime_row['Producers']} and it is from {anime_row['Studios']} Studio.\\n\"\n",
    "        f\"Its source is {anime_row['Source']}.\\n\"\n",
    "        f\"It premiered in {anime_row['Premiered']}.\\n\"\n",
    "        f\"Its genres are {anime_row['Genres']}\\n\"\n",
    "    )\n",
    "\n",
    "    return clean_text(description)\n"
   ]
  },
  {
   "cell_type": "code",
   "execution_count": 7,
   "id": "bfbd1501",
   "metadata": {},
   "outputs": [
    {
     "name": "stdout",
     "output_type": "stream",
     "text": [
      "Cowboy Bebop is a TV Show.\n",
      "Synopsis: In the year 2071, humanity has colonized several of the planets and moons of the solar system leaving the now uninhabitable surface of planet Earth behind. The Inter Solar System Police attempts to keep peace in the galaxy, aided in part by outlaw bounty hunters, referred to as \"Cowboys.\" The ragtag team aboard the spaceship Bebop are two such individuals. Mellow and carefree Spike Spiegel is balanced by his boisterous, pragmatic partner Jet Black as the pair makes a living chasing bounties and collecting rewards. Thrown off course by the addition of new members that they meet in their travelsEin, a genetically engineered, highly intelligent Welsh Corgi; femme fatale Faye Valentine, an enigmatic trickster with memory loss; and the strange computer whiz kid Edward Wongthe crew embarks on thrilling adventures that unravel each member's dark and mysterious past little by little. Well-balanced with high density action and light-hearted comedy, Cowboy Bebop is a space Western classic and an homage to the smooth and improvised music it is named after.\n",
      "It was produced by Bandai Visual and it is from Sunrise Studio.\n",
      "Its source is Original.\n",
      "It premiered in Spring 1998.\n",
      "Its genres are Action, Adventure, Comedy, Drama, Sci-Fi, Space\n"
     ]
    }
   ],
   "source": [
    "print(clean_text(get_anime_description(pre_merged_anime.iloc[0])))"
   ]
  },
  {
   "cell_type": "code",
   "execution_count": 8,
   "id": "376e7066",
   "metadata": {},
   "outputs": [],
   "source": [
    "pre_merged_anime['generated_description'] = pre_merged_anime.apply(get_anime_description, axis=1)"
   ]
  },
  {
   "cell_type": "code",
   "execution_count": 9,
   "id": "e0a1a4ab-571b-4917-8480-9093bbadbcc3",
   "metadata": {},
   "outputs": [
    {
     "data": {
      "application/vnd.jupyter.widget-view+json": {
       "model_id": "c3641cce87594876a15a1193d66c46a4",
       "version_major": 2,
       "version_minor": 0
      },
      "text/plain": [
       "Downloading data:   0%|          | 0.00/818M [00:00<?, ?B/s]"
      ]
     },
     "metadata": {},
     "output_type": "display_data"
    },
    {
     "data": {
      "application/vnd.jupyter.widget-view+json": {
       "model_id": "25080d8b1eee445c843c673fab50fe83",
       "version_major": 2,
       "version_minor": 0
      },
      "text/plain": [
       "Generating train split:   0%|          | 0/57633278 [00:00<?, ? examples/s]"
      ]
     },
     "metadata": {},
     "output_type": "display_data"
    },
    {
     "name": "stdout",
     "output_type": "stream",
     "text": [
      "(57633278, 3)\n",
      "(29665573, 4)\n"
     ]
    },
    {
     "data": {
      "text/html": [
       "<div>\n",
       "<style scoped>\n",
       "    .dataframe tbody tr th:only-of-type {\n",
       "        vertical-align: middle;\n",
       "    }\n",
       "\n",
       "    .dataframe tbody tr th {\n",
       "        vertical-align: top;\n",
       "    }\n",
       "\n",
       "    .dataframe thead th {\n",
       "        text-align: right;\n",
       "    }\n",
       "</style>\n",
       "<table border=\"1\" class=\"dataframe\">\n",
       "  <thead>\n",
       "    <tr style=\"text-align: right;\">\n",
       "      <th></th>\n",
       "      <th>user_id</th>\n",
       "      <th>anime_id</th>\n",
       "      <th>rating</th>\n",
       "      <th>nps_score</th>\n",
       "    </tr>\n",
       "  </thead>\n",
       "  <tbody>\n",
       "    <tr>\n",
       "      <th>0</th>\n",
       "      <td>0</td>\n",
       "      <td>430</td>\n",
       "      <td>9</td>\n",
       "      <td>1</td>\n",
       "    </tr>\n",
       "    <tr>\n",
       "      <th>1</th>\n",
       "      <td>0</td>\n",
       "      <td>1004</td>\n",
       "      <td>5</td>\n",
       "      <td>-1</td>\n",
       "    </tr>\n",
       "  </tbody>\n",
       "</table>\n",
       "</div>"
      ],
      "text/plain": [
       "   user_id  anime_id  rating  nps_score\n",
       "0        0       430       9          1\n",
       "1        0      1004       5         -1"
      ]
     },
     "execution_count": 9,
     "metadata": {},
     "output_type": "execute_result"
    }
   ],
   "source": [
    "dataset = load_dataset(\"profoz/anime_rating_complete\")\n",
    "rating_complete = dataset['train'].to_pandas().dropna()\n",
    "\n",
    "print(rating_complete.shape)\n",
    "\n",
    "# Creating a map to score user ratings.\n",
    "# 10 and 9 are considered positive (1), 8 and 7 are neutral (0), and all others are considered negative (-1)\n",
    "score_map = {\n",
    "    10: 1, \n",
    "    9:  1, \n",
    "    \n",
    "    8:  0, \n",
    "    7:  0, \n",
    "    \n",
    "    6:  -1, \n",
    "    5:  -1, \n",
    "    4:  -1, \n",
    "    3:  -1, \n",
    "    2:  -1, \n",
    "    1:  -1, \n",
    "    0:  -1\n",
    "}\n",
    "\n",
    "rating_complete['nps_score'] = rating_complete['rating'].map(score_map)\n",
    "\n",
    "# removing ratings with an NPS of 0 to get most polarizing opinions\n",
    "# An argument can be made to keep these in, I chose not to. If you don't like that, no worries :)\n",
    "rating_complete = rating_complete[rating_complete['nps_score'] != 0]\n",
    "\n",
    "print(rating_complete.shape)\n",
    "rating_complete.head(2)"
   ]
  },
  {
   "cell_type": "code",
   "execution_count": 10,
   "id": "2ZpetZkwU4G_",
   "metadata": {},
   "outputs": [
    {
     "name": "stdout",
     "output_type": "stream",
     "text": [
      "4110.0\n",
      "(22183562, 4)\n"
     ]
    },
    {
     "data": {
      "text/html": [
       "<div>\n",
       "<style scoped>\n",
       "    .dataframe tbody tr th:only-of-type {\n",
       "        vertical-align: middle;\n",
       "    }\n",
       "\n",
       "    .dataframe tbody tr th {\n",
       "        vertical-align: top;\n",
       "    }\n",
       "\n",
       "    .dataframe thead th {\n",
       "        text-align: right;\n",
       "    }\n",
       "</style>\n",
       "<table border=\"1\" class=\"dataframe\">\n",
       "  <thead>\n",
       "    <tr style=\"text-align: right;\">\n",
       "      <th></th>\n",
       "      <th>user_id</th>\n",
       "      <th>anime_id</th>\n",
       "      <th>rating</th>\n",
       "      <th>nps_score</th>\n",
       "    </tr>\n",
       "  </thead>\n",
       "  <tbody>\n",
       "    <tr>\n",
       "      <th>0</th>\n",
       "      <td>0</td>\n",
       "      <td>430</td>\n",
       "      <td>9</td>\n",
       "      <td>1</td>\n",
       "    </tr>\n",
       "    <tr>\n",
       "      <th>1</th>\n",
       "      <td>0</td>\n",
       "      <td>1004</td>\n",
       "      <td>5</td>\n",
       "      <td>-1</td>\n",
       "    </tr>\n",
       "  </tbody>\n",
       "</table>\n",
       "</div>"
      ],
      "text/plain": [
       "   user_id  anime_id  rating  nps_score\n",
       "0        0       430       9          1\n",
       "1        0      1004       5         -1"
      ]
     },
     "execution_count": 10,
     "metadata": {},
     "output_type": "execute_result"
    }
   ],
   "source": [
    "# remove all rows with animes with under median_reviews reviews\n",
    "threshold_reviews = rating_complete.groupby('anime_id').count()['rating'].quantile(.90)\n",
    "print(threshold_reviews)\n",
    "animes_with_enough_reviews = rating_complete.groupby('anime_id').count()['rating'] >= threshold_reviews\n",
    "\n",
    "rating_complete = rating_complete[rating_complete['anime_id'].isin(animes_with_enough_reviews[animes_with_enough_reviews].index)]\n",
    "\n",
    "print(rating_complete.shape)\n",
    "rating_complete.head(2)"
   ]
  },
  {
   "cell_type": "code",
   "execution_count": 11,
   "id": "4bd861f5",
   "metadata": {},
   "outputs": [],
   "source": [
    "rating_complete_train, rating_complete_test = \\\n",
    "              np.split(rating_complete.sample(frac=1, random_state=42),\n",
    "                       [int(.9*len(rating_complete))])"
   ]
  },
  {
   "cell_type": "code",
   "execution_count": 12,
   "id": "5aa7d252",
   "metadata": {},
   "outputs": [
    {
     "data": {
      "text/html": [
       "<div>\n",
       "<style scoped>\n",
       "    .dataframe tbody tr th:only-of-type {\n",
       "        vertical-align: middle;\n",
       "    }\n",
       "\n",
       "    .dataframe tbody tr th {\n",
       "        vertical-align: top;\n",
       "    }\n",
       "\n",
       "    .dataframe thead th {\n",
       "        text-align: right;\n",
       "    }\n",
       "</style>\n",
       "<table border=\"1\" class=\"dataframe\">\n",
       "  <thead>\n",
       "    <tr style=\"text-align: right;\">\n",
       "      <th></th>\n",
       "      <th>user_id</th>\n",
       "      <th>anime_id</th>\n",
       "      <th>rating</th>\n",
       "      <th>nps_score</th>\n",
       "    </tr>\n",
       "  </thead>\n",
       "  <tbody>\n",
       "    <tr>\n",
       "      <th>1077792</th>\n",
       "      <td>6894</td>\n",
       "      <td>2251</td>\n",
       "      <td>9</td>\n",
       "      <td>1</td>\n",
       "    </tr>\n",
       "    <tr>\n",
       "      <th>31931743</th>\n",
       "      <td>196193</td>\n",
       "      <td>22789</td>\n",
       "      <td>9</td>\n",
       "      <td>1</td>\n",
       "    </tr>\n",
       "    <tr>\n",
       "      <th>31005293</th>\n",
       "      <td>190471</td>\n",
       "      <td>1015</td>\n",
       "      <td>9</td>\n",
       "      <td>1</td>\n",
       "    </tr>\n",
       "    <tr>\n",
       "      <th>49436353</th>\n",
       "      <td>303017</td>\n",
       "      <td>2476</td>\n",
       "      <td>6</td>\n",
       "      <td>-1</td>\n",
       "    </tr>\n",
       "    <tr>\n",
       "      <th>37205674</th>\n",
       "      <td>228438</td>\n",
       "      <td>20583</td>\n",
       "      <td>9</td>\n",
       "      <td>1</td>\n",
       "    </tr>\n",
       "  </tbody>\n",
       "</table>\n",
       "</div>"
      ],
      "text/plain": [
       "          user_id  anime_id  rating  nps_score\n",
       "1077792      6894      2251       9          1\n",
       "31931743   196193     22789       9          1\n",
       "31005293   190471      1015       9          1\n",
       "49436353   303017      2476       6         -1\n",
       "37205674   228438     20583       9          1"
      ]
     },
     "execution_count": 12,
     "metadata": {},
     "output_type": "execute_result"
    }
   ],
   "source": [
    "rating_complete_train.head()"
   ]
  },
  {
   "cell_type": "code",
   "execution_count": 13,
   "id": "3cf2f8c5",
   "metadata": {},
   "outputs": [
    {
     "name": "stdout",
     "output_type": "stream",
     "text": [
      "(19965205, 4)\n",
      "(2218357, 4)\n"
     ]
    }
   ],
   "source": [
    "print(rating_complete_train.shape)\n",
    "print(rating_complete_test.shape)"
   ]
  },
  {
   "cell_type": "code",
   "execution_count": 14,
   "id": "795a356e",
   "metadata": {},
   "outputs": [
    {
     "data": {
      "text/plain": [
       "count      1685.000000\n",
       "mean      11848.786350\n",
       "std       11668.782929\n",
       "min        3684.000000\n",
       "25%        5128.000000\n",
       "50%        7741.000000\n",
       "75%       13760.000000\n",
       "max      110640.000000\n",
       "Name: user_id, dtype: float64"
      ]
     },
     "execution_count": 14,
     "metadata": {},
     "output_type": "execute_result"
    }
   ],
   "source": [
    "# Group the DataFrame by anime_id and count the number of rows corresponding to each anime\n",
    "anime_counts = rating_complete_train.groupby('anime_id').count()\n",
    "\n",
    "anime_counts['user_id'].describe()"
   ]
  },
  {
   "cell_type": "code",
   "execution_count": null,
   "id": "05860602",
   "metadata": {},
   "outputs": [],
   "source": []
  },
  {
   "cell_type": "code",
   "execution_count": 15,
   "id": "dbef82bf",
   "metadata": {},
   "outputs": [
    {
     "data": {
      "text/plain": [
       "count    306006.000000\n",
       "mean         65.244489\n",
       "std          69.315504\n",
       "min           1.000000\n",
       "25%          19.000000\n",
       "50%          45.000000\n",
       "75%          87.000000\n",
       "max        1409.000000\n",
       "Name: anime_id, dtype: float64"
      ]
     },
     "execution_count": 15,
     "metadata": {},
     "output_type": "execute_result"
    }
   ],
   "source": [
    "# Group the DataFrame by anime_id and count the number of rows corresponding to each anime\n",
    "user_counts = rating_complete_train.groupby('user_id').count()\n",
    "\n",
    "user_counts['anime_id'].describe()"
   ]
  },
  {
   "cell_type": "code",
   "execution_count": null,
   "id": "b5149611",
   "metadata": {},
   "outputs": [],
   "source": []
  },
  {
   "cell_type": "markdown",
   "id": "21d33830",
   "metadata": {
    "id": "21d33830"
   },
   "source": [
    "# Using content embeddings to recommend titles"
   ]
  },
  {
   "cell_type": "code",
   "execution_count": 16,
   "id": "7f676629-38da-4e09-ad11-2eb5f3424b35",
   "metadata": {},
   "outputs": [
    {
     "name": "stdout",
     "output_type": "stream",
     "text": [
      "1408681\n"
     ]
    }
   ],
   "source": [
    "# Only use data from the training dataset rating_complete_train\n",
    "anime_ids = sorted(set(pre_merged_anime['MAL_ID'].unique()) & set(rating_complete_train['anime_id'].unique()))\n",
    "\n",
    "# Create a list of all possible anime pairs (without duplicates)\n",
    "anime_pairs = list(itertools.combinations(anime_ids, 2))\n",
    "\n",
    "# remove dupes\n",
    "anime_pairs = list([tuple(sorted(pair)) for pair in anime_pairs])\n",
    "\n",
    "# Shuffle the list of anime pairs for good measure (not actually necessary because we sample in the next cell)\n",
    "random.shuffle(anime_pairs)\n",
    "\n",
    "print(len(anime_pairs))"
   ]
  },
  {
   "cell_type": "code",
   "execution_count": null,
   "id": "5abJxttX8Ftr",
   "metadata": {},
   "outputs": [],
   "source": [
    "SAMPLE = 10_000  # only taking a sample of the pairs to scan\n",
    "if SAMPLE:\n",
    "    anime_pairs = random.sample(anime_pairs, SAMPLE)"
   ]
  },
  {
   "cell_type": "code",
   "execution_count": 29,
   "id": "mHZ_WZZZVWm1",
   "metadata": {},
   "outputs": [
    {
     "name": "stdout",
     "output_type": "stream",
     "text": [
      "number of non 0 ratings found: 59257\n",
      "score breakdown nps_score\n",
      "[1, 1]     0.699389\n",
      "[-1, 1]    0.300611\n",
      "Name: proportion, dtype: float64\n",
      "4059 and 10793 are similar\n"
     ]
    },
    {
     "data": {
      "text/plain": [
       "0.6993894993894993"
      ]
     },
     "execution_count": 29,
     "metadata": {},
     "output_type": "execute_result"
    }
   ],
   "source": [
    "# We consider negative pairs of animes as people disagreeing on it.\n",
    "#. a high (threshold) % of people promote a1 and detract from a2 therefore don't recommend one when the other was liked by a user\n",
    "\n",
    "# e.g.\n",
    "a1, a2 = 4059, 10793\n",
    "\n",
    "def anime_pair_scores(a1, a2, verbose=False):\n",
    "    a = rating_complete_train[rating_complete_train['anime_id'].isin([a1, a2])]\n",
    "    a = a[a['nps_score'] != 0]\n",
    "    if verbose:\n",
    "        print('number of non 0 ratings found:', a.shape[0])\n",
    "    \n",
    "    if a.shape[0] < 50:  # need at least 50 rows\n",
    "        return None\n",
    "\n",
    "    # only keep rows with duplicates in the user_id column\n",
    "    a = a[a.duplicated(subset=['user_id'], keep=False)].sort_values('user_id')\n",
    "\n",
    "    anime_pair_scores = a.groupby('user_id', group_keys=True)['nps_score'].apply(sorted)\n",
    "\n",
    "    two_scores = anime_pair_scores[anime_pair_scores.isin([[-1, 1], [1, 1]])].value_counts(normalize=True)\n",
    "    if verbose:\n",
    "        print('score breakdown', two_scores)\n",
    "    \n",
    "    if len(two_scores) != 2:\n",
    "        return None\n",
    "    disagree_score, positively_agree_score = two_scores.sort_index().tolist()\n",
    "\n",
    "    if positively_agree_score > disagree_score:\n",
    "        if verbose:\n",
    "            print(f'{a1} and {a2} are similar')\n",
    "        return positively_agree_score\n",
    "    else:\n",
    "        if verbose:\n",
    "            print(f'{a1} and {a2} are dissimilar')\n",
    "        return -1 * disagree_score\n",
    "\n",
    "anime_pair_scores(a1, a2, verbose=True)"
   ]
  },
  {
   "cell_type": "code",
   "execution_count": null,
   "id": "96bed0c5",
   "metadata": {},
   "outputs": [
    {
     "data": {
      "application/vnd.jupyter.widget-view+json": {
       "model_id": "b5b17d97368b4650a9d2da5c3ca79925",
       "version_major": 2,
       "version_minor": 0
      },
      "text/plain": [
       "  0%|          | 0/10000 [00:00<?, ?it/s]"
      ]
     },
     "metadata": {},
     "output_type": "display_data"
    }
   ],
   "source": [
    "'''\n",
    "This script prepares training examples where each example consists of a pair of animes.\n",
    "'''\n",
    "# Initializing empty lists for storing positive and negative pairs examples\n",
    "positive_pairs_examples, negative_pairs_examples = [], []\n",
    "considered_pairs = {}\n",
    "all_scores = []\n",
    "\n",
    "unique_mal_ids = set(pre_merged_anime['MAL_ID'].unique())\n",
    "\n",
    "# Setting the seed value for random function to ensure the reproducibility of results\n",
    "random.seed(42)\n",
    "\n",
    "# Looping over each pair of animes\n",
    "for a1, a2 in tqdm(anime_pairs):\n",
    "    # If any of the animes in the pair is not found in the pre_merged_anime dataframe index, we skip the current iteration\n",
    "    if a1 not in unique_mal_ids or a2 not in unique_mal_ids:\n",
    "        continue\n",
    "\n",
    "    # Calculating similarity between the sets of users who like anime a1 and anime a2\n",
    "    j = anime_pair_scores(a1, a2)\n",
    "    all_scores.append(j)\n",
    "    text_pair = pre_merged_anime[pre_merged_anime['MAL_ID'].isin([a1, a2])]['generated_description'].tolist()\n",
    "\n",
    "    # If the similarity is non-zero (i.e., there are some common users)\n",
    "    if j is not None:\n",
    "        # If similarity is greater than or equal to 0.7,\n",
    "        # then the pair is considered as a positive example and added to the positive_pairs_examples list\n",
    "        if j >= 0.7:  # this is arbitrary, Sinan used this threshold. You are free to play with different thresholds\n",
    "            positive_pairs_examples.append(InputExample(texts=text_pair, label=j))\n",
    "\n",
    "        # If similarity is less than -0.7,\n",
    "        # then the pair is considered as a negative example and added to the negative_pairs_examples list\n",
    "        elif j < -0.7:  # this is arbitrary, Sinan used this threshold. You are free to play with different thresholds\n",
    "            negative_pairs_examples.append(InputExample(texts=text_pair, label=j))\n"
   ]
  },
  {
   "cell_type": "code",
   "execution_count": null,
   "id": "BHNyPPWrSwqL",
   "metadata": {},
   "outputs": [
    {
     "data": {
      "text/plain": [
       "(count    9999.000000\n",
       " mean        0.124397\n",
       " std         0.661339\n",
       " min        -0.979381\n",
       " 25%        -0.603391\n",
       " 50%         0.553191\n",
       " 75%         0.680458\n",
       " max         0.997061\n",
       " dtype: float64,\n",
       " <Axes: >)"
      ]
     },
     "execution_count": 19,
     "metadata": {},
     "output_type": "execute_result"
    },
    {
     "data": {
      "image/png": "[encoded data removed]",
      "text/plain": [
       "<Figure size 640x480 with 1 Axes>"
      ]
     },
     "metadata": {},
     "output_type": "display_data"
    }
   ],
   "source": [
    "# Unsurprisingly, we get a multi-modal distribution where people tend to either agree or disagree considering we removed all nps scores of 0 :)\n",
    "pd.Series(all_scores).describe(), pd.Series(all_scores).hist()"
   ]
  },
  {
   "cell_type": "code",
   "execution_count": null,
   "id": "5MvoUlKHpUlC",
   "metadata": {},
   "outputs": [
    {
     "data": {
      "text/plain": [
       "(2141, 1417)"
      ]
     },
     "execution_count": 20,
     "metadata": {},
     "output_type": "execute_result"
    }
   ],
   "source": [
    "# This might seem like not a lot of data, but we will see sometimes that's all it takes!\n",
    "len(positive_pairs_examples), len(negative_pairs_examples)"
   ]
  },
  {
   "cell_type": "code",
   "execution_count": null,
   "id": "d5749609",
   "metadata": {},
   "outputs": [
    {
     "data": {
      "text/plain": [
       "{'guid': '',\n",
       " 'texts': ['Kuroko no Basket: Tip Off is a Special.\\nSynopsis: Episode 22.5 bundled with BD/DVD volume 8. The episode covers Kuroko\\'s past, when he was part of the \"Generation of Miracles.\"\\nIt was produced by Bandai Visual, Lantis and it is from Production I.G Studio.\\nIts source is Manga.\\nIt premiered in Unknown.\\nIts genres are Sports, Comedy, School, Shounen',\n",
       "  \"Haikyuu!!: To the Top is a TV Show.\\nSynopsis: fter their triumphant victory over Shiratorizawa Academy, the Karasuno High School volleyball team has earned their long-awaited ticket to nationals. As preparations begin, genius setter Tobio Kageyama is invited to the All-Japan Youth Training Camp to play alongside fellow nationally recognized players. Meanwhile, Kei Tsukishima is invited to a special rookie training camp for first-years within the Miyagi Prefecture. Not receiving any invitations himself, the enthusiastic Shouyou Hinata feels left behind. However, Hinata does not back down. Transforming his frustration into self-motivation, he boldly decides to sneak himself into the same rookie training camp as Tsukishima. Even though Hinata only lands himself a job as the ball boy, he comes to see this as a golden opportunity. He begins to not only reflect on his skills as a volleyball player but also analyze the plethora of information available on the court and how he can apply it. As the much-anticipated national tournament approaches, the members of Karasuno's volleyball team attempt to overcome their weak points and refine their skills, all while aiming for the top!\\nIt was produced by Dentsu, Mainichi Broadcasting System, Movic, Sony Music Entertainment, TOHO animation, Shueisha and it is from Production I.G Studio.\\nIts source is Manga.\\nIt premiered in Winter 2020.\\nIts genres are Comedy, Sports, Drama, School, Shounen\"],\n",
       " 'label': 0.8193343898573693}"
      ]
     },
     "execution_count": 21,
     "metadata": {},
     "output_type": "execute_result"
    }
   ],
   "source": [
    "positive_pairs_examples[0].__dict__  # example of a positive pair"
   ]
  },
  {
   "cell_type": "code",
   "execution_count": null,
   "id": "c49514cd",
   "metadata": {},
   "outputs": [
    {
     "data": {
      "text/plain": [
       "{'guid': '',\n",
       " 'texts': [\"Diamond no Ace is a TV Show.\\nSynopsis: h a stray pitch that completely missed the batter, Eijun Sawamura loses his final middle school baseball game. Frustrated by this defeat, Eijun and his teammates vow to reach the national tournament once they are in high school. But everything changes when a scout unexpectedly invites him to Tokyo's prestigious Seidou High School after seeing the potential in his unusual pitching style. Encouraged by his teammates, Eijun accepts the offer, ready to improve his skills and play at a much more competitive level of baseball. However, now surrounded by a large number of skilled players, Eijun struggles to find his place on the team. He declares that he will one day become the team's ace, but that's only if fellow first year Satoru Furuya doesn't take the title first, with his breakneck fastballs that earn him a coveted spot on the starting roster. With the addition of these talented new players to an already powerful lineup, the Seidou baseball team aims to become the best in Japan, facing off against a number of formidable foes that stand in their way.\\nIt was produced by TV Tokyo, Sotsu, Pony Canyon, Kodansha, AT-X, DAX Production and it is from Production I.G, Madhouse Studio.\\nIts source is Manga.\\nIt premiered in Fall 2013.\\nIts genres are Comedy, School, Shounen, Sports\",\n",
       "  'Big Order (TV) is a TV Show.\\nSynopsis: Ten years ago, a fairy by the name of Daisy appeared and asked the child Eiji Hoshimiya what his one and only wish was. Although his wish remains a mystery, the consequences were catastrophic. In an event called the \"Great Destruction,\" the world started to fall apart as everything collapsed and countless people died. Now, Eiji is a high school student whose only concern is his sick sister. He does not remember what he wished for; all that he remembers is that his wish caused the Great Destruction. In the years since that event, thousands of other people have also received abilities to make their heart\\'s desire come true. These people called \"Orders\" are believed to be evil and are hated by the general public. However, some of these Orders are after Eiji\\'s life in vengeance for those that he killed. Will Eiji be able to survive the numerous assassination attempts? And the biggest mystery of all: what did he wish for, and what were his intentions in wishing for something that caused so much desolation?\\nIt was produced by Lantis, Rakuonsha, KlockWorx and it is from Asread Studio.\\nIts source is Manga.\\nIt premiered in Spring 2016.\\nIts genres are Action, Shounen, Super Power'],\n",
       " 'label': -0.8874458874458875}"
      ]
     },
     "execution_count": 22,
     "metadata": {},
     "output_type": "execute_result"
    }
   ],
   "source": [
    "negative_pairs_examples[0].__dict__  # example of a negative pair"
   ]
  },
  {
   "cell_type": "code",
   "execution_count": null,
   "id": "4f7af0d3",
   "metadata": {},
   "outputs": [],
   "source": [
    "# Splitting them up separately to keep the split a bit stratefied.\n",
    "train_positive_pairs, val_positive_pairs = train_test_split(positive_pairs_examples, test_size=0.2, random_state=42)\n",
    "train_negative_pairs, val_negative_pairs = train_test_split(negative_pairs_examples, test_size=0.2, random_state=42)\n",
    "\n",
    "# Combine positive and negative pairs\n",
    "train_examples = train_positive_pairs + train_negative_pairs\n",
    "\n",
    "# Combine positive and negative pairs for the validation set\n",
    "val_examples = val_positive_pairs + val_negative_pairs"
   ]
  },
  {
   "cell_type": "code",
   "execution_count": null,
   "id": "ac54ca74",
   "metadata": {},
   "outputs": [],
   "source": []
  },
  {
   "cell_type": "code",
   "execution_count": null,
   "id": "c4bd3786",
   "metadata": {},
   "outputs": [
    {
     "data": {
      "application/vnd.jupyter.widget-view+json": {
       "model_id": "24c82d34cc5b45a1a46b7a5582c0a89a",
       "version_major": 2,
       "version_minor": 0
      },
      "text/plain": [
       "vocab.json:   0%|          | 0.00/899k [00:00<?, ?B/s]"
      ]
     },
     "metadata": {},
     "output_type": "display_data"
    },
    {
     "data": {
      "application/vnd.jupyter.widget-view+json": {
       "model_id": "8bf7bba4f5444b9488f6489c2c64f589",
       "version_major": 2,
       "version_minor": 0
      },
      "text/plain": [
       "merges.txt:   0%|          | 0.00/456k [00:00<?, ?B/s]"
      ]
     },
     "metadata": {},
     "output_type": "display_data"
    },
    {
     "data": {
      "application/vnd.jupyter.widget-view+json": {
       "model_id": "f13cbbf3bc714d65a9bdd2dfbf421dd0",
       "version_major": 2,
       "version_minor": 0
      },
      "text/plain": [
       "tokenizer.json:   0%|          | 0.00/1.36M [00:00<?, ?B/s]"
      ]
     },
     "metadata": {},
     "output_type": "display_data"
    },
    {
     "data": {
      "application/vnd.jupyter.widget-view+json": {
       "model_id": "e3004cdc08b4413a8542bd8912b9858e",
       "version_major": 2,
       "version_minor": 0
      },
      "text/plain": [
       "config.json:   0%|          | 0.00/480 [00:00<?, ?B/s]"
      ]
     },
     "metadata": {},
     "output_type": "display_data"
    },
    {
     "data": {
      "text/plain": [
       "SentenceTransformer(\n",
       "  (0): Transformer({'max_seq_length': 384, 'do_lower_case': False}) with Transformer model: RobertaModel \n",
       "  (1): Pooling({'word_embedding_dimension': 768, 'pooling_mode_cls_token': False, 'pooling_mode_mean_tokens': True, 'pooling_mode_max_tokens': False, 'pooling_mode_mean_sqrt_len_tokens': False, 'pooling_mode_weightedmean_tokens': False, 'pooling_mode_lasttoken': False})\n",
       ")"
      ]
     },
     "execution_count": 25,
     "metadata": {},
     "output_type": "execute_result"
    }
   ],
   "source": [
    "# An open-source semantic similarity embedder\n",
    "anime_encoder = SentenceTransformer('paraphrase-distilroberta-base-v1')\n",
    "anime_encoder.max_seq_length = 384     # Change context window to 384 tokens. It is normally 128\n",
    "\n",
    "# Create a non-fast tokenizer. NOTE I am doing this purely for compatibility when saving the models.\n",
    "non_fast_tokenizer = RobertaTokenizer.from_pretrained('distilroberta-base')\n",
    "anime_encoder.tokenizer = non_fast_tokenizer\n",
    "\n",
    "anime_encoder"
   ]
  },
  {
   "cell_type": "code",
   "execution_count": null,
   "id": "ebf771f3",
   "metadata": {},
   "outputs": [
    {
     "name": "stderr",
     "output_type": "stream",
     "text": [
      "Token indices sequence length is longer than the specified maximum sequence length for this model (689 > 512). Running this sequence through the model will result in indexing errors\n"
     ]
    },
    {
     "data": {
      "image/png": "[encoded data removed]",
      "text/plain": [
       "<Figure size 1000x600 with 1 Axes>"
      ]
     },
     "metadata": {},
     "output_type": "display_data"
    }
   ],
   "source": [
    "lengths = []\n",
    "for c in pre_merged_anime['generated_description']:\n",
    "    lengths.append(anime_encoder.tokenizer(c, return_tensors='pt')['input_ids'].shape[1])\n",
    "\n",
    "# Set up the plot and histogram\n",
    "plt.figure(figsize=(10, 6))\n",
    "plt.hist(lengths, bins=30, edgecolor='black', color='steelblue', alpha=0.7)\n",
    "\n",
    "# Customize the plot's appearance\n",
    "plt.title(\"Histogram of Token Lengths\", fontsize=16)\n",
    "plt.xlabel(\"Lengths\", fontsize=14)\n",
    "plt.ylabel(\"Frequency\", fontsize=14)\n",
    "plt.xticks(fontsize=12)\n",
    "plt.yticks(fontsize=12)\n",
    "plt.grid(axis='y', alpha=0.5, linestyle='--')\n",
    "\n",
    "# Display the histogram\n",
    "plt.show()\n"
   ]
  },
  {
   "cell_type": "code",
   "execution_count": null,
   "id": "fef14de9",
   "metadata": {},
   "outputs": [],
   "source": [
    "# Create a DataLoader for the validation examples\n",
    "val_dataloader = DataLoader(\n",
    "    val_examples,\n",
    "    batch_size=16,\n",
    "    shuffle=True\n",
    ")\n",
    "\n",
    "# Extract sentences and scores from the validation examples\n",
    "val_sentences1 = [ex.texts[0] for ex in val_examples]\n",
    "val_sentences2 = [ex.texts[1] for ex in val_examples]\n",
    "val_scores = [ex.label for ex in val_examples]\n",
    "\n",
    "# Create the evaluator\n",
    "evaluator = evaluation.EmbeddingSimilarityEvaluator(val_sentences1, val_sentences2, val_scores)"
   ]
  },
  {
   "cell_type": "code",
   "execution_count": null,
   "id": "e3294b38",
   "metadata": {},
   "outputs": [
    {
     "data": {
      "text/plain": [
       "0.14746975002767876"
      ]
     },
     "execution_count": 29,
     "metadata": {},
     "output_type": "execute_result"
    }
   ],
   "source": [
    "# Initial scores are not very good\n",
    "anime_encoder.evaluate(evaluator)"
   ]
  },
  {
   "cell_type": "code",
   "execution_count": null,
   "id": "52262c78",
   "metadata": {},
   "outputs": [
    {
     "data": {
      "application/vnd.jupyter.widget-view+json": {
       "model_id": "0e97dc5a1075408f962eb11988c7259b",
       "version_major": 2,
       "version_minor": 0
      },
      "text/plain": [
       "Epoch:   0%|          | 0/1 [00:00<?, ?it/s]"
      ]
     },
     "metadata": {},
     "output_type": "display_data"
    },
    {
     "data": {
      "application/vnd.jupyter.widget-view+json": {
       "model_id": "ef709b7c85df426e8c64760b3827cfac",
       "version_major": 2,
       "version_minor": 0
      },
      "text/plain": [
       "Iteration:   0%|          | 0/178 [00:00<?, ?it/s]"
      ]
     },
     "metadata": {},
     "output_type": "display_data"
    }
   ],
   "source": [
    "# Create a DataLoader for the examples\n",
    "train_dataloader = DataLoader(\n",
    "    train_examples,\n",
    "    batch_size=16,\n",
    "    shuffle=True\n",
    ")\n",
    "\n",
    "# Define the loss function\n",
    "loss = losses.CosineSimilarityLoss(model=anime_encoder)\n",
    "\n",
    "# Train the model\n",
    "num_epochs = 1\n",
    "warmup_steps = int(len(train_dataloader) * num_epochs * 0.1)  # 10% of training data for warm-up\n",
    "\n",
    "# Configure the training\n",
    "anime_encoder.fit(\n",
    "    train_objectives=[(train_dataloader, loss)],\n",
    "    epochs=num_epochs,\n",
    "    warmup_steps=warmup_steps,\n",
    "    evaluator=evaluator,\n",
    "    output_path=\"anime_encoder\"\n",
    ")"
   ]
  },
  {
   "cell_type": "code",
   "execution_count": null,
   "id": "7338061f",
   "metadata": {},
   "outputs": [
    {
     "data": {
      "text/plain": [
       "0.36676677694397314"
      ]
     },
     "execution_count": 31,
     "metadata": {},
     "output_type": "execute_result"
    }
   ],
   "source": [
    "anime_encoder.evaluate(evaluator)  # better!"
   ]
  },
  {
   "cell_type": "code",
   "execution_count": null,
   "id": "902e9e94",
   "metadata": {},
   "outputs": [],
   "source": [
    "# Save the fine-tuned model\n",
    "anime_encoder.save(\"anime_encoder\")"
   ]
  },
  {
   "cell_type": "code",
   "execution_count": null,
   "id": "6570a51e",
   "metadata": {},
   "outputs": [],
   "source": []
  },
  {
   "cell_type": "markdown",
   "id": "fcjxwetrXs2J",
   "metadata": {
    "id": "fcjxwetrXs2J"
   },
   "source": [
    "# Try again with a larger open-source embedder"
   ]
  },
  {
   "cell_type": "code",
   "execution_count": null,
   "id": "d4ce640b",
   "metadata": {},
   "outputs": [
    {
     "data": {
      "application/vnd.jupyter.widget-view+json": {
       "model_id": "6a0065e689af493c93026318e17d5f1b",
       "version_major": 2,
       "version_minor": 0
      },
      "text/plain": [
       "modules.json:   0%|          | 0.00/349 [00:00<?, ?B/s]"
      ]
     },
     "metadata": {},
     "output_type": "display_data"
    },
    {
     "data": {
      "application/vnd.jupyter.widget-view+json": {
       "model_id": "c56a1f334639490c9c82adfff0f3cd64",
       "version_major": 2,
       "version_minor": 0
      },
      "text/plain": [
       "config_sentence_transformers.json:   0%|          | 0.00/116 [00:00<?, ?B/s]"
      ]
     },
     "metadata": {},
     "output_type": "display_data"
    },
    {
     "data": {
      "application/vnd.jupyter.widget-view+json": {
       "model_id": "8fde321748334a52827b9d3fb3cef2c1",
       "version_major": 2,
       "version_minor": 0
      },
      "text/plain": [
       "README.md:   0%|          | 0.00/10.6k [00:00<?, ?B/s]"
      ]
     },
     "metadata": {},
     "output_type": "display_data"
    },
    {
     "data": {
      "application/vnd.jupyter.widget-view+json": {
       "model_id": "57c7a366de4845fba36ce58692079b23",
       "version_major": 2,
       "version_minor": 0
      },
      "text/plain": [
       "sentence_bert_config.json:   0%|          | 0.00/53.0 [00:00<?, ?B/s]"
      ]
     },
     "metadata": {},
     "output_type": "display_data"
    },
    {
     "data": {
      "application/vnd.jupyter.widget-view+json": {
       "model_id": "b7c4f732a9824af6bfa9c1c19881457d",
       "version_major": 2,
       "version_minor": 0
      },
      "text/plain": [
       "config.json:   0%|          | 0.00/571 [00:00<?, ?B/s]"
      ]
     },
     "metadata": {},
     "output_type": "display_data"
    },
    {
     "data": {
      "application/vnd.jupyter.widget-view+json": {
       "model_id": "998af868ec51485b9c16629549f869be",
       "version_major": 2,
       "version_minor": 0
      },
      "text/plain": [
       "pytorch_model.bin:   0%|          | 0.00/438M [00:00<?, ?B/s]"
      ]
     },
     "metadata": {},
     "output_type": "display_data"
    },
    {
     "data": {
      "application/vnd.jupyter.widget-view+json": {
       "model_id": "d8ed9de2f4944547916d195a7133b4ba",
       "version_major": 2,
       "version_minor": 0
      },
      "text/plain": [
       "tokenizer_config.json:   0%|          | 0.00/363 [00:00<?, ?B/s]"
      ]
     },
     "metadata": {},
     "output_type": "display_data"
    },
    {
     "data": {
      "application/vnd.jupyter.widget-view+json": {
       "model_id": "de6eedcb1b2c4a90a675e3123aef0ea9",
       "version_major": 2,
       "version_minor": 0
      },
      "text/plain": [
       "vocab.txt:   0%|          | 0.00/232k [00:00<?, ?B/s]"
      ]
     },
     "metadata": {},
     "output_type": "display_data"
    },
    {
     "data": {
      "application/vnd.jupyter.widget-view+json": {
       "model_id": "3b26ce7e823841a8a1318cfe5eb333f9",
       "version_major": 2,
       "version_minor": 0
      },
      "text/plain": [
       "tokenizer.json:   0%|          | 0.00/466k [00:00<?, ?B/s]"
      ]
     },
     "metadata": {},
     "output_type": "display_data"
    },
    {
     "data": {
      "application/vnd.jupyter.widget-view+json": {
       "model_id": "ddfd25e8d8ca4773ac723ed05fc9f4e5",
       "version_major": 2,
       "version_minor": 0
      },
      "text/plain": [
       "special_tokens_map.json:   0%|          | 0.00/239 [00:00<?, ?B/s]"
      ]
     },
     "metadata": {},
     "output_type": "display_data"
    },
    {
     "data": {
      "application/vnd.jupyter.widget-view+json": {
       "model_id": "31ccd3d0edce4581812f79d7d1bee2f5",
       "version_major": 2,
       "version_minor": 0
      },
      "text/plain": [
       "1_Pooling/config.json:   0%|          | 0.00/190 [00:00<?, ?B/s]"
      ]
     },
     "metadata": {},
     "output_type": "display_data"
    },
    {
     "data": {
      "text/plain": [
       "SentenceTransformer(\n",
       "  (0): Transformer({'max_seq_length': 384, 'do_lower_case': False}) with Transformer model: MPNetModel \n",
       "  (1): Pooling({'word_embedding_dimension': 768, 'pooling_mode_cls_token': False, 'pooling_mode_mean_tokens': True, 'pooling_mode_max_tokens': False, 'pooling_mode_mean_sqrt_len_tokens': False, 'pooling_mode_weightedmean_tokens': False, 'pooling_mode_lasttoken': False})\n",
       "  (2): Normalize()\n",
       ")"
      ]
     },
     "execution_count": 33,
     "metadata": {},
     "output_type": "execute_result"
    }
   ],
   "source": [
    "# Load a pre-trained SBERT model\n",
    "anime_encoder_bigger = SentenceTransformer('all-mpnet-base-v2')\n",
    "anime_encoder_bigger"
   ]
  },
  {
   "cell_type": "code",
   "execution_count": null,
   "id": "bba6f93f",
   "metadata": {},
   "outputs": [],
   "source": [
    "# Create a DataLoader for the examples. Technically not necessary because we defined it earlier\n",
    "train_dataloader = DataLoader(\n",
    "    train_examples,\n",
    "    batch_size=16,\n",
    "    shuffle=True\n",
    ")\n",
    "\n",
    "# Define the loss function for our new model\n",
    "loss = losses.CosineSimilarityLoss(model=anime_encoder_bigger)"
   ]
  },
  {
   "cell_type": "code",
   "execution_count": null,
   "id": "cb557fbd",
   "metadata": {},
   "outputs": [
    {
     "data": {
      "text/plain": [
       "0.06275655231365909"
      ]
     },
     "execution_count": 35,
     "metadata": {},
     "output_type": "execute_result"
    }
   ],
   "source": [
    "anime_encoder_bigger.evaluate(evaluator)"
   ]
  },
  {
   "cell_type": "code",
   "execution_count": null,
   "id": "fd76411d",
   "metadata": {},
   "outputs": [
    {
     "data": {
      "application/vnd.jupyter.widget-view+json": {
       "model_id": "61a4578cc2574699b9e9a27164bfe669",
       "version_major": 2,
       "version_minor": 0
      },
      "text/plain": [
       "Epoch:   0%|          | 0/1 [00:00<?, ?it/s]"
      ]
     },
     "metadata": {},
     "output_type": "display_data"
    },
    {
     "data": {
      "application/vnd.jupyter.widget-view+json": {
       "model_id": "c33fda164d37472f813e3acaa568c268",
       "version_major": 2,
       "version_minor": 0
      },
      "text/plain": [
       "Iteration:   0%|          | 0/178 [00:00<?, ?it/s]"
      ]
     },
     "metadata": {},
     "output_type": "display_data"
    }
   ],
   "source": [
    "# Train the model\n",
    "num_epochs = 1\n",
    "warmup_steps = int(len(train_dataloader) * num_epochs * 0.1)  # 10% of training data for warm-up\n",
    "\n",
    "# Configure the training\n",
    "anime_encoder_bigger.fit(\n",
    "    train_objectives=[(train_dataloader, loss)],\n",
    "    epochs=num_epochs,\n",
    "    evaluator=evaluator,\n",
    "    output_path=\"anime_encoder_bigger\"\n",
    ")"
   ]
  },
  {
   "cell_type": "code",
   "execution_count": null,
   "id": "Qo3Qh_FFLSAv",
   "metadata": {},
   "outputs": [
    {
     "data": {
      "text/plain": [
       "0.0846954862411208"
      ]
     },
     "execution_count": 37,
     "metadata": {},
     "output_type": "execute_result"
    }
   ],
   "source": [
    "anime_encoder_bigger.evaluate(evaluator)  # Got a little bit better!"
   ]
  },
  {
   "cell_type": "code",
   "execution_count": null,
   "id": "acc89d2d",
   "metadata": {},
   "outputs": [],
   "source": [
    "anime_encoder_bigger.save('anime_encoder_bigger')"
   ]
  },
  {
   "cell_type": "code",
   "execution_count": null,
   "id": "de11cf7a",
   "metadata": {},
   "outputs": [],
   "source": [
    "embedders = (  # our embedders, one from OpenAI, one non fine-tuned, and two fine-tuned models\n",
    "    'text-embedding-ada-002',\n",
    "    'text-embedding-3-large',\n",
    "    'paraphrase-distilroberta-base-v1',\n",
    "    'anime_encoder',\n",
    "    'all-mpnet-base-v2',\n",
    "    'anime_encoder_bigger'\n",
    ")\n",
    "\n",
    "embeddings = {}"
   ]
  },
  {
   "cell_type": "code",
   "execution_count": null,
   "id": "8bb5e909-f8bb-4653-ad8f-e32dbce2cae0",
   "metadata": {},
   "outputs": [],
   "source": [
    "client = OpenAI(\n",
    "    api_key=os.environ.get(\"OPENAI_API_KEY\")\n",
    ")\n",
    "# helper functions to get lists of embeddings from the OpenAI API\n",
    "def get_embeddings(texts, engine=ENGINE):\n",
    "    response = client.embeddings.create(\n",
    "        input=texts,\n",
    "        model=engine\n",
    "    )\n",
    "\n",
    "    return [d.embedding for d in list(response.data)]\n",
    "\n",
    "def get_embedding(text, engine=ENGINE):\n",
    "    return get_embeddings([text], engine)[0]\n"
   ]
  },
  {
   "cell_type": "code",
   "execution_count": null,
   "id": "i2LpDW0HFgCp",
   "metadata": {},
   "outputs": [
    {
     "data": {
      "application/vnd.jupyter.widget-view+json": {
       "model_id": "3ffa64f0bec24530900ed6405e7555cd",
       "version_major": 2,
       "version_minor": 0
      },
      "text/plain": [
       "  0%|          | 0/163 [00:00<?, ?it/s]"
      ]
     },
     "metadata": {},
     "output_type": "display_data"
    },
    {
     "data": {
      "application/vnd.jupyter.widget-view+json": {
       "model_id": "dd4051ebf40e44558043fa4fcacae0ff",
       "version_major": 2,
       "version_minor": 0
      },
      "text/plain": [
       "  0%|          | 0/163 [00:00<?, ?it/s]"
      ]
     },
     "metadata": {},
     "output_type": "display_data"
    },
    {
     "data": {
      "application/vnd.jupyter.widget-view+json": {
       "model_id": "488d11f35d574881985fba0938ad22b8",
       "version_major": 2,
       "version_minor": 0
      },
      "text/plain": [
       "Batches:   0%|          | 0/127 [00:00<?, ?it/s]"
      ]
     },
     "metadata": {},
     "output_type": "display_data"
    },
    {
     "data": {
      "application/vnd.jupyter.widget-view+json": {
       "model_id": "b3d6d465595447a299da2917e87a40d1",
       "version_major": 2,
       "version_minor": 0
      },
      "text/plain": [
       "Batches:   0%|          | 0/127 [00:00<?, ?it/s]"
      ]
     },
     "metadata": {},
     "output_type": "display_data"
    },
    {
     "data": {
      "application/vnd.jupyter.widget-view+json": {
       "model_id": "c4b11362528040dd9e480cd1f5ca317e",
       "version_major": 2,
       "version_minor": 0
      },
      "text/plain": [
       "Batches:   0%|          | 0/127 [00:00<?, ?it/s]"
      ]
     },
     "metadata": {},
     "output_type": "display_data"
    },
    {
     "data": {
      "application/vnd.jupyter.widget-view+json": {
       "model_id": "1eaf726eb75e4808b7f12b9b7ab250d6",
       "version_major": 2,
       "version_minor": 0
      },
      "text/plain": [
       "Batches:   0%|          | 0/127 [00:00<?, ?it/s]"
      ]
     },
     "metadata": {},
     "output_type": "display_data"
    }
   ],
   "source": [
    "docs = pre_merged_anime['generated_description'].tolist()\n",
    "for embedder in embedders:\n",
    "    if embedder in embeddings:\n",
    "        continue\n",
    "    if 'ada' in embedder or '3-' in embedder:\n",
    "        openai_embeddings = None\n",
    "        for s in tqdm(range(0, len(docs), 100)):\n",
    "            if openai_embeddings is None:\n",
    "                openai_embeddings = np.array(get_embeddings(docs[s:s+100], engine=embedder))\n",
    "            else:\n",
    "                openai_embeddings = np.vstack([openai_embeddings, np.array(get_embeddings(docs[s:s+100], engine=embedder))])\n",
    "        embeddings[embedder] = openai_embeddings\n",
    "    else:\n",
    "        try:\n",
    "            e = SentenceTransformer(embedder)\n",
    "        except:\n",
    "            print(f'Could not load {embedder}')\n",
    "            continue\n",
    "        embeddings[embedder] = e.encode(docs, batch_size=128, show_progress_bar=True)\n"
   ]
  },
  {
   "cell_type": "code",
   "execution_count": null,
   "id": "56b52afb",
   "metadata": {},
   "outputs": [],
   "source": [
    "'''\n",
    "Given a user id\n",
    "\n",
    "for each anime that the user gave a 9 or a 10 for:\n",
    "    get k other relevant animes (semantic search given an embedder)\n",
    "    for each relevant anime:\n",
    "        if the anime was rating in the training set for that user, ignore\n",
    "        elif the anime is not present in the testing set for that user, ignore\n",
    "        else:\n",
    "            check rating in testing for that user\n",
    "            case rating:\n",
    "                9,10 -> Promoter  ( + 1 points)\n",
    "                7,8  -> Passive   ( + 0 point )\n",
    "                1-6  -> Detractor ( - 1 point )\n",
    "                Not in the set    (   0 points)\n",
    "\n",
    "'''\n",
    "\n",
    "docs = pre_merged_anime['generated_description'].tolist()\n",
    "for embedder in embedders:\n",
    "    if embedder in embeddings:\n",
    "        continue\n",
    "    if 'ada' in embedder:\n",
    "        ada_embeddings = None\n",
    "        for s in tqdm(range(0, len(docs), 100)):\n",
    "            if ada_embeddings is None:\n",
    "                ada_embeddings = np.array(get_embeddings(docs[s:s+100], engine=embedder))\n",
    "            else:\n",
    "                ada_embeddings = np.vstack([ada_embeddings, np.array(get_embeddings(docs[s:s+100], engine=embedder))])\n",
    "        embeddings[embedder] = ada_embeddings\n",
    "    else:\n",
    "        try:\n",
    "            e = SentenceTransformer(embedder)\n",
    "        except:\n",
    "            print(f'Could not load {embedder}')\n",
    "            continue\n",
    "        embeddings[embedder] = e.encode(docs, batch_size=128, show_progress_bar=True)\n"
   ]
  },
  {
   "cell_type": "code",
   "execution_count": null,
   "id": "99b69b6b",
   "metadata": {},
   "outputs": [
    {
     "data": {
      "text/plain": [
       "dict_keys(['text-embedding-ada-002', 'text-embedding-3-large', 'paraphrase-distilroberta-base-v1', 'anime_encoder', 'all-mpnet-base-v2', 'anime_encoder_bigger'])"
      ]
     },
     "execution_count": 43,
     "metadata": {},
     "output_type": "execute_result"
    }
   ],
   "source": [
    "embeddings.keys()  # we now have embeddings for all of the animes in our testing set for all of our embedders"
   ]
  },
  {
   "cell_type": "code",
   "execution_count": null,
   "id": "9e460e63",
   "metadata": {},
   "outputs": [],
   "source": [
    "# get cosine similarities for all pairs of animes for all embedders\n",
    "cosine_sim_matrices = {embedder: cosine_similarity(embeddings[embedder]) for embedder in embedders if embedder in embeddings}"
   ]
  },
  {
   "cell_type": "code",
   "execution_count": null,
   "id": "4fb9110b",
   "metadata": {},
   "outputs": [],
   "source": [
    "@lru_cache(maxsize=None)\n",
    "def get_similar_animes(anime_id: int, embedder: str, k: int = 10, verbose: bool = False) -> List[Tuple[int, float]]:\n",
    "    if embedder not in embeddings:\n",
    "        return []\n",
    "    # Get the index of the anime in the pre_merged_anime dataframe\n",
    "    try:\n",
    "        idx = pre_merged_anime[pre_merged_anime['MAL_ID'] == anime_id].index[0]\n",
    "    except:\n",
    "        return []\n",
    "    if verbose:\n",
    "        print(f'idx: {idx}')\n",
    "    cosine_sim_matrix = cosine_sim_matrices[embedder]\n",
    "\n",
    "    # Get the cosine similarity scores for the given anime_id\n",
    "    sim_scores = list(enumerate(cosine_sim_matrix[idx]))\n",
    "\n",
    "    # Sort the animes based on the similarity scores\n",
    "    sim_scores = sorted(sim_scores, key=lambda x: x[1], reverse=True)\n",
    "\n",
    "    # Get the indices and scores of the k most similar animes\n",
    "    k_indices_scores = sim_scores[1:k+1]\n",
    "\n",
    "    # Separate indices and scores\n",
    "    k_indices = [i[0] for i in k_indices_scores]\n",
    "    k_scores = [round(i[1], 3) for i in k_indices_scores]\n",
    "\n",
    "    # Get the MAL_IDs of the k most similar animes\n",
    "    k_anime_ids = pre_merged_anime['MAL_ID'].iloc[k_indices].tolist()\n",
    "\n",
    "    # Return the MAL_IDs and their corresponding similarity scores\n",
    "    return list(zip(k_anime_ids, k_scores))\n"
   ]
  },
  {
   "cell_type": "code",
   "execution_count": null,
   "id": "d0e312e2",
   "metadata": {},
   "outputs": [
    {
     "name": "stdout",
     "output_type": "stream",
     "text": [
      "Anime ID: 4059\n",
      "Clannad: Mou Hitotsu no Sekai, Tomoyo-hen is a Special.\n",
      "Synopsis: Clannad: Mou Hitotsu no Sekai, Tomoyo-hen is set in an alternate reality where Tomoya Okazaki dates his junior, Tomoyo Sakagami. Tomoyo has been elected to be the school's next Student Council President. This is great news as she can now work toward her goal of preventing the school's cherry blossom trees from being axed. Although Tomoya is ecstatic for her, given his reputation as a delinquent in school, his relationship with Tomoyo is making them the subject of gossip around the campus, which can potentially compromise her standing as Student Council President. The school community's disapproval of their relationship becomes more apparent when the Student Council's Vice-President and even the school's administration warn Tomoya to distance himself from Tomoyo. With the bad atmosphere widening the rift between Tomoya and Tomoyo, will Tomoya succumb to societal pressure and do as they say, or will their love for each other rise above it all?\n",
      "It was produced by Pony Canyon and it is from Kyoto Animation Studio.\n",
      "Its source is Visual novel.\n",
      "It premiered in Unknown.\n",
      "Its genres are Drama, Romance, School, Slice of Life\n",
      "idx: 3057\n",
      "text-embedding-ada-002\n",
      "[(6351, 0.921), (1723, 0.908), (2167, 0.905)]\n",
      "\n",
      "idx: 3057\n",
      "text-embedding-3-large\n",
      "[(6351, 0.787), (1723, 0.699), (2167, 0.672)]\n",
      "\n",
      "idx: 3057\n",
      "paraphrase-distilroberta-base-v1\n",
      "[(17835, 0.594), (33970, 0.589), (1723, 0.586)]\n",
      "\n",
      "idx: 3057\n",
      "anime_encoder\n",
      "[(6351, 0.516), (2167, 0.508), (1723, 0.504)]\n",
      "\n",
      "idx: 3057\n",
      "all-mpnet-base-v2\n",
      "[(6351, 0.834), (1723, 0.802), (2167, 0.795)]\n",
      "\n",
      "idx: 3057\n",
      "anime_encoder_bigger\n",
      "[(6351, 0.808), (1723, 0.743), (2167, 0.73)]\n",
      "\n"
     ]
    }
   ],
   "source": [
    "anime_id = 4059\n",
    "print(f'Anime ID: {anime_id}')\n",
    "print(pre_merged_anime[pre_merged_anime['MAL_ID'] == anime_id]['generated_description'].iloc[0])\n",
    "for e in embedders:\n",
    "    if e in embeddings:\n",
    "        similar_animes = get_similar_animes(anime_id, e, k=3, verbose=True)\n",
    "        print(e)\n",
    "        print(similar_animes)\n",
    "        print()\n"
   ]
  },
  {
   "cell_type": "code",
   "execution_count": null,
   "id": "283b4836",
   "metadata": {},
   "outputs": [
    {
     "data": {
      "application/vnd.google.colaboratory.intrinsic+json": {
       "type": "string"
      },
      "text/plain": [
       "\"Clannad: After Story - Mou Hitotsu no Sekai, Kyou-hen is a Special.\\nSynopsis: Included in the 8th and final DVD of Clannad ~After Story~ is an extra episode set in an alternate universe. Here, Fujibayashi Kyou is the main heroine in place of Furukawa Nagisa. Love can be wonderfully exciting, but also extremely painful. Fujibayashi Ryou, Kyou's sister, is in love with Okazaki Tomoya, the male protagonist. With the help of Kyou, Ryou manages to sum up the courage to ask him out and now Tomoya and Ryou are a couple. However, as things progress, Kyou begins to acknowledge her feelings for Tomoya, and a love-triangle is formed. As everything is revealed, the sisters learn the pains of love and try to decide between the two loves of their life: Tomoya, or each other.\\nIt was produced by Animation Do and it is from Kyoto Animation Studio.\\nIts source is Visual novel.\\nIt premiered in Unknown.\\nIts genres are Drama, Romance, School\""
      ]
     },
     "execution_count": 47,
     "metadata": {},
     "output_type": "execute_result"
    }
   ],
   "source": [
    "pre_merged_anime[pre_merged_anime['MAL_ID'] == 6351]['generated_description'].iloc[0]"
   ]
  },
  {
   "cell_type": "code",
   "execution_count": null,
   "id": "ceb734ef",
   "metadata": {},
   "outputs": [],
   "source": [
    "def get_promoted_animes_from_user(user_id):\n",
    "    return rating_complete_train[(rating_complete_train['user_id'] == user_id) & (rating_complete_train['nps_score'] == 1)]['anime_id'].unique().tolist()\n"
   ]
  },
  {
   "cell_type": "code",
   "execution_count": null,
   "id": "49110f5f",
   "metadata": {},
   "outputs": [
    {
     "data": {
      "application/vnd.jupyter.widget-view+json": {
       "model_id": "b796e20273fe432ca13fb442463d3b3d",
       "version_major": 2,
       "version_minor": 0
      },
      "text/plain": [
       "  0%|          | 0/2218357 [00:00<?, ?it/s]"
      ]
     },
     "metadata": {},
     "output_type": "display_data"
    }
   ],
   "source": [
    "user_anime_test_ratings = defaultdict(dict)\n",
    "for index, user_id, anime_id, rating, nps_score in tqdm(rating_complete_test.to_records()):\n",
    "    user_anime_test_ratings[int(user_id)][int(anime_id)] = rating"
   ]
  },
  {
   "cell_type": "code",
   "execution_count": null,
   "id": "uPxhz03h7mE8",
   "metadata": {},
   "outputs": [],
   "source": [
    "@lru_cache()\n",
    "def get_relevant_animes(reference_promoted_anime_id, embedder, k=5, verbose=True):\n",
    "    preds = []\n",
    "    similar_animes = get_similar_animes(reference_promoted_anime_id, embedder, k=k)\n",
    "\n",
    "    for similar_anime_id, cosine_score in similar_animes:\n",
    "        if cosine_score >= 1:\n",
    "            continue  # ignoring exact matches\n",
    "        if verbose:\n",
    "            print(f'Recommending (ID {similar_anime_id}) Cos_Sim {cosine_score:.3f}')\n",
    "        preds.append((similar_anime_id, cosine_score))\n",
    "    return preds\n"
   ]
  },
  {
   "cell_type": "code",
   "execution_count": null,
   "id": "vYll41yH7PYM",
   "metadata": {},
   "outputs": [
    {
     "name": "stdout",
     "output_type": "stream",
     "text": [
      "Recommending (ID 6351) Cos_Sim 0.808\n",
      "Recommending (ID 1723) Cos_Sim 0.743\n",
      "Recommending (ID 2167) Cos_Sim 0.730\n",
      "Recommending (ID 4181) Cos_Sim 0.587\n",
      "Recommending (ID 24417) Cos_Sim 0.495\n"
     ]
    },
    {
     "data": {
      "text/plain": [
       "[(6351, 0.808), (1723, 0.743), (2167, 0.73), (4181, 0.587), (24417, 0.495)]"
      ]
     },
     "execution_count": 51,
     "metadata": {},
     "output_type": "execute_result"
    }
   ],
   "source": [
    "get_relevant_animes(4059, 'anime_encoder_bigger')"
   ]
  },
  {
   "cell_type": "code",
   "execution_count": null,
   "id": "76340dea",
   "metadata": {},
   "outputs": [],
   "source": [
    "user_preds = {}"
   ]
  },
  {
   "cell_type": "code",
   "execution_count": null,
   "id": "ea91b958",
   "metadata": {},
   "outputs": [],
   "source": [
    "def process_user(user_id, embedders, K, verbose=False):\n",
    "    user_predictions = {e: defaultdict(list) for e in embedders}\n",
    "    promoted_animes = set(get_promoted_animes_from_user(user_id))\n",
    "    if verbose:\n",
    "        print(f'{len(promoted_animes)} promoted animes')\n",
    "    for promoted_anime_id in promoted_animes:\n",
    "        for embedder in embedders:\n",
    "            relevant_animes = get_relevant_animes(promoted_anime_id, embedder, verbose=False, k=K)\n",
    "            for anime_id, cosine_score in relevant_animes:\n",
    "                # if anime_id not in user_predictions[embedder] or cosine_score > user_predictions[embedder][anime_id]:\n",
    "                user_predictions[embedder][anime_id].append(cosine_score)\n",
    "    user_predictions = {k: sorted(v.items(), key=lambda x: len(x[1]), reverse=True)[:K] for k, v in user_predictions.items()}\n",
    "    return user_id, user_predictions\n",
    "\n",
    "# Prepare the data\n",
    "user_ids = rating_complete_test['user_id'].unique()\n",
    "\n",
    "# Set the number of workers and the value for K\n",
    "num_workers = min(8, len(user_ids) + 1)\n",
    "K = 3\n"
   ]
  },
  {
   "cell_type": "code",
   "execution_count": null,
   "id": "kgbPifdBZp6t",
   "metadata": {},
   "outputs": [
    {
     "name": "stdout",
     "output_type": "stream",
     "text": [
      "Recommending (ID 30484) Cos_Sim 0.936\n",
      "Recommending (ID 10863) Cos_Sim 0.887\n",
      "Recommending (ID 11577) Cos_Sim 0.883\n",
      "Recommending (ID 37492) Cos_Sim 0.863\n",
      "Recommending (ID 32188) Cos_Sim 0.857\n"
     ]
    },
    {
     "data": {
      "text/plain": [
       "[(30484, 0.936),\n",
       " (10863, 0.887),\n",
       " (11577, 0.883),\n",
       " (37492, 0.863),\n",
       " (32188, 0.857)]"
      ]
     },
     "execution_count": 221,
     "metadata": {},
     "output_type": "execute_result"
    }
   ],
   "source": [
    "get_relevant_animes(9253, 'text-embedding-ada-002')"
   ]
  },
  {
   "cell_type": "code",
   "execution_count": null,
   "id": "X8GKy2F1BT45",
   "metadata": {},
   "outputs": [
    {
     "name": "stdout",
     "output_type": "stream",
     "text": [
      "44 promoted animes\n"
     ]
    },
    {
     "data": {
      "text/plain": [
       "(212268,\n",
       " {'text-embedding-ada-002': [(9253, [0.936, 0.883, 0.857, 0.887]),\n",
       "   (30484, [0.936, 0.903, 0.884, 0.907]),\n",
       "   (19163, [0.904, 0.917, 0.964, 0.911])],\n",
       "  'text-embedding-3-large': [(30484, [0.766, 0.682, 0.672, 0.625]),\n",
       "   (19163, [0.743, 0.702, 0.879, 0.687]),\n",
       "   (15583, [0.713, 0.731, 0.879, 0.701])],\n",
       "  'paraphrase-distilroberta-base-v1': [(30484, [0.666, 0.659, 0.558]),\n",
       "   (3806, [0.647, 0.561]),\n",
       "   (20939, [0.824, 0.794])],\n",
       "  'anime_encoder': [(30484, [0.686, 0.603, 0.478]),\n",
       "   (10495, [0.537, 0.458, 0.55]),\n",
       "   (20047, [0.568, 0.519])],\n",
       "  'all-mpnet-base-v2': [(36633, [0.746, 0.689, 0.909, 0.867, 0.678]),\n",
       "   (10863, [0.746, 0.692, 0.795, 0.57]),\n",
       "   (11577, [0.731, 0.685, 0.582, 0.795])],\n",
       "  'anime_encoder_bigger': [(36633, [0.738, 0.616, 0.89, 0.839, 0.653]),\n",
       "   (10863, [0.716, 0.688, 0.706, 0.553]),\n",
       "   (11577, [0.691, 0.634, 0.549, 0.706])]})"
      ]
     },
     "execution_count": 219,
     "metadata": {},
     "output_type": "execute_result"
    }
   ],
   "source": [
    "user_id, user_predictions = process_user(user_ids[0], embedders, 3, verbose=True)\n",
    "user_id, user_predictions"
   ]
  },
  {
   "cell_type": "code",
   "execution_count": null,
   "id": "uKa4gUBjZL3W",
   "metadata": {},
   "outputs": [
    {
     "name": "stdout",
     "output_type": "stream",
     "text": [
      "44 promoted animes\n"
     ]
    },
    {
     "data": {
      "text/plain": [
       "(212268,\n",
       " {'text-embedding-ada-002': [(5079,\n",
       "    [0.857,\n",
       "     0.839,\n",
       "     0.842,\n",
       "     0.851,\n",
       "     0.862,\n",
       "     0.85,\n",
       "     0.842,\n",
       "     0.838,\n",
       "     0.863,\n",
       "     0.876,\n",
       "     0.853,\n",
       "     0.859,\n",
       "     0.867]),\n",
       "   (28677,\n",
       "    [0.863,\n",
       "     0.859,\n",
       "     0.839,\n",
       "     0.864,\n",
       "     0.853,\n",
       "     0.881,\n",
       "     0.847,\n",
       "     0.862,\n",
       "     0.868,\n",
       "     0.838,\n",
       "     0.875,\n",
       "     0.864]),\n",
       "   (147,\n",
       "    [0.853,\n",
       "     0.852,\n",
       "     0.856,\n",
       "     0.834,\n",
       "     0.852,\n",
       "     0.851,\n",
       "     0.86,\n",
       "     0.839,\n",
       "     0.83,\n",
       "     0.866,\n",
       "     0.865,\n",
       "     0.87]),\n",
       "   (38483,\n",
       "    [0.845,\n",
       "     0.864,\n",
       "     0.849,\n",
       "     0.839,\n",
       "     0.863,\n",
       "     0.851,\n",
       "     0.879,\n",
       "     0.865,\n",
       "     0.852,\n",
       "     0.836,\n",
       "     0.869,\n",
       "     0.86]),\n",
       "   (38329,\n",
       "    [0.844,\n",
       "     0.854,\n",
       "     0.851,\n",
       "     0.945,\n",
       "     0.844,\n",
       "     0.847,\n",
       "     0.84,\n",
       "     0.864,\n",
       "     0.866,\n",
       "     0.874,\n",
       "     0.849,\n",
       "     0.841]),\n",
       "   (37993,\n",
       "    [0.849,\n",
       "     0.851,\n",
       "     0.856,\n",
       "     0.853,\n",
       "     0.872,\n",
       "     0.844,\n",
       "     0.86,\n",
       "     0.84,\n",
       "     0.875,\n",
       "     0.869,\n",
       "     0.855]),\n",
       "   (38619,\n",
       "    [0.858,\n",
       "     0.862,\n",
       "     0.856,\n",
       "     0.844,\n",
       "     0.842,\n",
       "     0.848,\n",
       "     0.894,\n",
       "     0.837,\n",
       "     0.877,\n",
       "     0.869,\n",
       "     0.874]),\n",
       "   (36882,\n",
       "    [0.851,\n",
       "     0.845,\n",
       "     0.868,\n",
       "     0.86,\n",
       "     0.837,\n",
       "     0.861,\n",
       "     0.849,\n",
       "     0.829,\n",
       "     0.851,\n",
       "     0.882,\n",
       "     0.833]),\n",
       "   (614,\n",
       "    [0.843,\n",
       "     0.894,\n",
       "     0.857,\n",
       "     0.858,\n",
       "     0.854,\n",
       "     0.833,\n",
       "     0.838,\n",
       "     0.859,\n",
       "     0.85,\n",
       "     0.872,\n",
       "     0.86]),\n",
       "   (26351,\n",
       "    [0.857, 0.864, 0.858, 0.863, 0.867, 0.836, 0.867, 0.844, 0.882, 0.857]),\n",
       "   (10460,\n",
       "    [0.851, 0.86, 0.852, 0.865, 0.851, 0.846, 0.838, 0.876, 0.872, 0.874]),\n",
       "   (849,\n",
       "    [0.845, 0.845, 0.867, 0.837, 0.873, 0.861, 0.86, 0.868, 0.835, 0.854]),\n",
       "   (40591,\n",
       "    [0.864, 0.823, 0.855, 0.857, 0.836, 0.855, 0.86, 0.838, 0.844, 0.974]),\n",
       "   (510,\n",
       "    [0.863, 0.847, 0.856, 0.847, 0.844, 0.863, 0.865, 0.853, 0.874, 0.856]),\n",
       "   (2236,\n",
       "    [0.854, 0.854, 0.869, 0.836, 0.871, 0.858, 0.836, 0.835, 0.869, 0.859]),\n",
       "   (308,\n",
       "    [0.848, 0.839, 0.843, 0.861, 0.839, 0.842, 0.844, 0.867, 0.871, 0.851]),\n",
       "   (4483, [0.856, 0.855, 0.841, 0.849, 0.837, 0.837, 0.865, 0.85, 0.867]),\n",
       "   (14227, [0.851, 0.865, 0.852, 0.86, 0.86, 0.849, 0.874, 0.873, 0.856]),\n",
       "   (21405, [0.846, 0.861, 0.867, 0.849, 0.864, 0.867, 0.86, 0.873, 0.858]),\n",
       "   (19221, [0.863, 0.845, 0.857, 0.845, 0.884, 0.84, 0.836, 0.84, 0.872]),\n",
       "   (38753, [0.861, 0.84, 0.865, 0.866, 0.844, 0.838, 0.851, 0.839, 0.858]),\n",
       "   (20847, [0.86, 0.855, 0.867, 0.851, 0.873, 0.867, 0.852, 0.87, 0.855]),\n",
       "   (40004, [0.857, 0.857, 0.862, 0.865, 0.863, 0.853, 0.859, 0.877, 0.867]),\n",
       "   (31914, [0.854, 0.874, 0.856, 0.845, 0.845, 0.831, 0.875, 0.884, 0.864]),\n",
       "   (21845, [0.854, 0.841, 0.839, 0.841, 0.851, 0.864, 0.836, 0.865, 0.871]),\n",
       "   (38464, [0.851, 0.833, 0.838, 0.852, 0.838, 0.848, 0.844, 0.857, 0.864]),\n",
       "   (13161, [0.851, 0.847, 0.867, 0.837, 0.852, 0.867, 0.849, 0.836, 0.843]),\n",
       "   (33219, [0.849, 0.84, 0.842, 0.852, 0.852, 0.848, 0.854, 0.839, 0.848]),\n",
       "   (40595, [0.845, 0.841, 0.858, 0.832, 0.859, 0.847, 0.859, 0.857, 0.869]),\n",
       "   (25835, [0.869, 0.842, 0.857, 0.844, 0.849, 0.835, 0.841, 0.868, 0.876]),\n",
       "   (10080, [0.838, 0.839, 0.84, 0.871, 0.864, 0.841, 0.835, 0.843, 0.883]),\n",
       "   (13159, [0.858, 0.859, 0.852, 0.866, 0.86, 0.863, 0.866, 0.869]),\n",
       "   (42071, [0.858, 0.849, 0.855, 0.859, 0.833, 0.855, 0.862, 0.841]),\n",
       "   (37999, [0.852, 0.867, 0.855, 0.835, 0.855, 0.863, 0.858, 0.868]),\n",
       "   (2155, [0.851, 0.857, 0.86, 0.854, 0.859, 0.839, 0.873, 0.846]),\n",
       "   (306, [0.866, 0.836, 0.861, 0.842, 0.859, 0.853, 0.859, 0.857]),\n",
       "   (11313, [0.869, 0.855, 0.843, 0.86, 0.849, 0.865, 0.863]),\n",
       "   (4550, [0.852, 0.855, 0.861, 0.854, 0.881, 0.845, 0.866]),\n",
       "   (34822, [0.848, 0.843, 0.839, 0.859, 0.857, 0.892, 0.858]),\n",
       "   (36220, [0.847, 0.859, 0.834, 0.849, 0.847, 0.839, 0.854]),\n",
       "   (43007, [0.863, 0.857, 0.84, 0.888, 0.837, 0.88, 0.882]),\n",
       "   (34537, [0.855, 0.848, 0.85, 0.847, 0.845, 0.863, 0.85]),\n",
       "   (41226, [0.862, 0.86, 0.859, 0.849, 0.875, 0.844, 0.872]),\n",
       "   (11843, [0.857, 0.856, 0.856, 0.869, 0.832, 0.86, 0.868]),\n",
       "   (31422, [0.855, 0.855, 0.857, 0.869, 0.851, 0.838, 0.866]),\n",
       "   (10719, [0.853, 0.855, 0.877, 0.867, 0.854, 0.84, 0.86]),\n",
       "   (32949, [0.852, 0.868, 0.856, 0.851, 0.85, 0.844, 0.872]),\n",
       "   (31610, [0.847, 0.85, 0.864, 0.828, 0.852, 0.86, 0.872]),\n",
       "   (8525, [0.846, 0.84, 0.855, 0.844, 0.844, 0.849, 0.885]),\n",
       "   (47790, [0.838, 0.838, 0.846, 0.84, 0.845, 0.866, 0.87]),\n",
       "   (622, [0.837, 0.848, 0.86, 0.852, 0.835, 0.845, 0.87]),\n",
       "   (852, [0.86, 0.856, 0.858, 0.857, 0.847, 0.838, 0.855]),\n",
       "   (35712, [0.86, 0.865, 0.856, 0.881, 0.875, 0.86, 0.863]),\n",
       "   (24627, [0.845, 0.838, 0.875, 0.843, 0.877, 0.842]),\n",
       "   (23673, [0.853, 0.852, 0.862, 0.859, 0.867, 0.868]),\n",
       "   (647, [0.855, 0.844, 0.834, 0.859, 0.836, 0.872]),\n",
       "   (6203, [0.854, 0.859, 0.874, 0.867, 0.869, 0.862]),\n",
       "   (16023, [0.851, 0.842, 0.843, 0.846, 0.853, 0.853]),\n",
       "   (39326, [0.849, 0.841, 0.85, 0.864, 0.856, 0.87]),\n",
       "   (1562, [0.849, 0.861, 0.874, 0.871, 0.84, 0.873]),\n",
       "   (425, [0.849, 0.847, 0.835, 0.882, 0.858, 0.855]),\n",
       "   (42307, [0.855, 0.849, 0.851, 0.828, 0.839, 0.882]),\n",
       "   (33674, [0.85, 0.843, 0.832, 0.859, 0.904, 0.859]),\n",
       "   (33255, [0.848, 0.839, 0.836, 0.835, 0.851, 0.861]),\n",
       "   (13263, [0.861, 0.855, 0.856, 0.896, 0.909, 0.849]),\n",
       "   (38585, [0.873, 0.858, 0.851, 0.843, 0.882, 0.862]),\n",
       "   (31793, [0.869, 0.867, 0.864, 0.854, 0.839, 0.866]),\n",
       "   (31815, [0.867, 0.853, 0.856, 0.86, 0.861, 0.874]),\n",
       "   (10153, [0.852, 0.847, 0.85, 0.848, 0.845, 0.851]),\n",
       "   (487, [0.844, 0.861, 0.832, 0.864, 0.843, 0.856]),\n",
       "   (4382, [0.834, 0.865, 0.856, 0.861, 0.841, 0.854]),\n",
       "   (34076, [0.878, 0.847, 0.844, 0.854, 0.868, 0.856]),\n",
       "   (36633, [0.892, 0.91, 0.965, 0.948, 0.831, 0.906]),\n",
       "   (1797, [0.84, 0.845, 0.85, 0.858, 0.893, 0.848]),\n",
       "   (20541, [0.845, 0.851, 0.858, 0.867, 0.874, 0.855]),\n",
       "   (38302, [0.841, 0.855, 0.87, 0.842, 0.856, 0.867]),\n",
       "   (529, [0.841, 0.851, 0.849, 0.86, 0.866, 0.836]),\n",
       "   (16742, [0.856, 0.85, 0.857, 0.851, 0.863, 0.863]),\n",
       "   (34823, [0.852, 0.864, 0.838, 0.872, 0.853, 0.869]),\n",
       "   (15315, [0.858, 0.854, 0.84, 0.84, 0.863, 0.876]),\n",
       "   (1218, [0.881, 0.864, 0.855, 0.848, 0.868]),\n",
       "   (15391, [0.85, 0.854, 0.871, 0.868, 0.836]),\n",
       "   (8675, [0.849, 0.858, 0.859, 0.868, 0.859]),\n",
       "   (34445, [0.848, 0.859, 0.866, 0.842, 0.869]),\n",
       "   (8726, [0.846, 0.839, 0.86, 0.874, 0.872]),\n",
       "   (6509, [0.845, 0.855, 0.851, 0.841, 0.847]),\n",
       "   (14813, [0.906, 0.858, 0.839, 0.835, 0.837]),\n",
       "   (37773, [0.858, 0.856, 0.839, 0.872, 0.837]),\n",
       "   (36902, [0.857, 0.883, 0.857, 0.869, 0.866]),\n",
       "   (33031, [0.853, 0.858, 0.856, 0.868, 0.861]),\n",
       "   (38186, [0.853, 0.855, 0.851, 0.87, 0.856]),\n",
       "   (18897, [0.852, 0.846, 0.868, 0.858, 0.873]),\n",
       "   (45572, [0.849, 0.882, 0.848, 0.841, 0.882]),\n",
       "   (37492, [0.882, 0.863, 0.849, 0.87, 0.858]),\n",
       "   (28621, [0.857, 0.849, 0.849, 0.865, 0.861]),\n",
       "   (1087, [0.856, 0.878, 0.841, 0.845, 0.851]),\n",
       "   (14749, [0.853, 0.859, 0.848, 0.869, 0.859]),\n",
       "   (27411, [0.853, 0.838, 0.863, 0.835, 0.834]),\n",
       "   (5307, [0.852, 0.843, 0.847, 0.879, 0.86]),\n",
       "   (33881, [0.852, 0.85, 0.844, 0.86, 0.849])],\n",
       "  'text-embedding-3-large': [(38619,\n",
       "    [0.56,\n",
       "     0.602,\n",
       "     0.554,\n",
       "     0.547,\n",
       "     0.635,\n",
       "     0.631,\n",
       "     0.622,\n",
       "     0.515,\n",
       "     0.616,\n",
       "     0.582,\n",
       "     0.589,\n",
       "     0.559,\n",
       "     0.616,\n",
       "     0.541,\n",
       "     0.578,\n",
       "     0.656,\n",
       "     0.576,\n",
       "     0.551]),\n",
       "   (14741,\n",
       "    [0.61,\n",
       "     0.531,\n",
       "     0.595,\n",
       "     0.56,\n",
       "     0.583,\n",
       "     0.531,\n",
       "     0.544,\n",
       "     0.589,\n",
       "     0.547,\n",
       "     0.554,\n",
       "     0.534,\n",
       "     0.518,\n",
       "     0.587,\n",
       "     0.598,\n",
       "     0.55]),\n",
       "   (25835,\n",
       "    [0.498,\n",
       "     0.589,\n",
       "     0.54,\n",
       "     0.529,\n",
       "     0.515,\n",
       "     0.573,\n",
       "     0.505,\n",
       "     0.523,\n",
       "     0.496,\n",
       "     0.577,\n",
       "     0.56,\n",
       "     0.536,\n",
       "     0.489,\n",
       "     0.586]),\n",
       "   (7785,\n",
       "    [0.572,\n",
       "     0.547,\n",
       "     0.572,\n",
       "     0.543,\n",
       "     0.55,\n",
       "     0.592,\n",
       "     0.563,\n",
       "     0.617,\n",
       "     0.525,\n",
       "     0.523,\n",
       "     0.576,\n",
       "     0.575,\n",
       "     0.606]),\n",
       "   (23289,\n",
       "    [0.624,\n",
       "     0.586,\n",
       "     0.549,\n",
       "     0.573,\n",
       "     0.595,\n",
       "     0.546,\n",
       "     0.55,\n",
       "     0.521,\n",
       "     0.54,\n",
       "     0.574,\n",
       "     0.586,\n",
       "     0.635,\n",
       "     0.578]),\n",
       "   (13125,\n",
       "    [0.52,\n",
       "     0.585,\n",
       "     0.593,\n",
       "     0.546,\n",
       "     0.556,\n",
       "     0.593,\n",
       "     0.513,\n",
       "     0.563,\n",
       "     0.516,\n",
       "     0.58,\n",
       "     0.585,\n",
       "     0.522,\n",
       "     0.618]),\n",
       "   (33502,\n",
       "    [0.505,\n",
       "     0.511,\n",
       "     0.545,\n",
       "     0.545,\n",
       "     0.521,\n",
       "     0.516,\n",
       "     0.547,\n",
       "     0.557,\n",
       "     0.541,\n",
       "     0.554,\n",
       "     0.547,\n",
       "     0.59,\n",
       "     0.604]),\n",
       "   (31914,\n",
       "    [0.542,\n",
       "     0.552,\n",
       "     0.514,\n",
       "     0.569,\n",
       "     0.553,\n",
       "     0.561,\n",
       "     0.572,\n",
       "     0.518,\n",
       "     0.618,\n",
       "     0.571,\n",
       "     0.61,\n",
       "     0.55]),\n",
       "   (14515,\n",
       "    [0.578,\n",
       "     0.523,\n",
       "     0.525,\n",
       "     0.573,\n",
       "     0.605,\n",
       "     0.586,\n",
       "     0.529,\n",
       "     0.57,\n",
       "     0.539,\n",
       "     0.555,\n",
       "     0.569,\n",
       "     0.578]),\n",
       "   (10495,\n",
       "    [0.585,\n",
       "     0.549,\n",
       "     0.624,\n",
       "     0.554,\n",
       "     0.546,\n",
       "     0.62,\n",
       "     0.535,\n",
       "     0.585,\n",
       "     0.599,\n",
       "     0.688,\n",
       "     0.609]),\n",
       "   (21845,\n",
       "    [0.57,\n",
       "     0.577,\n",
       "     0.535,\n",
       "     0.578,\n",
       "     0.58,\n",
       "     0.569,\n",
       "     0.475,\n",
       "     0.518,\n",
       "     0.569,\n",
       "     0.556,\n",
       "     0.544]),\n",
       "   (18153,\n",
       "    [0.532, 0.56, 0.52, 0.531, 0.552, 0.531, 0.53, 0.556, 0.52, 0.553, 0.579]),\n",
       "   (14227,\n",
       "    [0.592, 0.588, 0.562, 0.533, 0.555, 0.588, 0.568, 0.589, 0.581, 0.566]),\n",
       "   (5680,\n",
       "    [0.548, 0.555, 0.576, 0.601, 0.566, 0.583, 0.572, 0.527, 0.85, 0.546]),\n",
       "   (41226,\n",
       "    [0.597, 0.552, 0.554, 0.588, 0.539, 0.527, 0.554, 0.541, 0.581, 0.515]),\n",
       "   (26351,\n",
       "    [0.563, 0.557, 0.522, 0.564, 0.556, 0.598, 0.536, 0.543, 0.553, 0.603]),\n",
       "   (31240,\n",
       "    [0.566, 0.489, 0.531, 0.563, 0.581, 0.558, 0.498, 0.527, 0.566, 0.609]),\n",
       "   (8769,\n",
       "    [0.494, 0.516, 0.548, 0.555, 0.574, 0.592, 0.527, 0.543, 0.508, 0.58]),\n",
       "   (37450,\n",
       "    [0.549, 0.514, 0.529, 0.533, 0.603, 0.573, 0.53, 0.514, 0.573, 0.601]),\n",
       "   (35838,\n",
       "    [0.546, 0.646, 0.509, 0.548, 0.512, 0.568, 0.596, 0.526, 0.605, 0.587]),\n",
       "   (15315,\n",
       "    [0.507, 0.578, 0.519, 0.551, 0.516, 0.553, 0.529, 0.626, 0.534, 0.615]),\n",
       "   (11617, [0.562, 0.536, 0.593, 0.516, 0.581, 0.613, 0.529, 0.575, 0.548]),\n",
       "   (13759, [0.557, 0.533, 0.613, 0.566, 0.521, 0.534, 0.526, 0.599, 0.566]),\n",
       "   (12403, [0.548, 0.605, 0.532, 0.611, 0.527, 0.582, 0.59, 0.689, 0.604]),\n",
       "   (39792, [0.564, 0.556, 0.495, 0.586, 0.527, 0.606, 0.538, 0.582, 0.547]),\n",
       "   (25159, [0.5, 0.565, 0.547, 0.522, 0.516, 0.563, 0.539, 0.523, 0.546]),\n",
       "   (9756, [0.542, 0.526, 0.545, 0.51, 0.549, 0.649, 0.527, 0.589, 0.507]),\n",
       "   (29787, [0.555, 0.608, 0.603, 0.561, 0.521, 0.577, 0.542, 0.583, 0.581]),\n",
       "   (21273, [0.539, 0.624, 0.603, 0.56, 0.939, 0.56, 0.529, 0.561, 0.557]),\n",
       "   (17549, [0.562, 0.571, 0.551, 0.597, 0.533, 0.575, 0.531, 0.548, 0.568]),\n",
       "   (23277, [0.558, 0.535, 0.585, 0.526, 0.601, 0.541, 0.592, 0.57, 0.586]),\n",
       "   (30727, [0.557, 0.522, 0.588, 0.532, 0.585, 0.529, 0.574, 0.563, 0.58]),\n",
       "   (8675, [0.564, 0.561, 0.544, 0.502, 0.533, 0.606, 0.54, 0.595]),\n",
       "   (7054, [0.556, 0.554, 0.594, 0.592, 0.547, 0.524, 0.519, 0.642]),\n",
       "   (12445, [0.547, 0.508, 0.551, 0.516, 0.589, 0.518, 0.581, 0.527]),\n",
       "   (18897, [0.542, 0.573, 0.549, 0.558, 0.576, 0.515, 0.593, 0.507]),\n",
       "   (38993, [0.872, 0.632, 0.556, 0.52, 0.522, 0.514, 0.576, 0.519]),\n",
       "   (32542, [0.569, 0.543, 0.518, 0.577, 0.573, 0.531, 0.566, 0.539]),\n",
       "   (28735, [0.543, 0.531, 0.491, 0.544, 0.599, 0.561, 0.532, 0.532]),\n",
       "   (18495, [0.537, 0.617, 0.617, 0.609, 0.561, 0.578, 0.522, 0.587]),\n",
       "   (9253, [0.766, 0.653, 0.561, 0.54, 0.534, 0.525, 0.52, 0.624]),\n",
       "   (37561, [0.492, 0.56, 0.517, 0.514, 0.565, 0.506, 0.527, 0.557]),\n",
       "   (34914, [0.49, 0.524, 0.495, 0.58, 0.611, 0.563, 0.62, 0.557]),\n",
       "   (25519, [0.501, 0.581, 0.593, 0.588, 0.525, 0.555, 0.572, 0.558]),\n",
       "   (14811, [0.504, 0.645, 0.552, 0.575, 0.622, 0.571, 0.538, 0.557]),\n",
       "   (23269, [0.526, 0.559, 0.644, 0.543, 0.616, 0.523, 0.633, 0.543]),\n",
       "   (36470, [0.591, 0.562, 0.525, 0.517, 0.599, 0.542, 0.58]),\n",
       "   (66, [0.587, 0.535, 0.579, 0.527, 0.571, 0.584, 0.505]),\n",
       "   (14749, [0.579, 0.54, 0.576, 0.518, 0.623, 0.564, 0.644]),\n",
       "   (37786, [0.57, 0.549, 0.592, 0.553, 0.59, 0.557, 0.647]),\n",
       "   (28677, [0.543, 0.556, 0.541, 0.581, 0.524, 0.53, 0.561]),\n",
       "   (33988, [0.536, 0.56, 0.561, 0.567, 0.519, 0.529, 0.538]),\n",
       "   (38302, [0.541, 0.545, 0.545, 0.525, 0.517, 0.559, 0.551]),\n",
       "   (21603, [0.507, 0.549, 0.557, 0.562, 0.535, 0.534, 0.551]),\n",
       "   (30544, [0.504, 0.51, 0.525, 0.57, 0.522, 0.572, 0.529]),\n",
       "   (13659, [0.501, 0.534, 0.563, 0.55, 0.574, 0.515, 0.54]),\n",
       "   (24765, [0.501, 0.504, 0.509, 0.613, 0.608, 0.547, 0.546]),\n",
       "   (34100, [0.561, 0.57, 0.503, 0.495, 0.484, 0.564, 0.563]),\n",
       "   (33506, [0.526, 0.561, 0.557, 0.521, 0.534, 0.512, 0.56]),\n",
       "   (34284, [0.522, 0.577, 0.512, 0.578, 0.581, 0.567, 0.524]),\n",
       "   (39071, [0.615, 0.567, 0.597, 0.508, 0.495, 0.563, 0.516]),\n",
       "   (849, [0.54, 0.554, 0.567, 0.518, 0.604, 0.524, 0.555]),\n",
       "   (16918, [0.533, 0.571, 0.512, 0.515, 0.561, 0.603, 0.572]),\n",
       "   (30831, [0.556, 0.578, 0.551, 0.581, 0.578, 0.525, 0.536]),\n",
       "   (28121, [0.546, 0.596, 0.525, 0.585, 0.546, 0.519, 0.661]),\n",
       "   (12291, [0.592, 0.565, 0.531, 0.567, 0.518, 0.579]),\n",
       "   (39790, [0.571, 0.536, 0.528, 0.573, 0.529, 0.614]),\n",
       "   (35860, [0.568, 0.573, 0.536, 0.515, 0.607, 0.563]),\n",
       "   (32601, [0.551, 0.538, 0.515, 0.527, 0.533, 0.585]),\n",
       "   (37999, [0.549, 0.607, 0.601, 0.58, 0.57, 0.552]),\n",
       "   (14813, [0.545, 0.675, 0.573, 0.543, 0.515, 0.57]),\n",
       "   (18671, [0.532, 0.519, 0.555, 0.524, 0.558, 0.587]),\n",
       "   (40591, [0.567, 0.581, 0.566, 0.552, 0.538, 0.925]),\n",
       "   (11433, [0.55, 0.535, 0.511, 0.537, 0.56, 0.551]),\n",
       "   (40004, [0.546, 0.609, 0.585, 0.565, 0.624, 0.518]),\n",
       "   (38186, [0.546, 0.618, 0.577, 0.57, 0.623, 0.519]),\n",
       "   (34881, [0.545, 0.513, 0.499, 0.586, 0.516, 0.505]),\n",
       "   (43007, [0.545, 0.548, 0.528, 0.582, 0.643, 0.542]),\n",
       "   (6956, [0.542, 0.593, 0.565, 0.521, 0.58, 0.546]),\n",
       "   (20541, [0.541, 0.541, 0.533, 0.527, 0.596, 0.531]),\n",
       "   (5671, [0.535, 0.569, 0.521, 0.529, 0.566, 0.543]),\n",
       "   (37492, [0.664, 0.555, 0.503, 0.546, 0.674, 0.597]),\n",
       "   (34176, [0.573, 0.502, 0.595, 0.534, 0.667, 0.546]),\n",
       "   (33674, [0.561, 0.515, 0.498, 0.484, 0.759, 0.542]),\n",
       "   (10087, [0.55, 0.729, 0.666, 0.505, 0.816, 0.517]),\n",
       "   (41006, [0.544, 0.533, 0.624, 0.561, 0.568, 0.498]),\n",
       "   (39587, [0.539, 0.575, 0.593, 0.511, 0.62, 0.509]),\n",
       "   (34561, [0.515, 0.491, 0.528, 0.509, 0.517, 0.574]),\n",
       "   (15583, [0.502, 0.534, 0.713, 0.731, 0.879, 0.701]),\n",
       "   (934, [0.491, 0.564, 0.572, 0.56, 0.518, 0.515]),\n",
       "   (12189, [0.489, 0.576, 0.511, 0.617, 0.565, 0.55]),\n",
       "   (356, [0.786, 0.718, 0.53, 0.675, 0.529, 0.794]),\n",
       "   (37210, [0.548, 0.565, 0.719, 0.513, 0.551, 0.636]),\n",
       "   (8841, [0.547, 0.666, 0.614, 0.566, 0.54, 0.603]),\n",
       "   (17074, [0.559, 0.586, 0.588, 0.507, 0.52, 0.568]),\n",
       "   (28891, [0.541, 0.607, 0.631, 0.506, 0.54, 0.564]),\n",
       "   (25777, [0.539, 0.537, 0.535, 0.538, 0.54, 0.818]),\n",
       "   (32937, [0.521, 0.536, 0.524, 0.546, 0.554, 0.867]),\n",
       "   (30484, [0.766, 0.682, 0.672, 0.545, 0.55, 0.625]),\n",
       "   (28977, [0.557, 0.58, 0.492, 0.492, 0.516, 0.583])],\n",
       "  'paraphrase-distilroberta-base-v1': [(5958,\n",
       "    [0.514,\n",
       "     0.533,\n",
       "     0.485,\n",
       "     0.488,\n",
       "     0.463,\n",
       "     0.584,\n",
       "     0.491,\n",
       "     0.6,\n",
       "     0.566,\n",
       "     0.525,\n",
       "     0.512,\n",
       "     0.558,\n",
       "     0.568,\n",
       "     0.539,\n",
       "     0.516]),\n",
       "   (489, [0.639, 0.532, 0.49, 0.472, 0.582, 0.565, 0.53, 0.565, 0.47, 0.508]),\n",
       "   (10568,\n",
       "    [0.63, 0.503, 0.58, 0.531, 0.586, 0.531, 0.479, 0.558, 0.484, 0.559]),\n",
       "   (5079, [0.617, 0.502, 0.522, 0.48, 0.535, 0.557, 0.493, 0.513]),\n",
       "   (6377, [0.603, 0.523, 0.51, 0.588, 0.474, 0.532, 0.55, 0.574]),\n",
       "   (298, [0.499, 0.48, 0.554, 0.566, 0.528, 0.509, 0.61, 0.543]),\n",
       "   (14967, [0.509, 0.579, 0.569, 0.551, 0.52, 0.518, 0.565, 0.559]),\n",
       "   (2129, [0.615, 0.554, 0.597, 0.563, 0.601, 0.558, 0.54]),\n",
       "   (38619, [0.604, 0.512, 0.581, 0.55, 0.487, 0.52, 0.579]),\n",
       "   (7590, [0.599, 0.509, 0.634, 0.568, 0.501, 0.486, 0.535]),\n",
       "   (7054, [0.583, 0.608, 0.557, 0.576, 0.549, 0.514, 0.501]),\n",
       "   (11769, [0.58, 0.579, 0.599, 0.583, 0.589, 0.603, 0.574]),\n",
       "   (22465, [0.532, 0.563, 0.588, 0.538, 0.488, 0.479, 0.503]),\n",
       "   (160, [0.527, 0.502, 0.526, 0.444, 0.499, 0.538, 0.47]),\n",
       "   (36902, [0.505, 0.6, 0.462, 0.56, 0.534, 0.513, 0.532]),\n",
       "   (3588, [0.578, 0.509, 0.629, 0.525, 0.535, 0.535, 0.512]),\n",
       "   (1502, [0.535, 0.599, 0.475, 0.454, 0.561, 0.569, 0.56]),\n",
       "   (31722, [0.468, 0.549, 0.448, 0.531, 0.52, 0.506, 0.525]),\n",
       "   (6773, [0.518, 0.486, 0.537, 0.572, 0.561, 0.582, 0.495]),\n",
       "   (2603, [0.486, 0.549, 0.455, 0.572, 0.561, 0.541, 0.425]),\n",
       "   (14653, [0.586, 0.542, 0.476, 0.587, 0.559, 0.52, 0.528]),\n",
       "   (6045, [0.64, 0.543, 0.516, 0.572, 0.562, 0.533]),\n",
       "   (35507, [0.622, 0.559, 0.491, 0.537, 0.516, 0.57]),\n",
       "   (646, [0.622, 0.556, 0.573, 0.561, 0.575, 0.521]),\n",
       "   (12581, [0.618, 0.513, 0.514, 0.569, 0.465, 0.526]),\n",
       "   (3228, [0.617, 0.551, 0.491, 0.552, 0.548, 0.543]),\n",
       "   (35828, [0.617, 0.552, 0.463, 0.521, 0.549, 0.552]),\n",
       "   (7088, [0.614, 0.54, 0.575, 0.475, 0.548, 0.556]),\n",
       "   (3358, [0.613, 0.534, 0.484, 0.551, 0.551, 0.513]),\n",
       "   (36817, [0.589, 0.536, 0.518, 0.478, 0.56, 0.472]),\n",
       "   (37305, [0.527, 0.567, 0.589, 0.513, 0.541, 0.517]),\n",
       "   (6203, [0.525, 0.575, 0.58, 0.524, 0.515, 0.529]),\n",
       "   (10460, [0.522, 0.592, 0.558, 0.552, 0.632, 0.55]),\n",
       "   (153, [0.517, 0.566, 0.561, 0.561, 0.515, 0.536]),\n",
       "   (38295, [0.512, 0.602, 0.531, 0.528, 0.478, 0.539]),\n",
       "   (4192, [0.504, 0.467, 0.536, 0.541, 0.513, 0.53]),\n",
       "   (6324, [0.539, 0.456, 0.503, 0.565, 0.564, 0.546]),\n",
       "   (21405, [0.533, 0.572, 0.502, 0.521, 0.53, 0.542]),\n",
       "   (38145, [0.528, 0.527, 0.497, 0.522, 0.539, 0.512]),\n",
       "   (47162, [0.521, 0.578, 0.559, 0.456, 0.555, 0.52]),\n",
       "   (1775, [0.518, 0.57, 0.475, 0.579, 0.596, 0.501]),\n",
       "   (6676, [0.515, 0.489, 0.516, 0.508, 0.527, 0.422]),\n",
       "   (37976, [0.509, 0.485, 0.531, 0.507, 0.424, 0.538]),\n",
       "   (40595, [0.614, 0.576, 0.576, 0.585, 0.547, 0.502]),\n",
       "   (603, [0.636, 0.466, 0.567, 0.523, 0.529, 0.56]),\n",
       "   (9598, [0.61, 0.48, 0.553, 0.541, 0.543, 0.513]),\n",
       "   (25159, [0.565, 0.49, 0.478, 0.56, 0.512, 0.505]),\n",
       "   (34607, [0.491, 0.499, 0.493, 0.587, 0.528, 0.513]),\n",
       "   (1037, [0.491, 0.501, 0.55, 0.561, 0.536, 0.505]),\n",
       "   (40652, [0.474, 0.518, 0.559, 0.585, 0.552, 0.503]),\n",
       "   (37979, [0.543, 0.472, 0.555, 0.552, 0.519, 0.523]),\n",
       "   (129, [0.53, 0.587, 0.473, 0.539, 0.569, 0.526]),\n",
       "   (242, [0.608, 0.54, 0.518, 0.547, 0.515, 0.557]),\n",
       "   (18495, [0.602, 0.526, 0.528, 0.533, 0.461, 0.511]),\n",
       "   (31793, [0.577, 0.567, 0.532, 0.509, 0.513, 0.523]),\n",
       "   (7724, [0.51, 0.554, 0.567, 0.521, 0.536, 0.547]),\n",
       "   (24663, [0.505, 0.563, 0.552, 0.552, 0.506, 0.526]),\n",
       "   (33668, [0.468, 0.528, 0.497, 0.583, 0.575, 0.467]),\n",
       "   (32526, [0.558, 0.533, 0.577, 0.596, 0.516, 0.587]),\n",
       "   (24765, [0.583, 0.511, 0.517, 0.539, 0.476, 0.588]),\n",
       "   (162, [0.637, 0.541, 0.556, 0.515, 0.458]),\n",
       "   (4550, [0.632, 0.588, 0.511, 0.614, 0.517]),\n",
       "   (66, [0.614, 0.574, 0.542, 0.538, 0.505]),\n",
       "   (2605, [0.597, 0.592, 0.48, 0.575, 0.585]),\n",
       "   (587, [0.594, 0.55, 0.555, 0.478, 0.518]),\n",
       "   (10958, [0.594, 0.594, 0.555, 0.56, 0.519]),\n",
       "   (16, [0.592, 0.577, 0.529, 0.503, 0.541]),\n",
       "   (2167, [0.591, 0.496, 0.577, 0.541, 0.552]),\n",
       "   (38276, [0.582, 0.589, 0.506, 0.461, 0.515]),\n",
       "   (4224, [0.552, 0.521, 0.566, 0.526, 0.544]),\n",
       "   (1019, [0.536, 0.521, 0.544, 0.49, 0.529]),\n",
       "   (38483, [0.52, 0.492, 0.524, 0.553, 0.596]),\n",
       "   (37982, [0.514, 0.459, 0.539, 0.476, 0.545]),\n",
       "   (2523, [0.512, 0.564, 0.501, 0.592, 0.539]),\n",
       "   (15379, [0.5, 0.508, 0.572, 0.502, 0.481]),\n",
       "   (13161, [0.57, 0.569, 0.523, 0.584, 0.534]),\n",
       "   (37451, [0.558, 0.567, 0.555, 0.512, 0.563]),\n",
       "   (17729, [0.532, 0.581, 0.591, 0.551, 0.53]),\n",
       "   (41312, [0.531, 0.483, 0.515, 0.511, 0.492]),\n",
       "   (306, [0.52, 0.498, 0.519, 0.533, 0.537]),\n",
       "   (34392, [0.512, 0.475, 0.511, 0.424, 0.501]),\n",
       "   (532, [0.57, 0.528, 0.559, 0.565, 0.546]),\n",
       "   (5962, [0.564, 0.498, 0.669, 0.52, 0.503]),\n",
       "   (1253, [0.543, 0.495, 0.542, 0.532, 0.515]),\n",
       "   (33049, [0.533, 0.566, 0.532, 0.605, 0.556]),\n",
       "   (5233, [0.522, 0.455, 0.546, 0.551, 0.558]),\n",
       "   (10080, [0.514, 0.602, 0.565, 0.504, 0.566]),\n",
       "   (5702, [0.633, 0.521, 0.59, 0.573, 0.598]),\n",
       "   (33392, [0.601, 0.525, 0.573, 0.538, 0.501]),\n",
       "   (31610, [0.595, 0.526, 0.554, 0.577, 0.549]),\n",
       "   (5454, [0.577, 0.56, 0.531, 0.558, 0.499]),\n",
       "   (32595, [0.532, 0.546, 0.548, 0.528, 0.553]),\n",
       "   (1239, [0.499, 0.563, 0.526, 0.507, 0.515]),\n",
       "   (28979, [0.489, 0.544, 0.574, 0.58, 0.571]),\n",
       "   (35760, [0.475, 0.669, 0.534, 0.54, 0.592]),\n",
       "   (32555, [0.488, 0.471, 0.554, 0.601, 0.519]),\n",
       "   (10495, [0.484, 0.477, 0.6, 0.604, 0.565]),\n",
       "   (11887, [0.516, 0.545, 0.532, 0.576, 0.556]),\n",
       "   (1810, [0.475, 0.556, 0.576, 0.461, 0.506]),\n",
       "   (33654, [0.438, 0.506, 0.538, 0.555, 0.509])],\n",
       "  'anime_encoder': [(25649,\n",
       "    [0.445,\n",
       "     0.399,\n",
       "     0.427,\n",
       "     0.52,\n",
       "     0.41,\n",
       "     0.347,\n",
       "     0.39,\n",
       "     0.428,\n",
       "     0.379,\n",
       "     0.467,\n",
       "     0.424]),\n",
       "   (34076,\n",
       "    [0.431,\n",
       "     0.383,\n",
       "     0.526,\n",
       "     0.417,\n",
       "     0.423,\n",
       "     0.508,\n",
       "     0.382,\n",
       "     0.459,\n",
       "     0.41,\n",
       "     0.465,\n",
       "     0.406]),\n",
       "   (38003,\n",
       "    [0.409, 0.421, 0.46, 0.532, 0.422, 0.504, 0.475, 0.41, 0.347, 0.397]),\n",
       "   (38524,\n",
       "    [0.449, 0.382, 0.479, 0.636, 0.53, 0.482, 0.433, 0.527, 0.398, 0.482]),\n",
       "   (9656, [0.509, 0.468, 0.4, 0.384, 0.446, 0.376, 0.474, 0.432, 0.379]),\n",
       "   (27991, [0.372, 0.486, 0.421, 0.434, 0.491, 0.538, 0.491, 0.491, 0.375]),\n",
       "   (11741, [0.488, 0.63, 0.444, 0.435, 0.387, 0.48, 0.392, 0.716, 0.413]),\n",
       "   (32871, [0.418, 0.472, 0.41, 0.513, 0.5, 0.428, 0.447, 0.408, 0.401]),\n",
       "   (38889, [0.534, 0.428, 0.416, 0.474, 0.434, 0.482, 0.527, 0.412, 0.415]),\n",
       "   (20047, [0.568, 0.519, 0.465, 0.378, 0.398, 0.427, 0.381, 0.458]),\n",
       "   (6045, [0.491, 0.497, 0.415, 0.405, 0.406, 0.467, 0.419, 0.419]),\n",
       "   (30015, [0.394, 0.466, 0.381, 0.417, 0.404, 0.358, 0.36, 0.386]),\n",
       "   (32937, [0.403, 0.491, 0.422, 0.399, 0.377, 0.443, 0.435, 0.703]),\n",
       "   (9969, [0.396, 0.379, 0.51, 0.403, 0.4, 0.398, 0.483, 0.373]),\n",
       "   (35180, [0.38, 0.385, 0.487, 0.391, 0.474, 0.411, 0.484, 0.402]),\n",
       "   (30727, [0.376, 0.46, 0.467, 0.411, 0.378, 0.423, 0.385, 0.455]),\n",
       "   (16870, [0.37, 0.51, 0.437, 0.486, 0.502, 0.35, 0.452, 0.371]),\n",
       "   (1254, [0.392, 0.46, 0.445, 0.4, 0.464, 0.445, 0.403, 0.398]),\n",
       "   (40540, [0.503, 0.465, 0.405, 0.451, 0.559, 0.458, 0.475, 0.415]),\n",
       "   (31610, [0.488, 0.39, 0.469, 0.424, 0.448, 0.387, 0.463, 0.477]),\n",
       "   (14467, [0.456, 0.469, 0.459, 0.402, 0.505, 0.407, 0.426, 0.392]),\n",
       "   (36885, [0.414, 0.514, 0.339, 0.374, 0.426, 0.362, 0.396, 0.404]),\n",
       "   (31564, [0.466, 0.346, 0.419, 0.37, 0.43, 0.472, 0.377]),\n",
       "   (145, [0.457, 0.408, 0.408, 0.379, 0.414, 0.441, 0.467]),\n",
       "   (41911, [0.411, 0.415, 0.429, 0.405, 0.391, 0.41, 0.367]),\n",
       "   (21681, [0.405, 0.421, 0.393, 0.421, 0.44, 0.377, 0.438]),\n",
       "   (31173, [0.47, 0.389, 0.52, 0.479, 0.375, 0.427, 0.447]),\n",
       "   (10495, [0.37, 0.537, 0.458, 0.417, 0.523, 0.389, 0.55]),\n",
       "   (30924, [0.449, 0.406, 0.399, 0.423, 0.37, 0.486, 0.49]),\n",
       "   (17074, [0.437, 0.542, 0.408, 0.413, 0.478, 0.475, 0.461]),\n",
       "   (28735, [0.428, 0.466, 0.404, 0.423, 0.449, 0.433, 0.531]),\n",
       "   (34566, [0.398, 0.384, 0.516, 0.444, 0.412, 0.369, 0.379]),\n",
       "   (39587, [0.386, 0.4, 0.396, 0.394, 0.451, 0.423, 0.421]),\n",
       "   (1482, [0.386, 0.387, 0.469, 0.398, 0.433, 0.433, 0.393]),\n",
       "   (23321, [0.383, 0.38, 0.47, 0.497, 0.399, 0.447, 0.392]),\n",
       "   (3091, [0.379, 0.477, 0.413, 0.413, 0.431, 0.441, 0.437]),\n",
       "   (31389, [0.486, 0.626, 0.397, 0.475, 0.492, 0.375, 0.467]),\n",
       "   (30355, [0.397, 0.549, 0.403, 0.404, 0.458, 0.453, 0.408]),\n",
       "   (40028, [0.465, 0.576, 0.464, 0.529, 0.411, 0.437, 0.483]),\n",
       "   (21881, [0.463, 0.407, 0.364, 0.459, 0.383, 0.448, 0.441]),\n",
       "   (967, [0.44, 0.39, 0.425, 0.389, 0.385, 0.489, 0.404]),\n",
       "   (28977, [0.444, 0.464, 0.447, 0.37, 0.421, 0.42, 0.425]),\n",
       "   (1798, [0.425, 0.487, 0.473, 0.424, 0.455, 0.428, 0.407]),\n",
       "   (32189, [0.499, 0.399, 0.503, 0.42, 0.458, 0.424, 0.466]),\n",
       "   (21845, [0.354, 0.431, 0.374, 0.377, 0.353, 0.361, 0.378]),\n",
       "   (12403, [0.352, 0.51, 0.431, 0.414, 0.365, 0.449, 0.453]),\n",
       "   (37985, [0.404, 0.412, 0.403, 0.408, 0.451, 0.399, 0.424]),\n",
       "   (28851, [0.405, 0.363, 0.415, 0.387, 0.447, 0.398, 0.402]),\n",
       "   (3092, [0.52, 0.383, 0.477, 0.428, 0.386, 0.384]),\n",
       "   (8675, [0.463, 0.373, 0.364, 0.376, 0.379, 0.383]),\n",
       "   (32949, [0.454, 0.434, 0.468, 0.399, 0.413, 0.389]),\n",
       "   (38619, [0.438, 0.473, 0.478, 0.438, 0.371, 0.353]),\n",
       "   (35968, [0.43, 0.44, 0.37, 0.464, 0.426, 0.387]),\n",
       "   (66, [0.425, 0.473, 0.411, 0.352, 0.436, 0.497]),\n",
       "   (4722, [0.398, 0.434, 0.418, 0.407, 0.399, 0.422]),\n",
       "   (10568, [0.397, 0.39, 0.387, 0.426, 0.415, 0.348]),\n",
       "   (2904, [0.389, 0.39, 0.426, 0.391, 0.393, 0.402]),\n",
       "   (37651, [0.484, 0.583, 0.617, 0.402, 0.543, 0.419]),\n",
       "   (40595, [0.436, 0.51, 0.406, 0.454, 0.466, 0.424]),\n",
       "   (6811, [0.551, 0.476, 0.404, 0.463, 0.43, 0.417]),\n",
       "   (28249, [0.498, 0.432, 0.516, 0.424, 0.491, 0.411]),\n",
       "   (32682, [0.498, 0.385, 0.48, 0.391, 0.403, 0.395]),\n",
       "   (40852, [0.465, 0.506, 0.424, 0.363, 0.422, 0.418]),\n",
       "   (38084, [0.443, 0.482, 0.417, 0.452, 0.419, 0.397]),\n",
       "   (16894, [0.443, 0.498, 0.414, 0.478, 0.495, 0.395]),\n",
       "   (13331, [0.44, 0.458, 0.453, 0.448, 0.425, 0.461]),\n",
       "   (25389, [0.437, 0.427, 0.449, 0.385, 0.38, 0.402]),\n",
       "   (32867, [0.427, 0.414, 0.477, 0.438, 0.407, 0.444]),\n",
       "   (73, [0.427, 0.416, 0.428, 0.405, 0.377, 0.47]),\n",
       "   (31737, [0.421, 0.548, 0.42, 0.538, 0.478, 0.428]),\n",
       "   (30503, [0.419, 0.388, 0.401, 0.402, 0.377, 0.435]),\n",
       "   (29067, [0.473, 0.416, 0.42, 0.437, 0.346, 0.378]),\n",
       "   (39701, [0.544, 0.42, 0.436, 0.462, 0.416, 0.371]),\n",
       "   (31722, [0.471, 0.391, 0.376, 0.44, 0.405, 0.381]),\n",
       "   (40591, [0.422, 0.421, 0.356, 0.454, 0.392, 0.392]),\n",
       "   (6637, [0.423, 0.443, 0.412, 0.492, 0.384, 0.427]),\n",
       "   (9617, [0.497, 0.413, 0.366, 0.449, 0.441, 0.527]),\n",
       "   (41226, [0.466, 0.458, 0.41, 0.45, 0.383]),\n",
       "   (6956, [0.452, 0.397, 0.396, 0.44, 0.367]),\n",
       "   (7054, [0.418, 0.386, 0.507, 0.39, 0.438]),\n",
       "   (853, [0.403, 0.351, 0.442, 0.391, 0.447]),\n",
       "   (2119, [0.407, 0.465, 0.424, 0.421, 0.397]),\n",
       "   (20583, [0.375, 0.484, 0.447, 0.475, 0.377]),\n",
       "   (12531, [0.374, 0.384, 0.397, 0.38, 0.622]),\n",
       "   (11761, [0.369, 0.464, 0.395, 0.367, 0.375]),\n",
       "   (41312, [0.448, 0.471, 0.404, 0.433, 0.407]),\n",
       "   (1008, [0.434, 0.481, 0.398, 0.362, 0.366]),\n",
       "   (11757, [0.414, 0.433, 0.405, 0.404, 0.458]),\n",
       "   (31051, [0.378, 0.362, 0.37, 0.445, 0.417]),\n",
       "   (37682, [0.377, 0.414, 0.419, 0.433, 0.416]),\n",
       "   (28701, [0.623, 0.407, 0.63, 0.399, 0.536]),\n",
       "   (10087, [0.563, 0.536, 0.716, 0.382, 0.394]),\n",
       "   (3712, [0.494, 0.511, 0.457, 0.421, 0.434]),\n",
       "   (33049, [0.473, 0.548, 0.604, 0.376, 0.532]),\n",
       "   (25835, [0.387, 0.401, 0.401, 0.43, 0.453]),\n",
       "   (3297, [0.382, 0.433, 0.412, 0.475, 0.364]),\n",
       "   (11285, [0.38, 0.343, 0.421, 0.391, 0.37]),\n",
       "   (19023, [0.364, 0.409, 0.436, 0.436, 0.453]),\n",
       "   (12119, [0.36, 0.482, 0.354, 0.471, 0.376]),\n",
       "   (34280, [0.358, 0.361, 0.398, 0.412, 0.37])],\n",
       "  'all-mpnet-base-v2': [(31914,\n",
       "    [0.567,\n",
       "     0.506,\n",
       "     0.638,\n",
       "     0.433,\n",
       "     0.561,\n",
       "     0.651,\n",
       "     0.601,\n",
       "     0.534,\n",
       "     0.638,\n",
       "     0.54,\n",
       "     0.581,\n",
       "     0.623,\n",
       "     0.627,\n",
       "     0.64,\n",
       "     0.6]),\n",
       "   (36817,\n",
       "    [0.667,\n",
       "     0.557,\n",
       "     0.557,\n",
       "     0.562,\n",
       "     0.553,\n",
       "     0.623,\n",
       "     0.65,\n",
       "     0.657,\n",
       "     0.59,\n",
       "     0.576,\n",
       "     0.6,\n",
       "     0.611,\n",
       "     0.609]),\n",
       "   (25429,\n",
       "    [0.592,\n",
       "     0.533,\n",
       "     0.574,\n",
       "     0.547,\n",
       "     0.667,\n",
       "     0.614,\n",
       "     0.544,\n",
       "     0.623,\n",
       "     0.609,\n",
       "     0.665,\n",
       "     0.606,\n",
       "     0.592]),\n",
       "   (143,\n",
       "    [0.622,\n",
       "     0.652,\n",
       "     0.632,\n",
       "     0.55,\n",
       "     0.603,\n",
       "     0.567,\n",
       "     0.629,\n",
       "     0.594,\n",
       "     0.597,\n",
       "     0.592,\n",
       "     0.594]),\n",
       "   (34337,\n",
       "    [0.607, 0.563, 0.569, 0.618, 0.596, 0.616, 0.541, 0.612, 0.613, 0.624]),\n",
       "   (153, [0.646, 0.642, 0.595, 0.636, 0.627, 0.583, 0.632, 0.664, 0.609]),\n",
       "   (36548, [0.622, 0.561, 0.563, 0.617, 0.53, 0.565, 0.59, 0.672, 0.621]),\n",
       "   (41710, [0.607, 0.538, 0.559, 0.594, 0.582, 0.535, 0.564, 0.624, 0.608]),\n",
       "   (35757, [0.595, 0.534, 0.574, 0.601, 0.58, 0.501, 0.542, 0.514, 0.627]),\n",
       "   (2508, [0.567, 0.607, 0.637, 0.609, 0.587, 0.619, 0.614, 0.594, 0.636]),\n",
       "   (7054, [0.597, 0.615, 0.605, 0.572, 0.622, 0.633, 0.542, 0.678]),\n",
       "   (444, [0.578, 0.631, 0.646, 0.575, 0.598, 0.59, 0.585, 0.595]),\n",
       "   (10213, [0.575, 0.636, 0.537, 0.641, 0.591, 0.639, 0.65, 0.607]),\n",
       "   (4744, [0.567, 0.552, 0.536, 0.549, 0.589, 0.596, 0.557, 0.606]),\n",
       "   (667, [0.632, 0.652, 0.619, 0.529, 0.563, 0.617, 0.6, 0.615]),\n",
       "   (35712, [0.619, 0.567, 0.648, 0.586, 0.699, 0.62, 0.586, 0.607]),\n",
       "   (4063, [0.611, 0.56, 0.621, 0.518, 0.558, 0.562, 0.63, 0.578]),\n",
       "   (36037, [0.608, 0.558, 0.561, 0.59, 0.615, 0.505, 0.627, 0.591]),\n",
       "   (34321, [0.52, 0.608, 0.598, 0.525, 0.569, 0.673, 0.672, 0.582]),\n",
       "   (37561, [0.505, 0.629, 0.528, 0.452, 0.5, 0.518, 0.566, 0.578]),\n",
       "   (18095, [0.496, 0.607, 0.567, 0.577, 0.677, 0.574, 0.601, 0.6]),\n",
       "   (38555, [0.482, 0.492, 0.526, 0.526, 0.561, 0.669, 0.6, 0.65]),\n",
       "   (36838, [0.611, 0.612, 0.635, 0.658, 0.493, 0.601, 0.665, 0.642]),\n",
       "   (38759, [0.569, 0.586, 0.533, 0.605, 0.55, 0.692, 0.608, 0.611]),\n",
       "   (40591, [0.693, 0.622, 0.597, 0.646, 0.598, 0.592, 0.621, 0.896]),\n",
       "   (33836, [0.638, 0.618, 0.622, 0.613, 0.554, 0.616, 0.611, 0.619]),\n",
       "   (28297, [0.631, 0.639, 0.636, 0.625, 0.591, 0.541, 0.607]),\n",
       "   (30279, [0.592, 0.534, 0.549, 0.592, 0.612, 0.669, 0.616]),\n",
       "   (37584, [0.578, 0.666, 0.583, 0.703, 0.522, 0.565, 0.696]),\n",
       "   (34822, [0.569, 0.643, 0.646, 0.607, 0.556, 0.569, 0.65]),\n",
       "   (40738, [0.647, 0.654, 0.52, 0.603, 0.575, 0.597, 0.595]),\n",
       "   (22465, [0.636, 0.542, 0.643, 0.606, 0.671, 0.588, 0.606]),\n",
       "   (634, [0.634, 0.479, 0.615, 0.542, 0.606, 0.615, 0.6]),\n",
       "   (40839, [0.627, 0.465, 0.65, 0.551, 0.571, 0.596, 0.605]),\n",
       "   (36840, [0.612, 0.549, 0.585, 0.659, 0.61, 0.56, 0.608]),\n",
       "   (145, [0.609, 0.661, 0.605, 0.64, 0.562, 0.601, 0.619]),\n",
       "   (38843, [0.498, 0.536, 0.401, 0.622, 0.537, 0.642, 0.598]),\n",
       "   (34618, [0.49, 0.465, 0.543, 0.545, 0.607, 0.641, 0.609]),\n",
       "   (290, [0.488, 0.556, 0.619, 0.552, 0.585, 0.577, 0.637]),\n",
       "   (33018, [0.627, 0.541, 0.627, 0.53, 0.56, 0.58, 0.68]),\n",
       "   (8277, [0.606, 0.529, 0.575, 0.537, 0.605, 0.575, 0.62]),\n",
       "   (38440, [0.597, 0.532, 0.513, 0.639, 0.599, 0.569, 0.638]),\n",
       "   (5034, [0.53, 0.546, 0.532, 0.631, 0.608, 0.567, 0.616]),\n",
       "   (710, [0.576, 0.615, 0.547, 0.568, 0.596, 0.559, 0.607]),\n",
       "   (1374, [0.607, 0.611, 0.592, 0.622, 0.603, 0.673, 0.598]),\n",
       "   (39017, [0.558, 0.535, 0.551, 0.682, 0.565, 0.639, 0.616]),\n",
       "   (23289, [0.653, 0.64, 0.548, 0.591, 0.565, 0.596, 0.595]),\n",
       "   (32603, [0.651, 0.63, 0.6, 0.628, 0.578, 0.557, 0.62]),\n",
       "   (2158, [0.578, 0.421, 0.567, 0.583, 0.546, 0.623]),\n",
       "   (29095, [0.574, 0.571, 0.688, 0.58, 0.542, 0.565]),\n",
       "   (35015, [0.656, 0.592, 0.534, 0.613, 0.573, 0.626]),\n",
       "   (34612, [0.63, 0.592, 0.604, 0.922, 0.562, 0.644]),\n",
       "   (23121, [0.63, 0.531, 0.549, 0.62, 0.612, 0.596]),\n",
       "   (8675, [0.629, 0.591, 0.618, 0.569, 0.596, 0.583]),\n",
       "   (41103, [0.629, 0.549, 0.676, 0.542, 0.572, 0.623]),\n",
       "   (38619, [0.626, 0.657, 0.545, 0.603, 0.68, 0.62]),\n",
       "   (31240, [0.626, 0.54, 0.42, 0.587, 0.643, 0.677]),\n",
       "   (37614, [0.625, 0.653, 0.635, 0.557, 0.631, 0.655]),\n",
       "   (11739, [0.624, 0.567, 0.56, 0.613, 0.616, 0.586]),\n",
       "   (24031, [0.615, 0.624, 0.602, 0.649, 0.597, 0.608]),\n",
       "   (45653, [0.611, 0.535, 0.578, 0.624, 0.572, 0.601]),\n",
       "   (256, [0.544, 0.51, 0.524, 0.546, 0.494, 0.607]),\n",
       "   (14515, [0.522, 0.511, 0.585, 0.562, 0.545, 0.647]),\n",
       "   (22663, [0.513, 0.528, 0.535, 0.618, 0.595, 0.631]),\n",
       "   (10456, [0.508, 0.437, 0.561, 0.562, 0.598, 0.634]),\n",
       "   (10087, [0.503, 0.763, 0.716, 0.382, 0.894, 0.59]),\n",
       "   (31953, [0.49, 0.441, 0.557, 0.627, 0.601, 0.593]),\n",
       "   (34914, [0.489, 0.431, 0.56, 0.638, 0.599, 0.594]),\n",
       "   (25537, [0.671, 0.718, 0.527, 0.597, 0.574, 0.593]),\n",
       "   (5702, [0.607, 0.706, 0.527, 0.616, 0.567, 0.638]),\n",
       "   (30736, [0.607, 0.566, 0.617, 0.53, 0.563, 0.665]),\n",
       "   (39940, [0.422, 0.632, 0.548, 0.641, 0.607, 0.676]),\n",
       "   (2683, [0.582, 0.539, 0.618, 0.596, 0.584, 0.612]),\n",
       "   (32601, [0.556, 0.552, 0.513, 0.558, 0.618, 0.635]),\n",
       "   (20847, [0.682, 0.578, 0.652, 0.579, 0.61, 0.619]),\n",
       "   (30355, [0.675, 0.572, 0.609, 0.623, 0.548, 0.667]),\n",
       "   (66, [0.658, 0.648, 0.651, 0.686, 0.609, 0.6]),\n",
       "   (15061, [0.646, 0.527, 0.545, 0.586, 0.57, 0.61]),\n",
       "   (28819, [0.64, 0.628, 0.661, 0.608, 0.571, 0.667]),\n",
       "   (2923, [0.507, 0.61, 0.608, 0.584, 0.597, 0.636]),\n",
       "   (8424, [0.609, 0.652, 0.547, 0.632, 0.599]),\n",
       "   (46701, [0.581, 0.622, 0.545, 0.546, 0.576]),\n",
       "   (38481, [0.579, 0.657, 0.58, 0.615, 0.635]),\n",
       "   (17729, [0.573, 0.495, 0.757, 0.568, 0.63]),\n",
       "   (22865, [0.572, 0.561, 0.621, 0.516, 0.566]),\n",
       "   (2570, [0.567, 0.719, 0.608, 0.502, 0.597]),\n",
       "   (37786, [0.694, 0.55, 0.6, 0.577, 0.598]),\n",
       "   (38397, [0.682, 0.612, 0.677, 0.631, 0.655]),\n",
       "   (27787, [0.674, 0.56, 0.598, 0.533, 0.612]),\n",
       "   (39959, [0.645, 0.603, 0.554, 0.56, 0.628]),\n",
       "   (11843, [0.639, 0.663, 0.617, 0.631, 0.591]),\n",
       "   (21327, [0.638, 0.659, 0.597, 0.581, 0.586]),\n",
       "   (2403, [0.63, 0.63, 0.632, 0.623, 0.597]),\n",
       "   (734, [0.624, 0.521, 0.579, 0.586, 0.598]),\n",
       "   (3358, [0.623, 0.533, 0.577, 0.62, 0.592]),\n",
       "   (43007, [0.614, 0.548, 0.543, 0.59, 0.637]),\n",
       "   (38814, [0.612, 0.538, 0.548, 0.563, 0.647]),\n",
       "   (14289, [0.612, 0.565, 0.513, 0.559, 0.551]),\n",
       "   (10460, [0.612, 0.629, 0.616, 0.57, 0.599]),\n",
       "   (11577, [0.731, 0.685, 0.582, 0.557, 0.795])],\n",
       "  'anime_encoder_bigger': [(31914,\n",
       "    [0.537, 0.469, 0.472, 0.458, 0.389, 0.47, 0.479, 0.474]),\n",
       "   (13263, [0.462, 0.5, 0.493, 0.391, 0.447, 0.749, 0.792]),\n",
       "   (34100, [0.47, 0.483, 0.396, 0.313, 0.416, 0.46, 0.488]),\n",
       "   (30279, [0.43, 0.403, 0.415, 0.485, 0.471, 0.567]),\n",
       "   (7054, [0.427, 0.461, 0.415, 0.456, 0.436, 0.532]),\n",
       "   (634, [0.483, 0.419, 0.37, 0.498, 0.479, 0.462]),\n",
       "   (41103, [0.464, 0.383, 0.427, 0.576, 0.494, 0.468]),\n",
       "   (11741, [0.392, 0.596, 0.619, 0.376, 0.373, 0.894]),\n",
       "   (10087, [0.383, 0.661, 0.615, 0.351, 0.894, 0.442]),\n",
       "   (13183, [0.381, 0.419, 0.435, 0.43, 0.652, 0.678]),\n",
       "   (34321, [0.348, 0.51, 0.492, 0.427, 0.61, 0.607]),\n",
       "   (38843, [0.341, 0.341, 0.512, 0.378, 0.513, 0.482]),\n",
       "   (25537, [0.711, 0.726, 0.376, 0.437, 0.534, 0.567]),\n",
       "   (34337, [0.448, 0.446, 0.434, 0.47, 0.476, 0.484]),\n",
       "   (38329, [0.521, 0.394, 0.746, 0.488, 0.616]),\n",
       "   (26057, [0.492, 0.416, 0.401, 0.425, 0.448]),\n",
       "   (734, [0.55, 0.415, 0.433, 0.48, 0.498]),\n",
       "   (45613, [0.525, 0.361, 0.457, 0.504, 0.47]),\n",
       "   (153, [0.487, 0.454, 0.444, 0.491, 0.51]),\n",
       "   (34822, [0.478, 0.504, 0.453, 0.364, 0.506]),\n",
       "   (23121, [0.467, 0.357, 0.443, 0.492, 0.439]),\n",
       "   (39326, [0.462, 0.42, 0.452, 0.485, 0.445]),\n",
       "   (31240, [0.456, 0.369, 0.379, 0.534, 0.555]),\n",
       "   (43007, [0.452, 0.448, 0.342, 0.415, 0.498]),\n",
       "   (40839, [0.452, 0.362, 0.466, 0.416, 0.445]),\n",
       "   (27957, [0.597, 0.572, 0.437, 0.45, 0.512]),\n",
       "   (37492, [0.443, 0.436, 0.429, 0.408, 0.402]),\n",
       "   (28907, [0.422, 0.384, 0.403, 0.339, 0.393]),\n",
       "   (33674, [0.42, 0.409, 0.48, 0.773, 0.534]),\n",
       "   (31637, [0.418, 0.377, 0.402, 0.349, 0.377]),\n",
       "   (11319, [0.409, 0.428, 0.59, 0.402, 0.577]),\n",
       "   (1195, [0.394, 0.343, 0.531, 0.375, 0.539]),\n",
       "   (35854, [0.371, 0.376, 0.37, 0.45, 0.436]),\n",
       "   (39587, [0.368, 0.375, 0.339, 0.628, 0.57]),\n",
       "   (1840, [0.363, 0.384, 0.404, 0.587, 0.567]),\n",
       "   (42203, [0.358, 0.477, 0.347, 0.58, 0.499]),\n",
       "   (42364, [0.357, 0.442, 0.395, 0.459, 0.426]),\n",
       "   (4725, [0.343, 0.501, 0.517, 0.38, 0.526]),\n",
       "   (10456, [0.339, 0.378, 0.364, 0.398, 0.448]),\n",
       "   (40761, [0.504, 0.46, 0.355, 0.532, 0.564]),\n",
       "   (36838, [0.464, 0.48, 0.466, 0.45, 0.461]),\n",
       "   (46381, [0.436, 0.383, 0.455, 0.445, 0.451]),\n",
       "   (38659, [0.481, 0.386, 0.498, 0.461, 0.498]),\n",
       "   (36633, [0.738, 0.616, 0.89, 0.839, 0.653]),\n",
       "   (41461, [0.635, 0.557, 0.765, 0.73, 0.686]),\n",
       "   (24655, [0.589, 0.384, 0.653, 0.647, 0.589]),\n",
       "   (11691, [0.455, 0.438, 0.465, 0.464, 0.444]),\n",
       "   (40416, [0.394, 0.549, 0.436, 0.47, 0.397]),\n",
       "   (25649, [0.381, 0.429, 0.395, 0.426, 0.357]),\n",
       "   (556, [0.366, 0.405, 0.424, 0.412, 0.504]),\n",
       "   (20847, [0.533, 0.485, 0.463, 0.479, 0.464]),\n",
       "   (41710, [0.447, 0.441, 0.38, 0.49, 0.434]),\n",
       "   (2562, [0.41, 0.444, 0.462, 0.486, 0.516]),\n",
       "   (28297, [0.471, 0.467, 0.462, 0.453]),\n",
       "   (25429, [0.416, 0.515, 0.484, 0.47]),\n",
       "   (10628, [0.577, 0.567, 0.532, 0.497]),\n",
       "   (36902, [0.54, 0.756, 0.585, 0.532]),\n",
       "   (5774, [0.534, 0.407, 0.44, 0.462]),\n",
       "   (37786, [0.542, 0.462, 0.431, 0.455]),\n",
       "   (19285, [0.516, 0.552, 0.501, 0.61]),\n",
       "   (15315, [0.489, 0.381, 0.487, 0.453]),\n",
       "   (28207, [0.462, 0.462, 0.428, 0.465]),\n",
       "   (31374, [0.461, 0.704, 0.505, 0.757]),\n",
       "   (36817, [0.454, 0.416, 0.484, 0.426]),\n",
       "   (38619, [0.453, 0.488, 0.493, 0.456]),\n",
       "   (667, [0.453, 0.501, 0.429, 0.378]),\n",
       "   (3092, [0.452, 0.363, 0.346, 0.382]),\n",
       "   (9253, [0.801, 0.634, 0.497, 0.688]),\n",
       "   (10863, [0.716, 0.688, 0.706, 0.553]),\n",
       "   (11577, [0.691, 0.634, 0.549, 0.706]),\n",
       "   (32188, [0.588, 0.497, 0.549, 0.553]),\n",
       "   (127, [0.469, 0.51, 0.439, 0.401]),\n",
       "   (256, [0.405, 0.374, 0.364, 0.396]),\n",
       "   (45783, [0.366, 0.383, 0.495, 0.489]),\n",
       "   (37402, [0.365, 0.397, 0.731, 0.444]),\n",
       "   (18967, [0.364, 0.415, 0.425, 0.427]),\n",
       "   (3712, [0.363, 0.415, 0.444, 0.418]),\n",
       "   (30743, [0.356, 0.396, 0.405, 0.424]),\n",
       "   (20707, [0.356, 0.347, 0.397, 0.427]),\n",
       "   (27655, [0.351, 0.342, 0.499, 0.473]),\n",
       "   (37364, [0.348, 0.383, 0.383, 0.394]),\n",
       "   (10361, [0.341, 0.319, 0.327, 0.439]),\n",
       "   (35855, [0.339, 0.346, 0.421, 0.436]),\n",
       "   (27821, [0.856, 0.791, 0.522, 0.574]),\n",
       "   (31389, [0.827, 0.862, 0.587, 0.555]),\n",
       "   (356, [0.803, 0.831, 0.621, 0.673]),\n",
       "   (6922, [0.746, 0.789, 0.414, 0.486]),\n",
       "   (37651, [0.68, 0.637, 0.587, 0.622]),\n",
       "   (7559, [0.639, 0.677, 0.461, 0.54]),\n",
       "   (34662, [0.627, 0.522, 0.615, 0.662]),\n",
       "   (33049, [0.614, 0.632, 0.475, 0.506]),\n",
       "   (33047, [0.597, 0.575, 0.57, 0.596]),\n",
       "   (38084, [0.501, 0.439, 0.515, 0.562]),\n",
       "   (36064, [0.474, 0.445, 0.495, 0.553]),\n",
       "   (44248, [0.469, 0.44, 0.52, 0.566]),\n",
       "   (36915, [0.457, 0.427, 0.414, 0.466]),\n",
       "   (14829, [0.448, 0.416, 0.413, 0.472]),\n",
       "   (40540, [0.448, 0.467, 0.458, 0.416]),\n",
       "   (35204, [0.441, 0.388, 0.421, 0.442]),\n",
       "   (21881, [0.439, 0.421, 0.41, 0.412])]})"
      ]
     },
     "execution_count": 220,
     "metadata": {},
     "output_type": "execute_result"
    }
   ],
   "source": [
    "user_id, user_predictions = process_user(user_ids[0], embedders, 100, verbose=True)\n",
    "user_id, user_predictions"
   ]
  },
  {
   "cell_type": "code",
   "execution_count": null,
   "id": "UNTwT_wgLMIB",
   "metadata": {},
   "outputs": [
    {
     "data": {
      "text/plain": [
       "[(9253, [0.936, 0.883, 0.857, 0.887]),\n",
       " (30484, [0.936, 0.903, 0.884, 0.907]),\n",
       " (19163, [0.904, 0.917, 0.964, 0.911])]"
      ]
     },
     "execution_count": 55,
     "metadata": {},
     "output_type": "execute_result"
    }
   ],
   "source": [
    "user_predictions['text-embedding-ada-002']"
   ]
  },
  {
   "cell_type": "code",
   "execution_count": null,
   "id": "sHSgXhx-IUMn",
   "metadata": {},
   "outputs": [],
   "source": []
  },
  {
   "cell_type": "code",
   "execution_count": null,
   "id": "6yf0IPxqcQ8A",
   "metadata": {},
   "outputs": [],
   "source": []
  },
  {
   "cell_type": "code",
   "execution_count": null,
   "id": "mnRHxui0-RD3",
   "metadata": {},
   "outputs": [
    {
     "data": {
      "application/vnd.jupyter.widget-view+json": {
       "model_id": "a0b6995d03ee497f9a7148bdbd5e51f9",
       "version_major": 2,
       "version_minor": 0
      },
      "text/plain": [
       "  0%|          | 0/95433 [00:00<?, ?it/s]"
      ]
     },
     "metadata": {},
     "output_type": "display_data"
    }
   ],
   "source": [
    "user_preds = {}\n",
    "for user_id in tqdm(user_ids):\n",
    "    user_preds[user_id] = process_user(user_id, embedders, 10, verbose=False)[1]"
   ]
  },
  {
   "cell_type": "code",
   "execution_count": null,
   "id": "5ceab3a7",
   "metadata": {},
   "outputs": [
    {
     "data": {
      "text/plain": [
       "174437"
      ]
     },
     "execution_count": 105,
     "metadata": {},
     "output_type": "execute_result"
    }
   ],
   "source": [
    "len(user_preds)"
   ]
  },
  {
   "cell_type": "code",
   "execution_count": null,
   "id": "x54mbe2zfBKJ",
   "metadata": {},
   "outputs": [
    {
     "name": "stderr",
     "output_type": "stream",
     "text": [
      "<ipython-input-14-4d500b305dc8>:23: FutureWarning: \n",
      "\n",
      "Passing `palette` without assigning `hue` is deprecated and will be removed in v0.14.0. Assign the `y` variable to `hue` and set `legend=False` for the same effect.\n",
      "\n",
      "  sns.barplot(y='Embedder', x='Number of Animes', data=df, palette='viridis')\n"
     ]
    },
    {
     "data": {
      "image/png": "[encoded data removed]",
      "text/plain": [
       "<Figure size 1000x600 with 1 Axes>"
      ]
     },
     "metadata": {},
     "output_type": "display_data"
    }
   ],
   "source": [
    "import matplotlib.pyplot as plt\n",
    "import seaborn as sns\n",
    "import pandas as pd\n",
    "\n",
    "# Data\n",
    "data = {\n",
    "    'Embedder': [\n",
    "        'anime_encoder',\n",
    "        'paraphrase-distilroberta-base-v1',\n",
    "        'text-embedding-3-large',\n",
    "        'all-mpnet-base-v2',\n",
    "        'text-embedding-ada-002',\n",
    "        'anime_encoder_bigger'\n",
    "    ],\n",
    "    'Number of Animes': [4140, 4270, 4375, 4540, 4640, 5350]\n",
    "}\n",
    "\n",
    "# Create DataFrame\n",
    "df = pd.DataFrame(data)\n",
    "\n",
    "# Plot\n",
    "plt.figure(figsize=(10, 6))\n",
    "sns.barplot(y='Embedder', x='Number of Animes', data=df, palette='viridis')\n",
    "plt.title('Total Animes Predicted by Each Embedder')\n",
    "plt.xlabel('Number of Animes')\n",
    "plt.ylabel('Embedder')\n",
    "plt.show()"
   ]
  },
  {
   "cell_type": "code",
   "execution_count": null,
   "id": "7560413f",
   "metadata": {},
   "outputs": [
    {
     "data": {
      "text/html": [
       "\n",
       "  <div id=\"df-8ceac5e7-d3d0-436b-8fa5-78adf3d7d7e5\" class=\"colab-df-container\">\n",
       "    <div>\n",
       "<style scoped>\n",
       "    .dataframe tbody tr th:only-of-type {\n",
       "        vertical-align: middle;\n",
       "    }\n",
       "\n",
       "    .dataframe tbody tr th {\n",
       "        vertical-align: top;\n",
       "    }\n",
       "\n",
       "    .dataframe thead th {\n",
       "        text-align: right;\n",
       "    }\n",
       "</style>\n",
       "<table border=\"1\" class=\"dataframe\">\n",
       "  <thead>\n",
       "    <tr style=\"text-align: right;\">\n",
       "      <th></th>\n",
       "      <th>user_id</th>\n",
       "      <th>anime_id</th>\n",
       "      <th>rating</th>\n",
       "      <th>nps_score</th>\n",
       "    </tr>\n",
       "  </thead>\n",
       "  <tbody>\n",
       "    <tr>\n",
       "      <th>34576676</th>\n",
       "      <td>212268</td>\n",
       "      <td>23847</td>\n",
       "      <td>9</td>\n",
       "      <td>1</td>\n",
       "    </tr>\n",
       "    <tr>\n",
       "      <th>38915290</th>\n",
       "      <td>239019</td>\n",
       "      <td>14513</td>\n",
       "      <td>10</td>\n",
       "      <td>1</td>\n",
       "    </tr>\n",
       "  </tbody>\n",
       "</table>\n",
       "</div>\n",
       "    <div class=\"colab-df-buttons\">\n",
       "\n",
       "  <div class=\"colab-df-container\">\n",
       "    <button class=\"colab-df-convert\" onclick=\"convertToInteractive('df-8ceac5e7-d3d0-436b-8fa5-78adf3d7d7e5')\"\n",
       "            title=\"Convert this dataframe to an interactive table.\"\n",
       "            style=\"display:none;\">\n",
       "\n",
       "  <svg xmlns=\"http://www.w3.org/2000/svg\" height=\"24px\" viewBox=\"0 -960 960 960\">\n",
       "    <path d=\"M120-120v-720h720v720H120Zm60-500h600v-160H180v160Zm220 220h160v-160H400v160Zm0 220h160v-160H400v160ZM180-400h160v-160H180v160Zm440 0h160v-160H620v160ZM180-180h160v-160H180v160Zm440 0h160v-160H620v160Z\"/>\n",
       "  </svg>\n",
       "    </button>\n",
       "\n",
       "  <style>\n",
       "    .colab-df-container {\n",
       "      display:flex;\n",
       "      gap: 12px;\n",
       "    }\n",
       "\n",
       "    .colab-df-convert {\n",
       "      background-color: #E8F0FE;\n",
       "      border: none;\n",
       "      border-radius: 50%;\n",
       "      cursor: pointer;\n",
       "      display: none;\n",
       "      fill: #1967D2;\n",
       "      height: 32px;\n",
       "      padding: 0 0 0 0;\n",
       "      width: 32px;\n",
       "    }\n",
       "\n",
       "    .colab-df-convert:hover {\n",
       "      background-color: #E2EBFA;\n",
       "      box-shadow: 0px 1px 2px rgba(60, 64, 67, 0.3), 0px 1px 3px 1px rgba(60, 64, 67, 0.15);\n",
       "      fill: #174EA6;\n",
       "    }\n",
       "\n",
       "    .colab-df-buttons div {\n",
       "      margin-bottom: 4px;\n",
       "    }\n",
       "\n",
       "    [theme=dark] .colab-df-convert {\n",
       "      background-color: #3B4455;\n",
       "      fill: #D2E3FC;\n",
       "    }\n",
       "\n",
       "    [theme=dark] .colab-df-convert:hover {\n",
       "      background-color: #434B5C;\n",
       "      box-shadow: 0px 1px 3px 1px rgba(0, 0, 0, 0.15);\n",
       "      filter: drop-shadow(0px 1px 2px rgba(0, 0, 0, 0.3));\n",
       "      fill: #FFFFFF;\n",
       "    }\n",
       "  </style>\n",
       "\n",
       "    <script>\n",
       "      const buttonEl =\n",
       "        document.querySelector('#df-8ceac5e7-d3d0-436b-8fa5-78adf3d7d7e5 button.colab-df-convert');\n",
       "      buttonEl.style.display =\n",
       "        google.colab.kernel.accessAllowed ? 'block' : 'none';\n",
       "\n",
       "      async function convertToInteractive(key) {\n",
       "        const element = document.querySelector('#df-8ceac5e7-d3d0-436b-8fa5-78adf3d7d7e5');\n",
       "        const dataTable =\n",
       "          await google.colab.kernel.invokeFunction('convertToInteractive',\n",
       "                                                    [key], {});\n",
       "        if (!dataTable) return;\n",
       "\n",
       "        const docLinkHtml = 'Like what you see? Visit the ' +\n",
       "          '<a target=\"_blank\" href=https://colab.research.google.com/notebooks/data_table.ipynb>data table notebook</a>'\n",
       "          + ' to learn more about interactive tables.';\n",
       "        element.innerHTML = '';\n",
       "        dataTable['output_type'] = 'display_data';\n",
       "        await google.colab.output.renderOutput(dataTable, element);\n",
       "        const docLink = document.createElement('div');\n",
       "        docLink.innerHTML = docLinkHtml;\n",
       "        element.appendChild(docLink);\n",
       "      }\n",
       "    </script>\n",
       "  </div>\n",
       "\n",
       "\n",
       "<div id=\"df-006ad9d2-2434-4c53-95d3-f78720f4ab97\">\n",
       "  <button class=\"colab-df-quickchart\" onclick=\"quickchart('df-006ad9d2-2434-4c53-95d3-f78720f4ab97')\"\n",
       "            title=\"Suggest charts\"\n",
       "            style=\"display:none;\">\n",
       "\n",
       "<svg xmlns=\"http://www.w3.org/2000/svg\" height=\"24px\"viewBox=\"0 0 24 24\"\n",
       "     width=\"24px\">\n",
       "    <g>\n",
       "        <path d=\"M19 3H5c-1.1 0-2 .9-2 2v14c0 1.1.9 2 2 2h14c1.1 0 2-.9 2-2V5c0-1.1-.9-2-2-2zM9 17H7v-7h2v7zm4 0h-2V7h2v10zm4 0h-2v-4h2v4z\"/>\n",
       "    </g>\n",
       "</svg>\n",
       "  </button>\n",
       "\n",
       "<style>\n",
       "  .colab-df-quickchart {\n",
       "      --bg-color: #E8F0FE;\n",
       "      --fill-color: #1967D2;\n",
       "      --hover-bg-color: #E2EBFA;\n",
       "      --hover-fill-color: #174EA6;\n",
       "      --disabled-fill-color: #AAA;\n",
       "      --disabled-bg-color: #DDD;\n",
       "  }\n",
       "\n",
       "  [theme=dark] .colab-df-quickchart {\n",
       "      --bg-color: #3B4455;\n",
       "      --fill-color: #D2E3FC;\n",
       "      --hover-bg-color: #434B5C;\n",
       "      --hover-fill-color: #FFFFFF;\n",
       "      --disabled-bg-color: #3B4455;\n",
       "      --disabled-fill-color: #666;\n",
       "  }\n",
       "\n",
       "  .colab-df-quickchart {\n",
       "    background-color: var(--bg-color);\n",
       "    border: none;\n",
       "    border-radius: 50%;\n",
       "    cursor: pointer;\n",
       "    display: none;\n",
       "    fill: var(--fill-color);\n",
       "    height: 32px;\n",
       "    padding: 0;\n",
       "    width: 32px;\n",
       "  }\n",
       "\n",
       "  .colab-df-quickchart:hover {\n",
       "    background-color: var(--hover-bg-color);\n",
       "    box-shadow: 0 1px 2px rgba(60, 64, 67, 0.3), 0 1px 3px 1px rgba(60, 64, 67, 0.15);\n",
       "    fill: var(--button-hover-fill-color);\n",
       "  }\n",
       "\n",
       "  .colab-df-quickchart-complete:disabled,\n",
       "  .colab-df-quickchart-complete:disabled:hover {\n",
       "    background-color: var(--disabled-bg-color);\n",
       "    fill: var(--disabled-fill-color);\n",
       "    box-shadow: none;\n",
       "  }\n",
       "\n",
       "  .colab-df-spinner {\n",
       "    border: 2px solid var(--fill-color);\n",
       "    border-color: transparent;\n",
       "    border-bottom-color: var(--fill-color);\n",
       "    animation:\n",
       "      spin 1s steps(1) infinite;\n",
       "  }\n",
       "\n",
       "  @keyframes spin {\n",
       "    0% {\n",
       "      border-color: transparent;\n",
       "      border-bottom-color: var(--fill-color);\n",
       "      border-left-color: var(--fill-color);\n",
       "    }\n",
       "    20% {\n",
       "      border-color: transparent;\n",
       "      border-left-color: var(--fill-color);\n",
       "      border-top-color: var(--fill-color);\n",
       "    }\n",
       "    30% {\n",
       "      border-color: transparent;\n",
       "      border-left-color: var(--fill-color);\n",
       "      border-top-color: var(--fill-color);\n",
       "      border-right-color: var(--fill-color);\n",
       "    }\n",
       "    40% {\n",
       "      border-color: transparent;\n",
       "      border-right-color: var(--fill-color);\n",
       "      border-top-color: var(--fill-color);\n",
       "    }\n",
       "    60% {\n",
       "      border-color: transparent;\n",
       "      border-right-color: var(--fill-color);\n",
       "    }\n",
       "    80% {\n",
       "      border-color: transparent;\n",
       "      border-right-color: var(--fill-color);\n",
       "      border-bottom-color: var(--fill-color);\n",
       "    }\n",
       "    90% {\n",
       "      border-color: transparent;\n",
       "      border-bottom-color: var(--fill-color);\n",
       "    }\n",
       "  }\n",
       "</style>\n",
       "\n",
       "  <script>\n",
       "    async function quickchart(key) {\n",
       "      const quickchartButtonEl =\n",
       "        document.querySelector('#' + key + ' button');\n",
       "      quickchartButtonEl.disabled = true;  // To prevent multiple clicks.\n",
       "      quickchartButtonEl.classList.add('colab-df-spinner');\n",
       "      try {\n",
       "        const charts = await google.colab.kernel.invokeFunction(\n",
       "            'suggestCharts', [key], {});\n",
       "      } catch (error) {\n",
       "        console.error('Error during call to suggestCharts:', error);\n",
       "      }\n",
       "      quickchartButtonEl.classList.remove('colab-df-spinner');\n",
       "      quickchartButtonEl.classList.add('colab-df-quickchart-complete');\n",
       "    }\n",
       "    (() => {\n",
       "      let quickchartButtonEl =\n",
       "        document.querySelector('#df-006ad9d2-2434-4c53-95d3-f78720f4ab97 button');\n",
       "      quickchartButtonEl.style.display =\n",
       "        google.colab.kernel.accessAllowed ? 'block' : 'none';\n",
       "    })();\n",
       "  </script>\n",
       "</div>\n",
       "\n",
       "    </div>\n",
       "  </div>\n"
      ],
      "text/plain": [
       "          user_id  anime_id  rating  nps_score\n",
       "34576676   212268     23847       9          1\n",
       "38915290   239019     14513      10          1"
      ]
     },
     "execution_count": 107,
     "metadata": {},
     "output_type": "execute_result"
    }
   ],
   "source": [
    "rating_complete_test.head(2)"
   ]
  },
  {
   "cell_type": "code",
   "execution_count": null,
   "id": "07d1a5cc",
   "metadata": {},
   "outputs": [
    {
     "data": {
      "application/vnd.jupyter.widget-view+json": {
       "model_id": "907d92ce384d4cbb83ed2739da57168d",
       "version_major": 2,
       "version_minor": 0
      },
      "text/plain": [
       "  0%|          | 0/10 [00:00<?, ?it/s]"
      ]
     },
     "metadata": {},
     "output_type": "display_data"
    }
   ],
   "source": [
    "# Initializing list for k_values and dictionary for counts of each embedder\n",
    "k_values = []\n",
    "embedder_counts = defaultdict(list)\n",
    "raw_counts = []\n",
    "\n",
    "def _avg_score(scores):\n",
    "    int_score = int(round(sum(scores) / len(scores)))\n",
    "    return score_map[int_score]\n",
    "\n",
    "# Creating a range of integers from 1 to 10\n",
    "_r = list(range(1, 11))\n",
    "\n",
    "# Looping over the range to get the different k values (k-factor) for recommendations\n",
    "for k_factor in tqdm(_r):\n",
    "    # Looping over each user and their corresponding recommendations\n",
    "    for user_id, user_recs in user_preds.items():\n",
    "        # Looping over each embedder and the corresponding recommendations from the embedder\n",
    "        for embedder, recs_from_embedder in user_recs.items():\n",
    "            # Selecting the top-k recommendations for each user from each embedder\n",
    "            # final_recs = sorted(recs_from_embedder, key=lambda x: x[1], reverse=True)[:k_factor]\n",
    "            # print(final_recs)\n",
    "\n",
    "            # Looping over the top-k recommendations\n",
    "            for index, (recommended_anime_id, recommendation_score) in enumerate(recs_from_embedder):\n",
    "                # Fetching the user rating for the recommended anime\n",
    "                user_rating = user_anime_test_ratings.get(int(user_id), {}).get(int(recommended_anime_id))\n",
    "\n",
    "                # print(f'User {user_id} has a rating of {user_rating} for anime {recommended_anime} from embedder {embedder}')\n",
    "\n",
    "                # Checking if the user has a rating for the recommended anime\n",
    "                if user_rating is not None:\n",
    "                    avg_score = sum(recommendation_score) / len(recommendation_score)\n",
    "                    raw_counts.append(\n",
    "                        {\n",
    "                            'nps_score': score_map[user_rating], 'index': index,\n",
    "                            'user_id': user_id, 'anime_id': recommended_anime_id,\n",
    "                            'embedder': embedder, 'rating': user_rating,\n",
    "                            'count': len(recommendation_score), 'score': avg_score\n",
    "                            }\n",
    "                        )\n",
    "                    # The score of each recommendation is adjusted by its rank and added to the embedder_counts dictionary\n",
    "                    embedder_counts[embedder].append((_avg_score(recommendation_score) * (k_factor - index) / k_factor))\n",
    "\n",
    "    # Calculating the average Net Promoter Score (NPS) for each embedder and adding it to the k_values list\n",
    "    k_values.append({e: dict(k=k_factor, avg_nps=sum(l) / len(l), predictions_found_in_test_set=len(l)) for e, l in embedder_counts.items()})\n"
   ]
  },
  {
   "cell_type": "code",
   "execution_count": null,
   "id": "4zQ9ic32NwA9",
   "metadata": {},
   "outputs": [
    {
     "data": {
      "text/plain": [
       "[{'nps_score': 1,\n",
       "  'index': 1,\n",
       "  'user_id': 239019,\n",
       "  'anime_id': 14513,\n",
       "  'embedder': 'paraphrase-distilroberta-base-v1',\n",
       "  'rating': 10,\n",
       "  'count': 2,\n",
       "  'score': 0.6124999821186066},\n",
       " {'nps_score': 1,\n",
       "  'index': 6,\n",
       "  'user_id': 157681,\n",
       "  'anime_id': 10087,\n",
       "  'embedder': 'text-embedding-ada-002',\n",
       "  'rating': 10,\n",
       "  'count': 7,\n",
       "  'score': 0.8862857142857142}]"
      ]
     },
     "execution_count": 109,
     "metadata": {},
     "output_type": "execute_result"
    }
   ],
   "source": [
    "raw_counts[:2]"
   ]
  },
  {
   "cell_type": "code",
   "execution_count": null,
   "id": "sEW-nth0Dct0",
   "metadata": {},
   "outputs": [
    {
     "name": "stdout",
     "output_type": "stream",
     "text": [
      "(317250, 9)\n"
     ]
    },
    {
     "data": {
      "text/html": [
       "\n",
       "  <div id=\"df-a2bb7071-ecb1-4700-afb4-33c78a2a90f2\" class=\"colab-df-container\">\n",
       "    <div>\n",
       "<style scoped>\n",
       "    .dataframe tbody tr th:only-of-type {\n",
       "        vertical-align: middle;\n",
       "    }\n",
       "\n",
       "    .dataframe tbody tr th {\n",
       "        vertical-align: top;\n",
       "    }\n",
       "\n",
       "    .dataframe thead th {\n",
       "        text-align: right;\n",
       "    }\n",
       "</style>\n",
       "<table border=\"1\" class=\"dataframe\">\n",
       "  <thead>\n",
       "    <tr style=\"text-align: right;\">\n",
       "      <th></th>\n",
       "      <th>level_0</th>\n",
       "      <th>nps_score</th>\n",
       "      <th>index</th>\n",
       "      <th>user_id</th>\n",
       "      <th>anime_id</th>\n",
       "      <th>embedder</th>\n",
       "      <th>rating</th>\n",
       "      <th>count</th>\n",
       "      <th>score</th>\n",
       "    </tr>\n",
       "  </thead>\n",
       "  <tbody>\n",
       "    <tr>\n",
       "      <th>317245</th>\n",
       "      <td>317245</td>\n",
       "      <td>1</td>\n",
       "      <td>5</td>\n",
       "      <td>261107</td>\n",
       "      <td>4282</td>\n",
       "      <td>text-embedding-ada-002</td>\n",
       "      <td>10</td>\n",
       "      <td>3</td>\n",
       "      <td>0.886000</td>\n",
       "    </tr>\n",
       "    <tr>\n",
       "      <th>317246</th>\n",
       "      <td>317246</td>\n",
       "      <td>1</td>\n",
       "      <td>2</td>\n",
       "      <td>261107</td>\n",
       "      <td>4282</td>\n",
       "      <td>text-embedding-3-large</td>\n",
       "      <td>10</td>\n",
       "      <td>3</td>\n",
       "      <td>0.709000</td>\n",
       "    </tr>\n",
       "    <tr>\n",
       "      <th>317247</th>\n",
       "      <td>317247</td>\n",
       "      <td>1</td>\n",
       "      <td>3</td>\n",
       "      <td>261107</td>\n",
       "      <td>4282</td>\n",
       "      <td>all-mpnet-base-v2</td>\n",
       "      <td>10</td>\n",
       "      <td>3</td>\n",
       "      <td>0.701000</td>\n",
       "    </tr>\n",
       "    <tr>\n",
       "      <th>317248</th>\n",
       "      <td>317248</td>\n",
       "      <td>1</td>\n",
       "      <td>5</td>\n",
       "      <td>261107</td>\n",
       "      <td>4282</td>\n",
       "      <td>anime_encoder_bigger</td>\n",
       "      <td>10</td>\n",
       "      <td>3</td>\n",
       "      <td>0.643667</td>\n",
       "    </tr>\n",
       "    <tr>\n",
       "      <th>317249</th>\n",
       "      <td>317249</td>\n",
       "      <td>1</td>\n",
       "      <td>2</td>\n",
       "      <td>76921</td>\n",
       "      <td>8769</td>\n",
       "      <td>all-mpnet-base-v2</td>\n",
       "      <td>9</td>\n",
       "      <td>4</td>\n",
       "      <td>0.784000</td>\n",
       "    </tr>\n",
       "  </tbody>\n",
       "</table>\n",
       "</div>\n",
       "    <div class=\"colab-df-buttons\">\n",
       "\n",
       "  <div class=\"colab-df-container\">\n",
       "    <button class=\"colab-df-convert\" onclick=\"convertToInteractive('df-a2bb7071-ecb1-4700-afb4-33c78a2a90f2')\"\n",
       "            title=\"Convert this dataframe to an interactive table.\"\n",
       "            style=\"display:none;\">\n",
       "\n",
       "  <svg xmlns=\"http://www.w3.org/2000/svg\" height=\"24px\" viewBox=\"0 -960 960 960\">\n",
       "    <path d=\"M120-120v-720h720v720H120Zm60-500h600v-160H180v160Zm220 220h160v-160H400v160Zm0 220h160v-160H400v160ZM180-400h160v-160H180v160Zm440 0h160v-160H620v160ZM180-180h160v-160H180v160Zm440 0h160v-160H620v160Z\"/>\n",
       "  </svg>\n",
       "    </button>\n",
       "\n",
       "  <style>\n",
       "    .colab-df-container {\n",
       "      display:flex;\n",
       "      gap: 12px;\n",
       "    }\n",
       "\n",
       "    .colab-df-convert {\n",
       "      background-color: #E8F0FE;\n",
       "      border: none;\n",
       "      border-radius: 50%;\n",
       "      cursor: pointer;\n",
       "      display: none;\n",
       "      fill: #1967D2;\n",
       "      height: 32px;\n",
       "      padding: 0 0 0 0;\n",
       "      width: 32px;\n",
       "    }\n",
       "\n",
       "    .colab-df-convert:hover {\n",
       "      background-color: #E2EBFA;\n",
       "      box-shadow: 0px 1px 2px rgba(60, 64, 67, 0.3), 0px 1px 3px 1px rgba(60, 64, 67, 0.15);\n",
       "      fill: #174EA6;\n",
       "    }\n",
       "\n",
       "    .colab-df-buttons div {\n",
       "      margin-bottom: 4px;\n",
       "    }\n",
       "\n",
       "    [theme=dark] .colab-df-convert {\n",
       "      background-color: #3B4455;\n",
       "      fill: #D2E3FC;\n",
       "    }\n",
       "\n",
       "    [theme=dark] .colab-df-convert:hover {\n",
       "      background-color: #434B5C;\n",
       "      box-shadow: 0px 1px 3px 1px rgba(0, 0, 0, 0.15);\n",
       "      filter: drop-shadow(0px 1px 2px rgba(0, 0, 0, 0.3));\n",
       "      fill: #FFFFFF;\n",
       "    }\n",
       "  </style>\n",
       "\n",
       "    <script>\n",
       "      const buttonEl =\n",
       "        document.querySelector('#df-a2bb7071-ecb1-4700-afb4-33c78a2a90f2 button.colab-df-convert');\n",
       "      buttonEl.style.display =\n",
       "        google.colab.kernel.accessAllowed ? 'block' : 'none';\n",
       "\n",
       "      async function convertToInteractive(key) {\n",
       "        const element = document.querySelector('#df-a2bb7071-ecb1-4700-afb4-33c78a2a90f2');\n",
       "        const dataTable =\n",
       "          await google.colab.kernel.invokeFunction('convertToInteractive',\n",
       "                                                    [key], {});\n",
       "        if (!dataTable) return;\n",
       "\n",
       "        const docLinkHtml = 'Like what you see? Visit the ' +\n",
       "          '<a target=\"_blank\" href=https://colab.research.google.com/notebooks/data_table.ipynb>data table notebook</a>'\n",
       "          + ' to learn more about interactive tables.';\n",
       "        element.innerHTML = '';\n",
       "        dataTable['output_type'] = 'display_data';\n",
       "        await google.colab.output.renderOutput(dataTable, element);\n",
       "        const docLink = document.createElement('div');\n",
       "        docLink.innerHTML = docLinkHtml;\n",
       "        element.appendChild(docLink);\n",
       "      }\n",
       "    </script>\n",
       "  </div>\n",
       "\n",
       "\n",
       "<div id=\"df-4a560622-aed9-4526-861c-cb6863d902ac\">\n",
       "  <button class=\"colab-df-quickchart\" onclick=\"quickchart('df-4a560622-aed9-4526-861c-cb6863d902ac')\"\n",
       "            title=\"Suggest charts\"\n",
       "            style=\"display:none;\">\n",
       "\n",
       "<svg xmlns=\"http://www.w3.org/2000/svg\" height=\"24px\"viewBox=\"0 0 24 24\"\n",
       "     width=\"24px\">\n",
       "    <g>\n",
       "        <path d=\"M19 3H5c-1.1 0-2 .9-2 2v14c0 1.1.9 2 2 2h14c1.1 0 2-.9 2-2V5c0-1.1-.9-2-2-2zM9 17H7v-7h2v7zm4 0h-2V7h2v10zm4 0h-2v-4h2v4z\"/>\n",
       "    </g>\n",
       "</svg>\n",
       "  </button>\n",
       "\n",
       "<style>\n",
       "  .colab-df-quickchart {\n",
       "      --bg-color: #E8F0FE;\n",
       "      --fill-color: #1967D2;\n",
       "      --hover-bg-color: #E2EBFA;\n",
       "      --hover-fill-color: #174EA6;\n",
       "      --disabled-fill-color: #AAA;\n",
       "      --disabled-bg-color: #DDD;\n",
       "  }\n",
       "\n",
       "  [theme=dark] .colab-df-quickchart {\n",
       "      --bg-color: #3B4455;\n",
       "      --fill-color: #D2E3FC;\n",
       "      --hover-bg-color: #434B5C;\n",
       "      --hover-fill-color: #FFFFFF;\n",
       "      --disabled-bg-color: #3B4455;\n",
       "      --disabled-fill-color: #666;\n",
       "  }\n",
       "\n",
       "  .colab-df-quickchart {\n",
       "    background-color: var(--bg-color);\n",
       "    border: none;\n",
       "    border-radius: 50%;\n",
       "    cursor: pointer;\n",
       "    display: none;\n",
       "    fill: var(--fill-color);\n",
       "    height: 32px;\n",
       "    padding: 0;\n",
       "    width: 32px;\n",
       "  }\n",
       "\n",
       "  .colab-df-quickchart:hover {\n",
       "    background-color: var(--hover-bg-color);\n",
       "    box-shadow: 0 1px 2px rgba(60, 64, 67, 0.3), 0 1px 3px 1px rgba(60, 64, 67, 0.15);\n",
       "    fill: var(--button-hover-fill-color);\n",
       "  }\n",
       "\n",
       "  .colab-df-quickchart-complete:disabled,\n",
       "  .colab-df-quickchart-complete:disabled:hover {\n",
       "    background-color: var(--disabled-bg-color);\n",
       "    fill: var(--disabled-fill-color);\n",
       "    box-shadow: none;\n",
       "  }\n",
       "\n",
       "  .colab-df-spinner {\n",
       "    border: 2px solid var(--fill-color);\n",
       "    border-color: transparent;\n",
       "    border-bottom-color: var(--fill-color);\n",
       "    animation:\n",
       "      spin 1s steps(1) infinite;\n",
       "  }\n",
       "\n",
       "  @keyframes spin {\n",
       "    0% {\n",
       "      border-color: transparent;\n",
       "      border-bottom-color: var(--fill-color);\n",
       "      border-left-color: var(--fill-color);\n",
       "    }\n",
       "    20% {\n",
       "      border-color: transparent;\n",
       "      border-left-color: var(--fill-color);\n",
       "      border-top-color: var(--fill-color);\n",
       "    }\n",
       "    30% {\n",
       "      border-color: transparent;\n",
       "      border-left-color: var(--fill-color);\n",
       "      border-top-color: var(--fill-color);\n",
       "      border-right-color: var(--fill-color);\n",
       "    }\n",
       "    40% {\n",
       "      border-color: transparent;\n",
       "      border-right-color: var(--fill-color);\n",
       "      border-top-color: var(--fill-color);\n",
       "    }\n",
       "    60% {\n",
       "      border-color: transparent;\n",
       "      border-right-color: var(--fill-color);\n",
       "    }\n",
       "    80% {\n",
       "      border-color: transparent;\n",
       "      border-right-color: var(--fill-color);\n",
       "      border-bottom-color: var(--fill-color);\n",
       "    }\n",
       "    90% {\n",
       "      border-color: transparent;\n",
       "      border-bottom-color: var(--fill-color);\n",
       "    }\n",
       "  }\n",
       "</style>\n",
       "\n",
       "  <script>\n",
       "    async function quickchart(key) {\n",
       "      const quickchartButtonEl =\n",
       "        document.querySelector('#' + key + ' button');\n",
       "      quickchartButtonEl.disabled = true;  // To prevent multiple clicks.\n",
       "      quickchartButtonEl.classList.add('colab-df-spinner');\n",
       "      try {\n",
       "        const charts = await google.colab.kernel.invokeFunction(\n",
       "            'suggestCharts', [key], {});\n",
       "      } catch (error) {\n",
       "        console.error('Error during call to suggestCharts:', error);\n",
       "      }\n",
       "      quickchartButtonEl.classList.remove('colab-df-spinner');\n",
       "      quickchartButtonEl.classList.add('colab-df-quickchart-complete');\n",
       "    }\n",
       "    (() => {\n",
       "      let quickchartButtonEl =\n",
       "        document.querySelector('#df-4a560622-aed9-4526-861c-cb6863d902ac button');\n",
       "      quickchartButtonEl.style.display =\n",
       "        google.colab.kernel.accessAllowed ? 'block' : 'none';\n",
       "    })();\n",
       "  </script>\n",
       "</div>\n",
       "\n",
       "    </div>\n",
       "  </div>\n"
      ],
      "text/plain": [
       "        level_0  nps_score  index  user_id  anime_id                embedder  \\\n",
       "317245   317245          1      5   261107      4282  text-embedding-ada-002   \n",
       "317246   317246          1      2   261107      4282  text-embedding-3-large   \n",
       "317247   317247          1      3   261107      4282       all-mpnet-base-v2   \n",
       "317248   317248          1      5   261107      4282    anime_encoder_bigger   \n",
       "317249   317249          1      2    76921      8769       all-mpnet-base-v2   \n",
       "\n",
       "        rating  count     score  \n",
       "317245      10      3  0.886000  \n",
       "317246      10      3  0.709000  \n",
       "317247      10      3  0.701000  \n",
       "317248      10      3  0.643667  \n",
       "317249       9      4  0.784000  "
      ]
     },
     "execution_count": 134,
     "metadata": {},
     "output_type": "execute_result"
    }
   ],
   "source": [
    "raw_counts_df = pd.DataFrame(raw_counts).drop_duplicates().reset_index()\n",
    "\n",
    "# remove recs with only a single recommendation count to inspect the stronger signals\n",
    "# raw_counts_df = raw_counts_df[raw_counts_df['count'] > 1]\n",
    "\n",
    "print(raw_counts_df.shape)\n",
    "raw_counts_df.tail()"
   ]
  },
  {
   "cell_type": "code",
   "execution_count": null,
   "id": "bnDf1BghpCPv",
   "metadata": {},
   "outputs": [
    {
     "name": "stdout",
     "output_type": "stream",
     "text": [
      "embedder\n",
      "paraphrase-distilroberta-base-v1    0.829061\n",
      "anime_encoder                       0.874422\n",
      "all-mpnet-base-v2                   0.883831\n",
      "text-embedding-3-large              0.895893\n",
      "text-embedding-ada-002              0.902171\n",
      "anime_encoder_bigger                0.905438\n",
      "Name: nps_score, dtype: float64\n"
     ]
    },
    {
     "data": {
      "image/png": "[encoded data removed]",
      "text/plain": [
       "<Figure size 640x480 with 1 Axes>"
      ]
     },
     "metadata": {},
     "output_type": "display_data"
    }
   ],
   "source": [
    "# Grouping by 'embedder' and calculating mean of 'rating'\n",
    "grouped_data = raw_counts_df.groupby('embedder')['nps_score'].mean().sort_values()\n",
    "print(grouped_data)\n",
    "\n",
    "# Plotting the data\n",
    "grouped_data.plot(\n",
    "    kind='bar',\n",
    "    ylim=(.8, .95)\n",
    "    )\n",
    "plt.title('Average NPS by Embedder')\n",
    "plt.ylabel('Average NPS')\n",
    "plt.xlabel('Embedder')\n",
    "plt.show()\n"
   ]
  },
  {
   "cell_type": "code",
   "execution_count": null,
   "id": "IAMQUuT646qn",
   "metadata": {},
   "outputs": [
    {
     "name": "stdout",
     "output_type": "stream",
     "text": [
      "embedder\n",
      "paraphrase-distilroberta-base-v1    9.113887\n",
      "anime_encoder                       9.227505\n",
      "all-mpnet-base-v2                   9.270251\n",
      "text-embedding-3-large              9.298831\n",
      "text-embedding-ada-002              9.306445\n",
      "anime_encoder_bigger                9.325051\n",
      "Name: rating, dtype: float64\n"
     ]
    },
    {
     "data": {
      "image/png": "[encoded data removed]",
      "text/plain": [
       "<Figure size 640x480 with 1 Axes>"
      ]
     },
     "metadata": {},
     "output_type": "display_data"
    }
   ],
   "source": [
    "# Grouping by 'embedder' and calculating mean of 'rating'\n",
    "grouped_data = raw_counts_df.groupby('embedder')['rating'].mean().sort_values()\n",
    "print(grouped_data)\n",
    "\n",
    "# Plotting the data\n",
    "grouped_data.plot(\n",
    "    kind='bar',\n",
    "    ylim=(8.5, 9.5)\n",
    "    )\n",
    "plt.title('Average Rating by Embedder')\n",
    "plt.ylabel('Average Rating')\n",
    "plt.xlabel('Embedder')\n",
    "plt.show()\n"
   ]
  },
  {
   "cell_type": "code",
   "execution_count": null,
   "id": "9WDOaacjDi6Q",
   "metadata": {},
   "outputs": [
    {
     "data": {
      "text/plain": [
       "<Figure size 1200x600 with 0 Axes>"
      ]
     },
     "metadata": {},
     "output_type": "display_data"
    },
    {
     "data": {
      "image/png": "[encoded data removed]",
      "text/plain": [
       "<Figure size 1200x600 with 1 Axes>"
      ]
     },
     "metadata": {},
     "output_type": "display_data"
    }
   ],
   "source": [
    "# Use Seaborn style for nice looking plots\n",
    "sns.set_style(\"whitegrid\")\n",
    "\n",
    "# Create the plot with a larger figure size for better readability\n",
    "plt.figure(figsize=(12, 6))\n",
    "\n",
    "# Group, calculate mean, and plot while specifying line width and marker style for better visibility\n",
    "ax = raw_counts_df.groupby(['embedder', 'index'])['nps_score'].mean().unstack(0).plot(\n",
    "    lw=2, # Line width\n",
    "    marker='o', # Marker style\n",
    "    figsize=(12, 6), # Figure size\n",
    "    )\n",
    "\n",
    "# Add a title to the plot\n",
    "ax.set_title('Average Rating by Embedder and Index', fontsize=16)\n",
    "\n",
    "# Label the axes for better understanding of the plot\n",
    "ax.set_xlabel('Index', fontsize=12)\n",
    "ax.set_ylabel('Average Rating', fontsize=12)\n",
    "\n",
    "# Adjust the legend to not block the plot and improve readability\n",
    "ax.legend(title='Embedder', title_fontsize='13', fontsize='11', loc='best')\n",
    "\n",
    "# Show the plot\n",
    "plt.show()\n"
   ]
  },
  {
   "cell_type": "code",
   "execution_count": null,
   "id": "XUMYA6w34SHW",
   "metadata": {},
   "outputs": [
    {
     "data": {
      "text/html": [
       "\n",
       "  <div id=\"df-92fd621d-239e-402b-ab24-a129ace35401\" class=\"colab-df-container\">\n",
       "    <div>\n",
       "<style scoped>\n",
       "    .dataframe tbody tr th:only-of-type {\n",
       "        vertical-align: middle;\n",
       "    }\n",
       "\n",
       "    .dataframe tbody tr th {\n",
       "        vertical-align: top;\n",
       "    }\n",
       "\n",
       "    .dataframe thead th {\n",
       "        text-align: right;\n",
       "    }\n",
       "</style>\n",
       "<table border=\"1\" class=\"dataframe\">\n",
       "  <thead>\n",
       "    <tr style=\"text-align: right;\">\n",
       "      <th>embedder</th>\n",
       "      <th>all-mpnet-base-v2</th>\n",
       "      <th>anime_encoder</th>\n",
       "      <th>anime_encoder_bigger</th>\n",
       "      <th>paraphrase-distilroberta-base-v1</th>\n",
       "      <th>text-embedding-3-large</th>\n",
       "      <th>text-embedding-ada-002</th>\n",
       "    </tr>\n",
       "    <tr>\n",
       "      <th>index_bucket</th>\n",
       "      <th></th>\n",
       "      <th></th>\n",
       "      <th></th>\n",
       "      <th></th>\n",
       "      <th></th>\n",
       "      <th></th>\n",
       "    </tr>\n",
       "  </thead>\n",
       "  <tbody>\n",
       "    <tr>\n",
       "      <th>0-2</th>\n",
       "      <td>0.904461</td>\n",
       "      <td>0.893734</td>\n",
       "      <td>0.921512</td>\n",
       "      <td>0.861658</td>\n",
       "      <td>0.913240</td>\n",
       "      <td>0.918296</td>\n",
       "    </tr>\n",
       "    <tr>\n",
       "      <th>3-6</th>\n",
       "      <td>0.872249</td>\n",
       "      <td>0.868990</td>\n",
       "      <td>0.894682</td>\n",
       "      <td>0.813835</td>\n",
       "      <td>0.891059</td>\n",
       "      <td>0.896271</td>\n",
       "    </tr>\n",
       "    <tr>\n",
       "      <th>7+</th>\n",
       "      <td>0.858376</td>\n",
       "      <td>0.855186</td>\n",
       "      <td>0.884615</td>\n",
       "      <td>0.796491</td>\n",
       "      <td>0.872501</td>\n",
       "      <td>0.880929</td>\n",
       "    </tr>\n",
       "  </tbody>\n",
       "</table>\n",
       "</div>\n",
       "    <div class=\"colab-df-buttons\">\n",
       "\n",
       "  <div class=\"colab-df-container\">\n",
       "    <button class=\"colab-df-convert\" onclick=\"convertToInteractive('df-92fd621d-239e-402b-ab24-a129ace35401')\"\n",
       "            title=\"Convert this dataframe to an interactive table.\"\n",
       "            style=\"display:none;\">\n",
       "\n",
       "  <svg xmlns=\"http://www.w3.org/2000/svg\" height=\"24px\" viewBox=\"0 -960 960 960\">\n",
       "    <path d=\"M120-120v-720h720v720H120Zm60-500h600v-160H180v160Zm220 220h160v-160H400v160Zm0 220h160v-160H400v160ZM180-400h160v-160H180v160Zm440 0h160v-160H620v160ZM180-180h160v-160H180v160Zm440 0h160v-160H620v160Z\"/>\n",
       "  </svg>\n",
       "    </button>\n",
       "\n",
       "  <style>\n",
       "    .colab-df-container {\n",
       "      display:flex;\n",
       "      gap: 12px;\n",
       "    }\n",
       "\n",
       "    .colab-df-convert {\n",
       "      background-color: #E8F0FE;\n",
       "      border: none;\n",
       "      border-radius: 50%;\n",
       "      cursor: pointer;\n",
       "      display: none;\n",
       "      fill: #1967D2;\n",
       "      height: 32px;\n",
       "      padding: 0 0 0 0;\n",
       "      width: 32px;\n",
       "    }\n",
       "\n",
       "    .colab-df-convert:hover {\n",
       "      background-color: #E2EBFA;\n",
       "      box-shadow: 0px 1px 2px rgba(60, 64, 67, 0.3), 0px 1px 3px 1px rgba(60, 64, 67, 0.15);\n",
       "      fill: #174EA6;\n",
       "    }\n",
       "\n",
       "    .colab-df-buttons div {\n",
       "      margin-bottom: 4px;\n",
       "    }\n",
       "\n",
       "    [theme=dark] .colab-df-convert {\n",
       "      background-color: #3B4455;\n",
       "      fill: #D2E3FC;\n",
       "    }\n",
       "\n",
       "    [theme=dark] .colab-df-convert:hover {\n",
       "      background-color: #434B5C;\n",
       "      box-shadow: 0px 1px 3px 1px rgba(0, 0, 0, 0.15);\n",
       "      filter: drop-shadow(0px 1px 2px rgba(0, 0, 0, 0.3));\n",
       "      fill: #FFFFFF;\n",
       "    }\n",
       "  </style>\n",
       "\n",
       "    <script>\n",
       "      const buttonEl =\n",
       "        document.querySelector('#df-92fd621d-239e-402b-ab24-a129ace35401 button.colab-df-convert');\n",
       "      buttonEl.style.display =\n",
       "        google.colab.kernel.accessAllowed ? 'block' : 'none';\n",
       "\n",
       "      async function convertToInteractive(key) {\n",
       "        const element = document.querySelector('#df-92fd621d-239e-402b-ab24-a129ace35401');\n",
       "        const dataTable =\n",
       "          await google.colab.kernel.invokeFunction('convertToInteractive',\n",
       "                                                    [key], {});\n",
       "        if (!dataTable) return;\n",
       "\n",
       "        const docLinkHtml = 'Like what you see? Visit the ' +\n",
       "          '<a target=\"_blank\" href=https://colab.research.google.com/notebooks/data_table.ipynb>data table notebook</a>'\n",
       "          + ' to learn more about interactive tables.';\n",
       "        element.innerHTML = '';\n",
       "        dataTable['output_type'] = 'display_data';\n",
       "        await google.colab.output.renderOutput(dataTable, element);\n",
       "        const docLink = document.createElement('div');\n",
       "        docLink.innerHTML = docLinkHtml;\n",
       "        element.appendChild(docLink);\n",
       "      }\n",
       "    </script>\n",
       "  </div>\n",
       "\n",
       "\n",
       "<div id=\"df-fad54e53-cf50-42cd-a5e0-50209870a5d5\">\n",
       "  <button class=\"colab-df-quickchart\" onclick=\"quickchart('df-fad54e53-cf50-42cd-a5e0-50209870a5d5')\"\n",
       "            title=\"Suggest charts\"\n",
       "            style=\"display:none;\">\n",
       "\n",
       "<svg xmlns=\"http://www.w3.org/2000/svg\" height=\"24px\"viewBox=\"0 0 24 24\"\n",
       "     width=\"24px\">\n",
       "    <g>\n",
       "        <path d=\"M19 3H5c-1.1 0-2 .9-2 2v14c0 1.1.9 2 2 2h14c1.1 0 2-.9 2-2V5c0-1.1-.9-2-2-2zM9 17H7v-7h2v7zm4 0h-2V7h2v10zm4 0h-2v-4h2v4z\"/>\n",
       "    </g>\n",
       "</svg>\n",
       "  </button>\n",
       "\n",
       "<style>\n",
       "  .colab-df-quickchart {\n",
       "      --bg-color: #E8F0FE;\n",
       "      --fill-color: #1967D2;\n",
       "      --hover-bg-color: #E2EBFA;\n",
       "      --hover-fill-color: #174EA6;\n",
       "      --disabled-fill-color: #AAA;\n",
       "      --disabled-bg-color: #DDD;\n",
       "  }\n",
       "\n",
       "  [theme=dark] .colab-df-quickchart {\n",
       "      --bg-color: #3B4455;\n",
       "      --fill-color: #D2E3FC;\n",
       "      --hover-bg-color: #434B5C;\n",
       "      --hover-fill-color: #FFFFFF;\n",
       "      --disabled-bg-color: #3B4455;\n",
       "      --disabled-fill-color: #666;\n",
       "  }\n",
       "\n",
       "  .colab-df-quickchart {\n",
       "    background-color: var(--bg-color);\n",
       "    border: none;\n",
       "    border-radius: 50%;\n",
       "    cursor: pointer;\n",
       "    display: none;\n",
       "    fill: var(--fill-color);\n",
       "    height: 32px;\n",
       "    padding: 0;\n",
       "    width: 32px;\n",
       "  }\n",
       "\n",
       "  .colab-df-quickchart:hover {\n",
       "    background-color: var(--hover-bg-color);\n",
       "    box-shadow: 0 1px 2px rgba(60, 64, 67, 0.3), 0 1px 3px 1px rgba(60, 64, 67, 0.15);\n",
       "    fill: var(--button-hover-fill-color);\n",
       "  }\n",
       "\n",
       "  .colab-df-quickchart-complete:disabled,\n",
       "  .colab-df-quickchart-complete:disabled:hover {\n",
       "    background-color: var(--disabled-bg-color);\n",
       "    fill: var(--disabled-fill-color);\n",
       "    box-shadow: none;\n",
       "  }\n",
       "\n",
       "  .colab-df-spinner {\n",
       "    border: 2px solid var(--fill-color);\n",
       "    border-color: transparent;\n",
       "    border-bottom-color: var(--fill-color);\n",
       "    animation:\n",
       "      spin 1s steps(1) infinite;\n",
       "  }\n",
       "\n",
       "  @keyframes spin {\n",
       "    0% {\n",
       "      border-color: transparent;\n",
       "      border-bottom-color: var(--fill-color);\n",
       "      border-left-color: var(--fill-color);\n",
       "    }\n",
       "    20% {\n",
       "      border-color: transparent;\n",
       "      border-left-color: var(--fill-color);\n",
       "      border-top-color: var(--fill-color);\n",
       "    }\n",
       "    30% {\n",
       "      border-color: transparent;\n",
       "      border-left-color: var(--fill-color);\n",
       "      border-top-color: var(--fill-color);\n",
       "      border-right-color: var(--fill-color);\n",
       "    }\n",
       "    40% {\n",
       "      border-color: transparent;\n",
       "      border-right-color: var(--fill-color);\n",
       "      border-top-color: var(--fill-color);\n",
       "    }\n",
       "    60% {\n",
       "      border-color: transparent;\n",
       "      border-right-color: var(--fill-color);\n",
       "    }\n",
       "    80% {\n",
       "      border-color: transparent;\n",
       "      border-right-color: var(--fill-color);\n",
       "      border-bottom-color: var(--fill-color);\n",
       "    }\n",
       "    90% {\n",
       "      border-color: transparent;\n",
       "      border-bottom-color: var(--fill-color);\n",
       "    }\n",
       "  }\n",
       "</style>\n",
       "\n",
       "  <script>\n",
       "    async function quickchart(key) {\n",
       "      const quickchartButtonEl =\n",
       "        document.querySelector('#' + key + ' button');\n",
       "      quickchartButtonEl.disabled = true;  // To prevent multiple clicks.\n",
       "      quickchartButtonEl.classList.add('colab-df-spinner');\n",
       "      try {\n",
       "        const charts = await google.colab.kernel.invokeFunction(\n",
       "            'suggestCharts', [key], {});\n",
       "      } catch (error) {\n",
       "        console.error('Error during call to suggestCharts:', error);\n",
       "      }\n",
       "      quickchartButtonEl.classList.remove('colab-df-spinner');\n",
       "      quickchartButtonEl.classList.add('colab-df-quickchart-complete');\n",
       "    }\n",
       "    (() => {\n",
       "      let quickchartButtonEl =\n",
       "        document.querySelector('#df-fad54e53-cf50-42cd-a5e0-50209870a5d5 button');\n",
       "      quickchartButtonEl.style.display =\n",
       "        google.colab.kernel.accessAllowed ? 'block' : 'none';\n",
       "    })();\n",
       "  </script>\n",
       "</div>\n",
       "\n",
       "  <div id=\"id_367634d5-3587-424e-8b81-8d48f9d1c3b5\">\n",
       "    <style>\n",
       "      .colab-df-generate {\n",
       "        background-color: #E8F0FE;\n",
       "        border: none;\n",
       "        border-radius: 50%;\n",
       "        cursor: pointer;\n",
       "        display: none;\n",
       "        fill: #1967D2;\n",
       "        height: 32px;\n",
       "        padding: 0 0 0 0;\n",
       "        width: 32px;\n",
       "      }\n",
       "\n",
       "      .colab-df-generate:hover {\n",
       "        background-color: #E2EBFA;\n",
       "        box-shadow: 0px 1px 2px rgba(60, 64, 67, 0.3), 0px 1px 3px 1px rgba(60, 64, 67, 0.15);\n",
       "        fill: #174EA6;\n",
       "      }\n",
       "\n",
       "      [theme=dark] .colab-df-generate {\n",
       "        background-color: #3B4455;\n",
       "        fill: #D2E3FC;\n",
       "      }\n",
       "\n",
       "      [theme=dark] .colab-df-generate:hover {\n",
       "        background-color: #434B5C;\n",
       "        box-shadow: 0px 1px 3px 1px rgba(0, 0, 0, 0.15);\n",
       "        filter: drop-shadow(0px 1px 2px rgba(0, 0, 0, 0.3));\n",
       "        fill: #FFFFFF;\n",
       "      }\n",
       "    </style>\n",
       "    <button class=\"colab-df-generate\" onclick=\"generateWithVariable('grouped_df')\"\n",
       "            title=\"Generate code using this dataframe.\"\n",
       "            style=\"display:none;\">\n",
       "\n",
       "  <svg xmlns=\"http://www.w3.org/2000/svg\" height=\"24px\"viewBox=\"0 0 24 24\"\n",
       "       width=\"24px\">\n",
       "    <path d=\"M7,19H8.4L18.45,9,17,7.55,7,17.6ZM5,21V16.75L18.45,3.32a2,2,0,0,1,2.83,0l1.4,1.43a1.91,1.91,0,0,1,.58,1.4,1.91,1.91,0,0,1-.58,1.4L9.25,21ZM18.45,9,17,7.55Zm-12,3A5.31,5.31,0,0,0,4.9,8.1,5.31,5.31,0,0,0,1,6.5,5.31,5.31,0,0,0,4.9,4.9,5.31,5.31,0,0,0,6.5,1,5.31,5.31,0,0,0,8.1,4.9,5.31,5.31,0,0,0,12,6.5,5.46,5.46,0,0,0,6.5,12Z\"/>\n",
       "  </svg>\n",
       "    </button>\n",
       "    <script>\n",
       "      (() => {\n",
       "      const buttonEl =\n",
       "        document.querySelector('#id_367634d5-3587-424e-8b81-8d48f9d1c3b5 button.colab-df-generate');\n",
       "      buttonEl.style.display =\n",
       "        google.colab.kernel.accessAllowed ? 'block' : 'none';\n",
       "\n",
       "      buttonEl.onclick = () => {\n",
       "        google.colab.notebook.generateWithVariable('grouped_df');\n",
       "      }\n",
       "      })();\n",
       "    </script>\n",
       "  </div>\n",
       "\n",
       "    </div>\n",
       "  </div>\n"
      ],
      "text/plain": [
       "embedder      all-mpnet-base-v2  anime_encoder  anime_encoder_bigger  \\\n",
       "index_bucket                                                           \n",
       "0-2                    0.904461       0.893734              0.921512   \n",
       "3-6                    0.872249       0.868990              0.894682   \n",
       "7+                     0.858376       0.855186              0.884615   \n",
       "\n",
       "embedder      paraphrase-distilroberta-base-v1  text-embedding-3-large  \\\n",
       "index_bucket                                                             \n",
       "0-2                                   0.861658                0.913240   \n",
       "3-6                                   0.813835                0.891059   \n",
       "7+                                    0.796491                0.872501   \n",
       "\n",
       "embedder      text-embedding-ada-002  \n",
       "index_bucket                          \n",
       "0-2                         0.918296  \n",
       "3-6                         0.896271  \n",
       "7+                          0.880929  "
      ]
     },
     "execution_count": 141,
     "metadata": {},
     "output_type": "execute_result"
    }
   ],
   "source": [
    "grouped_df"
   ]
  },
  {
   "cell_type": "code",
   "execution_count": 30,
   "id": "3z-b7khLXbeF",
   "metadata": {},
   "outputs": [
    {
     "data": {
      "image/png": "[encoded data removed]",
      "text/plain": [
       "<Figure size 1200x600 with 1 Axes>"
      ]
     },
     "metadata": {},
     "output_type": "display_data"
    }
   ],
   "source": [
    "import pandas as pd\n",
    "import matplotlib.pyplot as plt\n",
    "import numpy as np\n",
    "\n",
    "# Data\n",
    "data_corrected = {\n",
    "    \"index_bucket\": [\"0-2\", \"3-6\", \"7+\"],\n",
    "    \"paraphrase-distilroberta-base-v1\": [0.861658, 0.813835, 0.796491],\n",
    "    \"anime_encoder\": [0.893734, 0.868990, 0.855186],\n",
    "    \"text-embedding-3-small\": [0.904461, 0.872249, 0.858376],\n",
    "    \"text-embedding-3-large\": [0.913240, 0.891059, 0.872501],\n",
    "    \"text-embedding-ada-002\": [0.918296, 0.896271, 0.880929],\n",
    "    \"anime_encoder_bigger\": [0.921512, 0.894682, 0.884615]\n",
    "}\n",
    "\n",
    "# Create DataFrame\n",
    "df_corrected = pd.DataFrame(data_corrected)\n",
    "df_corrected = df_corrected.set_index(\"index_bucket\")\n",
    "\n",
    "# Define colors and patterns\n",
    "colors = [\n",
    "    \"#CD5C5C\",  # light red for paraphrase-distilroberta-base-v1\n",
    "    \"#FF6347\",  # Tomato red for text-embedding-3-small\n",
    "    \"#DC143C\",  # Crimson red for text-embedding-3-large\n",
    "    \"#B22222\",  # Firebrick red for text-embedding-ada-002\n",
    "    \"#32CD32\",  # Lime green for anime_encoder\n",
    "    \"#228B22\"   # Forest green for anime_encoder_bigger\n",
    "]\n",
    "\n",
    "patterns = [\"\", \"//\", \"xx\", \"||\", \"--\", \"\\\\\\\\\"]\n",
    "\n",
    "# Plotting\n",
    "fig, ax = plt.subplots(figsize=(12, 6))  # Increase the figure size to make the graph wider\n",
    "\n",
    "# Plot bars with patterns\n",
    "bar_width = 0.1\n",
    "index = np.arange(len(df_corrected.index))\n",
    "\n",
    "for i, (column, color, pattern) in enumerate(zip(df_corrected.columns, colors, patterns)):\n",
    "    bars = ax.bar(index + i * bar_width, df_corrected[column], bar_width, label=column, color=color, hatch=pattern)\n",
    "\n",
    "# Adding labels and title\n",
    "ax.set_ylabel(\"Average NPS Rating to given Anime\")\n",
    "ax.set_xlabel(\"Index Bucket (0 means the first rec in a list of 10)\")\n",
    "ax.set_title(\"Average Rating by Embedder and Index Bucket\")\n",
    "ax.set_ylim(0.75, 1.0)\n",
    "ax.set_xticks(index + bar_width * 2.5)\n",
    "ax.set_xticklabels(df_corrected.index)\n",
    "\n",
    "# Adding legend at the bottom\n",
    "ax.legend(title=\"Embedder\", bbox_to_anchor=(0.5, -0.25), loc='upper center', ncol=3)\n",
    "\n",
    "plt.tight_layout()\n",
    "# plt.show()\n",
    "\n",
    "plt.savefig('sdf.png', dpi=1000)\n"
   ]
  },
  {
   "cell_type": "code",
   "execution_count": 16,
   "id": "DUgHXjpmWe55",
   "metadata": {},
   "outputs": [
    {
     "data": {
      "image/png": "[encoded data removed]",
      "text/plain": [
       "<Figure size 1200x600 with 1 Axes>"
      ]
     },
     "metadata": {},
     "output_type": "display_data"
    }
   ],
   "source": [
    "import pandas as pd\n",
    "import matplotlib.pyplot as plt\n",
    "\n",
    "# Data\n",
    "data = {\n",
    "    \"embedder\": [\n",
    "        \"paraphrase-distilroberta-base-v1\", \n",
    "        \"anime_encoder\", \n",
    "        \"all-mpnet-base-v2\", \n",
    "        \"text-embedding-3-large\", \n",
    "        \"text-embedding-ada-002\", \n",
    "        \"anime_encoder_bigger\"\n",
    "    ],\n",
    "    \"nps_score\": [\n",
    "        0.829061, \n",
    "        0.874422, \n",
    "        0.883831, \n",
    "        0.895893, \n",
    "        0.902171, \n",
    "        0.905438\n",
    "    ]\n",
    "}\n",
    "\n",
    "# Create DataFrame\n",
    "df = pd.DataFrame(data)\n",
    "df = df.set_index(\"embedder\")\n",
    "\n",
    "# Define colors and patterns\n",
    "colors = [\n",
    "    \"#CD5C5C\",  # light red for paraphrase-distilroberta-base-v1\n",
    "    \"#FF6347\",  # Tomato red for text-embedding-3-small\n",
    "    \"#DC143C\",  # Crimson red for text-embedding-3-large\n",
    "    \"#B22222\",  # Firebrick red for text-embedding-ada-002\n",
    "    \"#32CD32\",  # Lime green for anime_encoder\n",
    "    \"#228B22\"   # Forest green for anime_encoder_bigger\n",
    "]\n",
    "patterns = [\"\", \"//\", \"xx\", \"||\", \"--\", \"\\\\\\\\\"]\n",
    "\n",
    "# Plotting\n",
    "fig, ax = plt.subplots(figsize=(12, 6))  # Increase the figure size to make the graph wider\n",
    "\n",
    "bars = ax.barh(df.index, df[\"nps_score\"], color=colors)\n",
    "\n",
    "# Add patterns to bars\n",
    "for bar, pattern in zip(bars, patterns):\n",
    "    bar.set_hatch(pattern)\n",
    "\n",
    "# Adding labels and title\n",
    "ax.set_xlabel(\"NPS Score\")\n",
    "ax.set_ylabel(\"Embedder\")\n",
    "ax.set_title(\"Average NPS Score by Embedder\")\n",
    "ax.set_xlim(0.8, 0.92)\n",
    "\n",
    "# Adding legend at the bottom\n",
    "plt.tight_layout()\n",
    "# plt.savefig('sdf.png', dpi=1000)\n",
    "plt.show()\n"
   ]
  },
  {
   "cell_type": "code",
   "execution_count": null,
   "id": "7fcd8f24-2029-4bfc-8e6a-a4f2a5cd4f06",
   "metadata": {},
   "outputs": [],
   "source": []
  }
 ],
 "metadata": {
  "language_info": {
   "name": "python"
  }
 },
 "nbformat": 4,
 "nbformat_minor": 5
}
