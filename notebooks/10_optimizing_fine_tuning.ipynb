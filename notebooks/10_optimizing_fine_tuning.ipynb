{
 "cells": [
  {
   "cell_type": "code",
   "execution_count": null,
   "metadata": {},
   "outputs": [],
   "source": [
    "# maybe don't show this code? Not necessary for video"
   ]
  },
  {
   "cell_type": "markdown",
   "metadata": {
    "id": "c1_6ZAq1bunH"
   },
   "source": [
    "# Investigating FIne-Tuning Techniques"
   ]
  },
  {
   "cell_type": "code",
   "execution_count": 1,
   "metadata": {},
   "outputs": [],
   "source": [
    "from datasets import load_dataset\n",
    "from transformers import (\n",
    "    Trainer,\n",
    "    TrainingArguments,\n",
    "    DataCollatorWithPadding,\n",
    "    AutoModelForSequenceClassification,\n",
    "    AutoTokenizer,\n",
    ")\n",
    "import torch.nn.functional as F\n",
    "import torch\n",
    "from pynvml import (\n",
    "    nvmlInit,\n",
    "    nvmlDeviceGetHandleByIndex,\n",
    "    nvmlDeviceGetMemoryInfo,\n",
    "    nvmlDeviceGetCount,\n",
    "    nvmlDeviceGetName,\n",
    ")\n",
    "import random"
   ]
  },
  {
   "cell_type": "markdown",
   "metadata": {
    "id": "6YNdCUnhb0n4"
   },
   "source": [
    "# GPU Benchmarking Utilities"
   ]
  },
  {
   "cell_type": "code",
   "execution_count": 2,
   "metadata": {},
   "outputs": [],
   "source": [
    "def print_gpu_utilization():\n",
    "    if torch.cuda.is_available():\n",
    "        nvmlInit()\n",
    "        deviceCount = nvmlDeviceGetCount()\n",
    "        for i in range(deviceCount):\n",
    "            handle = nvmlDeviceGetHandleByIndex(i)\n",
    "            info = nvmlDeviceGetMemoryInfo(handle)\n",
    "            print(\"Device\", i, \":\", nvmlDeviceGetName(handle))\n",
    "            print(f\"GPU memory occupied: {info.used//1024**2} MB.\")\n",
    "        torch.cuda.empty_cache()\n",
    "\n",
    "\n",
    "def print_summary(result):\n",
    "    if torch.cuda.is_available():\n",
    "        print(f\"Time: {result.metrics['train_runtime']:.2f}\")\n",
    "        print(f\"Samples/second: {result.metrics['train_samples_per_second']:.2f}\")\n",
    "        print_gpu_utilization()"
   ]
  },
  {
   "cell_type": "code",
   "execution_count": 3,
   "metadata": {},
   "outputs": [],
   "source": [
    "labels = []\n",
    "results = []"
   ]
  },
  {
   "cell_type": "code",
   "execution_count": 4,
   "metadata": {},
   "outputs": [
    {
     "name": "stdout",
     "output_type": "stream",
     "text": [
      "Using device cuda:1\n",
      "Device 0 : NVIDIA GeForce GTX TITAN X\n",
      "GPU memory occupied: 54 MB.\n",
      "Device 1 : NVIDIA TITAN X (Pascal)\n",
      "GPU memory occupied: 726 MB.\n",
      "Device 0 : NVIDIA GeForce GTX TITAN X\n",
      "GPU memory occupied: 155 MB.\n",
      "Device 1 : NVIDIA TITAN X (Pascal)\n",
      "GPU memory occupied: 726 MB.\n"
     ]
    }
   ],
   "source": [
    "## set device\n",
    "DEVICE = torch.device(\"cuda\" if torch.cuda.is_available() else \"cpu\")\n",
    "DEVICE = 'cuda:1'\n",
    "print(\"Using device\", DEVICE)\n",
    "\n",
    "## measure GPU utilization\n",
    "if torch.cuda.is_available():\n",
    "    print_gpu_utilization()\n",
    "    torch.ones((1, 1)).to(DEVICE)\n",
    "    print_gpu_utilization()"
   ]
  },
  {
   "cell_type": "markdown",
   "metadata": {
    "id": "xBvSy74Eb7JG"
   },
   "source": [
    "# Load Model and Tokenizer"
   ]
  },
  {
   "cell_type": "code",
   "execution_count": 5,
   "metadata": {},
   "outputs": [
    {
     "name": "stderr",
     "output_type": "stream",
     "text": [
      "Some weights of the model checkpoint at bert-base-cased were not used when initializing BertForSequenceClassification: ['cls.predictions.transform.dense.weight', 'cls.predictions.transform.LayerNorm.weight', 'cls.seq_relationship.bias', 'cls.predictions.transform.dense.bias', 'cls.predictions.transform.LayerNorm.bias', 'cls.seq_relationship.weight', 'cls.predictions.bias', 'cls.predictions.decoder.weight']\n",
      "- This IS expected if you are initializing BertForSequenceClassification from the checkpoint of a model trained on another task or with another architecture (e.g. initializing a BertForSequenceClassification model from a BertForPreTraining model).\n",
      "- This IS NOT expected if you are initializing BertForSequenceClassification from the checkpoint of a model that you expect to be exactly identical (initializing a BertForSequenceClassification model from a BertForSequenceClassification model).\n",
      "Some weights of BertForSequenceClassification were not initialized from the model checkpoint at bert-base-cased and are newly initialized: ['classifier.weight', 'classifier.bias']\n",
      "You should probably TRAIN this model on a down-stream task to be able to use it for predictions and inference.\n"
     ]
    },
    {
     "name": "stdout",
     "output_type": "stream",
     "text": [
      "Device 0 : NVIDIA GeForce GTX TITAN X\n",
      "GPU memory occupied: 621 MB.\n",
      "Device 1 : NVIDIA TITAN X (Pascal)\n",
      "GPU memory occupied: 868 MB.\n"
     ]
    }
   ],
   "source": [
    "tokenizer = AutoTokenizer.from_pretrained(\n",
    "    \"bert-base-cased\", model_max_length=1024, cache_dir=\"./cache/\"\n",
    ")\n",
    "# tokenizer.pad_token_id = tokenizer.eos_token_id\n",
    "\n",
    "model = AutoModelForSequenceClassification.from_pretrained(\n",
    "    \"bert-base-cased\",\n",
    "    num_labels=2,\n",
    ").to(DEVICE)\n",
    "model.config.use_cache = False\n",
    "# model.config.pad_token_id = tokenizer.pad_token_id\n",
    "\n",
    "\n",
    "if torch.cuda.is_available():\n",
    "    print_gpu_utilization()"
   ]
  },
  {
   "cell_type": "markdown",
   "metadata": {
    "id": "NWLhW1FJb-3o"
   },
   "source": [
    "# Data Prep"
   ]
  },
  {
   "cell_type": "code",
   "execution_count": 6,
   "metadata": {},
   "outputs": [
    {
     "data": {
      "application/vnd.jupyter.widget-view+json": {
       "model_id": "94f14944ff654d2eb7474f0767fee750",
       "version_major": 2,
       "version_minor": 0
      },
      "text/plain": [
       "Downloading builder script:   0%|          | 0.00/9.72k [00:00<?, ?B/s]"
      ]
     },
     "metadata": {},
     "output_type": "display_data"
    },
    {
     "data": {
      "application/vnd.jupyter.widget-view+json": {
       "model_id": "688ebc91322e4889ab315c62af8d2f6c",
       "version_major": 2,
       "version_minor": 0
      },
      "text/plain": [
       "Downloading metadata:   0%|          | 0.00/30.4k [00:00<?, ?B/s]"
      ]
     },
     "metadata": {},
     "output_type": "display_data"
    },
    {
     "data": {
      "application/vnd.jupyter.widget-view+json": {
       "model_id": "1e638e3e4f654bc7ad7fac8c99e795b7",
       "version_major": 2,
       "version_minor": 0
      },
      "text/plain": [
       "Downloading readme:   0%|          | 0.00/21.9k [00:00<?, ?B/s]"
      ]
     },
     "metadata": {},
     "output_type": "display_data"
    },
    {
     "name": "stderr",
     "output_type": "stream",
     "text": [
      "Found cached dataset tweet_eval (C:/Users/sinan/.cache/huggingface/datasets/tweet_eval/offensive/1.1.0/12aee5282b8784f3e95459466db4cdf45c6bf49719c25cdb0743d71ed0410343)\n"
     ]
    },
    {
     "data": {
      "application/vnd.jupyter.widget-view+json": {
       "model_id": "8a79922ec6c644d3909125b2e824d271",
       "version_major": 2,
       "version_minor": 0
      },
      "text/plain": [
       "  0%|          | 0/2 [00:00<?, ?it/s]"
      ]
     },
     "metadata": {},
     "output_type": "display_data"
    },
    {
     "name": "stderr",
     "output_type": "stream",
     "text": [
      "Loading cached processed dataset at C:\\Users\\sinan\\.cache\\huggingface\\datasets\\tweet_eval\\offensive\\1.1.0\\12aee5282b8784f3e95459466db4cdf45c6bf49719c25cdb0743d71ed0410343\\cache-b9d172dac694b8d5.arrow\n",
      "Loading cached processed dataset at C:\\Users\\sinan\\.cache\\huggingface\\datasets\\tweet_eval\\offensive\\1.1.0\\12aee5282b8784f3e95459466db4cdf45c6bf49719c25cdb0743d71ed0410343\\cache-99f0c2dc4a43d411.arrow\n"
     ]
    },
    {
     "name": "stdout",
     "output_type": "stream",
     "text": [
      "500\n",
      "@user Get him some line help. He is gonna be just fine. As the game went on you could see him progressing more with his reads. He brought what has been missing. The deep ball presence. Now he just needs a little more time\n",
      "0\n",
      "[101, 137, 4795, 3949, 1140, 1199, 1413, 1494, 119, 1124, 1110, 6100, 1129, 1198, 2503, 119, 1249, 1103, 1342, 1355, 1113, 1128, 1180, 1267, 1140, 5070, 1158, 1167, 1114, 1117, 9568, 119, 1124, 1814, 1184, 1144, 1151, 3764, 119, 1109, 1996, 3240, 2915, 119, 1986, 1119, 1198, 2993, 170, 1376, 1167, 1159, 102]\n"
     ]
    }
   ],
   "source": [
    "# split = [\"train[:1%]\", \"test[:1%]\"]\n",
    "split = [\"train[:500]\", \"test[:200]\"]\n",
    "raw_train, raw_test = load_dataset(\n",
    "    \"tweet_eval\", \"offensive\",\n",
    "    split=split\n",
    ")\n",
    "\n",
    "print(len(raw_train))\n",
    "print(raw_train[2][\"text\"])\n",
    "print(raw_train[2][\"label\"])\n",
    "print(tokenizer.encode(raw_train[2][\"text\"]))\n",
    "\n",
    "train = raw_train.map(\n",
    "    lambda x: tokenizer(x[\"text\"], truncation=True, padding=\"max_length\"),\n",
    "    batched=True,\n",
    ")\n",
    "test = raw_test.map(\n",
    "    lambda x: tokenizer(x[\"text\"], truncation=True, padding=\"max_length\"),\n",
    "    batched=True,\n",
    ")"
   ]
  },
  {
   "cell_type": "markdown",
   "metadata": {
    "id": "6UQTm-ljcDC0"
   },
   "source": [
    "# Vanilla Training"
   ]
  },
  {
   "cell_type": "code",
   "execution_count": 7,
   "metadata": {},
   "outputs": [
    {
     "name": "stderr",
     "output_type": "stream",
     "text": [
      "You're using a BertTokenizerFast tokenizer. Please note that with a fast tokenizer, using the `__call__` method is faster than using a method to encode the text followed by a call to the `pad` method to get a padded encoding.\n",
      "C:\\Users\\sinan\\anaconda3\\envs\\DL\\lib\\site-packages\\torch\\nn\\parallel\\_functions.py:68: UserWarning: Was asked to gather along dimension 0, but all input tensors were scalars; will instead unsqueeze and return a vector.\n",
      "  warnings.warn('Was asked to gather along dimension 0, but all '\n"
     ]
    },
    {
     "data": {
      "text/html": [
       "\n",
       "    <div>\n",
       "      \n",
       "      <progress value='26' max='13' style='width:300px; height:20px; vertical-align: middle;'></progress>\n",
       "      [13/13 01:25]\n",
       "    </div>\n",
       "    "
      ],
      "text/plain": [
       "<IPython.core.display.HTML object>"
      ]
     },
     "metadata": {},
     "output_type": "display_data"
    },
    {
     "data": {
      "text/plain": [
       "{'eval_loss': 0.654013991355896,\n",
       " 'eval_runtime': 6.798,\n",
       " 'eval_samples_per_second': 29.421,\n",
       " 'eval_steps_per_second': 1.912}"
      ]
     },
     "execution_count": 7,
     "metadata": {},
     "output_type": "execute_result"
    }
   ],
   "source": [
    "default_args = {\n",
    "    \"output_dir\": \"testing_hyper_params\",\n",
    "    \"num_train_epochs\": 1,\n",
    "    \"per_device_train_batch_size\": 1,\n",
    "    \"evaluation_strategy\": \"epoch\",\n",
    "     'report_to': \"none\"\n",
    "}\n",
    "\n",
    "training_args = TrainingArguments(**default_args)\n",
    "trainer = Trainer(\n",
    "    model=model,\n",
    "    train_dataset=train,\n",
    "    eval_dataset=test,\n",
    "    tokenizer=tokenizer,\n",
    "    args=training_args,\n",
    ")\n",
    "trainer.evaluate()"
   ]
  },
  {
   "cell_type": "code",
   "execution_count": 8,
   "metadata": {},
   "outputs": [
    {
     "name": "stderr",
     "output_type": "stream",
     "text": [
      "C:\\Users\\sinan\\anaconda3\\envs\\DL\\lib\\site-packages\\transformers\\optimization.py:391: FutureWarning: This implementation of AdamW is deprecated and will be removed in a future version. Use the PyTorch implementation torch.optim.AdamW instead, or set `no_deprecation_warning=True` to disable this warning\n",
      "  warnings.warn(\n",
      "C:\\Users\\sinan\\anaconda3\\envs\\DL\\lib\\site-packages\\torch\\cuda\\nccl.py:15: UserWarning: PyTorch is not compiled with NCCL support\n",
      "  warnings.warn('PyTorch is not compiled with NCCL support')\n"
     ]
    },
    {
     "data": {
      "text/html": [
       "\n",
       "    <div>\n",
       "      \n",
       "      <progress value='250' max='250' style='width:300px; height:20px; vertical-align: middle;'></progress>\n",
       "      [250/250 01:21, Epoch 1/1]\n",
       "    </div>\n",
       "    <table border=\"1\" class=\"dataframe\">\n",
       "  <thead>\n",
       " <tr style=\"text-align: left;\">\n",
       "      <th>Epoch</th>\n",
       "      <th>Training Loss</th>\n",
       "      <th>Validation Loss</th>\n",
       "    </tr>\n",
       "  </thead>\n",
       "  <tbody>\n",
       "    <tr>\n",
       "      <td>1</td>\n",
       "      <td>No log</td>\n",
       "      <td>0.527233</td>\n",
       "    </tr>\n",
       "  </tbody>\n",
       "</table><p>"
      ],
      "text/plain": [
       "<IPython.core.display.HTML object>"
      ]
     },
     "metadata": {},
     "output_type": "display_data"
    },
    {
     "name": "stdout",
     "output_type": "stream",
     "text": [
      "Time: 81.83\n",
      "Samples/second: 6.11\n",
      "Device 0 : NVIDIA GeForce GTX TITAN X\n",
      "GPU memory occupied: 1744 MB.\n",
      "Device 1 : NVIDIA TITAN X (Pascal)\n",
      "GPU memory occupied: 4191 MB.\n"
     ]
    }
   ],
   "source": [
    "result = trainer.train()\n",
    "labels.append('Vanilla')\n",
    "results.append(result)\n",
    "print_summary(result)"
   ]
  },
  {
   "cell_type": "code",
   "execution_count": null,
   "metadata": {},
   "outputs": [],
   "source": []
  },
  {
   "cell_type": "markdown",
   "metadata": {},
   "source": [
    "# Compiling the model using torch.compile"
   ]
  },
  {
   "cell_type": "code",
   "execution_count": 10,
   "metadata": {},
   "outputs": [],
   "source": [
    "# compiled_model = torch.compile(model)\n",
    "\n",
    "# trainer = Trainer(\n",
    "#     model=compiled_model,\n",
    "#     train_dataset=train,\n",
    "#     eval_dataset=test,\n",
    "#     tokenizer=tokenizer,\n",
    "#     args=training_args,\n",
    "# )\n",
    "# trainer.evaluate()"
   ]
  },
  {
   "cell_type": "code",
   "execution_count": 11,
   "metadata": {},
   "outputs": [],
   "source": [
    "# result = trainer.train()\n",
    "# labels.append('Compiled')\n",
    "# results.append(result)\n",
    "# print_summary(result)"
   ]
  },
  {
   "cell_type": "code",
   "execution_count": null,
   "metadata": {},
   "outputs": [],
   "source": []
  },
  {
   "cell_type": "markdown",
   "metadata": {},
   "source": [
    "# Adjust Batch size to 4"
   ]
  },
  {
   "cell_type": "code",
   "execution_count": 12,
   "metadata": {},
   "outputs": [
    {
     "name": "stderr",
     "output_type": "stream",
     "text": [
      "Some weights of the model checkpoint at bert-base-cased were not used when initializing BertForSequenceClassification: ['cls.predictions.transform.dense.weight', 'cls.predictions.transform.LayerNorm.weight', 'cls.seq_relationship.bias', 'cls.predictions.transform.dense.bias', 'cls.predictions.transform.LayerNorm.bias', 'cls.seq_relationship.weight', 'cls.predictions.bias', 'cls.predictions.decoder.weight']\n",
      "- This IS expected if you are initializing BertForSequenceClassification from the checkpoint of a model trained on another task or with another architecture (e.g. initializing a BertForSequenceClassification model from a BertForPreTraining model).\n",
      "- This IS NOT expected if you are initializing BertForSequenceClassification from the checkpoint of a model that you expect to be exactly identical (initializing a BertForSequenceClassification model from a BertForSequenceClassification model).\n",
      "Some weights of BertForSequenceClassification were not initialized from the model checkpoint at bert-base-cased and are newly initialized: ['classifier.weight', 'classifier.bias']\n",
      "You should probably TRAIN this model on a down-stream task to be able to use it for predictions and inference.\n"
     ]
    }
   ],
   "source": [
    "model = AutoModelForSequenceClassification.from_pretrained(\n",
    "    \"bert-base-cased\",\n",
    "    num_labels=2,\n",
    ").to(DEVICE)\n",
    "model.config.use_cache = False"
   ]
  },
  {
   "cell_type": "code",
   "execution_count": 13,
   "metadata": {},
   "outputs": [
    {
     "name": "stdout",
     "output_type": "stream",
     "text": [
      "{'output_dir': 'testing_hyper_params', 'num_train_epochs': 1, 'per_device_train_batch_size': 4, 'evaluation_strategy': 'epoch', 'report_to': 'none'}\n"
     ]
    },
    {
     "data": {
      "text/html": [
       "\n",
       "    <div>\n",
       "      \n",
       "      <progress value='63' max='63' style='width:300px; height:20px; vertical-align: middle;'></progress>\n",
       "      [63/63 00:37, Epoch 1/1]\n",
       "    </div>\n",
       "    <table border=\"1\" class=\"dataframe\">\n",
       "  <thead>\n",
       " <tr style=\"text-align: left;\">\n",
       "      <th>Epoch</th>\n",
       "      <th>Training Loss</th>\n",
       "      <th>Validation Loss</th>\n",
       "    </tr>\n",
       "  </thead>\n",
       "  <tbody>\n",
       "    <tr>\n",
       "      <td>1</td>\n",
       "      <td>No log</td>\n",
       "      <td>0.597105</td>\n",
       "    </tr>\n",
       "  </tbody>\n",
       "</table><p>"
      ],
      "text/plain": [
       "<IPython.core.display.HTML object>"
      ]
     },
     "metadata": {},
     "output_type": "display_data"
    },
    {
     "name": "stdout",
     "output_type": "stream",
     "text": [
      "Time: 38.15\n",
      "Samples/second: 13.11\n",
      "Device 0 : NVIDIA GeForce GTX TITAN X\n",
      "GPU memory occupied: 3818 MB.\n",
      "Device 1 : NVIDIA TITAN X (Pascal)\n",
      "GPU memory occupied: 5751 MB.\n"
     ]
    }
   ],
   "source": [
    "default_args[\"per_device_train_batch_size\"] = 4\n",
    "print(default_args)\n",
    "training_args = TrainingArguments(**default_args)\n",
    "trainer = Trainer(\n",
    "    model=model,\n",
    "    train_dataset=train,\n",
    "    eval_dataset=test,\n",
    "    tokenizer=tokenizer,\n",
    "    args=training_args,\n",
    ")\n",
    "result = trainer.train()\n",
    "labels.append('Batch Size = 4')\n",
    "results.append(result)\n",
    "print_summary(result)"
   ]
  },
  {
   "cell_type": "code",
   "execution_count": null,
   "metadata": {},
   "outputs": [],
   "source": []
  },
  {
   "cell_type": "markdown",
   "metadata": {
    "id": "04tT4uQQcFVW"
   },
   "source": [
    "# Gradient Accumulation (Adjust Effective Batch size to 4)"
   ]
  },
  {
   "cell_type": "code",
   "execution_count": 14,
   "metadata": {},
   "outputs": [
    {
     "name": "stderr",
     "output_type": "stream",
     "text": [
      "Some weights of the model checkpoint at bert-base-cased were not used when initializing BertForSequenceClassification: ['cls.predictions.transform.dense.weight', 'cls.predictions.transform.LayerNorm.weight', 'cls.seq_relationship.bias', 'cls.predictions.transform.dense.bias', 'cls.predictions.transform.LayerNorm.bias', 'cls.seq_relationship.weight', 'cls.predictions.bias', 'cls.predictions.decoder.weight']\n",
      "- This IS expected if you are initializing BertForSequenceClassification from the checkpoint of a model trained on another task or with another architecture (e.g. initializing a BertForSequenceClassification model from a BertForPreTraining model).\n",
      "- This IS NOT expected if you are initializing BertForSequenceClassification from the checkpoint of a model that you expect to be exactly identical (initializing a BertForSequenceClassification model from a BertForSequenceClassification model).\n",
      "Some weights of BertForSequenceClassification were not initialized from the model checkpoint at bert-base-cased and are newly initialized: ['classifier.weight', 'classifier.bias']\n",
      "You should probably TRAIN this model on a down-stream task to be able to use it for predictions and inference.\n"
     ]
    }
   ],
   "source": [
    "model = AutoModelForSequenceClassification.from_pretrained(\n",
    "    \"bert-base-cased\",\n",
    "    num_labels=2,\n",
    ").to(DEVICE)\n",
    "model.config.use_cache = False"
   ]
  },
  {
   "cell_type": "code",
   "execution_count": 15,
   "metadata": {},
   "outputs": [
    {
     "name": "stdout",
     "output_type": "stream",
     "text": [
      "{'output_dir': 'testing_hyper_params', 'num_train_epochs': 1, 'per_device_train_batch_size': 1, 'evaluation_strategy': 'epoch', 'report_to': 'none', 'gradient_accumulation_steps': 4}\n"
     ]
    },
    {
     "data": {
      "text/html": [
       "\n",
       "    <div>\n",
       "      \n",
       "      <progress value='62' max='62' style='width:300px; height:20px; vertical-align: middle;'></progress>\n",
       "      [62/62 01:13, Epoch 0/1]\n",
       "    </div>\n",
       "    <table border=\"1\" class=\"dataframe\">\n",
       "  <thead>\n",
       " <tr style=\"text-align: left;\">\n",
       "      <th>Epoch</th>\n",
       "      <th>Training Loss</th>\n",
       "      <th>Validation Loss</th>\n",
       "    </tr>\n",
       "  </thead>\n",
       "  <tbody>\n",
       "    <tr>\n",
       "      <td>0</td>\n",
       "      <td>No log</td>\n",
       "      <td>0.587288</td>\n",
       "    </tr>\n",
       "  </tbody>\n",
       "</table><p>"
      ],
      "text/plain": [
       "<IPython.core.display.HTML object>"
      ]
     },
     "metadata": {},
     "output_type": "display_data"
    },
    {
     "name": "stdout",
     "output_type": "stream",
     "text": [
      "Time: 74.75\n",
      "Samples/second: 6.69\n",
      "Device 0 : NVIDIA GeForce GTX TITAN X\n",
      "GPU memory occupied: 1940 MB.\n",
      "Device 1 : NVIDIA TITAN X (Pascal)\n",
      "GPU memory occupied: 4237 MB.\n"
     ]
    }
   ],
   "source": [
    "default_args[\"per_device_train_batch_size\"] = 1\n",
    "default_args[\"gradient_accumulation_steps\"] = 4\n",
    "print(default_args)\n",
    "\n",
    "training_args = TrainingArguments(**default_args)\n",
    "trainer = Trainer(\n",
    "    model=model,\n",
    "    train_dataset=train,\n",
    "    eval_dataset=test,\n",
    "    tokenizer=tokenizer,\n",
    "    args=training_args,\n",
    ")\n",
    "result = trainer.train()\n",
    "labels.append('Gradient Accumulation = 4')\n",
    "results.append(result)\n",
    "print_summary(result)"
   ]
  },
  {
   "cell_type": "code",
   "execution_count": null,
   "metadata": {},
   "outputs": [],
   "source": []
  },
  {
   "cell_type": "markdown",
   "metadata": {
    "id": "vh1oLCbLcJ0J"
   },
   "source": [
    "# Mixed Precision"
   ]
  },
  {
   "cell_type": "code",
   "execution_count": 18,
   "metadata": {},
   "outputs": [
    {
     "name": "stderr",
     "output_type": "stream",
     "text": [
      "Some weights of the model checkpoint at bert-base-cased were not used when initializing BertForSequenceClassification: ['cls.predictions.transform.dense.weight', 'cls.predictions.transform.LayerNorm.weight', 'cls.seq_relationship.bias', 'cls.predictions.transform.dense.bias', 'cls.predictions.transform.LayerNorm.bias', 'cls.seq_relationship.weight', 'cls.predictions.bias', 'cls.predictions.decoder.weight']\n",
      "- This IS expected if you are initializing BertForSequenceClassification from the checkpoint of a model trained on another task or with another architecture (e.g. initializing a BertForSequenceClassification model from a BertForPreTraining model).\n",
      "- This IS NOT expected if you are initializing BertForSequenceClassification from the checkpoint of a model that you expect to be exactly identical (initializing a BertForSequenceClassification model from a BertForSequenceClassification model).\n",
      "Some weights of BertForSequenceClassification were not initialized from the model checkpoint at bert-base-cased and are newly initialized: ['classifier.weight', 'classifier.bias']\n",
      "You should probably TRAIN this model on a down-stream task to be able to use it for predictions and inference.\n"
     ]
    }
   ],
   "source": [
    "model = AutoModelForSequenceClassification.from_pretrained(\n",
    "    \"bert-base-cased\",\n",
    "    num_labels=2,\n",
    ").to(DEVICE)\n",
    "model.config.use_cache = False"
   ]
  },
  {
   "cell_type": "code",
   "execution_count": 19,
   "metadata": {},
   "outputs": [
    {
     "name": "stdout",
     "output_type": "stream",
     "text": [
      "{'output_dir': 'testing_hyper_params', 'num_train_epochs': 1, 'per_device_train_batch_size': 1, 'evaluation_strategy': 'epoch', 'report_to': 'none', 'gradient_accumulation_steps': 1, 'fp16': True}\n"
     ]
    },
    {
     "data": {
      "text/html": [
       "\n",
       "    <div>\n",
       "      \n",
       "      <progress value='250' max='250' style='width:300px; height:20px; vertical-align: middle;'></progress>\n",
       "      [250/250 01:26, Epoch 1/1]\n",
       "    </div>\n",
       "    <table border=\"1\" class=\"dataframe\">\n",
       "  <thead>\n",
       " <tr style=\"text-align: left;\">\n",
       "      <th>Epoch</th>\n",
       "      <th>Training Loss</th>\n",
       "      <th>Validation Loss</th>\n",
       "    </tr>\n",
       "  </thead>\n",
       "  <tbody>\n",
       "    <tr>\n",
       "      <td>1</td>\n",
       "      <td>No log</td>\n",
       "      <td>0.560917</td>\n",
       "    </tr>\n",
       "  </tbody>\n",
       "</table><p>"
      ],
      "text/plain": [
       "<IPython.core.display.HTML object>"
      ]
     },
     "metadata": {},
     "output_type": "display_data"
    },
    {
     "name": "stdout",
     "output_type": "stream",
     "text": [
      "Time: 86.55\n",
      "Samples/second: 5.78\n",
      "Device 0 : NVIDIA GeForce GTX TITAN X\n",
      "GPU memory occupied: 1946 MB.\n",
      "Device 1 : NVIDIA TITAN X (Pascal)\n",
      "GPU memory occupied: 4311 MB.\n"
     ]
    }
   ],
   "source": [
    "default_args[\"fp16\"] = True\n",
    "# default_args[\"gradient_checkpointing\"] = False\n",
    "default_args[\"gradient_accumulation_steps\"] = 1\n",
    "default_args[\"per_device_train_batch_size\"] = 1\n",
    "\n",
    "print(default_args)\n",
    "training_args = TrainingArguments(**default_args)\n",
    "trainer = Trainer(\n",
    "    model=model,\n",
    "    train_dataset=train,\n",
    "    eval_dataset=test,\n",
    "    tokenizer=tokenizer,\n",
    "    args=training_args,\n",
    ")\n",
    "result = trainer.train()\n",
    "labels.append('Mixed Precision')\n",
    "results.append(result)\n",
    "print_summary(result)"
   ]
  },
  {
   "cell_type": "markdown",
   "metadata": {
    "id": "3Mne6BdscMUl"
   },
   "source": [
    "# Dynamic Padding & Uniform Length Batching"
   ]
  },
  {
   "cell_type": "code",
   "execution_count": 20,
   "metadata": {},
   "outputs": [
    {
     "name": "stderr",
     "output_type": "stream",
     "text": [
      "Some weights of the model checkpoint at bert-base-cased were not used when initializing BertForSequenceClassification: ['cls.predictions.transform.dense.weight', 'cls.predictions.transform.LayerNorm.weight', 'cls.seq_relationship.bias', 'cls.predictions.transform.dense.bias', 'cls.predictions.transform.LayerNorm.bias', 'cls.seq_relationship.weight', 'cls.predictions.bias', 'cls.predictions.decoder.weight']\n",
      "- This IS expected if you are initializing BertForSequenceClassification from the checkpoint of a model trained on another task or with another architecture (e.g. initializing a BertForSequenceClassification model from a BertForPreTraining model).\n",
      "- This IS NOT expected if you are initializing BertForSequenceClassification from the checkpoint of a model that you expect to be exactly identical (initializing a BertForSequenceClassification model from a BertForSequenceClassification model).\n",
      "Some weights of BertForSequenceClassification were not initialized from the model checkpoint at bert-base-cased and are newly initialized: ['classifier.weight', 'classifier.bias']\n",
      "You should probably TRAIN this model on a down-stream task to be able to use it for predictions and inference.\n"
     ]
    }
   ],
   "source": [
    "model = AutoModelForSequenceClassification.from_pretrained(\n",
    "    \"bert-base-cased\",\n",
    "    num_labels=2,\n",
    ").to(DEVICE)\n",
    "model.config.use_cache = False"
   ]
  },
  {
   "cell_type": "code",
   "execution_count": 21,
   "metadata": {},
   "outputs": [
    {
     "data": {
      "application/vnd.jupyter.widget-view+json": {
       "model_id": "",
       "version_major": 2,
       "version_minor": 0
      },
      "text/plain": [
       "Map:   0%|          | 0/500 [00:00<?, ? examples/s]"
      ]
     },
     "metadata": {},
     "output_type": "display_data"
    },
    {
     "data": {
      "application/vnd.jupyter.widget-view+json": {
       "model_id": "",
       "version_major": 2,
       "version_minor": 0
      },
      "text/plain": [
       "Map:   0%|          | 0/200 [00:00<?, ? examples/s]"
      ]
     },
     "metadata": {},
     "output_type": "display_data"
    },
    {
     "name": "stdout",
     "output_type": "stream",
     "text": [
      "{'output_dir': 'testing_hyper_params', 'num_train_epochs': 1, 'per_device_train_batch_size': 1, 'evaluation_strategy': 'epoch', 'report_to': 'none', 'gradient_accumulation_steps': 1, 'fp16': False}\n"
     ]
    },
    {
     "data": {
      "text/html": [
       "\n",
       "    <div>\n",
       "      \n",
       "      <progress value='250' max='250' style='width:300px; height:20px; vertical-align: middle;'></progress>\n",
       "      [250/250 01:02, Epoch 1/1]\n",
       "    </div>\n",
       "    <table border=\"1\" class=\"dataframe\">\n",
       "  <thead>\n",
       " <tr style=\"text-align: left;\">\n",
       "      <th>Epoch</th>\n",
       "      <th>Training Loss</th>\n",
       "      <th>Validation Loss</th>\n",
       "    </tr>\n",
       "  </thead>\n",
       "  <tbody>\n",
       "    <tr>\n",
       "      <td>1</td>\n",
       "      <td>No log</td>\n",
       "      <td>0.522907</td>\n",
       "    </tr>\n",
       "  </tbody>\n",
       "</table><p>"
      ],
      "text/plain": [
       "<IPython.core.display.HTML object>"
      ]
     },
     "metadata": {},
     "output_type": "display_data"
    },
    {
     "name": "stdout",
     "output_type": "stream",
     "text": [
      "Time: 62.47\n",
      "Samples/second: 8.00\n",
      "Device 0 : NVIDIA GeForce GTX TITAN X\n",
      "GPU memory occupied: 1258 MB.\n",
      "Device 1 : NVIDIA TITAN X (Pascal)\n",
      "GPU memory occupied: 4066 MB.\n"
     ]
    }
   ],
   "source": [
    "collate_fn = DataCollatorWithPadding(tokenizer=tokenizer, padding=\"longest\")\n",
    "\n",
    "train = raw_train.map(lambda x: tokenizer(x[\"text\"], truncation=True), batched=True)\n",
    "test = raw_test.map(lambda x: tokenizer(x[\"text\"], truncation=True), batched=True)\n",
    "default_args[\"fp16\"] = False\n",
    "\n",
    "print(default_args)\n",
    "training_args = TrainingArguments(**default_args)\n",
    "\n",
    "trainer = Trainer(\n",
    "    model=model,\n",
    "    train_dataset=train,\n",
    "    eval_dataset=test,\n",
    "    tokenizer=tokenizer,\n",
    "    args=training_args,\n",
    "    data_collator=collate_fn,\n",
    ")\n",
    "result = trainer.train()\n",
    "labels.append('Dynamic Padding')\n",
    "results.append(result)\n",
    "print_summary(result)"
   ]
  },
  {
   "cell_type": "code",
   "execution_count": null,
   "metadata": {},
   "outputs": [],
   "source": []
  },
  {
   "cell_type": "markdown",
   "metadata": {},
   "source": [
    "# Choosing params for my GPUs"
   ]
  },
  {
   "cell_type": "code",
   "execution_count": 22,
   "metadata": {},
   "outputs": [],
   "source": [
    "default_args[\"fp16\"] = True\n",
    "default_args[\"gradient_checkpointing\"] = False\n",
    "default_args[\"per_device_train_batch_size\"] = 4\n",
    "default_args[\"gradient_accumulation_steps\"] = 4\n"
   ]
  },
  {
   "cell_type": "code",
   "execution_count": 24,
   "metadata": {},
   "outputs": [
    {
     "name": "stderr",
     "output_type": "stream",
     "text": [
      "Some weights of the model checkpoint at bert-base-cased were not used when initializing BertForSequenceClassification: ['cls.predictions.transform.dense.weight', 'cls.predictions.transform.LayerNorm.weight', 'cls.seq_relationship.bias', 'cls.predictions.transform.dense.bias', 'cls.predictions.transform.LayerNorm.bias', 'cls.seq_relationship.weight', 'cls.predictions.bias', 'cls.predictions.decoder.weight']\n",
      "- This IS expected if you are initializing BertForSequenceClassification from the checkpoint of a model trained on another task or with another architecture (e.g. initializing a BertForSequenceClassification model from a BertForPreTraining model).\n",
      "- This IS NOT expected if you are initializing BertForSequenceClassification from the checkpoint of a model that you expect to be exactly identical (initializing a BertForSequenceClassification model from a BertForSequenceClassification model).\n",
      "Some weights of BertForSequenceClassification were not initialized from the model checkpoint at bert-base-cased and are newly initialized: ['classifier.weight', 'classifier.bias']\n",
      "You should probably TRAIN this model on a down-stream task to be able to use it for predictions and inference.\n"
     ]
    },
    {
     "name": "stdout",
     "output_type": "stream",
     "text": [
      "{'output_dir': 'testing_hyper_params', 'num_train_epochs': 1, 'per_device_train_batch_size': 4, 'evaluation_strategy': 'epoch', 'report_to': 'none', 'gradient_accumulation_steps': 4, 'fp16': True, 'gradient_checkpointing': False}\n"
     ]
    },
    {
     "data": {
      "text/html": [
       "\n",
       "    <div>\n",
       "      \n",
       "      <progress value='15' max='15' style='width:300px; height:20px; vertical-align: middle;'></progress>\n",
       "      [15/15 00:16, Epoch 0/1]\n",
       "    </div>\n",
       "    <table border=\"1\" class=\"dataframe\">\n",
       "  <thead>\n",
       " <tr style=\"text-align: left;\">\n",
       "      <th>Epoch</th>\n",
       "      <th>Training Loss</th>\n",
       "      <th>Validation Loss</th>\n",
       "    </tr>\n",
       "  </thead>\n",
       "  <tbody>\n",
       "    <tr>\n",
       "      <td>0</td>\n",
       "      <td>No log</td>\n",
       "      <td>0.608759</td>\n",
       "    </tr>\n",
       "  </tbody>\n",
       "</table><p>"
      ],
      "text/plain": [
       "<IPython.core.display.HTML object>"
      ]
     },
     "metadata": {},
     "output_type": "display_data"
    },
    {
     "name": "stdout",
     "output_type": "stream",
     "text": [
      "Time: 17.76\n",
      "Samples/second: 28.15\n",
      "Device 0 : NVIDIA GeForce GTX TITAN X\n",
      "GPU memory occupied: 1598 MB.\n",
      "Device 1 : NVIDIA TITAN X (Pascal)\n",
      "GPU memory occupied: 4202 MB.\n"
     ]
    }
   ],
   "source": [
    "model = AutoModelForSequenceClassification.from_pretrained(\n",
    "    \"bert-base-cased\",\n",
    "    num_labels=2,\n",
    ").to(DEVICE)\n",
    "model.config.use_cache = False\n",
    "\n",
    "print(default_args)\n",
    "training_args = TrainingArguments(**default_args)\n",
    "\n",
    "trainer = Trainer(\n",
    "    model=model,\n",
    "    train_dataset=train,\n",
    "    eval_dataset=test,\n",
    "    tokenizer=tokenizer,\n",
    "    args=training_args,\n",
    "    data_collator=collate_fn,\n",
    ")\n",
    "result = trainer.train()\n",
    "labels.append('BS=4 + Grad. Accum = 4 + MP + DP')\n",
    "results.append(result)\n",
    "print_summary(result)"
   ]
  },
  {
   "cell_type": "code",
   "execution_count": 25,
   "metadata": {},
   "outputs": [
    {
     "data": {
      "text/plain": [
       "(6, 6)"
      ]
     },
     "execution_count": 25,
     "metadata": {},
     "output_type": "execute_result"
    }
   ],
   "source": [
    "len(labels), len(results)"
   ]
  },
  {
   "cell_type": "code",
   "execution_count": 31,
   "metadata": {},
   "outputs": [
    {
     "data": {
      "text/plain": [
       "TrainOutput(global_step=15, training_loss=0.6465375264485677, metrics={'train_runtime': 17.76, 'train_samples_per_second': 28.153, 'train_steps_per_second': 0.845, 'total_flos': 18561662733600.0, 'train_loss': 0.6465375264485677, 'epoch': 0.95})"
      ]
     },
     "execution_count": 31,
     "metadata": {},
     "output_type": "execute_result"
    }
   ],
   "source": [
    "results[-1]"
   ]
  },
  {
   "cell_type": "code",
   "execution_count": 48,
   "metadata": {},
   "outputs": [
    {
     "data": {
      "image/png": "[encoded data removed]",
      "text/plain": [
       "<Figure size 1400x1000 with 2 Axes>"
      ]
     },
     "metadata": {},
     "output_type": "display_data"
    }
   ],
   "source": [
    "import matplotlib.pyplot as plt\n",
    "import numpy as np\n",
    "\n",
    "# this will transform your results into a list of lists (which is easier to plot)\n",
    "\n",
    "values1 = [r.metrics['train_runtime'] for r in results]\n",
    "# values2 = [r.metrics['train_samples_per_second'] for r in results]\n",
    "values2 = [1744+4271, 3818+5787, 1940+4275, 1946+4326, 1258+4117, 1632+ 4159]  # memory\n",
    "values2 = [(v / (24*1024) * 100) for v in values2]\n",
    "\n",
    "barWidth = 0.3\n",
    "\n",
    "# here we generate positions for each group of bars\n",
    "r1 = np.arange(len(values1))\n",
    "r2 = [x + barWidth for x in r1]\n",
    "\n",
    "# create figure and axis objects\n",
    "fig, ax1 = plt.subplots(figsize=(14, 10))  # Increase the figure size here\n",
    "\n",
    "color = 'darkblue'\n",
    "ax1.set_xlabel('Parameter Combination', fontweight='bold', fontsize=16)\n",
    "ax1.set_ylabel('Total Seconds to run', color=color, fontweight='bold', fontsize=16)\n",
    "ax1.bar(r1, values1, color=color, width=barWidth, edgecolor='grey', label='Key1', hatch='\\\\')  # Adding hatch pattern\n",
    "ax1.tick_params(axis='y', labelcolor=color)\n",
    "ax1.set_xticks([r + barWidth/2 for r in range(len(values1))])\n",
    "ax1.set_xticklabels(labels, rotation=30, ha='right', fontsize=16)  # Rotate labels less and align right\n",
    "\n",
    "# instantiate a second axis that shares the same x-axis\n",
    "ax2 = ax1.twinx()\n",
    "color = 'red'\n",
    "ax2.set_ylabel('GPU Memory % Used', color=color, fontweight='bold', fontsize=14)  # we already handled the x-label with ax1\n",
    "ax2.bar(r2, values2, color=color, width=barWidth, edgecolor='grey', label='Key2', hatch='//')  # Adding hatch pattern\n",
    "ax2.tick_params(axis='y', labelcolor=color)\n",
    "ax2.grid(False) \n",
    "ax1.grid(False) \n",
    "\n",
    "plt.title('Comparing Open-source Training Hyperparameters', fontsize=20)\n",
    "fig.tight_layout(pad=2.0)  # Increase padding\n",
    "\n",
    "# Save the plot as a PNG\n",
    "fig.savefig('Training_Comparison.png', dpi=1000, bbox_inches='tight')\n",
    "\n",
    "plt.show()\n"
   ]
  },
  {
   "cell_type": "code",
   "execution_count": null,
   "metadata": {},
   "outputs": [],
   "source": []
  },
  {
   "cell_type": "code",
   "execution_count": null,
   "metadata": {},
   "outputs": [],
   "source": []
  },
  {
   "cell_type": "code",
   "execution_count": null,
   "metadata": {},
   "outputs": [],
   "source": []
  },
  {
   "cell_type": "code",
   "execution_count": null,
   "metadata": {},
   "outputs": [],
   "source": []
  },
  {
   "cell_type": "code",
   "execution_count": null,
   "metadata": {},
   "outputs": [],
   "source": []
  },
  {
   "cell_type": "code",
   "execution_count": null,
   "metadata": {},
   "outputs": [],
   "source": []
  },
  {
   "cell_type": "code",
   "execution_count": null,
   "metadata": {},
   "outputs": [],
   "source": []
  },
  {
   "cell_type": "code",
   "execution_count": null,
   "metadata": {},
   "outputs": [],
   "source": []
  },
  {
   "cell_type": "code",
   "execution_count": null,
   "metadata": {},
   "outputs": [],
   "source": []
  },
  {
   "cell_type": "code",
   "execution_count": null,
   "metadata": {},
   "outputs": [],
   "source": []
  },
  {
   "cell_type": "code",
   "execution_count": null,
   "metadata": {},
   "outputs": [],
   "source": []
  }
 ],
 "metadata": {
  "language_info": {
   "name": "python"
  }
 },
 "nbformat": 4,
 "nbformat_minor": 1
}
