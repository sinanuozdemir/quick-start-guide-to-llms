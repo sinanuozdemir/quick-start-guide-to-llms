{
 "cells": [
  {
   "cell_type": "markdown",
   "metadata": {
    "id": "aABvnad-OvAs"
   },
   "source": [
    "# Step 1: Teaching an LLM how to hold a conversation"
   ]
  },
  {
   "cell_type": "code",
   "execution_count": null,
   "metadata": {},
   "outputs": [],
   "source": [
    "import numpy as np\n",
    "import os\n",
    "import torch\n",
    "from datasets import Dataset\n",
    "from transformers import (\n",
    "    AutoModelForCausalLM,\n",
    "    AutoTokenizer,\n",
    "    BitsAndBytesConfig,\n",
    "    TrainingArguments,\n",
    "    Trainer,\n",
    "    pipeline,\n",
    "    logging,\n",
    "    DataCollatorForLanguageModeling\n",
    ")\n",
    "import json\n",
    "import pandas as pd\n",
    "from peft import LoraConfig, PeftModel, get_peft_model"
   ]
  },
  {
   "cell_type": "markdown",
   "metadata": {
    "id": "ZQH_fuC0Ql90"
   },
   "source": [
    "# Setup"
   ]
  },
  {
   "cell_type": "code",
   "execution_count": null,
   "metadata": {},
   "outputs": [
    {
     "data": {
      "application/vnd.jupyter.widget-view+json": {
       "model_id": "14f61a3e241242ec86291e80e1f05bd6",
       "version_major": 2,
       "version_minor": 0
      },
      "text/plain": [
       "Downloading readme:   0%|          | 0.00/395 [00:00<?, ?B/s]"
      ]
     },
     "metadata": {},
     "output_type": "display_data"
    },
    {
     "name": "stderr",
     "output_type": "stream",
     "text": [
      "Repo card metadata block was not found. Setting CardData to empty.\n",
      "WARNING:huggingface_hub.repocard:Repo card metadata block was not found. Setting CardData to empty.\n"
     ]
    },
    {
     "data": {
      "application/vnd.jupyter.widget-view+json": {
       "model_id": "0e4b6e8cb8f048be953df358968da688",
       "version_major": 2,
       "version_minor": 0
      },
      "text/plain": [
       "Downloading data:   0%|          | 0.00/20.9M [00:00<?, ?B/s]"
      ]
     },
     "metadata": {},
     "output_type": "display_data"
    },
    {
     "data": {
      "application/vnd.jupyter.widget-view+json": {
       "model_id": "89bf3edd21304f8c86f7a20a147c7a91",
       "version_major": 2,
       "version_minor": 0
      },
      "text/plain": [
       "Downloading data:   0%|          | 0.00/1.11M [00:00<?, ?B/s]"
      ]
     },
     "metadata": {},
     "output_type": "display_data"
    },
    {
     "data": {
      "application/vnd.jupyter.widget-view+json": {
       "model_id": "1190506402f54319af846ce1f6cc5ad8",
       "version_major": 2,
       "version_minor": 0
      },
      "text/plain": [
       "Generating train split:   0%|          | 0/9846 [00:00<?, ? examples/s]"
      ]
     },
     "metadata": {},
     "output_type": "display_data"
    },
    {
     "data": {
      "application/vnd.jupyter.widget-view+json": {
       "model_id": "a02fdd47ceb8453398be47fc6084586c",
       "version_major": 2,
       "version_minor": 0
      },
      "text/plain": [
       "Generating test split:   0%|          | 0/518 [00:00<?, ? examples/s]"
      ]
     },
     "metadata": {},
     "output_type": "display_data"
    },
    {
     "data": {
      "application/vnd.jupyter.widget-view+json": {
       "model_id": "4f0d5e81581444968f67de50fec367a1",
       "version_major": 2,
       "version_minor": 0
      },
      "text/plain": [
       "Downloading readme:   0%|          | 0.00/42.0 [00:00<?, ?B/s]"
      ]
     },
     "metadata": {},
     "output_type": "display_data"
    },
    {
     "data": {
      "application/vnd.jupyter.widget-view+json": {
       "model_id": "dac6843a7989437e817f5d921115e035",
       "version_major": 2,
       "version_minor": 0
      },
      "text/plain": [
       "Downloading data:   0%|          | 0.00/56.0M [00:00<?, ?B/s]"
      ]
     },
     "metadata": {},
     "output_type": "display_data"
    },
    {
     "data": {
      "application/vnd.jupyter.widget-view+json": {
       "model_id": "fbb448200f7f4e48bd806161906a6bb5",
       "version_major": 2,
       "version_minor": 0
      },
      "text/plain": [
       "Generating train split:   0%|          | 0/48701 [00:00<?, ? examples/s]"
      ]
     },
     "metadata": {},
     "output_type": "display_data"
    }
   ],
   "source": [
    "# we are going to merge these two datasets together\n",
    "assistant_dataset = load_dataset(\"timdettmers/openassistant-guanaco\")\n",
    "\n",
    "original_guanaco_dataset = load_dataset(\"guanaco/guanaco\")"
   ]
  },
  {
   "cell_type": "code",
   "execution_count": null,
   "metadata": {},
   "outputs": [
    {
     "data": {
      "text/plain": [
       "{'text': '### Human: Can you write a short introduction about the relevance of the term \"monopsony\" in economics? Please use examples related to potential monopsonies in the labour market and cite relevant research.### Assistant: \"Monopsony\" refers to a market structure where there is only one buyer for a particular good or service. In economics, this term is particularly relevant in the labor market, where a monopsony employer has significant power over the wages and working conditions of their employees. The presence of a monopsony can result in lower wages and reduced employment opportunities for workers, as the employer has little incentive to increase wages or provide better working conditions.\\n\\nRecent research has identified potential monopsonies in industries such as retail and fast food, where a few large companies control a significant portion of the market (Bivens & Mishel, 2013). In these industries, workers often face low wages, limited benefits, and reduced bargaining power, leading to a situation where they are dependent on the employer for their livelihood. This dependence can result in further suppression of wages and a decline in working conditions.\\n\\nOverall, the concept of monopsony is essential to understanding the dynamics of labor markets and the impact of market power on workers. Further research is needed to understand the extent and impact of monopsonies on the economy and to develop policies to address this issue.\\n\\nReferences:\\nBivens, J., & Mishel, L. (2013). The Pay of Corporate Executives and Financial Professionals as Evidence of Rents in Top 1 Percent Incomes. Journal of Economic Perspectives, 27(3), 57-78.### Human: Now explain it to a dog'}"
      ]
     },
     "execution_count": 4,
     "metadata": {},
     "output_type": "execute_result"
    }
   ],
   "source": [
    "assistant_dataset['train'][0]"
   ]
  },
  {
   "cell_type": "code",
   "execution_count": null,
   "metadata": {},
   "outputs": [
    {
     "data": {
      "text/plain": [
       "{'text': \"Describe the following:\\nA tall, thin man with dark hair styled in a slick pompadour.### Response:\\nThe man is quite tall with a slender physique. His dark hair is styled in a sleek, classic pompadour with a slight sheen to it, suggesting perhaps he spends time grooming it. The hair appears to be well-maintained, as though he's put some effort into it. The dark color of his hair contrasts with his pale skin, which gives him a somewhat striking appearance. He conveys a sense of poise and confidence, as though he's comfortable in his own skin. Overall, he seems to exude a sophisticated, polished vibe.\",\n",
       " 'prompt': 'Describe the following:\\nA tall, thin man with dark hair styled in a slick pompadour.',\n",
       " 'response': \"The man is quite tall with a slender physique. His dark hair is styled in a sleek, classic pompadour with a slight sheen to it, suggesting perhaps he spends time grooming it. The hair appears to be well-maintained, as though he's put some effort into it. The dark color of his hair contrasts with his pale skin, which gives him a somewhat striking appearance. He conveys a sense of poise and confidence, as though he's comfortable in his own skin. Overall, he seems to exude a sophisticated, polished vibe.\"}"
      ]
     },
     "execution_count": 5,
     "metadata": {},
     "output_type": "execute_result"
    }
   ],
   "source": [
    "original_guanaco_dataset['train'][0]"
   ]
  },
  {
   "cell_type": "markdown",
   "metadata": {
    "id": "YDzsgGXa-9b9"
   },
   "source": [
    "# Parse Conversations\n",
    "\n",
    "We want to standardize each conversation into the form\n",
    "```\n",
    "[\n",
    "    ('human', 'human utterance 1'),\n",
    "    ('assistant', 'assistant utterance 1'),\n",
    "    ('human', 'human utterance 2'),\n",
    "    ('assistant', 'assistant utterance 2')\n",
    "]\n",
    "```"
   ]
  },
  {
   "cell_type": "code",
   "execution_count": null,
   "metadata": {},
   "outputs": [
    {
     "name": "stdout",
     "output_type": "stream",
     "text": [
      "[('human', 'Can you write a short introduction about the relevance of the term \"monopsony\" in economics? Please use examples related to potential monopsonies in the labour market and cite relevant research.'), ('assistant', '\"Monopsony\" refers to a market structure where there is only one buyer for a particular good or service. In economics, this term is particularly relevant in the labor market, where a monopsony employer has significant power over the wages and working conditions of their employees. The presence of a monopsony can result in lower wages and reduced employment opportunities for workers, as the employer has little incentive to increase wages or provide better working conditions.\\n\\nRecent research has identified potential monopsonies in industries such as retail and fast food, where a few large companies control a significant portion of the market (Bivens & Mishel, 2013). In these industries, workers often face low wages, limited benefits, and reduced bargaining power, leading to a situation where they are dependent on the employer for their livelihood. This dependence can result in further suppression of wages and a decline in working conditions.\\n\\nOverall, the concept of monopsony is essential to understanding the dynamics of labor markets and the impact of market power on workers. Further research is needed to understand the extent and impact of monopsonies on the economy and to develop policies to address this issue.\\n\\nReferences:\\nBivens, J., & Mishel, L. (2013). The Pay of Corporate Executives and Financial Professionals as Evidence of Rents in Top 1 Percent Incomes. Journal of Economic Perspectives, 27(3), 57-78.'), ('human', 'Now explain it to a dog')]\n",
      "[['human', 'Describe the following:\\nA tall, thin man with dark hair styled in a slick pompadour.'], ['assistant', \"The man is quite tall with a slender physique. His dark hair is styled in a sleek, classic pompadour with a slight sheen to it, suggesting perhaps he spends time grooming it. The hair appears to be well-maintained, as though he's put some effort into it. The dark color of his hair contrasts with his pale skin, which gives him a somewhat striking appearance. He conveys a sense of poise and confidence, as though he's comfortable in his own skin. Overall, he seems to exude a sophisticated, polished vibe.\"]]\n"
     ]
    }
   ],
   "source": [
    "# Function to parse the JSON and extract human/bot conversations\n",
    "def parse_conversations(json_data):\n",
    "    if 'prompt' in json_data and 'response' in json_data:\n",
    "        return [['human', json_data['prompt']], ['assistant', json_data['response']]]\n",
    "    # Split the text on '###' to separate conversations\n",
    "    conversations = json_data['text'].split('###')\n",
    "\n",
    "    # Process each conversation and split into human and bot parts\n",
    "    convos = []\n",
    "    for convo in conversations:\n",
    "        if convo.strip():  # Check if the string is not just whitespace\n",
    "            parts = convo.strip().split(': ', 1)  # Split on the first occurrence of ': '\n",
    "            if len(parts) == 2:\n",
    "                speaker, message = parts\n",
    "                convos.append((speaker.lower(), message))\n",
    "\n",
    "    return convos\n",
    "\n",
    "# Parse the conversations\n",
    "print(parse_conversations(assistant_dataset['train'][0]))\n",
    "print(parse_conversations(original_guanaco_dataset['train'][0]))"
   ]
  },
  {
   "cell_type": "code",
   "execution_count": null,
   "metadata": {},
   "outputs": [
    {
     "data": {
      "text/plain": [
       "DatasetDict({\n",
       "    train: Dataset({\n",
       "        features: ['text', 'conversation'],\n",
       "        num_rows: 9846\n",
       "    })\n",
       "    test: Dataset({\n",
       "        features: ['text', 'conversation'],\n",
       "        num_rows: 518\n",
       "    })\n",
       "})"
      ]
     },
     "execution_count": 7,
     "metadata": {},
     "output_type": "execute_result"
    }
   ],
   "source": [
    "assistant_dataset = assistant_dataset.map(lambda x: {'conversation': parse_conversations(x)})\n",
    "assistant_dataset"
   ]
  },
  {
   "cell_type": "code",
   "execution_count": null,
   "metadata": {},
   "outputs": [
    {
     "data": {
      "text/plain": [
       "DatasetDict({\n",
       "    train: Dataset({\n",
       "        features: ['text', 'prompt', 'response', 'conversation'],\n",
       "        num_rows: 48701\n",
       "    })\n",
       "})"
      ]
     },
     "execution_count": 8,
     "metadata": {},
     "output_type": "execute_result"
    }
   ],
   "source": [
    "original_guanaco_dataset = original_guanaco_dataset.map(lambda x: {'conversation': parse_conversations(x)})\n",
    "original_guanaco_dataset"
   ]
  },
  {
   "cell_type": "code",
   "execution_count": null,
   "metadata": {},
   "outputs": [
    {
     "data": {
      "text/plain": [
       "DatasetDict({\n",
       "    train: Dataset({\n",
       "        features: ['conversation'],\n",
       "        num_rows: 46837\n",
       "    })\n",
       "    test: Dataset({\n",
       "        features: ['conversation'],\n",
       "        num_rows: 11710\n",
       "    })\n",
       "})"
      ]
     },
     "execution_count": 9,
     "metadata": {},
     "output_type": "execute_result"
    }
   ],
   "source": [
    "# combine the two datasets together\n",
    "dataset = Dataset.from_dict({'conversation': list(assistant_dataset['train']['conversation']) + list(original_guanaco_dataset['train']['conversation'])})\n",
    "dataset = dataset.train_test_split(test_size=0.2, seed=42)\n",
    "\n",
    "dataset"
   ]
  },
  {
   "cell_type": "code",
   "execution_count": null,
   "metadata": {},
   "outputs": [],
   "source": []
  },
  {
   "cell_type": "code",
   "execution_count": null,
   "metadata": {},
   "outputs": [
    {
     "name": "stderr",
     "output_type": "stream",
     "text": [
      "Special tokens have been added in the vocabulary, make sure the associated word embeddings are fine-tuned or trained.\n"
     ]
    },
    {
     "data": {
      "text/plain": [
       "3"
      ]
     },
     "execution_count": 10,
     "metadata": {},
     "output_type": "execute_result"
    }
   ],
   "source": [
    "# Time to define some special tokens! We aren't using Meta's standard tokens because the non chat aligned version doesn't have any\n",
    "STOP_TOKEN = '###STOP###'  # we are making these up\n",
    "HUMAN_TOKEN = '###HUMAN###'\n",
    "BOT_TOKEN = '###BOT###'\n",
    "\n",
    "EXTRA_TOKENS = {\n",
    "    'stop_token': {\n",
    "        'token': STOP_TOKEN,\n",
    "        'replace_embedding_with': 'stop talking'\n",
    "    },\n",
    "    'human_token': {\n",
    "        'token': HUMAN_TOKEN,\n",
    "        'replace_embedding_with': 'The human said:'\n",
    "    },\n",
    "    'bot_token': {\n",
    "        'token': BOT_TOKEN,\n",
    "        'replace_embedding_with': 'The assistant said:'\n",
    "    }\n",
    "}\n",
    "\n",
    "# Model from Hugging Face hub. I'm using the non chat format to show that you don't need to start from the chat checkpoint\n",
    "base_model = 'meta-llama/Meta-Llama-3-8B'\n",
    "\n",
    "# Load LLaMA tokenizer and add three special tokens\n",
    "tokenizer = AutoTokenizer.from_pretrained(base_model, trust_remote_code=True)\n",
    "tokenizer.pad_token = tokenizer.eos_token\n",
    "tokenizer.padding_side = \"left\"\n",
    "\n",
    "tokenizer.add_tokens([extra['token'] for extra in EXTRA_TOKENS.values()])"
   ]
  },
  {
   "cell_type": "code",
   "execution_count": null,
   "metadata": {},
   "outputs": [
    {
     "data": {
      "application/vnd.jupyter.widget-view+json": {
       "model_id": "8669fe63a4194c3382adefe214f1fefd",
       "version_major": 2,
       "version_minor": 0
      },
      "text/plain": [
       "Loading checkpoint shards:   0%|          | 0/4 [00:00<?, ?it/s]"
      ]
     },
     "metadata": {},
     "output_type": "display_data"
    }
   ],
   "source": [
    "# We are going to quantize the model - lowering the precision of each parameter to make the model smaller\n",
    "#  and consume less memory\n",
    "quant_config = BitsAndBytesConfig(\n",
    "    load_in_4bit=True,\n",
    "    bnb_4bit_quant_type=\"nf4\",\n",
    "    bnb_4bit_compute_dtype=torch.bfloat16,\n",
    "    bnb_4bit_use_double_quant=False,\n",
    ")\n",
    "\n",
    "# Load base model\n",
    "model = AutoModelForCausalLM.from_pretrained(\n",
    "    base_model,\n",
    "    torch_dtype=torch.bfloat16,\n",
    "    quantization_config=quant_config,\n",
    "    device_map={\"\": 0}\n",
    ")"
   ]
  },
  {
   "cell_type": "code",
   "execution_count": null,
   "metadata": {},
   "outputs": [
    {
     "name": "stdout",
     "output_type": "stream",
     "text": [
      "128256\n",
      "128259\n"
     ]
    }
   ],
   "source": [
    "print(model.config.vocab_size)\n",
    "# resize model's embedding size to match tokenizer + 3 new special tokens\n",
    "model.resize_token_embeddings(len(tokenizer))\n",
    "print(model.config.vocab_size)"
   ]
  },
  {
   "cell_type": "code",
   "execution_count": null,
   "metadata": {},
   "outputs": [
    {
     "name": "stdout",
     "output_type": "stream",
     "text": [
      "Replaced token \"###STOP###\" (token id 128256) weight with weight for \"stop talking\"\n",
      "Replaced token \"###HUMAN###\" (token id 128257) weight with weight for \"The human said:\"\n",
      "Replaced token \"###BOT###\" (token id 128258) weight with weight for \"The assistant said:\"\n"
     ]
    }
   ],
   "source": [
    "# We don't want to train these new embeddings (TL;DR the PEFT we are using (LoRA) cannot be used with embeddings)\n",
    "# So instead, we will set the token embeddings for our new embeddings with the average token embedding of a phrase embodying the token\n",
    "# E.g. replace ###STOP### with (Embedding(\"stop\") + Embedding(\"talking\")) / 2\n",
    "for extra_token, extra_info in EXTRA_TOKENS.items():\n",
    "    token_id = tokenizer(extra_info['token'])['input_ids'][-1]\n",
    "    new_embedding = model.model.embed_tokens.weight.data[tokenizer(extra_info['replace_embedding_with'])['input_ids'][1:]].mean(dim=0, keepdim=True)#.reshape(-1)\n",
    "    EXTRA_TOKENS[extra_token]['new_embedding'] = new_embedding\n",
    "    model.model.embed_tokens.weight.data[token_id] = EXTRA_TOKENS[extra_token]['new_embedding'].clone()\n",
    "    EXTRA_TOKENS[extra_token]['token_id'] = token_id\n",
    "    print(f\"Replaced token \\\"{extra_info['token']}\\\" (token id {token_id}) weight with weight for \\\"{extra_info['replace_embedding_with']}\\\"\")"
   ]
  },
  {
   "cell_type": "code",
   "execution_count": null,
   "metadata": {},
   "outputs": [
    {
     "data": {
      "text/plain": [
       "{'stop_token': {'token': '###STOP###',\n",
       "  'replace_embedding_with': 'stop talking',\n",
       "  'new_embedding': tensor([[-0.0198, -0.0090,  0.0052,  ...,  0.0225,  0.0108,  0.0082]],\n",
       "         device='cuda:0', dtype=torch.bfloat16),\n",
       "  'token_id': 128256},\n",
       " 'human_token': {'token': '###HUMAN###',\n",
       "  'replace_embedding_with': 'The human said:',\n",
       "  'new_embedding': tensor([[-0.0041, -0.0070, -0.0053,  ...,  0.0045,  0.0031,  0.0039]],\n",
       "         device='cuda:0', dtype=torch.bfloat16),\n",
       "  'token_id': 128257},\n",
       " 'bot_token': {'token': '###BOT###',\n",
       "  'replace_embedding_with': 'The assistant said:',\n",
       "  'new_embedding': tensor([[-0.0043, -0.0041, -0.0040,  ..., -0.0021, -0.0050,  0.0069]],\n",
       "         device='cuda:0', dtype=torch.bfloat16),\n",
       "  'token_id': 128258}}"
      ]
     },
     "execution_count": 14,
     "metadata": {},
     "output_type": "execute_result"
    }
   ],
   "source": [
    "EXTRA_TOKENS"
   ]
  },
  {
   "cell_type": "code",
   "execution_count": null,
   "metadata": {},
   "outputs": [
    {
     "data": {
      "text/plain": [
       "last_speaker\n",
       "assistant    56066\n",
       "human         2471\n",
       "Name: count, dtype: int64"
      ]
     },
     "execution_count": 17,
     "metadata": {},
     "output_type": "execute_result"
    }
   ],
   "source": [
    "# Do some EDA on our data\n",
    "text_pd = pd.concat([pd.DataFrame(dataset['train']), pd.DataFrame(dataset['test'])])\n",
    "\n",
    "text_pd['split'] = ['train'] * len(dataset['train']) + ['test'] * len(dataset['test'])\n",
    "text_pd['convo_length'] = text_pd['conversation'].apply(len)\n",
    "text_pd['last_speaker'] = text_pd['conversation'].apply(lambda x: x[-1][0])\n",
    "\n",
    "text_pd = text_pd[text_pd['last_speaker'].isin(['assistant', 'human'])]\n",
    "\n",
    "# WAY more assistants ending conversations than humans. We want those frankly.\n",
    "#  conversations where humans speak last aren't as useful\n",
    "text_pd['last_speaker'].value_counts()"
   ]
  },
  {
   "cell_type": "code",
   "execution_count": null,
   "metadata": {},
   "outputs": [
    {
     "data": {
      "application/vnd.google.colaboratory.intrinsic+json": {
       "summary": "{\n  \"name\": \"text_pd\",\n  \"rows\": 58537,\n  \"fields\": [\n    {\n      \"column\": \"conversation\",\n      \"properties\": {\n        \"dtype\": \"object\",\n        \"semantic_type\": \"\",\n        \"description\": \"\"\n      }\n    },\n    {\n      \"column\": \"split\",\n      \"properties\": {\n        \"dtype\": \"category\",\n        \"num_unique_values\": 2,\n        \"samples\": [\n          \"test\",\n          \"train\"\n        ],\n        \"semantic_type\": \"\",\n        \"description\": \"\"\n      }\n    },\n    {\n      \"column\": \"convo_length\",\n      \"properties\": {\n        \"dtype\": \"number\",\n        \"std\": 0,\n        \"min\": 2,\n        \"max\": 7,\n        \"num_unique_values\": 6,\n        \"samples\": [\n          2,\n          3\n        ],\n        \"semantic_type\": \"\",\n        \"description\": \"\"\n      }\n    },\n    {\n      \"column\": \"last_speaker\",\n      \"properties\": {\n        \"dtype\": \"category\",\n        \"num_unique_values\": 2,\n        \"samples\": [\n          \"human\",\n          \"assistant\"\n        ],\n        \"semantic_type\": \"\",\n        \"description\": \"\"\n      }\n    }\n  ]\n}",
       "type": "dataframe",
       "variable_name": "text_pd"
      },
      "text/html": [
       "\n",
       "  <div id=\"df-1ffedfc9-5478-4800-8ecc-90e564e12e38\" class=\"colab-df-container\">\n",
       "    <div>\n",
       "<style scoped>\n",
       "    .dataframe tbody tr th:only-of-type {\n",
       "        vertical-align: middle;\n",
       "    }\n",
       "\n",
       "    .dataframe tbody tr th {\n",
       "        vertical-align: top;\n",
       "    }\n",
       "\n",
       "    .dataframe thead th {\n",
       "        text-align: right;\n",
       "    }\n",
       "</style>\n",
       "<table border=\"1\" class=\"dataframe\">\n",
       "  <thead>\n",
       "    <tr style=\"text-align: right;\">\n",
       "      <th></th>\n",
       "      <th>conversation</th>\n",
       "      <th>split</th>\n",
       "      <th>convo_length</th>\n",
       "      <th>last_speaker</th>\n",
       "    </tr>\n",
       "  </thead>\n",
       "  <tbody>\n",
       "    <tr>\n",
       "      <th>0</th>\n",
       "      <td>[[human, Cuéntame un chiste sobre un tomate y ...</td>\n",
       "      <td>train</td>\n",
       "      <td>2</td>\n",
       "      <td>assistant</td>\n",
       "    </tr>\n",
       "    <tr>\n",
       "      <th>1</th>\n",
       "      <td>[[human, Write a letter recommending someone f...</td>\n",
       "      <td>train</td>\n",
       "      <td>2</td>\n",
       "      <td>assistant</td>\n",
       "    </tr>\n",
       "  </tbody>\n",
       "</table>\n",
       "</div>\n",
       "    <div class=\"colab-df-buttons\">\n",
       "\n",
       "  <div class=\"colab-df-container\">\n",
       "    <button class=\"colab-df-convert\" onclick=\"convertToInteractive('df-1ffedfc9-5478-4800-8ecc-90e564e12e38')\"\n",
       "            title=\"Convert this dataframe to an interactive table.\"\n",
       "            style=\"display:none;\">\n",
       "\n",
       "  <svg xmlns=\"http://www.w3.org/2000/svg\" height=\"24px\" viewBox=\"0 -960 960 960\">\n",
       "    <path d=\"M120-120v-720h720v720H120Zm60-500h600v-160H180v160Zm220 220h160v-160H400v160Zm0 220h160v-160H400v160ZM180-400h160v-160H180v160Zm440 0h160v-160H620v160ZM180-180h160v-160H180v160Zm440 0h160v-160H620v160Z\"/>\n",
       "  </svg>\n",
       "    </button>\n",
       "\n",
       "  <style>\n",
       "    .colab-df-container {\n",
       "      display:flex;\n",
       "      gap: 12px;\n",
       "    }\n",
       "\n",
       "    .colab-df-convert {\n",
       "      background-color: #E8F0FE;\n",
       "      border: none;\n",
       "      border-radius: 50%;\n",
       "      cursor: pointer;\n",
       "      display: none;\n",
       "      fill: #1967D2;\n",
       "      height: 32px;\n",
       "      padding: 0 0 0 0;\n",
       "      width: 32px;\n",
       "    }\n",
       "\n",
       "    .colab-df-convert:hover {\n",
       "      background-color: #E2EBFA;\n",
       "      box-shadow: 0px 1px 2px rgba(60, 64, 67, 0.3), 0px 1px 3px 1px rgba(60, 64, 67, 0.15);\n",
       "      fill: #174EA6;\n",
       "    }\n",
       "\n",
       "    .colab-df-buttons div {\n",
       "      margin-bottom: 4px;\n",
       "    }\n",
       "\n",
       "    [theme=dark] .colab-df-convert {\n",
       "      background-color: #3B4455;\n",
       "      fill: #D2E3FC;\n",
       "    }\n",
       "\n",
       "    [theme=dark] .colab-df-convert:hover {\n",
       "      background-color: #434B5C;\n",
       "      box-shadow: 0px 1px 3px 1px rgba(0, 0, 0, 0.15);\n",
       "      filter: drop-shadow(0px 1px 2px rgba(0, 0, 0, 0.3));\n",
       "      fill: #FFFFFF;\n",
       "    }\n",
       "  </style>\n",
       "\n",
       "    <script>\n",
       "      const buttonEl =\n",
       "        document.querySelector('#df-1ffedfc9-5478-4800-8ecc-90e564e12e38 button.colab-df-convert');\n",
       "      buttonEl.style.display =\n",
       "        google.colab.kernel.accessAllowed ? 'block' : 'none';\n",
       "\n",
       "      async function convertToInteractive(key) {\n",
       "        const element = document.querySelector('#df-1ffedfc9-5478-4800-8ecc-90e564e12e38');\n",
       "        const dataTable =\n",
       "          await google.colab.kernel.invokeFunction('convertToInteractive',\n",
       "                                                    [key], {});\n",
       "        if (!dataTable) return;\n",
       "\n",
       "        const docLinkHtml = 'Like what you see? Visit the ' +\n",
       "          '<a target=\"_blank\" href=https://colab.research.google.com/notebooks/data_table.ipynb>data table notebook</a>'\n",
       "          + ' to learn more about interactive tables.';\n",
       "        element.innerHTML = '';\n",
       "        dataTable['output_type'] = 'display_data';\n",
       "        await google.colab.output.renderOutput(dataTable, element);\n",
       "        const docLink = document.createElement('div');\n",
       "        docLink.innerHTML = docLinkHtml;\n",
       "        element.appendChild(docLink);\n",
       "      }\n",
       "    </script>\n",
       "  </div>\n",
       "\n",
       "\n",
       "<div id=\"df-5541f6d2-3e24-433e-a4fc-c23c6fabe217\">\n",
       "  <button class=\"colab-df-quickchart\" onclick=\"quickchart('df-5541f6d2-3e24-433e-a4fc-c23c6fabe217')\"\n",
       "            title=\"Suggest charts\"\n",
       "            style=\"display:none;\">\n",
       "\n",
       "<svg xmlns=\"http://www.w3.org/2000/svg\" height=\"24px\"viewBox=\"0 0 24 24\"\n",
       "     width=\"24px\">\n",
       "    <g>\n",
       "        <path d=\"M19 3H5c-1.1 0-2 .9-2 2v14c0 1.1.9 2 2 2h14c1.1 0 2-.9 2-2V5c0-1.1-.9-2-2-2zM9 17H7v-7h2v7zm4 0h-2V7h2v10zm4 0h-2v-4h2v4z\"/>\n",
       "    </g>\n",
       "</svg>\n",
       "  </button>\n",
       "\n",
       "<style>\n",
       "  .colab-df-quickchart {\n",
       "      --bg-color: #E8F0FE;\n",
       "      --fill-color: #1967D2;\n",
       "      --hover-bg-color: #E2EBFA;\n",
       "      --hover-fill-color: #174EA6;\n",
       "      --disabled-fill-color: #AAA;\n",
       "      --disabled-bg-color: #DDD;\n",
       "  }\n",
       "\n",
       "  [theme=dark] .colab-df-quickchart {\n",
       "      --bg-color: #3B4455;\n",
       "      --fill-color: #D2E3FC;\n",
       "      --hover-bg-color: #434B5C;\n",
       "      --hover-fill-color: #FFFFFF;\n",
       "      --disabled-bg-color: #3B4455;\n",
       "      --disabled-fill-color: #666;\n",
       "  }\n",
       "\n",
       "  .colab-df-quickchart {\n",
       "    background-color: var(--bg-color);\n",
       "    border: none;\n",
       "    border-radius: 50%;\n",
       "    cursor: pointer;\n",
       "    display: none;\n",
       "    fill: var(--fill-color);\n",
       "    height: 32px;\n",
       "    padding: 0;\n",
       "    width: 32px;\n",
       "  }\n",
       "\n",
       "  .colab-df-quickchart:hover {\n",
       "    background-color: var(--hover-bg-color);\n",
       "    box-shadow: 0 1px 2px rgba(60, 64, 67, 0.3), 0 1px 3px 1px rgba(60, 64, 67, 0.15);\n",
       "    fill: var(--button-hover-fill-color);\n",
       "  }\n",
       "\n",
       "  .colab-df-quickchart-complete:disabled,\n",
       "  .colab-df-quickchart-complete:disabled:hover {\n",
       "    background-color: var(--disabled-bg-color);\n",
       "    fill: var(--disabled-fill-color);\n",
       "    box-shadow: none;\n",
       "  }\n",
       "\n",
       "  .colab-df-spinner {\n",
       "    border: 2px solid var(--fill-color);\n",
       "    border-color: transparent;\n",
       "    border-bottom-color: var(--fill-color);\n",
       "    animation:\n",
       "      spin 1s steps(1) infinite;\n",
       "  }\n",
       "\n",
       "  @keyframes spin {\n",
       "    0% {\n",
       "      border-color: transparent;\n",
       "      border-bottom-color: var(--fill-color);\n",
       "      border-left-color: var(--fill-color);\n",
       "    }\n",
       "    20% {\n",
       "      border-color: transparent;\n",
       "      border-left-color: var(--fill-color);\n",
       "      border-top-color: var(--fill-color);\n",
       "    }\n",
       "    30% {\n",
       "      border-color: transparent;\n",
       "      border-left-color: var(--fill-color);\n",
       "      border-top-color: var(--fill-color);\n",
       "      border-right-color: var(--fill-color);\n",
       "    }\n",
       "    40% {\n",
       "      border-color: transparent;\n",
       "      border-right-color: var(--fill-color);\n",
       "      border-top-color: var(--fill-color);\n",
       "    }\n",
       "    60% {\n",
       "      border-color: transparent;\n",
       "      border-right-color: var(--fill-color);\n",
       "    }\n",
       "    80% {\n",
       "      border-color: transparent;\n",
       "      border-right-color: var(--fill-color);\n",
       "      border-bottom-color: var(--fill-color);\n",
       "    }\n",
       "    90% {\n",
       "      border-color: transparent;\n",
       "      border-bottom-color: var(--fill-color);\n",
       "    }\n",
       "  }\n",
       "</style>\n",
       "\n",
       "  <script>\n",
       "    async function quickchart(key) {\n",
       "      const quickchartButtonEl =\n",
       "        document.querySelector('#' + key + ' button');\n",
       "      quickchartButtonEl.disabled = true;  // To prevent multiple clicks.\n",
       "      quickchartButtonEl.classList.add('colab-df-spinner');\n",
       "      try {\n",
       "        const charts = await google.colab.kernel.invokeFunction(\n",
       "            'suggestCharts', [key], {});\n",
       "      } catch (error) {\n",
       "        console.error('Error during call to suggestCharts:', error);\n",
       "      }\n",
       "      quickchartButtonEl.classList.remove('colab-df-spinner');\n",
       "      quickchartButtonEl.classList.add('colab-df-quickchart-complete');\n",
       "    }\n",
       "    (() => {\n",
       "      let quickchartButtonEl =\n",
       "        document.querySelector('#df-5541f6d2-3e24-433e-a4fc-c23c6fabe217 button');\n",
       "      quickchartButtonEl.style.display =\n",
       "        google.colab.kernel.accessAllowed ? 'block' : 'none';\n",
       "    })();\n",
       "  </script>\n",
       "</div>\n",
       "\n",
       "    </div>\n",
       "  </div>\n"
      ],
      "text/plain": [
       "                                        conversation  split  convo_length  \\\n",
       "0  [[human, Cuéntame un chiste sobre un tomate y ...  train             2   \n",
       "1  [[human, Write a letter recommending someone f...  train             2   \n",
       "\n",
       "  last_speaker  \n",
       "0    assistant  \n",
       "1    assistant  "
      ]
     },
     "execution_count": 18,
     "metadata": {},
     "output_type": "execute_result"
    }
   ],
   "source": [
    "text_pd.head(2)"
   ]
  },
  {
   "cell_type": "code",
   "execution_count": null,
   "metadata": {},
   "outputs": [],
   "source": [
    "# only keep convos ending with an assistant\n",
    "text_pd = text_pd[text_pd['last_speaker'] == 'assistant']\n",
    "text_pd = text_pd[text_pd['convo_length'] % 2 == 0]\n",
    "\n",
    "text_pd = text_pd.reset_index()"
   ]
  },
  {
   "cell_type": "code",
   "execution_count": null,
   "metadata": {},
   "outputs": [
    {
     "data": {
      "text/plain": [
       "<Axes: xlabel='convo_length'>"
      ]
     },
     "execution_count": 20,
     "metadata": {},
     "output_type": "execute_result"
    },
    {
     "data": {
      "image/png": "[encoded data removed]",
      "text/plain": [
       "<Figure size 640x480 with 1 Axes>"
      ]
     },
     "metadata": {},
     "output_type": "display_data"
    }
   ],
   "source": [
    "text_pd['convo_length'].value_counts().sort_index().plot.bar()"
   ]
  },
  {
   "cell_type": "code",
   "execution_count": null,
   "metadata": {},
   "outputs": [
    {
     "data": {
      "text/plain": [
       "first_question\n",
       "你好                                                                                                                             10\n",
       "Hola                                                                                                                            4\n",
       "Write a poem about the ocean.                                                                                                   4\n",
       "Write a short story about a haunted house.                                                                                      4\n",
       "Generate a list of 10 synonyms for the word \"happy.\"                                                                            4\n",
       "                                                                                                                               ..\n",
       "Generate a paragraph on the topic of gun control laws.                                                                          1\n",
       "Edit the given paragraph to add descriptive adjectives. \"The room was large and empty with white walls and a wooden floor.\"     1\n",
       "Find and replace all instances of the word \"happy\" with the word \"jolly\" in a document.                                         1\n",
       "Write a detailed description of A wise and experienced elder                                                                    1\n",
       "Find three synonyms for the word \"strong\".                                                                                      1\n",
       "Name: count, Length: 55465, dtype: int64"
      ]
     },
     "execution_count": 21,
     "metadata": {},
     "output_type": "execute_result"
    }
   ],
   "source": [
    "text_pd['first_question'] = text_pd['conversation'].apply(lambda x: x[0][1])\n",
    "text_pd['first_question'].value_counts()"
   ]
  },
  {
   "cell_type": "markdown",
   "metadata": {
    "id": "dbRVEH2r2lW1"
   },
   "source": [
    "# Filter out by language"
   ]
  },
  {
   "cell_type": "code",
   "execution_count": null,
   "metadata": {},
   "outputs": [],
   "source": [
    "FILTER_EN = False"
   ]
  },
  {
   "cell_type": "code",
   "execution_count": null,
   "metadata": {},
   "outputs": [
    {
     "data": {
      "application/vnd.jupyter.widget-view+json": {
       "model_id": "8a904518a6b74066bfad2f0d8547fcf2",
       "version_major": 2,
       "version_minor": 0
      },
      "text/plain": [
       "Map:   0%|          | 0/137 [00:00<?, ? examples/s]"
      ]
     },
     "metadata": {},
     "output_type": "display_data"
    },
    {
     "data": {
      "application/vnd.jupyter.widget-view+json": {
       "model_id": "fb0547a37df0480a835ff884320b5872",
       "version_major": 2,
       "version_minor": 0
      },
      "text/plain": [
       "Map:   0%|          | 0/36 [00:00<?, ? examples/s]"
      ]
     },
     "metadata": {},
     "output_type": "display_data"
    }
   ],
   "source": [
    "from transformers import pipeline\n",
    "import pandas as pd\n",
    "from tqdm import tqdm\n",
    "\n",
    "# Define a function for batch processing\n",
    "def detect_language_in_batches(batch, batch_size=128):\n",
    "    batch_results = pipe([b[0][1] for b in batch['conversation']])\n",
    "    return {'lang': [b['label'] for b in batch_results]}\n",
    "\n",
    "# Apply the function to the DataFrame\n",
    "if FILTER_EN:\n",
    "    pipe = pipeline(\"text-classification\", model=\"papluca/xlm-roberta-base-language-detection\", truncation=True, max_length=64)\n",
    "    dataset = dataset.map(detect_language_in_batches, batch_size=128, batched=True)"
   ]
  },
  {
   "cell_type": "code",
   "execution_count": null,
   "metadata": {},
   "outputs": [
    {
     "data": {
      "image/png": "[encoded data removed]",
      "text/plain": [
       "<Figure size 800x500 with 1 Axes>"
      ]
     },
     "metadata": {},
     "output_type": "display_data"
    }
   ],
   "source": [
    "if FILTER_EN:\n",
    "    import matplotlib.pyplot as plt\n",
    "\n",
    "    # Filtering for English language\n",
    "\n",
    "    # Counting the occurrences of each language\n",
    "    lang_counts = pd.Series(dataset['train']['lang']).value_counts()\n",
    "\n",
    "    # Creating the bar plot\n",
    "    plt.figure(figsize=(8, 5))\n",
    "    lang_counts.plot.bar(color='teal', edgecolor='black')\n",
    "\n",
    "    # Adding titles and labels\n",
    "    plt.title('Frequency of Languages', fontsize=15)\n",
    "    plt.xlabel('Language', fontsize=12)\n",
    "    plt.ylabel('Count', fontsize=12)\n",
    "\n",
    "    # Adding grid for better readability\n",
    "    plt.grid(axis='y', linestyle='--', alpha=0.7)\n",
    "\n",
    "    # Displaying the plot\n",
    "    plt.show()\n"
   ]
  },
  {
   "cell_type": "code",
   "execution_count": null,
   "metadata": {},
   "outputs": [],
   "source": [
    "if FILTER_EN:\n",
    "    dataset = dataset.filter(lambda x: x['lang'] == 'en')"
   ]
  },
  {
   "cell_type": "code",
   "execution_count": null,
   "metadata": {},
   "outputs": [],
   "source": [
    "def join_convo(conversation):\n",
    "    convo = ''''''\n",
    "    last_speaker = None\n",
    "    for speaker, message in conversation:\n",
    "        last_speaker = speaker\n",
    "        if speaker == 'human':\n",
    "            convo += f\"{EXTRA_TOKENS['human_token']['token']} {message} \"\n",
    "        elif speaker == 'assistant':\n",
    "            convo += f\"{EXTRA_TOKENS['bot_token']['token']} {message} \"\n",
    "    if last_speaker == 'human':\n",
    "        return convo.strip() + f\" {EXTRA_TOKENS['bot_token']['token']}\"\n",
    "    return convo.strip() + f\" {EXTRA_TOKENS['stop_token']['token']}\"\n",
    "\n",
    "text_pd['text'] = text_pd['conversation'].apply(join_convo)"
   ]
  },
  {
   "cell_type": "code",
   "execution_count": null,
   "metadata": {},
   "outputs": [
    {
     "data": {
      "text/plain": [
       "[['human', 'Cuéntame un chiste sobre un tomate y algo más'],\n",
       " ['assistant',\n",
       "  'Esto es un tomate que está haciendo el ridículo y otro tomate le grita: TE ESTÁS PONIENDO COMO UN HUMANO!']]"
      ]
     },
     "execution_count": 24,
     "metadata": {},
     "output_type": "execute_result"
    }
   ],
   "source": [
    "dataset['train'][0]['conversation']"
   ]
  },
  {
   "cell_type": "code",
   "execution_count": null,
   "metadata": {},
   "outputs": [],
   "source": [
    "model.generation_config.do_sample = True\n",
    "model.config.use_cache = False\n",
    "# \"Setting pretraining_tp to a value different than 1 will activate the more accurate but slower computation of the linear layers, which should better match the original logits.\"\n",
    "model.config.pretraining_tp = 1"
   ]
  },
  {
   "cell_type": "code",
   "execution_count": null,
   "metadata": {},
   "outputs": [
    {
     "name": "stdout",
     "output_type": "stream",
     "text": [
      "###HUMAN### Who was the first president of the USA? ###BOT###\n"
     ]
    }
   ],
   "source": [
    "print(join_convo([['human', \"Who was the first president of the USA?\"]]))"
   ]
  },
  {
   "cell_type": "code",
   "execution_count": null,
   "metadata": {},
   "outputs": [],
   "source": [
    "# Load LoRA configuration to make training much more efficient\n",
    "peft_args = LoraConfig(\n",
    "    lora_alpha=32,\n",
    "    lora_dropout=0.05,\n",
    "    r=128,\n",
    "    bias=\"none\",\n",
    "    task_type=\"CAUSAL_LM\",\n",
    ")\n",
    "\n",
    "model = get_peft_model(model, peft_args)"
   ]
  },
  {
   "cell_type": "code",
   "execution_count": null,
   "metadata": {},
   "outputs": [
    {
     "name": "stdout",
     "output_type": "stream",
     "text": [
      "trainable params: 54,525,952 || all params: 8,084,811,776 || trainable%: 0.6744245074679646\n"
     ]
    }
   ],
   "source": [
    "model.print_trainable_parameters()"
   ]
  },
  {
   "cell_type": "markdown",
   "metadata": {
    "id": "aAIpv3tNRnHz"
   },
   "source": [
    "# Testing the model before SFT"
   ]
  },
  {
   "cell_type": "code",
   "execution_count": null,
   "metadata": {},
   "outputs": [
    {
     "name": "stderr",
     "output_type": "stream",
     "text": [
      "Setting `pad_token_id` to `eos_token_id`:128256 for open-end generation.\n",
      "/usr/local/lib/python3.10/dist-packages/transformers/generation/utils.py:1477: UserWarning: You are calling .generate() with the `input_ids` being on a device type different than your model's device. `input_ids` is on cpu, whereas the model is on cuda. You may experience unexpected behaviors or slower generation. Please make sure that you have put `input_ids` to the correct device by calling for example input_ids = input_ids.to('cuda') before running `.generate()`.\n",
      "  warnings.warn(\n"
     ]
    },
    {
     "data": {
      "application/vnd.google.colaboratory.intrinsic+json": {
       "type": "string"
      },
      "text/plain": [
       "'###HUMAN### Who was the first president of the USA? ###BOT### to by?  The name of the person is \"George\" and his last name is \"Washington\".  That person also ran the election for a president who was one years older than himself, who won him the voting by getting the absolute majority. \\n\"\"\"\\n\\n'"
      ]
     },
     "execution_count": 29,
     "metadata": {},
     "output_type": "execute_result"
    }
   ],
   "source": [
    "tokenizer.decode(\n",
    "    model.generate(\n",
    "        **tokenizer(join_convo([['human', \"Who was the first president of the USA?\"]]), return_tensors='pt'),\n",
    "        max_length=64,\n",
    "        eos_token_id=EXTRA_TOKENS['stop_token']['token_id']\n",
    "        )[0]\n",
    "    )"
   ]
  },
  {
   "cell_type": "code",
   "execution_count": null,
   "metadata": {},
   "outputs": [
    {
     "name": "stderr",
     "output_type": "stream",
     "text": [
      "Setting `pad_token_id` to `eos_token_id`:128256 for open-end generation.\n",
      "/usr/local/lib/python3.10/dist-packages/transformers/generation/utils.py:1477: UserWarning: You are calling .generate() with the `input_ids` being on a device type different than your model's device. `input_ids` is on cpu, whereas the model is on cuda. You may experience unexpected behaviors or slower generation. Please make sure that you have put `input_ids` to the correct device by calling for example input_ids = input_ids.to('cuda') before running `.generate()`.\n",
      "  warnings.warn(\n"
     ]
    },
    {
     "data": {
      "application/vnd.google.colaboratory.intrinsic+json": {
       "type": "string"
      },
      "text/plain": [
       "'Who was the first president of the USA? What role did he play in the American Revolution?\\nGeorge Washington. He was a great general and one of the greatest leaders of the revolution.\\nWho was the first female US president? What role did she play in the American Revolution?\\nAbigail Adams. She was a very important'"
      ]
     },
     "execution_count": 31,
     "metadata": {},
     "output_type": "execute_result"
    }
   ],
   "source": [
    "tokenizer.decode(\n",
    "    model.generate(\n",
    "        **tokenizer(\"Who was the first president of the USA?\", return_tensors='pt'),\n",
    "        max_length=64,\n",
    "        eos_token_id=EXTRA_TOKENS['stop_token']['token_id']\n",
    "        )[0]\n",
    "    )"
   ]
  },
  {
   "cell_type": "code",
   "execution_count": null,
   "metadata": {},
   "outputs": [
    {
     "name": "stderr",
     "output_type": "stream",
     "text": [
      "Parameter 'function'=<function <lambda> at 0x7cb5d0b53d00> of the transform datasets.arrow_dataset.Dataset._map_single couldn't be hashed properly, a random hash was used instead. Make sure your transforms and parameters are serializable with pickle or dill for the dataset fingerprinting and caching to work. If you reuse this transform, the caching mechanism will consider it to be different from the previous calls and recompute everything. This warning is only showed once. Subsequent hashing failures won't be showed.\n",
      "WARNING:datasets.fingerprint:Parameter 'function'=<function <lambda> at 0x7cb5d0b53d00> of the transform datasets.arrow_dataset.Dataset._map_single couldn't be hashed properly, a random hash was used instead. Make sure your transforms and parameters are serializable with pickle or dill for the dataset fingerprinting and caching to work. If you reuse this transform, the caching mechanism will consider it to be different from the previous calls and recompute everything. This warning is only showed once. Subsequent hashing failures won't be showed.\n"
     ]
    },
    {
     "data": {
      "application/vnd.jupyter.widget-view+json": {
       "model_id": "ed48a040e56e487ab358c43fdd808136",
       "version_major": 2,
       "version_minor": 0
      },
      "text/plain": [
       "Map:   0%|          | 0/46837 [00:00<?, ? examples/s]"
      ]
     },
     "metadata": {},
     "output_type": "display_data"
    },
    {
     "data": {
      "application/vnd.jupyter.widget-view+json": {
       "model_id": "fab6c98410ac43feaf9b76e6b48ea2a0",
       "version_major": 2,
       "version_minor": 0
      },
      "text/plain": [
       "Map:   0%|          | 0/11710 [00:00<?, ? examples/s]"
      ]
     },
     "metadata": {},
     "output_type": "display_data"
    },
    {
     "data": {
      "text/plain": [
       "{'conversation': [['human', 'Cuéntame un chiste sobre un tomate y algo más'],\n",
       "  ['assistant',\n",
       "   'Esto es un tomate que está haciendo el ridículo y otro tomate le grita: TE ESTÁS PONIENDO COMO UN HUMANO!']],\n",
       " 'text': '###HUMAN### Cuéntame un chiste sobre un tomate y algo más ###BOT### Esto es un tomate que está haciendo el ridículo y otro tomate le grita: TE ESTÁS PONIENDO COMO UN HUMANO! ###STOP###'}"
      ]
     },
     "execution_count": 30,
     "metadata": {},
     "output_type": "execute_result"
    }
   ],
   "source": [
    "dataset = dataset.map(lambda x: {'text': join_convo(x['conversation'])})\n",
    "\n",
    "dataset['train'][0]"
   ]
  },
  {
   "cell_type": "code",
   "execution_count": null,
   "metadata": {},
   "outputs": [
    {
     "data": {
      "application/vnd.jupyter.widget-view+json": {
       "model_id": "df4c0add00cc4e099079fc1a7fae0701",
       "version_major": 2,
       "version_minor": 0
      },
      "text/plain": [
       "Map:   0%|          | 0/46837 [00:00<?, ? examples/s]"
      ]
     },
     "metadata": {},
     "output_type": "display_data"
    },
    {
     "data": {
      "application/vnd.jupyter.widget-view+json": {
       "model_id": "ff89e214e2fc46db8cf87cd2f226e3f4",
       "version_major": 2,
       "version_minor": 0
      },
      "text/plain": [
       "Map:   0%|          | 0/11710 [00:00<?, ? examples/s]"
      ]
     },
     "metadata": {},
     "output_type": "display_data"
    }
   ],
   "source": [
    "dataset = dataset.map(lambda x: tokenizer(x['text']))"
   ]
  },
  {
   "cell_type": "code",
   "execution_count": null,
   "metadata": {},
   "outputs": [],
   "source": [
    "# zero out loss before the final response token, only judge the model on the completion tokens (the final assistant message)\n",
    "class DataCollatorForCompletionOnlyLM(DataCollatorForLanguageModeling):\n",
    "\n",
    "    def torch_call(self, examples):\n",
    "        self.tokenizer.pad(examples, return_tensors=\"pt\", pad_to_multiple_of=self.pad_to_multiple_of)\n",
    "        batch = super().torch_call(examples)\n",
    "        response_token_id = EXTRA_TOKENS['bot_token']['token_id']\n",
    "00\n",
    "        labels = batch[\"input_ids\"].clone()\n",
    "        for i in range(len(examples)):\n",
    "            tokens = batch[\"input_ids\"].clone().tolist()[i]\n",
    "            if tokens.count(response_token_id) == 0:\n",
    "                print(tokens)\n",
    "            up_until = len(tokens) - 1 - tokens[::-1].index(response_token_id)\n",
    "            labels[i, :up_until + 1] = -100\n",
    "\n",
    "        batch[\"labels\"] = labels\n",
    "\n",
    "        return batch\n",
    "\n",
    "data_collator = DataCollatorForCompletionOnlyLM(\n",
    "    tokenizer=tokenizer, mlm=False, return_tensors=\"pt\"\n",
    ")"
   ]
  },
  {
   "cell_type": "code",
   "execution_count": null,
   "metadata": {},
   "outputs": [
    {
     "data": {
      "text/plain": [
       "<Axes: >"
      ]
     },
     "execution_count": 36,
     "metadata": {},
     "output_type": "execute_result"
    },
    {
     "data": {
      "image/png": "[encoded data removed]",
      "text/plain": [
       "<Figure size 640x480 with 1 Axes>"
      ]
     },
     "metadata": {},
     "output_type": "display_data"
    }
   ],
   "source": [
    "# token distribution\n",
    "pd.Series([len(x) for x in dataset['train']['input_ids']]).hist()"
   ]
  },
  {
   "cell_type": "code",
   "execution_count": null,
   "metadata": {},
   "outputs": [
    {
     "data": {
      "application/vnd.jupyter.widget-view+json": {
       "model_id": "82b4cdf55d6a434abf95f4125487d8ed",
       "version_major": 2,
       "version_minor": 0
      },
      "text/plain": [
       "Filter:   0%|          | 0/46837 [00:00<?, ? examples/s]"
      ]
     },
     "metadata": {},
     "output_type": "display_data"
    },
    {
     "data": {
      "application/vnd.jupyter.widget-view+json": {
       "model_id": "7c43ae2e0087493da74a0ca1829b5a53",
       "version_major": 2,
       "version_minor": 0
      },
      "text/plain": [
       "Filter:   0%|          | 0/11710 [00:00<?, ? examples/s]"
      ]
     },
     "metadata": {},
     "output_type": "display_data"
    },
    {
     "data": {
      "text/plain": [
       "DatasetDict({\n",
       "    train: Dataset({\n",
       "        features: ['conversation', 'text', 'input_ids', 'attention_mask'],\n",
       "        num_rows: 46580\n",
       "    })\n",
       "    test: Dataset({\n",
       "        features: ['conversation', 'text', 'input_ids', 'attention_mask'],\n",
       "        num_rows: 11649\n",
       "    })\n",
       "})"
      ]
     },
     "execution_count": 37,
     "metadata": {},
     "output_type": "execute_result"
    }
   ],
   "source": [
    "# remove elements that are too long for the LLM\n",
    "dataset = dataset.filter(\n",
    "    lambda x: len(x['input_ids']) < 1024  # truncating a lot for memory\n",
    "    )\n",
    "dataset"
   ]
  },
  {
   "cell_type": "code",
   "execution_count": null,
   "metadata": {},
   "outputs": [
    {
     "data": {
      "text/plain": [
       "<Axes: >"
      ]
     },
     "execution_count": 38,
     "metadata": {},
     "output_type": "execute_result"
    },
    {
     "data": {
      "image/png": "[encoded data removed]",
      "text/plain": [
       "<Figure size 640x480 with 1 Axes>"
      ]
     },
     "metadata": {},
     "output_type": "display_data"
    }
   ],
   "source": [
    "pd.Series([len(x) for x in dataset['train']['input_ids']]).hist()"
   ]
  },
  {
   "cell_type": "code",
   "execution_count": null,
   "metadata": {},
   "outputs": [
    {
     "name": "stdout",
     "output_type": "stream",
     "text": [
      "profoz\n"
     ]
    }
   ],
   "source": [
    "!huggingface-cli whoami"
   ]
  },
  {
   "cell_type": "code",
   "execution_count": null,
   "metadata": {},
   "outputs": [
    {
     "name": "stderr",
     "output_type": "stream",
     "text": [
      "/usr/local/lib/python3.10/dist-packages/accelerate/accelerator.py:436: FutureWarning: Passing the following arguments to `Accelerator` is deprecated and will be removed in version 1.0 of Accelerate: dict_keys(['dispatch_batches', 'split_batches', 'even_batches', 'use_seedable_sampler']). Please pass an `accelerate.DataLoaderConfiguration` instead: \n",
      "dataloader_config = DataLoaderConfiguration(dispatch_batches=None, split_batches=False, even_batches=True, use_seedable_sampler=True)\n",
      "  warnings.warn(\n"
     ]
    }
   ],
   "source": [
    "# Set supervised fine-tuning parameters\n",
    "training_params = TrainingArguments(\n",
    "    output_dir=\"./results\",\n",
    "    num_train_epochs=1,\n",
    "    per_device_train_batch_size=2,\n",
    "    per_device_eval_batch_size=4,\n",
    "    gradient_accumulation_steps=4,\n",
    "    logging_steps=5,\n",
    "    learning_rate=2e-4,\n",
    "    weight_decay=0.01,\n",
    "    fp16=False,\n",
    "    load_best_model_at_end=True,\n",
    "    evaluation_strategy='epoch',\n",
    "    save_strategy='epoch',\n",
    "    bf16=False,\n",
    "    warmup_ratio=0.1,\n",
    "    lr_scheduler_type=\"cosine\",\n",
    "\n",
    "    push_to_hub=True,\n",
    "    hub_model_id=\"profoz/sawyer-llama-3\",\n",
    "    hub_strategy=\"every_save\",\n",
    ")\n",
    "trainer = Trainer(\n",
    "    model=model,\n",
    "    train_dataset=dataset['train'],\n",
    "    eval_dataset=dataset['test'],\n",
    "    tokenizer=tokenizer,\n",
    "    args=training_params,\n",
    "    data_collator=data_collator\n",
    ")"
   ]
  },
  {
   "cell_type": "code",
   "execution_count": null,
   "metadata": {},
   "outputs": [
    {
     "data": {
      "application/vnd.google.colaboratory.intrinsic+json": {
       "type": "string"
      },
      "text/plain": [
       "'profoz/sawyer-llama-3'"
      ]
     },
     "execution_count": 41,
     "metadata": {},
     "output_type": "execute_result"
    }
   ],
   "source": [
    "trainer.hub_model_id"
   ]
  },
  {
   "cell_type": "code",
   "execution_count": null,
   "metadata": {},
   "outputs": [
    {
     "data": {
      "text/plain": [
       "tensor([[ 1.3733e-03,  5.0964e-03, -3.0365e-03,  ...,  2.2888e-03,\n",
       "         -1.9531e-03, -1.7166e-05],\n",
       "        [-2.7313e-03,  1.9379e-03, -1.3733e-03,  ..., -5.1498e-05,\n",
       "         -1.3962e-03, -1.9836e-03],\n",
       "        [ 9.5367e-04, -1.3367e-02,  4.1771e-04,  ...,  2.5940e-03,\n",
       "          7.0496e-03,  4.1809e-03],\n",
       "        ...,\n",
       "        [-1.9775e-02, -8.9722e-03,  5.1880e-03,  ...,  2.2461e-02,\n",
       "          1.0803e-02,  8.2397e-03],\n",
       "        [-4.0894e-03, -6.9580e-03, -5.3406e-03,  ...,  4.5166e-03,\n",
       "          3.0670e-03,  3.9062e-03],\n",
       "        [-4.3030e-03, -4.1199e-03, -4.0283e-03,  ..., -2.1057e-03,\n",
       "         -4.9744e-03,  6.8665e-03]], device='cuda:0', dtype=torch.bfloat16)"
      ]
     },
     "execution_count": 42,
     "metadata": {},
     "output_type": "execute_result"
    }
   ],
   "source": [
    "model.base_model.model.model.embed_tokens.weight.data"
   ]
  },
  {
   "cell_type": "code",
   "execution_count": null,
   "metadata": {},
   "outputs": [
    {
     "data": {
      "text/html": [
       "\n",
       "    <div>\n",
       "      \n",
       "      <progress value='2913' max='2913' style='width:300px; height:20px; vertical-align: middle;'></progress>\n",
       "      [2913/2913 09:30]\n",
       "    </div>\n",
       "    "
      ],
      "text/plain": [
       "<IPython.core.display.HTML object>"
      ]
     },
     "metadata": {},
     "output_type": "display_data"
    },
    {
     "name": "stderr",
     "output_type": "stream",
     "text": [
      "\u001b[34m\u001b[1mwandb\u001b[0m: Currently logged in as: \u001b[33mprofoz\u001b[0m. Use \u001b[1m`wandb login --relogin`\u001b[0m to force relogin\n"
     ]
    },
    {
     "data": {
      "text/html": [
       "Tracking run with wandb version 0.16.6"
      ],
      "text/plain": [
       "<IPython.core.display.HTML object>"
      ]
     },
     "metadata": {},
     "output_type": "display_data"
    },
    {
     "data": {
      "text/html": [
       "Run data is saved locally in <code>/content/wandb/run-20240419_160854-nkyfjdv5</code>"
      ],
      "text/plain": [
       "<IPython.core.display.HTML object>"
      ]
     },
     "metadata": {},
     "output_type": "display_data"
    },
    {
     "data": {
      "text/html": [
       "Syncing run <strong><a href='https://wandb.ai/profoz/huggingface/runs/nkyfjdv5' target=\"_blank\">earnest-firefly-264</a></strong> to <a href='https://wandb.ai/profoz/huggingface' target=\"_blank\">Weights & Biases</a> (<a href='https://wandb.me/run' target=\"_blank\">docs</a>)<br/>"
      ],
      "text/plain": [
       "<IPython.core.display.HTML object>"
      ]
     },
     "metadata": {},
     "output_type": "display_data"
    },
    {
     "data": {
      "text/html": [
       " View project at <a href='https://wandb.ai/profoz/huggingface' target=\"_blank\">https://wandb.ai/profoz/huggingface</a>"
      ],
      "text/plain": [
       "<IPython.core.display.HTML object>"
      ]
     },
     "metadata": {},
     "output_type": "display_data"
    },
    {
     "data": {
      "text/html": [
       " View run at <a href='https://wandb.ai/profoz/huggingface/runs/nkyfjdv5' target=\"_blank\">https://wandb.ai/profoz/huggingface/runs/nkyfjdv5</a>"
      ],
      "text/plain": [
       "<IPython.core.display.HTML object>"
      ]
     },
     "metadata": {},
     "output_type": "display_data"
    },
    {
     "data": {
      "text/plain": [
       "{'eval_loss': 1.5043210983276367,\n",
       " 'eval_runtime': 570.6021,\n",
       " 'eval_samples_per_second': 20.415,\n",
       " 'eval_steps_per_second': 5.105}"
      ]
     },
     "execution_count": 43,
     "metadata": {},
     "output_type": "execute_result"
    }
   ],
   "source": [
    "trainer.evaluate()"
   ]
  },
  {
   "cell_type": "code",
   "execution_count": null,
   "metadata": {},
   "outputs": [
    {
     "data": {
      "text/html": [
       "\n",
       "    <div>\n",
       "      \n",
       "      <progress value='583' max='5822' style='width:300px; height:20px; vertical-align: middle;'></progress>\n",
       "      [ 583/5822 10:33 < 1:35:12, 0.92 it/s, Epoch 0.10/1]\n",
       "    </div>\n",
       "    <table border=\"1\" class=\"dataframe\">\n",
       "  <thead>\n",
       " <tr style=\"text-align: left;\">\n",
       "      <th>Epoch</th>\n",
       "      <th>Training Loss</th>\n",
       "      <th>Validation Loss</th>\n",
       "    </tr>\n",
       "  </thead>\n",
       "  <tbody>\n",
       "  </tbody>\n",
       "</table><p>"
      ],
      "text/plain": [
       "<IPython.core.display.HTML object>"
      ]
     },
     "metadata": {},
     "output_type": "display_data"
    },
    {
     "data": {
      "text/html": [
       "\n",
       "    <div>\n",
       "      \n",
       "      <progress value='5822' max='5822' style='width:300px; height:20px; vertical-align: middle;'></progress>\n",
       "      [5822/5822 1:55:33, Epoch 0/1]\n",
       "    </div>\n",
       "    <table border=\"1\" class=\"dataframe\">\n",
       "  <thead>\n",
       " <tr style=\"text-align: left;\">\n",
       "      <th>Epoch</th>\n",
       "      <th>Training Loss</th>\n",
       "      <th>Validation Loss</th>\n",
       "    </tr>\n",
       "  </thead>\n",
       "  <tbody>\n",
       "    <tr>\n",
       "      <td>0</td>\n",
       "      <td>0.994800</td>\n",
       "      <td>0.970850</td>\n",
       "    </tr>\n",
       "  </tbody>\n",
       "</table><p>"
      ],
      "text/plain": [
       "<IPython.core.display.HTML object>"
      ]
     },
     "metadata": {},
     "output_type": "display_data"
    },
    {
     "data": {
      "text/html": [
       "\n",
       "    <div>\n",
       "      \n",
       "      <progress value='5826' max='2913' style='width:300px; height:20px; vertical-align: middle;'></progress>\n",
       "      [2913/2913 2:04:55]\n",
       "    </div>\n",
       "    "
      ],
      "text/plain": [
       "<IPython.core.display.HTML object>"
      ]
     },
     "metadata": {},
     "output_type": "display_data"
    },
    {
     "name": "stderr",
     "output_type": "stream",
     "text": [
      "/usr/local/lib/python3.10/dist-packages/peft/utils/save_and_load.py:168: UserWarning: Setting `save_embedding_layers` to `True` as the embedding layer has been resized during finetuning.\n",
      "  warnings.warn(\n"
     ]
    },
    {
     "data": {
      "text/plain": [
       "TrainOutput(global_step=5822, training_loss=0.9559917277341362, metrics={'train_runtime': 6935.0686, 'train_samples_per_second': 6.717, 'train_steps_per_second': 0.84, 'total_flos': 4.9022049588156826e+17, 'train_loss': 0.9559917277341362, 'epoch': 1.0})"
      ]
     },
     "execution_count": 44,
     "metadata": {},
     "output_type": "execute_result"
    }
   ],
   "source": [
    "# Train model\n",
    "trainer.train()"
   ]
  },
  {
   "cell_type": "code",
   "execution_count": null,
   "metadata": {},
   "outputs": [
    {
     "data": {
      "text/plain": [
       "tensor([[ 1.3733e-03,  5.0964e-03, -3.0365e-03,  ...,  2.2888e-03,\n",
       "         -1.9531e-03, -1.7166e-05],\n",
       "        [-2.7313e-03,  1.9379e-03, -1.3733e-03,  ..., -5.1498e-05,\n",
       "         -1.3962e-03, -1.9836e-03],\n",
       "        [ 9.5367e-04, -1.3367e-02,  4.1771e-04,  ...,  2.5940e-03,\n",
       "          7.0496e-03,  4.1809e-03],\n",
       "        ...,\n",
       "        [-1.9775e-02, -8.9722e-03,  5.1880e-03,  ...,  2.2461e-02,\n",
       "          1.0803e-02,  8.2397e-03],\n",
       "        [-4.0894e-03, -6.9580e-03, -5.3406e-03,  ...,  4.5166e-03,\n",
       "          3.0670e-03,  3.9062e-03],\n",
       "        [-4.3030e-03, -4.1199e-03, -4.0283e-03,  ..., -2.1057e-03,\n",
       "         -4.9744e-03,  6.8665e-03]], device='cuda:0', dtype=torch.bfloat16)"
      ]
     },
     "execution_count": 45,
     "metadata": {},
     "output_type": "execute_result"
    }
   ],
   "source": [
    "model.base_model.model.model.embed_tokens.weight.data"
   ]
  },
  {
   "cell_type": "code",
   "execution_count": null,
   "metadata": {},
   "outputs": [
    {
     "name": "stderr",
     "output_type": "stream",
     "text": [
      "/usr/local/lib/python3.10/dist-packages/peft/utils/save_and_load.py:160: UserWarning: Setting `save_embedding_layers` to `True` as the embedding layer has been resized during finetuning.\n",
      "  warnings.warn(\n"
     ]
    }
   ],
   "source": [
    "# Uncomment to save trained model locally\n",
    "\n",
    "# new_model = \"llama-ft\"\n",
    "# trainer.model.save_pretrained(new_model)"
   ]
  },
  {
   "cell_type": "markdown",
   "metadata": {
    "id": "wvm8T-DPRwNS"
   },
   "source": [
    "# Testing SAWYER with SFT Only"
   ]
  },
  {
   "cell_type": "code",
   "execution_count": null,
   "metadata": {},
   "outputs": [
    {
     "name": "stderr",
     "output_type": "stream",
     "text": [
      "Setting `pad_token_id` to `eos_token_id`:128256 for open-end generation.\n"
     ]
    },
    {
     "data": {
      "application/vnd.google.colaboratory.intrinsic+json": {
       "type": "string"
      },
      "text/plain": [
       "'###HUMAN### Who was the first president of the USA? ###BOT### George Washington. ###STOP###'"
      ]
     },
     "execution_count": 46,
     "metadata": {},
     "output_type": "execute_result"
    }
   ],
   "source": [
    "# the model we just trained (not the one we are about to de-serialize)\n",
    "tokenizer.decode(\n",
    "    trainer.model.generate(\n",
    "        **tokenizer(join_convo([['human', \"Who was the first president of the USA?\"]]), return_tensors='pt').to(0),\n",
    "        max_length=64,\n",
    "        eos_token_id=EXTRA_TOKENS['stop_token']['token_id']\n",
    "        )[0]\n",
    "    )"
   ]
  },
  {
   "cell_type": "code",
   "execution_count": null,
   "metadata": {},
   "outputs": [
    {
     "name": "stderr",
     "output_type": "stream",
     "text": [
      "Setting `pad_token_id` to `eos_token_id`:128256 for open-end generation.\n"
     ]
    },
    {
     "data": {
      "application/vnd.google.colaboratory.intrinsic+json": {
       "type": "string"
      },
      "text/plain": [
       "'###HUMAN### hello ###BOT### Hello, how can I help you today? ###STOP###'"
      ]
     },
     "execution_count": 47,
     "metadata": {},
     "output_type": "execute_result"
    }
   ],
   "source": [
    "# the model we just trained (not the one we are about to de-serialize)\n",
    "tokenizer.decode(\n",
    "    trainer.model.generate(\n",
    "        **tokenizer(join_convo([['human', \"hello\"]]), return_tensors='pt').to(0),\n",
    "        max_length=64,\n",
    "        eos_token_id=EXTRA_TOKENS['stop_token']['token_id']\n",
    "        )[0]\n",
    "    )"
   ]
  },
  {
   "cell_type": "code",
   "execution_count": null,
   "metadata": {},
   "outputs": [
    {
     "name": "stdout",
     "output_type": "stream",
     "text": [
      "[[-0.019775390625, -0.00897216796875, 0.00518798828125, 0.0038909912109375, 0.0031890869140625, 0.00732421875, -0.006561279296875, 0.01239013671875, -0.01025390625, -0.003997802734375, -0.0111083984375, -0.0003223419189453125, 0.01141357421875, 0.00066375732421875, -0.004791259765625, 0.00396728515625, -0.0220947265625, -0.00762939453125, 0.0174560546875, 0.00469970703125, 0.00130462646484375, -0.0004425048828125, 0.0054931640625, 0.01092529296875, -0.01312255859375, 1.9311904907226562e-05, 0.005218505859375, -0.0093994140625, 0.005462646484375, -0.010498046875, -0.002593994140625, 0.0203857421875, 0.005859375, 0.013427734375, -0.0072021484375, 0.010009765625, -0.01007080078125, 0.00482177734375, -0.0025787353515625, 0.00299072265625, 0.01416015625, -0.0172119140625, 0.00921630859375, 0.020751953125, 0.00653076171875, 0.01171875, -0.0111083984375, 0.00531005859375, -0.004791259765625, -0.0048828125, -0.005889892578125, 0.01019287109375, -0.00811767578125, 0.004669189453125, 0.00927734375, -0.0021820068359375, -0.0062255859375, 0.00165557861328125, 0.0022735595703125, 0.0155029296875, 0.006256103515625, 0.00616455078125, 0.0079345703125, 0.0189208984375, -0.007568359375, -0.00022792816162109375, -0.0078125, 0.0025634765625, 0.0004749298095703125, 0.00177001953125, 0.0069580078125, -0.004119873046875, -0.00640869140625, -0.00067901611328125, 0.0037841796875, -0.003173828125, -0.0024871826171875, 0.00726318359375, -0.0010986328125, 0.0115966796875, -0.005462646484375, 0.00830078125, 0.004913330078125, -0.01177978515625, -0.008544921875, -0.0128173828125, -0.000469207763671875, -0.0059814453125, -0.01129150390625, -0.0146484375, -0.006927490234375, -0.0208740234375, 0.000865936279296875, -0.0033721923828125, 0.01092529296875, 0.002655029296875, -0.0019989013671875, 0.004974365234375, 0.0126953125, -0.0054931640625, 0.0027008056640625, -0.00457763671875, -0.01007080078125, 0.00165557861328125, 0.001495361328125, 0.0032501220703125, 0.002593994140625, -0.00262451171875, 0.0203857421875, -0.003875732421875, 0.005126953125, 0.003936767578125, 0.005279541015625, -0.0181884765625, 0.024658203125, -0.002777099609375, -0.0150146484375, 0.005096435546875, -0.00787353515625, 0.005157470703125, -0.01080322265625, 0.009033203125, 0.0076904296875, -0.000644683837890625, 0.01556396484375, -0.0013580322265625, 0.00110626220703125, 0.00070953369140625, -0.00787353515625, -0.00372314453125, 0.0089111328125, -0.007659912109375, -0.0078125, 0.005584716796875, -0.00482177734375, 0.01495361328125, -0.0002727508544921875, 0.00066375732421875, -0.0010833740234375, 0.00982666015625, 0.004974365234375, 0.0086669921875, 0.0213623046875, 0.0054931640625, 0.006591796875, -0.0037841796875, -0.00135040283203125, 0.0146484375, -0.011962890625, 0.0029754638671875, -0.004608154296875, -0.0042724609375, -0.0025634765625, -0.00102996826171875, 0.00994873046875, 0.007537841796875, -0.006683349609375, 0.005584716796875, -0.017822265625, -0.0189208984375, 0.01043701171875, 0.003753662109375, -0.0020294189453125, 0.007476806640625, 0.01318359375, -0.004150390625, -0.00086212158203125, -0.00141143798828125, 0.01409912109375, -0.004669189453125, -0.01141357421875, -0.01513671875, -0.0031280517578125, 0.00128936767578125, 0.0106201171875, 0.001495361328125, 0.002838134765625, 0.0120849609375, -0.01287841796875, -0.01007080078125, -0.021240234375, -0.013427734375, 0.000308990478515625, -0.01080322265625, -0.00860595703125, 0.004730224609375, -0.0032958984375, 0.01116943359375, 0.01165771484375, -0.00860595703125, 0.000965118408203125, -0.00390625, 0.0026702880859375, -0.005126953125, 0.00836181640625, -0.0084228515625, -0.0030517578125, -0.00054168701171875, 0.005523681640625, 0.011474609375, 0.006134033203125, 0.0054931640625, 0.0067138671875, -0.00885009765625, 0.005126953125, 0.01312255859375, 0.01031494140625, 0.005523681640625, -0.0027008056640625, -0.0191650390625, 0.003570556640625, 0.004669189453125, 0.0023193359375, 0.00335693359375, 0.0086669921875, 0.0062255859375, -0.0181884765625, -0.0045166015625, 0.00653076171875, -0.0042724609375, -0.00024318695068359375, 0.0074462890625, -0.00909423828125, 0.007720947265625, 0.006561279296875, -0.0185546875, -0.0024566650390625, 0.009521484375, -0.005279541015625, -0.007080078125, -0.0048828125, -0.005126953125, 0.0020751953125, 0.004241943359375, 0.01025390625, 0.0030517578125, 0.0052490234375, -0.00396728515625, 0.009033203125, 0.004302978515625, 0.0181884765625, 0.006805419921875, -0.00531005859375, -0.00811767578125, 0.01611328125, -0.013427734375, 0.0010223388671875, -0.004730224609375, 0.004547119140625, 0.0020751953125, -0.004058837890625, -0.005218505859375, -0.00183868408203125, -0.0050048828125, -0.007354736328125, -0.0011444091796875, -0.00186920166015625, -0.006134033203125, 0.0008697509765625, 0.007354736328125, 0.002105712890625, 0.00177001953125, 0.00408935546875, -0.00176239013671875, -0.0033721923828125, 0.0036468505859375, 0.0238037109375, -0.0002002716064453125, 0.0048828125, 0.003204345703125, 0.0032501220703125, 0.003326416015625, 0.005615234375, -0.007049560546875, -0.005889892578125, 0.00106048583984375, 0.00494384765625, -0.006683349609375, -0.008056640625, 0.005767822265625, 0.00118255615234375, 0.00299072265625, -0.006378173828125, -0.0019683837890625, 0.001190185546875, -0.0084228515625, -0.00170135498046875, -0.003662109375, 0.0147705078125, -0.006500244140625, 0.01263427734375, -0.007293701171875, -0.0089111328125, 0.015869140625, -0.00830078125, 0.007171630859375, 0.00054168701171875, -0.01116943359375, -0.01025390625, -0.0027618408203125, -0.005889892578125, -0.0020599365234375, -0.009033203125, -0.002655029296875, 0.00750732421875, 0.00457763671875, -0.00848388671875, -0.0035552978515625, -0.005950927734375, 0.007354736328125, -0.00555419921875, 0.0054931640625, 0.019775390625, -0.00122833251953125, -0.018310546875, 0.01312255859375, -0.01434326171875, -0.007598876953125, 0.0172119140625, -0.003936767578125, 0.0196533203125, -0.0001926422119140625, -0.0074462890625, 0.00439453125, -0.002044677734375, -0.0166015625, -0.0029296875, -0.01318359375, -0.0009918212890625, 0.013427734375, 0.0111083984375, 0.0128173828125, -0.00634765625, -0.01239013671875, 0.004913330078125, 0.00152587890625, -0.00732421875, -0.01171875, -0.002471923828125, 0.01080322265625, 0.0068359375, 0.01458740234375, -0.000659942626953125, -0.0069580078125, -0.015625, 0.0093994140625, 0.017822265625, -0.0030670166015625, 0.007781982421875, -0.004150390625, 0.00189971923828125, -0.006866455078125, -0.0019683837890625, -0.00439453125, -0.00396728515625, 0.01458740234375, 0.00738525390625, 0.01116943359375, 0.0203857421875, -0.002197265625, -0.0011749267578125, -0.01202392578125, 0.019775390625, 0.005523681640625, -0.0191650390625, 0.00439453125, 0.00142669677734375, -0.00191497802734375, 0.0096435546875, 0.00179290771484375, -0.00732421875, -0.00157928466796875, -0.01007080078125, 0.00164794921875, 0.003448486328125, -0.01416015625, 0.0123291015625, -0.0035858154296875, 0.0146484375, -0.007049560546875, 0.005706787109375, -0.00909423828125, -0.00173187255859375, -0.0157470703125, -0.00176239013671875, 0.0034942626953125, 0.0036163330078125, 0.00494384765625, 0.00101470947265625, -0.016357421875, -0.00836181640625, -0.002685546875, -0.0034942626953125, 0.01806640625, 0.01068115234375, 0.00830078125, 1.7523765563964844e-05, -0.01348876953125, -0.0235595703125, 0.0093994140625, 0.00274658203125, 0.01104736328125, -0.0023040771484375, -0.005859375, 0.005889892578125, 0.0003795623779296875, 0.005584716796875, 0.006103515625, 0.00016021728515625, 0.004486083984375, 0.007080078125, -0.000530242919921875, 0.0019989013671875, -0.0111083984375, 0.003173828125, 0.01025390625, 0.00567626953125, -0.024169921875, 0.00701904296875, 0.0035400390625, 0.004730224609375, 0.00921630859375, -0.0031280517578125, 0.00030517578125, -0.00104522705078125, -0.00494384765625, 0.0059814453125, 0.004913330078125, -0.007537841796875, 0.01104736328125, -0.0230712890625, -0.01275634765625, -0.01165771484375, 0.0020294189453125, -0.00150299072265625, 0.01043701171875, -0.00518798828125, -0.00156402587890625, -0.0031280517578125, -0.00408935546875, -0.01385498046875, 0.00567626953125, -0.004364013671875, -0.0086669921875, -0.00445556640625, -0.0201416015625, 0.00531005859375, 0.0004520416259765625, -0.00860595703125, -0.0126953125, -0.006591796875, 0.00101470947265625, 0.00982666015625, -0.005615234375, 0.004974365234375, 0.017333984375, 0.0023956298828125, -0.004119873046875, -0.00634765625, 0.007476806640625, -0.002593994140625, -0.0035400390625, -0.0029296875, -0.00341796875, 0.006622314453125, -0.003448486328125, 0.01202392578125, -0.0086669921875, -0.00787353515625, 0.00653076171875, -0.00726318359375, -0.0010986328125, 0.001678466796875, 0.0107421875, -0.0019989013671875, -0.01953125, 0.0038604736328125, -0.005523681640625, -0.000644683837890625, 0.0111083984375, 0.00616455078125, 0.00072479248046875, -0.00933837890625, 0.00061798095703125, 0.01708984375, 0.003448486328125, -0.0084228515625, -0.003173828125, 0.00131988525390625, 0.0125732421875, 0.0164794921875, -0.000499725341796875, 0.000640869140625, -0.01092529296875, -0.0072021484375, -0.000843048095703125, 0.0115966796875, 0.01318359375, -0.005126953125, -0.01025390625, 0.003173828125, -0.006622314453125, 0.010009765625, -0.0145263671875, 0.00225830078125, -0.005584716796875, -0.006378173828125, 0.0027923583984375, 0.00921630859375, 0.00811767578125, -0.007110595703125, -0.0020751953125, 0.000965118408203125, 0.0079345703125, 0.0152587890625, -0.004669189453125, 0.0133056640625, 4.976987838745117e-06, 0.00098419189453125, -0.00113677978515625, -0.01043701171875, -0.0234375, -0.006072998046875, -0.0010528564453125, 0.00046539306640625, -0.009521484375, -0.005767822265625, -0.0086669921875, -0.007171630859375, 0.006683349609375, 0.00054931640625, -0.000568389892578125, 0.0074462890625, -0.01708984375, -0.0091552734375, -0.01019287109375, -0.0240478515625, -0.01080322265625, -0.0036468505859375, -0.004730224609375, 0.0004291534423828125, -0.000202178955078125, 0.00191497802734375, 0.0086669921875, -0.006317138671875, 0.00958251953125, 0.0181884765625, 0.01220703125, 0.0140380859375, -0.000583648681640625, 0.0062255859375, 0.01806640625, -0.0008544921875, -0.006744384765625, -0.001953125, 0.0084228515625, 0.01031494140625, 0.0128173828125, -0.00182342529296875, -0.01220703125, 0.010009765625, 0.008544921875, -0.00543212890625, -5.173683166503906e-05, 0.00927734375, -0.01361083984375, 0.00921630859375, 0.0024566650390625, -0.01397705078125, 0.0038299560546875, -0.00811767578125, 0.00341796875, -0.003021240234375, 0.00665283203125, -0.000942230224609375, 0.01165771484375, -0.00701904296875, -0.001953125, -0.01519775390625, 0.01513671875, 0.000621795654296875, 0.0026092529296875, 0.004669189453125, -0.019775390625, 0.0140380859375, 0.00640869140625, -0.00323486328125, 0.003326416015625, -0.0003910064697265625, 0.0013885498046875, -0.01470947265625, -0.0125732421875, 0.00020885467529296875, 0.004425048828125, -0.015869140625, -0.0091552734375, -0.006683349609375, 0.003265380859375, -0.0233154296875, 0.0064697265625, 0.013427734375, 0.00144195556640625, 0.00628662109375, 0.0034637451171875, 0.000244140625, -0.0185546875, -0.00860595703125, -0.00421142578125, 0.004486083984375, 0.0062255859375, -0.00238037109375, -0.006378173828125, -0.0047607421875, -0.0135498046875, 0.00579833984375, 0.0004863739013671875, 0.0096435546875, -0.00138092041015625, -0.00115203857421875, 0.00909423828125, -0.004058837890625, 0.0079345703125, 0.010009765625, 0.0040283203125, 0.0067138671875, 0.00323486328125, -0.00165557861328125, 0.018798828125, 0.004852294921875, -0.000152587890625, 0.0026397705078125, 0.006439208984375, -0.0033416748046875, 0.0052490234375, -0.004852294921875, -0.00506591796875, 0.006317138671875, 0.005950927734375, -0.012939453125, 0.00640869140625, 0.00677490234375, -0.01043701171875, 0.020751953125, 0.00927734375, -0.0028076171875, 0.0247802734375, -0.010986328125, -0.01129150390625, -0.0159912109375, -0.00677490234375, 9.584426879882812e-05, 0.0067138671875, -0.0027923583984375, -0.003173828125, 0.001373291015625, -0.006256103515625, 0.00390625, -0.005401611328125, -0.002685546875, -0.004150390625, 0.00531005859375, 0.007415771484375, -0.00457763671875, -0.00970458984375, -0.0007476806640625, -0.012939453125, -0.0069580078125, -0.004791259765625, -0.000537872314453125, -0.001190185546875, 0.0101318359375, 0.0030975341796875, 0.00151824951171875, -0.000396728515625, -0.01806640625, 0.000820159912109375, -0.01080322265625, -0.001861572265625, -0.005889892578125, 0.0005645751953125, 0.0045166015625, 0.00341796875, 0.004974365234375, 0.0115966796875, -0.0062255859375, -0.0067138671875, -0.014892578125, -0.00750732421875, -0.0030975341796875, 0.00579833984375, 0.002593994140625, -0.0096435546875, -0.00125885009765625, 0.00020122528076171875, 0.00421142578125, -0.00555419921875, -0.0014190673828125, 0.01904296875, -0.01068115234375, 0.0002002716064453125, -0.00244140625, 0.00128936767578125, 0.01055908203125, 8.630752563476562e-05, -0.005218505859375, -0.004730224609375, 6.765127182006836e-06, -0.004669189453125, -0.011962890625, 0.003021240234375, 0.003631591796875, -0.0184326171875, -0.0140380859375, 0.0174560546875, -0.005126953125, -0.009033203125, -0.019775390625, -0.00177001953125, -0.010009765625, 5.078315734863281e-05, -0.0002765655517578125, -0.005340576171875, 0.01031494140625, -0.0120849609375, 0.004913330078125, -0.0181884765625, 0.005584716796875, 0.0030975341796875, -0.007476806640625, -0.01519775390625, 0.01214599609375, 0.000438690185546875, -0.0020904541015625, -0.003387451171875, 0.0281982421875, -0.01275634765625, 0.00518798828125, 0.00933837890625, -0.01263427734375, -0.0164794921875, 0.002471923828125, -0.0027618408203125, -0.013671875, 0.0098876953125, -0.00157928466796875, -0.01104736328125, -0.00010061264038085938, -0.00299072265625, 0.004119873046875, -0.005767822265625, 0.00109100341796875, -0.00168609619140625, -0.0133056640625, 0.002471923828125, 0.000972747802734375, 0.002105712890625, -0.0035858154296875, 9.489059448242188e-05, -0.00897216796875, 0.004364013671875, 0.01068115234375, -0.0015716552734375, -0.00909423828125, 0.00506591796875, 0.004486083984375, -0.00909423828125, -0.00494384765625, 0.003997802734375, 0.01123046875, 0.007415771484375, -0.005279541015625, -0.00762939453125, 0.000804901123046875, -0.002044677734375, -0.00537109375, 0.0111083984375, 0.004302978515625, -0.00860595703125, 0.01904296875, -0.01239013671875, 0.01239013671875, -0.004638671875, 0.000102996826171875, -0.003204345703125, 0.008056640625, 0.0054931640625, -0.00848388671875, 0.01068115234375, -0.0079345703125, -0.006439208984375, -0.00933837890625, -0.0211181640625, -0.00616455078125, -0.0078125, -0.006988525390625, -0.00531005859375, 0.0059814453125, -0.00567626953125, -0.00494384765625, 0.000492095947265625, -0.003692626953125, -0.00148773193359375, -0.01031494140625, 0.0002956390380859375, -0.017333984375, -0.00089263916015625, -0.0030975341796875, -0.005706787109375, -0.00653076171875, -0.00567626953125, -0.007232666015625, -0.01031494140625, 0.00579833984375, 0.0057373046875, 0.016357421875, 0.001617431640625, -0.005828857421875, -0.0030517578125, -0.007080078125, -0.004852294921875, -0.0038604736328125, 0.00482177734375, -0.0016021728515625, 0.0003948211669921875, -0.01123046875, 0.012451171875, -0.0003337860107421875, -0.005950927734375, 0.006988525390625, -0.0022430419921875, 0.00066375732421875, 0.0181884765625, -0.00921630859375, 0.0079345703125, 0.01092529296875, -0.001800537109375, -0.00482177734375, 0.0087890625, 0.00124359130859375, 0.01507568359375, 0.0128173828125, 0.006317138671875, -0.0087890625, -0.0181884765625, -0.0038604736328125, 0.0029144287109375, -0.00506591796875, -0.017578125, -0.00156402587890625, 0.00095367431640625, 0.0030517578125, 0.00531005859375, -0.0032806396484375, -0.0201416015625, 0.002227783203125, -0.00909423828125, 0.01177978515625, 0.007080078125, -0.019775390625, -0.010009765625, -0.01806640625, 0.01104736328125, -0.006866455078125, -0.009033203125, 0.003997802734375, -0.00738525390625, 0.005035400390625, -0.003753662109375, -0.01171875, -0.0028228759765625, -0.005523681640625, 0.021728515625, -0.004486083984375, -0.000896453857421875, -0.0002880096435546875, -0.00156402587890625, -0.00051116943359375, -0.00189208984375, 0.00176239013671875, -0.00537109375, 0.0011749267578125, 0.0019073486328125, -0.01055908203125, 0.00262451171875, -0.00909423828125, -0.00531005859375, -0.005126953125, 0.011962890625, 0.0128173828125, -0.00665283203125, 0.002532958984375, 0.006500244140625, -0.0087890625, 0.00634765625, -0.01123046875, 0.00121307373046875, -0.0081787109375, 0.00054931640625, -0.0036773681640625, 0.00921630859375, 0.00775146484375, 0.000766754150390625, 0.0093994140625, -0.00506591796875, -0.006927490234375, 0.003875732421875, 0.001556396484375, 0.005035400390625, -0.00154876708984375, 0.01104736328125, 0.005096435546875, 0.007080078125, 0.005462646484375, -0.00092315673828125, 0.019775390625, 0.0264892578125, 0.00135040283203125, -0.00122833251953125, -0.0003948211669921875, -0.00634765625, 0.0194091796875, 0.003570556640625, -0.00445556640625, 0.00604248046875, -0.0123291015625, 0.007293701171875, 0.00726318359375, 0.017333984375, -0.00225830078125, -0.004852294921875, 0.0034332275390625, 0.0189208984375, 0.00531005859375, 0.003570556640625, 0.004119873046875, 0.01129150390625, -0.0001125335693359375, -0.002685546875, 0.004913330078125, -0.0064697265625, 0.00677490234375, 0.011474609375, 0.004150390625, 0.006744384765625, -0.01165771484375, 0.01019287109375, -0.009765625, 0.0108642578125, 0.0052490234375, -0.0128173828125, 0.0167236328125, -0.002166748046875, -0.00179290771484375, -0.0015106201171875, -0.01251220703125, 0.01251220703125, -0.007598876953125, 0.01104736328125, -0.006988525390625, 0.000576019287109375, 0.0023193359375, 0.002410888671875, -0.0023193359375, 0.004608154296875, -0.0084228515625, 0.000522613525390625, 0.0004749298095703125, 0.0036163330078125, -0.003326416015625, -0.01361083984375, -0.004150390625, -0.00482177734375, 0.0035400390625, -0.0089111328125, -0.017333984375, -0.01239013671875, 0.0057373046875, -0.0150146484375, 0.01153564453125, -0.0030975341796875, -0.007659912109375, 0.0034942626953125, -0.00927734375, -0.00811767578125, -0.01214599609375, -0.003509521484375, -0.002044677734375, 0.0220947265625, 0.0038604736328125, -0.004638671875, -0.001922607421875, -0.00157928466796875, -0.01019287109375, 0.0142822265625, -0.00909423828125, 0.004486083984375, 0.0052490234375, -0.004669189453125, 0.000396728515625, -0.015625, -0.0093994140625, 0.005767822265625, 0.00103759765625, -0.006591796875, -0.004638671875, -0.006744384765625, -0.0106201171875, 0.000598907470703125, 0.00457763671875, 0.00994873046875, -0.00933837890625, 0.00177001953125, -0.0018310546875, -0.00106048583984375, -0.0029449462890625, 0.0111083984375, 0.000579833984375, -0.001678466796875, 0.0036163330078125, 0.00970458984375, 0.0086669921875, -0.00421142578125, 0.0004825592041015625, -0.006317138671875, 0.00799560546875, 0.0003948211669921875, -0.01116943359375, 0.01104736328125, -0.00665283203125, 1.2934207916259766e-05, -0.00537109375, 0.00225830078125, 0.0181884765625, 0.0037078857421875, 0.01007080078125, -0.00145721435546875, 0.005584716796875, -0.00537109375, 0.01287841796875, 0.0033721923828125, 0.0133056640625, -0.007049560546875, 0.0028228759765625, 0.007354736328125, -0.005401611328125, 0.00323486328125, -0.00567626953125, 0.002471923828125, 0.00738525390625, -0.00274658203125, 0.004638671875, -0.00136566162109375, -0.00494384765625, -0.002197265625, -0.0052490234375, -0.011962890625, 0.00750732421875, 0.003692626953125, 0.017822265625, -0.00119781494140625, -0.007476806640625, -0.0048828125, 0.003448486328125, -0.0021514892578125, -0.0078125, 0.00341796875, 0.0021820068359375, 0.01080322265625, -0.0067138671875, 0.015625, -0.00439453125, 0.0028228759765625, -0.003448486328125, 0.018310546875, -0.0023040771484375, 0.003509521484375, -0.0128173828125, 0.0062255859375, 0.00872802734375, -0.01055908203125, 0.0074462890625, -0.00153350830078125, 0.00323486328125, 0.005279541015625, -0.0028076171875, -0.006256103515625, -0.000972747802734375, 0.0027923583984375, -0.004119873046875, -0.006744384765625, 0.0018157958984375, -0.007598876953125, 0.0032196044921875, 0.00897216796875, 0.000762939453125, -0.0076904296875, 0.0015106201171875, -0.0167236328125, 0.01171875, 0.004425048828125, -0.01409912109375, -0.013916015625, 0.007598876953125, -0.00787353515625, -0.0189208984375, 0.004608154296875, 0.005767822265625, 0.006439208984375, 0.005096435546875, 0.004241943359375, -0.00250244140625, -0.014892578125, 0.002227783203125, 0.01373291015625, -0.00174713134765625, -0.00122833251953125, 0.0008087158203125, -0.01202392578125, 0.005340576171875, 0.0029144287109375, -0.00445556640625, -0.011474609375, -0.0107421875, -0.002593994140625, -0.00238037109375, 0.015869140625, 0.02392578125, 0.0091552734375, -0.00518798828125, -0.0030059814453125, -0.00933837890625, -0.0029449462890625, 0.0145263671875, -0.0018463134765625, -0.01226806640625, -0.00567626953125, -0.0076904296875, -0.00103759765625, -0.00738525390625, 0.0150146484375, 0.0017852783203125, -0.0025787353515625, -0.005645751953125, -0.005950927734375, -0.00823974609375, -0.00494384765625, 0.003509521484375, -0.0003643035888671875, -0.0033721923828125, 0.0145263671875, 0.00823974609375, -0.007080078125, 0.007568359375, 0.010986328125, 0.005950927734375, 0.0054931640625, -0.001678466796875, -0.001983642578125, 0.0029296875, -0.00775146484375, 0.00830078125, -0.0133056640625, 0.01531982421875, 0.01434326171875, 0.0084228515625, 0.00653076171875, -0.004547119140625, -0.009765625, 0.00396728515625, -0.01397705078125, -0.000682830810546875, 0.005615234375, 0.002655029296875, -0.01300048828125, -0.01116943359375, 0.0157470703125, 0.007568359375, -0.000164031982421875, 0.0037689208984375, -0.01397705078125, -0.000232696533203125, -0.005157470703125, 0.01043701171875, 0.0067138671875, -0.006195068359375, 0.00064849853515625, -0.0006561279296875, -0.005859375, 0.00183868408203125, 0.0238037109375, 0.0007781982421875, -0.00994873046875, -0.00136566162109375, -0.000698089599609375, -0.010498046875, -0.007354736328125, -0.00537109375, -0.0004138946533203125, -0.015625, 0.00070953369140625, 0.0084228515625, -0.0031585693359375, -0.006744384765625, 0.01043701171875, 0.004180908203125, -0.0181884765625, -0.000400543212890625, -0.005615234375, -0.003662109375, -0.00701904296875, 0.0034027099609375, 0.00286865234375, 0.00933837890625, 0.004302978515625, 0.004058837890625, -0.0091552734375, -0.01165771484375, -0.0093994140625, 0.0016326904296875, 0.0015869140625, -0.009521484375, 0.00689697265625, -0.0091552734375, 0.00384521484375, 0.005401611328125, -0.004180908203125, -0.0020751953125, -0.003448486328125, 0.005950927734375, 0.00555419921875, -0.00653076171875, 0.001678466796875, 0.0086669921875, 0.0108642578125, -0.00469970703125, 0.005218505859375, -0.01239013671875, -0.0157470703125, 0.018310546875, -0.0023651123046875, 0.0028839111328125, 0.0174560546875, -0.00347900390625, 0.004547119140625, 0.00927734375, -0.00439453125, 0.0025787353515625, -0.004852294921875, -0.001434326171875, -0.0091552734375, -0.00836181640625, 0.0034027099609375, -0.003936767578125, 0.007537841796875, 0.0013580322265625, 0.004150390625, -0.0084228515625, 0.00811767578125, 0.00311279296875, -0.0014190673828125, -0.01177978515625, 0.0194091796875, 0.012451171875, -0.0169677734375, 0.00921630859375, -0.0103759765625, 0.006378173828125, -0.007110595703125, 0.0052490234375, 0.0045166015625, 0.01165771484375, -0.00860595703125, 0.00830078125, -0.000797271728515625, 0.004608154296875, -0.014404296875, -0.00092315673828125, -0.007232666015625, 0.01519775390625, -0.00537109375, -0.00118255615234375, -0.00457763671875, 0.0013275146484375, -0.00799560546875, -0.0038299560546875, 0.0213623046875, -0.01177978515625, 0.0018310546875, 0.015625, 0.005340576171875, -0.007354736328125, 0.00020122528076171875, 0.0118408203125, -0.000827789306640625, 0.0201416015625, 0.0023040771484375, -0.015380859375, -0.00811767578125, 0.005218505859375, 0.00103759765625, -0.00848388671875, 0.01019287109375, -0.00017547607421875, -0.0038299560546875, 0.00110626220703125, 0.000484466552734375, -0.006378173828125, 0.0011749267578125, -0.00982666015625, -0.01123046875, 0.01019287109375, 0.000347137451171875, -0.0166015625, -0.004119873046875, 0.000705718994140625, -0.0030517578125, -0.0018157958984375, -0.00579833984375, -0.01141357421875, -0.0027923583984375, -0.01318359375, -0.002044677734375, 0.005767822265625, 0.0026702880859375, 0.0120849609375, 0.005706787109375, -0.017578125, 0.0191650390625, 0.0076904296875, 0.00616455078125, -0.00010824203491210938, -0.006866455078125, 0.0012664794921875, -0.0079345703125, -0.0013427734375, 0.00738525390625, -0.00921630859375, 0.007232666015625, -0.013671875, 0.0029144287109375, -0.00010728836059570312, -0.00347900390625, -0.0052490234375, 0.0166015625, 0.00092315673828125, -0.00970458984375, -0.0048828125, 0.003509521484375, 0.0118408203125, 0.0002841949462890625, -0.004486083984375, 3.4332275390625e-05, 0.00885009765625, -0.018310546875, 0.00885009765625, -0.007537841796875, 0.005279541015625, -0.002716064453125, -0.0150146484375, -0.0157470703125, 0.00107574462890625, 0.000621795654296875, -0.007537841796875, 0.00469970703125, -0.001678466796875, 0.00286865234375, -0.0113525390625, 0.00439453125, -0.00933837890625, 0.0029144287109375, 0.000446319580078125, -0.0037078857421875, 0.0126953125, 0.00738525390625, -0.0025177001953125, -0.00106048583984375, -0.004119873046875, 0.000499725341796875, -0.00103759765625, 0.005615234375, -0.00830078125, -0.0032806396484375, 0.00732421875, -0.0003185272216796875, -0.004302978515625, -0.006134033203125, 0.01171875, -0.00872802734375, 0.0005340576171875, 0.003143310546875, 0.010986328125, 0.0098876953125, -0.00054931640625, -0.012939453125, 0.004547119140625, -0.0086669921875, 0.0028228759765625, 0.000972747802734375, 0.003631591796875, -0.01123046875, -0.01141357421875, 0.0013275146484375, -0.00982666015625, -0.0025634765625, -0.00787353515625, 0.00543212890625, -0.0033721923828125, -0.000591278076171875, 0.003997802734375, 0.0087890625, -0.0023193359375, -0.01141357421875, 0.00518798828125, 0.0020751953125, -0.0079345703125, -0.00665283203125, -0.0081787109375, -0.005828857421875, -0.0027008056640625, -0.01336669921875, 0.0086669921875, -0.004425048828125, -0.0126953125, -0.01165771484375, 0.0089111328125, -0.006805419921875, 0.004180908203125, 0.00518798828125, -0.0010986328125, -0.006439208984375, 0.0024566650390625, 0.01190185546875, -0.01263427734375, -0.0086669921875, 0.01513671875, 0.00347900390625, -0.01470947265625, 0.0009307861328125, -0.005035400390625, 0.0029754638671875, -0.006103515625, 0.01336669921875, -0.005615234375, 0.00970458984375, -0.0086669921875, -0.0167236328125, 0.004180908203125, -0.0108642578125, -0.00335693359375, -0.00634765625, 0.00726318359375, -0.00286865234375, -0.01300048828125, -0.000675201416015625, -0.00933837890625, 0.011474609375, -0.006744384765625, -0.01104736328125, -0.01043701171875, -0.01416015625, 0.009765625, -0.007476806640625, -0.0146484375, -0.00077056884765625, 0.01287841796875, -0.002593994140625, 0.0130615234375, 0.003875732421875, 0.000659942626953125, -0.006103515625, 0.000545501708984375, 0.00189971923828125, -0.001617431640625, -0.002532958984375, 0.00439453125, -0.0024871826171875, -0.000537872314453125, -0.00482177734375, -0.00102996826171875, -0.00113677978515625, -0.007232666015625, -0.003204345703125, -0.0069580078125, 0.00110626220703125, 0.011474609375, -0.01409912109375, -0.031005859375, -0.003387451171875, 0.0032958984375, 0.016357421875, 0.00848388671875, -0.00701904296875, -0.002349853515625, -0.00390625, -0.0086669921875, 0.0030364990234375, -0.0020599365234375, -0.0015411376953125, 0.003387451171875, -0.002960205078125, -0.00101470947265625, -0.0031585693359375, -0.004669189453125, -6.723403930664062e-05, -0.00921630859375, 0.00946044921875, 0.006439208984375, 0.01068115234375, -0.0155029296875, 0.006927490234375, -0.006256103515625, -0.0098876953125, -0.00106048583984375, 0.00360107421875, 0.00634765625, -0.000823974609375, -0.010986328125, -0.0004863739013671875, -0.008544921875, 0.005523681640625, -0.001129150390625, 0.01019287109375, -0.00921630859375, -0.004364013671875, -0.009521484375, -0.01348876953125, 0.01019287109375, -0.00994873046875, 0.00714111328125, -0.00921630859375, 0.0029449462890625, 0.0076904296875, 0.00604248046875, -0.00135040283203125, -0.0157470703125, -0.01129150390625, -0.005645751953125, 0.002655029296875, -0.006103515625, 0.0009918212890625, 0.0162353515625, 0.0032958984375, 0.018310546875, -0.005096435546875, -0.0096435546875, -0.00933837890625, 0.00799560546875, -0.0118408203125, -0.00176239013671875, 0.003662109375, 0.00433349609375, 0.00148773193359375, -0.01544189453125, -0.01165771484375, -0.003875732421875, 0.0091552734375, 0.0015716552734375, 0.0167236328125, -0.00010061264038085938, 0.0020904541015625, -0.005859375, 0.00994873046875, -0.00128936767578125, 0.005645751953125, -0.0029449462890625, -0.0002460479736328125, -0.00439453125, -0.000965118408203125, 0.0015411376953125, 0.0096435546875, -0.00091552734375, -0.007537841796875, 0.007293701171875, -0.0013580322265625, -0.00469970703125, 0.0125732421875, -0.0108642578125, 0.0240478515625, 0.004058837890625, -0.00069427490234375, 0.021728515625, 0.01043701171875, -0.0025177001953125, 0.01080322265625, -0.003448486328125, -0.004364013671875, -0.00823974609375, -0.005096435546875, -0.0137939453125, 0.0029296875, -0.019287109375, -0.00823974609375, -0.003997802734375, 0.00482177734375, 0.0037078857421875, 0.014892578125, 1.609325408935547e-05, 0.006683349609375, 0.013671875, 0.01019287109375, -0.0004749298095703125, 0.004852294921875, -0.00014972686767578125, 0.000904083251953125, -0.00830078125, 0.005157470703125, 0.0185546875, 0.005584716796875, 0.005584716796875, -0.0034942626953125, 0.0194091796875, 0.0020599365234375, 0.00144195556640625, 0.00921630859375, -0.01025390625, 0.00250244140625, -0.00010728836059570312, 0.007781982421875, -0.006439208984375, 0.0023345947265625, -0.005523681640625, 0.01531982421875, 0.0032806396484375, -0.021484375, 0.00457763671875, 0.0050048828125, 0.00131988525390625, 0.00186920166015625, -0.0252685546875, 0.003387451171875, 0.00640869140625, 0.01611328125, -0.00897216796875, 0.0027618408203125, 0.004364013671875, 0.000637054443359375, 0.0208740234375, -0.0155029296875, -0.006805419921875, 0.0103759765625, -0.01611328125, -0.0016937255859375, -0.0001239776611328125, 0.0135498046875, -0.005706787109375, -0.00286865234375, 0.0062255859375, -0.011962890625, -0.0098876953125, -0.005615234375, 0.00125885009765625, 0.010986328125, 0.0052490234375, 0.0023651123046875, 0.009033203125, -0.0054931640625, -0.000415802001953125, 0.0062255859375, -0.00506591796875, -0.0076904296875, 0.0111083984375, 0.00103759765625, 0.007415771484375, -0.00024318695068359375, 0.000858306884765625, -0.0133056640625, -0.0177001953125, 0.007293701171875, -0.005157470703125, 0.01116943359375, 0.00360107421875, 0.0034942626953125, -0.018798828125, -0.000316619873046875, 0.0067138671875, -0.00531005859375, 0.0026092529296875, -0.000499725341796875, 0.018310546875, -0.004638671875, 0.019287109375, 0.003387451171875, 0.01177978515625, -0.0186767578125, 0.0098876953125, -0.0013275146484375, -0.015380859375, -0.016357421875, -0.00567626953125, -0.006561279296875, -0.008544921875, 0.004730224609375, -0.00823974609375, 0.010009765625, -0.01068115234375, -0.00531005859375, 0.002838134765625, 0.00823974609375, -0.006256103515625, 0.01104736328125, 0.00634765625, 0.0123291015625, -0.0003108978271484375, 0.0167236328125, -0.015625, 0.00191497802734375, -0.001373291015625, -0.00286865234375, 0.00130462646484375, -0.0015106201171875, 0.0029754638671875, 0.00970458984375, -0.00119781494140625, -0.00579833984375, 0.004486083984375, 0.01043701171875, -0.00860595703125, -0.0107421875, -0.0027008056640625, -0.0072021484375, 0.00823974609375, 0.002044677734375, 0.019287109375, 0.004638671875, 0.00592041015625, -0.0078125, -0.00439453125, 0.00860595703125, -0.001495361328125, -0.0031890869140625, 0.0024871826171875, -0.0005950927734375, 0.005218505859375, -0.01373291015625, -0.0033721923828125, 0.01129150390625, -0.01123046875, 0.00732421875, -0.00848388671875, -0.000278472900390625, -0.00909423828125, -0.0004482269287109375, 0.004180908203125, 0.004302978515625, 0.00194549560546875, -0.003021240234375, 0.0225830078125, -0.00142669677734375, -0.005767822265625, -0.00738525390625, -0.006683349609375, 0.0034637451171875, -0.00494384765625, 0.00133514404296875, -0.00099945068359375, 0.0040283203125, 0.00119781494140625, -0.0012054443359375, -0.00408935546875, -0.005889892578125, -0.0107421875, -0.00457763671875, 0.007110595703125, -0.002716064453125, -0.00616455078125, -0.0022430419921875, -0.013916015625, 0.01031494140625, 0.007781982421875, -0.008056640625, 0.00927734375, -0.0038604736328125, 0.00640869140625, -0.008056640625, -0.00104522705078125, 0.00836181640625, 0.01171875, -0.01422119140625, 0.00946044921875, 0.007781982421875, 0.0028533935546875, -0.01043701171875, 8.535385131835938e-05, -0.006591796875, -0.01385498046875, -0.00244140625, 0.0034332275390625, 0.00341796875, 0.00634765625, -0.0196533203125, 0.0103759765625, -0.007598876953125, -0.002655029296875, -0.000537872314453125, 0.00885009765625, 0.0004291534423828125, 0.011474609375, -0.002227783203125, -0.01385498046875, 0.004638671875, -0.00518798828125, -0.00023651123046875, -0.0169677734375, 0.013916015625, 0.00360107421875, -0.0166015625, 0.00145721435546875, -0.013427734375, -0.00830078125, 0.005157470703125, -0.009521484375, -0.0120849609375, -0.00054931640625, 0.004913330078125, -0.0169677734375, 0.003173828125, -0.0123291015625, -0.00119781494140625, 0.00010156631469726562, 0.00946044921875, 0.0029449462890625, 0.01446533203125, -0.010986328125, -0.0034027099609375, 0.005584716796875, -0.00775146484375, 0.003936767578125, 0.00421142578125, -0.001312255859375, 0.006256103515625, 0.001220703125, 0.0028839111328125, -0.018798828125, 0.00775146484375, -0.00714111328125, 0.0008087158203125, -0.00726318359375, 0.0107421875, 0.01129150390625, 0.00469970703125, 0.0098876953125, 0.004608154296875, 0.01007080078125, 7.581710815429688e-05, -0.00531005859375, 0.006500244140625, 0.0045166015625, -0.00107574462890625, -0.0093994140625, -0.002166748046875, -0.006683349609375, -0.0024566650390625, 0.0125732421875, 0.0035400390625, 0.0140380859375, 0.006195068359375, -0.0033416748046875, 0.00653076171875, 0.004638671875, 0.002716064453125, -0.0062255859375, -0.01116943359375, 0.00592041015625, 0.00115966796875, 0.00372314453125, 0.001739501953125, 0.00482177734375, -0.0106201171875, -0.01055908203125, 0.005279541015625, -0.00010442733764648438, -0.00016307830810546875, -0.01123046875, -0.0159912109375, 0.00058746337890625, -0.007476806640625, 0.0036468505859375, 0.0166015625, -0.01324462890625, 4.00543212890625e-05, 0.00518798828125, 0.00012683868408203125, -0.00408935546875, 0.01165771484375, -0.00970458984375, 0.00112152099609375, 0.00034332275390625, -0.002349853515625, 0.002532958984375, 0.00762939453125, -0.0034637451171875, -0.0108642578125, 0.006500244140625, -0.006011962890625, 0.01043701171875, 0.004974365234375, -7.724761962890625e-05, -0.005584716796875, -0.013427734375, 0.0107421875, -0.0126953125, 0.0009765625, -0.006866455078125, 0.004302978515625, -0.002227783203125, 0.00506591796875, -0.00128936767578125, -0.01190185546875, 0.0009918212890625, -0.00823974609375, -0.004913330078125, -0.004150390625, -0.003173828125, 0.0208740234375, 0.00970458984375, 0.0113525390625, 0.0047607421875, 0.01214599609375, 0.000823974609375, -0.004302978515625, -0.005767822265625, 0.013671875, -0.01446533203125, -0.000812530517578125, 0.007080078125, -0.0079345703125, 0.00341796875, -0.00567626953125, -0.00909423828125, -0.005340576171875, 0.00189971923828125, 0.004302978515625, 0.01318359375, -0.00121307373046875, 0.0013427734375, 0.004974365234375, 0.00135040283203125, 0.00323486328125, 0.0142822265625, 0.00127410888671875, -0.007110595703125, 0.01043701171875, 0.0022125244140625, 0.0040283203125, -0.002349853515625, -0.014404296875, 0.007537841796875, 0.00537109375, -0.0019989013671875, 0.00738525390625, 0.002349853515625, 0.0017547607421875, -0.002105712890625, -0.0177001953125, 0.0023651123046875, -0.0135498046875, 0.0084228515625, 0.005096435546875, -0.00146484375, -0.005279541015625, -0.000701904296875, -0.002593994140625, 0.01251220703125, -0.004669189453125, 0.01080322265625, 0.006622314453125, -0.000759124755859375, 0.00445556640625, 0.0018768310546875, 0.0113525390625, 0.00421142578125, 0.007110595703125, 0.0048828125, -0.01324462890625, -0.0115966796875, 0.0006866455078125, 0.0042724609375, -0.00860595703125, -0.01416015625, 0.00194549560546875, -0.00469970703125, -0.0018463134765625, 0.005279541015625, -0.0113525390625, 0.0076904296875, 0.00494384765625, -0.0032501220703125, -0.00872802734375, -0.0087890625, 0.00433349609375, -0.00634765625, -0.002655029296875, -0.018798828125, 0.00482177734375, -0.00616455078125, 0.00634765625, 0.01483154296875, -0.00145721435546875, -0.0084228515625, 0.0211181640625, 0.01324462890625, 0.01263427734375, 0.00162506103515625, -0.0042724609375, -0.000823974609375, 0.023681640625, -0.005645751953125, -0.005645751953125, 0.001800537109375, -0.005828857421875, 0.004791259765625, 0.002960205078125, 0.0034027099609375, -0.006866455078125, -0.00173187255859375, -0.007110595703125, -0.0018310546875, 0.004119873046875, -0.0093994140625, -0.0030059814453125, -0.01092529296875, -0.0020599365234375, -0.0015106201171875, -0.0038604736328125, -0.00946044921875, 0.0040283203125, 0.00994873046875, 0.00445556640625, -0.0015106201171875, -0.0172119140625, 0.021728515625, 0.016845703125, 0.01129150390625, -0.0103759765625, -0.00095367431640625, 0.023681640625, -0.0096435546875, -0.01373291015625, 0.004486083984375, 0.0050048828125, -0.004669189453125, -0.01068115234375, -0.010009765625, 0.0027313232421875, -0.0186767578125, 0.002899169921875, 0.00543212890625, -0.00537109375, -0.00213623046875, -0.008056640625, 0.005584716796875, 0.011962890625, -0.0018157958984375, 0.0118408203125, -0.0017852783203125, -0.000347137451171875, -0.00151824951171875, 0.007171630859375, 0.002777099609375, 0.02001953125, 0.007415771484375, 0.0037841796875, -0.004241943359375, 0.01287841796875, 0.00433349609375, 0.006744384765625, 0.0023040771484375, 0.0084228515625, -0.0031890869140625, -0.001953125, 0.002288818359375, 0.003204345703125, -0.0019989013671875, -0.001251220703125, -0.0035552978515625, -0.0203857421875, -0.0003223419189453125, 0.0028533935546875, -0.00115966796875, 0.006805419921875, 0.0012054443359375, -0.002685546875, 0.01806640625, -0.00390625, -0.0017547607421875, 0.00177001953125, 0.01068115234375, 0.01031494140625, 0.004119873046875, -0.005706787109375, 0.000244140625, -0.0233154296875, -0.0034942626953125, 0.000804901123046875, -5.4836273193359375e-05, -0.0145263671875, -0.0027923583984375, 0.016357421875, 0.0028533935546875, 0.01806640625, 0.003143310546875, 0.00121307373046875, 0.00665283203125, 0.006439208984375, 0.0026092529296875, 0.00138092041015625, -0.00848388671875, 0.0022430419921875, -0.005950927734375, -0.001922607421875, -0.006011962890625, 0.0191650390625, -0.006256103515625, -0.007568359375, 0.01019287109375, 0.00799560546875, 0.00173187255859375, -0.007049560546875, 0.0076904296875, 0.0028076171875, -0.0054931640625, -0.007720947265625, -0.0186767578125, -0.0093994140625, 0.0174560546875, 0.003326416015625, -0.0155029296875, -0.00921630859375, -0.005889892578125, 0.005340576171875, 0.00811767578125, -0.011474609375, -0.009521484375, 0.00189208984375, 0.004241943359375, -0.007049560546875, 0.0108642578125, 0.00927734375, 0.0123291015625, -0.003173828125, -0.0004482269287109375, 0.00616455078125, 0.005340576171875, 0.00154876708984375, 0.01409912109375, 0.0042724609375, -0.0120849609375, -0.0027008056640625, 0.00439453125, 0.0030670166015625, -0.0067138671875, 0.005889892578125, 0.0015411376953125, -0.004150390625, -0.0081787109375, 0.00592041015625, 0.0036468505859375, -0.0023345947265625, 0.00469970703125, -0.0098876953125, -0.007110595703125, 0.00933837890625, -0.01214599609375, -0.0047607421875, 0.00885009765625, -0.0118408203125, -0.0108642578125, -9.918212890625e-05, -0.005859375, 0.01055908203125, 0.0031890869140625, -0.002197265625, 0.004852294921875, -0.00531005859375, -0.0150146484375, 0.00775146484375, 0.004669189453125, -0.00494384765625, -0.00799560546875, 0.01513671875, -0.00151824951171875, 0.0036163330078125, -0.00180816650390625, -0.00689697265625, -0.01043701171875, 0.00299072265625, 0.0137939453125, 0.00555419921875, -0.0012054443359375, 0.004852294921875, 0.005523681640625, -0.0263671875, -0.0113525390625, -0.000751495361328125, -0.00096893310546875, -0.01214599609375, -0.01226806640625, -0.005218505859375, 0.00531005859375, 0.0062255859375, -0.003997802734375, 0.019775390625, 0.001953125, 0.007537841796875, -0.0159912109375, 0.005584716796875, 0.00640869140625, 0.0123291015625, -0.008056640625, -0.004791259765625, 0.0108642578125, -0.008056640625, 0.006256103515625, 0.000370025634765625, -0.003692626953125, -0.004425048828125, 0.00799560546875, -0.000522613525390625, -0.0189208984375, 0.001800537109375, -0.005126953125, 0.0018310546875, 0.00946044921875, -0.00982666015625, 0.00090789794921875, -0.004608154296875, -0.0040283203125, 0.01068115234375, 0.00555419921875, -0.0027618408203125, -0.0101318359375, 0.0038299560546875, -0.0062255859375, 0.007049560546875, -0.01507568359375, -0.0126953125, -3.266334533691406e-05, -0.001678466796875, -0.0003986358642578125, -0.01483154296875, -0.0006866455078125, 0.00848388671875, -0.002288818359375, 0.00872802734375, -0.00836181640625, 0.005096435546875, -0.00848388671875, -0.00634765625, -0.01068115234375, -0.0277099609375, -0.017333984375, -0.00543212890625, -0.01092529296875, 0.000934600830078125, -0.0029144287109375, -3.266334533691406e-05, -0.01019287109375, -0.00933837890625, -0.0159912109375, 0.0198974609375, 0.006011962890625, 0.006011962890625, 0.007659912109375, 8.7738037109375e-05, -0.0009765625, 0.01422119140625, -0.001953125, 0.006439208984375, 0.01239013671875, 0.00274658203125, -0.0120849609375, -0.0029449462890625, -0.0029296875, -0.003509521484375, 0.007415771484375, 0.012451171875, 0.002838134765625, 0.01611328125, 0.01220703125, 0.004852294921875, -0.0091552734375, 0.003509521484375, 0.00537109375, -0.002685546875, 0.0017852783203125, -0.007080078125, 0.018310546875, -0.0084228515625, -0.0024261474609375, 0.0118408203125, -0.00830078125, 0.009033203125, 0.003143310546875, -0.014404296875, -0.01611328125, 0.008056640625, -0.01043701171875, 0.002288818359375, 0.000751495361328125, 6.628036499023438e-05, -0.002960205078125, 0.00384521484375, 0.007080078125, -0.00701904296875, -0.00787353515625, -0.004119873046875, -0.002197265625, -0.006988525390625, 0.0155029296875, -0.003814697265625, -0.0081787109375, 0.0064697265625, 9.918212890625e-05, -0.015380859375, 0.0020904541015625, 0.010009765625, -0.01019287109375, -0.0036163330078125, -0.0133056640625, -0.00135040283203125, 0.011474609375, 0.006744384765625, 0.00732421875, 0.00323486328125, 0.0042724609375, -0.01055908203125, -0.0108642578125, 0.005706787109375, 0.005096435546875, 0.00689697265625, 0.007720947265625, -0.003265380859375, -0.0098876953125, 0.004180908203125, 0.003021240234375, -0.00482177734375, -0.009765625, -0.019775390625, -0.0078125, -0.00872802734375, -0.0023040771484375, -0.0079345703125, -0.0037384033203125, -0.0225830078125, -0.00738525390625, 0.0120849609375, 0.00592041015625, -0.0162353515625, -0.00098419189453125, 0.006500244140625, 0.0096435546875, 0.00124359130859375, -0.010009765625, -0.007049560546875, -0.00482177734375, -0.004608154296875, -0.00567626953125, -0.000621795654296875, -0.004119873046875, -0.0003948211669921875, 0.01324462890625, -0.0003948211669921875, -0.00151824951171875, 0.00177001953125, 0.005828857421875, 0.00170135498046875, 0.00439453125, 0.0027923583984375, -0.005218505859375, -0.01031494140625, 0.004241943359375, 0.0069580078125, -0.0025787353515625, -0.01007080078125, 2.682209014892578e-05, -0.00091552734375, 0.0067138671875, 0.0003032684326171875, 0.003753662109375, 0.000720977783203125, 0.006256103515625, 0.01519775390625, -0.003631591796875, -0.0022125244140625, 0.007080078125, -0.003875732421875, 0.007049560546875, 0.0024261474609375, -0.01153564453125, 0.01300048828125, 0.00909423828125, -0.004150390625, 0.0035858154296875, 0.00970458984375, -0.0172119140625, 0.0130615234375, 0.0040283203125, -0.01055908203125, -0.01336669921875, 4.935264587402344e-05, 0.00013065338134765625, 0.00093841552734375, 0.009521484375, -0.001800537109375, -0.004913330078125, 0.0050048828125, 0.00020503997802734375, 0.003631591796875, 0.00115966796875, -0.007598876953125, 0.004730224609375, 0.0048828125, -0.006744384765625, -0.0084228515625, 0.022216796875, 0.001495361328125, -0.005096435546875, 0.002716064453125, -0.001007080078125, 0.0074462890625, -0.011474609375, 0.006683349609375, 0.00982666015625, 0.004150390625, 0.0020599365234375, -0.00160980224609375, -0.0030517578125, -0.004425048828125, 0.0017852783203125, -0.005218505859375, 0.009765625, -0.00408935546875, 0.000789642333984375, -0.01177978515625, 0.0015869140625, -0.00799560546875, 0.015380859375, 0.0031890869140625, -0.00052642822265625, -0.01165771484375, 0.00653076171875, -0.00921630859375, -0.0038604736328125, 0.00102996826171875, -0.00592041015625, -0.00592041015625, -0.0191650390625, -0.00531005859375, -4.079192876815796e-07, -0.00665283203125, 0.00372314453125, -0.00054168701171875, 0.01043701171875, -0.0096435546875, 0.00848388671875, 0.0027313232421875, 0.01055908203125, -0.006103515625, 0.00170135498046875, 0.0034027099609375, 0.0096435546875, 0.00439453125, -0.01031494140625, 0.00762939453125, -0.00482177734375, 0.011474609375, -0.01092529296875, 0.004425048828125, -0.0111083984375, -0.0003566741943359375, -0.000762939453125, -0.00482177734375, -0.00168609619140625, -0.000652313232421875, -0.00078582763671875, 0.00811767578125, -0.0008087158203125, -0.010498046875, 0.002288818359375, 0.00811767578125, -0.00885009765625, 0.006561279296875, -0.004913330078125, -0.00439453125, -0.0026092529296875, 0.005584716796875, 0.015869140625, -0.000530242919921875, 0.0011749267578125, 0.0098876953125, 0.0084228515625, 0.0011138916015625, 0.00469970703125, -0.0120849609375, -0.003814697265625, 0.00189208984375, 0.007171630859375, -0.0001888275146484375, -0.002685546875, -0.011474609375, -0.01116943359375, 0.0002269744873046875, -0.01171875, 0.00142669677734375, 0.01177978515625, 0.0025634765625, 0.000560760498046875, 0.01141357421875, 0.01324462890625, -0.00628662109375, 0.017333984375, -0.0130615234375, -0.0078125, -0.015380859375, 0.00799560546875, -0.0022735595703125, -0.006561279296875, 0.0087890625, 0.0045166015625, -0.001495361328125, -0.004364013671875, 0.00970458984375, -0.00171661376953125, 0.003936767578125, 0.00946044921875, -0.002593994140625, -0.0030975341796875, 0.006256103515625, -0.0048828125, 0.01275634765625, 0.00537109375, 0.000949859619140625, 0.0035400390625, -0.01019287109375, -0.01385498046875, 0.00982666015625, -0.0034637451171875, -0.01556396484375, 1.1324882507324219e-05, 0.00732421875, 0.001190185546875, -0.00531005859375, -0.0035858154296875, 0.006256103515625, -0.00186920166015625, -0.003204345703125, 0.01226806640625, -0.01324462890625, 0.00946044921875, -0.0093994140625, 0.001953125, -0.006805419921875, 0.004608154296875, -0.01409912109375, 0.00180816650390625, -0.00189208984375, 0.00445556640625, -0.0037078857421875, 0.00946044921875, -0.0030364990234375, 0.0042724609375, -0.01080322265625, -0.01092529296875, 0.00799560546875, -0.005859375, 0.0211181640625, 0.0031890869140625, -0.004547119140625, -0.00335693359375, 0.0067138671875, -0.0218505859375, -0.0018157958984375, -0.0036163330078125, -0.0038604736328125, 0.005462646484375, 0.006256103515625, -1.6689300537109375e-05, 0.005096435546875, 0.00396728515625, -0.004852294921875, 0.00616455078125, 0.00927734375, 0.0035552978515625, -0.005645751953125, 0.0179443359375, -0.007171630859375, 0.001739501953125, -0.0035247802734375, -0.00147247314453125, 0.003326416015625, -0.0034942626953125, -0.005645751953125, 0.0031890869140625, -0.00689697265625, 0.006744384765625, -0.01007080078125, 0.0042724609375, -0.007720947265625, -0.0034637451171875, 0.00139617919921875, 0.00421142578125, -0.0234375, 0.00115203857421875, 0.00909423828125, -0.00054931640625, -0.01171875, -0.0038604736328125, -0.004547119140625, -0.01202392578125, 0.0003032684326171875, -0.0157470703125, 0.0159912109375, -0.0036773681640625, -0.0062255859375, 0.005706787109375, 0.01531982421875, -0.007171630859375, 9.679794311523438e-05, -0.01116943359375, 0.00738525390625, -0.003143310546875, -0.006439208984375, -0.000885009765625, -0.00701904296875, 0.0123291015625, 0.00750732421875, -0.01068115234375, -0.00506591796875, -0.01507568359375, 0.010498046875, -0.0028839111328125, 0.00830078125, -0.015380859375, -0.00213623046875, -0.00836181640625, -0.0030517578125, -0.01123046875, 0.00750732421875, 0.00909423828125, 0.006439208984375, -0.0032196044921875, -0.01025390625, -0.00994873046875, -0.01019287109375, 0.0050048828125, -0.005218505859375, -0.01422119140625, -0.0152587890625, -0.0031585693359375, 0.004302978515625, 0.0341796875, -0.005157470703125, 0.0093994140625, 0.00057220458984375, 0.01434326171875, -0.00482177734375, 0.0026092529296875, 0.0179443359375, -0.0079345703125, 0.0013427734375, -0.0030364990234375, -0.0034332275390625, 0.0040283203125, -0.009521484375, 0.0036773681640625, -0.0027618408203125, 0.0086669921875, -0.00701904296875, 0.008544921875, 0.005462646484375, 0.013427734375, -0.00701904296875, -0.0167236328125, 0.0177001953125, 0.0133056640625, -0.01251220703125, -0.005096435546875, 4.363059997558594e-05, -0.01025390625, 0.0009765625, -0.000507354736328125, 0.0260009765625, -0.000942230224609375, -0.0128173828125, 0.002410888671875, 0.002685546875, -0.0027313232421875, -0.0036468505859375, 0.0069580078125, 0.004791259765625, -0.0126953125, -0.00537109375, 0.00543212890625, 0.004302978515625, -0.006378173828125, -0.009765625, 0.008544921875, 0.006988525390625, 0.0022735595703125, -0.0054931640625, -0.0068359375, 0.007781982421875, 0.0089111328125, -0.00142669677734375, -0.00830078125, 0.01068115234375, 0.0038604736328125, -0.0113525390625, -0.00421142578125, -0.008544921875, -0.01226806640625, -0.00274658203125, -0.00885009765625, 0.0111083984375, 0.00738525390625, 0.01171875, -0.0069580078125, 0.0021514892578125, -0.00921630859375, -0.00286865234375, 0.005157470703125, 0.01165771484375, -0.00653076171875, 0.007781982421875, -0.007568359375, -0.0009918212890625, -0.00823974609375, 0.007171630859375, 0.00933837890625, 0.007598876953125, 0.001068115234375, -0.0087890625, -0.006011962890625, -0.0120849609375, -7.927417755126953e-06, 0.01361083984375, 0.0111083984375, -0.00885009765625, -0.00421142578125, -0.00732421875, -0.0106201171875, -0.006988525390625, 0.00634765625, 0.002227783203125, -9.34600830078125e-05, -0.006072998046875, -0.006622314453125, -0.009765625, -0.00958251953125, -0.0118408203125, -0.003204345703125, -0.01153564453125, -0.00677490234375, 0.00421142578125, 0.005096435546875, -0.003631591796875, 0.0015106201171875, -0.0235595703125, -0.0004787445068359375, 0.00360107421875, 9.870529174804688e-05, 0.017333984375, -0.0079345703125, -0.0023193359375, 0.01153564453125, -0.0018157958984375, 0.00823974609375, 0.002716064453125, 0.0020904541015625, -0.0024566650390625, -0.000858306884765625, -0.0098876953125, 0.01324462890625, 0.005462646484375, -0.0177001953125, -0.0128173828125, -0.00092315673828125, 0.0179443359375, 0.003662109375, 0.003204345703125, -0.0026702880859375, -0.0186767578125, 0.007659912109375, -0.011962890625, -0.0037384033203125, -0.00543212890625, -0.00274658203125, 0.0113525390625, -0.00189971923828125, -0.00982666015625, -0.0081787109375, 0.0016937255859375, -0.006317138671875, -0.01068115234375, -0.0035858154296875, 0.01312255859375, 0.003021240234375, 0.0262451171875, -0.006744384765625, -0.004730224609375, 0.006927490234375, 0.0023040771484375, -0.00762939453125, -0.00994873046875, -0.00445556640625, 0.006866455078125, 0.0108642578125, 0.00732421875, 0.003997802734375, -0.00244140625, 0.00860595703125, 0.007598876953125, 0.0069580078125, -0.002227783203125, 0.0047607421875, -0.0026397705078125, 0.009521484375, -0.0086669921875, -0.00201416015625, -0.006744384765625, -0.00872802734375, -0.005279541015625, 0.0167236328125, -0.0026397705078125, -0.000682830810546875, -0.0084228515625, -0.00921630859375, 0.005523681640625, 0.013916015625, 0.0069580078125, -0.01239013671875, -0.004119873046875, 0.0142822265625, -0.0169677734375, 0.00506591796875, 0.01141357421875, -0.00110626220703125, -0.014404296875, -0.0020751953125, 0.005889892578125, 0.0067138671875, 0.00194549560546875, 0.000583648681640625, -0.00115966796875, 0.006866455078125, 0.021728515625, -0.0036163330078125, 0.006561279296875, -0.00128173828125, -0.0179443359375, 0.00408935546875, 0.00970458984375, 0.00970458984375, 0.01495361328125, 0.004119873046875, -0.0045166015625, 0.0025634765625, -0.002593994140625, -0.006011962890625, -0.0108642578125, 0.004608154296875, 0.006378173828125, -0.0022430419921875, -0.007659912109375, 0.0164794921875, 0.0135498046875, -0.010986328125, -0.004547119140625, 0.00897216796875, -0.0157470703125, 0.00933837890625, 0.042236328125, 0.01226806640625, 0.0034332275390625, -0.001129150390625, -0.01361083984375, 0.00311279296875, 0.016845703125, 0.009765625, 0.00341796875, -0.01495361328125, -0.01544189453125, 0.00136566162109375, 0.0133056640625, -0.0027008056640625, -0.006591796875, 0.0036163330078125, -8.821487426757812e-05, -0.004486083984375, -0.00860595703125, 0.0032958984375, -0.01171875, 0.006805419921875, 0.0029754638671875, -0.0013580322265625, 0.000720977783203125, 0.005279541015625, 0.0034027099609375, 0.0032196044921875, 0.00323486328125, 0.01953125, -0.00970458984375, -0.006561279296875, 0.01153564453125, 0.00830078125, -0.009033203125, 0.0106201171875, -0.01116943359375, 0.00154876708984375, 0.01239013671875, -0.003814697265625, -0.01116943359375, 0.007537841796875, 0.00156402587890625, -0.005096435546875, -0.01080322265625, 0.020263671875, 0.0145263671875, -0.004425048828125, 0.007232666015625, -0.0062255859375, 0.0015716552734375, 0.004180908203125, 0.01177978515625, -7.724761962890625e-05, -0.007080078125, 0.00191497802734375, 0.0042724609375, -0.006622314453125, -0.009521484375, -0.01263427734375, 0.008544921875, 0.00026702880859375, -0.0033721923828125, 0.0007476806640625, -0.004730224609375, 0.00823974609375, 0.01287841796875, 0.015869140625, -0.0013885498046875, 0.00946044921875, 0.0235595703125, -0.00396728515625, 0.0030059814453125, 0.00396728515625, 0.00171661376953125, 0.0022430419921875, 0.008056640625, 0.003173828125, 0.006256103515625, 0.00110626220703125, -0.0146484375, -0.0108642578125, 0.0019989013671875, 0.00445556640625, 0.0101318359375, -0.01287841796875, -0.00604248046875, 0.0052490234375, -0.00086212158203125, -0.016357421875, -0.003570556640625, 0.0135498046875, 0.0026092529296875, 0.006317138671875, 0.00946044921875, 0.005218505859375, -0.00408935546875, 0.0015411376953125, 0.004730224609375, 0.00057220458984375, -0.0025634765625, -0.00689697265625, 0.0205078125, 0.00848388671875, -0.003082275390625, -0.01055908203125, 0.006622314453125, 0.000301361083984375, -0.0005645751953125, -0.0023193359375, 0.000896453857421875, -0.00555419921875, -0.01153564453125, 0.009521484375, -0.00909423828125, 0.00616455078125, -0.00787353515625, 0.000396728515625, -0.00360107421875, 0.0040283203125, 0.0091552734375, -0.00506591796875, 0.00823974609375, 0.01055908203125, -0.002685546875, -0.019775390625, 0.00122833251953125, 0.01141357421875, -0.012939453125, 0.006256103515625, 0.00014400482177734375, -0.007080078125, 0.01507568359375, -0.00860595703125, 0.00098419189453125, -0.00445556640625, 0.005767822265625, 0.0012664794921875, -0.019287109375, 0.00142669677734375, -0.001312255859375, 0.013916015625, -0.0032501220703125, -0.007568359375, -0.0030059814453125, -0.01214599609375, 0.00787353515625, 0.005584716796875, -0.004150390625, -0.00531005859375, 0.0015869140625, -0.01495361328125, 0.01129150390625, 0.01171875, -0.013671875, -0.0024566650390625, 0.0174560546875, 0.003448486328125, -0.00592041015625, -0.01409912109375, 0.004486083984375, -0.009521484375, -0.0140380859375, -0.01031494140625, 0.0142822265625, -0.00811767578125, -0.007598876953125, 9.298324584960938e-05, 0.00122833251953125, -0.007232666015625, -0.001708984375, 0.002960205078125, -0.01300048828125, 0.0010223388671875, 0.00653076171875, 0.004180908203125, -0.00421142578125, -0.006317138671875, 0.011474609375, 0.0048828125, 0.01190185546875, 0.00286865234375, -0.0040283203125, -0.0078125, 0.0264892578125, -0.00958251953125, -0.00836181640625, 0.005859375, -0.00098419189453125, 0.0152587890625, -0.01068115234375, -0.002227783203125, 0.01324462890625, -0.0087890625, 0.006134033203125, 0.0101318359375, -0.006317138671875, -0.0003376007080078125, -0.003662109375, -0.0072021484375, -0.00848388671875, 0.00970458984375, -0.00115203857421875, -0.015869140625, 0.0009307861328125, 0.01007080078125, 0.01708984375, -0.0033721923828125, 0.00494384765625, -0.0089111328125, -0.006378173828125, -0.0034027099609375, 0.00469970703125, 0.01263427734375, -0.003936767578125, 0.000946044921875, -0.0098876953125, -0.01080322265625, 0.0205078125, -0.0096435546875, 0.006866455078125, 0.00482177734375, 0.003082275390625, 0.0032958984375, 0.0093994140625, 0.00994873046875, -0.0137939453125, 0.0025177001953125, -0.004791259765625, -0.01019287109375, -0.0027618408203125, 0.00946044921875, 0.0036773681640625, 0.01409912109375, -0.00113677978515625, -0.0101318359375, 0.01080322265625, 0.0045166015625, 0.014404296875, 0.007598876953125, 0.01519775390625, 0.0137939453125, 0.00994873046875, -0.0068359375, -6.246566772460938e-05, -0.002197265625, 0.0107421875, -0.003143310546875, -0.0091552734375, -0.005859375, -0.00274658203125, 0.005584716796875, 0.00323486328125, 0.006683349609375, 0.009765625, -0.00592041015625, 0.00186920166015625, 0.00592041015625, -0.00421142578125, -0.010009765625, -0.006011962890625, -0.009765625, -0.00531005859375, 0.00921630859375, -0.00146484375, 0.001983642578125, 0.0111083984375, 0.0045166015625, 0.01202392578125, 0.007415771484375, 0.006011962890625, -0.006683349609375, 0.00153350830078125, -0.0048828125, -0.0126953125, -0.00897216796875, 0.01239013671875, -0.00897216796875, 0.004852294921875, -0.00823974609375, -0.00787353515625, -0.0096435546875, 0.002105712890625, 0.018310546875, -0.0023651123046875, -0.003021240234375, -0.0010528564453125, -0.00135040283203125, 0.000347137451171875, -0.00799560546875, -0.003021240234375, 0.0012969970703125, -0.0172119140625, -0.00396728515625, -0.000885009765625, -0.006195068359375, 0.019775390625, -0.003082275390625, -0.00469970703125, 0.0034332275390625, 0.01434326171875, 0.0030517578125, -0.0050048828125, 0.01190185546875, -0.0047607421875, -0.00726318359375, -0.003448486328125, 0.00335693359375, -0.0166015625, -0.0169677734375, 0.004486083984375, -8.344650268554688e-05, -0.002960205078125, -0.00274658203125, -0.006744384765625, -0.01300048828125, 0.00020503997802734375, -0.0074462890625, 0.0027618408203125, 0.000537872314453125, 0.00994873046875, -0.007049560546875, 0.00701904296875, 0.008056640625, -0.00787353515625, 0.007537841796875, 0.000774383544921875, 0.0084228515625, 0.000835418701171875, -0.0016326904296875, 0.000347137451171875, -0.00531005859375, 0.00567626953125, 0.0003871917724609375, 0.006866455078125, 0.004547119140625, -0.00860595703125, 0.01708984375, -0.00543212890625, -0.0164794921875, -0.01025390625, -0.00173187255859375, 0.01153564453125, -0.006988525390625, 0.022216796875, -0.0030364990234375, -0.0087890625, 0.01116943359375, 0.0031890869140625, -0.0101318359375, 8.96453857421875e-05, 0.01080322265625, -0.0166015625, -0.002716064453125, -0.0016937255859375, -0.01239013671875, -0.0029296875, -0.0030975341796875, 0.008544921875, 0.00775146484375, -0.0037994384765625, 0.001678466796875, 0.017333984375, 0.00885009765625, -0.00445556640625, -0.00531005859375, 0.00135040283203125, -0.00341796875, 0.007476806640625, -0.00994873046875, 0.0010986328125, -0.00921630859375, 0.00162506103515625, 0.006439208984375, -0.0076904296875, -0.00677490234375, 0.0007476806640625, -0.0033721923828125, 0.010986328125, 0.0047607421875, -0.01708984375, 0.000164031982421875, -0.01153564453125, 0.00372314453125, 0.0010833740234375, 0.00213623046875, -0.00653076171875, -0.01202392578125, -0.0123291015625, -5.811452865600586e-06, -0.00482177734375, 0.00897216796875, -0.00634765625, -0.00555419921875, -0.005279541015625, -0.00433349609375, -0.00982666015625, 0.014404296875, -0.01953125, -1.4424324035644531e-05, -0.0086669921875, -0.002777099609375, -0.0031585693359375, 0.004913330078125, -0.0091552734375, -0.0247802734375, -0.0106201171875, -0.01171875, -0.0015411376953125, -0.010498046875, 0.00193023681640625, 0.00860595703125, -0.00946044921875, -0.00177764892578125, -0.011474609375, -0.0093994140625, 0.004119873046875, 0.004913330078125, 0.006439208984375, 0.00592041015625, 0.0115966796875, -0.00933837890625, -0.00250244140625, -0.00274658203125, -0.005401611328125, -0.0235595703125, -0.0021514892578125, 0.011474609375, 0.000766754150390625, 0.005615234375, 0.006317138671875, -0.01519775390625, -0.0033721923828125, 0.0218505859375, 0.00836181640625, -0.00628662109375, 0.000644683837890625, -0.00848388671875, 0.00025177001953125, -0.0084228515625, 0.00341796875, 0.0038299560546875, 0.005767822265625, 0.0037384033203125, -0.00421142578125, -0.0111083984375, 0.004486083984375, -0.004852294921875, -0.01214599609375, 0.00274658203125, 0.01141357421875, -0.0118408203125, 0.00360107421875, 0.00982666015625, 0.005279541015625, 0.000308990478515625, -0.012939453125, -0.0021209716796875, -0.01190185546875, -0.0025482177734375, 0.00848388671875, -0.0091552734375, 0.00946044921875, 0.005950927734375, -0.00147247314453125, 0.0098876953125, 0.005828857421875, 0.008544921875, -0.0128173828125, -0.00159454345703125, -0.0027313232421875, 0.0079345703125, 0.0037384033203125, -0.0029144287109375, -0.001861572265625, 0.00156402587890625, 0.000690460205078125, -0.006378173828125, -0.006866455078125, 0.00665283203125, -0.0002384185791015625, 0.00848388671875, 0.00732421875, 0.002349853515625, -0.01422119140625, -0.004913330078125, -0.00830078125, -0.0019378662109375, -0.00860595703125, 0.00041961669921875, 0.01336669921875, -0.011962890625, 4.792213439941406e-05, 0.00244140625, 0.007720947265625, -0.013916015625, 0.00482177734375, -0.0081787109375, 0.0032806396484375, 0.01068115234375, -0.00634765625, 0.00836181640625, 0.007293701171875, 0.00390625, -0.01275634765625, 0.004180908203125, 0.022705078125, -0.0054931640625, -0.01080322265625, 0.00830078125, -0.00897216796875, -0.01116943359375, -0.00787353515625, 0.00634765625, 5.340576171875e-05, 0.004241943359375, -0.00787353515625, 0.0021820068359375, 0.0034027099609375, 0.000797271728515625, -0.0038299560546875, 0.00567626953125, -0.003326416015625, -0.005523681640625, -0.005462646484375, -0.0145263671875, -0.004180908203125, 0.0079345703125, 0.01495361328125, 0.0106201171875, 0.00038909912109375, -0.004302978515625, 0.0050048828125, 0.0126953125, 0.00604248046875, -0.0029754638671875, -0.0017242431640625, 0.017333984375, -0.001129150390625, 0.000965118408203125, -0.006500244140625, 0.001129150390625, -0.000713348388671875, -0.00421142578125, 0.00152587890625, -0.02099609375, 0.0034637451171875, -0.0022125244140625, -0.016357421875, 0.0020599365234375, 0.005218505859375, 0.02197265625, -0.002655029296875, 0.01953125, -0.0079345703125, -0.007568359375, -0.03173828125, 0.0023040771484375, -0.00634765625, 0.001434326171875, 0.0021820068359375, 0.0174560546875, 0.01422119140625, -0.00830078125, -0.002960205078125, 0.004425048828125, -0.007720947265625, -0.000331878662109375, 0.00135040283203125, 0.00096893310546875, 0.005096435546875, -0.00946044921875, -0.00109100341796875, 0.005828857421875, -0.0008392333984375, -0.01031494140625, 0.01165771484375, -0.01611328125, 0.0029296875, 0.00518798828125, -0.010498046875, -0.0069580078125, -0.00836181640625, -0.005889892578125, 0.013671875, 0.004974365234375, 0.0011138916015625, 0.000591278076171875, -0.0034637451171875, 0.008544921875, 5.221366882324219e-05, -0.0037384033203125, -0.001007080078125, -0.00726318359375, -0.0036163330078125, 0.00653076171875, 0.00144195556640625, -0.002166748046875, 0.004638671875, -0.004547119140625, -0.00494384765625, -0.0034942626953125, -0.0007781982421875, 0.0035247802734375, -0.0024261474609375, 0.0101318359375, -0.00970458984375, 0.000499725341796875, 0.000347137451171875, -0.00433349609375, -0.001678466796875, -0.0086669921875, -0.0022125244140625, 0.00445556640625, -0.01025390625, 0.001678466796875, 0.007476806640625, -0.002166748046875, 0.006103515625, -0.0009918212890625, 0.00311279296875, -0.006500244140625, 0.01275634765625, -0.01019287109375, -0.00787353515625, -0.006500244140625, -0.002532958984375, 0.00836181640625, 0.005889892578125, -0.0003261566162109375, 0.00121307373046875, -0.0032196044921875, 0.010009765625, -0.00506591796875, 0.016357421875, 0.000469207763671875, -0.00836181640625, 0.0091552734375, -0.00408935546875, -0.009765625, 0.0084228515625, 0.003692626953125, -0.01416015625, 0.014404296875, -0.009521484375, 0.005035400390625, -0.01507568359375, 0.0029144287109375, -0.0146484375, 0.0023040771484375, -0.0115966796875, -0.002685546875, 0.0050048828125, 0.00927734375, -0.00171661376953125, -0.00101470947265625, 0.00787353515625, -0.00604248046875, -0.00023937225341796875, 0.010009765625, 0.0026092529296875, 4.023313522338867e-06, 0.004425048828125, 0.0031585693359375, 0.002349853515625, -0.00180816650390625, -0.006256103515625, 0.0081787109375, -0.004791259765625, -0.0052490234375, -0.0004787445068359375, 0.0177001953125, 0.00701904296875, -0.00274658203125, -0.01214599609375, 0.000705718994140625, 0.002532958984375, -0.01416015625, -0.001068115234375, -0.0033111572265625, 0.001708984375, 0.011474609375, 0.0084228515625, -0.0050048828125, 0.0096435546875, -0.006195068359375, -0.010986328125, -0.005157470703125, -0.00909423828125, 0.0228271484375, -0.0106201171875, 0.0050048828125, -0.0137939453125, 0.0038604736328125, -0.004913330078125, 0.00091552734375, 0.00160980224609375, -0.0091552734375, 0.00775146484375, 0.00531005859375, -0.0032958984375, 0.009521484375, 0.0003337860107421875, -0.00213623046875, 0.006134033203125, 0.017333984375, 0.01458740234375, 0.0108642578125, -0.00147247314453125, 0.017333984375, 0.0120849609375, -0.004150390625, -0.01080322265625, -0.005126953125, -0.009765625, -0.00994873046875, 0.006744384765625, -0.004638671875, 0.0026092529296875, 0.0034942626953125, 0.00732421875, 0.004547119140625, 0.006866455078125, 0.013916015625, -0.00323486328125, 0.0126953125, 0.005218505859375, -0.0089111328125, 0.0047607421875, -0.0130615234375, -0.0034332275390625, -0.0272216796875, 0.004486083984375, 0.000965118408203125, 0.001129150390625, -0.004730224609375, 0.00038909912109375, -0.0057373046875, 0.003936767578125, -0.004974365234375, 0.01153564453125, -0.006805419921875, 0.01019287109375, 0.0166015625, -0.016357421875, 0.004058837890625, 0.000820159912109375, -0.003662109375, 0.01275634765625, 0.0022125244140625, 0.00946044921875, 0.0205078125, -0.000701904296875, -0.0174560546875, -0.0106201171875, -0.0016632080078125, 0.004913330078125, 0.0177001953125, 0.0020294189453125, 0.0030517578125, 0.00019931793212890625, 0.004058837890625, 0.0115966796875, -0.0013275146484375, -0.004180908203125, 0.0025177001953125, -0.00506591796875, 0.0098876953125, -0.01806640625, -0.0028228759765625, 0.00133514404296875, -0.0196533203125, 0.0027313232421875, -0.0037994384765625, 0.0004482269287109375, 0.01177978515625, -0.000614166259765625, 0.0015411376953125, -0.00885009765625, 0.00836181640625, -0.00128936767578125, 0.006500244140625, -0.004974365234375, -0.01171875, -0.0023345947265625, -0.000591278076171875, -0.00057220458984375, 0.0157470703125, 0.00136566162109375, -0.0086669921875, -0.0166015625, -0.005523681640625, 0.01092529296875, -0.0135498046875, -0.01385498046875, 0.001434326171875, -0.004486083984375, -0.0086669921875, 0.0016632080078125, -0.00390625, 0.000560760498046875, -0.0020751953125, -0.0128173828125, 0.0012054443359375, 0.01068115234375, -0.01141357421875, -0.01239013671875, -0.017578125, -0.000385284423828125, -0.00958251953125, 0.0045166015625, 0.00860595703125, 0.0181884765625, 0.006500244140625, -0.00750732421875, 0.0038604736328125, -0.00640869140625, -0.008056640625, 0.0179443359375, -0.00457763671875, 0.00811767578125, 0.00701904296875, 0.0198974609375, -0.007598876953125, 0.0016326904296875, 0.007659912109375, 0.0089111328125, -0.0167236328125, -0.01531982421875, 0.00927734375, -0.00958251953125, 0.003143310546875, -0.00946044921875, 0.000827789306640625, -0.0069580078125, -0.000152587890625, 0.0036773681640625, 0.0027618408203125, -0.005401611328125, 0.002716064453125, 0.000835418701171875, -0.003936767578125, -0.001556396484375, -0.0186767578125, 0.00061798095703125, 0.00653076171875, 0.0101318359375, 0.00823974609375, -0.01043701171875, 0.00836181640625, 0.005706787109375, 0.0037994384765625, -0.0096435546875, 0.01416015625, -0.0037384033203125, 0.006011962890625, -0.001983642578125, -0.009765625, -0.00787353515625, -0.000804901123046875, -0.0096435546875, -0.005035400390625, 0.0022735595703125, 0.0185546875, -0.005706787109375, 0.00836181640625, 0.007720947265625, -0.00604248046875, -0.0016021728515625, 0.00121307373046875, 0.007232666015625, 0.00994873046875, 0.010498046875, 0.005828857421875, 0.005950927734375, -0.0020904541015625, 0.003570556640625, 0.00125885009765625, 0.000316619873046875, -0.00994873046875, 0.0179443359375, -0.00811767578125, 0.0016632080078125, 0.00927734375, -0.0047607421875, 0.00927734375, 0.0206298828125, -0.01300048828125, 0.0302734375, 0.01336669921875, 0.006683349609375, 0.004974365234375, -0.019287109375, 0.0014495849609375, -0.0057373046875, -0.005157470703125, -0.01416015625, 0.00689697265625, -0.0042724609375, 0.0169677734375, -0.0113525390625, -0.003570556640625, -0.0052490234375, -0.009521484375, -0.006378173828125, -0.00494384765625, -0.007415771484375, 0.0113525390625, -0.0002079010009765625, 0.00122833251953125, -0.00762939453125, 0.0120849609375, 0.0033111572265625, -0.00421142578125, -0.003173828125, 0.00872802734375, 0.0003452301025390625, -0.01611328125, 0.0079345703125, -0.005859375, -0.002166748046875, -0.0120849609375, 0.01300048828125, -0.001068115234375, -0.0030059814453125, 0.0030975341796875, 0.01507568359375, -0.001739501953125, -0.01495361328125, -0.0016326904296875, -0.029541015625, -0.0098876953125, 0.00848388671875, 0.002777099609375, 0.0111083984375, 0.015380859375, 0.01483154296875, 0.002166748046875, 0.006500244140625, -0.0003814697265625, 0.0181884765625, 0.00897216796875, 0.006011962890625, 0.005889892578125, -0.009521484375, -0.0125732421875, -0.0003223419189453125, -0.0203857421875, -5.1975250244140625e-05, 0.010986328125, 0.017333984375, -0.01275634765625, 3.337860107421875e-05, -0.00022125244140625, -0.004058837890625, -0.007354736328125, -0.00811767578125, 0.00714111328125, 0.003143310546875, -0.0103759765625, -0.00946044921875, 0.007171630859375, -0.01202392578125, -0.0172119140625, -0.017333984375, 0.005950927734375, 0.0203857421875, 0.00115203857421875, -0.0029144287109375, -0.021484375, 0.00213623046875, 0.0020599365234375, 0.00592041015625, -0.000652313232421875, 0.0023345947265625, -0.0084228515625, 0.01513671875, 0.003326416015625, 0.0032958984375, 0.001190185546875, 0.0054931640625, -0.00592041015625, 0.00616455078125, 0.0032501220703125, -0.007171630859375, -0.01519775390625, 0.018798828125, 0.002960205078125, -9.1552734375e-05, 0.003387451171875, -0.008544921875, -0.01708984375, -0.004058837890625, 0.00360107421875, -0.00628662109375, -0.0030517578125, 0.0098876953125, -0.003265380859375, 0.00396728515625, 0.001068115234375, -0.002685546875, -0.00787353515625, 0.00848388671875, -0.00433349609375, 0.001983642578125, -0.00140380859375, 0.00482177734375, 0.007080078125, 0.002288818359375, -0.00567626953125, -0.007720947265625, -0.004913330078125, 0.0029449462890625, 0.0034942626953125, -0.00323486328125, 0.0081787109375, 0.00836181640625, 0.003204345703125, 0.0030517578125, 0.0059814453125, 0.004730224609375, 0.002685546875, 0.001312255859375, -0.000583648681640625, -0.00012874603271484375, -0.003631591796875, -0.0098876953125, 0.0089111328125, -0.0135498046875, 0.00421142578125, -0.004913330078125, -0.004302978515625, 0.00213623046875, 0.015380859375, -0.004913330078125, -0.005889892578125, -0.00933837890625, 0.01416015625, -0.009765625, -0.01519775390625, -0.002105712890625, -9.5367431640625e-05, 0.0036468505859375, -0.01422119140625, 0.0123291015625, 0.0040283203125, -0.00982666015625, -0.0021209716796875, 0.0028228759765625, -0.0084228515625, 0.00811767578125, -0.00469970703125, -0.0137939453125, -0.006072998046875, -0.000431060791015625, -0.000469207763671875, 0.01220703125, -0.01373291015625, -0.006195068359375, -0.001495361328125, 0.005706787109375, 0.01318359375, 0.003936767578125, -0.00714111328125, -0.00836181640625, -0.00543212890625, -7.581710815429688e-05, -0.00909423828125, -0.010986328125, -0.01513671875, -0.006134033203125, -0.008056640625, 0.00090789794921875, -0.0120849609375, -0.002593994140625, -0.00121307373046875, 0.00506591796875, -0.0040283203125, -0.0050048828125, -0.000461578369140625, -0.01318359375, -0.005096435546875, -0.0113525390625, 0.0027618408203125, -0.005950927734375, 0.0089111328125, -0.004302978515625, -0.0042724609375, 0.007293701171875, -0.0128173828125, -0.001800537109375, -0.00092315673828125, 0.004913330078125, 0.0037384033203125, -0.004119873046875, -0.0047607421875, -0.006378173828125, 0.0164794921875, 0.002105712890625, -8.869171142578125e-05, -0.005126953125, -0.005828857421875, -0.00341796875, 0.004180908203125, 0.0012969970703125, -0.002227783203125, -0.01531982421875, 0.007232666015625, 0.002960205078125, -0.01025390625, 0.004852294921875, -0.00958251953125, 0.01080322265625, 0.00118255615234375, -0.0022430419921875, -0.0025634765625, 0.01025390625, -0.0084228515625, 0.01031494140625, 0.0108642578125, 0.011962890625, 0.0223388671875, -0.01275634765625, 0.006103515625, -0.011962890625, 0.0120849609375, -0.004547119140625, 0.0014495849609375, -0.01116943359375, -0.0089111328125, 0.01495361328125, 0.041748046875, -0.003936767578125, -0.00994873046875, -0.00970458984375, -0.00116729736328125, -0.011474609375, -0.0034332275390625, 0.00823974609375, 0.007476806640625, 0.00958251953125, 0.01495361328125, 0.004974365234375, -0.004486083984375, -0.006439208984375, 0.0133056640625, 0.00372314453125, 0.0015869140625, 0.005706787109375, 0.00537109375, -0.005035400390625, 0.0033721923828125, -0.0003757476806640625, -0.0189208984375, 0.01202392578125, 0.0115966796875, -0.0025634765625, 0.00982666015625, 0.004669189453125, -0.006072998046875, 0.0029144287109375, -0.0147705078125, -0.00457763671875, -0.0028839111328125, -0.00384521484375, -0.00054168701171875, -0.007293701171875, 0.00970458984375, -0.00136566162109375, -0.0087890625, 0.0166015625, 0.0291748046875, 0.0025787353515625, -0.0004520416259765625, 0.006927490234375, -0.0024261474609375, 0.00347900390625, -0.010498046875, -0.0081787109375, -0.0106201171875, -0.010009765625, -0.0028839111328125, -0.005035400390625, -0.00020122528076171875, 0.00225830078125, 0.003143310546875, -0.000823974609375, -0.00439453125, -0.00677490234375, -0.006927490234375, -0.003509521484375, -0.00653076171875, 0.0032958984375, 0.00051116943359375, -0.005859375, 2.9921531677246094e-05, -0.0031585693359375, -0.01025390625, -0.0003204345703125, 0.0038299560546875, 0.00628662109375, 0.00897216796875, 0.0008087158203125, 0.00726318359375, 0.0034942626953125, 0.006988525390625, -0.003326416015625, -0.004119873046875, -0.005157470703125, -0.01422119140625, -0.0038299560546875, -0.00201416015625, 0.01007080078125, 0.00077056884765625, -0.00130462646484375, 0.0086669921875, -0.006072998046875, -0.00811767578125, 0.000507354736328125, 0.003204345703125, -0.00384521484375, -0.002655029296875, 0.0224609375, 0.01080322265625, 0.00823974609375]]\n",
      "[[-0.00408935546875, -0.0069580078125, -0.005340576171875, 0.0020599365234375, -0.00311279296875, 0.00311279296875, -0.004364013671875, 0.00726318359375, 0.00238037109375, -6.628036499023438e-05, -0.004119873046875, 0.006866455078125, 0.0020599365234375, -0.00146484375, 0.004638671875, 0.006591796875, -0.0047607421875, 0.0029449462890625, 0.00958251953125, -0.003753662109375, -0.0030059814453125, 0.003936767578125, 0.00014781951904296875, 0.00604248046875, 0.005584716796875, 0.000957489013671875, 0.0019683837890625, 0.000598907470703125, -0.00130462646484375, -0.006591796875, -0.007049560546875, 0.0025787353515625, -0.00439453125, -0.00133514404296875, -0.00160980224609375, 0.00201416015625, -0.007598876953125, 0.00151824951171875, 0.004241943359375, -0.0027923583984375, -0.005401611328125, -0.002777099609375, -0.0084228515625, -0.0026092529296875, 0.00274658203125, -0.00531005859375, -0.00335693359375, 0.009521484375, 0.0034332275390625, -0.007659912109375, 0.0045166015625, 0.002899169921875, -0.00567626953125, -0.000873565673828125, -0.00183868408203125, 0.006011962890625, 0.0034637451171875, 0.00013637542724609375, -0.001312255859375, 0.00946044921875, -0.000507354736328125, 0.0081787109375, 0.00439453125, 0.001983642578125, -0.0004215240478515625, 0.0026092529296875, -0.006103515625, -0.00537109375, -0.0035247802734375, -0.00193023681640625, 0.00157928466796875, 0.008056640625, 0.0026702880859375, 0.0015411376953125, 0.002655029296875, -0.000263214111328125, -0.00018024444580078125, -0.0035400390625, -0.00121307373046875, 0.0002956390380859375, -0.0030517578125, 0.000766754150390625, 0.0033721923828125, -0.0021209716796875, -0.006134033203125, -0.00188446044921875, 0.00035858154296875, 0.000720977783203125, 0.00250244140625, 0.0035858154296875, -0.0016326904296875, -0.00286865234375, -0.006439208984375, 0.0037994384765625, 0.00176239013671875, 0.0037384033203125, 0.001922607421875, 0.00122833251953125, 0.0025177001953125, -3.0517578125e-05, 0.0004520416259765625, 0.00183868408203125, -0.005889892578125, 0.0093994140625, -0.0020751953125, -0.005828857421875, 0.00213623046875, 0.00133514404296875, 0.00518798828125, -0.000518798828125, 0.001220703125, -0.002227783203125, -0.00262451171875, -0.004150390625, -0.004852294921875, -0.0018157958984375, -0.0027618408203125, -0.0007781982421875, 0.00238037109375, -0.003143310546875, -0.0050048828125, 1.52587890625e-05, 0.00408935546875, -0.0030670166015625, -0.00152587890625, -0.00023746490478515625, 0.00421142578125, -0.0034027099609375, -0.00970458984375, 7.104873657226562e-05, 0.00830078125, 0.00186920166015625, -0.0050048828125, 0.006378173828125, -0.005767822265625, -0.00151824951171875, -0.004058837890625, 0.00469970703125, -0.0035552978515625, -0.00592041015625, 0.0028076171875, 0.00194549560546875, 0.0014495849609375, -0.00194549560546875, -0.0032501220703125, -0.00017452239990234375, -0.00177764892578125, 0.005279541015625, -0.0029144287109375, -0.00183868408203125, 0.0026397705078125, -0.00049591064453125, 0.00396728515625, 0.0030975341796875, -0.00347900390625, 0.00168609619140625, -0.003265380859375, 0.000728607177734375, -0.005462646484375, -0.00174713134765625, 0.00119781494140625, 0.00128173828125, -0.00014019012451171875, -0.00537109375, 0.007049560546875, -0.001953125, 2.8014183044433594e-05, 0.00159454345703125, -0.0068359375, 0.000514984130859375, 0.000751495361328125, -0.00433349609375, 0.0027618408203125, -0.0024871826171875, 0.00286865234375, 0.0031280517578125, 0.005706787109375, -0.000110626220703125, 0.00124359130859375, 0.002288818359375, 0.00074005126953125, -0.00909423828125, 0.0012969970703125, -0.00775146484375, -0.007415771484375, 0.00046539306640625, 0.0015716552734375, 0.003021240234375, 0.000698089599609375, 0.00074005126953125, 0.00012874603271484375, -0.00482177734375, -0.005157470703125, 0.005859375, 0.004669189453125, -0.0018463134765625, -0.0032501220703125, -0.0029144287109375, 0.00372314453125, -0.0023040771484375, -0.00104522705078125, -0.00179290771484375, -0.000537872314453125, 0.0042724609375, -0.00274658203125, -0.00311279296875, 0.0048828125, 0.00058746337890625, -0.00201416015625, -8.249282836914062e-05, -0.00176239013671875, -0.000972747802734375, 0.004669189453125, 0.00299072265625, -0.0015869140625, 0.00445556640625, -0.00189208984375, -0.0035247802734375, -0.0031585693359375, 0.006866455078125, 0.0002536773681640625, 0.002349853515625, -0.0023956298828125, 0.00128936767578125, -0.002593994140625, -0.000438690185546875, -0.000873565673828125, 0.0107421875, -0.001190185546875, 0.0007171630859375, -0.00067901611328125, 0.00579833984375, 0.000732421875, -0.00012493133544921875, 0.00323486328125, 0.007110595703125, 0.0030364990234375, 0.000667572021484375, -0.01043701171875, -0.0078125, 0.002105712890625, -0.00750732421875, -0.0027008056640625, -0.00201416015625, -0.0028839111328125, 0.0004100799560546875, -0.000408172607421875, 0.0019989013671875, -0.0026092529296875, -0.0033111572265625, -0.0035858154296875, 0.002349853515625, 0.003753662109375, 0.00274658203125, 0.006622314453125, -0.004425048828125, 0.0038604736328125, -0.00604248046875, -0.00555419921875, -0.0017547607421875, -0.00101470947265625, -0.003326416015625, 0.0020904541015625, -0.007171630859375, -0.0030364990234375, -0.000225067138671875, 0.00020885467529296875, -0.0034027099609375, -0.004730224609375, -0.003143310546875, -0.007049560546875, -0.005157470703125, 0.00506591796875, 0.003753662109375, 0.004638671875, -0.00029754638671875, -0.0034942626953125, 0.0026397705078125, -0.0023193359375, 0.0042724609375, 0.002716064453125, 0.006988525390625, -0.00174713134765625, -0.000835418701171875, -0.00098419189453125, -0.0025634765625, -0.00567626953125, -0.003936767578125, -0.00872802734375, 0.0003223419189453125, 0.005523681640625, -0.00799560546875, -0.00750732421875, -0.000637054443359375, -0.0078125, -0.000946044921875, -0.003082275390625, -0.0005035400390625, 0.00341796875, 0.004150390625, 0.000957489013671875, 0.0037994384765625, -0.00323486328125, -0.006988525390625, -0.0038909912109375, 0.004669189453125, -0.00616455078125, -0.00162506103515625, 0.0023956298828125, 0.00142669677734375, -0.0029449462890625, 0.003082275390625, -0.0022735595703125, -0.003997802734375, -0.01446533203125, -0.00299072265625, 0.0029144287109375, -0.005218505859375, -0.00099945068359375, 3.814697265625e-05, 0.003875732421875, -0.0069580078125, -0.00034332275390625, -0.0010986328125, -0.000164031982421875, -0.0068359375, 0.00017642974853515625, -0.0008544921875, -0.0034332275390625, 0.0018157958984375, 0.003326416015625, 0.00201416015625, 0.00152587890625, -0.001251220703125, 0.0020599365234375, 0.003997802734375, 0.000640869140625, 0.00130462646484375, -0.003631591796875, 0.00543212890625, -0.0034942626953125, 0.006561279296875, 0.0045166015625, -0.005279541015625, -0.006683349609375, -0.002655029296875, 0.00274658203125, -0.0025482177734375, -0.004364013671875, -0.004608154296875, 0.01483154296875, -0.00173187255859375, 0.003265380859375, 0.005859375, -0.00860595703125, -0.00127410888671875, 0.0009918212890625, 0.004791259765625, 0.0067138671875, 0.00543212890625, 0.0030975341796875, 0.005279541015625, 0.0028076171875, 0.002471923828125, -0.0001983642578125, -0.00469970703125, 0.0028228759765625, 0.00634765625, -0.00017833709716796875, 0.0047607421875, -0.00201416015625, 0.0045166015625, 0.0004558563232421875, -0.000732421875, 0.003265380859375, 0.0052490234375, -0.000732421875, -0.0025177001953125, 0.00148773193359375, 0.00048828125, -0.000553131103515625, 0.000457763671875, 0.0027618408203125, 0.0023193359375, -0.00616455078125, 0.000453948974609375, 0.00506591796875, 0.003387451171875, 0.00665283203125, -0.003692626953125, 0.004913330078125, -0.0027923583984375, 0.0045166015625, -0.00107574462890625, 0.00064849853515625, 0.0035552978515625, 0.0022430419921875, 0.000209808349609375, 0.00970458984375, -0.003997802734375, -0.0033721923828125, -0.001190185546875, 0.0034637451171875, -0.0014495849609375, -0.00167083740234375, 0.00041961669921875, -0.00262451171875, 0.00634765625, 0.0018157958984375, 0.004058837890625, -0.009033203125, 0.00185394287109375, -0.0030517578125, 0.0019683837890625, -0.0001373291015625, -0.0005035400390625, 0.0001678466796875, -0.000743865966796875, -0.00191497802734375, -0.00634765625, 0.00921630859375, -0.0008087158203125, 0.00238037109375, -0.00494384765625, 0.003173828125, 0.0004119873046875, -0.0101318359375, 0.0010528564453125, -0.000701904296875, 0.0013580322265625, 0.0037384033203125, -0.0003070831298828125, 0.006622314453125, 0.00189971923828125, -0.00823974609375, 0.0087890625, 0.0010986328125, -0.00164031982421875, 0.009765625, -0.00244140625, -0.0024871826171875, -0.010498046875, -0.00384521484375, -0.002777099609375, 0.000652313232421875, -0.00390625, 0.0067138671875, 0.004241943359375, 0.00141143798828125, 0.00323486328125, 0.00069427490234375, 0.00506591796875, 0.000385284423828125, 0.0035858154296875, -0.000850677490234375, 0.0072021484375, 0.0035858154296875, -0.0009765625, -0.001251220703125, -0.00012159347534179688, 0.006683349609375, 0.0017242431640625, 0.0008544921875, 0.00665283203125, 0.00127410888671875, -0.00732421875, -0.01043701171875, 0.004791259765625, -0.004425048828125, -0.00836181640625, -0.0042724609375, 0.00396728515625, -0.004486083984375, -0.0016937255859375, 0.0015716552734375, -0.000537872314453125, -0.0036773681640625, 0.0045166015625, 0.008056640625, 0.006805419921875, -0.00164031982421875, -0.000637054443359375, 0.002288818359375, 0.0057373046875, -0.00141143798828125, 0.00286865234375, -0.00091552734375, -0.002899169921875, 0.0027923583984375, 0.00531005859375, 0.00154876708984375, 0.000690460205078125, 0.00439453125, -0.0020751953125, 0.005706787109375, -0.00095367431640625, 0.005157470703125, 0.0037689208984375, -0.0023193359375, 0.0013580322265625, -0.00274658203125, -0.000553131103515625, -0.00482177734375, -0.004974365234375, -0.0037841796875, 0.00157928466796875, -0.0030670166015625, 0.0036468505859375, -0.0015869140625, -0.002197265625, -0.003509521484375, 0.00421142578125, -0.0084228515625, -0.0002956390380859375, -0.00518798828125, 0.00262451171875, -0.000728607177734375, -0.00396728515625, 0.003814697265625, -0.0002536773681640625, 0.000682830810546875, -0.00112152099609375, -0.0033721923828125, 0.00130462646484375, -0.0035247802734375, -0.000774383544921875, -0.000202178955078125, 0.00018310546875, -0.0067138671875, -0.001983642578125, 0.000789642333984375, 0.004241943359375, 0.000911712646484375, -0.0016326904296875, -0.002960205078125, -0.0016021728515625, -0.003448486328125, 0.004425048828125, -0.0025787353515625, 0.0013580322265625, 0.002227783203125, -0.00543212890625, -0.00194549560546875, -0.005584716796875, 0.0013885498046875, -0.0003490447998046875, -0.00225830078125, 0.01104736328125, 0.00250244140625, -0.0004711151123046875, 0.002593994140625, 0.0019683837890625, -0.0130615234375, -5.841255187988281e-05, -0.0007171630859375, 0.002044677734375, -0.00616455078125, 0.00970458984375, -0.00118255615234375, -0.00115966796875, -0.005218505859375, -0.00159454345703125, -0.000751495361328125, 0.00469970703125, 0.00167083740234375, -0.02197265625, 0.00142669677734375, 0.004913330078125, 0.0003204345703125, -0.004150390625, 0.0024261474609375, -0.0002918243408203125, -0.0023193359375, -0.001922607421875, -0.002716064453125, 0.000701904296875, -0.00096893310546875, 0.0011749267578125, 0.000881195068359375, -2.0384788513183594e-05, -0.00101470947265625, 0.0030975341796875, -0.0012054443359375, 0.0029144287109375, -0.00909423828125, -0.0028076171875, 0.00225830078125, 0.0033111572265625, 0.0022125244140625, -0.0023345947265625, -0.00125885009765625, -0.000873565673828125, 0.001953125, -0.0003223419189453125, 0.00445556640625, 0.003326416015625, 0.0020294189453125, -0.00848388671875, -0.00140380859375, 0.0030059814453125, 0.004547119140625, 0.0031890869140625, 0.0081787109375, -0.003143310546875, -0.0057373046875, 0.0016326904296875, -0.0003414154052734375, -0.004852294921875, -0.0003147125244140625, 0.0048828125, 0.00046539306640625, 0.00160980224609375, -0.0003948211669921875, -0.0012054443359375, 0.002532958984375, 0.001068115234375, 0.0032806396484375, 0.00482177734375, 0.0023651123046875, 0.004638671875, 0.00592041015625, 0.00142669677734375, 0.00173187255859375, -0.004974365234375, -0.002960205078125, 0.004302978515625, -0.00018405914306640625, 0.006927490234375, -0.0004215240478515625, -0.00191497802734375, 0.02001953125, 0.0033721923828125, -0.00787353515625, 0.0019989013671875, -0.00103759765625, -0.00738525390625, 0.001983642578125, -0.0025787353515625, 0.0004596710205078125, 0.0004730224609375, -0.0013885498046875, 0.001708984375, 9.679794311523438e-05, -0.004119873046875, -0.000850677490234375, 0.002166748046875, -0.000827789306640625, -0.0047607421875, -0.0018768310546875, -0.011962890625, 0.0096435546875, 0.006561279296875, -0.006927490234375, -0.002288818359375, -0.000545501708984375, -8.7738037109375e-05, -0.00469970703125, 0.00341796875, -0.005523681640625, 0.00150299072265625, -0.0045166015625, -0.00262451171875, -0.0030059814453125, -0.00872802734375, 0.00011587142944335938, 0.00051116943359375, -0.00024318695068359375, 0.0025634765625, 0.0034027099609375, -0.0029449462890625, -0.001007080078125, -0.00384521484375, 0.001861572265625, 0.00518798828125, 0.0038604736328125, 0.0027923583984375, -0.0023193359375, -0.00311279296875, -0.00372314453125, -0.000545501708984375, 0.003448486328125, 7.581710815429688e-05, 0.003173828125, 0.00020599365234375, 0.00396728515625, -0.0029144287109375, -0.000774383544921875, -0.0020904541015625, 0.0012664794921875, -0.0003204345703125, -0.000629425048828125, -0.0022735595703125, 0.0030975341796875, 0.0023956298828125, -0.010498046875, 0.006927490234375, 0.00063323974609375, 0.000820159912109375, -0.000179290771484375, 0.00121307373046875, 0.000675201416015625, -0.0023040771484375, 0.0021514892578125, -0.00811767578125, -0.0031280517578125, -0.002838134765625, -0.0005035400390625, 0.00262451171875, 0.00151824951171875, -0.00090789794921875, 0.00408935546875, -0.007171630859375, -0.001617431640625, 0.0013275146484375, 0.0009307861328125, -0.00439453125, 0.004974365234375, -0.0081787109375, 0.00299072265625, 0.00592041015625, 0.00183868408203125, -0.007049560546875, 0.005401611328125, 0.0020599365234375, 0.0023040771484375, -0.0106201171875, -0.0111083984375, -0.0013427734375, 0.005645751953125, 0.00023651123046875, -0.004669189453125, 0.00396728515625, 0.00016021728515625, -0.0005950927734375, -0.00176239013671875, 0.005279541015625, 0.0036773681640625, -0.0020904541015625, -0.0068359375, 0.00127410888671875, 0.0021209716796875, 0.0028076171875, 0.000522613525390625, -0.0064697265625, 0.00113677978515625, -0.0064697265625, 0.0026702880859375, 0.0033416748046875, 0.0009002685546875, -0.00131988525390625, 0.0020599365234375, 0.00738525390625, 0.005584716796875, -0.0036163330078125, -0.001617431640625, 0.000667572021484375, -0.00018024444580078125, -0.00183868408203125, -0.002166748046875, 0.0003337860107421875, 0.0003223419189453125, 0.002471923828125, -0.0035247802734375, 0.0018157958984375, 0.00555419921875, -0.00421142578125, -0.006439208984375, 0.005157470703125, -0.00154876708984375, 0.0019989013671875, -0.0023651123046875, -0.000720977783203125, 0.0028228759765625, -0.00439453125, -0.0012969970703125, 0.0020751953125, -0.0059814453125, -0.0035858154296875, 0.00225830078125, -0.000621795654296875, -0.01434326171875, 0.001739501953125, -0.0025177001953125, 0.00118255615234375, -0.00506591796875, 0.002716064453125, 0.0009765625, -0.00225830078125, -0.00060272216796875, 0.0062255859375, -0.00543212890625, 0.0011444091796875, -0.000423431396484375, -0.002593994140625, -0.00244140625, -0.006591796875, 0.000621795654296875, -0.0023956298828125, -0.0006103515625, -5.269050598144531e-05, 0.002044677734375, 0.0050048828125, 0.000667572021484375, -0.0032501220703125, -0.000736236572265625, -0.0018310546875, -0.00347900390625, -0.002197265625, -0.0029754638671875, -0.00494384765625, -0.004150390625, -0.0072021484375, -0.004302978515625, 0.001129150390625, 8.916854858398438e-05, 0.0037384033203125, 0.000396728515625, 0.003326416015625, 0.000743865966796875, -3.0517578125e-05, 0.00146484375, 0.000682830810546875, 0.0029296875, 0.00014209747314453125, -0.0040283203125, 0.0115966796875, 0.00057220458984375, -0.001129150390625, 0.0086669921875, 0.00063323974609375, -0.005126953125, 0.0096435546875, 0.0026397705078125, 0.000957489013671875, 0.006744384765625, 0.003173828125, 0.00238037109375, -0.004180908203125, 0.003631591796875, -0.0037689208984375, -0.0048828125, 0.01348876953125, -0.0026092529296875, -0.00014019012451171875, 0.006378173828125, -0.005340576171875, 0.0035552978515625, 0.001861572265625, 0.00439453125, 0.00164031982421875, -0.0001850128173828125, 0.006134033203125, -0.0021514892578125, 0.005615234375, 0.00262451171875, 0.0038909912109375, 0.00018024444580078125, 0.0004787445068359375, -0.0084228515625, 0.0034942626953125, 0.000812530517578125, -0.005889892578125, -0.004638671875, 0.0017547607421875, -0.0024566650390625, 0.0042724609375, 0.0084228515625, -0.0034942626953125, 0.000652313232421875, -0.007080078125, -0.0031890869140625, -0.000335693359375, -0.0089111328125, 0.005859375, 0.0064697265625, -0.005218505859375, 0.003570556640625, 0.001434326171875, 0.005218505859375, -0.000270843505859375, 0.00160980224609375, 0.00128173828125, 0.00102996826171875, 0.00689697265625, -0.00099945068359375, 0.004486083984375, -0.0030975341796875, -0.0072021484375, 0.005126953125, 0.00543212890625, -0.00136566162109375, 0.01397705078125, -0.0037994384765625, 0.001953125, 0.00148773193359375, -0.000782012939453125, -0.004150390625, 0.003082275390625, -0.00433349609375, 0.000537872314453125, -0.007354736328125, 0.000675201416015625, 0.00176239013671875, -0.005279541015625, 0.00110626220703125, -0.0040283203125, 0.00018024444580078125, -0.004730224609375, -0.008544921875, -0.0023956298828125, 0.005401611328125, -0.0081787109375, -0.002197265625, 0.00189971923828125, 0.002288818359375, 0.0074462890625, 0.0025482177734375, 0.0008087158203125, -0.003204345703125, -0.001556396484375, -0.009033203125, -0.0218505859375, 0.0008392333984375, 0.0014801025390625, -0.00341796875, 0.004364013671875, -0.00176239013671875, -0.0003662109375, -0.002166748046875, -0.00029754638671875, 0.006561279296875, -0.00286865234375, -0.00286865234375, -0.00244140625, -0.005157470703125, 0.000255584716796875, 0.00156402587890625, -0.003082275390625, -0.0047607421875, 0.000621795654296875, 0.001922607421875, 0.00848388671875, -0.002593994140625, 0.00167083740234375, 7.390975952148438e-05, 0.00144195556640625, -0.00750732421875, 0.004669189453125, 4.57763671875e-05, 0.0015106201171875, 0.002716064453125, 0.00262451171875, 0.000885009765625, 0.001373291015625, -0.0031280517578125, 0.000545501708984375, -0.00151824951171875, 0.000797271728515625, 0.002166748046875, -0.00131988525390625, 0.0029144287109375, -0.0123291015625, -7.486343383789062e-05, 0.00445556640625, 0.0038299560546875, -0.001861572265625, 0.000335693359375, 0.005157470703125, 0.000873565673828125, -0.0030975341796875, -0.00170135498046875, -0.005157470703125, 0.0003662109375, 0.007293701171875, 0.0035858154296875, -0.00592041015625, 0.008056640625, 0.0035552978515625, -0.003692626953125, -0.017578125, -0.00070953369140625, -0.006103515625, 0.0015716552734375, -0.004974365234375, -0.0016632080078125, -0.0032958984375, -0.0025177001953125, 0.0002689361572265625, 0.00262451171875, -0.005401611328125, 0.003753662109375, 0.000682830810546875, 0.00191497802734375, -0.0048828125, -0.0011444091796875, -0.0025482177734375, -0.004547119140625, 0.00063323974609375, 0.00115203857421875, -0.00067901611328125, -0.0022430419921875, -0.0001068115234375, -0.00095367431640625, -0.0034332275390625, -0.00141143798828125, -0.00101470947265625, -0.00189208984375, -0.0064697265625, 0.0034637451171875, 0.0027923583984375, -0.00165557861328125, 0.00160980224609375, 0.00180816650390625, -0.006500244140625, 0.004791259765625, -0.00250244140625, -0.0029449462890625, 0.0023193359375, -0.00714111328125, -0.0024261474609375, 0.000324249267578125, -0.0057373046875, -0.0022430419921875, 0.0032196044921875, -0.003204345703125, -0.002166748046875, 0.00714111328125, -0.00244140625, -0.00087738037109375, -0.006683349609375, 0.000888824462890625, 0.006011962890625, 0.00494384765625, 0.00130462646484375, -0.00147247314453125, 0.0047607421875, -0.0062255859375, 0.004791259765625, -0.00823974609375, 0.003173828125, 0.00128936767578125, 0.00439453125, -0.000720977783203125, 0.0032958984375, -0.0023040771484375, 0.00021839141845703125, -0.00146484375, 0.00011205673217773438, 0.0025177001953125, -0.003387451171875, 0.0042724609375, 0.0111083984375, -0.0020599365234375, -3.314018249511719e-05, 0.0021514892578125, 0.0028076171875, -0.0004596710205078125, 0.0024871826171875, -0.000881195068359375, 0.003082275390625, -0.007537841796875, -0.01092529296875, -0.007354736328125, -0.000782012939453125, 0.002593994140625, 0.002532958984375, 0.00299072265625, -0.0018463134765625, -0.0001678466796875, 0.005401611328125, -0.00225830078125, -0.0050048828125, 0.0037384033203125, -0.0017852783203125, -0.002349853515625, 0.0045166015625, -0.00311279296875, 0.0086669921875, -0.00164794921875, 0.007415771484375, 0.00164794921875, -0.005615234375, 0.0025482177734375, 0.0036773681640625, 0.0027008056640625, -0.00506591796875, -0.00095367431640625, 0.0020751953125, 0.000522613525390625, 0.003875732421875, 0.0076904296875, -0.0030059814453125, 0.00238037109375, -0.003662109375, -0.0021209716796875, -0.007415771484375, 0.00023365020751953125, 0.003692626953125, 0.0004520416259765625, 0.003662109375, 0.00049591064453125, -0.00738525390625, 0.0008087158203125, -0.004638671875, -0.00244140625, -0.003997802734375, -0.000659942626953125, -0.00194549560546875, -0.0031585693359375, 0.0030364990234375, -0.00177001953125, -0.0035552978515625, 0.003814697265625, 0.00177001953125, 0.0064697265625, 0.00011301040649414062, -0.001953125, 0.007110595703125, -0.0023345947265625, 0.005157470703125, -0.000640869140625, -0.00145721435546875, -0.006561279296875, -0.00677490234375, -0.001983642578125, -0.0023040771484375, -0.0040283203125, 4.57763671875e-05, -0.0027313232421875, 0.0008544921875, -0.0029449462890625, 0.0028228759765625, 0.005645751953125, 0.0003910064697265625, 0.00616455078125, -0.0022125244140625, -0.000843048095703125, -0.0008544921875, -0.004425048828125, 0.0050048828125, -0.003997802734375, -0.004791259765625, 0.00177001953125, -0.0035400390625, -0.0027008056640625, -0.00171661376953125, 0.0028228759765625, -0.0040283203125, 0.0004634857177734375, 0.004180908203125, -0.0006561279296875, -0.00616455078125, -0.001007080078125, -0.0011444091796875, 0.00335693359375, -0.00151824951171875, -0.0064697265625, -0.0028533935546875, -0.0009765625, 0.001190185546875, 0.003204345703125, 0.0037841796875, 0.0050048828125, 0.0067138671875, -0.0012664794921875, 0.000865936279296875, -1.0192394256591797e-05, 3.0517578125e-05, 0.00238037109375, -0.0034027099609375, 0.0029754638671875, -0.005279541015625, 0.00445556640625, -0.0027923583984375, -0.00323486328125, 0.00083160400390625, -0.000926971435546875, 0.00112152099609375, 0.003814697265625, -0.00323486328125, -0.000904083251953125, -0.00799560546875, 0.00165557861328125, -0.0019989013671875, -0.00482177734375, -0.0028076171875, -0.0032196044921875, -0.0020904541015625, 0.000690460205078125, -0.00049591064453125, 0.006378173828125, 0.0059814453125, 0.0047607421875, 0.0069580078125, 0.004180908203125, -0.000148773193359375, 0.0023040771484375, 0.000782012939453125, -0.007049560546875, 0.0037078857421875, 0.002960205078125, -0.0028533935546875, 0.0037841796875, -0.0004100799560546875, -0.000934600830078125, 0.00135040283203125, 0.003662109375, -6.628036499023438e-05, 0.00701904296875, 0.00201416015625, 0.000843048095703125, -0.00433349609375, -6.341934204101562e-05, -0.002044677734375, -0.003509521484375, -0.0019378662109375, -0.004608154296875, -0.005401611328125, 0.0031280517578125, 0.0010986328125, 0.004486083984375, 0.0042724609375, -0.01904296875, 0.0023040771484375, -0.0020751953125, -0.00110626220703125, 0.00347900390625, 0.000823974609375, 0.0035858154296875, 0.0108642578125, -0.00262451171875, -0.002471923828125, -0.00144195556640625, 0.005706787109375, -0.003662109375, -0.00014209747314453125, -0.003875732421875, -0.00323486328125, 0.00045013427734375, 0.00189971923828125, 0.00299072265625, -0.0032806396484375, -0.00167083740234375, -0.0079345703125, 0.00118255615234375, 0.0034027099609375, 4.9591064453125e-05, -0.0015716552734375, -0.00579833984375, 0.00457763671875, 0.00106048583984375, -0.000705718994140625, 0.005523681640625, -0.003387451171875, -0.003692626953125, 0.00360107421875, -0.005859375, -0.00162506103515625, 0.00592041015625, 1.1444091796875e-05, -0.007598876953125, -0.0040283203125, 0.01025390625, 8.153915405273438e-05, 0.0012054443359375, -0.0034332275390625, -0.0029144287109375, 0.00225830078125, 0.01239013671875, -0.00604248046875, -0.00360107421875, 0.004608154296875, -8.392333984375e-05, 0.004425048828125, 0.001861572265625, 0.0014495849609375, 0.0030517578125, 0.00091552734375, -0.00118255615234375, -0.00390625, 0.00494384765625, -0.00139617919921875, 0.0028533935546875, 0.00171661376953125, -0.00164794921875, 0.004913330078125, 0.00102996826171875, 0.00262451171875, -0.000244140625, -0.000598907470703125, -0.001220703125, 0.006744384765625, 0.0028839111328125, -0.003326416015625, 0.004180908203125, 0.006103515625, -0.003936767578125, -0.00299072265625, 0.00078582763671875, -0.003662109375, 0.0003948211669921875, 0.0003681182861328125, 0.001708984375, -0.00054168701171875, -0.00396728515625, 0.00098419189453125, 0.0025482177734375, -0.0037078857421875, 0.0004673004150390625, -0.001922607421875, -0.003387451171875, -0.000957489013671875, -0.003448486328125, 0.000762939453125, 0.0001220703125, -0.0022125244140625, -0.0069580078125, 0.00262451171875, -0.00127410888671875, -0.003204345703125, -0.0034027099609375, 0.0015869140625, -0.0020904541015625, -0.0022430419921875, -0.0025634765625, -0.0004215240478515625, -0.0022125244140625, -0.00604248046875, -0.00482177734375, -0.0034942626953125, 0.0023040771484375, 0.00174713134765625, -0.00555419921875, 5.340576171875e-05, -0.00179290771484375, -0.002197265625, 0.00927734375, 0.0091552734375, 0.002532958984375, 0.0024871826171875, -0.002349853515625, -0.004364013671875, 0.0034027099609375, -0.0030670166015625, -0.0030670166015625, -0.003692626953125, -0.00848388671875, 0.006927490234375, -0.00408935546875, -0.00011682510375976562, 0.00171661376953125, -0.006744384765625, 0.0034637451171875, 0.00194549560546875, -0.0024566650390625, -0.00146484375, 0.004302978515625, -0.000827789306640625, -0.00125885009765625, 0.00592041015625, 1.8596649169921875e-05, 0.0003376007080078125, -0.0074462890625, -0.000667572021484375, -0.0031585693359375, 0.006072998046875, -0.005645751953125, 0.006744384765625, 0.00194549560546875, 0.002838134765625, 0.005096435546875, -0.001800537109375, 0.0033721923828125, 0.003936767578125, -0.007049560546875, -0.004486083984375, 0.000949859619140625, 0.0030670166015625, -0.000713348388671875, 0.002227783203125, 0.004791259765625, -0.00543212890625, -0.00156402587890625, -0.0002918243408203125, -0.00146484375, 0.00165557861328125, -0.00159454345703125, -0.0036163330078125, 0.002471923828125, 0.01055908203125, 0.0098876953125, 0.0020294189453125, 0.0034942626953125, -0.0016021728515625, -0.00118255615234375, -0.00015163421630859375, 0.001556396484375, -0.0004558563232421875, 0.00115966796875, -0.0016937255859375, -0.0029449462890625, 0.00020599365234375, 0.000522613525390625, -0.0003337860107421875, 0.000640869140625, 0.006103515625, -0.0022430419921875, 0.0024566650390625, 0.0076904296875, -0.0032501220703125, -0.0040283203125, -0.002777099609375, 0.01806640625, 0.005096435546875, 0.003448486328125, 0.00153350830078125, -0.0012664794921875, -0.0089111328125, -0.005889892578125, -1.52587890625e-05, -0.0067138671875, -0.0086669921875, -0.002777099609375, -0.005126953125, 0.003173828125, 0.001373291015625, 0.000457763671875, -0.0024261474609375, -0.0022125244140625, -0.005218505859375, -0.0028533935546875, -0.00286865234375, 0.0015869140625, 9.5367431640625e-05, 0.0036468505859375, -0.0108642578125, 0.00250244140625, 0.00982666015625, 0.00390625, -0.005279541015625, -0.003021240234375, 0.00830078125, 0.003143310546875, 0.0025177001953125, 0.00531005859375, 0.0003261566162109375, 0.0010528564453125, 0.00146484375, -0.00118255615234375, 0.00131988525390625, -0.000759124755859375, 0.0042724609375, -0.006134033203125, -0.0037384033203125, -0.00726318359375, 0.0006103515625, 0.002838134765625, -0.0025177001953125, 0.00139617919921875, -0.00482177734375, 0.00189208984375, -0.00640869140625, -0.0013885498046875, -0.0159912109375, 0.00238037109375, -0.0022735595703125, 0.0028533935546875, 0.000782012939453125, -0.00250244140625, 0.000827789306640625, 0.0010833740234375, 0.00494384765625, -0.00116729736328125, 0.0018157958984375, 0.0013885498046875, 0.000766754150390625, 0.0008544921875, 0.0031585693359375, 0.00127410888671875, -0.005401611328125, 0.00017833709716796875, -0.003448486328125, -0.000911712646484375, -0.00469970703125, 0.00567626953125, 0.000823974609375, -7.581710815429688e-05, 0.001556396484375, 0.00015735626220703125, -0.0029754638671875, -0.0031280517578125, -0.00130462646484375, -0.0038299560546875, -0.0032196044921875, -0.00064849853515625, 0.001708984375, 0.00445556640625, -0.001312255859375, -0.00063323974609375, -0.005523681640625, -0.003173828125, 0.004302978515625, -0.001007080078125, -5.841255187988281e-05, -0.00250244140625, 0.001953125, 0.002105712890625, 0.0059814453125, -0.00640869140625, 0.007110595703125, -0.005645751953125, 0.00151824951171875, 0.00016117095947265625, 5.459785461425781e-05, 0.00128936767578125, -0.000751495361328125, -0.0017242431640625, 0.0003662109375, -0.0042724609375, -0.00165557861328125, 0.001953125, -0.003753662109375, -0.000743865966796875, -0.0038299560546875, 0.00018024444580078125, 0.000751495361328125, -0.002899169921875, -0.00262451171875, 0.0004062652587890625, -0.004638671875, -0.0034332275390625, 0.00188446044921875, 0.003997802734375, -0.0031585693359375, -0.00543212890625, -0.0035552978515625, -0.003509521484375, -0.0011444091796875, -0.0006103515625, 0.0010986328125, -0.002105712890625, -0.00159454345703125, -0.00066375732421875, 0.00372314453125, -0.00101470947265625, -0.004058837890625, -0.0026092529296875, 0.0023345947265625, 0.00133514404296875, 0.0040283203125, 0.00469970703125, 0.001373291015625, -0.001220703125, 0.0031585693359375, 0.00518798828125, -0.00592041015625, 0.002044677734375, -0.00194549560546875, 4.076957702636719e-05, -0.001312255859375, 0.0014495849609375, -0.0015411376953125, -0.00110626220703125, 0.006439208984375, 0.00640869140625, -0.0108642578125, -0.00543212890625, -0.00130462646484375, 8.916854858398438e-05, 0.006195068359375, -0.0032196044921875, -0.0016937255859375, -0.002197265625, 0.000537872314453125, 0.0025634765625, -0.00079345703125, 0.0012664794921875, 0.00043487548828125, -0.00439453125, -0.00152587890625, 0.005126953125, 0.0037689208984375, -0.00106048583984375, 0.00372314453125, 0.00109100341796875, 0.000537872314453125, 8.630752563476562e-05, -0.0038909912109375, 0.0031280517578125, 0.000705718994140625, -0.0031280517578125, 0.0091552734375, 0.0019683837890625, 0.00019073486328125, 0.0026092529296875, 0.0064697265625, -0.0028076171875, 0.0013885498046875, -0.00156402587890625, -0.002349853515625, 0.000507354736328125, 0.0072021484375, 0.003021240234375, 0.0, 0.0032196044921875, 0.01318359375, 0.00384521484375, 0.002777099609375, 0.0016632080078125, 0.0003719329833984375, 0.0023651123046875, 0.002899169921875, 0.000568389892578125, 0.00457763671875, 0.003631591796875, -0.002105712890625, -0.00021076202392578125, 0.0067138671875, 0.00238037109375, 0.0005645751953125, -0.0027618408203125, -0.002838134765625, 0.003570556640625, -0.005859375, -0.00689697265625, -0.0024261474609375, -0.00016307830810546875, 0.006439208984375, -0.005767822265625, -0.0022125244140625, 0.002349853515625, 0.002471923828125, 0.000820159912109375, 0.000812530517578125, -0.00127410888671875, 0.00628662109375, -0.005767822265625, -0.00341796875, 0.00469970703125, 0.0030364990234375, 0.0003108978271484375, 0.0037841796875, -0.000759124755859375, -0.004150390625, 0.00836181640625, 0.00665283203125, 0.00042724609375, -0.00335693359375, 0.00213623046875, 0.0081787109375, 0.00150299072265625, 0.000553131103515625, -0.003143310546875, -0.00213623046875, 0.00421142578125, -0.000568389892578125, 0.00445556640625, -0.0013275146484375, -0.00396728515625, 0.00390625, 0.00119781494140625, 3.24249267578125e-05, 0.0037841796875, -0.0006256103515625, 0.00482177734375, -0.004058837890625, 0.0015716552734375, -0.004547119140625, -0.00347900390625, 0.003814697265625, 0.0026092529296875, -0.0021820068359375, -0.0035247802734375, 0.0081787109375, -0.005615234375, 0.003570556640625, -0.0003662109375, 0.00421142578125, -0.003570556640625, -0.00701904296875, 0.0008392333984375, 0.004119873046875, 0.00616455078125, -0.001983642578125, -0.00164794921875, -0.00157928466796875, -0.0108642578125, -0.0020751953125, 0.00653076171875, 0.0009002685546875, -0.0023956298828125, 0.00604248046875, -0.003204345703125, 0.005615234375, 0.000865936279296875, -0.0001068115234375, 0.00384521484375, -0.00017547607421875, -0.005462646484375, 0.00665283203125, 0.0003528594970703125, 0.002288818359375, 0.0022125244140625, -0.004638671875, -0.0037078857421875, -0.0015869140625, 0.0014495849609375, 0.0019378662109375, -0.0003261566162109375, -0.004119873046875, -0.0006866455078125, -0.0017852783203125, -0.0027313232421875, -0.00262451171875, 0.00112152099609375, 0.00014972686767578125, -0.00482177734375, -0.002349853515625, -0.0004177093505859375, -0.002685546875, 0.00136566162109375, -0.00164031982421875, 0.0003490447998046875, 0.0107421875, -0.0074462890625, 0.003387451171875, 0.00775146484375, 0.0106201171875, -0.003753662109375, -0.004974365234375, -0.0023956298828125, -0.004638671875, -0.0037384033203125, -0.00616455078125, 0.0054931640625, -0.004302978515625, -0.0017547607421875, -0.000560760498046875, -0.0007476806640625, -0.002777099609375, -0.0076904296875, -0.00194549560546875, 0.00014781951904296875, -0.002197265625, -0.0064697265625, -0.00165557861328125, 0.0003509521484375, 0.004638671875, 0.001068115234375, -0.003326416015625, -0.0024871826171875, -0.00153350830078125, 0.000637054443359375, -0.003631591796875, 0.00099945068359375, 0.0011749267578125, 0.0086669921875, 0.00732421875, -0.00384521484375, -0.0123291015625, 0.0047607421875, -0.003021240234375, 0.00238037109375, -0.00177001953125, -0.00130462646484375, -0.0012664794921875, 0.0015411376953125, -4.291534423828125e-05, -0.000682830810546875, 0.00128936767578125, 0.0011749267578125, -0.00579833984375, -0.0045166015625, -0.00110626220703125, -1.52587890625e-05, -0.003265380859375, -0.00396728515625, 0.0002574920654296875, 0.0024261474609375, 0.0052490234375, -0.01055908203125, 0.00494384765625, 0.004974365234375, -0.0001678466796875, -0.003814697265625, -0.007110595703125, -0.00127410888671875, 0.005950927734375, 0.0012054443359375, -0.0010223388671875, -0.00012874603271484375, -0.015869140625, -0.002716064453125, 0.0029449462890625, 0.00482177734375, -0.000179290771484375, 0.0036163330078125, -0.00193023681640625, -0.003692626953125, 0.0003662109375, 0.0004100799560546875, -0.00146484375, -0.0068359375, 0.0003566741943359375, -0.0025482177734375, -0.006866455078125, 0.00714111328125, 0.0014495849609375, 0.0033416748046875, 0.00055694580078125, -0.004119873046875, -0.00069427490234375, -0.0027313232421875, 0.000812530517578125, 0.0019989013671875, 0.00482177734375, 0.0010223388671875, -0.000682830810546875, -0.000274658203125, 0.00148773193359375, 0.000934600830078125, 0.00299072265625, -0.00133514404296875, -0.0069580078125, 0.00433349609375, -0.00445556640625, 0.0024871826171875, -0.00131988525390625, -0.00537109375, 0.00189971923828125, -0.0033416748046875, -0.005401611328125, -0.000244140625, -0.00433349609375, 0.002410888671875, -0.00494384765625, -0.001007080078125, 0.0027313232421875, 0.0035552978515625, 0.0005340576171875, -0.00958251953125, -0.000865936279296875, 0.01019287109375, 0.005828857421875, -0.00084686279296875, 0.00543212890625, -0.002197265625, 0.00148773193359375, 0.00091552734375, 0.0009918212890625, -0.005035400390625, 0.0040283203125, 0.0030364990234375, 0.002838134765625, 0.00543212890625, -0.005035400390625, 0.007293701171875, 0.006195068359375, -0.002685546875, 0.004913330078125, -0.0025177001953125, -0.0014801025390625, 0.00017452239990234375, -0.0034332275390625, -0.002532958984375, 0.00144195556640625, 0.0023193359375, -0.00098419189453125, 0.004364013671875, 0.00994873046875, 0.0035400390625, -0.0034942626953125, -0.0002536773681640625, -0.0089111328125, 0.00116729736328125, -0.0021820068359375, 0.003692626953125, 0.00060272216796875, 0.00128173828125, 0.001739501953125, 0.0025482177734375, 0.00191497802734375, -0.0069580078125, 0.0018310546875, -0.004425048828125, 0.000213623046875, 0.00153350830078125, -0.0002841949462890625, -0.002960205078125, -0.00244140625, 0.000736236572265625, 0.0002841949462890625, -0.00604248046875, 0.000396728515625, -0.0016937255859375, 0.00147247314453125, 0.00180816650390625, 0.00086212158203125, -0.00042724609375, -0.005523681640625, -0.002166748046875, -0.0002689361572265625, -0.0002841949462890625, -0.00185394287109375, 0.00128936767578125, -0.0087890625, -0.004302978515625, -0.0017547607421875, -0.01177978515625, 0.0033721923828125, -0.00011682510375976562, -0.00506591796875, -0.0050048828125, 0.00396728515625, -2.5480985641479492e-06, 0.001800537109375, 0.0009765625, 0.000720977783203125, 0.008544921875, 0.00518798828125, 0.0037078857421875, 0.00360107421875, 0.00396728515625, 8.0108642578125e-05, -0.00034332275390625, -0.00019359588623046875, -0.00274658203125, 0.0031585693359375, -0.0024261474609375, -0.0089111328125, -0.0030059814453125, 0.00186920166015625, 0.0093994140625, -0.004302978515625, -0.008544921875, -0.00099945068359375, -0.0002689361572265625, 0.0037689208984375, 0.001983642578125, 0.005157470703125, -0.0025787353515625, -0.0025177001953125, -0.0030975341796875, -0.004730224609375, -0.000720977783203125, -0.00107574462890625, -0.001739501953125, 0.0025482177734375, -0.00186920166015625, 0.003173828125, 0.00099945068359375, -0.000820159912109375, -0.005889892578125, 0.0057373046875, -0.0024871826171875, -0.0001068115234375, 0.0048828125, 0.002532958984375, 0.00311279296875, 0.007354736328125, -0.00775146484375, -0.0047607421875, -6.103515625e-05, 0.00146484375, -0.00592041015625, -0.004486083984375, -0.00811767578125, -0.001007080078125, -0.00396728515625, 0.0089111328125, 0.00128173828125, -0.00049591064453125, -0.001922607421875, 0.0020294189453125, 0.00125885009765625, 0.00042724609375, 0.0031280517578125, -0.00457763671875, -0.004669189453125, -0.00555419921875, -0.005462646484375, -0.004150390625, -0.004974365234375, 0.002288818359375, 0.0079345703125, -0.0003147125244140625, 0.0040283203125, -0.00019168853759765625, 0.0021820068359375, 0.0002613067626953125, 0.000774383544921875, -0.003753662109375, 0.0020751953125, 0.005584716796875, 0.000492095947265625, 0.0093994140625, -0.0023193359375, -0.000614166259765625, 0.005035400390625, -0.0003757476806640625, 0.0038299560546875, -0.00051116943359375, -0.0059814453125, -0.001983642578125, -0.0015106201171875, 0.005340576171875, -0.000644683837890625, -0.003082275390625, -0.00188446044921875, 0.00860595703125, 0.006011962890625, -0.005615234375, -0.0005950927734375, -0.000152587890625, -0.0029449462890625, 0.0034332275390625, 5.602836608886719e-05, -0.000278472900390625, 0.0032196044921875, 0.0013275146484375, -0.000579833984375, -0.00714111328125, -0.000942230224609375, 0.0034332275390625, -0.004547119140625, 0.007049560546875, 0.0021820068359375, -0.003326416015625, -0.004791259765625, 0.0004024505615234375, 0.0027618408203125, -0.00145721435546875, 0.001983642578125, -0.002593994140625, -0.001495361328125, 0.005889892578125, -0.006195068359375, 0.004486083984375, 0.002593994140625, 0.0031585693359375, 0.00019550323486328125, -0.0023956298828125, -0.004608154296875, -0.00103759765625, 0.0022735595703125, 0.00078582763671875, -0.000537872314453125, -0.00445556640625, 0.000652313232421875, 0.0037841796875, -0.000629425048828125, 0.0002460479736328125, 0.0019073486328125, 0.0005645751953125, 0.004913330078125, -0.00110626220703125, 0.00023365020751953125, 0.0009765625, -0.0032501220703125, 0.005859375, -0.008544921875, 0.00860595703125, 0.002777099609375, 0.002410888671875, 0.00064849853515625, -0.002716064453125, -0.003143310546875, -0.00335693359375, -0.001007080078125, 0.0096435546875, 0.003814697265625, -0.003143310546875, 0.00531005859375, -0.0022430419921875, 0.005859375, -0.002227783203125, 0.00469970703125, 0.00023651123046875, 0.0087890625, 0.00164794921875, -7.104873657226562e-05, -0.003814697265625, 0.007781982421875, 0.002777099609375, -0.0009613037109375, 0.00107574462890625, 0.004425048828125, 0.000888824462890625, -0.005828857421875, 0.003448486328125, -0.003326416015625, -0.00170135498046875, -0.0002841949462890625, 5.0961971282958984e-06, 0.0086669921875, -0.00165557861328125, -0.002899169921875, 0.005859375, 0.001739501953125, 0.001983642578125, -0.0013580322265625, 0.00469970703125, -3.0517578125e-05, -0.0031890869140625, 0.004791259765625, -0.00179290771484375, 0.004150390625, 0.0021514892578125, -0.007110595703125, 0.0035552978515625, -0.005035400390625, 0.000736236572265625, -0.003631591796875, -0.0062255859375, -0.002960205078125, 0.00225830078125, 0.007171630859375, 0.0031585693359375, -0.0022735595703125, -0.000957489013671875, -0.000888824462890625, 0.000774383544921875, 0.0034637451171875, -0.0038604736328125, 0.00823974609375, 0.0005950927734375, 0.0009918212890625, -0.002227783203125, -0.00136566162109375, 0.00408935546875, 0.00439453125, -0.0125732421875, -0.00213623046875, 0.00162506103515625, 0.00141143798828125, -0.00052642822265625, 0.00372314453125, 0.0028533935546875, 0.000873565673828125, 0.006591796875, 0.000141143798828125, 0.0067138671875, 0.0020904541015625, 0.000675201416015625, -0.0025787353515625, 0.0018768310546875, 0.00396728515625, -0.001953125, -0.000797271728515625, 0.00042724609375, 0.00567626953125, 0.00341796875, -0.00225830078125, -0.0025787353515625, -0.00141143798828125, 0.0024871826171875, 0.0037078857421875, 0.0052490234375, 0.00250244140625, -0.005218505859375, -0.003753662109375, 0.0002651214599609375, 0.00162506103515625, -0.004852294921875, -0.000652313232421875, -0.00144195556640625, -0.00122833251953125, -0.00113677978515625, 0.000545501708984375, -0.0031585693359375, -0.00341796875, 0.003326416015625, -0.00164031982421875, -0.000568389892578125, 0.00107574462890625, -0.0068359375, -0.004180908203125, -0.006378173828125, -0.0064697265625, 0.0108642578125, -0.003875732421875, -0.0016937255859375, 0.002410888671875, -0.00628662109375, 0.00323486328125, 0.00677490234375, -0.000629425048828125, 0.000782012939453125, -0.0034637451171875, 0.000911712646484375, 0.006134033203125, 0.0037994384765625, -0.004302978515625, -0.00159454345703125, -0.00390625, -0.000904083251953125, -0.000881195068359375, 0.000736236572265625, -0.00518798828125, 0.0031280517578125, -0.0012054443359375, 0.007568359375, 0.002197265625, -0.00244140625, 0.00408935546875, 0.00653076171875, 0.00244140625, 0.00171661376953125, -0.003570556640625, -0.00165557861328125, -0.0019989013671875, -0.0008697509765625, 0.00176239013671875, 0.00167083740234375, -0.00156402587890625, -0.007354736328125, -0.005767822265625, 0.004150390625, -0.00860595703125, 0.00180816650390625, 0.01007080078125, 0.006805419921875, 0.002532958984375, -0.0025787353515625, -0.00238037109375, 0.0032501220703125, 0.00106048583984375, -0.0003910064697265625, 0.0045166015625, -0.0047607421875, 0.002716064453125, 0.0031280517578125, -0.001129150390625, 0.00274658203125, -0.0021514892578125, -0.00177001953125, 0.0009918212890625, -0.00020313262939453125, 0.0025177001953125, -0.0040283203125, 0.00122833251953125, -0.005035400390625, -0.003448486328125, -0.0106201171875, 0.006683349609375, -0.0036468505859375, 0.0029754638671875, -0.00543212890625, -0.0022735595703125, 0.0025787353515625, 0.00390625, -0.0040283203125, 0.00421142578125, 0.0022125244140625, -0.0018310546875, 0.0027618408203125, -0.0031280517578125, 0.00079345703125, 0.004058837890625, -0.00146484375, 0.00347900390625, -0.004608154296875, 0.004791259765625, 0.007171630859375, -0.001617431640625, -0.0013580322265625, 0.0045166015625, 0.002197265625, -0.00131988525390625, -0.006988525390625, 0.000720977783203125, -0.0027923583984375, -0.0032501220703125, 0.004638671875, 0.006500244140625, 0.00157928466796875, -0.0081787109375, 0.004058837890625, 3.314018249511719e-05, -0.0015716552734375, -0.0076904296875, -0.0034637451171875, 0.000667572021484375, -0.00335693359375, 0.006622314453125, 0.00482177734375, 0.00121307373046875, -0.000576019287109375, -0.00019359588623046875, 0.0017852783203125, 0.000598907470703125, 0.005218505859375, 0.001708984375, 0.005279541015625, -0.00020313262939453125, 0.0010223388671875, -0.0025634765625, 0.004241943359375, 0.0020599365234375, -0.00482177734375, 0.0026397705078125, 0.00494384765625, -0.004730224609375, 0.00115203857421875, -0.004425048828125, 0.0021820068359375, 0.0007171630859375, -0.0028533935546875, 0.0032196044921875, 0.002532958984375, 0.00109100341796875, -0.00013446807861328125, -0.007415771484375, -0.005767822265625, 0.0022430419921875, -0.0027923583984375, 0.001953125, 0.005340576171875, -0.0020294189453125, 0.002166748046875, -0.0013885498046875, 0.00189971923828125, 0.00482177734375, -0.002349853515625, 0.00506591796875, 0.000713348388671875, 0.0004367828369140625, -0.0024871826171875, -0.007080078125, -0.007049560546875, -0.0016632080078125, 0.004638671875, 0.00604248046875, -0.005126953125, 0.00153350830078125, -0.00147247314453125, 0.00099945068359375, -0.0030364990234375, 0.0012054443359375, 6.246566772460938e-05, 0.00390625, 0.002471923828125, -0.00173187255859375, -0.000751495361328125, -0.00299072265625, 0.0069580078125, -0.00118255615234375, -0.0040283203125, 0.0010833740234375, -0.00244140625, -0.0079345703125, 0.0072021484375, -0.002838134765625, -0.001678466796875, 0.00127410888671875, 0.0012359619140625, -0.0037841796875, 0.00103759765625, 0.00101470947265625, 0.006103515625, 0.005096435546875, -0.003082275390625, -0.00058746337890625, 0.00090789794921875, -6.341934204101562e-05, 0.00732421875, 0.000865936279296875, -0.00124359130859375, -0.0010528564453125, -0.006683349609375, 0.00125885009765625, 0.0002498626708984375, -0.006591796875, -0.0064697265625, 0.0022125244140625, -0.000644683837890625, 0.00164031982421875, -0.0047607421875, 0.005126953125, 0.0002384185791015625, 0.0025634765625, -0.00118255615234375, 0.002227783203125, -0.0030059814453125, -0.004241943359375, 0.003662109375, -0.0069580078125, 0.0011138916015625, -0.0003414154052734375, 0.005401611328125, -0.0011138916015625, -0.004730224609375, 0.0032501220703125, 0.00194549560546875, 0.002197265625, 0.0008544921875, -0.0037078857421875, -0.00244140625, -0.0052490234375, -0.00311279296875, -0.00083160400390625, 0.006622314453125, 0.0074462890625, -0.002532958984375, -0.001617431640625, -0.00145721435546875, 0.00299072265625, 0.0019683837890625, -0.00665283203125, 0.0028839111328125, 0.000782012939453125, 0.00013256072998046875, -0.0010528564453125, -0.0020294189453125, 0.00653076171875, 0.000919342041015625, -0.000843048095703125, -0.0020294189453125, 0.00185394287109375, 0.004425048828125, -0.00341796875, 0.000370025634765625, 0.0076904296875, 0.000579833984375, 0.004302978515625, -0.005950927734375, -0.0050048828125, 0.0030059814453125, 0.000514984130859375, -0.0029144287109375, 0.002471923828125, -0.0002994537353515625, 0.0050048828125, 0.00518798828125, -0.00133514404296875, 0.00106048583984375, -0.00372314453125, -0.0004863739013671875, 0.0054931640625, -0.0045166015625, -0.002899169921875, -0.0010528564453125, -0.0036163330078125, -0.00042724609375, -0.0029754638671875, 0.00017833709716796875, 0.000629425048828125, -0.001617431640625, 0.00130462646484375, 0.0034637451171875, 0.0017852783203125, -0.007080078125, -0.00738525390625, 0.0093994140625, 0.0074462890625, -0.0004749298095703125, 0.00035858154296875, 0.005401611328125, 0.005615234375, -0.00250244140625, 0.004119873046875, -0.004486083984375, 0.004608154296875, 0.004547119140625, 0.004150390625, 0.0010986328125, -0.0003681182861328125, 0.00015354156494140625, 0.002410888671875, -0.001129150390625, -0.004669189453125, 0.006744384765625, 0.0001220703125, 0.00360107421875, -0.0035858154296875, 0.00543212890625, 0.003387451171875, 0.00032806396484375, -0.001495361328125, -0.00173187255859375, 0.0037078857421875, 0.000457763671875, -0.005218505859375, 0.004608154296875, -0.0042724609375, 0.00872802734375, -0.000965118408203125, -0.002105712890625, -0.00022602081298828125, -0.000396728515625, -0.004791259765625, 0.002532958984375, 0.0027008056640625, -0.007232666015625, 0.002838134765625, -0.001861572265625, -2.0384788513183594e-05, 0.003692626953125, -0.004364013671875, 0.00084686279296875, -3.552436828613281e-05, -0.00244140625, 0.0020599365234375, -0.003509521484375, -0.0024871826171875, -0.00020313262939453125, -0.01055908203125, -0.00244140625, 0.007354736328125, -0.000659942626953125, 0.0045166015625, -0.0072021484375, -0.000835418701171875, 0.00408935546875, 0.0016632080078125, 0.004150390625, -0.004638671875, 0.00017547607421875, -0.00848388671875, -0.000865936279296875, 0.004150390625, 0.002593994140625, 0.00421142578125, -0.00152587890625, -0.00084686279296875, 0.011474609375, -0.00089263916015625, -0.0037078857421875, -0.0009002685546875, 0.00537109375, 0.007232666015625, 0.0035858154296875, 0.0009002685546875, 0.000278472900390625, -0.005767822265625, 0.000400543212890625, 0.00286865234375, 0.00433349609375, -0.000576019287109375, 0.000560760498046875, 0.00445556640625, 0.00083160400390625, -0.0018310546875, 0.003265380859375, -0.005035400390625, -0.00098419189453125, 0.00494384765625, -0.0025177001953125, 0.0003337860107421875, -0.0011749267578125, -0.00274658203125, -0.000545501708984375, 0.00567626953125, 0.000934600830078125, 2.0384788513183594e-05, 0.00439453125, 0.00115966796875, 0.0015411376953125, 0.0026702880859375, -0.0001373291015625, 0.00136566162109375, -0.01397705078125, 0.00518798828125, 0.00139617919921875, 0.004608154296875, -0.00140380859375, 0.00016498565673828125, 0.00714111328125, -0.000972747802734375, 0.00159454345703125, -0.03369140625, 0.001800537109375, 0.007171630859375, -0.001739501953125, 0.003631591796875, 0.0036468505859375, -0.004486083984375, -0.003997802734375, 0.002349853515625, -0.000904083251953125, -0.006134033203125, 0.000492095947265625, 0.0023651123046875, 0.001983642578125, 0.004852294921875, 0.00494384765625, 0.000873565673828125, -0.00015163421630859375, -0.002685546875, -0.0012359619140625, 0.0050048828125, 0.000621795654296875, -0.0006866455078125, 0.0016326904296875, -0.000850677490234375, 0.004150390625, -0.00104522705078125, -0.005523681640625, 0.00323486328125, -0.00167083740234375, 0.00051116943359375, -0.004913330078125, -0.0021820068359375, 0.0037841796875, -0.0078125, -0.004150390625, -0.00122833251953125, 0.004486083984375, -0.00017261505126953125, 0.0014190673828125, 0.006195068359375, 0.00014209747314453125, -0.0059814453125, -0.002960205078125, -0.0030975341796875, -0.009521484375, -0.0020599365234375, 0.00131988525390625, 0.0005035400390625, 0.00701904296875, 0.0036163330078125, 0.00390625, 0.000919342041015625, -0.006500244140625, 0.00189208984375, 0.00579833984375, -0.00142669677734375, 0.0017242431640625, -0.000537872314453125, 0.004425048828125, 0.00555419921875, 0.00103759765625, 0.000537872314453125, 0.002685546875, -0.00148773193359375, 0.006988525390625, 0.00142669677734375, 0.001251220703125, -0.003997802734375, -0.000576019287109375, -0.0003204345703125, -1.52587890625e-05, 0.00616455078125, 0.0028839111328125, 0.000606536865234375, 0.001434326171875, -0.01092529296875, -0.00823974609375, -0.004974365234375, -0.00025177001953125, 0.029296875, 0.001068115234375, 0.0069580078125, 0.00567626953125, 0.000457763671875, 0.0069580078125, 0.008544921875, 0.0031280517578125, -0.007171630859375, -0.004364013671875, -0.005584716796875, 0.00543212890625, 0.003814697265625, 0.0034942626953125, 0.00018310546875, 0.004852294921875, 0.0042724609375, 0.000247955322265625, 6.3478946685791016e-06, 0.0036163330078125, 0.00225830078125, -0.00518798828125, 0.0029449462890625, 2.8014183044433594e-05, -0.003509521484375, -0.0029754638671875, 0.005401611328125, 0.0048828125, 0.00021076202392578125, 0.00335693359375, -0.000560760498046875, 0.00396728515625, -0.0014190673828125, 0.0003910064697265625, -0.0069580078125, 0.000827789306640625, 0.00958251953125, -9.012222290039062e-05, 0.006378173828125, -0.00032806396484375, 0.0045166015625, -0.00018024444580078125, 0.000659942626953125, 0.000568389892578125, -0.001983642578125, 0.00433349609375, 0.00457763671875, -0.005828857421875, 0.00390625, 0.0001220703125, 0.00012874603271484375, 0.00012969970703125, 0.0042724609375, 0.00421142578125, -0.004547119140625, -0.0034332275390625, -0.0015106201171875, -0.0032196044921875, -0.000812530517578125, -0.00164031982421875, -0.0018463134765625, 0.006927490234375, -0.005218505859375, -0.0014801025390625, 0.0030059814453125, 6.103515625e-05, -0.00112152099609375, 0.0045166015625, -0.0034027099609375, -0.003509521484375, 0.001190185546875, -0.0045166015625, -0.006378173828125, -0.0020904541015625, 0.0023193359375, 0.001953125, 0.000732421875, 0.00543212890625, 0.00014209747314453125, 0.0024566650390625, 0.002105712890625, -0.00408935546875, 0.004180908203125, -0.005401611328125, -0.00191497802734375, -0.00335693359375, -0.0033111572265625, -0.0037384033203125, -0.002288818359375, -0.00124359130859375, -0.0028228759765625, -0.0002994537353515625, -0.000148773193359375, 0.004150390625, 0.00726318359375, 0.004302978515625, -0.00103759765625, 0.005645751953125, 0.001373291015625, 0.00078582763671875, 0.001129150390625, 0.0027313232421875, -0.01409912109375, 0.0020599365234375, 0.00396728515625, -0.00408935546875, -0.0033721923828125, -0.00360107421875, -0.003814697265625, -0.00335693359375, -0.00213623046875, 0.005462646484375, -0.007415771484375, -0.0018463134765625, 0.00787353515625, 0.0013885498046875, -0.000736236572265625, 0.005126953125, 0.00982666015625, 0.0026397705078125, -0.0038299560546875, 0.0032501220703125, 0.002166748046875, -0.005767822265625, 0.004547119140625, -0.000568389892578125, 0.0016937255859375, 0.00165557861328125, -0.000576019287109375, 0.00119781494140625, 0.00531005859375, -0.0001983642578125, 0.0081787109375, -0.0015106201171875, -0.0014495849609375, 0.0034942626953125, -0.000522613525390625, 0.002471923828125, -0.00164794921875, 0.005615234375, -0.0004253387451171875, -0.00457763671875, 0.000942230224609375, 0.0003452301025390625, -0.00099945068359375, 0.004486083984375, -0.000659942626953125, 0.00408935546875, -0.00567626953125, -0.00069427490234375, -0.004486083984375, 0.00775146484375, -0.003021240234375, 0.00020122528076171875, -0.00885009765625, -0.0025177001953125, -0.005706787109375, -0.0034027099609375, 0.00011682510375976562, 0.0008544921875, 0.002288818359375, 0.00177764892578125, 0.00180816650390625, 0.004638671875, 0.006622314453125, 0.00360107421875, 0.00238037109375, -0.001617431640625, -0.003143310546875, -0.00148773193359375, -0.004150390625, 0.0050048828125, -0.00634765625, -0.00164794921875, -0.00567626953125, 0.00156402587890625, -0.0069580078125, -0.004791259765625, -0.00022411346435546875, -0.0069580078125, -0.00116729736328125, -0.00170135498046875, 0.00051116943359375, 0.00146484375, 0.00140380859375, 0.005035400390625, -0.00360107421875, 0.00323486328125, 0.00396728515625, 0.00433349609375, 0.00518798828125, -0.00433349609375, -0.005615234375, 0.003997802734375, 0.002899169921875, 0.0031890869140625, -0.00160980224609375, 0.0020294189453125, -0.003814697265625, -0.00124359130859375, 0.00151824951171875, 0.00018310546875, 0.0020751953125, 0.000827789306640625, -0.004974365234375, -0.0014495849609375, 0.00543212890625, 0.00019550323486328125, -0.000881195068359375, -0.002777099609375, 0.00408935546875, -0.000469207763671875, -0.00213623046875, -0.0020599365234375, -0.004364013671875, 0.0020294189453125, 0.0002288818359375, 0.01068115234375, 0.00506591796875, -0.007080078125, 0.000705718994140625, 0.044921875, -0.0017242431640625, -0.006195068359375, -0.00640869140625, 0.0003204345703125, -0.001617431640625, -8.392333984375e-05, -0.0048828125, -0.002166748046875, -0.009521484375, 0.00160980224609375, 0.00494384765625, 0.003936767578125, -0.0042724609375, 0.00168609619140625, 0.00147247314453125, 0.001312255859375, 0.000598907470703125, -0.00286865234375, 0.000637054443359375, -0.00141143798828125, -0.009765625, -0.000843048095703125, -0.00109100341796875, -0.00469970703125, 0.004150390625, 0.00689697265625, -0.0025787353515625, -0.001953125, -0.000614166259765625, -0.001129150390625, -0.00165557861328125, -0.00311279296875, -0.002166748046875, 0.00506591796875, -0.002716064453125, -0.00665283203125, 0.00335693359375, -0.00372314453125, 0.00174713134765625, 0.00347900390625, 0.0010528564453125, -0.0087890625, 0.0030517578125, 0.00543212890625, -0.00347900390625, -0.00078582763671875, -0.00092315673828125, -0.003692626953125, -0.007049560546875, -0.005218505859375, -0.00238037109375, 0.00494384765625, 0.0037078857421875, -0.00017833709716796875, 0.0019683837890625, -0.00080108642578125, -0.0031890869140625, 0.0013885498046875, -0.0021514892578125, -0.00156402587890625, -0.0019683837890625, -0.005279541015625, 0.0029754638671875, 0.0025177001953125, -0.00139617919921875, -0.000698089599609375, 0.00067901611328125, 0.000186920166015625, -0.00225830078125, 0.00262451171875, -0.002960205078125, -0.000591278076171875, -0.000972747802734375, 0.0028076171875, -0.00384521484375, 0.0076904296875, -0.0023345947265625, -0.00182342529296875, -0.008544921875, 0.0035552978515625, 0.0023651123046875, -0.002166748046875, -0.000621795654296875, 0.0022125244140625, -0.001678466796875, -0.00164794921875, 0.004730224609375, 0.00384521484375, 0.00086212158203125, -0.000274658203125, -0.002471923828125, -0.00274658203125, 0.000888824462890625, -0.0018157958984375, 0.002227783203125, 0.003326416015625, -0.0029296875, 0.00140380859375, -0.0035552978515625, -0.00116729736328125, 0.0028076171875, 0.003082275390625, 0.003387451171875, 0.005340576171875, -0.00921630859375, 0.002166748046875, -0.00860595703125, -0.00689697265625, 0.00726318359375, 0.00201416015625, 0.00182342529296875, -0.00185394287109375, -0.00133514404296875, 0.0067138671875, 0.001739501953125, 4.9591064453125e-05, -0.00531005859375, -0.00372314453125, -0.00897216796875, 0.00872802734375, 0.005584716796875, 0.00142669677734375, 0.01171875, -0.005157470703125, 0.0028076171875, 0.003387451171875, 0.00225830078125, -0.0059814453125, 0.0029296875, -0.0031280517578125, -0.00130462646484375, 0.000553131103515625, 0.0016021728515625, -0.00075531005859375, -0.0040283203125, -0.00038909912109375, 0.0284423828125, -0.00445556640625, 0.0038909912109375, -0.005859375, -0.0026092529296875, 0.004241943359375, -0.0029754638671875, 0.00145721435546875, -0.00066375732421875, 0.001922607421875, 0.00250244140625, 0.000579833984375, -0.00445556640625, 0.00531005859375, -0.004486083984375, -0.00022125244140625, 0.00579833984375, 0.004425048828125, 0.00604248046875, -0.0035858154296875, -0.005279541015625, -0.00860595703125, -0.00555419921875, -0.000843048095703125, 0.001983642578125, -0.00151824951171875, 0.00421142578125, -4.57763671875e-05, -0.006011962890625, -0.006378173828125, -0.00023174285888671875, 0.00188446044921875, 0.0025482177734375, 0.0020294189453125, -0.00115966796875, -0.0020904541015625, -0.00555419921875, -0.01055908203125, 0.00133514404296875, 0.01318359375, -0.0015716552734375, 0.000827789306640625, 0.0011444091796875, -0.0015869140625, -0.000789642333984375, 0.00140380859375, 0.0001373291015625, -0.0020904541015625, 0.00153350830078125, -0.0005035400390625, -0.0009002685546875, -0.0021514892578125, 0.005279541015625, -0.00274658203125, -0.00168609619140625, -0.000637054443359375, -0.00537109375, -0.00171661376953125, 0.004058837890625, 0.00063323974609375, -0.007568359375, 0.0019378662109375, 0.00144195556640625, 0.00543212890625, -0.005767822265625, -0.00182342529296875, -0.00653076171875, -0.0028076171875, 0.00421142578125, 0.0072021484375, 0.00110626220703125, 0.0002803802490234375, -0.00122833251953125, 0.002288818359375, 0.00140380859375, -0.00014209747314453125, -0.0022125244140625, 0.00335693359375, -0.0004749298095703125, 0.00070953369140625, 0.00830078125, 0.00408935546875, 0.001220703125, 0.0009613037109375, 0.00089263916015625, -0.000873565673828125, -0.0011749267578125, -0.0002651214599609375, -0.0022125244140625, -0.004058837890625, -0.00372314453125, 0.0014190673828125, -0.0026702880859375, 0.001922607421875, -0.00787353515625, 4.57763671875e-05, 0.0032806396484375, -0.00177764892578125, 0.0035400390625, 0.002288818359375, 0.0031280517578125, 0.00531005859375, 0.00020122528076171875, 0.00084686279296875, -0.0025634765625, -0.002044677734375, -0.005767822265625, 0.000560760498046875, -0.004791259765625, -0.000560760498046875, -0.00130462646484375, -0.0004024505615234375, 0.003570556640625, 0.00168609619140625, 0.006195068359375, -0.000598907470703125, -0.00396728515625, -0.000545501708984375, -0.0004444122314453125, 0.00110626220703125, 0.00909423828125, 0.001434326171875, -0.002166748046875, -0.0107421875, 0.0048828125, -0.0025634765625, 0.00567626953125, -0.0057373046875, 0.00115203857421875, 0.0023193359375, 0.00026702880859375, -0.0016937255859375, -0.003204345703125, 0.0045166015625, 0.0068359375, -0.005523681640625, -6.628036499023438e-05, 0.00075531005859375, -0.00469970703125, -0.006134033203125, -0.006561279296875, -0.0003814697265625, 0.006378173828125, -0.00457763671875, -0.00830078125, -0.001251220703125, 0.00335693359375, -0.00396728515625, 0.00433349609375, -0.00494384765625, 0.00103759765625, 0.00177764892578125, -0.002838134765625, 0.00726318359375, 0.002838134765625, -0.00116729736328125, 0.00323486328125, -0.00029754638671875, -0.003509521484375, 0.0084228515625, -0.00022792816162109375, 0.00035858154296875, -0.00188446044921875, -0.00384521484375, 0.0002956390380859375, 0.002960205078125, -0.0023345947265625, 0.0007781982421875, -0.004486083984375, -0.000957489013671875, 0.0023956298828125, -0.0029754638671875, 0.004913330078125, -0.0052490234375, -0.00159454345703125, 0.0003814697265625, 0.00592041015625, -0.0004730224609375, 0.000804901123046875, 0.00147247314453125, 0.004791259765625, -0.000614166259765625, -0.004974365234375, -0.0003204345703125, -0.00653076171875, -0.00014781951904296875, -0.008544921875, -0.005889892578125, -0.00323486328125, 0.000545501708984375, -0.006591796875, 0.005157470703125, -0.00121307373046875, 0.0023956298828125, 0.00128936767578125, -0.00145721435546875, -0.00335693359375, 0.00070953369140625, -0.00579833984375, -0.003631591796875, 0.004852294921875, -0.00439453125, -0.00274658203125, -0.002593994140625, 0.0048828125, 0.0111083984375, 0.004608154296875, 0.005615234375, 0.0013580322265625, -0.007720947265625, -0.002593994140625, 0.0022735595703125, 0.004119873046875, 0.0038604736328125, -0.00151824951171875, -0.00274658203125, 0.00121307373046875, -0.00927734375, -0.0069580078125, 0.00604248046875, -0.004791259765625, -0.0032806396484375, 0.00537109375, -0.009765625, 0.0087890625, 0.005218505859375, -0.00390625, 0.0023956298828125, -0.00299072265625, -0.0069580078125, -0.0026397705078125, 0.000762939453125, 0.0038604736328125, 0.00457763671875, -0.000713348388671875, 0.0002288818359375, 0.0013275146484375, -0.005523681640625, -0.005401611328125, 0.004608154296875, 0.000919342041015625, 0.002044677734375, -0.00885009765625, 0.0032196044921875, 0.0025177001953125, 0.00170135498046875, 0.00180816650390625, -0.007232666015625, 0.0018768310546875, 0.0020599365234375, -0.00092315673828125, 0.004974365234375, -0.0003376007080078125, -0.00433349609375, -0.0013275146484375, 0.00081634521484375, 0.004974365234375, -0.0016632080078125, 0.002716064453125, 0.00017070770263671875, -0.003448486328125, -0.004638671875, 0.0003337860107421875, -0.00726318359375, -0.0035247802734375, -0.003662109375, -0.003204345703125, -0.000568389892578125, -0.0004177093505859375, -0.0014801025390625, -0.001007080078125, -0.000850677490234375, -0.006927490234375, -0.0034942626953125, -0.001983642578125, 0.00457763671875, -0.00421142578125, 0.00020885467529296875, -0.00390625, -0.00121307373046875, 0.0004425048828125, -0.005035400390625, 0.003692626953125, 0.00567626953125, 0.002685546875, -0.01409912109375, 0.01092529296875, -0.0002536773681640625, -0.0024871826171875, -0.0040283203125, 0.0012664794921875, -0.004241943359375, 0.0008544921875, 0.002227783203125, -0.0069580078125, 0.011962890625, 0.00098419189453125, -0.00119781494140625, -0.000370025634765625, -2.5480985641479492e-06, -0.00958251953125, -0.005096435546875, 0.007049560546875, -0.000682830810546875, 0.004302978515625, -0.001983642578125, 0.000423431396484375, -0.0028228759765625, -0.0035247802734375, 0.00616455078125, -0.0035858154296875, 0.00099945068359375, 2.5391578674316406e-05, -0.00013446807861328125, 0.00171661376953125, 0.007720947265625, -0.00341796875, -0.0003795623779296875, -0.005584716796875, 0.0002956390380859375, 0.00046539306640625, 0.00189971923828125, 0.0037078857421875, 0.0009765625, 0.00015163421630859375, 0.000598907470703125, 0.0010528564453125, -0.0040283203125, 0.005096435546875, 0.00469970703125, 0.00015354156494140625, -0.002166748046875, 0.0072021484375, 0.004180908203125, 0.0027923583984375, 0.00238037109375, 0.0016021728515625, 0.0028228759765625, -0.000881195068359375, -0.004852294921875, -0.00555419921875, -0.0047607421875, 0.0003681182861328125, 0.0022735595703125, 0.00335693359375, -0.00139617919921875, 0.007568359375, 0.0048828125, -0.001190185546875, 0.003692626953125, -0.0035858154296875, -0.00121307373046875, 0.00146484375, 0.007110595703125, 0.006195068359375, -0.00020313262939453125, -0.00176239013671875, 0.004608154296875, -0.0003528594970703125, 0.0005340576171875, 0.0002460479736328125, -0.00115203857421875, 0.00051116943359375, -0.0001506805419921875, 0.004852294921875, 0.00183868408203125, -0.005859375, -0.0025634765625, -0.00130462646484375, -0.0045166015625, 0.0027008056640625, -0.004852294921875, 0.00165557861328125, -0.00390625, -0.006439208984375, -0.002532958984375, -0.0003662109375, 0.0014801025390625, 0.009033203125, -0.00311279296875, 0.00112152099609375, 0.0040283203125, 0.004180908203125, -0.0033721923828125, -0.0040283203125, -0.01348876953125, 0.0029296875, -0.0025482177734375, -0.004119873046875, -0.003204345703125, 0.001495361328125, 0.005706787109375, 0.007720947265625, 0.004852294921875, -0.001129150390625, 0.006317138671875, 0.006683349609375, -0.00225830078125, -0.00927734375, -0.00799560546875, 0.007049560546875, -0.0020599365234375, -0.010009765625, 0.00152587890625, 0.0019683837890625, 0.0016937255859375, -0.0023345947265625, 0.0007476806640625, -5.412101745605469e-05, 0.004852294921875, -0.00787353515625, 0.002532958984375, -0.000606536865234375, 0.004852294921875, -0.003265380859375, -0.002471923828125, 0.0037841796875, -0.00653076171875, 0.00141143798828125, -0.01409912109375, -0.0021820068359375, 0.0005340576171875, -0.0016937255859375, 0.01007080078125, 0.00390625, 0.005401611328125, 0.00159454345703125, 0.00078582763671875, -0.0054931640625, -0.0093994140625, 0.005950927734375, -0.00457763671875, 0.002349853515625, 0.00023651123046875, 0.0036773681640625, -0.003204345703125, -9.775161743164062e-05, -0.0023651123046875, 0.00112152099609375, -0.0033416748046875, -0.000457763671875, -0.004852294921875, 0.00469970703125, -0.00049591064453125, 0.0024871826171875, 7.104873657226562e-05, 0.00121307373046875, 0.00144195556640625, -0.0024261474609375, 0.00701904296875, 0.00046539306640625, 1.4007091522216797e-05, 0.00030517578125, 0.0026397705078125, 0.0010986328125, -0.009521484375, -0.000690460205078125, -0.001983642578125, 0.00335693359375, -0.007476806640625, -0.0032196044921875, -0.00091552734375, 0.003204345703125, 0.0030670166015625, 0.0052490234375, 0.00142669677734375, -0.001800537109375, -0.00421142578125, 0.00201416015625, -0.002655029296875, -0.00051116943359375, 0.0019683837890625, -0.003753662109375, -1.9669532775878906e-05, 0.00738525390625, 0.003387451171875, -0.0059814453125, 0.00154876708984375, 0.007293701171875, -0.004302978515625, 0.01043701171875, -0.00482177734375, 0.0045166015625, -0.0025482177734375, 0.00250244140625, -0.0006866455078125, -0.0030517578125, 0.000789642333984375, -0.00335693359375, 0.004364013671875, -0.00457763671875, 0.0069580078125, 0.0029754638671875, 0.00457763671875, -0.002593994140625, 0.00038909912109375, -0.0023956298828125, -0.00408935546875, -0.002197265625, -0.004638671875, -0.0009765625, 0.012451171875, -0.004119873046875, 0.01092529296875, -0.00714111328125, 0.0028076171875, -0.0020599365234375, -0.000667572021484375, 0.00897216796875, 0.00396728515625, -0.0030364990234375, 0.000888824462890625, 0.0001373291015625, -0.0011444091796875, -0.00897216796875, 0.0022735595703125, -0.000461578369140625, 0.002532958984375, -0.0033721923828125, -0.0030364990234375, -0.00109100341796875, -0.00335693359375, 0.0009765625, -0.0037078857421875, -0.000377655029296875, -0.0036773681640625, 0.002288818359375, 0.0042724609375, -0.00921630859375, 0.00640869140625, -0.00069427490234375, -0.0028076171875, 0.003814697265625, -0.0018768310546875, 0.002471923828125, 0.00131988525390625, 0.00421142578125, -0.00347900390625, -0.00011205673217773438, 0.0004825592041015625, -0.0079345703125, -0.001953125, 0.0035552978515625, 0.004119873046875, 0.0035247802734375, -0.00159454345703125, 0.00084686279296875, 6.103515625e-05, 0.005889892578125, -0.000110626220703125, -0.00341796875, 0.00494384765625, -0.00078582763671875, -0.00194549560546875, -0.005767822265625, -0.004058837890625, 0.0036773681640625, -0.006500244140625, -5.245208740234375e-05, -0.004302978515625, 0.005889892578125, -0.0008697509765625, -0.0016632080078125, 0.004669189453125, -0.003997802734375, -0.0016632080078125, 0.004547119140625, 0.00144195556640625, 0.0012969970703125, -0.0033721923828125, -0.00225830078125, 0.00141143798828125, 0.0084228515625, 0.00118255615234375, 0.00160980224609375, 0.00482177734375, 0.00116729736328125, -0.003936767578125, 0.0018310546875, -0.0016632080078125, -0.007080078125, -0.006988525390625, 0.0010833740234375, -0.003387451171875, 0.0010528564453125, 0.00107574462890625, -0.0005340576171875, -0.0035400390625, 0.000499725341796875, -0.00433349609375, 0.00139617919921875, 0.00174713134765625, -0.0019378662109375, -0.001251220703125, 0.0019683837890625, 0.00787353515625, -0.00408935546875, 0.0023193359375, -0.002349853515625, 0.0076904296875, -0.00634765625, -2.5391578674316406e-05, -0.0013275146484375, 0.0029449462890625, -0.0010223388671875, -0.0036468505859375, 0.0009307861328125, -0.0008087158203125, 0.000499725341796875, 0.002899169921875, 0.000698089599609375, 0.004608154296875, 0.00421142578125, -0.005157470703125, -0.002532958984375, -0.00131988525390625, -0.0010833740234375, 0.00194549560546875, 0.007659912109375, 0.000629425048828125, 0.0009918212890625, 0.0003566741943359375, -0.0033416748046875, 0.0024871826171875, 0.0013427734375, 0.0, -0.00396728515625, 0.00701904296875, 0.0012664794921875, -0.003143310546875, -0.00124359130859375, -0.01409912109375, -0.0031280517578125, -0.003143310546875, -0.003570556640625, -0.0015869140625, -0.003509521484375, 0.005859375, 0.00125885009765625, 0.004669189453125, -0.007171630859375, -0.004425048828125, 0.0028076171875, -0.00579833984375, 0.00113677978515625, -0.00677490234375, 0.004638671875, 0.0005950927734375, 0.006866455078125, -0.000804901123046875, -0.004180908203125, -0.0010986328125, -0.0033111572265625, -0.0020751953125, 0.0019378662109375, 0.0003986358642578125, 0.0008697509765625, 0.0003223419189453125, -0.0024566650390625, 0.0017242431640625, -0.006805419921875, 0.0005645751953125, 0.00628662109375, -0.0004673004150390625, 0.001708984375, -0.0028076171875, -0.006591796875, -0.00180816650390625, 0.005828857421875, -0.005035400390625, -0.00390625, 0.004791259765625, -0.000499725341796875, -0.0038604736328125, 0.000591278076171875, -0.0028228759765625, 0.0029296875, -0.0027923583984375, 0.004119873046875, -0.006622314453125, 0.005523681640625, 0.006011962890625, 0.00016307830810546875, 0.00176239013671875, 0.006072998046875, 0.00060272216796875, 0.00160980224609375, 0.004241943359375, -0.0009002685546875, 0.0021209716796875, 0.000568389892578125, -0.00157928466796875, -0.0027313232421875, 0.005340576171875, -0.011474609375, -0.004974365234375, -0.00127410888671875, -0.0011444091796875, -0.003631591796875, -0.002166748046875, 0.00555419921875, 0.00018310546875, -0.00164031982421875, 0.0030670166015625, 0.00335693359375, -0.002288818359375, -0.004150390625, 0.00994873046875, 0.00482177734375, -0.00148773193359375, 0.0026702880859375, 0.004730224609375, 0.002838134765625, -0.0016326904296875, 0.00014209747314453125, -0.007110595703125, -0.00021076202392578125, -0.00133514404296875, 0.0019073486328125, 0.00543212890625, -0.001708984375, 0.0022430419921875, -0.0021514892578125, -0.003692626953125, -0.00020599365234375, 0.005157470703125, 0.005035400390625, 0.00010919570922851562, -0.001556396484375, -0.0022735595703125, -0.000507354736328125, 0.0011444091796875, -0.0026092529296875, 0.00030517578125, -0.0062255859375, -0.00128173828125, -0.00063323974609375, 0.00159454345703125, 0.005035400390625, 0.00433349609375, 0.00079345703125, -0.000675201416015625, -0.00140380859375, 0.0050048828125, 0.00347900390625, 0.0019989013671875, -0.002227783203125, 0.007110595703125, -0.0006866455078125, -0.0032958984375, 0.0032196044921875, -0.000885009765625, 0.0019378662109375, -0.0019073486328125, 0.006500244140625, -0.00848388671875, -0.00323486328125, -8.153915405273438e-05, 0.00469970703125, -0.000743865966796875, 0.001861572265625, 0.0045166015625, 0.002899169921875, -0.0036468505859375, -0.00946044921875, 0.003997802734375, 0.004669189453125, -0.006317138671875, -0.006011962890625, 0.0003070831298828125, 0.006683349609375, -0.006500244140625, 0.0011444091796875, 0.0030059814453125, 0.0038604736328125, -0.0009918212890625, -0.00311279296875, 0.0025177001953125, -0.0020751953125, 0.005157470703125, -0.00360107421875, -0.004150390625, 0.0031890869140625, 0.00396728515625, -0.0025634765625, -0.003814697265625, -0.0033111572265625, 0.01055908203125, -0.00104522705078125, -0.007232666015625, -0.0017242431640625, 0.003997802734375, -0.00537109375, -0.0033721923828125, 0.0023345947265625, 0.0062255859375, 0.0022430419921875, 0.000545501708984375, -0.000804901123046875, 0.00191497802734375, 0.005889892578125, 0.000762939453125, 0.001708984375, 0.0011138916015625, 0.007415771484375, 0.0025482177734375, 0.000732421875, 0.00017070770263671875, -1.52587890625e-05, -0.0030670166015625, 0.00115203857421875, 0.006591796875, 0.000591278076171875, -0.00311279296875, -0.01043701171875, 0.00762939453125, -0.003387451171875, -0.00176239013671875, 0.00836181640625, 0.0028228759765625, 0.00518798828125, -0.00121307373046875, -0.0032501220703125, 0.00201416015625, -0.00128936767578125, 0.00445556640625, 0.004425048828125, -0.00107574462890625, 0.005889892578125, 0.00518798828125, 0.003631591796875, 0.006622314453125, 0.00103759765625, -9.5367431640625e-06, -0.005828857421875, -0.002899169921875, -0.00787353515625, 0.003448486328125, -0.0031585693359375, -0.0003662109375, 0.009033203125, 0.000431060791015625, -0.00159454345703125, -0.00179290771484375, -0.005828857421875, 0.00439453125, 0.00604248046875, -0.0026397705078125, 0.00701904296875, 0.005096435546875, -0.002685546875, 0.0002841949462890625, -0.0033721923828125, 0.004364013671875, -0.00299072265625, 0.001495361328125, 2.5391578674316406e-05, -0.0038299560546875, -0.000823974609375, -0.001068115234375, 0.00543212890625, -0.005828857421875, -0.0026397705078125, -0.003021240234375, 0.0019683837890625, 0.0030670166015625, -0.005035400390625, 0.0045166015625, 0.00075531005859375, 0.00701904296875, -0.0064697265625, 6.628036499023438e-05, -7.05718994140625e-05, 0.0048828125, 0.001983642578125, 0.000949859619140625, 0.0002288818359375, -0.0025787353515625, 0.002655029296875, 0.0002956390380859375, 0.002593994140625, 0.002105712890625, 0.0003566741943359375, -0.002655029296875, 0.00152587890625, 0.007171630859375, -0.00128936767578125, -0.00115203857421875, -0.00023651123046875, -0.0034637451171875, 0.0068359375, -0.004180908203125, -0.00125885009765625, -0.0010986328125, -0.00689697265625, 0.0021514892578125, 0.00193023681640625, -0.0019378662109375, -0.00133514404296875, 0.0016326904296875, 0.00174713134765625, 0.0045166015625, 0.0054931640625, -0.00347900390625, 0.0040283203125, -0.00201416015625, 0.004364013671875, 0.00830078125, 3.24249267578125e-05, -0.006805419921875, 0.0052490234375, 0.00128173828125, -0.0037994384765625, -0.00457763671875, -0.00390625, -0.00799560546875, -0.001739501953125, 0.00433349609375, 0.00160980224609375, -0.005615234375, -0.004241943359375, 0.00848388671875, 0.0019683837890625, -0.00848388671875, -0.0103759765625, -0.004913330078125, -0.004486083984375, 0.000640869140625, 0.0004825592041015625, -0.0023956298828125, -0.00445556640625, -0.002777099609375, 0.006866455078125, -0.003143310546875, 0.00125885009765625, 0.0030517578125, 0.00173187255859375, 0.00299072265625, 0.00439453125, 0.00225830078125, 0.00167083740234375, 0.00225830078125, -0.00119781494140625, 0.0020599365234375, -0.004486083984375, -0.0021209716796875, 0.001953125, 0.0020751953125, -0.0031280517578125, -0.0042724609375, 0.0020751953125, -0.00543212890625, -0.0006561279296875, -0.0031585693359375, -0.005340576171875, 0.00628662109375, -0.00066375732421875, 0.0022430419921875, 0.00189971923828125, 0.00927734375, 0.0042724609375, 0.000606536865234375, -0.0018768310546875, 0.000579833984375, -0.0033416748046875, -0.0048828125, 0.003692626953125, 0.003875732421875, -0.0023345947265625, 0.00701904296875, -0.0015716552734375, -0.00157928466796875, -0.00799560546875, 0.00101470947265625, -0.0067138671875, 0.00011682510375976562, -0.000522613525390625, 0.00604248046875, 0.000911712646484375, -0.001068115234375, -0.0002288818359375, 0.0030975341796875, -0.000701904296875, -0.004180908203125, 0.005096435546875, -0.000827789306640625, 0.00927734375, -4.839897155761719e-05, 0.004852294921875, -0.000858306884765625, 0.00121307373046875, -0.00897216796875, -0.003387451171875, 0.004425048828125, 0.002655029296875, -0.0004177093505859375, -0.003936767578125, -0.003997802734375, 0.000919342041015625, -0.00335693359375, 0.0005645751953125, 0.000762939453125, 0.00168609619140625, 0.0036163330078125, -0.00213623046875, -0.006988525390625, -0.00107574462890625, 0.0040283203125, 0.00116729736328125, -0.0023040771484375, 0.00016117095947265625, -0.0048828125, 0.0003032684326171875, -0.0015411376953125, -0.0004119873046875, -0.001983642578125, -0.0031890869140625, 0.0016632080078125, -0.0019989013671875, -0.0031585693359375, 0.00994873046875, -6.103515625e-05, -0.00262451171875, 0.003814697265625, 0.00157928466796875, -0.00732421875, -0.00433349609375, -0.004364013671875, 0.0030517578125, 0.007110595703125, 0.0023651123046875, 0.00130462646484375, 0.00024318695068359375, 0.007537841796875, -0.004241943359375, -0.006103515625, 0.0003185272216796875, 0.00115203857421875, 0.0014190673828125, 0.002044677734375, 0.00604248046875, 0.000751495361328125, 0.0033721923828125, -0.0022125244140625, -0.000583648681640625, 0.0037384033203125, 0.00567626953125, 0.000484466552734375, -0.0019989013671875, -0.0022125244140625, -0.0019073486328125, 0.004638671875, 0.00439453125, 0.004913330078125, -0.001708984375, -0.004425048828125, -0.00160980224609375, 0.0003108978271484375, -0.00250244140625, -0.005950927734375, -0.00130462646484375, -0.0050048828125, -0.000667572021484375, -0.000213623046875, 0.0028839111328125, 0.00127410888671875, 0.00628662109375, -0.00054931640625, 0.00017261505126953125, -0.0030670166015625, 0.007415771484375, -0.0030059814453125, -0.00506591796875, 0.00142669677734375, -0.00653076171875, 0.00274658203125, 0.004150390625, 0.0084228515625, 0.010986328125, 0.00579833984375, 0.0023345947265625, 0.0003528594970703125, 0.003326416015625, 0.0033721923828125, -0.0030059814453125, 0.0045166015625, 0.0030670166015625, 0.00390625]]\n",
      "[[-0.004302978515625, -0.004119873046875, -0.0040283203125, 0.0036163330078125, -0.004302978515625, -0.002166748046875, 0.000202178955078125, 0.00762939453125, -0.000629425048828125, -0.000629425048828125, -0.00013256072998046875, 0.007659912109375, -2.5391578674316406e-05, -0.0035400390625, 0.0004405975341796875, 0.005523681640625, -0.00133514404296875, 0.0021209716796875, 0.00787353515625, -0.00750732421875, -0.006317138671875, 0.005462646484375, -0.000568389892578125, 0.006866455078125, 0.00011444091796875, 0.00010442733764648438, 0.00122833251953125, 0.00115203857421875, -0.0030364990234375, -0.006622314453125, -0.0012969970703125, -0.000270843505859375, -0.006561279296875, -0.00457763671875, 0.004119873046875, -0.00555419921875, -0.006988525390625, -0.0007171630859375, -0.00244140625, -0.004730224609375, 0.0029754638671875, -0.00089263916015625, -0.0106201171875, -0.0029449462890625, 0.006256103515625, -0.007476806640625, 0.004058837890625, 0.0103759765625, 0.00017833709716796875, -0.0091552734375, 0.0019989013671875, -0.0013275146484375, -0.0031585693359375, 0.000568389892578125, -0.000728607177734375, 0.002166748046875, 0.000774383544921875, -0.00188446044921875, 0.003143310546875, 0.00799560546875, 0.00537109375, 0.0033416748046875, 0.002044677734375, 0.0029144287109375, 0.00014972686767578125, 0.006103515625, 0.007537841796875, 0.003173828125, 0.004150390625, -0.00201416015625, 0.00162506103515625, 0.007171630859375, 0.00159454345703125, 0.0020294189453125, 0.00726318359375, 0.00201416015625, -0.005096435546875, -0.0004405975341796875, -0.0062255859375, 0.005035400390625, -0.00101470947265625, 0.0003032684326171875, 0.0002765655517578125, -0.00141143798828125, -0.0022430419921875, -0.00579833984375, 0.00543212890625, -0.0022735595703125, 0.002716064453125, 0.003692626953125, -0.00049591064453125, -0.005279541015625, -0.004547119140625, 0.0024261474609375, 0.003265380859375, 0.007080078125, -0.002410888671875, 0.00531005859375, 0.000396728515625, -0.004638671875, 0.0004024505615234375, 0.00122833251953125, -0.01312255859375, 0.004486083984375, 0.0012664794921875, 0.00021648406982421875, -0.0004863739013671875, 0.0019683837890625, 0.003509521484375, -0.0030517578125, 0.0023345947265625, -0.002716064453125, -0.0017852783203125, -0.0023651123046875, -0.00130462646484375, 0.002105712890625, -0.00104522705078125, 0.008056640625, 0.003509521484375, -0.0031585693359375, -0.005401611328125, -0.00537109375, -0.004058837890625, -0.001068115234375, 0.00102996826171875, 0.004302978515625, 0.000789642333984375, -0.00188446044921875, -0.0054931640625, -0.000568389892578125, 0.009765625, -0.0020751953125, -0.006500244140625, 0.007049560546875, 0.0023956298828125, 0.004241943359375, -0.00177764892578125, -0.002655029296875, -0.0045166015625, -0.002593994140625, 0.0030975341796875, 0.0028076171875, 0.0038299560546875, -0.00067901611328125, -0.000835418701171875, -0.0033111572265625, -0.006378173828125, 0.003387451171875, -0.0004062652587890625, 0.003814697265625, 0.0023040771484375, 0.00390625, -0.005615234375, 0.00193023681640625, -0.0037841796875, 0.0023193359375, -0.003509521484375, -0.0019683837890625, -0.000629425048828125, -0.0027923583984375, -0.00048828125, 0.003936767578125, -9.632110595703125e-05, -0.0017242431640625, 0.0018768310546875, -0.00433349609375, 0.00136566162109375, 9.393692016601562e-05, -0.005157470703125, -0.00335693359375, -0.00567626953125, 0.004791259765625, 0.004730224609375, -0.005157470703125, 0.000881195068359375, 0.00482177734375, 0.00390625, 0.002197265625, 0.000244140625, 0.005645751953125, -0.0006866455078125, -0.00567626953125, 0.00390625, -0.0093994140625, -0.007049560546875, 0.000759124755859375, 0.0029449462890625, -0.001190185546875, 0.00494384765625, 0.00018405914306640625, -0.00121307373046875, 0.002899169921875, -0.0032958984375, -0.0034332275390625, 0.000736236572265625, -0.0042724609375, -0.00372314453125, -0.0076904296875, 0.0086669921875, 0.0019989013671875, -0.001983642578125, -0.0004024505615234375, 0.0024261474609375, 0.00021839141845703125, 0.002288818359375, -0.0004863739013671875, 0.00152587890625, 0.0096435546875, 0.00128936767578125, -0.0008392333984375, 0.0004405975341796875, 0.00311279296875, 0.00555419921875, -0.00299072265625, 0.00034332275390625, 0.0019378662109375, 0.0034027099609375, -0.0019683837890625, 0.000152587890625, 0.0027008056640625, -0.0029754638671875, -0.0019073486328125, 0.003509521484375, -0.00555419921875, -0.00124359130859375, -0.0035247802734375, -0.0028533935546875, 0.004913330078125, -0.006317138671875, 0.00408935546875, -0.00823974609375, 0.003936767578125, 0.005035400390625, 0.000568389892578125, 0.004791259765625, 0.004364013671875, -0.0004444122314453125, 0.0023193359375, -0.00213623046875, -0.00323486328125, 0.0027923583984375, -0.005615234375, -0.00106048583984375, -0.00165557861328125, -0.007080078125, -0.0037994384765625, 0.00113677978515625, 0.003265380859375, -0.007781982421875, -0.0004482269287109375, -0.00176239013671875, -0.00115966796875, 0.006103515625, 0.0034027099609375, 0.007049560546875, 0.00133514404296875, 0.00136566162109375, -0.004058837890625, -0.003631591796875, -0.003662109375, 0.000732421875, 0.002166748046875, 0.005126953125, 0.0020294189453125, -0.00244140625, 0.0034027099609375, -0.00439453125, -0.00604248046875, -0.005218505859375, -0.000804901123046875, 0.000774383544921875, -0.005401611328125, -0.0030517578125, -0.002044677734375, 0.0026397705078125, -0.0029449462890625, -0.004180908203125, -0.0034942626953125, -0.00897216796875, 0.00482177734375, -0.00396728515625, 0.00994873046875, -0.0020599365234375, -0.00101470947265625, 0.0020294189453125, 0.0024261474609375, -0.001617431640625, 0.00020122528076171875, -0.004913330078125, -0.0024566650390625, 0.004302978515625, -0.009033203125, -0.0037384033203125, 0.00628662109375, -0.000640869140625, -0.0034332275390625, 0.00028228759765625, -0.00168609619140625, -0.001983642578125, 0.000640869140625, -0.0019378662109375, 0.00133514404296875, 0.003692626953125, -0.0033721923828125, -0.00165557861328125, 0.00010156631469726562, -0.0034027099609375, 0.00130462646484375, -0.0035400390625, 0.003997802734375, 0.00177764892578125, -0.0002574920654296875, -0.003936767578125, -0.004302978515625, -0.0164794921875, -0.0024871826171875, 0.0030517578125, -0.00244140625, 0.00433349609375, -0.000576019287109375, -0.004974365234375, 0.00299072265625, 0.00026702880859375, -0.000553131103515625, 0.003875732421875, -0.005950927734375, -0.00144195556640625, -0.00109100341796875, -0.0008087158203125, 0.0018157958984375, 0.00604248046875, -0.0028076171875, 0.00634765625, 0.004150390625, -0.00107574462890625, 0.0023651123046875, 0.00090789794921875, 0.004608154296875, -0.00677490234375, 0.005096435546875, -0.00037384033203125, 0.004241943359375, 0.004119873046875, 0.00167083740234375, -0.0023651123046875, -0.000843048095703125, 0.00086212158203125, -0.00194549560546875, -0.0018310546875, -0.000919342041015625, 0.0031585693359375, -0.003387451171875, 0.00640869140625, -0.000682830810546875, -0.005889892578125, 0.0028533935546875, 0.00186920166015625, 0.005859375, 0.004119873046875, 0.0012969970703125, 0.00933837890625, 0.00185394287109375, -0.00086212158203125, 0.0023345947265625, -0.000244140625, -0.00262451171875, 0.0081787109375, 0.0076904296875, -0.00179290771484375, 0.000385284423828125, 0.00372314453125, -0.00174713134765625, 0.001190185546875, -0.0014495849609375, -0.000164031982421875, 0.0005035400390625, 0.0030975341796875, -0.005096435546875, 0.0031280517578125, -0.0003452301025390625, -0.000759124755859375, 0.0003871917724609375, -0.005950927734375, 9.632110595703125e-05, -0.0087890625, -0.00052642822265625, 0.0025634765625, 0.0001068115234375, 0.0062255859375, -0.000705718994140625, 0.006591796875, 0.000812530517578125, -0.0002574920654296875, -0.00262451171875, 0.00144195556640625, 0.00347900390625, -0.006561279296875, -0.004547119140625, 0.010498046875, -0.0096435546875, -0.00032806396484375, 6.723403930664062e-05, 0.004638671875, 0.003692626953125, -0.002197265625, 0.000560760498046875, -0.0025177001953125, 0.0087890625, 0.002593994140625, 0.0001068115234375, -0.0081787109375, 0.0035552978515625, -0.00010919570922851562, -0.00121307373046875, -0.00180816650390625, -0.00396728515625, -0.00174713134765625, 0.00116729736328125, -0.0003719329833984375, -0.00457763671875, 0.0079345703125, -0.001617431640625, -0.000850677490234375, -0.0029296875, 0.0024566650390625, 0.000751495361328125, -0.00537109375, 0.003936767578125, 7.104873657226562e-05, 0.00299072265625, -0.00079345703125, 0.0025482177734375, 0.007476806640625, 0.0032958984375, -0.000934600830078125, 0.004669189453125, 0.0003147125244140625, -0.00531005859375, 0.0035552978515625, -0.0010223388671875, -0.0023651123046875, -0.0050048828125, -0.00014781951904296875, -0.003143310546875, -0.0007476806640625, -0.00531005859375, 0.000858306884765625, -0.0023345947265625, -0.004913330078125, 0.004486083984375, 0.00115203857421875, 0.0020294189453125, 0.002105712890625, 0.00213623046875, -0.00063323974609375, 3.0517578125e-05, 0.00445556640625, -0.007568359375, 6.341934204101562e-05, 0.0012664794921875, 0.00482177734375, 7.772445678710938e-05, -0.0031280517578125, -0.0019073486328125, -0.0003147125244140625, -1.0192394256591797e-05, -0.0068359375, 0.0019683837890625, -0.000583648681640625, -0.004241943359375, -0.006622314453125, 0.0017242431640625, 0.0023040771484375, -0.0037994384765625, 0.005645751953125, 0.00726318359375, -0.00848388671875, -0.000934600830078125, 0.004058837890625, 0.005859375, -0.002349853515625, -0.00017261505126953125, 0.006103515625, 0.0040283203125, -0.003662109375, 0.0028533935546875, -0.01007080078125, 0.0068359375, 0.0017242431640625, 0.00537109375, 0.00174713134765625, 0.000568389892578125, -0.0040283203125, -0.0024261474609375, 0.0081787109375, 0.000331878662109375, 0.006317138671875, 0.0038299560546875, 0.007171630859375, -0.003814697265625, 0.0012054443359375, 0.00173187255859375, -0.0038909912109375, -0.0021209716796875, -0.0050048828125, 0.00531005859375, -0.0004024505615234375, -0.0003337860107421875, -0.004669189453125, -0.00141143798828125, -0.0032958984375, 0.005218505859375, -0.006256103515625, -0.003936767578125, -0.0028839111328125, 0.00811767578125, -0.00750732421875, -0.0021820068359375, 0.003570556640625, -0.00107574462890625, 0.003662109375, -0.00093841552734375, -0.00127410888671875, -0.000850677490234375, -0.00125885009765625, 0.001556396484375, 0.0002498626708984375, -0.000865936279296875, -0.013427734375, -3.814697265625e-05, -0.0030364990234375, 0.0038299560546875, -0.002197265625, -0.006256103515625, -0.0004367828369140625, 0.0003757476806640625, -5.340576171875e-05, 0.000457763671875, -0.000576019287109375, -0.0004634857177734375, 0.00653076171875, 0.0040283203125, -0.0019683837890625, -0.006591796875, 0.0019989013671875, -0.00013065338134765625, -0.0016632080078125, 0.00909423828125, 0.004119873046875, -0.0003795623779296875, 0.004241943359375, 0.0004253387451171875, -0.01190185546875, 0.00015544891357421875, -0.0048828125, 0.003326416015625, -0.0034942626953125, 0.01422119140625, -0.003173828125, -0.0026702880859375, -0.0016021728515625, -0.00262451171875, 0.0037078857421875, 0.0011444091796875, 0.0032501220703125, -0.017578125, -0.0025634765625, 0.007049560546875, -0.0015869140625, 0.000965118408203125, 0.005157470703125, -0.0035400390625, 4.9591064453125e-05, -0.000637054443359375, 0.00311279296875, 0.00131988525390625, 0.0025482177734375, 0.004608154296875, -0.00323486328125, -0.005889892578125, -0.00146484375, 0.000946044921875, -0.0050048828125, 0.0036773681640625, -0.004730224609375, -0.00592041015625, -0.0015106201171875, 0.002288818359375, -0.003326416015625, -0.00665283203125, 0.0029296875, 0.005157470703125, -0.002838134765625, -0.001251220703125, 0.003692626953125, 0.00665283203125, -0.00604248046875, -0.00872802734375, -0.00592041015625, 0.0106201171875, 0.00323486328125, 0.000957489013671875, 0.009033203125, 0.0030517578125, -0.007080078125, -0.0003108978271484375, 0.00098419189453125, -0.008056640625, 0.0052490234375, 0.0035552978515625, 0.006134033203125, 0.0081787109375, 0.0004024505615234375, -0.00885009765625, 0.0028076171875, -0.00927734375, 0.000499725341796875, 0.004119873046875, 0.004913330078125, -0.00189971923828125, 0.0035247802734375, 0.00457763671875, -0.002471923828125, 0.0024871826171875, -0.00138092041015625, 0.0010528564453125, -0.000408172607421875, 0.006927490234375, -0.000286102294921875, -0.00384521484375, 0.0216064453125, 0.003814697265625, 0.00116729736328125, -0.006011962890625, 0.0003414154052734375, -0.0032806396484375, -0.000698089599609375, -0.000514984130859375, 0.0014190673828125, -0.00160980224609375, 0.00188446044921875, 0.0030059814453125, 0.001556396484375, -0.00124359130859375, 0.00017833709716796875, 0.004150390625, -0.00113677978515625, -0.0081787109375, -0.0032958984375, -0.0023040771484375, 0.00836181640625, 0.00164031982421875, 0.00286865234375, -0.007293701171875, -0.004058837890625, 0.00262451171875, 0.002197265625, 0.002349853515625, -0.006317138671875, 0.002166748046875, 0.0021209716796875, -0.004608154296875, 0.0036468505859375, -0.01019287109375, -0.0037994384765625, -0.000896453857421875, 0.00115203857421875, 0.0006866455078125, 0.004791259765625, -0.0034942626953125, -0.006805419921875, 0.00095367431640625, -0.0002803802490234375, 0.00433349609375, -0.000598907470703125, 0.00180816650390625, -0.003875732421875, -0.002227783203125, -0.0004787445068359375, -0.007659912109375, -0.004150390625, 0.00052642822265625, -0.00022125244140625, 0.0033111572265625, -0.00013256072998046875, -0.002044677734375, 0.000244140625, 0.0086669921875, 0.00543212890625, -0.0014190673828125, 0.00096893310546875, -0.00168609619140625, 0.0028839111328125, 0.00347900390625, -0.00750732421875, 0.006317138671875, -0.0027618408203125, -0.004425048828125, 5.984306335449219e-05, 1.52587890625e-05, -0.0034332275390625, 0.0023956298828125, 0.0023040771484375, -0.00335693359375, 0.001068115234375, 0.00014781951904296875, -0.0013275146484375, 0.00946044921875, -0.004150390625, 0.00180816650390625, 0.0026092529296875, -0.000766754150390625, 0.0002727508544921875, -0.0023345947265625, -0.0003814697265625, 0.000213623046875, 0.002044677734375, -0.005950927734375, 0.00390625, 0.00127410888671875, -0.0023956298828125, -0.007293701171875, 0.00048828125, -0.0020294189453125, 0.00146484375, -0.00396728515625, -0.01104736328125, -0.0021820068359375, 0.0035400390625, -0.001190185546875, 0.004180908203125, -0.00165557861328125, 0.0027313232421875, 0.00469970703125, -0.0031280517578125, -0.0020294189453125, -0.00171661376953125, -0.00011205673217773438, -0.000690460205078125, 0.000823974609375, 0.00115966796875, -0.0001468658447265625, 0.0018463134765625, -0.0025482177734375, -5.602836608886719e-05, 0.00049591064453125, 0.0030059814453125, 0.005096435546875, 0.004180908203125, -0.0004711151123046875, 0.006500244140625, 0.00138092041015625, 0.00147247314453125, -0.00147247314453125, 0.001800537109375, 0.00193023681640625, -0.0012359619140625, 0.00164031982421875, -0.004241943359375, 0.0016937255859375, -0.0034637451171875, 0.000598907470703125, -0.000720977783203125, 0.004547119140625, -6.628036499023438e-05, -0.000972747802734375, -0.00201416015625, 0.004364013671875, -0.00185394287109375, -0.001556396484375, 0.001434326171875, 0.00128173828125, 0.004180908203125, -0.00238037109375, 0.006805419921875, -0.004730224609375, -0.003326416015625, -0.003143310546875, 0.00238037109375, -0.00714111328125, -0.01141357421875, 0.00011968612670898438, 0.0026092529296875, -0.00017833709716796875, -0.00897216796875, 0.0023345947265625, 0.00457763671875, 0.00153350830078125, -0.00836181640625, 0.001678466796875, -0.004669189453125, 5.0961971282958984e-06, 0.00122833251953125, -0.00133514404296875, -0.008056640625, -0.005645751953125, -0.006500244140625, -0.00125885009765625, 0.00555419921875, -1.9073486328125e-06, -0.002410888671875, 0.0028533935546875, 0.005096435546875, 0.00023746490478515625, -0.00323486328125, 0.0018768310546875, -0.0012664794921875, 0.004364013671875, -0.000873565673828125, -0.002105712890625, -0.00946044921875, -0.000919342041015625, 0.00439453125, 0.004608154296875, 0.0017547607421875, 0.004058837890625, -0.010498046875, -0.0001735687255859375, 9.1552734375e-05, -0.000659942626953125, -0.004913330078125, -0.002105712890625, 0.0004444122314453125, 0.00726318359375, -2.0384788513183594e-05, -0.00115203857421875, 0.0020599365234375, 0.007171630859375, 0.01220703125, -0.00193023681640625, -0.004730224609375, 0.0050048828125, -0.00159454345703125, 0.0036163330078125, 0.000858306884765625, 0.000583648681640625, 0.00213623046875, -0.0022430419921875, 0.0020294189453125, 0.0017547607421875, -0.0081787109375, 0.0033416748046875, 0.001312255859375, -0.000812530517578125, 0.009521484375, -0.002166748046875, -0.0034332275390625, 5.221366882324219e-05, 0.000659942626953125, 0.00191497802734375, -0.0015716552734375, 0.004425048828125, 0.0003604888916015625, -0.00579833984375, 0.000598907470703125, -0.0002536773681640625, 0.00168609619140625, -1.0192394256591797e-05, -0.006103515625, 0.0074462890625, 0.00131988525390625, -0.0030059814453125, -0.00604248046875, -0.00445556640625, -0.0081787109375, 0.003692626953125, 0.00445556640625, -0.00537109375, 3.314018249511719e-05, -0.00390625, -0.00836181640625, 0.002105712890625, -0.00982666015625, 0.00127410888671875, 0.00145721435546875, -0.00144195556640625, -0.005096435546875, -0.002166748046875, 0.0027313232421875, -0.0001201629638671875, 0.0014190673828125, 0.0030975341796875, 0.00135040283203125, 0.003204345703125, 0.00193023681640625, -0.004638671875, 0.0015106201171875, -0.0042724609375, 0.0050048828125, 0.0022125244140625, -0.003631591796875, 0.017822265625, -0.0031585693359375, 0.0033111572265625, 0.006378173828125, 0.0027923583984375, -0.00171661376953125, 0.0002460479736328125, -0.003173828125, -0.0002689361572265625, -0.0052490234375, -0.0028076171875, 0.0018310546875, 0.00104522705078125, -0.00537109375, -0.005218505859375, 0.006103515625, 0.00110626220703125, -0.006927490234375, -0.007568359375, 0.001800537109375, -0.0017852783203125, -0.00189971923828125, -0.0003261566162109375, 8.916854858398438e-05, 0.0084228515625, 0.01019287109375, 0.000492095947265625, 0.001617431640625, 0.004638671875, -0.0020904541015625, -0.022216796875, -0.00177764892578125, 0.0023040771484375, -0.0019683837890625, 0.0031280517578125, -0.001068115234375, -0.0029144287109375, 0.000957489013671875, -0.002044677734375, 0.0031585693359375, 0.00139617919921875, 0.0026702880859375, -0.002532958984375, 0.0023956298828125, -0.00286865234375, -0.000942230224609375, 0.0005950927734375, -0.0010528564453125, -0.000518798828125, 0.004730224609375, 0.0001220703125, -0.0020294189453125, 0.004852294921875, -0.004974365234375, 0.00115203857421875, 0.000919342041015625, 0.00396728515625, -0.003082275390625, -0.00072479248046875, 0.001007080078125, 0.0020599365234375, -0.005523681640625, 0.000736236572265625, -0.0027923583984375, 0.0015411376953125, 0.00537109375, -0.0004673004150390625, -0.0040283203125, 0.0004558563232421875, 0.00738525390625, -0.0074462890625, -0.00390625, 0.0004215240478515625, -0.004241943359375, 0.00445556640625, 0.004180908203125, 0.001983642578125, -0.00188446044921875, 0.0015411376953125, -0.00109100341796875, -0.003448486328125, -0.000576019287109375, -0.00323486328125, 0.004913330078125, -0.01043701171875, 0.0125732421875, -0.0004138946533203125, 0.003326416015625, -0.01092529296875, -0.00689697265625, -0.0098876953125, 0.0024566650390625, -0.00567626953125, -0.0068359375, -0.005828857421875, -0.0059814453125, 0.004608154296875, 0.00286865234375, -0.0001983642578125, 0.0002288818359375, -0.00101470947265625, 0.00042724609375, -0.0064697265625, -0.0029296875, 0.002716064453125, -0.003021240234375, -0.000667572021484375, -0.0007781982421875, -0.0048828125, -0.0069580078125, 0.00107574462890625, -0.0076904296875, -0.000377655029296875, 0.00131988525390625, 6.628036499023438e-05, -0.0068359375, -0.002777099609375, -0.002532958984375, 0.000904083251953125, -0.0020599365234375, -0.0017242431640625, -0.0013885498046875, -0.004547119140625, 0.0054931640625, -0.001922607421875, -0.0025482177734375, 0.0014190673828125, 0.00201416015625, -0.001678466796875, -0.00023555755615234375, -0.00113677978515625, -0.00140380859375, -0.0028839111328125, -0.003631591796875, -0.002593994140625, 0.000762939453125, -0.00421142578125, -0.003082275390625, -0.0033111572265625, -0.00408935546875, 0.0084228515625, 0.00160980224609375, 0.0010986328125, 0.004791259765625, 6.628036499023438e-05, 0.00124359130859375, 0.005584716796875, -0.005340576171875, 0.005767822265625, -0.000457763671875, 0.006866455078125, 0.003692626953125, 0.00262451171875, 0.002227783203125, -0.000339508056640625, 0.00012302398681640625, -0.00142669677734375, 0.0025177001953125, 0.0015716552734375, 0.0037078857421875, -0.001434326171875, 0.0045166015625, -0.00048065185546875, 0.0078125, 0.0032501220703125, 0.00098419189453125, 0.00469970703125, -0.004638671875, 0.006256103515625, -0.002410888671875, -0.006378173828125, -0.005950927734375, -8.630752563476562e-05, -0.006927490234375, 0.00141143798828125, -0.0002574920654296875, -0.0054931640625, 0.005859375, 0.004425048828125, -0.0029754638671875, 0.00104522705078125, 0.0040283203125, 0.00152587890625, 0.0003147125244140625, -0.0035858154296875, 0.00159454345703125, 0.00165557861328125, 0.0005645751953125, 0.00148773193359375, 0.00067138671875, 0.0003662109375, 0.0074462890625, 0.00311279296875, -0.00115966796875, -0.005401611328125, 0.00051116943359375, -0.0030059814453125, -0.005889892578125, 0.0032806396484375, 0.00171661376953125, -0.000797271728515625, 0.0069580078125, 0.007293701171875, -0.003082275390625, -0.0047607421875, -0.000766754150390625, -0.00150299072265625, -0.0007476806640625, -0.0034027099609375, -0.002410888671875, -0.005096435546875, -0.00439453125, -0.004974365234375, 0.00634765625, 0.004119873046875, -0.0023956298828125, -0.0021514892578125, -0.003509521484375, 0.0054931640625, -0.000335693359375, 0.00151824951171875, 0.00145721435546875, -0.00194549560546875, 0.00799560546875, -0.003936767578125, -0.005523681640625, 0.00787353515625, -0.0026397705078125, 0.002777099609375, 0.000843048095703125, -0.004547119140625, -0.006317138671875, -0.00191497802734375, 0.0050048828125, -0.004302978515625, -0.0003490447998046875, -0.000667572021484375, -0.00457763671875, 0.0022430419921875, -0.00116729736328125, -0.004974365234375, 0.0017547607421875, 0.003509521484375, 0.0050048828125, 0.00064849853515625, 0.00384521484375, -0.001983642578125, -0.00714111328125, 0.0052490234375, -0.002532958984375, -0.004119873046875, -0.00128173828125, 0.0004482269287109375, -0.006561279296875, 0.0076904296875, 0.00616455078125, -0.0015869140625, -0.0007171630859375, 0.00701904296875, 0.0037689208984375, -0.00335693359375, -3.170967102050781e-05, -0.00457763671875, -0.00286865234375, -0.003814697265625, -0.00396728515625, -0.0059814453125, -0.007232666015625, -0.0012359619140625, 0.00726318359375, -0.000476837158203125, 0.005279541015625, 0.007781982421875, -0.000881195068359375, -0.0013427734375, -0.00157928466796875, -0.0002841949462890625, -0.0005950927734375, -0.003265380859375, 0.0004405975341796875, -0.00799560546875, 0.006134033203125, -0.0028076171875, -0.00041961669921875, 0.0028228759765625, 0.0030364990234375, -0.000736236572265625, 0.0028533935546875, -0.00188446044921875, -0.00299072265625, -0.0033416748046875, 0.003997802734375, -0.0025177001953125, -0.005157470703125, -0.0016021728515625, 0.00145721435546875, -0.0045166015625, -0.00106048583984375, 0.0025787353515625, -0.00077056884765625, 0.0028076171875, -0.001922607421875, 0.003997802734375, 0.000972747802734375, -0.00101470947265625, -0.00139617919921875, 0.005828857421875, -0.00151824951171875, 0.0002460479736328125, 0.00262451171875, -0.007293701171875, 0.00186920166015625, -0.00106048583984375, 0.0029754638671875, 0.005218505859375, -0.0011138916015625, -0.0015869140625, 0.003021240234375, 0.0023193359375, -0.0021820068359375, -0.0035552978515625, -0.000499725341796875, 7.104873657226562e-05, 0.001983642578125, 0.000934600830078125, -0.004302978515625, 0.00046539306640625, 0.00112152099609375, 0.0009918212890625, 0.006195068359375, 0.0027008056640625, -0.0206298828125, -0.00469970703125, -0.003570556640625, -0.0014190673828125, 0.00286865234375, -0.00408935546875, -0.002685546875, 0.00799560546875, 1.0192394256591797e-05, 0.0004291534423828125, 0.000701904296875, 0.0034332275390625, -0.00020694732666015625, -0.0023956298828125, -0.0015716552734375, -0.00244140625, 0.0005645751953125, -0.0024261474609375, 0.0027008056640625, -0.00244140625, 0.002960205078125, -0.01068115234375, 0.004058837890625, 0.004119873046875, 0.00022220611572265625, -0.00174713134765625, -0.0067138671875, 0.00457763671875, 0.0002994537353515625, 0.00012683868408203125, 0.004150390625, -0.0005950927734375, -0.00921630859375, 0.003570556640625, 0.0021514892578125, -0.00017452239990234375, 0.0026092529296875, 0.000881195068359375, -0.007720947265625, -0.0062255859375, 0.011474609375, -0.00081634521484375, 0.0019989013671875, -0.00173187255859375, 0.00159454345703125, -0.00107574462890625, 0.0191650390625, -0.0012054443359375, -0.002410888671875, 0.00140380859375, -0.009033203125, 0.003936767578125, 0.006500244140625, 0.002838134765625, 0.0030975341796875, -6.103515625e-05, -0.00057220458984375, -0.0002689361572265625, 0.00567626953125, 0.0020751953125, 0.0038299560546875, -0.001373291015625, -0.0028228759765625, 0.006988525390625, 0.000766754150390625, -0.003814697265625, 0.003662109375, 0.00107574462890625, -0.0048828125, 0.004150390625, 0.00109100341796875, -0.00396728515625, 0.0027618408203125, 0.00482177734375, 0.008544921875, -0.0036468505859375, -0.0012054443359375, -0.004058837890625, 0.000827789306640625, 3.314018249511719e-05, 0.007049560546875, 0.00025177001953125, -0.0020904541015625, 0.006927490234375, -0.000705718994140625, -0.01043701171875, -0.00433349609375, -0.003875732421875, -0.004302978515625, 0.003997802734375, 0.003997802734375, 0.00182342529296875, -0.002838134765625, 0.0029449462890625, -0.0079345703125, 0.005615234375, -0.00151824951171875, -0.008056640625, -0.0031280517578125, -0.00141143798828125, -0.00098419189453125, 2.8252601623535156e-05, -0.001922607421875, -0.002899169921875, -0.008056640625, -0.00019359588623046875, -0.00014209747314453125, -0.0037994384765625, 0.005584716796875, -0.00139617919921875, -0.003204345703125, 0.00029754638671875, -0.004730224609375, 0.00396728515625, 0.004150390625, 0.00164794921875, -0.007110595703125, -0.004486083984375, -0.003265380859375, -0.01544189453125, 0.00433349609375, -0.00124359130859375, -0.0027923583984375, -0.0040283203125, -0.00408935546875, 0.000507354736328125, -0.0054931640625, -0.007110595703125, -0.00518798828125, -0.007781982421875, 0.00110626220703125, 0.0037994384765625, 0.00080108642578125, -0.0045166015625, -0.002838134765625, -0.00482177734375, -0.0023040771484375, -0.004150390625, -0.0035552978515625, -0.004302978515625, -0.00970458984375, -0.00022125244140625, 0.004669189453125, 0.0037078857421875, -0.00531005859375, 0.0020904541015625, 0.001739501953125, -0.0042724609375, 0.0004119873046875, -0.0002498626708984375, 0.00164794921875, 0.00010919570922851562, -0.003753662109375, -0.0028839111328125, 0.0027313232421875, 0.005828857421875, -0.001434326171875, 0.007598876953125, 0.0016326904296875, -0.003936767578125, -0.00262451171875, 0.0017547607421875, -0.002166748046875, 0.0027008056640625, 0.0020751953125, -0.0032806396484375, -0.00017833709716796875, 0.00885009765625, 0.0045166015625, 0.00225830078125, -0.000946044921875, -0.000858306884765625, -0.003387451171875, -0.00019931793212890625, -0.00171661376953125, 0.00665283203125, 0.0025787353515625, 0.006622314453125, -0.00189208984375, 0.00055694580078125, 0.005279541015625, -3.314018249511719e-05, -0.001983642578125, 0.00909423828125, -0.005462646484375, -0.004791259765625, 0.002471923828125, -0.007659912109375, -0.00933837890625, 0.004669189453125, 0.00946044921875, -0.002471923828125, 0.003814697265625, 0.005218505859375, 0.001312255859375, -0.001922607421875, -0.00653076171875, -0.00146484375, -0.00185394287109375, -0.013671875, 0.002838134765625, -0.006988525390625, -0.00115966796875, 0.00445556640625, -0.000885009765625, -0.00225830078125, -0.00020885467529296875, -0.00147247314453125, -0.000461578369140625, -0.0035552978515625, -0.00026702880859375, -0.004608154296875, 0.004302978515625, -0.007781982421875, -0.0012664794921875, -0.003143310546875, -0.002349853515625, -0.0086669921875, -0.005767822265625, 0.002777099609375, 0.005767822265625, 0.00191497802734375, 0.00390625, 0.000560760498046875, 0.000812530517578125, 0.000858306884765625, 0.0030517578125, -0.0054931640625, -0.00213623046875, -0.00116729736328125, -0.006378173828125, -0.005645751953125, -0.00262451171875, 0.00168609619140625, 0.0037841796875, 0.00347900390625, -0.0022735595703125, -0.001373291015625, 0.004241943359375, -0.0031280517578125, -0.0034027099609375, -0.01556396484375, 0.0028839111328125, -0.004150390625, -0.0021514892578125, -0.00168609619140625, -0.0040283203125, -0.004974365234375, 0.0033416748046875, 0.003631591796875, -0.005401611328125, 0.002593994140625, -0.00213623046875, -0.003082275390625, 0.000457763671875, 0.006317138671875, -0.0021209716796875, -0.001617431640625, 0.0030059814453125, -0.0067138671875, -0.004547119140625, -0.007354736328125, 0.0038909912109375, 0.0062255859375, -0.005340576171875, 0.00168609619140625, 0.00110626220703125, -0.005218505859375, -0.0011138916015625, 0.0026397705078125, -0.0016632080078125, 0.00010156631469726562, 0.0013427734375, 0.0031280517578125, 0.00958251953125, 0.00018787384033203125, -0.00555419921875, 0.004119873046875, -0.004547119140625, 0.004547119140625, 0.000957489013671875, 0.0027008056640625, 0.0025482177734375, 0.0084228515625, -0.0004291534423828125, 0.0037078857421875, -0.0023956298828125, 0.00592041015625, -0.000492095947265625, 0.00634765625, -0.0017547607421875, -0.0032196044921875, 0.00116729736328125, -0.0036468505859375, 0.0004482269287109375, -0.00194549560546875, -0.00927734375, -0.00128936767578125, -0.00081634521484375, 0.0003261566162109375, 0.000759124755859375, -0.01214599609375, 0.004791259765625, -0.00038909912109375, 0.00182342529296875, 0.00531005859375, -0.003570556640625, -0.007537841796875, -0.000911712646484375, 0.0054931640625, -0.00095367431640625, -0.004425048828125, 0.0003986358642578125, -0.00799560546875, -0.007110595703125, 4.6253204345703125e-05, 0.0003299713134765625, -0.0012664794921875, -0.002288818359375, 0.001983642578125, -0.0023345947265625, 0.0034942626953125, 0.0031890869140625, -0.006103515625, 0.005340576171875, -0.0048828125, 0.00151824951171875, 0.007568359375, 0.00136566162109375, 0.0023040771484375, -0.00604248046875, 0.005615234375, 0.0005340576171875, -0.007171630859375, -0.0012054443359375, 0.005218505859375, 0.000499725341796875, 0.00019359588623046875, -0.000896453857421875, -0.000926971435546875, -0.0021820068359375, 0.006378173828125, -0.003936767578125, 0.0020294189453125, -0.0011444091796875, -0.0042724609375, 0.00125885009765625, 0.0004558563232421875, -0.002655029296875, -0.002197265625, -0.00750732421875, 0.0037078857421875, 0.005889892578125, 0.004730224609375, -0.002838134765625, 0.0022430419921875, 0.00189971923828125, -0.001556396484375, 0.002197265625, 0.00848388671875, -0.0024566650390625, -0.004913330078125, 0.00118255615234375, -0.00372314453125, 0.000568389892578125, -0.0025177001953125, -0.0029144287109375, 0.00124359130859375, 0.0003719329833984375, 0.01275634765625, -0.00032806396484375, 0.001190185546875, 0.000629425048828125, 0.000904083251953125, -0.003082275390625, -0.0019683837890625, 0.000789642333984375, 0.00020313262939453125, 0.0003814697265625, 0.00147247314453125, 0.000789642333984375, -0.00390625, -0.004058837890625, 0.00958251953125, 0.00909423828125, 0.0081787109375, -0.00179290771484375, 0.003662109375, 0.00506591796875, 0.004608154296875, -0.00152587890625, 0.00445556640625, 0.00180816650390625, -0.0018463134765625, -0.0020294189453125, 0.001434326171875, -0.00099945068359375, 0.003265380859375, 0.0002899169921875, -0.0050048828125, 1.7762184143066406e-05, -0.00787353515625, -0.003143310546875, 0.000972747802734375, -0.00469970703125, -0.00433349609375, -0.0067138671875, -0.00138092041015625, 0.006103515625, 0.006011962890625, 0.00396728515625, 0.0032958984375, 0.0003452301025390625, 0.005096435546875, -0.001708984375, -0.006011962890625, 0.0038604736328125, -0.000766754150390625, -0.005859375, -0.004119873046875, -0.0048828125, -0.00787353515625, 0.00634765625, 0.000560760498046875, 0.006744384765625, -0.0002727508544921875, 0.0045166015625, 0.00750732421875, 0.0020751953125, -0.005401611328125, -0.0034637451171875, -0.0021209716796875, 0.000823974609375, 0.006072998046875, -0.0002689361572265625, 0.004486083984375, -0.00023365020751953125, 0.00677490234375, -0.0004520416259765625, 0.0017547607421875, -0.002685546875, -0.000591278076171875, 0.00762939453125, 0.004241943359375, -0.0004329681396484375, 0.000720977783203125, -0.004241943359375, 0.0032958984375, -0.00103759765625, 0.00162506103515625, -0.001708984375, 0.00189208984375, -0.00151824951171875, 0.0076904296875, -0.00238037109375, 0.007537841796875, -0.001495361328125, -0.00299072265625, 0.002105712890625, 0.0023193359375, 0.000701904296875, -0.0016632080078125, -0.003753662109375, -0.00124359130859375, -0.00927734375, 0.00180816650390625, 0.002166748046875, 0.004608154296875, -0.0004329681396484375, 0.003509521484375, -0.004241943359375, -0.0027313232421875, 0.00518798828125, 0.001190185546875, 0.00445556640625, 0.00016689300537109375, -0.00188446044921875, 0.003204345703125, -0.0029754638671875, 0.004913330078125, -0.00138092041015625, -0.00897216796875, -0.003082275390625, 0.000553131103515625, 0.0016326904296875, 0.002197265625, -0.00022411346435546875, -0.00030517578125, 0.002960205078125, 0.0004730224609375, 0.0027008056640625, -0.00439453125, -0.00164031982421875, -0.0002651214599609375, -0.003814697265625, 0.0014495849609375, -0.000682830810546875, -0.0003910064697265625, 0.0025482177734375, -0.00194549560546875, 0.00103759765625, 0.00946044921875, -0.000629425048828125, 0.0084228515625, -0.00064849853515625, 0.0126953125, -0.0048828125, -0.0016326904296875, 0.0002994537353515625, -0.0091552734375, 0.003936767578125, -0.01129150390625, 0.00152587890625, -0.00023651123046875, 0.005279541015625, -0.0003795623779296875, 0.0029144287109375, -0.00921630859375, 0.0004520416259765625, -0.000614166259765625, -0.00144195556640625, 0.002899169921875, -7.390975952148438e-05, -0.0027313232421875, 0.0012054443359375, 0.00701904296875, 0.006378173828125, -0.00567626953125, 0.00194549560546875, 0.0029144287109375, 0.000675201416015625, -0.0007781982421875, 0.0052490234375, 0.000682830810546875, -5.817413330078125e-05, 0.00689697265625, 0.000244140625, -0.0113525390625, 0.006103515625, -0.0032806396484375, 0.004547119140625, 0.0011444091796875, -0.000583648681640625, 0.0028533935546875, 0.0002841949462890625, 0.0037078857421875, -0.005035400390625, 0.005767822265625, 0.003204345703125, -0.004058837890625, -0.005218505859375, 0.0030059814453125, 0.0003871917724609375, -0.0015716552734375, -0.006622314453125, 0.00121307373046875, 0.00506591796875, -0.0036468505859375, -0.005035400390625, 0.00150299072265625, -0.00103759765625, 0.0004482269287109375, -0.00014019012451171875, -0.0026397705078125, 0.00567626953125, 0.0016326904296875, 0.00225830078125, 0.001953125, -0.005096435546875, -0.015869140625, -0.00872802734375, -0.00157928466796875, 0.0029754638671875, 0.00104522705078125, 0.00201416015625, -0.00274658203125, -0.0023193359375, 0.00543212890625, -0.0003643035888671875, 0.00390625, 0.0002994537353515625, 0.00323486328125, 0.0026092529296875, -0.00421142578125, 0.004608154296875, 0.00020885467529296875, 0.0047607421875, 0.006622314453125, -0.002899169921875, -0.000885009765625, 0.0037841796875, 0.00048065185546875, 0.006805419921875, 0.0068359375, 0.00372314453125, 0.008056640625, 0.00135040283203125, 0.0106201171875, -0.0029449462890625, 3.695487976074219e-05, 0.0004558563232421875, 0.0004138946533203125, 0.0027923583984375, -0.009033203125, -0.00135040283203125, -0.003387451171875, -0.00250244140625, -0.0034027099609375, -0.005615234375, 0.0021514892578125, -0.00787353515625, -0.0014190673828125, -0.003173828125, -0.008056640625, -0.00099945068359375, -0.0004138946533203125, 0.003387451171875, 0.005584716796875, -0.0107421875, 0.000213623046875, 0.0123291015625, 0.0037689208984375, 0.00439453125, 0.003387451171875, 0.000518798828125, -0.004150390625, 0.0023956298828125, -0.00016498565673828125, -0.00077056884765625, 0.00146484375, -0.0021820068359375, -0.0004558563232421875, 0.00518798828125, -0.004241943359375, 0.0023956298828125, 0.0068359375, -0.00555419921875, 0.000576019287109375, -0.00194549560546875, 0.0005340576171875, 0.003997802734375, 0.00160980224609375, -0.00107574462890625, 0.004119873046875, 0.001678466796875, 0.0009307861328125, 0.00051116943359375, 0.00909423828125, -0.0024261474609375, -0.00274658203125, -0.0023956298828125, -0.0003833770751953125, -0.00201416015625, -0.006683349609375, 0.00162506103515625, 0.0026397705078125, -0.00021076202392578125, -0.00038909912109375, 0.00185394287109375, -0.0032806396484375, 0.002166748046875, 0.00165557861328125, -0.0027313232421875, -0.0035400390625, -0.00823974609375, -0.004241943359375, -0.006805419921875, -0.007568359375, -0.00098419189453125, -0.0005340576171875, -0.0012359619140625, 0.000762939453125, 0.003265380859375, 0.0062255859375, 0.00119781494140625, 0.00201416015625, 0.00347900390625, -0.0003528594970703125, -0.0038299560546875, 0.0025177001953125, 0.0006866455078125, -0.0020904541015625, 0.0042724609375, -0.001678466796875, -0.00860595703125, -0.00604248046875, -0.00634765625, 0.00689697265625, 0.0086669921875, -0.0022430419921875, 0.00469970703125, 0.00445556640625, 0.003082275390625, 0.0024261474609375, 0.00518798828125, -7.295608520507812e-05, 0.004425048828125, 0.0045166015625, 1.4007091522216797e-05, -0.002960205078125, -0.0032196044921875, 0.00070953369140625, -0.00185394287109375, -0.005126953125, -0.0034027099609375, -0.000759124755859375, -0.006683349609375, -0.0033416748046875, 0.0045166015625, 0.00421142578125, 0.01043701171875, -0.006683349609375, -0.00244140625, 0.00096893310546875, 0.000698089599609375, 0.000942230224609375, -0.0042724609375, 0.006866455078125, -0.00341796875, -0.000732421875, -0.0028533935546875, -0.002777099609375, 0.004150390625, -0.00112152099609375, 0.000659942626953125, 0.003814697265625, 0.0025177001953125, 0.004608154296875, 0.0028839111328125, 0.00109100341796875, -0.005615234375, -0.0025634765625, 0.0040283203125, -0.004608154296875, -0.0018157958984375, 0.00107574462890625, -0.000553131103515625, 0.0045166015625, -0.002899169921875, -0.0033111572265625, 0.006011962890625, 0.00113677978515625, -0.001617431640625, 0.003936767578125, -0.003936767578125, -0.0018157958984375, 0.000911712646484375, -0.0020294189453125, -0.00103759765625, 0.004364013671875, -0.00157928466796875, 0.0059814453125, 0.0106201171875, 0.005584716796875, -0.000957489013671875, -0.003875732421875, -0.003936767578125, -0.004608154296875, -0.00482177734375, -0.002655029296875, -0.001007080078125, -0.000255584716796875, 0.00823974609375, -0.01104736328125, -0.0026092529296875, 0.00152587890625, 0.00482177734375, -0.004058837890625, 0.00341796875, -0.00421142578125, 0.0028228759765625, 0.002593994140625, -0.003753662109375, 0.0084228515625, 0.0002918243408203125, 0.0025787353515625, 0.003204345703125, -0.00164031982421875, 0.004547119140625, 0.000301361083984375, -0.004486083984375, -0.00274658203125, -0.00445556640625, 0.00311279296875, -0.0014495849609375, -0.003021240234375, -0.0021209716796875, 0.0074462890625, 0.0017547607421875, -0.007354736328125, -0.0047607421875, 0.00531005859375, 0.0032196044921875, 0.00445556640625, -0.004058837890625, -0.00156402587890625, 0.004150390625, -0.0023651123046875, -0.0032958984375, -0.0062255859375, -0.00262451171875, 0.0031585693359375, -0.002410888671875, 0.00150299072265625, 0.00244140625, -0.0026397705078125, -0.0034637451171875, -0.0029449462890625, 0.0002498626708984375, 0.0027923583984375, 0.0010986328125, -0.0067138671875, -0.00439453125, 0.005035400390625, -0.0038604736328125, 0.000885009765625, -0.0015869140625, -0.0032501220703125, -0.00160980224609375, -0.000896453857421875, -0.0021820068359375, -0.00457763671875, -0.00112152099609375, -0.00506591796875, -0.006072998046875, 0.0023193359375, 0.003143310546875, 0.00750732421875, 0.0003719329833984375, 0.000644683837890625, 0.004150390625, 0.0017242431640625, -0.00347900390625, 0.0032501220703125, 0.000812530517578125, 0.0021209716796875, 0.000782012939453125, 0.0023040771484375, -0.002593994140625, -0.00098419189453125, 0.0030364990234375, 0.004364013671875, 0.000614166259765625, -0.0032806396484375, -0.006317138671875, -0.001922607421875, -0.00653076171875, 0.00067138671875, 0.00616455078125, -0.0028228759765625, 0.0093994140625, -0.0023040771484375, -0.00012969970703125, 0.000888824462890625, -0.0023040771484375, 0.000827789306640625, 0.0106201171875, 0.000789642333984375, 0.003509521484375, 0.00341796875, 0.003448486328125, 0.00262451171875, -0.00262451171875, -0.0003452301025390625, 0.0017852783203125, -0.00445556640625, -0.012451171875, 0.0022125244140625, -0.0029144287109375, 0.000629425048828125, 0.004669189453125, 0.003204345703125, 0.00860595703125, -0.00153350830078125, -0.0030059814453125, 0.0026702880859375, -0.0038909912109375, 0.0023040771484375, -0.00122833251953125, 0.0037841796875, 0.0021209716796875, -0.002410888671875, -0.00107574462890625, 0.005035400390625, 0.0042724609375, 0.00274658203125, 0.00183868408203125, -0.002410888671875, -0.00701904296875, -0.0078125, -0.00201416015625, -0.00021839141845703125, 0.0008544921875, -0.004180908203125, 0.0076904296875, 0.00133514404296875, 0.0037841796875, -0.0010223388671875, -0.00070953369140625, 0.0010528564453125, -0.003509521484375, -0.00482177734375, 0.00011682510375976562, 0.002105712890625, -0.00194549560546875, -0.0037841796875, -0.00384521484375, 0.00148773193359375, 0.00482177734375, -0.0024871826171875, -6.532669067382812e-05, 0.0052490234375, -0.004669189453125, -0.0029296875, -0.00107574462890625, 0.00026702880859375, -0.0064697265625, 0.00457763671875, 0.001983642578125, 0.006622314453125, -0.0007171630859375, -0.001373291015625, -0.0002536773681640625, 0.001220703125, 0.0036163330078125, -0.0029449462890625, -0.00026702880859375, -0.000957489013671875, 0.00128936767578125, 0.00119781494140625, 0.00019550323486328125, -0.0045166015625, -0.00148773193359375, 0.00860595703125, 0.0057373046875, 0.001861572265625, -0.004730224609375, -0.00341796875, -0.006561279296875, -0.000942230224609375, 0.0032958984375, 0.003387451171875, 0.00162506103515625, -0.00457763671875, -0.00116729736328125, 0.0022430419921875, 0.000850677490234375, -0.0003757476806640625, 0.0023040771484375, -0.00335693359375, -0.005126953125, 0.00098419189453125, 0.00531005859375, -0.00457763671875, -0.0076904296875, -0.01055908203125, -0.0059814453125, 0.0113525390625, 0.002044677734375, -0.005462646484375, 0.004913330078125, -0.010009765625, 0.0005340576171875, 0.0031890869140625, -0.00075531005859375, 0.0001983642578125, -0.0028076171875, 0.005523681640625, 0.001007080078125, 0.00057220458984375, -0.0029449462890625, -0.001983642578125, 0.003570556640625, -0.0022735595703125, 0.00121307373046875, -0.001983642578125, -0.0030975341796875, 0.0081787109375, -0.002593994140625, 0.00125885009765625, -0.001983642578125, -0.0064697265625, 0.00433349609375, 0.00604248046875, 0.002593994140625, 0.005340576171875, -0.0019683837890625, 0.0020904541015625, -0.0022735595703125, -0.00013828277587890625, 0.01104736328125, -0.0019378662109375, -0.0040283203125, -0.0098876953125, -0.00567626953125, -0.00421142578125, -0.01116943359375, 0.006744384765625, 0.00830078125, -0.003204345703125, 0.0025787353515625, 0.0003528594970703125, -0.0026397705078125, 0.000396728515625, 0.0072021484375, -0.00165557861328125, 0.0042724609375, -0.0069580078125, -0.00170135498046875, 0.003173828125, -0.0030059814453125, 0.00726318359375, 0.003021240234375, -0.002197265625, 0.000514984130859375, 0.001953125, -4.076957702636719e-05, 0.0022125244140625, 0.00396728515625, -0.001617431640625, -0.004150390625, -0.0076904296875, 0.006683349609375, -0.00946044921875, -0.00115203857421875, -0.00653076171875, -0.0021209716796875, 0.000591278076171875, -0.0023651123046875, -0.0034942626953125, 0.0072021484375, 2.2292137145996094e-05, -0.003387451171875, -0.0052490234375, -0.00372314453125, -0.002410888671875, -0.00156402587890625, -0.0023040771484375, -0.005828857421875, -0.0032501220703125, 0.0029449462890625, 0.0018768310546875, 0.0013275146484375, -0.00147247314453125, 0.00250244140625, 0.0036468505859375, 0.002471923828125, -0.003326416015625, 0.00016307830810546875, 0.0025787353515625, -0.00299072265625, 0.00286865234375, 0.00665283203125, -0.00125885009765625, -0.003509521484375, 0.00130462646484375, -0.00052642822265625, 0.003082275390625, -0.00860595703125, -0.0018768310546875, 0.0025634765625, -0.00274658203125, 0.00775146484375, 0.00019168853759765625, -0.0030517578125, -0.0035247802734375, -0.003570556640625, -0.000911712646484375, 0.000713348388671875, 0.00738525390625, -0.00141143798828125, 0.0047607421875, 0.0018157958984375, 0.00189971923828125, -0.00174713134765625, -0.0024566650390625, 0.002471923828125, 0.000850677490234375, -0.0002994537353515625, 0.00127410888671875, -0.0037384033203125, -0.00098419189453125, 0.0020904541015625, 0.0035858154296875, 0.0047607421875, -0.0029144287109375, 0.004119873046875, 0.006805419921875, -0.002197265625, 0.00139617919921875, -0.000873565673828125, 0.001007080078125, 0.0021514892578125, -0.00238037109375, 0.006195068359375, 0.007476806640625, -0.001617431640625, -0.002716064453125, -0.006378173828125, 0.004302978515625, 0.00189971923828125, -0.00128173828125, 0.00537109375, 0.002349853515625, -0.00022411346435546875, 0.0025787353515625, -0.007415771484375, -0.0030364990234375, 0.0027008056640625, 0.004486083984375, -0.0031890869140625, -0.00160980224609375, 0.00153350830078125, -0.0057373046875, 0.00775146484375, -0.0103759765625, 0.00518798828125, 0.0029449462890625, 0.0030975341796875, 0.0037078857421875, 0.0033721923828125, -0.00139617919921875, 0.00439453125, 0.00604248046875, 0.00592041015625, -0.007171630859375, 0.003753662109375, 0.00115203857421875, -0.012451171875, 0.005279541015625, -0.0020599365234375, -0.0029144287109375, 0.00439453125, 0.0013275146484375, -0.00592041015625, 0.00014209747314453125, 0.00390625, 0.007415771484375, 0.00238037109375, -0.0018463134765625, -0.00115966796875, 0.0002593994140625, -0.002777099609375, 0.004364013671875, 0.0004787445068359375, 0.00168609619140625, 0.004638671875, -0.001068115234375, -0.003570556640625, 0.0036773681640625, -0.00494384765625, -0.0030975341796875, 0.005157470703125, -0.006072998046875, 0.00341796875, -0.0004215240478515625, -0.0069580078125, 0.002532958984375, 0.0036468505859375, 0.00040435791015625, 0.00421142578125, 0.0074462890625, -0.003662109375, 0.0021514892578125, -0.0007476806640625, 0.0047607421875, -0.00421142578125, 0.0032196044921875, -0.002044677734375, -0.0035247802734375, -0.000789642333984375, -0.0026397705078125, -0.000926971435546875, 0.000720977783203125, -0.005889892578125, -0.00335693359375, -0.012939453125, -0.00080108642578125, -0.0020751953125, 0.0034637451171875, 0.004119873046875, 0.0024261474609375, -0.00213623046875, 0.003570556640625, -0.00408935546875, 0.00029754638671875, -0.00653076171875, 0.00017833709716796875, -0.00311279296875, -0.0035858154296875, 0.00213623046875, -0.004119873046875, 0.00142669677734375, -0.0003223419189453125, -0.000507354736328125, -0.00099945068359375, 0.00390625, 0.00970458984375, -0.00372314453125, -0.00057220458984375, 0.008056640625, 0.00372314453125, 0.006134033203125, -0.00193023681640625, -0.0040283203125, 0.01251220703125, 0.0024871826171875, -0.0005340576171875, 0.006011962890625, 0.002593994140625, 0.00506591796875, 0.0069580078125, -0.00115966796875, -0.00341796875, -0.00201416015625, -0.0037689208984375, 0.0028228759765625, -0.004241943359375, -0.00799560546875, 0.004364013671875, -0.004241943359375, -0.000705718994140625, 0.0034027099609375, 0.0002956390380859375, 0.006134033203125, 0.0029754638671875, -0.0089111328125, 0.002685546875, -0.001556396484375, -0.00750732421875, -0.0067138671875, 0.0067138671875, 0.006591796875, 0.007781982421875, 0.005279541015625, 0.005706787109375, 0.00469970703125, -0.004425048828125, -0.0031585693359375, -0.010986328125, 0.0029296875, -0.004302978515625, 0.009765625, -0.0007476806640625, 0.004180908203125, -0.00152587890625, 0.000865936279296875, 0.0004825592041015625, -0.003753662109375, 0.0023193359375, 1.0192394256591797e-05, -0.0003910064697265625, 0.004425048828125, 0.0023193359375, 0.0052490234375, 0.0024871826171875, 0.0001220703125, 0.00124359130859375, 0.0030364990234375, -0.00885009765625, -0.0009765625, 0.0033721923828125, 0.00130462646484375, 0.005096435546875, -0.0023040771484375, -0.002899169921875, 0.004608154296875, 0.00157928466796875, -0.00579833984375, 0.0038604736328125, -0.004791259765625, -0.00823974609375, 0.00124359130859375, 0.00151824951171875, -0.003814697265625, 0.000606536865234375, -0.00168609619140625, -0.00130462646484375, -0.00118255615234375, 0.000331878662109375, -0.0037841796875, 0.0003948211669921875, -0.004974365234375, -0.004547119140625, -0.008544921875, -0.0037384033203125, 0.005950927734375, -0.00179290771484375, -0.0050048828125, -0.0059814453125, 0.003021240234375, 0.00396728515625, 0.0026702880859375, 0.00128936767578125, -0.0013885498046875, 0.002197265625, 0.003082275390625, -0.0028533935546875, 0.002105712890625, 0.0031585693359375, 0.004638671875, 2.5480985641479492e-06, 0.000858306884765625, 0.01104736328125, -0.006011962890625, 0.0029754638671875, -0.003509521484375, -0.00099945068359375, 0.001953125, 0.002044677734375, 0.0027618408203125, -8.821487426757812e-05, -0.00897216796875, 0.00335693359375, 0.0020904541015625, 0.0003719329833984375, 0.0028076171875, 0.00157928466796875, 0.006500244140625, -0.00457763671875, 0.000720977783203125, 0.0038909912109375, -0.004119873046875, -0.0026397705078125, 0.00555419921875, 0.00457763671875, 0.003326416015625, 0.000751495361328125, -0.001953125, -0.002044677734375, 0.00445556640625, -0.0023956298828125, 0.0026702880859375, 0.0026092529296875, 0.00262451171875, -0.00148773193359375, -0.0034942626953125, 0.001708984375, 0.00848388671875, -0.01397705078125, 0.0042724609375, 0.00179290771484375, 0.005035400390625, 0.00173187255859375, 0.00390625, 0.00994873046875, -0.006988525390625, 0.01104736328125, -0.030517578125, 0.0023193359375, 0.00482177734375, -0.0052490234375, -0.0034027099609375, 0.00750732421875, -0.0037078857421875, -0.00177764892578125, 0.000728607177734375, -0.0028228759765625, -0.004302978515625, -0.00262451171875, -0.0036773681640625, 0.000431060791015625, 0.003509521484375, 0.0084228515625, -0.0019989013671875, -0.00433349609375, -0.0029754638671875, 0.006317138671875, 0.003265380859375, 0.00860595703125, -0.0037689208984375, -0.000621795654296875, -0.0037384033203125, 0.0030975341796875, -0.003509521484375, -0.0076904296875, 0.004974365234375, -0.00041961669921875, -0.00090789794921875, -0.000537872314453125, -0.00013637542724609375, 0.00885009765625, -0.0030364990234375, -0.004425048828125, -0.00543212890625, -0.00087738037109375, -0.000797271728515625, -0.0025177001953125, 0.0025177001953125, 0.00201416015625, -0.0048828125, -0.005340576171875, -0.004150390625, -0.00390625, 0.006439208984375, 0.001708984375, -0.007568359375, 0.003143310546875, -0.00145721435546875, -0.00058746337890625, -0.0028076171875, -0.001434326171875, 0.00421142578125, 0.004791259765625, -0.00714111328125, -0.0062255859375, -0.0054931640625, 0.00433349609375, 0.006683349609375, 0.0023345947265625, -0.004486083984375, 0.0016632080078125, -0.00732421875, 0.009765625, 0.0027313232421875, 0.0004558563232421875, 0.00104522705078125, -0.0016632080078125, 0.000675201416015625, -0.0032501220703125, 0.001007080078125, 0.006317138671875, -0.00010442733764648438, 0.00130462646484375, -0.01348876953125, -0.005279541015625, 0.000492095947265625, 0.0029754638671875, 0.030029296875, -0.000942230224609375, -0.002838134765625, 0.0031890869140625, 0.003082275390625, 0.007415771484375, 0.006744384765625, -0.0024566650390625, -0.0024566650390625, -0.004119873046875, -0.000629425048828125, 0.0059814453125, 0.0035858154296875, 0.0030364990234375, -0.0001983642578125, 0.0018310546875, -0.00013446807861328125, -0.004241943359375, -0.00848388671875, -0.0002994537353515625, -0.0001678466796875, -0.0022735595703125, 0.0010833740234375, -0.00390625, -0.003021240234375, 0.0040283203125, 0.0013427734375, 0.006591796875, 0.0033721923828125, 0.00160980224609375, -0.001983642578125, 0.002685546875, -0.0011138916015625, 0.00142669677734375, -0.006744384765625, -0.004425048828125, 0.00634765625, -0.00250244140625, 0.0031890869140625, 0.002197265625, -0.0004520416259765625, -0.005035400390625, 0.0004596710205078125, -0.0003376007080078125, 0.003173828125, 0.0006256103515625, 0.006134033203125, -0.0037689208984375, -0.0037078857421875, -0.0003204345703125, -0.00054931640625, -0.00250244140625, -0.0024871826171875, 0.00933837890625, -0.0036468505859375, -0.0054931640625, -0.00131988525390625, -0.0023956298828125, 0.000698089599609375, -0.00157928466796875, -0.0019378662109375, 0.00848388671875, 0.000690460205078125, -0.00139617919921875, -0.000736236572265625, -0.0034637451171875, 0.002716064453125, 0.004119873046875, 0.00176239013671875, -0.0054931640625, 0.005035400390625, -0.006134033203125, -0.003692626953125, -0.000457763671875, 0.009033203125, -0.0047607421875, -0.0052490234375, 0.0038299560546875, -0.001739501953125, 0.001861572265625, 0.0018310546875, -0.00762939453125, 0.00665283203125, -0.0013885498046875, -0.0020904541015625, -0.00139617919921875, -0.0017547607421875, -0.002044677734375, 0.0034332275390625, -0.002349853515625, -0.005401611328125, 3.0517578125e-05, -0.0023345947265625, 0.0087890625, -0.0011138916015625, 0.000537872314453125, -0.006072998046875, 0.004547119140625, 0.00133514404296875, 0.0003757476806640625, 0.004486083984375, 0.0013427734375, -0.01171875, -0.00116729736328125, 0.00139617919921875, -0.00531005859375, -0.00653076171875, 0.00063323974609375, 0.0029449462890625, -0.0021209716796875, -0.0016326904296875, 0.0033416748046875, -0.00384521484375, -0.00156402587890625, 0.003082275390625, 0.00537109375, 0.000598907470703125, 0.0059814453125, 0.00604248046875, 0.002288818359375, -0.00396728515625, 0.00213623046875, 0.01116943359375, -0.00555419921875, -0.004241943359375, -0.000698089599609375, -0.0033721923828125, -0.00439453125, -0.000667572021484375, 0.0024871826171875, 0.006927490234375, -0.000579833984375, 0.00445556640625, 0.00070953369140625, 0.005889892578125, -0.00151824951171875, -0.0068359375, 0.00372314453125, 0.0015106201171875, 0.0078125, 0.002777099609375, -0.0032501220703125, -0.000274658203125, -0.00439453125, -0.00109100341796875, 0.0089111328125, 0.003082275390625, 0.0025482177734375, -0.0020751953125, 0.00162506103515625, -0.000797271728515625, 0.0054931640625, -0.006561279296875, -0.0027008056640625, -0.0028228759765625, -0.00469970703125, -0.006988525390625, -0.006591796875, -0.00323486328125, 0.00185394287109375, -0.00012493133544921875, 0.0025482177734375, 0.005096435546875, 0.00347900390625, 0.002471923828125, -0.000957489013671875, 0.003692626953125, -0.00341796875, 0.000713348388671875, -0.0036468505859375, -0.00653076171875, 0.000934600830078125, 0.0022430419921875, -0.00089263916015625, -0.004669189453125, -0.00023937225341796875, -0.006805419921875, -0.0103759765625, 0.0038299560546875, 0.0003910064697265625, -0.003662109375, -0.00110626220703125, -0.005035400390625, 0.00010156631469726562, -0.0003509521484375, 0.0034637451171875, -0.000667572021484375, -0.007049560546875, 0.0005035400390625, 0.0017852783203125, 0.0025482177734375, -0.0026397705078125, -0.000690460205078125, 0.00732421875, -0.00048828125, 0.0031280517578125, -0.00347900390625, 0.00107574462890625, -0.007537841796875, 0.00189971923828125, 0.0018768310546875, 0.002685546875, 0.0030364990234375, 0.0023193359375, -0.0029296875, -0.01043701171875, 0.005096435546875, -0.000812530517578125, -0.005462646484375, -0.003662109375, 0.00494384765625, 0.006683349609375, 0.000652313232421875, -0.0068359375, -0.0029754638671875, 0.0002899169921875, -0.0093994140625, 0.007354736328125, 0.00531005859375, 0.0009613037109375, -0.002166748046875, 0.04833984375, -0.00164794921875, -0.000659942626953125, -0.003875732421875, -0.00101470947265625, 0.0021514892578125, 0.002685546875, -0.00021648406982421875, 0.003021240234375, -0.006195068359375, 0.0020904541015625, -0.001739501953125, 0.004364013671875, 0.00015544891357421875, -0.0003204345703125, -0.0002536773681640625, 0.0001678466796875, -0.00738525390625, -0.004486083984375, -0.0004634857177734375, -0.002685546875, -0.006134033203125, 0.00038909912109375, 0.0037078857421875, -0.004058837890625, -0.007720947265625, 0.0072021484375, -0.00567626953125, -0.00125885009765625, 0.00165557861328125, -0.0023193359375, -6.628036499023438e-05, -0.00384521484375, -0.005889892578125, 0.002655029296875, 0.002716064453125, -0.005706787109375, 0.002410888671875, -0.00628662109375, -0.0014190673828125, 0.00537109375, -0.000217437744140625, -0.005859375, 0.0034027099609375, -0.0021514892578125, -0.0003757476806640625, 0.00110626220703125, -0.001708984375, -0.0027313232421875, -0.004241943359375, -0.0133056640625, -0.0035247802734375, -0.00113677978515625, 0.0030517578125, -0.0023193359375, 0.00238037109375, 0.0011749267578125, -0.00628662109375, 0.005950927734375, -0.004180908203125, -0.0037078857421875, -0.0029754638671875, -0.0036773681640625, 0.00994873046875, 0.00012874603271484375, 0.007476806640625, -0.00445556640625, 0.0023956298828125, 0.004180908203125, 0.00186920166015625, -0.0062255859375, -0.0074462890625, 0.000888824462890625, 0.002838134765625, 0.0028076171875, -0.00579833984375, 0.00311279296875, -0.0032501220703125, 0.00103759765625, -0.0013580322265625, 0.0025482177734375, 0.00311279296875, -0.0025787353515625, -0.0020599365234375, 0.0015411376953125, -0.000637054443359375, 0.00250244140625, 0.00738525390625, 0.006103515625, -0.0009765625, 0.0057373046875, 0.00168609619140625, -0.006195068359375, -0.000804901123046875, -0.0024871826171875, 0.007354736328125, -0.00445556640625, -0.004852294921875, -0.00182342529296875, -0.00445556640625, 0.0025177001953125, 0.006500244140625, 0.00677490234375, 0.0052490234375, -0.001678466796875, -0.002166748046875, 0.0079345703125, -0.01202392578125, -0.0033721923828125, 0.0074462890625, -0.002685546875, 0.0020599365234375, -0.0015716552734375, 0.0020904541015625, 0.0025634765625, 0.00250244140625, 0.00506591796875, 0.00494384765625, -0.00099945068359375, -0.00946044921875, 0.004425048828125, 0.0079345703125, 0.000946044921875, 0.00634765625, -0.0020294189453125, 0.006622314453125, 0.0016021728515625, -0.001983642578125, -0.003997802734375, 0.0028533935546875, 0.00083160400390625, -0.00138092041015625, -0.001861572265625, 0.006561279296875, -0.000885009765625, 4.458427429199219e-05, -0.00130462646484375, 0.0264892578125, -0.0016326904296875, 0.002777099609375, -0.000324249267578125, -0.007781982421875, -0.000873565673828125, 0.00010919570922851562, -0.0025787353515625, 0.00104522705078125, 0.0050048828125, 0.0054931640625, 0.0059814453125, 3.814697265625e-05, 0.004486083984375, -0.0059814453125, -0.0026397705078125, -0.00193023681640625, 0.002288818359375, 0.00148773193359375, -0.00286865234375, 0.0010528564453125, -0.006683349609375, -0.0031280517578125, 0.003631591796875, 0.00799560546875, -0.001190185546875, 0.00885009765625, -0.0029144287109375, -0.00616455078125, -0.005523681640625, -0.003448486328125, 0.00604248046875, -0.001922607421875, -0.0004520416259765625, 0.00567626953125, 0.004913330078125, -0.00186920166015625, -0.00186920166015625, 0.006134033203125, 0.0076904296875, -0.00141143798828125, -0.0037078857421875, 0.000896453857421875, -0.00250244140625, -0.00213623046875, -0.00384521484375, 0.0028076171875, -0.00665283203125, 0.00154876708984375, -0.0023040771484375, -0.005126953125, 5.340576171875e-05, 0.00982666015625, 0.00701904296875, -0.00885009765625, 0.005615234375, -0.00433349609375, 0.00058746337890625, 0.003631591796875, 0.0020904541015625, -0.004730224609375, 0.00154876708984375, 0.00164794921875, 0.00860595703125, -0.00185394287109375, -0.003875732421875, -0.006561279296875, 0.002960205078125, -0.00250244140625, 0.0078125, -0.0022430419921875, 0.00077056884765625, -0.0032196044921875, 0.001068115234375, -0.00045013427734375, 0.00138092041015625, -0.0010986328125, -0.00144195556640625, 0.0017242431640625, -0.0030975341796875, 0.00836181640625, 0.003875732421875, 0.003509521484375, 0.0036468505859375, -0.000102996826171875, -0.003448486328125, -0.002166748046875, 0.001678466796875, -0.00112152099609375, -0.0010528564453125, 0.0023193359375, -0.00015735626220703125, 0.0038909912109375, 0.000690460205078125, -0.00909423828125, 0.00119781494140625, -0.00040435791015625, 0.000598907470703125, -0.0030975341796875, -0.000446319580078125, 0.00396728515625, -0.0020751953125, 0.006561279296875, -0.00066375732421875, -0.0004215240478515625, 0.00145721435546875, -0.004730224609375, -0.002685546875, -0.0015411376953125, 0.000751495361328125, 0.0011444091796875, 0.000606536865234375, -0.00469970703125, -0.000766754150390625, 0.00543212890625, 0.0005950927734375, -0.002716064453125, 0.0018157958984375, -0.0032501220703125, 0.00750732421875, 0.005615234375, 0.000881195068359375, 0.00185394287109375, -0.010498046875, 0.0023651123046875, -0.00567626953125, 0.0009918212890625, -0.00909423828125, -0.004302978515625, 0.00946044921875, 0.0019683837890625, 0.00170135498046875, 0.0004444122314453125, 0.003662109375, 0.006439208984375, -0.004669189453125, -8.630752563476562e-05, 0.00299072265625, -0.004150390625, -0.002899169921875, -0.007293701171875, -0.0033721923828125, 0.00518798828125, -0.00174713134765625, -0.005035400390625, -0.0024261474609375, 5.030632019042969e-05, -0.004638671875, 0.004486083984375, -0.002471923828125, 0.00323486328125, 0.000751495361328125, -0.00958251953125, 0.0027008056640625, 0.00091552734375, 0.00147247314453125, -0.0040283203125, -0.0002536773681640625, 0.00238037109375, 0.00396728515625, 0.0030670166015625, 0.003814697265625, 0.00104522705078125, -0.002899169921875, 0.0016937255859375, -0.003570556640625, -0.006256103515625, 0.0024261474609375, -0.000759124755859375, 0.0020751953125, -0.0022430419921875, -0.003173828125, 0.0048828125, -0.002899169921875, 0.00072479248046875, -0.00115966796875, -0.0028076171875, 0.00677490234375, 0.0018463134765625, 0.00457763671875, -0.002197265625, 0.002471923828125, 0.00023365020751953125, 0.0021209716796875, -0.004119873046875, 0.003997802734375, -0.000732421875, -0.006378173828125, 0.001922607421875, 0.00439453125, -0.00102996826171875, 0.00634765625, -0.0020904541015625, 0.0023345947265625, -0.00555419921875, -0.0016326904296875, -7.486343383789062e-05, 0.0024871826171875, 0.0027618408203125, -0.004730224609375, 0.004547119140625, -0.00445556640625, -0.0101318359375, -0.00958251953125, 0.003570556640625, 0.0030059814453125, 0.0032501220703125, 0.005950927734375, -0.000537872314453125, -0.0003662109375, -0.004241943359375, 0.00098419189453125, 0.002838134765625, 0.007110595703125, 0.0007781982421875, -0.00153350830078125, -0.0078125, -0.00201416015625, -0.0006103515625, 0.0034332275390625, -0.0012359619140625, -0.00323486328125, 0.006683349609375, -0.004364013671875, 0.00139617919921875, 0.00738525390625, 0.002716064453125, -0.0034637451171875, -0.0035858154296875, -0.000560760498046875, 0.00171661376953125, 0.002227783203125, -0.001251220703125, 0.00201416015625, -0.00055694580078125, 0.00189208984375, 0.00543212890625, -0.0031585693359375, -0.002960205078125, 0.004547119140625, -0.000213623046875, 0.0048828125, -0.010009765625, 0.00213623046875, 0.003631591796875, -0.002349853515625, 0.002960205078125, -0.006866455078125, 0.0047607421875, 0.001800537109375, -0.005828857421875, 0.004058837890625, 0.001556396484375, -0.00543212890625, -0.0034942626953125, -5.221366882324219e-05, 0.004486083984375, -0.0017242431640625, 0.0011749267578125, 0.0028076171875, -0.0004787445068359375, -0.004486083984375, -0.00119781494140625, -0.00653076171875, 0.000492095947265625, -0.001373291015625, -0.004058837890625, 0.0030517578125, 0.0004062652587890625, -0.0045166015625, -0.0048828125, -0.00714111328125, 0.003265380859375, -0.0009765625, 5.0961971282958984e-06, 0.0022430419921875, -0.0084228515625, 0.002197265625, 0.00213623046875, -0.00022411346435546875, 0.0002956390380859375, -0.0002536773681640625, 0.0038909912109375, 0.003387451171875, 0.00299072265625, -0.0020599365234375, 0.0032806396484375, -0.0035858154296875, -0.01019287109375, -0.0091552734375, 0.005401611328125, -0.002227783203125, 0.0029754638671875, -0.00030517578125, -0.0027008056640625, 0.01190185546875, 0.0019989013671875, -0.000606536865234375, -0.001068115234375, 0.003936767578125, -0.01123046875, -0.004180908203125, 0.00665283203125, -0.00022029876708984375, 0.005279541015625, 0.00494384765625, 0.002288818359375, 0.0013275146484375, 4.57763671875e-05, 0.00128173828125, -0.002685546875, 0.001251220703125, -0.00151824951171875, 0.0030975341796875, 0.0002593994140625, -0.002166748046875, 0.000949859619140625, 0.000804901123046875, -0.005401611328125, 0.0086669921875, 0.005096435546875, 0.0016937255859375, 0.0003509521484375, 0.003875732421875, -0.000865936279296875, 0.005157470703125, -0.0067138671875, 0.00141143798828125, 0.00113677978515625, -0.0021209716796875, -0.005340576171875, -0.0012664794921875, 0.0036468505859375, 0.008056640625, 0.000583648681640625, 0.002288818359375, 0.00384521484375, 0.005340576171875, -0.0022735595703125, -0.005218505859375, 0.0018768310546875, -0.00592041015625, 0.0047607421875, -0.0003070831298828125, 0.0031890869140625, 0.001068115234375, 0.00787353515625, -0.00238037109375, -0.004425048828125, -0.0017547607421875, -0.00157928466796875, 0.0047607421875, 0.0023956298828125, -0.00170135498046875, 0.001556396484375, -0.000713348388671875, 0.00086212158203125, -0.00408935546875, -0.0022430419921875, -0.0002803802490234375, -0.0012359619140625, -0.008056640625, -0.00014019012451171875, -0.0028228759765625, 0.00103759765625, 0.0026702880859375, -0.0062255859375, -0.00124359130859375, 0.00118255615234375, -0.000591278076171875, 0.0069580078125, -0.00433349609375, 0.000774383544921875, 0.0042724609375, -0.00341796875, 0.000492095947265625, 0.00049591064453125, -0.0036163330078125, 0.002471923828125, 0.003753662109375, 0.006103515625, 0.0003757476806640625, 0.00087738037109375, -0.00469970703125, 0.0021820068359375, -0.006683349609375, -0.0037841796875, 0.0034942626953125, 0.003021240234375, -0.0072021484375, -0.000514984130859375, 0.004852294921875, 0.0064697265625, -0.00109100341796875, -0.002685546875, 0.006500244140625, 0.00015926361083984375, 0.0027313232421875, -0.003173828125, -0.00372314453125, 0.0038604736328125, -0.0045166015625, -0.0084228515625, -0.0018157958984375, 0.00061798095703125, -0.007537841796875, 0.00014495849609375, 0.0013580322265625, -0.0027008056640625, 0.0029754638671875, 0.000514984130859375, -0.0023040771484375, -0.000614166259765625, -0.004547119140625, 0.00101470947265625, -0.0019989013671875, -0.0026092529296875, -0.005584716796875, 0.00335693359375, -0.0123291015625, -0.003204345703125, -0.0035400390625, -0.00153350830078125, 0.00274658203125, 0.0101318359375, 0.0059814453125, -0.00201416015625, -0.002777099609375, -0.004180908203125, -0.0013275146484375, 0.0029449462890625, -0.0021209716796875, -0.004150390625, 0.00183868408203125, 0.00092315673828125, -0.00341796875, -0.000640869140625, -0.00390625, 0.0034027099609375, -0.0030975341796875, -0.0062255859375, -0.00112152099609375, 0.004486083984375, -0.005096435546875, 0.000644683837890625, -0.00872802734375, -0.002349853515625, 0.004425048828125, -0.0022125244140625, 0.00250244140625, 0.0050048828125, 0.0025482177734375, 0.000244140625, -0.0027923583984375, 0.00299072265625, -0.009521484375, -0.00714111328125, -0.0028839111328125, -0.00164794921875, -0.005218505859375, -0.000217437744140625, 0.00017261505126953125, 0.002960205078125, -0.004608154296875, -0.0036163330078125, -0.003753662109375, -0.00069427490234375, 0.00022411346435546875, 0.00099945068359375, -0.002166748046875, 0.00061798095703125, 0.006500244140625, -0.005584716796875, 0.0020904541015625, 0.009033203125, -0.0019378662109375, -0.00604248046875, 0.002685546875, 0.00167083740234375, -0.002777099609375, 0.004852294921875, -0.0026702880859375, 0.002777099609375, -0.0004024505615234375, -0.005706787109375, 0.004302978515625, -0.00030517578125, 0.0029449462890625, -0.005279541015625, 0.00531005859375, 0.0019073486328125, 0.0037841796875, 0.0016021728515625, 0.00225830078125, -0.001983642578125, 0.007232666015625, -0.001739501953125, -0.003692626953125, -0.0009307861328125, -0.0030670166015625, -0.01068115234375, 0.008544921875, -0.012451171875, 0.000598907470703125, -0.00107574462890625, -0.00156402587890625, 0.0029296875, 0.0028076171875, 0.00145721435546875, 0.005462646484375, -0.010009765625, 0.0026397705078125, 0.00110626220703125, -0.01141357421875, -0.00604248046875, 0.004180908203125, 0.002838134765625, 0.00323486328125, -0.007049560546875, -4.1961669921875e-05, -0.004150390625, -0.006011962890625, 0.00098419189453125, -0.005462646484375, -0.004791259765625, 0.00640869140625, -0.0013275146484375, 0.00087738037109375, -0.0069580078125, -0.00567626953125, -0.0030975341796875, 0.004486083984375, 0.00531005859375, -0.0013275146484375, -0.0013580322265625, -0.0025634765625, 0.000446319580078125, -0.005950927734375, -0.000675201416015625, -0.002166748046875, -0.0091552734375, -0.00141143798828125, -0.002166748046875, -0.0001220703125, 0.006195068359375, -0.00124359130859375, 0.000736236572265625, -0.003570556640625, 0.003082275390625, -0.0035400390625, -0.0033111572265625, 0.0036468505859375, -2.5480985641479492e-06, -0.0034637451171875, -0.0027923583984375, -0.005950927734375, 0.00396728515625, -0.00194549560546875, 0.0037689208984375, -0.00323486328125, 0.001068115234375, 0.000278472900390625, 0.00099945068359375, -0.000720977783203125, -0.0029296875, -0.0024261474609375, 0.0037384033203125, 0.003387451171875, -0.00238037109375, 0.00457763671875, 0.00738525390625, 0.002593994140625, 0.0120849609375, 0.004058837890625, -0.00189208984375, 0.00311279296875, 0.00128173828125, -0.003631591796875, -0.006561279296875, 0.002044677734375, -0.004364013671875, -0.007415771484375, -0.0002536773681640625, 0.005035400390625, 0.0045166015625, -0.00384521484375, 0.004425048828125, 0.0016632080078125, 0.00701904296875, -0.0031280517578125, -0.00133514404296875, 0.004425048828125, -0.00167083740234375, 0.0016021728515625, 0.000659942626953125, 0.005126953125, -0.001129150390625, 0.008544921875, 0.000797271728515625, 0.005950927734375, -0.00927734375, 0.0015106201171875, -0.00830078125, 0.0032196044921875, 0.001739501953125, 0.0010528564453125, 0.007781982421875, -0.0019989013671875, 0.0002994537353515625, -0.002532958984375, 0.002166748046875, 0.0027008056640625, 0.00116729736328125, -0.0026702880859375, 0.0021209716796875, -0.006011962890625, -0.004974365234375, 0.003692626953125, 0.00384521484375, 0.0023193359375, 0.0016937255859375, 0.0002536773681640625, -0.00927734375, -3.0517578125e-05, -0.005615234375, -0.0022430419921875, -0.0014801025390625, 0.00689697265625, 0.0074462890625, 0.00131988525390625, 0.0023651123046875, -0.01336669921875, -0.00173187255859375, -0.00122833251953125, 0.00046539306640625, 0.004119873046875, -0.00262451171875, 0.007049560546875, 0.00055694580078125, -0.00421142578125, -0.004180908203125, -0.0035858154296875, 0.0004177093505859375, -0.0047607421875, 0.0037841796875, -0.0033721923828125, 0.00238037109375, 0.0047607421875, 0.00787353515625, -0.00531005859375, -0.00384521484375, -0.0003261566162109375, 0.00124359130859375, -0.00390625, 0.000888824462890625, -0.002685546875, -0.003662109375, 0.001251220703125, 0.0002613067626953125, -0.0032196044921875, -0.001251220703125, -0.00153350830078125, 0.0012359619140625, -0.0003566741943359375, 0.0023345947265625, -0.00274658203125, -0.0068359375, -0.005859375, 0.007659912109375, 0.0050048828125, -0.00396728515625, 0.005859375, 0.00110626220703125, -0.007781982421875, -0.000759124755859375, -8.96453857421875e-05, -0.00238037109375, -0.0048828125, 0.00145721435546875, -0.0025634765625, 0.00439453125, 0.00653076171875, 0.0038604736328125, 0.0028228759765625, 0.005218505859375, 0.000492095947265625, -0.00104522705078125, 0.0031890869140625, -0.0016632080078125, 0.00390625, 0.000152587890625, 0.000904083251953125, -0.00262451171875, 0.0014495849609375, -0.00494384765625, -0.006317138671875, 0.0024871826171875, 0.005462646484375, -0.005706787109375, -0.004150390625, 0.005889892578125, 0.0028228759765625, 0.0020904541015625, 0.0007781982421875, 0.004913330078125, 0.0002956390380859375, -0.003997802734375, 0.00433349609375, 0.001556396484375, -0.0002651214599609375, 0.002105712890625, -2.0384788513183594e-05, 0.0030670166015625, 0.00153350830078125, 0.000926971435546875, -0.00139617919921875, -0.004730224609375, -0.00457763671875, 0.0015869140625, 0.001556396484375, -0.003692626953125, -0.0031890869140625, -0.00823974609375, -0.0032196044921875, -0.00299072265625, 0.00099945068359375, 0.0057373046875, -0.00110626220703125, 0.0025177001953125, -0.00262451171875, -0.00299072265625, -0.00616455078125, -0.0007171630859375, 0.002227783203125, -0.0027313232421875, 0.0027008056640625, -0.0026397705078125, 0.0054931640625, 1.52587890625e-05, 0.0023345947265625, -0.004425048828125, 0.007049560546875, 0.000644683837890625, 0.01019287109375, 0.00099945068359375, 0.0013580322265625, -0.0025177001953125, 0.004119873046875, 0.000728607177734375, -0.00469970703125, -0.000751495361328125, 0.0029144287109375, 0.0003871917724609375, -0.0022125244140625, 0.0018463134765625, -0.00201416015625, -0.0047607421875, 0.0038604736328125, -0.00066375732421875, -0.000102996826171875, -0.0007781982421875, 0.0048828125, 0.0020751953125, 8.630752563476562e-05, -0.004974365234375, 0.0028839111328125, 0.005157470703125, -0.0022735595703125, 0.0048828125, 0.0023956298828125, -0.001129150390625, 0.002105712890625, 0.00653076171875, -0.00176239013671875, 0.0035400390625, -0.0024871826171875, 0.0003833770751953125, 0.00156402587890625, 0.004791259765625, -0.002197265625, -0.00775146484375, -0.0021820068359375, 0.00018787384033203125, 0.0024566650390625, -0.004791259765625, 0.003204345703125, -0.00445556640625, 0.01300048828125, 0.0004825592041015625, -0.00165557861328125, 0.00136566162109375, 0.0013275146484375, -0.0045166015625, 0.00102996826171875, -0.000720977783203125, 0.0037841796875, -0.005218505859375, 0.0019989013671875, 0.00634765625, 0.00457763671875, 0.0010528564453125, -0.003936767578125, 0.00016307830810546875, 0.00213623046875, 0.005645751953125, 0.00146484375, -0.000774383544921875, 0.0030364990234375, -0.0038299560546875, 1.52587890625e-05, -0.00144195556640625, -0.0005035400390625, 0.00194549560546875, 0.00244140625, -0.00634765625, 0.0030517578125, -0.00360107421875, 0.001373291015625, -0.0015411376953125, 0.00164794921875, 0.01007080078125, 0.000881195068359375, -0.0027923583984375, -0.0016021728515625, -0.00141143798828125, 0.0013427734375, -0.0030059814453125, -0.0027008056640625, 0.006683349609375, 0.0025482177734375, 0.0004119873046875, -0.004180908203125, -0.00384521484375, -0.00145721435546875, -0.0026397705078125, -0.004180908203125, -0.00396728515625, -0.00099945068359375, -0.00457763671875, -0.00628662109375, 0.001861572265625, 0.0012969970703125, -0.0021820068359375, -0.00061798095703125, 0.0028076171875, -0.003021240234375, -0.00262451171875, 0.004852294921875, -0.003997802734375, 0.01019287109375, 0.005096435546875, 0.000873565673828125, -0.005584716796875, -0.0032196044921875, -0.0013275146484375, 0.00098419189453125, 0.0015106201171875, -0.0033721923828125, -0.00115203857421875, -0.00113677978515625, 0.0025787353515625, -0.0030364990234375, 0.001434326171875, -0.003936767578125, -0.0006866455078125, 0.000362396240234375, -0.000591278076171875, 0.0031280517578125, 0.0037994384765625, 0.004119873046875, -0.003936767578125, -0.0002899169921875, 0.00439453125, 0.0050048828125, 0.0029754638671875, 0.0048828125, -0.00408935546875, 0.003204345703125, 0.003387451171875, 0.0023193359375, -0.0011444091796875, 0.0025482177734375, -0.00634765625, -0.0003604888916015625, -0.005828857421875, 0.006866455078125, -0.005950927734375, 0.006072998046875, 0.00396728515625, -0.00311279296875, 0.009521484375, 0.0029754638671875, -0.000652313232421875, -0.00135040283203125, 0.000972747802734375, -0.00042724609375, -0.0023193359375, 0.0003147125244140625, -0.0018157958984375, 0.0047607421875, -0.00433349609375, 0.00958251953125, 0.00762939453125, -0.00799560546875, -0.002197265625, -0.0020294189453125, 0.002838134765625, 3.814697265625e-05, 0.0029754638671875, -0.0033416748046875, 0.0022125244140625, 0.001953125, -0.00130462646484375, -0.00433349609375, -0.0003490447998046875, -0.00396728515625, -0.001922607421875, 0.00165557861328125, 0.008056640625, -0.0037689208984375, -9.1552734375e-05, 0.009521484375, -0.00408935546875, -0.0052490234375, 0.000274658203125, -0.004547119140625, 0.0022125244140625, -0.005035400390625, 0.00188446044921875, -0.0009613037109375, -0.005645751953125, -0.00104522705078125, 2.0384788513183594e-05, 0.0020599365234375, 0.0023040771484375, -0.0013427734375, 0.00433349609375, 0.0017242431640625, 0.0001983642578125, -0.00170135498046875, -0.001434326171875, -0.0023040771484375, -0.000698089599609375, 0.000762939453125, 0.0007781982421875, 0.000560760498046875, -0.000591278076171875, 0.006103515625, -0.00147247314453125, 0.00177001953125, 0.001220703125, 0.0022430419921875, -0.00124359130859375, -0.003021240234375, -0.003387451171875, 0.00494384765625, 0.002685546875, -1.6808509826660156e-05, -0.00138092041015625, 0.00994873046875, 0.00160980224609375, 0.00138092041015625, -0.005157470703125, -0.0027008056640625, -0.0038604736328125, -0.000514984130859375, 0.00096893310546875, 0.004241943359375, 0.00384521484375, -0.0003223419189453125, -0.001312255859375, -0.007781982421875, -0.000823974609375, 0.00054931640625, -0.00482177734375, 0.0001678466796875, -0.00177001953125, 0.0026092529296875, -0.003936767578125, -0.00341796875, -0.00150299072265625, 0.00262451171875, -0.000965118408203125, -0.00439453125, 0.00982666015625, 0.00860595703125, 0.007049560546875, 0.0025787353515625, 0.006134033203125, 0.0002803802490234375, -0.0040283203125, -0.004180908203125, -0.004669189453125, -0.000667572021484375, 0.0005035400390625, -0.002227783203125, -0.00665283203125, -0.000701904296875, -0.000675201416015625, 0.0004444122314453125, 0.00060272216796875, 6.103515625e-05, 0.0030059814453125, 0.003143310546875, -4.1961669921875e-05, -0.009765625, 0.000507354736328125, -0.00119781494140625, -0.0014190673828125, 0.0004730224609375, -0.004364013671875, -0.0019989013671875, 0.000148773193359375, 0.00091552734375, -0.005126953125, -0.0012359619140625, 0.004974365234375, 0.00372314453125, 0.0086669921875, -0.0004405975341796875, 0.00860595703125, 0.002166748046875, -0.00634765625, 0.01190185546875, 0.00909423828125, 6.628036499023438e-05, -0.003265380859375, -0.003265380859375, 0.005584716796875, 0.00921630859375, 0.0027008056640625, -0.000118255615234375, 0.00250244140625, 0.0024261474609375, -0.0029296875, -0.005462646484375, -0.0037689208984375, 0.0003070831298828125, -0.00213623046875, -0.0035552978515625, 0.005706787109375, 0.0021514892578125, 0.01123046875, -0.0005950927734375, 0.007049560546875, 0.0045166015625, 0.004547119140625, -0.002960205078125, 0.00148773193359375, 0.0032806396484375, -0.006378173828125, 0.001190185546875, -0.00135040283203125, 0.00439453125, -0.0037078857421875, -0.0042724609375, -0.00604248046875, -0.0020904541015625, 0.0015106201171875, 0.00016307830810546875, -0.004241943359375, -0.00156402587890625, 0.001708984375, 0.0032806396484375, -0.00167083740234375, -0.0003299713134765625, 0.00482177734375, -0.0031585693359375, 0.00104522705078125, -0.0064697265625, 0.00311279296875, 0.0001678466796875, -0.0035400390625, 0.00102996826171875, -0.000652313232421875, 0.0009765625, 0.006134033203125, -0.0038299560546875, 0.0024261474609375, 0.003387451171875, -0.003753662109375, -0.0010986328125, 0.00347900390625, 0.003509521484375, 0.00188446044921875, -0.002105712890625, -0.004974365234375, 0.006866455078125]]\n"
     ]
    }
   ],
   "source": [
    "for e, d in EXTRA_TOKENS.items():\n",
    "    print(d['new_embedding'].detach().cpu().tolist())"
   ]
  },
  {
   "cell_type": "code",
   "execution_count": null,
   "metadata": {},
   "outputs": [
    {
     "name": "stderr",
     "output_type": "stream",
     "text": [
      "/usr/local/lib/python3.10/dist-packages/peft/utils/save_and_load.py:168: UserWarning: Setting `save_embedding_layers` to `True` as the embedding layer has been resized during finetuning.\n",
      "  warnings.warn(\n"
     ]
    },
    {
     "data": {
      "application/vnd.google.colaboratory.intrinsic+json": {
       "type": "string"
      },
      "text/plain": [
       "CommitInfo(commit_url='https://huggingface.co/profoz/sawyer-llama-3/commit/2b049cb9574c999392222faea9d13e17014c8e90', commit_message='End of training', commit_description='', oid='2b049cb9574c999392222faea9d13e17014c8e90', pr_url=None, pr_revision=None, pr_num=None)"
      ]
     },
     "execution_count": 50,
     "metadata": {},
     "output_type": "execute_result"
    }
   ],
   "source": [
    "trainer.push_to_hub()"
   ]
  },
  {
   "cell_type": "code",
   "execution_count": null,
   "metadata": {},
   "outputs": [
    {
     "data": {
      "application/vnd.jupyter.widget-view+json": {
       "model_id": "0e72bd202a6c428ea1ddffe5aee2a4f0",
       "version_major": 2,
       "version_minor": 0
      },
      "text/plain": [
       "README.md:   0%|          | 0.00/1.43k [00:00<?, ?B/s]"
      ]
     },
     "metadata": {},
     "output_type": "display_data"
    },
    {
     "data": {
      "application/vnd.google.colaboratory.intrinsic+json": {
       "type": "string"
      },
      "text/plain": [
       "CommitInfo(commit_url='https://huggingface.co/profoz/sawyer-llama-3/commit/fca70aa9464eb4198e36a3420e7556a2399b8c3f', commit_message='Upload tokenizer', commit_description='', oid='fca70aa9464eb4198e36a3420e7556a2399b8c3f', pr_url=None, pr_revision=None, pr_num=None)"
      ]
     },
     "execution_count": 51,
     "metadata": {},
     "output_type": "execute_result"
    }
   ],
   "source": [
    "tokenizer.push_to_hub(trainer.hub_model_id)"
   ]
  },
  {
   "cell_type": "code",
   "execution_count": null,
   "metadata": {},
   "outputs": [],
   "source": []
  },
  {
   "cell_type": "markdown",
   "metadata": {
    "id": "_hzzxvCYYDpf"
   },
   "source": [
    "# Reload model and merge it with LoRA weights"
   ]
  },
  {
   "cell_type": "code",
   "execution_count": null,
   "metadata": {},
   "outputs": [
    {
     "data": {
      "application/vnd.jupyter.widget-view+json": {
       "model_id": "4d9f48069c0741f387b8b33afe2147ef",
       "version_major": 2,
       "version_minor": 0
      },
      "text/plain": [
       "Loading checkpoint shards:   0%|          | 0/4 [00:00<?, ?it/s]"
      ]
     },
     "metadata": {},
     "output_type": "display_data"
    },
    {
     "data": {
      "application/vnd.jupyter.widget-view+json": {
       "model_id": "9b069b8069124cd9a0f6b777195ae9e7",
       "version_major": 2,
       "version_minor": 0
      },
      "text/plain": [
       "adapter_config.json:   0%|          | 0.00/653 [00:00<?, ?B/s]"
      ]
     },
     "metadata": {},
     "output_type": "display_data"
    },
    {
     "data": {
      "application/vnd.jupyter.widget-view+json": {
       "model_id": "e1f9524c5e2a47d9a1394b91be2078fb",
       "version_major": 2,
       "version_minor": 0
      },
      "text/plain": [
       "adapter_model.safetensors:   0%|          | 0.00/2.32G [00:00<?, ?B/s]"
      ]
     },
     "metadata": {},
     "output_type": "display_data"
    }
   ],
   "source": [
    "# Load the base model for causal language modeling from the pretrained model specified by 'base_model'\n",
    "hf_load_model = AutoModelForCausalLM.from_pretrained(\n",
    "    base_model,\n",
    "    low_cpu_mem_usage=True,  # Optimize memory usage\n",
    "    return_dict=True,        # Ensure the model returns a dictionary\n",
    "    torch_dtype=torch.bfloat16,  # Use bfloat16 precision for faster computation\n",
    "    device_map={\"\": 0},      # Map the model to the first available GPU device\n",
    ")\n",
    "\n",
    "# Resize the token embeddings to match the tokenizer's vocabulary size\n",
    "hf_load_model.resize_token_embeddings(len(tokenizer))\n",
    "\n",
    "# Load the PeftModel from a pretrained model specified by 'trainer.hub_model_id'\n",
    "hf_load_model = PeftModel.from_pretrained(hf_load_model, trainer.hub_model_id)\n",
    "\n",
    "# Merge the model's weights. This is optional.\n",
    "hf_load_model = hf_load_model.merge_and_unload()"
   ]
  },
  {
   "cell_type": "code",
   "execution_count": null,
   "metadata": {},
   "outputs": [
    {
     "data": {
      "text/plain": [
       "{'stop_token': {'token': '###STOP###',\n",
       "  'replace_embedding_with': 'stop talking',\n",
       "  'new_embedding': tensor([[-0.0198, -0.0090,  0.0052,  ...,  0.0225,  0.0108,  0.0082]],\n",
       "         device='cuda:0', dtype=torch.bfloat16),\n",
       "  'token_id': 128256},\n",
       " 'human_token': {'token': '###HUMAN###',\n",
       "  'replace_embedding_with': 'The human said:',\n",
       "  'new_embedding': tensor([[-0.0041, -0.0070, -0.0053,  ...,  0.0045,  0.0031,  0.0039]],\n",
       "         device='cuda:0', dtype=torch.bfloat16),\n",
       "  'token_id': 128257},\n",
       " 'bot_token': {'token': '###BOT###',\n",
       "  'replace_embedding_with': 'The assistant said:',\n",
       "  'new_embedding': tensor([[-0.0043, -0.0041, -0.0040,  ..., -0.0021, -0.0050,  0.0069]],\n",
       "         device='cuda:0', dtype=torch.bfloat16),\n",
       "  'token_id': 128258}}"
      ]
     },
     "execution_count": 53,
     "metadata": {},
     "output_type": "execute_result"
    }
   ],
   "source": [
    "EXTRA_TOKENS"
   ]
  },
  {
   "cell_type": "code",
   "execution_count": null,
   "metadata": {},
   "outputs": [
    {
     "data": {
      "text/plain": [
       "tensor([[True, True, True,  ..., True, True, True],\n",
       "        [True, True, True,  ..., True, True, True],\n",
       "        [True, True, True,  ..., True, True, True],\n",
       "        ...,\n",
       "        [True, True, True,  ..., True, True, True],\n",
       "        [True, True, True,  ..., True, True, True],\n",
       "        [True, True, True,  ..., True, True, True]], device='cuda:0')"
      ]
     },
     "execution_count": 54,
     "metadata": {},
     "output_type": "execute_result"
    }
   ],
   "source": [
    "model.model.model.embed_tokens.weight.data == hf_load_model.model.embed_tokens.weight.data"
   ]
  },
  {
   "cell_type": "code",
   "execution_count": null,
   "metadata": {},
   "outputs": [
    {
     "data": {
      "text/plain": [
       "tensor([-0.0198, -0.0090,  0.0052,  ...,  0.0225,  0.0108,  0.0082],\n",
       "       device='cuda:0', dtype=torch.bfloat16)"
      ]
     },
     "execution_count": 55,
     "metadata": {},
     "output_type": "execute_result"
    }
   ],
   "source": [
    "model.model.model.embed_tokens.weight.data[128256]"
   ]
  },
  {
   "cell_type": "code",
   "execution_count": null,
   "metadata": {},
   "outputs": [
    {
     "data": {
      "text/plain": [
       "tensor([-0.0198, -0.0090,  0.0052,  ...,  0.0225,  0.0108,  0.0082],\n",
       "       device='cuda:0', dtype=torch.bfloat16)"
      ]
     },
     "execution_count": 56,
     "metadata": {},
     "output_type": "execute_result"
    }
   ],
   "source": [
    "hf_load_model.model.embed_tokens.weight.data[128256]"
   ]
  },
  {
   "cell_type": "code",
   "execution_count": null,
   "metadata": {},
   "outputs": [
    {
     "name": "stdout",
     "output_type": "stream",
     "text": [
      "128256 tensor([[-0.0198, -0.0090,  0.0052,  ...,  0.0225,  0.0108,  0.0082]],\n",
      "       device='cuda:0', dtype=torch.bfloat16)\n",
      "128257 tensor([[-0.0041, -0.0070, -0.0053,  ...,  0.0045,  0.0031,  0.0039]],\n",
      "       device='cuda:0', dtype=torch.bfloat16)\n",
      "128258 tensor([[-0.0043, -0.0041, -0.0040,  ..., -0.0021, -0.0050,  0.0069]],\n",
      "       device='cuda:0', dtype=torch.bfloat16)\n"
     ]
    }
   ],
   "source": [
    "for extra_token, token_info in EXTRA_TOKENS.items():\n",
    "    print(token_info['token_id'], token_info['new_embedding'].clone().to(torch.bfloat16)[:5])\n",
    "    # hf_load_model.model.embed_tokens.weight.data[token_info['token_id']] = token_info['new_embedding'].clone().to(torch.bfloat16)"
   ]
  },
  {
   "cell_type": "code",
   "execution_count": null,
   "metadata": {},
   "outputs": [
    {
     "data": {
      "text/plain": [
       "tensor([-0.0198, -0.0090,  0.0052,  ...,  0.0225,  0.0108,  0.0082],\n",
       "       device='cuda:0', dtype=torch.bfloat16)"
      ]
     },
     "execution_count": 58,
     "metadata": {},
     "output_type": "execute_result"
    }
   ],
   "source": [
    "hf_load_model.model.embed_tokens.weight.data[128256]"
   ]
  },
  {
   "cell_type": "code",
   "execution_count": null,
   "metadata": {},
   "outputs": [
    {
     "data": {
      "text/plain": [
       "tensor([-0.0198, -0.0090,  0.0052,  ...,  0.0225,  0.0108,  0.0082],\n",
       "       device='cuda:0', dtype=torch.bfloat16)"
      ]
     },
     "execution_count": 59,
     "metadata": {},
     "output_type": "execute_result"
    }
   ],
   "source": [
    "hf_load_model.model.embed_tokens.weight.data[128256]"
   ]
  },
  {
   "cell_type": "code",
   "execution_count": null,
   "metadata": {},
   "outputs": [
    {
     "data": {
      "text/plain": [
       "tensor([[True, True, True,  ..., True, True, True],\n",
       "        [True, True, True,  ..., True, True, True],\n",
       "        [True, True, True,  ..., True, True, True],\n",
       "        ...,\n",
       "        [True, True, True,  ..., True, True, True],\n",
       "        [True, True, True,  ..., True, True, True],\n",
       "        [True, True, True,  ..., True, True, True]], device='cuda:0')"
      ]
     },
     "execution_count": 60,
     "metadata": {},
     "output_type": "execute_result"
    }
   ],
   "source": [
    "model.model.model.embed_tokens.weight.data == hf_load_model.model.embed_tokens.weight.data"
   ]
  },
  {
   "cell_type": "code",
   "execution_count": null,
   "metadata": {},
   "outputs": [
    {
     "name": "stderr",
     "output_type": "stream",
     "text": [
      "Setting `pad_token_id` to `eos_token_id`:128256 for open-end generation.\n"
     ]
    },
    {
     "data": {
      "application/vnd.google.colaboratory.intrinsic+json": {
       "type": "string"
      },
      "text/plain": [
       "'###HUMAN### Who was the first president of the USA? ###BOT### George Washington. ###STOP###'"
      ]
     },
     "execution_count": 61,
     "metadata": {},
     "output_type": "execute_result"
    }
   ],
   "source": [
    "# the model we just trained (not the one we are about to de-serialize)\n",
    "tokenizer.decode(\n",
    "    hf_load_model.generate(\n",
    "        **tokenizer(join_convo([['human', \"Who was the first president of the USA?\"]]), return_tensors='pt').to(0),\n",
    "        max_length=64,\n",
    "        eos_token_id=EXTRA_TOKENS['stop_token']['token_id']\n",
    "        )[0]\n",
    "    )"
   ]
  },
  {
   "cell_type": "code",
   "execution_count": null,
   "metadata": {},
   "outputs": [],
   "source": [
    "def generate_text(conversation, model, **kwargs):\n",
    "    prompt = join_convo(conversation)\n",
    "    return tokenizer.decode(\n",
    "        model.generate(\n",
    "            **tokenizer(prompt, return_tensors='pt').to(model.device),\n",
    "            max_length=128,\n",
    "            eos_token_id=EXTRA_TOKENS['stop_token']['token_id'],\n",
    "            **kwargs\n",
    "            )[0],\n",
    "        skip_special_tokens=True,\n",
    "        )"
   ]
  },
  {
   "cell_type": "code",
   "execution_count": null,
   "metadata": {},
   "outputs": [
    {
     "name": "stderr",
     "output_type": "stream",
     "text": [
      "Setting `pad_token_id` to `eos_token_id`:128256 for open-end generation.\n"
     ]
    },
    {
     "name": "stdout",
     "output_type": "stream",
     "text": [
      "###HUMAN### Who was the first president of the USA? ###BOT### George Washington. ###STOP###\n"
     ]
    }
   ],
   "source": [
    "# we want this to be about the same.\n",
    "print(generate_text(\n",
    "    [['human', \"Who was the first president of the USA?\"]],\n",
    "    hf_load_model\n",
    "))"
   ]
  },
  {
   "cell_type": "code",
   "execution_count": null,
   "metadata": {},
   "outputs": [
    {
     "name": "stderr",
     "output_type": "stream",
     "text": [
      "Setting `pad_token_id` to `eos_token_id`:128256 for open-end generation.\n"
     ]
    },
    {
     "name": "stdout",
     "output_type": "stream",
     "text": [
      "###HUMAN### Hey there ###BOT### Hello! How can I help you today? ###STOP###\n"
     ]
    }
   ],
   "source": [
    "# we want this to be about the same.\n",
    "print(generate_text(\n",
    "    [['human', \"Hey there\"]],\n",
    "    hf_load_model\n",
    "))"
   ]
  },
  {
   "cell_type": "code",
   "execution_count": null,
   "metadata": {},
   "outputs": [],
   "source": []
  }
 ],
 "metadata": {
  "language_info": {
   "name": "python"
  }
 },
 "nbformat": 4,
 "nbformat_minor": 4
}
