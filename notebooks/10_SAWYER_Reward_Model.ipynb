{
 "cells": [
  {
   "cell_type": "markdown",
   "id": "60ea3c2a",
   "metadata": {
    "id": "60ea3c2a"
   },
   "source": [
    "# Step 2: Training SAWYER's Reward Model using Human Preferences"
   ]
  },
  {
   "cell_type": "code",
   "execution_count": null,
   "id": "d709bec4",
   "metadata": {},
   "outputs": [
    {
     "name": "stdout",
     "output_type": "stream",
     "text": [
      "Using device: cuda\n",
      "\n"
     ]
    }
   ],
   "source": [
    "import os\n",
    "from random import sample\n",
    "from tqdm import tqdm\n",
    "\n",
    "import torch\n",
    "import numpy as np\n",
    "import torch.nn as nn\n",
    "from dataclasses import dataclass, field\n",
    "from typing import Any, Dict, List, Optional, Union\n",
    "from datasets import load_dataset\n",
    "from transformers import (\n",
    "    AutoConfig,\n",
    "    AutoModelForSequenceClassification,\n",
    "    AutoTokenizer,\n",
    "    PreTrainedTokenizerBase,\n",
    "    Trainer,\n",
    "    TrainingArguments,\n",
    "    set_seed,\n",
    ")\n",
    "from transformers.utils import PaddingStrategy\n",
    "device = torch.device('cuda' if torch.cuda.is_available() else 'cpu')\n",
    "print('Using device:', device)\n",
    "print()\n"
   ]
  },
  {
   "cell_type": "markdown",
   "id": "c5e1ecf4",
   "metadata": {
    "id": "c5e1ecf4"
   },
   "source": [
    "comparison_data_v2.json ranked responses from LLMs including:\n",
    "\n",
    "1. GPT-4\n",
    "2. GPT-3.5\n",
    "3. OPT-IML\n",
    "4. DaVinci (InstructGPT)\n",
    "\n",
    "by asking GPT-4 to rate the quality.\n",
    "\n",
    "Each data element has keys:\n",
    "\n",
    "- user_input: str, prompts used for quering LLMs.\n",
    "- responses_and_scores: list[str], list of\n",
    "    - response: the response from the LLM\n",
    "    - source: the LLM that generated the response\n",
    "    - score: Score given to the response (from GPT-4)\n",
    "    \n",
    "    \n",
    "See more info [here](https://github.com/Instruction-Tuning-with-GPT-4/GPT-4-LLM/tree/main#how-good-is-the-data)"
   ]
  },
  {
   "cell_type": "code",
   "execution_count": null,
   "id": "ruazpRvP3B_u",
   "metadata": {},
   "outputs": [
    {
     "name": "stdout",
     "output_type": "stream",
     "text": [
      "Token will not been saved to git credential helper. Pass `add_to_git_credential=True` if you want to set the git credential as well.\n",
      "Token is valid (permission: write).\n",
      "Your token has been saved to /root/.cache/huggingface/token\n",
      "Login successful\n"
     ]
    }
   ],
   "source": [
    "import huggingface_hub, os\n",
    "from google.colab import userdata\n",
    "\n",
    "huggingface_hub.login(token=userdata.get('HF_TOKEN'))"
   ]
  },
  {
   "cell_type": "code",
   "execution_count": null,
   "id": "okg8ttSyd0Gl",
   "metadata": {},
   "outputs": [],
   "source": [
    "import pandas\n",
    "\n",
    "comparison_data = pandas.read_json('https://raw.githubusercontent.com/sinanuozdemir/quick-start-guide-to-llms/main/data/comparison_data_v2.json')"
   ]
  },
  {
   "cell_type": "code",
   "execution_count": null,
   "id": "2ae5bcb4",
   "metadata": {},
   "outputs": [
    {
     "data": {
      "text/plain": [
       "user_input              Below is an instruction that describes a task....\n",
       "responses_and_scores    [{'response': '1.Eat a balanced diet and make ...\n",
       "Name: 0, dtype: object"
      ]
     },
     "execution_count": 5,
     "metadata": {},
     "output_type": "execute_result"
    }
   ],
   "source": [
    "comparison_data.iloc[0]"
   ]
  },
  {
   "cell_type": "code",
   "execution_count": null,
   "id": "7d5afd47",
   "metadata": {},
   "outputs": [
    {
     "data": {
      "application/vnd.google.colaboratory.intrinsic+json": {
       "repr_error": "unhashable type: 'list'",
       "type": "dataframe",
       "variable_name": "comparison_data"
      },
      "text/html": [
       "\n",
       "  <div id=\"df-d122c4da-1d71-45d8-b9d4-c3db52e548b9\" class=\"colab-df-container\">\n",
       "    <div>\n",
       "<style scoped>\n",
       "    .dataframe tbody tr th:only-of-type {\n",
       "        vertical-align: middle;\n",
       "    }\n",
       "\n",
       "    .dataframe tbody tr th {\n",
       "        vertical-align: top;\n",
       "    }\n",
       "\n",
       "    .dataframe thead th {\n",
       "        text-align: right;\n",
       "    }\n",
       "</style>\n",
       "<table border=\"1\" class=\"dataframe\">\n",
       "  <thead>\n",
       "    <tr style=\"text-align: right;\">\n",
       "      <th></th>\n",
       "      <th>user_input</th>\n",
       "      <th>responses_and_scores</th>\n",
       "    </tr>\n",
       "  </thead>\n",
       "  <tbody>\n",
       "    <tr>\n",
       "      <th>0</th>\n",
       "      <td>Below is an instruction that describes a task....</td>\n",
       "      <td>[{'response': '1.Eat a balanced diet and make ...</td>\n",
       "    </tr>\n",
       "    <tr>\n",
       "      <th>1</th>\n",
       "      <td>Below is an instruction that describes a task....</td>\n",
       "      <td>[{'response': 'The three primary colors are re...</td>\n",
       "    </tr>\n",
       "    <tr>\n",
       "      <th>2</th>\n",
       "      <td>Below is an instruction that describes a task....</td>\n",
       "      <td>[{'response': 'An atom is made up of a nucleus...</td>\n",
       "    </tr>\n",
       "    <tr>\n",
       "      <th>3</th>\n",
       "      <td>Below is an instruction that describes a task....</td>\n",
       "      <td>[{'response': 'There are a number of ways to r...</td>\n",
       "    </tr>\n",
       "    <tr>\n",
       "      <th>4</th>\n",
       "      <td>Below is an instruction that describes a task....</td>\n",
       "      <td>[{'response': 'I had to make a difficult decis...</td>\n",
       "    </tr>\n",
       "  </tbody>\n",
       "</table>\n",
       "</div>\n",
       "    <div class=\"colab-df-buttons\">\n",
       "\n",
       "  <div class=\"colab-df-container\">\n",
       "    <button class=\"colab-df-convert\" onclick=\"convertToInteractive('df-d122c4da-1d71-45d8-b9d4-c3db52e548b9')\"\n",
       "            title=\"Convert this dataframe to an interactive table.\"\n",
       "            style=\"display:none;\">\n",
       "\n",
       "  <svg xmlns=\"http://www.w3.org/2000/svg\" height=\"24px\" viewBox=\"0 -960 960 960\">\n",
       "    <path d=\"M120-120v-720h720v720H120Zm60-500h600v-160H180v160Zm220 220h160v-160H400v160Zm0 220h160v-160H400v160ZM180-400h160v-160H180v160Zm440 0h160v-160H620v160ZM180-180h160v-160H180v160Zm440 0h160v-160H620v160Z\"/>\n",
       "  </svg>\n",
       "    </button>\n",
       "\n",
       "  <style>\n",
       "    .colab-df-container {\n",
       "      display:flex;\n",
       "      gap: 12px;\n",
       "    }\n",
       "\n",
       "    .colab-df-convert {\n",
       "      background-color: #E8F0FE;\n",
       "      border: none;\n",
       "      border-radius: 50%;\n",
       "      cursor: pointer;\n",
       "      display: none;\n",
       "      fill: #1967D2;\n",
       "      height: 32px;\n",
       "      padding: 0 0 0 0;\n",
       "      width: 32px;\n",
       "    }\n",
       "\n",
       "    .colab-df-convert:hover {\n",
       "      background-color: #E2EBFA;\n",
       "      box-shadow: 0px 1px 2px rgba(60, 64, 67, 0.3), 0px 1px 3px 1px rgba(60, 64, 67, 0.15);\n",
       "      fill: #174EA6;\n",
       "    }\n",
       "\n",
       "    .colab-df-buttons div {\n",
       "      margin-bottom: 4px;\n",
       "    }\n",
       "\n",
       "    [theme=dark] .colab-df-convert {\n",
       "      background-color: #3B4455;\n",
       "      fill: #D2E3FC;\n",
       "    }\n",
       "\n",
       "    [theme=dark] .colab-df-convert:hover {\n",
       "      background-color: #434B5C;\n",
       "      box-shadow: 0px 1px 3px 1px rgba(0, 0, 0, 0.15);\n",
       "      filter: drop-shadow(0px 1px 2px rgba(0, 0, 0, 0.3));\n",
       "      fill: #FFFFFF;\n",
       "    }\n",
       "  </style>\n",
       "\n",
       "    <script>\n",
       "      const buttonEl =\n",
       "        document.querySelector('#df-d122c4da-1d71-45d8-b9d4-c3db52e548b9 button.colab-df-convert');\n",
       "      buttonEl.style.display =\n",
       "        google.colab.kernel.accessAllowed ? 'block' : 'none';\n",
       "\n",
       "      async function convertToInteractive(key) {\n",
       "        const element = document.querySelector('#df-d122c4da-1d71-45d8-b9d4-c3db52e548b9');\n",
       "        const dataTable =\n",
       "          await google.colab.kernel.invokeFunction('convertToInteractive',\n",
       "                                                    [key], {});\n",
       "        if (!dataTable) return;\n",
       "\n",
       "        const docLinkHtml = 'Like what you see? Visit the ' +\n",
       "          '<a target=\"_blank\" href=https://colab.research.google.com/notebooks/data_table.ipynb>data table notebook</a>'\n",
       "          + ' to learn more about interactive tables.';\n",
       "        element.innerHTML = '';\n",
       "        dataTable['output_type'] = 'display_data';\n",
       "        await google.colab.output.renderOutput(dataTable, element);\n",
       "        const docLink = document.createElement('div');\n",
       "        docLink.innerHTML = docLinkHtml;\n",
       "        element.appendChild(docLink);\n",
       "      }\n",
       "    </script>\n",
       "  </div>\n",
       "\n",
       "\n",
       "<div id=\"df-dc8849d2-d046-462e-b572-8462084cd031\">\n",
       "  <button class=\"colab-df-quickchart\" onclick=\"quickchart('df-dc8849d2-d046-462e-b572-8462084cd031')\"\n",
       "            title=\"Suggest charts\"\n",
       "            style=\"display:none;\">\n",
       "\n",
       "<svg xmlns=\"http://www.w3.org/2000/svg\" height=\"24px\"viewBox=\"0 0 24 24\"\n",
       "     width=\"24px\">\n",
       "    <g>\n",
       "        <path d=\"M19 3H5c-1.1 0-2 .9-2 2v14c0 1.1.9 2 2 2h14c1.1 0 2-.9 2-2V5c0-1.1-.9-2-2-2zM9 17H7v-7h2v7zm4 0h-2V7h2v10zm4 0h-2v-4h2v4z\"/>\n",
       "    </g>\n",
       "</svg>\n",
       "  </button>\n",
       "\n",
       "<style>\n",
       "  .colab-df-quickchart {\n",
       "      --bg-color: #E8F0FE;\n",
       "      --fill-color: #1967D2;\n",
       "      --hover-bg-color: #E2EBFA;\n",
       "      --hover-fill-color: #174EA6;\n",
       "      --disabled-fill-color: #AAA;\n",
       "      --disabled-bg-color: #DDD;\n",
       "  }\n",
       "\n",
       "  [theme=dark] .colab-df-quickchart {\n",
       "      --bg-color: #3B4455;\n",
       "      --fill-color: #D2E3FC;\n",
       "      --hover-bg-color: #434B5C;\n",
       "      --hover-fill-color: #FFFFFF;\n",
       "      --disabled-bg-color: #3B4455;\n",
       "      --disabled-fill-color: #666;\n",
       "  }\n",
       "\n",
       "  .colab-df-quickchart {\n",
       "    background-color: var(--bg-color);\n",
       "    border: none;\n",
       "    border-radius: 50%;\n",
       "    cursor: pointer;\n",
       "    display: none;\n",
       "    fill: var(--fill-color);\n",
       "    height: 32px;\n",
       "    padding: 0;\n",
       "    width: 32px;\n",
       "  }\n",
       "\n",
       "  .colab-df-quickchart:hover {\n",
       "    background-color: var(--hover-bg-color);\n",
       "    box-shadow: 0 1px 2px rgba(60, 64, 67, 0.3), 0 1px 3px 1px rgba(60, 64, 67, 0.15);\n",
       "    fill: var(--button-hover-fill-color);\n",
       "  }\n",
       "\n",
       "  .colab-df-quickchart-complete:disabled,\n",
       "  .colab-df-quickchart-complete:disabled:hover {\n",
       "    background-color: var(--disabled-bg-color);\n",
       "    fill: var(--disabled-fill-color);\n",
       "    box-shadow: none;\n",
       "  }\n",
       "\n",
       "  .colab-df-spinner {\n",
       "    border: 2px solid var(--fill-color);\n",
       "    border-color: transparent;\n",
       "    border-bottom-color: var(--fill-color);\n",
       "    animation:\n",
       "      spin 1s steps(1) infinite;\n",
       "  }\n",
       "\n",
       "  @keyframes spin {\n",
       "    0% {\n",
       "      border-color: transparent;\n",
       "      border-bottom-color: var(--fill-color);\n",
       "      border-left-color: var(--fill-color);\n",
       "    }\n",
       "    20% {\n",
       "      border-color: transparent;\n",
       "      border-left-color: var(--fill-color);\n",
       "      border-top-color: var(--fill-color);\n",
       "    }\n",
       "    30% {\n",
       "      border-color: transparent;\n",
       "      border-left-color: var(--fill-color);\n",
       "      border-top-color: var(--fill-color);\n",
       "      border-right-color: var(--fill-color);\n",
       "    }\n",
       "    40% {\n",
       "      border-color: transparent;\n",
       "      border-right-color: var(--fill-color);\n",
       "      border-top-color: var(--fill-color);\n",
       "    }\n",
       "    60% {\n",
       "      border-color: transparent;\n",
       "      border-right-color: var(--fill-color);\n",
       "    }\n",
       "    80% {\n",
       "      border-color: transparent;\n",
       "      border-right-color: var(--fill-color);\n",
       "      border-bottom-color: var(--fill-color);\n",
       "    }\n",
       "    90% {\n",
       "      border-color: transparent;\n",
       "      border-bottom-color: var(--fill-color);\n",
       "    }\n",
       "  }\n",
       "</style>\n",
       "\n",
       "  <script>\n",
       "    async function quickchart(key) {\n",
       "      const quickchartButtonEl =\n",
       "        document.querySelector('#' + key + ' button');\n",
       "      quickchartButtonEl.disabled = true;  // To prevent multiple clicks.\n",
       "      quickchartButtonEl.classList.add('colab-df-spinner');\n",
       "      try {\n",
       "        const charts = await google.colab.kernel.invokeFunction(\n",
       "            'suggestCharts', [key], {});\n",
       "      } catch (error) {\n",
       "        console.error('Error during call to suggestCharts:', error);\n",
       "      }\n",
       "      quickchartButtonEl.classList.remove('colab-df-spinner');\n",
       "      quickchartButtonEl.classList.add('colab-df-quickchart-complete');\n",
       "    }\n",
       "    (() => {\n",
       "      let quickchartButtonEl =\n",
       "        document.querySelector('#df-dc8849d2-d046-462e-b572-8462084cd031 button');\n",
       "      quickchartButtonEl.style.display =\n",
       "        google.colab.kernel.accessAllowed ? 'block' : 'none';\n",
       "    })();\n",
       "  </script>\n",
       "</div>\n",
       "\n",
       "    </div>\n",
       "  </div>\n"
      ],
      "text/plain": [
       "                                          user_input  \\\n",
       "0  Below is an instruction that describes a task....   \n",
       "1  Below is an instruction that describes a task....   \n",
       "2  Below is an instruction that describes a task....   \n",
       "3  Below is an instruction that describes a task....   \n",
       "4  Below is an instruction that describes a task....   \n",
       "\n",
       "                                responses_and_scores  \n",
       "0  [{'response': '1.Eat a balanced diet and make ...  \n",
       "1  [{'response': 'The three primary colors are re...  \n",
       "2  [{'response': 'An atom is made up of a nucleus...  \n",
       "3  [{'response': 'There are a number of ways to r...  \n",
       "4  [{'response': 'I had to make a difficult decis...  "
      ]
     },
     "execution_count": 6,
     "metadata": {},
     "output_type": "execute_result"
    }
   ],
   "source": [
    "comparison_data.head()"
   ]
  },
  {
   "cell_type": "code",
   "execution_count": null,
   "id": "O7hu2gNHGjXT",
   "metadata": {},
   "outputs": [
    {
     "name": "stdout",
     "output_type": "stream",
     "text": [
      "Below is an instruction that describes a task. Write a response that appropriately completes the request.\n",
      "\n",
      "### Instruction:\n",
      "Give three tips for staying healthy.\n"
     ]
    }
   ],
   "source": [
    "print(comparison_data.iloc[0]['user_input'])"
   ]
  },
  {
   "cell_type": "code",
   "execution_count": null,
   "id": "GU1NsmaN_OI1",
   "metadata": {},
   "outputs": [
    {
     "data": {
      "text/plain": [
       "[{'response': '1.Eat a balanced diet and make sure to include plenty of fruits and vegetables. \\n2. Exercise regularly to keep your body active and strong. \\n3. Get enough sleep and maintain a consistent sleep schedule.',\n",
       "  'score': 9.0,\n",
       "  'source': 'text-davinci-003'},\n",
       " {'response': '1. Eat a balanced and nutritious diet: Make sure your meals are inclusive of a variety of fruits and vegetables, lean protein, whole grains, and healthy fats. This helps to provide your body with the essential nutrients to function at its best and can help prevent chronic diseases.\\n\\n2. Engage in regular physical activity: Exercise is crucial for maintaining strong bones, muscles, and cardiovascular health. Aim for at least 150 minutes of moderate aerobic exercise or 75 minutes of vigorous exercise each week.\\n\\n3. Get enough sleep: Getting enough quality sleep is crucial for physical and mental well-being. It helps to regulate mood, improve cognitive function, and supports healthy growth and immune function. Aim for 7-9 hours of sleep each night.',\n",
       "  'score': 9.0,\n",
       "  'source': 'gpt4'},\n",
       " {'response': 'Eat healthy, exercise, and sleep.',\n",
       "  'score': 8.0,\n",
       "  'source': 'icm-1.3b'}]"
      ]
     },
     "execution_count": 8,
     "metadata": {},
     "output_type": "execute_result"
    }
   ],
   "source": [
    "comparison_data.iloc[0]['responses_and_scores']"
   ]
  },
  {
   "cell_type": "code",
   "execution_count": null,
   "id": "b209ecc8",
   "metadata": {},
   "outputs": [],
   "source": [
    "def get_score_tuples(dictionary):\n",
    "    responses = dictionary['responses_and_scores']\n",
    "    tuples = []\n",
    "\n",
    "    for i in range(len(responses)):\n",
    "        for j in range(i + 1, len(responses)):\n",
    "            response_i = responses[i]\n",
    "            response_j = responses[j]\n",
    "            score_i = response_i['score']\n",
    "            score_j = response_j['score']\n",
    "\n",
    "            if (score_i - score_j) > 0:\n",
    "                score_difference = score_i - score_j\n",
    "                tuples.append(((response_i['response'], score_i), (response_j['response'], score_j), score_difference))\n",
    "\n",
    "    return tuples\n"
   ]
  },
  {
   "cell_type": "code",
   "execution_count": null,
   "id": "17bbcd28",
   "metadata": {},
   "outputs": [
    {
     "name": "stderr",
     "output_type": "stream",
     "text": [
      "100%|██████████| 52001/52001 [00:02<00:00, 18986.86it/s]\n"
     ]
    }
   ],
   "source": [
    "new_examples = []\n",
    "for i, row in tqdm(comparison_data.iterrows(), total=comparison_data.shape[0]):\n",
    "    for pair in get_score_tuples(row):\n",
    "        new_examples.append({\n",
    "            'instruction': row['user_input'].split('### Instruction:\\n')[-1].replace('### Input:\\n', ''),\n",
    "            'text_j': pair[0][0],\n",
    "            'text_k': pair[1][0],\n",
    "            'score_diff': pair[2]\n",
    "        })"
   ]
  },
  {
   "cell_type": "code",
   "execution_count": null,
   "id": "2454e7f1",
   "metadata": {},
   "outputs": [
    {
     "data": {
      "text/plain": [
       "95147"
      ]
     },
     "execution_count": 11,
     "metadata": {},
     "output_type": "execute_result"
    }
   ],
   "source": [
    "len(new_examples)"
   ]
  },
  {
   "cell_type": "code",
   "execution_count": null,
   "id": "60393bf0",
   "metadata": {},
   "outputs": [
    {
     "data": {
      "text/plain": [
       "[{'instruction': 'Summarize the essay \"The Value of Games and Sport\"',\n",
       "  'text_j': 'The essay \"The Value of Games and Sport\" explores the benefits that come from engaging in physical activities such as sports and games. It argues that these activities have the potential to foster physical health, cognitive development, and social skills. Moreover, engaging in these activities can be a great source of fun, relaxation, and proper exercise. It is concluded that playing games and participating in sports has the ability to positively influence the mental and physical well-being of individuals.',\n",
       "  'text_k': 'I will summarize the essay \"The Value of Games and Sport\"',\n",
       "  'score_diff': 5.0}]"
      ]
     },
     "execution_count": 12,
     "metadata": {},
     "output_type": "execute_result"
    }
   ],
   "source": [
    "sample(new_examples, 1)"
   ]
  },
  {
   "cell_type": "code",
   "execution_count": null,
   "id": "a5d3bc2b",
   "metadata": {},
   "outputs": [
    {
     "data": {
      "text/plain": [
       "DatasetDict({\n",
       "    train: Dataset({\n",
       "        features: ['instruction', 'text_j', 'text_k', 'score_diff'],\n",
       "        num_rows: 76117\n",
       "    })\n",
       "    test: Dataset({\n",
       "        features: ['instruction', 'text_j', 'text_k', 'score_diff'],\n",
       "        num_rows: 19030\n",
       "    })\n",
       "})"
      ]
     },
     "execution_count": 13,
     "metadata": {},
     "output_type": "execute_result"
    }
   ],
   "source": [
    "from datasets import Dataset\n",
    "\n",
    "pairs_dataset = Dataset.from_list(new_examples)\n",
    "pairs_dataset = pairs_dataset.train_test_split(train_size=.8, seed=42)\n",
    "pairs_dataset"
   ]
  },
  {
   "cell_type": "code",
   "execution_count": null,
   "id": "6a1c4cca",
   "metadata": {},
   "outputs": [
    {
     "data": {
      "text/plain": [
       "{'instruction': 'How did the Battle of Gettysburg change the course of the American Civil War?',\n",
       " 'text_j': 'The Battle of Gettysburg, fought from July 1 to July 3 1863, is considered one of the most important and decisive battles in the American Civil War as it marked a major turning point in the conflict. Before the battle, the Confederate army, commanded by General Robert E. Lee, had been enjoying a string of victories and launched an invasion of the Northern states, hoping that a major victory on Northern soil would demoralize the Union and force them to seek peace. However, the Union army, led by General George G. Meade, was able to successfully repel the Confederate attack in a bloody and costly battle, with an estimated 23,000 Union and 28,000 Confederate casualties.\\n\\nThe Union victory at Gettysburg, along with the capture of the Confederate stronghold of Vicksburg on July 4 1863, changed the momentum of the war in favor of the Union. The Confederate army was forced to retreat, severely weakened, and was unable to launch another major offensive operation. The battle also boosted the morale of the Union army, and President Abraham Lincoln used the victory to reframe the war as a struggle not just for the preservation of the Union, but as a fight against slavery with the issuance of the Gettysburg Address in November of that year.\\n\\nFrom a strategic standpoint, it proved to be a lost opportunity for the Confederacy, as they never again had the chance to launch a major invasion of the North. The battle also depleted much of their manpower, and losses of that scale could not be recovered. It meant that, from that point on, they were largely on the defensive, fighting to protect their own territory.\\n\\nIn summary, the Battle of Gettysburg represented a major turning point in the course of the American Civil War. It stopped the Confederate advance in the North, depleted their resources, and boosted Union morale, encouraging them to continue the fight.',\n",
       " 'text_k': 'The battle of Gettysburg changed the course of the war.',\n",
       " 'score_diff': 6.0}"
      ]
     },
     "execution_count": 14,
     "metadata": {},
     "output_type": "execute_result"
    }
   ],
   "source": [
    "pairs_dataset['test'][0]"
   ]
  },
  {
   "cell_type": "code",
   "execution_count": null,
   "id": "167bffe2",
   "metadata": {},
   "outputs": [
    {
     "name": "stderr",
     "output_type": "stream",
     "text": [
      "Some weights of RobertaForSequenceClassification were not initialized from the model checkpoint at roberta-base and are newly initialized: ['classifier.out_proj.weight', 'classifier.dense.weight', 'classifier.out_proj.bias', 'classifier.dense.bias']\n",
      "You should probably TRAIN this model on a down-stream task to be able to use it for predictions and inference.\n"
     ]
    }
   ],
   "source": [
    "# Using a cross-encoder to encode question and answer together to produce a score\n",
    "#  This is an expected use-case for a cross-encoder\n",
    "\n",
    "model_name = 'roberta-base'\n",
    "tokenizer = AutoTokenizer.from_pretrained(model_name)\n",
    "# tokenizer.add_special_tokens({'pad_token': '[PAD]'})\n",
    "\n",
    "config = AutoConfig.from_pretrained(model_name)\n",
    "\n",
    "model = AutoModelForSequenceClassification.from_pretrained(\n",
    "    model_name, num_labels=1,\n",
    ")"
   ]
  },
  {
   "cell_type": "code",
   "execution_count": null,
   "id": "578de7a9",
   "metadata": {},
   "outputs": [
    {
     "data": {
      "application/vnd.jupyter.widget-view+json": {
       "model_id": "6e189679616f4624a7be424558a39268",
       "version_major": 2,
       "version_minor": 0
      },
      "text/plain": [
       "Map:   0%|          | 0/76117 [00:00<?, ? examples/s]"
      ]
     },
     "metadata": {},
     "output_type": "display_data"
    },
    {
     "data": {
      "application/vnd.jupyter.widget-view+json": {
       "model_id": "5b9b260c5fb042be8036b40a68e83cb0",
       "version_major": 2,
       "version_minor": 0
      },
      "text/plain": [
       "Map:   0%|          | 0/19030 [00:00<?, ? examples/s]"
      ]
     },
     "metadata": {},
     "output_type": "display_data"
    }
   ],
   "source": [
    "# Turn the dataset into pairs of input + output, where text_j is the preferred question + answer and text_k is the other.\n",
    "# Then tokenize the dataset.\n",
    "def preprocess_function(example):\n",
    "    new_examples = {\n",
    "        \"input_ids_j\": [],\n",
    "        \"attention_mask_j\": [],\n",
    "        \"input_ids_k\": [],\n",
    "        \"attention_mask_k\": [],\n",
    "        \"score_diff\": []\n",
    "    }\n",
    "\n",
    "    new_examples['score_diff'].append(example['score_diff'])\n",
    "    question = example[\"instruction\"]\n",
    "    tokenized_j = tokenizer(question, example['text_j'], truncation=True)\n",
    "    tokenized_k = tokenizer(question, example['text_k'], truncation=True)\n",
    "\n",
    "    new_examples[\"input_ids_j\"].append(tokenized_j[\"input_ids\"])\n",
    "    new_examples[\"attention_mask_j\"].append(tokenized_j[\"attention_mask\"])\n",
    "    new_examples[\"input_ids_k\"].append(tokenized_k[\"input_ids\"])\n",
    "    new_examples[\"attention_mask_k\"].append(tokenized_k[\"attention_mask\"])\n",
    "\n",
    "    return new_examples\n",
    "\n",
    "# preprocess the dataset and filter out QAs that are longer than max_length\n",
    "pairs_dataset = pairs_dataset.map(preprocess_function, batched=False)\n"
   ]
  },
  {
   "cell_type": "code",
   "execution_count": null,
   "id": "d7d13dd6",
   "metadata": {},
   "outputs": [],
   "source": [
    "pairs_dataset.set_format('pt')"
   ]
  },
  {
   "cell_type": "code",
   "execution_count": null,
   "id": "69dcd56a",
   "metadata": {},
   "outputs": [
    {
     "data": {
      "text/plain": [
       "DatasetDict({\n",
       "    train: Dataset({\n",
       "        features: ['instruction', 'text_j', 'text_k', 'score_diff', 'input_ids_j', 'attention_mask_j', 'input_ids_k', 'attention_mask_k'],\n",
       "        num_rows: 76117\n",
       "    })\n",
       "    test: Dataset({\n",
       "        features: ['instruction', 'text_j', 'text_k', 'score_diff', 'input_ids_j', 'attention_mask_j', 'input_ids_k', 'attention_mask_k'],\n",
       "        num_rows: 19030\n",
       "    })\n",
       "})"
      ]
     },
     "execution_count": 18,
     "metadata": {},
     "output_type": "execute_result"
    }
   ],
   "source": [
    "pairs_dataset"
   ]
  },
  {
   "cell_type": "code",
   "execution_count": null,
   "id": "949550ae",
   "metadata": {},
   "outputs": [
    {
     "data": {
      "text/plain": [
       "{'instruction': 'Write an article about climate change.',\n",
       " 'text_j': \"Climate change is one of the most pressing and urgent issues of the modern world. It is an ever-evolving environmental threat that threatens the planet's future, especially with regards to the natural environment that we as humans depend upon. Over the decades, the scientific community has recorded a consistent and steady rise in global temperatures that can only be attributed to the increasing concentrations of Greenhouse gases in the atmosphere due to our continued burning of fossil fuels. This has sparked a chain reaction of catastrophic events that is wreaking havoc on the planet, such as extreme weather events, melting of polar ice caps and the ocean rising to unprecedented levels, threatening the future of entire cities and coastal areas.\\n\\nThe urgency of this global crisis is only compounded by the fact that climate change is happening much faster than predicted. This means that in order to maintain a livable and functioning planet, drastic measures need to be taken immediately on a global scale. Governments, industry and citizens alike will need to significantly reduce emissions and transition to renewable energy sources in order to avoid a future we cannot imagine. \\n\\nWith the technology and knowledge available to us, the task of mitigating and adapting to climate change is not insurmountable. But in order to save our planet, collective action is needed - and fast.\",\n",
       " 'text_k': \"I can't write an article about climate change.\",\n",
       " 'score_diff': tensor([5.]),\n",
       " 'input_ids_j': tensor([[    0, 45714,    41,  1566,    59,  2147,   464,     4,     2,     2,\n",
       "          40466,   464,    16,    65,     9,     5,   144, 10275,     8,  9047,\n",
       "            743,     9,     5,  2297,   232,     4,    85,    16,    41,   655,\n",
       "             12,  3623, 21241,  3039,  1856,    14, 13546,     5,  5518,    18,\n",
       "            499,     6,   941,    19, 11246,     7,     5,  1632,  1737,    14,\n",
       "             52,    25,  5868,  6723,  2115,     4,  2306,     5,  1724,     6,\n",
       "              5,  6441,   435,    34,  2673,    10,  4292,     8,  5204,  1430,\n",
       "             11,   720,  3971,    14,    64,   129,    28,  9702,     7,     5,\n",
       "           2284, 26069,     9,  1628,  3138, 20038,    11,     5,  5466,   528,\n",
       "              7,    84,  1143,  6574,     9, 11422, 12174,     4,   152,    34,\n",
       "           6246,    10,  3206,  4289,     9, 15532,  1061,    14,    16, 21679,\n",
       "           7520, 19705,    15,     5,  5518,     6,   215,    25,  5004,  1650,\n",
       "           1061,     6, 23187,     9, 13744,  2480,  9686,     8,     5,  6444,\n",
       "           2227,     7,  7071,  1389,     6,  5608,     5,   499,     9,  1445,\n",
       "           1947,     8,  8095,   911,     4, 50118, 50118,   133, 14195,     9,\n",
       "             42,   720,  1486,    16,   129, 24094,    30,     5,   754,    14,\n",
       "           2147,   464,    16,  2909,   203,  3845,    87,  6126,     4,   152,\n",
       "            839,    14,    11,   645,     7,  3014,    10, 32126,   868,     8,\n",
       "          13838,  5518,     6, 19167,  1797,   240,     7,    28,   551,  1320,\n",
       "             15,    10,   720,  3189,     4, 26581,     6,   539,     8,  2286,\n",
       "           9829,    40,   240,     7,  3625,  1888,  5035,     8,  3868,     7,\n",
       "           8741,  1007,  1715,    11,   645,     7,  1877,    10,   499,    52,\n",
       "           1395,  4744,     4,  1437, 50118, 50118,  3908,     5,   806,     8,\n",
       "           2655,   577,     7,   201,     6,     5,  3685,     9, 31904,     8,\n",
       "          26493,     7,  2147,   464,    16,    45, 36686, 17336,   868,     4,\n",
       "            125,    11,   645,     7,  1871,    84,  5518,     6,  6981,   814,\n",
       "             16,   956,   111,     8,  1769,     4,     2]]),\n",
       " 'attention_mask_j': tensor([[1, 1, 1, 1, 1, 1, 1, 1, 1, 1, 1, 1, 1, 1, 1, 1, 1, 1, 1, 1, 1, 1, 1, 1,\n",
       "          1, 1, 1, 1, 1, 1, 1, 1, 1, 1, 1, 1, 1, 1, 1, 1, 1, 1, 1, 1, 1, 1, 1, 1,\n",
       "          1, 1, 1, 1, 1, 1, 1, 1, 1, 1, 1, 1, 1, 1, 1, 1, 1, 1, 1, 1, 1, 1, 1, 1,\n",
       "          1, 1, 1, 1, 1, 1, 1, 1, 1, 1, 1, 1, 1, 1, 1, 1, 1, 1, 1, 1, 1, 1, 1, 1,\n",
       "          1, 1, 1, 1, 1, 1, 1, 1, 1, 1, 1, 1, 1, 1, 1, 1, 1, 1, 1, 1, 1, 1, 1, 1,\n",
       "          1, 1, 1, 1, 1, 1, 1, 1, 1, 1, 1, 1, 1, 1, 1, 1, 1, 1, 1, 1, 1, 1, 1, 1,\n",
       "          1, 1, 1, 1, 1, 1, 1, 1, 1, 1, 1, 1, 1, 1, 1, 1, 1, 1, 1, 1, 1, 1, 1, 1,\n",
       "          1, 1, 1, 1, 1, 1, 1, 1, 1, 1, 1, 1, 1, 1, 1, 1, 1, 1, 1, 1, 1, 1, 1, 1,\n",
       "          1, 1, 1, 1, 1, 1, 1, 1, 1, 1, 1, 1, 1, 1, 1, 1, 1, 1, 1, 1, 1, 1, 1, 1,\n",
       "          1, 1, 1, 1, 1, 1, 1, 1, 1, 1, 1, 1, 1, 1, 1, 1, 1, 1, 1, 1, 1, 1, 1, 1,\n",
       "          1, 1, 1, 1, 1, 1, 1, 1, 1, 1, 1, 1, 1, 1, 1, 1, 1, 1, 1, 1, 1, 1, 1, 1,\n",
       "          1, 1, 1]]),\n",
       " 'input_ids_k': tensor([[    0, 45714,    41,  1566,    59,  2147,   464,     4,     2,     2,\n",
       "            100,    64,    75,  3116,    41,  1566,    59,  2147,   464,     4,\n",
       "              2]]),\n",
       " 'attention_mask_k': tensor([[1, 1, 1, 1, 1, 1, 1, 1, 1, 1, 1, 1, 1, 1, 1, 1, 1, 1, 1, 1, 1]])}"
      ]
     },
     "execution_count": 19,
     "metadata": {},
     "output_type": "execute_result"
    }
   ],
   "source": [
    "pairs_dataset['train'][5]"
   ]
  },
  {
   "cell_type": "code",
   "execution_count": null,
   "id": "257e93c0",
   "metadata": {},
   "outputs": [],
   "source": [
    "# We need to define a special data collator that batches the data in our j vs k format.\n",
    "import evaluate\n",
    "\n",
    "@dataclass\n",
    "class RewardDataCollatorWithPadding:\n",
    "    tokenizer: PreTrainedTokenizerBase\n",
    "    padding: Union[bool, str, PaddingStrategy] = True\n",
    "    max_length: Optional[int] = None\n",
    "    pad_to_multiple_of: Optional[int] = None\n",
    "    return_tensors: str = \"pt\"\n",
    "\n",
    "    def __call__(self, features: List[Dict[str, Any]]) -> Dict[str, Any]:\n",
    "        features_j = []\n",
    "        features_k = []\n",
    "        for feature in features:\n",
    "            features_j.append(\n",
    "                {\n",
    "                    \"input_ids\": feature[\"input_ids_j\"].squeeze(),\n",
    "                    \"attention_mask\": feature[\"attention_mask_j\"].squeeze(),\n",
    "                }\n",
    "            )\n",
    "            features_k.append(\n",
    "                {\n",
    "                    \"input_ids\": feature[\"input_ids_k\"].squeeze(),\n",
    "                    \"attention_mask\": feature[\"attention_mask_k\"].squeeze(),\n",
    "                }\n",
    "            )\n",
    "        batch_j = self.tokenizer.pad(\n",
    "            features_j,\n",
    "            padding=self.padding,\n",
    "            max_length=self.max_length,\n",
    "            pad_to_multiple_of=self.pad_to_multiple_of,\n",
    "            return_tensors=self.return_tensors,\n",
    "        )\n",
    "        batch_k = self.tokenizer.pad(\n",
    "            features_k,\n",
    "            padding=self.padding,\n",
    "            max_length=self.max_length,\n",
    "            pad_to_multiple_of=self.pad_to_multiple_of,\n",
    "            return_tensors=self.return_tensors,\n",
    "        )\n",
    "        batch = {\n",
    "            \"input_ids_j\": batch_j[\"input_ids\"],\n",
    "            \"attention_mask_j\": batch_j[\"attention_mask\"],\n",
    "            \"input_ids_k\": batch_k[\"input_ids\"],\n",
    "            \"attention_mask_k\": batch_k[\"attention_mask\"],\n",
    "            \"score_diff\": [feature['score_diff'] for feature in features],\n",
    "            \"return_loss\": True,\n",
    "        }\n",
    "        return batch\n",
    "\n",
    "# Define the metric that we'll use for validation.\n",
    "accuracy = evaluate.load(\"accuracy\")\n"
   ]
  },
  {
   "cell_type": "code",
   "execution_count": null,
   "id": "7eBaoYk9cxhL",
   "metadata": {},
   "outputs": [
    {
     "data": {
      "text/html": [
       "<div style=\"max-width:800px; border: 1px solid var(--colab-border-color);\"><style>\n",
       "      pre.function-repr-contents {\n",
       "        overflow-x: auto;\n",
       "        padding: 8px 12px;\n",
       "        max-height: 500px;\n",
       "      }\n",
       "\n",
       "      pre.function-repr-contents.function-repr-contents-collapsed {\n",
       "        cursor: pointer;\n",
       "        max-height: 100px;\n",
       "      }\n",
       "    </style>\n",
       "    <pre style=\"white-space: initial; background:\n",
       "         var(--colab-secondary-surface-color); padding: 8px 12px;\n",
       "         border-bottom: 1px solid var(--colab-border-color);\"><b>RewardDataCollatorWithPadding</b><br/>def __call__(features: List[Dict[str, Any]]) -&gt; Dict[str, Any]</pre><pre class=\"function-repr-contents function-repr-contents-collapsed\" style=\"\"><a class=\"filepath\" style=\"display:none\" href=\"#\"></a>RewardDataCollatorWithPadding(tokenizer: transformers.tokenization_utils_base.PreTrainedTokenizerBase, padding: Union[bool, str, transformers.utils.generic.PaddingStrategy] = True, max_length: Optional[int] = None, pad_to_multiple_of: Optional[int] = None, return_tensors: str = &#x27;pt&#x27;)</pre></div>"
      ],
      "text/plain": [
       "__main__.RewardDataCollatorWithPadding"
      ]
     },
     "execution_count": 21,
     "metadata": {},
     "output_type": "execute_result"
    }
   ],
   "source": [
    "RewardDataCollatorWithPadding"
   ]
  },
  {
   "cell_type": "code",
   "execution_count": null,
   "id": "5effdbd9",
   "metadata": {},
   "outputs": [],
   "source": [
    "def compute_metrics(eval_pred):\n",
    "    predictions, _ = eval_pred\n",
    "    # Here, predictions is rewards_j and rewards_k.\n",
    "    # We want to see how much of the time rewards_j > rewards_k.\n",
    "    predictions = np.argmax(predictions, axis=0)\n",
    "    labels = np.zeros(predictions.shape)\n",
    "    return accuracy.compute(predictions=predictions, references=labels)\n",
    "\n",
    "# We are subclassing the Hugging Face Trainer class to customize the loss computation\n",
    "class RewardTrainer(Trainer):\n",
    "    # Overriding the compute_loss function to define how to compute the loss for our specific task\n",
    "    def compute_loss(self, model, inputs, return_outputs=False):\n",
    "        # Calculate the reward for a preferred response y_j using the model. The input IDs and attention masks for y_j are provided in inputs.\n",
    "        rewards_j = model(input_ids=inputs[\"input_ids_j\"], attention_mask=inputs[\"attention_mask_j\"])[0]\n",
    "\n",
    "        # Similarly, calculate the reward for a lesser preferred response y_k.\n",
    "        rewards_k = model(input_ids=inputs[\"input_ids_k\"], attention_mask=inputs[\"attention_mask_k\"])[0]\n",
    "\n",
    "        # Calculate the loss using the negative log-likelihood function.\n",
    "        # We take the difference of rewards (rewards_j - rewards_k) and subtract from it the score difference provided in the inputs.\n",
    "        # Then, we apply the sigmoid function (via torch.nn.functional.logsigmoid) and negate the result.\n",
    "        # The mean loss is calculated across all examples in the batch.\n",
    "\n",
    "        loss = -nn.functional.logsigmoid((rewards_j - rewards_k - torch.tensor(inputs['score_diff'], device=rewards_j.device))).mean()\n",
    "\n",
    "        # If we also want to return the outputs (rewards for y_j and y_k) along with the loss, we do so.\n",
    "        if return_outputs:\n",
    "            return loss, {\"rewards_j\": rewards_j, \"rewards_k\": rewards_k}\n",
    "\n",
    "        # Otherwise, we simply return the computed loss.\n",
    "        return loss\n"
   ]
  },
  {
   "cell_type": "code",
   "execution_count": null,
   "id": "e99acd95",
   "metadata": {},
   "outputs": [
    {
     "name": "stderr",
     "output_type": "stream",
     "text": [
      "\u001b[34m\u001b[1mwandb\u001b[0m: Currently logged in as: \u001b[33mprofoz\u001b[0m. Use \u001b[1m`wandb login --relogin`\u001b[0m to force relogin\n"
     ]
    },
    {
     "data": {
      "text/html": [
       "Tracking run with wandb version 0.16.3"
      ],
      "text/plain": [
       "<IPython.core.display.HTML object>"
      ]
     },
     "metadata": {},
     "output_type": "display_data"
    },
    {
     "data": {
      "text/html": [
       "Run data is saved locally in <code>/content/wandb/run-20240219_042008-hrfo3ryy</code>"
      ],
      "text/plain": [
       "<IPython.core.display.HTML object>"
      ]
     },
     "metadata": {},
     "output_type": "display_data"
    },
    {
     "data": {
      "text/html": [
       "Syncing run <strong><a href='https://wandb.ai/profoz/sawyer-reward/runs/hrfo3ryy' target=\"_blank\">vivid-laughter-2</a></strong> to <a href='https://wandb.ai/profoz/sawyer-reward' target=\"_blank\">Weights & Biases</a> (<a href='https://wandb.me/run' target=\"_blank\">docs</a>)<br/>"
      ],
      "text/plain": [
       "<IPython.core.display.HTML object>"
      ]
     },
     "metadata": {},
     "output_type": "display_data"
    },
    {
     "data": {
      "text/html": [
       " View project at <a href='https://wandb.ai/profoz/sawyer-reward' target=\"_blank\">https://wandb.ai/profoz/sawyer-reward</a>"
      ],
      "text/plain": [
       "<IPython.core.display.HTML object>"
      ]
     },
     "metadata": {},
     "output_type": "display_data"
    },
    {
     "data": {
      "text/html": [
       " View run at <a href='https://wandb.ai/profoz/sawyer-reward/runs/hrfo3ryy' target=\"_blank\">https://wandb.ai/profoz/sawyer-reward/runs/hrfo3ryy</a>"
      ],
      "text/plain": [
       "<IPython.core.display.HTML object>"
      ]
     },
     "metadata": {},
     "output_type": "display_data"
    },
    {
     "data": {
      "text/html": [
       "<button onClick=\"this.nextSibling.style.display='block';this.style.display='none';\">Display W&B run</button><iframe src='https://wandb.ai/profoz/sawyer-reward/runs/hrfo3ryy?jupyter=true' style='border:none;width:100%;height:420px;display:none;'></iframe>"
      ],
      "text/plain": [
       "<wandb.sdk.wandb_run.Run at 0x7f7dce862860>"
      ]
     },
     "execution_count": 23,
     "metadata": {},
     "output_type": "execute_result"
    }
   ],
   "source": [
    "import wandb\n",
    "# Set up Weights and Biases integration\n",
    "wandb.init(project=\"sawyer-reward\")"
   ]
  },
  {
   "cell_type": "code",
   "execution_count": null,
   "id": "8a373a07",
   "metadata": {},
   "outputs": [
    {
     "name": "stderr",
     "output_type": "stream",
     "text": [
      "You're using a RobertaTokenizerFast tokenizer. Please note that with a fast tokenizer, using the `__call__` method is faster than using a method to encode the text followed by a call to the `pad` method to get a padded encoding.\n"
     ]
    },
    {
     "data": {
      "text/html": [
       "\n",
       "    <div>\n",
       "      \n",
       "      <progress value='595' max='595' style='width:300px; height:20px; vertical-align: middle;'></progress>\n",
       "      [595/595 03:56]\n",
       "    </div>\n",
       "    "
      ],
      "text/plain": [
       "<IPython.core.display.HTML object>"
      ]
     },
     "metadata": {},
     "output_type": "display_data"
    },
    {
     "data": {
      "text/plain": [
       "{'eval_loss': 5.016231060028076,\n",
       " 'eval_accuracy': 0.3722017866526537,\n",
       " 'eval_runtime': 237.2827,\n",
       " 'eval_samples_per_second': 80.2,\n",
       " 'eval_steps_per_second': 2.508}"
      ]
     },
     "execution_count": 24,
     "metadata": {},
     "output_type": "execute_result"
    }
   ],
   "source": [
    "training_args = TrainingArguments(\n",
    "    output_dir='sawyer_rm',\n",
    "    per_device_train_batch_size=4,\n",
    "    gradient_accumulation_steps=8,\n",
    "    per_device_eval_batch_size=32,\n",
    "    num_train_epochs=3,\n",
    "\n",
    "    evaluation_strategy=\"epoch\",\n",
    "    save_strategy=\"epoch\",\n",
    "\n",
    "    remove_unused_columns=False,\n",
    "    label_names=[],\n",
    "    fp16=True if device.type == 'cuda' else False,\n",
    "    load_best_model_at_end=True,\n",
    "    logging_strategy=\"steps\",\n",
    "    logging_steps=10,\n",
    "    learning_rate=1e-6,\n",
    "    warmup_ratio=0.1,\n",
    "    push_to_hub=True,\n",
    "    hub_model_id=\"profoz/sawyer-reward\",\n",
    "    hub_strategy=\"every_save\",\n",
    ")\n",
    "\n",
    "# Train the model, woohoo.\n",
    "trainer = RewardTrainer(\n",
    "    model=model,\n",
    "    args=training_args,\n",
    "    train_dataset=pairs_dataset['train'],\n",
    "    eval_dataset=pairs_dataset['test'],\n",
    "    compute_metrics=compute_metrics,\n",
    "    data_collator=RewardDataCollatorWithPadding(\n",
    "        tokenizer=tokenizer),\n",
    ")\n",
    "\n",
    "trainer.evaluate()"
   ]
  },
  {
   "cell_type": "code",
   "execution_count": null,
   "id": "5dc657fb",
   "metadata": {},
   "outputs": [
    {
     "name": "stderr",
     "output_type": "stream",
     "text": [
      "Could not estimate the number of tokens of the input, floating-point operations will not be computed\n"
     ]
    },
    {
     "data": {
      "text/html": [
       "\n",
       "    <div>\n",
       "      \n",
       "      <progress value='7134' max='7134' style='width:300px; height:20px; vertical-align: middle;'></progress>\n",
       "      [7134/7134 2:08:46, Epoch 2/3]\n",
       "    </div>\n",
       "    <table border=\"1\" class=\"dataframe\">\n",
       "  <thead>\n",
       " <tr style=\"text-align: left;\">\n",
       "      <th>Epoch</th>\n",
       "      <th>Training Loss</th>\n",
       "      <th>Validation Loss</th>\n",
       "      <th>Accuracy</th>\n",
       "    </tr>\n",
       "  </thead>\n",
       "  <tbody>\n",
       "    <tr>\n",
       "      <td>0</td>\n",
       "      <td>0.670500</td>\n",
       "      <td>0.606224</td>\n",
       "      <td>0.964530</td>\n",
       "    </tr>\n",
       "    <tr>\n",
       "      <td>1</td>\n",
       "      <td>0.389200</td>\n",
       "      <td>0.475221</td>\n",
       "      <td>0.970100</td>\n",
       "    </tr>\n",
       "    <tr>\n",
       "      <td>2</td>\n",
       "      <td>0.418000</td>\n",
       "      <td>0.446066</td>\n",
       "      <td>0.971886</td>\n",
       "    </tr>\n",
       "  </tbody>\n",
       "</table><p>"
      ],
      "text/plain": [
       "<IPython.core.display.HTML object>"
      ]
     },
     "metadata": {},
     "output_type": "display_data"
    },
    {
     "data": {
      "text/html": [
       "\n",
       "    <div>\n",
       "      \n",
       "      <progress value='1190' max='595' style='width:300px; height:20px; vertical-align: middle;'></progress>\n",
       "      [595/595 46:35]\n",
       "    </div>\n",
       "    "
      ],
      "text/plain": [
       "<IPython.core.display.HTML object>"
      ]
     },
     "metadata": {},
     "output_type": "display_data"
    },
    {
     "data": {
      "text/plain": [
       "TrainOutput(global_step=7134, training_loss=1.0500664492598561, metrics={'train_runtime': 7728.2912, 'train_samples_per_second': 29.547, 'train_steps_per_second': 0.923, 'total_flos': 0.0, 'train_loss': 1.0500664492598561, 'epoch': 3.0})"
      ]
     },
     "execution_count": 25,
     "metadata": {},
     "output_type": "execute_result"
    }
   ],
   "source": [
    "trainer.train()"
   ]
  },
  {
   "cell_type": "code",
   "execution_count": null,
   "id": "a47b1d04",
   "metadata": {},
   "outputs": [],
   "source": [
    "# !huggingface-cli login\n",
    "# !huggingface-cli repo create sawyer-reward\n"
   ]
  },
  {
   "cell_type": "code",
   "execution_count": null,
   "id": "j8Rjnao_axOf",
   "metadata": {},
   "outputs": [
    {
     "data": {
      "application/vnd.jupyter.widget-view+json": {
       "model_id": "0d257f182f444ee595b3c0916441eeac",
       "version_major": 2,
       "version_minor": 0
      },
      "text/plain": [
       "model.safetensors:   0%|          | 0.00/499M [00:00<?, ?B/s]"
      ]
     },
     "metadata": {},
     "output_type": "display_data"
    },
    {
     "data": {
      "application/vnd.google.colaboratory.intrinsic+json": {
       "type": "string"
      },
      "text/plain": [
       "CommitInfo(commit_url='https://huggingface.co/profoz/sawyer-llama-reward/commit/c524e64592ed7f4b5975fc766d9c548999a6eca3', commit_message='Upload tokenizer', commit_description='', oid='c524e64592ed7f4b5975fc766d9c548999a6eca3', pr_url=None, pr_revision=None, pr_num=None)"
      ]
     },
     "execution_count": 27,
     "metadata": {},
     "output_type": "execute_result"
    }
   ],
   "source": [
    "username, repo_name = 'profoz', 'sawyer-llama-reward'\n",
    "\n",
    "# Push model and tokenizer to Hugging Face Hub\n",
    "trainer.model.push_to_hub(f\"{username}/{repo_name}\")\n",
    "tokenizer.push_to_hub(f\"{username}/{repo_name}\")"
   ]
  },
  {
   "cell_type": "code",
   "execution_count": null,
   "id": "8ilDArrswJ8D",
   "metadata": {},
   "outputs": [
    {
     "data": {
      "application/vnd.jupyter.widget-view+json": {
       "model_id": "cb18bbd640344aafa91a7931e40a14a1",
       "version_major": 2,
       "version_minor": 0
      },
      "text/plain": [
       "config.json:   0%|          | 0.00/764 [00:00<?, ?B/s]"
      ]
     },
     "metadata": {},
     "output_type": "display_data"
    },
    {
     "data": {
      "application/vnd.jupyter.widget-view+json": {
       "model_id": "95db8862d7b445608ac527bb8a1a781a",
       "version_major": 2,
       "version_minor": 0
      },
      "text/plain": [
       "model.safetensors:   0%|          | 0.00/499M [00:00<?, ?B/s]"
      ]
     },
     "metadata": {},
     "output_type": "display_data"
    },
    {
     "data": {
      "application/vnd.jupyter.widget-view+json": {
       "model_id": "e51af6ae0c3d4976b0b0578d3b5daebd",
       "version_major": 2,
       "version_minor": 0
      },
      "text/plain": [
       "tokenizer_config.json:   0%|          | 0.00/1.22k [00:00<?, ?B/s]"
      ]
     },
     "metadata": {},
     "output_type": "display_data"
    },
    {
     "data": {
      "application/vnd.jupyter.widget-view+json": {
       "model_id": "7ab97885a5f34ad99b37b63787dd8f87",
       "version_major": 2,
       "version_minor": 0
      },
      "text/plain": [
       "vocab.json:   0%|          | 0.00/798k [00:00<?, ?B/s]"
      ]
     },
     "metadata": {},
     "output_type": "display_data"
    },
    {
     "data": {
      "application/vnd.jupyter.widget-view+json": {
       "model_id": "7578bf4213f84bc586eb9ee7261f48fe",
       "version_major": 2,
       "version_minor": 0
      },
      "text/plain": [
       "merges.txt:   0%|          | 0.00/456k [00:00<?, ?B/s]"
      ]
     },
     "metadata": {},
     "output_type": "display_data"
    },
    {
     "data": {
      "application/vnd.jupyter.widget-view+json": {
       "model_id": "879cdfaa2c184be382236694dc7a8faf",
       "version_major": 2,
       "version_minor": 0
      },
      "text/plain": [
       "tokenizer.json:   0%|          | 0.00/2.11M [00:00<?, ?B/s]"
      ]
     },
     "metadata": {},
     "output_type": "display_data"
    },
    {
     "data": {
      "application/vnd.jupyter.widget-view+json": {
       "model_id": "e9077dc14701411792637f687235cf76",
       "version_major": 2,
       "version_minor": 0
      },
      "text/plain": [
       "special_tokens_map.json:   0%|          | 0.00/280 [00:00<?, ?B/s]"
      ]
     },
     "metadata": {},
     "output_type": "display_data"
    }
   ],
   "source": [
    "# Use a pipeline as a high-level helper\n",
    "from transformers import pipeline\n",
    "username, repo_name = 'profoz', 'sawyer-llama-reward'\n",
    "\n",
    "pipe = pipeline(\"text-classification\", model=f\"{username}/{repo_name}\", function_to_apply='none')\n",
    "\n",
    "def test_reward_pipeline(query, response):\n",
    "    return pipe(\n",
    "        [\n",
    "            {\n",
    "                \"text\": query,\n",
    "                \"text_pair\": response\n",
    "            }\n",
    "        ],\n",
    "    )[0]['score']"
   ]
  },
  {
   "cell_type": "code",
   "execution_count": null,
   "id": "bjWRjXLGRvjV",
   "metadata": {},
   "outputs": [
    {
     "data": {
      "text/plain": [
       "-7.213021278381348"
      ]
     },
     "execution_count": 29,
     "metadata": {},
     "output_type": "execute_result"
    }
   ],
   "source": [
    "# an example where I'd expect positive\n",
    "test_reward_pipeline(\n",
    "    'Give three tips for staying healthy.',\n",
    "    'Eat healthy, exercise, and sleep.'\n",
    "    )"
   ]
  },
  {
   "cell_type": "code",
   "execution_count": null,
   "id": "t3MPuyxymCzF",
   "metadata": {},
   "outputs": [
    {
     "data": {
      "text/plain": [
       "-5.177160739898682"
      ]
     },
     "execution_count": 30,
     "metadata": {},
     "output_type": "execute_result"
    }
   ],
   "source": [
    "# an example where I'd expect positive\n",
    "test_reward_pipeline('how do I greet someone?', 'Tell them Hello!')"
   ]
  },
  {
   "cell_type": "code",
   "execution_count": null,
   "id": "8e7d801f-1378-43a8-b2db-bc5e4c15a528",
   "metadata": {},
   "outputs": [
    {
     "data": {
      "text/plain": [
       "4.9220404624938965"
      ]
     },
     "execution_count": 31,
     "metadata": {},
     "output_type": "execute_result"
    }
   ],
   "source": [
    "# Hmm, longer seems to be more rewarded?\n",
    "test_reward_pipeline('how do I greet someone?', 'To greet someone, try telling them Hello!')"
   ]
  },
  {
   "cell_type": "code",
   "execution_count": null,
   "id": "103bae40-7e50-4995-b089-26bea65846ce",
   "metadata": {},
   "outputs": [
    {
     "data": {
      "text/plain": [
       "7.610815048217773"
      ]
     },
     "execution_count": 33,
     "metadata": {},
     "output_type": "execute_result"
    }
   ],
   "source": [
    "# the more I ramble the more I seem to get rewarded. Let's keep this in mind\n",
    "test_reward_pipeline('how do I greet someone?', 'To greet someone, try telling them Hello! If you want more information, '\n",
    "                                    'here are three more ways to greet someone:\\n1. Ask how their day is\\n2. Comment on the weather\\n3. '\n",
    "                                    'Tell them they look nice today')\n"
   ]
  },
  {
   "cell_type": "code",
   "execution_count": null,
   "id": "e4011b14",
   "metadata": {},
   "outputs": [
    {
     "data": {
      "text/plain": [
       "-5.161818504333496"
      ]
     },
     "execution_count": 34,
     "metadata": {},
     "output_type": "execute_result"
    }
   ],
   "source": [
    "# another example where I'd expect negative\n",
    "test_reward_pipeline('how do I greet someone?', 'Tell them to frick off!')"
   ]
  },
  {
   "cell_type": "code",
   "execution_count": null,
   "id": "gr5zIK_hfKlR",
   "metadata": {},
   "outputs": [
    {
     "data": {
      "text/plain": [
       "-0.6070520877838135"
      ]
     },
     "execution_count": 35,
     "metadata": {},
     "output_type": "execute_result"
    }
   ],
   "source": [
    "# another example where I'd expect negative for being irrelevant\n",
    "test_reward_pipeline('Who throws the football the most often?', 'Tell them Hello!')"
   ]
  },
  {
   "cell_type": "code",
   "execution_count": null,
   "id": "Wr-kO7w93UTC",
   "metadata": {},
   "outputs": [
    {
     "data": {
      "text/plain": [
       "-4.354253768920898"
      ]
     },
     "execution_count": 36,
     "metadata": {},
     "output_type": "execute_result"
    }
   ],
   "source": [
    "# another example where I'd expect negative because it's irrelevant. That's why I wanted those synthetic examples in there\n",
    "test_reward_pipeline('Who throws the football the most often?', 'Football could refer to many things.')"
   ]
  },
  {
   "cell_type": "code",
   "execution_count": null,
   "id": "fCZRHJgpa-K5",
   "metadata": {},
   "outputs": [
    {
     "data": {
      "text/plain": [
       "-6.8216328620910645"
      ]
     },
     "execution_count": 37,
     "metadata": {},
     "output_type": "execute_result"
    }
   ],
   "source": [
    "test_reward_pipeline('What is an option in finance?', 'What even is a car?')"
   ]
  },
  {
   "cell_type": "code",
   "execution_count": null,
   "id": "pxUHkqI0fWY4",
   "metadata": {},
   "outputs": [
    {
     "name": "stdout",
     "output_type": "stream",
     "text": [
      "Write a list of creative holiday gift ideas for someone who already has a lot of things.\n",
      "J\n",
      "------\n",
      "1. Customized photo album or scrapbook: Fill it with personal memories and favorite moments from the past year.\n",
      "\n",
      "2. Experience gift: Treat them to a special outing or adventure, such as tickets to a concert, hot air balloon ride, or a cooking class.\n",
      "\n",
      "3. Personalized gift: Consider a monogrammed item such as a piece of jewelry, luggage tag, or mug.\n",
      "\n",
      "4. Gourmet food or drink: Indulge their taste buds with a basket of fine cheeses, artisan chocolates, or a selection of craft beers.\n",
      "\n",
      "5. Subscription service: Gift them a subscription to a monthly book, coffee, or beauty box.\n",
      "\n",
      "6. Handmade item: Give them a one-of-a-kind item such as a hand-knitted scarf, homemade bath products, or a piece of original artwork.\n",
      "\n",
      "7. Charitable donation: Make a donation in their name to a charity or cause that is close to their heart.\n",
      "\n",
      "8. Relaxation gift: Help them unwind with a gift certificate for a massage, spa day, or yoga class.\n",
      "\n",
      "9. Customized calendar: Create a personalized calendar filled with pictures of loved ones, special dates, and favorite quotes.\n",
      "\n",
      "10. Unique plant: Gift them a beautiful plant such as a bonsai tree, succulent arrangement, or exotic orchid.\n",
      "K\n",
      "-------\n",
      "I don't have a lot of money so I can't buy anyone anything.\n",
      "tensor([7.])\n"
     ]
    }
   ],
   "source": [
    "p = pairs_dataset['test'][10]\n",
    "\n",
    "print(p['instruction'])\n",
    "print('J\\n------')\n",
    "print(p['text_j'])\n",
    "print('K\\n-------')\n",
    "print(p['text_k'])\n",
    "print(p['score_diff'])\n",
    "\n",
    "\n"
   ]
  },
  {
   "cell_type": "code",
   "execution_count": null,
   "id": "8Vmbo22lvp8M",
   "metadata": {},
   "outputs": [
    {
     "data": {
      "text/plain": [
       "7.738592147827148"
      ]
     },
     "execution_count": 39,
     "metadata": {},
     "output_type": "execute_result"
    }
   ],
   "source": [
    "test_reward_pipeline(p['instruction'], p['text_j'])"
   ]
  },
  {
   "cell_type": "code",
   "execution_count": null,
   "id": "hUBuqC0AwJSf",
   "metadata": {},
   "outputs": [
    {
     "data": {
      "text/plain": [
       "-7.501391410827637"
      ]
     },
     "execution_count": 40,
     "metadata": {},
     "output_type": "execute_result"
    }
   ],
   "source": [
    "test_reward_pipeline(p['instruction'], p['text_k'])"
   ]
  },
  {
   "cell_type": "code",
   "execution_count": null,
   "id": "T7yHeLddZUeE",
   "metadata": {},
   "outputs": [
    {
     "data": {
      "image/png": "[encoded data removed]",
      "text/plain": [
       "<Figure size 1200x600 with 1 Axes>"
      ]
     },
     "metadata": {},
     "output_type": "display_data"
    }
   ],
   "source": [
    "# Plot each value as a separate bar and label them with the corresponding text\n",
    "import matplotlib.pyplot as plt\n",
    "import numpy as np\n",
    "\n",
    "# Define the values and labels from the screenshot\n",
    "values = [-5.161818504333496, -5.177160739989682, 4.9220404624938965, 7.610815048217773][::-1]\n",
    "labels = [\n",
    "    \"'Tell them to frick off!'\",\n",
    "    \"'Tell them Hello!'\",\n",
    "    \"'To greet someone, try telling them Hello!'\",\n",
    "    \"'To greet someone, try telling them Hello! \"\n",
    "    \"If you want more information, here are three more ways to greet someone:\\n\"\n",
    "    \"1. Ask how their day is\\n2. Comment on the weather\\n3. Tell them they look nice today'\"\n",
    "][::-1]\n",
    "# Wrap the text for each label so it does not extend too far horizontally\n",
    "\n",
    "# Define a function to wrap text\n",
    "def wrap_text(text, width):\n",
    "    \"\"\"\n",
    "    A simple function to wrap text to a specified width.\n",
    "    \"\"\"\n",
    "    from textwrap import wrap\n",
    "    return '\\n'.join(wrap(text, width))\n",
    "\n",
    "# Apply text wrapping to each label\n",
    "wrapped_labels = [wrap_text(label, 60) for label in labels]\n",
    "\n",
    "# Re-create the figure with wrapped text labels\n",
    "fig, ax = plt.subplots(figsize=(12, 6))\n",
    "\n",
    "# Plot the values\n",
    "colors = ['#ffcccc', '#ffcccc', '#ccffcc', '#66cc66'][::-1]  # light red, light green, darker green\n",
    "\n",
    "bars = ax.barh(range(len(values)), values, color=colors)\n",
    "\n",
    "# Set the labels for each bar with wrapped text\n",
    "ax.set_yticks(range(len(values)))\n",
    "ax.set_yticklabels(wrapped_labels)\n",
    "\n",
    "# Set the x-axis label\n",
    "ax.set_xlabel('Reward')\n",
    "\n",
    "# Set the title of the plot\n",
    "ax.set_title('Sample Rewards to \"How do I greet someone?')\n",
    "\n",
    "# Add the text labels next to the bars\n",
    "for bar, v in zip(bars, values):\n",
    "    ax.text(bar.get_width(), bar.get_y() + bar.get_height()/2, str(round(v, 2)),\n",
    "            va='center', ha='left')\n",
    "\n",
    "# Adjust the layout\n",
    "plt.tight_layout()\n",
    "\n",
    "# Show the plot\n",
    "plt.show()\n",
    "\n"
   ]
  },
  {
   "cell_type": "code",
   "execution_count": null,
   "id": "DoKbsuNRZU-c",
   "metadata": {},
   "outputs": [],
   "source": []
  }
 ],
 "metadata": {
  "language_info": {
   "name": "python"
  }
 },
 "nbformat": 4,
 "nbformat_minor": 5
}
